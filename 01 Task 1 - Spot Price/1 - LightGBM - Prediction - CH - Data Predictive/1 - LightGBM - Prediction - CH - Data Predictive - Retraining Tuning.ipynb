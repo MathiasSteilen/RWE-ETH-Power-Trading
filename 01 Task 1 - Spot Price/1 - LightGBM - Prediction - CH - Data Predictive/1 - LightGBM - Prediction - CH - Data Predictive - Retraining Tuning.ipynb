{
 "cells": [
  {
   "cell_type": "code",
   "execution_count": null,
   "metadata": {},
   "outputs": [
    {
     "name": "stdout",
     "output_type": "stream",
     "text": [
      "The blackcellmagic extension is already loaded. To reload it, use:\n",
      "  %reload_ext blackcellmagic\n"
     ]
    }
   ],
   "source": [
    "import pandas as pd\n",
    "import polars as pl\n",
    "import plotnine as pn\n",
    "import numpy as np\n",
    "from tqdm.notebook import tqdm\n",
    "\n",
    "import lightgbm as lgb\n",
    "from sklearn.linear_model import Lasso, ElasticNet, Ridge\n",
    "from sklearn.model_selection import TimeSeriesSplit\n",
    "from sklearn.impute import SimpleImputer\n",
    "from sklearn.experimental import enable_iterative_imputer\n",
    "from sklearn.impute import IterativeImputer, KNNImputer\n",
    "from sklearn.pipeline import FeatureUnion, make_pipeline, Pipeline\n",
    "from sklearn.compose import ColumnTransformer, make_column_selector\n",
    "from sklearn.preprocessing import (\n",
    "    LabelEncoder,\n",
    "    StandardScaler,\n",
    "    OneHotEncoder,\n",
    "    FunctionTransformer,\n",
    ")\n",
    "from sklearn.metrics import r2_score, mean_absolute_error, mean_absolute_percentage_error, mean_squared_error, root_mean_squared_error\n",
    "from sklearn.base import BaseEstimator, TransformerMixin\n",
    "from sklearn import config_context\n",
    "import optuna\n",
    "from optuna.visualization import plot_optimization_history, plot_param_importances, plot_parallel_coordinate\n",
    "import os\n",
    "import holidays\n",
    "\n",
    "%load_ext blackcellmagic"
   ]
  },
  {
   "cell_type": "markdown",
   "metadata": {},
   "source": [
    "### Data Preparation\n",
    "\n",
    "Focus on CH spot price first"
   ]
  },
  {
   "cell_type": "code",
   "execution_count": null,
   "metadata": {},
   "outputs": [
    {
     "data": {
      "text/html": [
       "<div>\n",
       "<style scoped>\n",
       "    .dataframe tbody tr th:only-of-type {\n",
       "        vertical-align: middle;\n",
       "    }\n",
       "\n",
       "    .dataframe tbody tr th {\n",
       "        vertical-align: top;\n",
       "    }\n",
       "\n",
       "    .dataframe thead th {\n",
       "        text-align: right;\n",
       "    }\n",
       "</style>\n",
       "<table border=\"1\" class=\"dataframe\">\n",
       "  <thead>\n",
       "    <tr style=\"text-align: right;\">\n",
       "      <th></th>\n",
       "      <th>date</th>\n",
       "      <th>auction_price_ch_de</th>\n",
       "      <th>auction_price_de_ch</th>\n",
       "      <th>dst</th>\n",
       "      <th>day_ahead_price_at</th>\n",
       "      <th>day_ahead_price_ch</th>\n",
       "      <th>day_ahead_price_de</th>\n",
       "      <th>day_ahead_price_fr</th>\n",
       "      <th>day_ahead_price_it</th>\n",
       "      <th>actual_load_at</th>\n",
       "      <th>...</th>\n",
       "      <th>wind_offshore_actual_aggregated_it</th>\n",
       "      <th>wind_offshore_forecast_de</th>\n",
       "      <th>wind_onshore_actual_aggregated_at</th>\n",
       "      <th>wind_onshore_actual_aggregated_de</th>\n",
       "      <th>wind_onshore_actual_aggregated_fr</th>\n",
       "      <th>wind_onshore_actual_aggregated_it</th>\n",
       "      <th>wind_onshore_ch</th>\n",
       "      <th>wind_onshore_forecast_at</th>\n",
       "      <th>wind_onshore_forecast_de</th>\n",
       "      <th>wind_onshore_forecast_fr</th>\n",
       "    </tr>\n",
       "  </thead>\n",
       "  <tbody>\n",
       "    <tr>\n",
       "      <th>0</th>\n",
       "      <td>2023-01-01 00:00:00+00:00</td>\n",
       "      <td>0.01</td>\n",
       "      <td>6.09</td>\n",
       "      <td>1</td>\n",
       "      <td>NaN</td>\n",
       "      <td>-7.25</td>\n",
       "      <td>-1.07</td>\n",
       "      <td>NaN</td>\n",
       "      <td>NaN</td>\n",
       "      <td>NaN</td>\n",
       "      <td>...</td>\n",
       "      <td>NaN</td>\n",
       "      <td>3390.25</td>\n",
       "      <td>NaN</td>\n",
       "      <td>NaN</td>\n",
       "      <td>NaN</td>\n",
       "      <td>NaN</td>\n",
       "      <td>NaN</td>\n",
       "      <td>1174.0</td>\n",
       "      <td>35415.50</td>\n",
       "      <td>13933.0</td>\n",
       "    </tr>\n",
       "    <tr>\n",
       "      <th>1</th>\n",
       "      <td>2023-01-01 01:00:00+00:00</td>\n",
       "      <td>0.01</td>\n",
       "      <td>5.50</td>\n",
       "      <td>1</td>\n",
       "      <td>NaN</td>\n",
       "      <td>-3.99</td>\n",
       "      <td>-1.47</td>\n",
       "      <td>NaN</td>\n",
       "      <td>NaN</td>\n",
       "      <td>NaN</td>\n",
       "      <td>...</td>\n",
       "      <td>NaN</td>\n",
       "      <td>3395.50</td>\n",
       "      <td>NaN</td>\n",
       "      <td>NaN</td>\n",
       "      <td>NaN</td>\n",
       "      <td>NaN</td>\n",
       "      <td>NaN</td>\n",
       "      <td>1194.0</td>\n",
       "      <td>35146.75</td>\n",
       "      <td>13583.0</td>\n",
       "    </tr>\n",
       "    <tr>\n",
       "      <th>2</th>\n",
       "      <td>2023-01-01 02:00:00+00:00</td>\n",
       "      <td>0.01</td>\n",
       "      <td>6.45</td>\n",
       "      <td>1</td>\n",
       "      <td>NaN</td>\n",
       "      <td>-7.71</td>\n",
       "      <td>-5.08</td>\n",
       "      <td>NaN</td>\n",
       "      <td>NaN</td>\n",
       "      <td>NaN</td>\n",
       "      <td>...</td>\n",
       "      <td>NaN</td>\n",
       "      <td>3410.25</td>\n",
       "      <td>NaN</td>\n",
       "      <td>NaN</td>\n",
       "      <td>NaN</td>\n",
       "      <td>NaN</td>\n",
       "      <td>NaN</td>\n",
       "      <td>1085.0</td>\n",
       "      <td>34449.00</td>\n",
       "      <td>13230.0</td>\n",
       "    </tr>\n",
       "    <tr>\n",
       "      <th>3</th>\n",
       "      <td>2023-01-01 03:00:00+00:00</td>\n",
       "      <td>0.01</td>\n",
       "      <td>9.08</td>\n",
       "      <td>1</td>\n",
       "      <td>NaN</td>\n",
       "      <td>-9.71</td>\n",
       "      <td>-4.49</td>\n",
       "      <td>NaN</td>\n",
       "      <td>NaN</td>\n",
       "      <td>NaN</td>\n",
       "      <td>...</td>\n",
       "      <td>NaN</td>\n",
       "      <td>3431.25</td>\n",
       "      <td>NaN</td>\n",
       "      <td>NaN</td>\n",
       "      <td>NaN</td>\n",
       "      <td>NaN</td>\n",
       "      <td>NaN</td>\n",
       "      <td>897.0</td>\n",
       "      <td>33905.25</td>\n",
       "      <td>12877.0</td>\n",
       "    </tr>\n",
       "    <tr>\n",
       "      <th>4</th>\n",
       "      <td>2023-01-01 04:00:00+00:00</td>\n",
       "      <td>0.01</td>\n",
       "      <td>13.33</td>\n",
       "      <td>1</td>\n",
       "      <td>NaN</td>\n",
       "      <td>-15.15</td>\n",
       "      <td>-5.40</td>\n",
       "      <td>NaN</td>\n",
       "      <td>NaN</td>\n",
       "      <td>NaN</td>\n",
       "      <td>...</td>\n",
       "      <td>NaN</td>\n",
       "      <td>3454.25</td>\n",
       "      <td>NaN</td>\n",
       "      <td>NaN</td>\n",
       "      <td>NaN</td>\n",
       "      <td>NaN</td>\n",
       "      <td>NaN</td>\n",
       "      <td>697.0</td>\n",
       "      <td>33362.75</td>\n",
       "      <td>12311.0</td>\n",
       "    </tr>\n",
       "  </tbody>\n",
       "</table>\n",
       "<p>5 rows × 104 columns</p>\n",
       "</div>"
      ],
      "text/plain": [
       "                       date  auction_price_ch_de  auction_price_de_ch  dst  \\\n",
       "0 2023-01-01 00:00:00+00:00                 0.01                 6.09    1   \n",
       "1 2023-01-01 01:00:00+00:00                 0.01                 5.50    1   \n",
       "2 2023-01-01 02:00:00+00:00                 0.01                 6.45    1   \n",
       "3 2023-01-01 03:00:00+00:00                 0.01                 9.08    1   \n",
       "4 2023-01-01 04:00:00+00:00                 0.01                13.33    1   \n",
       "\n",
       "   day_ahead_price_at  day_ahead_price_ch  day_ahead_price_de  \\\n",
       "0                 NaN               -7.25               -1.07   \n",
       "1                 NaN               -3.99               -1.47   \n",
       "2                 NaN               -7.71               -5.08   \n",
       "3                 NaN               -9.71               -4.49   \n",
       "4                 NaN              -15.15               -5.40   \n",
       "\n",
       "   day_ahead_price_fr  day_ahead_price_it  actual_load_at  ...  \\\n",
       "0                 NaN                 NaN             NaN  ...   \n",
       "1                 NaN                 NaN             NaN  ...   \n",
       "2                 NaN                 NaN             NaN  ...   \n",
       "3                 NaN                 NaN             NaN  ...   \n",
       "4                 NaN                 NaN             NaN  ...   \n",
       "\n",
       "   wind_offshore_actual_aggregated_it  wind_offshore_forecast_de  \\\n",
       "0                                 NaN                    3390.25   \n",
       "1                                 NaN                    3395.50   \n",
       "2                                 NaN                    3410.25   \n",
       "3                                 NaN                    3431.25   \n",
       "4                                 NaN                    3454.25   \n",
       "\n",
       "   wind_onshore_actual_aggregated_at  wind_onshore_actual_aggregated_de  \\\n",
       "0                                NaN                                NaN   \n",
       "1                                NaN                                NaN   \n",
       "2                                NaN                                NaN   \n",
       "3                                NaN                                NaN   \n",
       "4                                NaN                                NaN   \n",
       "\n",
       "   wind_onshore_actual_aggregated_fr  wind_onshore_actual_aggregated_it  \\\n",
       "0                                NaN                                NaN   \n",
       "1                                NaN                                NaN   \n",
       "2                                NaN                                NaN   \n",
       "3                                NaN                                NaN   \n",
       "4                                NaN                                NaN   \n",
       "\n",
       "   wind_onshore_ch  wind_onshore_forecast_at  wind_onshore_forecast_de  \\\n",
       "0              NaN                    1174.0                  35415.50   \n",
       "1              NaN                    1194.0                  35146.75   \n",
       "2              NaN                    1085.0                  34449.00   \n",
       "3              NaN                     897.0                  33905.25   \n",
       "4              NaN                     697.0                  33362.75   \n",
       "\n",
       "   wind_onshore_forecast_fr  \n",
       "0                   13933.0  \n",
       "1                   13583.0  \n",
       "2                   13230.0  \n",
       "3                   12877.0  \n",
       "4                   12311.0  \n",
       "\n",
       "[5 rows x 104 columns]"
      ]
     },
     "execution_count": 142,
     "metadata": {},
     "output_type": "execute_result"
    }
   ],
   "source": [
    "df = pd.read_csv(\n",
    "    \"../../00 Data Retrieval and Cleaning/0_df_final_ml_predictive.csv\",\n",
    "    parse_dates=[\"date\"],\n",
    ")\n",
    "df.head()"
   ]
  },
  {
   "cell_type": "markdown",
   "metadata": {},
   "source": [
    "Need to lag the other three target variables by 24 hours, haven't done that yet:"
   ]
  },
  {
   "cell_type": "code",
   "execution_count": null,
   "metadata": {},
   "outputs": [],
   "source": [
    "df = (\n",
    "    df\n",
    "    .assign(\n",
    "        day_ahead_price_de=lambda x: x[\"day_ahead_price_de\"].shift(24),\n",
    "        auction_price_de_ch=lambda x: x[\"auction_price_de_ch\"].shift(24),\n",
    "        auction_price_ch_de=lambda x: x[\"auction_price_ch_de\"].shift(24),\n",
    "    )\n",
    ")"
   ]
  },
  {
   "cell_type": "code",
   "execution_count": null,
   "metadata": {},
   "outputs": [],
   "source": [
    "df = df.drop(\n",
    "    columns=df.isna().mean().reset_index(name=\"missing\").query(\"missing > 0.2\")[\"index\"]\n",
    ")"
   ]
  },
  {
   "cell_type": "markdown",
   "metadata": {},
   "source": [
    "### Include target lags\n",
    "\n",
    "- latest available price (last price of previous day)\n",
    "- last two week prices at exact hour (14 additional cols)"
   ]
  },
  {
   "cell_type": "code",
   "execution_count": null,
   "metadata": {},
   "outputs": [],
   "source": [
    "# Adding last available price from previous day\n",
    "df = df.assign(\n",
    "    day=lambda x: x.date.dt.date,\n",
    "    day_ahead_price_ch_last=lambda x: x.groupby(\"day\")[\"day_ahead_price_ch\"].transform(\"last\").shift(24),\n",
    ")"
   ]
  },
  {
   "cell_type": "code",
   "execution_count": null,
   "metadata": {},
   "outputs": [
    {
     "name": "stdout",
     "output_type": "stream",
     "text": [
      "[24, 25, 26, 27, 28, 29, 30, 31, 32, 33, 34, 35, 36, 37, 38, 39, 40, 41, 42, 43, 44, 45, 46, 47, 48, 72, 96, 120, 144, 168, 192, 216, 240, 264, 288, 312, 336]\n"
     ]
    }
   ],
   "source": [
    "# Adding lags in 24h steps for the last two weeks\n",
    "lags = np.arange(24, 49).tolist() + (np.arange(3, 15) * 24).tolist()\n",
    "print(lags)\n",
    "for i in lags:\n",
    "    df[f\"day_ahead_price_ch_lag_{i}\"] = df[\"day_ahead_price_ch\"].shift(i)"
   ]
  },
  {
   "cell_type": "code",
   "execution_count": null,
   "metadata": {},
   "outputs": [
    {
     "name": "stdout",
     "output_type": "stream",
     "text": [
      "<class 'pandas.core.frame.DataFrame'>\n",
      "RangeIndex: 9501 entries, 0 to 9500\n",
      "Data columns (total 39 columns):\n",
      " #   Column                      Non-Null Count  Dtype  \n",
      "---  ------                      --------------  -----  \n",
      " 0   day_ahead_price_ch          9501 non-null   float64\n",
      " 1   day_ahead_price_ch_last     9477 non-null   float64\n",
      " 2   day_ahead_price_ch_lag_24   9477 non-null   float64\n",
      " 3   day_ahead_price_ch_lag_25   9476 non-null   float64\n",
      " 4   day_ahead_price_ch_lag_26   9475 non-null   float64\n",
      " 5   day_ahead_price_ch_lag_27   9474 non-null   float64\n",
      " 6   day_ahead_price_ch_lag_28   9473 non-null   float64\n",
      " 7   day_ahead_price_ch_lag_29   9472 non-null   float64\n",
      " 8   day_ahead_price_ch_lag_30   9471 non-null   float64\n",
      " 9   day_ahead_price_ch_lag_31   9470 non-null   float64\n",
      " 10  day_ahead_price_ch_lag_32   9469 non-null   float64\n",
      " 11  day_ahead_price_ch_lag_33   9468 non-null   float64\n",
      " 12  day_ahead_price_ch_lag_34   9467 non-null   float64\n",
      " 13  day_ahead_price_ch_lag_35   9466 non-null   float64\n",
      " 14  day_ahead_price_ch_lag_36   9465 non-null   float64\n",
      " 15  day_ahead_price_ch_lag_37   9464 non-null   float64\n",
      " 16  day_ahead_price_ch_lag_38   9463 non-null   float64\n",
      " 17  day_ahead_price_ch_lag_39   9462 non-null   float64\n",
      " 18  day_ahead_price_ch_lag_40   9461 non-null   float64\n",
      " 19  day_ahead_price_ch_lag_41   9460 non-null   float64\n",
      " 20  day_ahead_price_ch_lag_42   9459 non-null   float64\n",
      " 21  day_ahead_price_ch_lag_43   9458 non-null   float64\n",
      " 22  day_ahead_price_ch_lag_44   9457 non-null   float64\n",
      " 23  day_ahead_price_ch_lag_45   9456 non-null   float64\n",
      " 24  day_ahead_price_ch_lag_46   9455 non-null   float64\n",
      " 25  day_ahead_price_ch_lag_47   9454 non-null   float64\n",
      " 26  day_ahead_price_ch_lag_48   9453 non-null   float64\n",
      " 27  day_ahead_price_ch_lag_72   9429 non-null   float64\n",
      " 28  day_ahead_price_ch_lag_96   9405 non-null   float64\n",
      " 29  day_ahead_price_ch_lag_120  9381 non-null   float64\n",
      " 30  day_ahead_price_ch_lag_144  9357 non-null   float64\n",
      " 31  day_ahead_price_ch_lag_168  9333 non-null   float64\n",
      " 32  day_ahead_price_ch_lag_192  9309 non-null   float64\n",
      " 33  day_ahead_price_ch_lag_216  9285 non-null   float64\n",
      " 34  day_ahead_price_ch_lag_240  9261 non-null   float64\n",
      " 35  day_ahead_price_ch_lag_264  9237 non-null   float64\n",
      " 36  day_ahead_price_ch_lag_288  9213 non-null   float64\n",
      " 37  day_ahead_price_ch_lag_312  9189 non-null   float64\n",
      " 38  day_ahead_price_ch_lag_336  9165 non-null   float64\n",
      "dtypes: float64(39)\n",
      "memory usage: 2.8 MB\n"
     ]
    }
   ],
   "source": [
    "df.filter(regex=\"day_ahead_price_ch\").info()"
   ]
  },
  {
   "cell_type": "markdown",
   "metadata": {},
   "source": [
    "### Additional Feature Generation\n",
    "\n",
    "- There might be a benefit of encoding cyclical calendar information\n",
    "- Additionally: Holidays"
   ]
  },
  {
   "cell_type": "markdown",
   "metadata": {},
   "source": [
    "Include a trend column:"
   ]
  },
  {
   "cell_type": "code",
   "execution_count": null,
   "metadata": {},
   "outputs": [],
   "source": [
    "df = df.assign(trend=lambda x: x.index)"
   ]
  },
  {
   "cell_type": "code",
   "execution_count": null,
   "metadata": {},
   "outputs": [],
   "source": [
    "# Define the country (Switzerland)\n",
    "country = \"CH\"\n",
    "\n",
    "regional_holidays = holidays.CH(\n",
    "    years=df.date.dt.year.unique().tolist()\n",
    ")"
   ]
  },
  {
   "cell_type": "code",
   "execution_count": null,
   "metadata": {},
   "outputs": [
    {
     "data": {
      "text/html": [
       "<div>\n",
       "<style scoped>\n",
       "    .dataframe tbody tr th:only-of-type {\n",
       "        vertical-align: middle;\n",
       "    }\n",
       "\n",
       "    .dataframe tbody tr th {\n",
       "        vertical-align: top;\n",
       "    }\n",
       "\n",
       "    .dataframe thead th {\n",
       "        text-align: right;\n",
       "    }\n",
       "</style>\n",
       "<table border=\"1\" class=\"dataframe\">\n",
       "  <thead>\n",
       "    <tr style=\"text-align: right;\">\n",
       "      <th></th>\n",
       "      <th>holiday_name</th>\n",
       "      <th>holiday_date</th>\n",
       "    </tr>\n",
       "  </thead>\n",
       "  <tbody>\n",
       "    <tr>\n",
       "      <th>4</th>\n",
       "      <td>Neujahrestag</td>\n",
       "      <td>2023-01-01</td>\n",
       "    </tr>\n",
       "    <tr>\n",
       "      <th>5</th>\n",
       "      <td>Auffahrt</td>\n",
       "      <td>2023-05-18</td>\n",
       "    </tr>\n",
       "    <tr>\n",
       "      <th>6</th>\n",
       "      <td>Nationalfeiertag</td>\n",
       "      <td>2023-08-01</td>\n",
       "    </tr>\n",
       "    <tr>\n",
       "      <th>7</th>\n",
       "      <td>Weihnachten</td>\n",
       "      <td>2023-12-25</td>\n",
       "    </tr>\n",
       "    <tr>\n",
       "      <th>0</th>\n",
       "      <td>Neujahrestag</td>\n",
       "      <td>2024-01-01</td>\n",
       "    </tr>\n",
       "  </tbody>\n",
       "</table>\n",
       "</div>"
      ],
      "text/plain": [
       "       holiday_name holiday_date\n",
       "4      Neujahrestag   2023-01-01\n",
       "5          Auffahrt   2023-05-18\n",
       "6  Nationalfeiertag   2023-08-01\n",
       "7       Weihnachten   2023-12-25\n",
       "0      Neujahrestag   2024-01-01"
      ]
     },
     "execution_count": 150,
     "metadata": {},
     "output_type": "execute_result"
    }
   ],
   "source": [
    "holiday_df = pd.DataFrame(\n",
    "    {\n",
    "        \"holiday_name\": list(regional_holidays.values()),\n",
    "        \"holiday_date\": list(regional_holidays.keys()),\n",
    "    }\n",
    ")\n",
    "\n",
    "holiday_df.sort_values(\"holiday_date\").head()"
   ]
  },
  {
   "cell_type": "code",
   "execution_count": null,
   "metadata": {},
   "outputs": [
    {
     "data": {
      "text/plain": [
       "holiday_name\n",
       "Auffahrt            2\n",
       "Nationalfeiertag    2\n",
       "Neujahrestag        2\n",
       "Weihnachten         2\n",
       "Name: count, dtype: int64"
      ]
     },
     "execution_count": 151,
     "metadata": {},
     "output_type": "execute_result"
    }
   ],
   "source": [
    "holiday_df.value_counts(\"holiday_name\")"
   ]
  },
  {
   "cell_type": "code",
   "execution_count": null,
   "metadata": {},
   "outputs": [],
   "source": [
    "df = (\n",
    "    df.assign(\n",
    "        hour=lambda x: x.date.dt.hour + 1,\n",
    "        month=lambda x: x.date.dt.month,\n",
    "        quarter=lambda x: x.date.dt.quarter,\n",
    "        wday=lambda x: x.date.dt.day_of_week + 1,\n",
    "        weekend=lambda x: np.where(\n",
    "            x.date.dt.day_name().isin([\"Sunday\", \"Saturday\"]), 1, 0\n",
    "        ),\n",
    "        work_hour=lambda x: np.where(\n",
    "            x[\"hour\"].isin(np.arange(17, 24).tolist() + np.arange(1, 5).tolist()), 0, 1\n",
    "        ),\n",
    "        week_hour=lambda x: x.date.dt.dayofweek * 24 + (x.date.dt.hour + 1),\n",
    "        year=lambda x: x.date.dt.year,\n",
    "        hour_counter=lambda x: np.arange(0, x.shape[0]),\n",
    "    )\n",
    "    .assign(day=lambda x: x.date.dt.date)\n",
    "    .merge(holiday_df, how=\"left\", left_on=\"day\", right_on=\"holiday_date\")\n",
    "    .drop([\"holiday_date\", \"day\"], axis=1)\n",
    "    .assign(\n",
    "        holiday_name=lambda x: np.where(\n",
    "            x[\"holiday_name\"].isna(), \"none\", x[\"holiday_name\"]\n",
    "        )\n",
    "    )\n",
    ")"
   ]
  },
  {
   "cell_type": "code",
   "execution_count": null,
   "metadata": {},
   "outputs": [
    {
     "data": {
      "text/plain": [
       "holiday_name\n",
       "none                9381\n",
       "Neujahrestag          48\n",
       "Auffahrt              24\n",
       "Nationalfeiertag      24\n",
       "Weihnachten           24\n",
       "Name: count, dtype: int64"
      ]
     },
     "execution_count": 153,
     "metadata": {},
     "output_type": "execute_result"
    }
   ],
   "source": [
    "df.value_counts(\"holiday_name\")"
   ]
  },
  {
   "cell_type": "markdown",
   "metadata": {},
   "source": [
    "### Feature Engineering"
   ]
  },
  {
   "cell_type": "markdown",
   "metadata": {},
   "source": [
    "Other:\n",
    "- `date`: drop, can't feed into net\n",
    "\n",
    "Numerical:\n",
    "- everything but `holiday_name`\n",
    "\n",
    "Categorical\n",
    "- `holiday_name`: one-hot encode"
   ]
  },
  {
   "cell_type": "markdown",
   "metadata": {},
   "source": [
    "#### Cyclical Encoding"
   ]
  },
  {
   "cell_type": "markdown",
   "metadata": {},
   "source": [
    "- avoid issue with exploding feature space when one-hot encoding hundreds of levels in categorical vars\n",
    "- puts end of cycle closer to beginning (End of Year is not that different from BOY)"
   ]
  },
  {
   "cell_type": "code",
   "execution_count": null,
   "metadata": {},
   "outputs": [],
   "source": [
    "def sin_transformer(period):\n",
    "    return FunctionTransformer(lambda x: np.sin(x / period * 2 * np.pi))\n",
    "\n",
    "\n",
    "def cos_transformer(period):\n",
    "    return FunctionTransformer(lambda x: np.cos(x / period * 2 * np.pi))"
   ]
  },
  {
   "cell_type": "code",
   "execution_count": null,
   "metadata": {},
   "outputs": [],
   "source": [
    "# hour in day\n",
    "df[\"hour_sin\"] = sin_transformer(24).fit_transform(df[\"hour\"].astype(float))\n",
    "df[\"hour_cos\"] = cos_transformer(24).fit_transform(df[\"hour\"].astype(float))\n",
    "\n",
    "# hour in week\n",
    "df[\"week_hour_sin\"] = sin_transformer(168).fit_transform(df[\"week_hour\"].astype(float))\n",
    "df[\"week_hour_cos\"] = cos_transformer(168).fit_transform(df[\"week_hour\"].astype(float))\n",
    "\n",
    "# month\n",
    "df[\"month_sin\"] = sin_transformer(12).fit_transform(df[\"month\"].astype(float))\n",
    "df[\"month_cos\"] = cos_transformer(12).fit_transform(df[\"month\"].astype(float))\n",
    "\n",
    "# quarter\n",
    "df[\"quarter_sin\"] = sin_transformer(4).fit_transform(df[\"quarter\"].astype(float))\n",
    "df[\"quarter_cos\"] = cos_transformer(4).fit_transform(df[\"quarter\"].astype(float))\n",
    "\n",
    "# weekday\n",
    "df[\"wday_sin\"] = sin_transformer(7).fit_transform(df[\"wday\"].astype(float))\n",
    "df[\"wday_cos\"] = cos_transformer(7).fit_transform(df[\"wday\"].astype(float))\n",
    "\n",
    "df = df.drop([\"hour\", \"month\", \"quarter\", \"wday\", \"week_hour\"], axis=1)"
   ]
  },
  {
   "cell_type": "markdown",
   "metadata": {},
   "source": [
    "#### `sklearn` Pipeline for Data Preparation"
   ]
  },
  {
   "cell_type": "code",
   "execution_count": null,
   "metadata": {},
   "outputs": [],
   "source": [
    "manual_cols = [\"trend\", \"unique_id\"]\n",
    "drop_cols = [\"date\", \"day_ahead_price_ch\"]\n",
    "\n",
    "pipeline_cols = [\n",
    "    col\n",
    "    for col in df.drop(drop_cols, axis=1).columns\n",
    "    if col not in manual_cols\n",
    "]\n",
    "\n",
    "num_cols = (\n",
    "    df.drop(drop_cols, axis=1)\n",
    "    .filter(pipeline_cols)\n",
    "    .select_dtypes(include=np.number)\n",
    "    .columns\n",
    ")\n",
    "cat_cols = (\n",
    "    df.drop(drop_cols, axis=1)\n",
    "    .filter(pipeline_cols)\n",
    "    .select_dtypes(exclude=np.number)\n",
    "    .columns\n",
    ")"
   ]
  },
  {
   "cell_type": "code",
   "execution_count": null,
   "metadata": {},
   "outputs": [
    {
     "data": {
      "text/plain": [
       "['auction_price_ch_de',\n",
       " 'auction_price_de_ch',\n",
       " 'dst',\n",
       " 'day_ahead_price_at',\n",
       " 'day_ahead_price_de',\n",
       " 'day_ahead_price_fr',\n",
       " 'day_ahead_price_it',\n",
       " 'actual_load_at',\n",
       " 'actual_load_ch',\n",
       " 'actual_load_de',\n",
       " 'actual_load_fr',\n",
       " 'actual_load_it',\n",
       " 'allocated_capacity_ch_de',\n",
       " 'allocated_capacity_de_ch',\n",
       " 'biomass_actual_aggregated_at',\n",
       " 'biomass_actual_aggregated_de',\n",
       " 'biomass_actual_aggregated_fr',\n",
       " 'biomass_actual_aggregated_it',\n",
       " 'capacity_forecast_at_ch',\n",
       " 'capacity_forecast_ch_at',\n",
       " 'capacity_forecast_ch_de_lu',\n",
       " 'capacity_forecast_ch_fr',\n",
       " 'capacity_forecast_ch_it',\n",
       " 'capacity_forecast_de_lu_ch',\n",
       " 'capacity_forecast_fr_ch',\n",
       " 'capacity_forecast_it_ch',\n",
       " 'crossborder_actual_flow_at_ch',\n",
       " 'crossborder_actual_flow_ch_at',\n",
       " 'crossborder_actual_flow_ch_de_lu',\n",
       " 'crossborder_actual_flow_ch_fr',\n",
       " 'crossborder_actual_flow_ch_it',\n",
       " 'crossborder_actual_flow_de_lu_ch',\n",
       " 'crossborder_actual_flow_fr_ch',\n",
       " 'crossborder_actual_flow_it_ch',\n",
       " 'fossil_brown_coal_lignite_actual_aggregated_de',\n",
       " 'fossil_coal_derived_gas_actual_aggregated_it',\n",
       " 'fossil_gas_actual_aggregated_at',\n",
       " 'fossil_gas_actual_aggregated_de',\n",
       " 'fossil_gas_actual_aggregated_fr',\n",
       " 'fossil_gas_actual_aggregated_it',\n",
       " 'fossil_hard_coal_actual_aggregated_de',\n",
       " 'fossil_hard_coal_actual_aggregated_fr',\n",
       " 'fossil_hard_coal_actual_aggregated_it',\n",
       " 'fossil_oil_actual_aggregated_de',\n",
       " 'fossil_oil_actual_aggregated_fr',\n",
       " 'fossil_oil_actual_aggregated_it',\n",
       " 'geothermal_actual_aggregated_de',\n",
       " 'geothermal_actual_aggregated_it',\n",
       " 'hydro_pumped_storage_actual_aggregated_at',\n",
       " 'hydro_pumped_storage_actual_aggregated_de',\n",
       " 'hydro_pumped_storage_actual_aggregated_fr',\n",
       " 'hydro_pumped_storage_actual_aggregated_it',\n",
       " 'hydro_pumped_storage_actual_consumption_at',\n",
       " 'hydro_pumped_storage_actual_consumption_de',\n",
       " 'hydro_pumped_storage_actual_consumption_fr',\n",
       " 'hydro_pumped_storage_ch',\n",
       " 'hydro_reservoir_storage_at',\n",
       " 'hydro_reservoir_storage_ch',\n",
       " 'hydro_reservoir_storage_fr',\n",
       " 'hydro_reservoir_storage_it',\n",
       " 'hydro_run_of_river_and_poundage_actual_aggregated_at',\n",
       " 'hydro_run_of_river_and_poundage_actual_aggregated_de',\n",
       " 'hydro_run_of_river_and_poundage_actual_aggregated_fr',\n",
       " 'hydro_run_of_river_and_poundage_actual_aggregated_it',\n",
       " 'hydro_run_of_river_and_poundage_ch',\n",
       " 'hydro_water_reservoir_actual_aggregated_at',\n",
       " 'hydro_water_reservoir_actual_aggregated_de',\n",
       " 'hydro_water_reservoir_actual_aggregated_fr',\n",
       " 'hydro_water_reservoir_actual_aggregated_it',\n",
       " 'hydro_water_reservoir_ch',\n",
       " 'nuclear_actual_aggregated_de',\n",
       " 'nuclear_actual_aggregated_fr',\n",
       " 'nuclear_ch',\n",
       " 'other_actual_aggregated_de',\n",
       " 'other_actual_aggregated_it',\n",
       " 'other_renewable_actual_aggregated_de',\n",
       " 'solar_actual_aggregated_at',\n",
       " 'solar_actual_aggregated_de',\n",
       " 'solar_actual_aggregated_fr',\n",
       " 'solar_actual_aggregated_it',\n",
       " 'solar_ch',\n",
       " 'solar_forecast_at',\n",
       " 'solar_forecast_ch',\n",
       " 'solar_forecast_de',\n",
       " 'solar_forecast_fr',\n",
       " 'solar_forecast_it',\n",
       " 'waste_actual_aggregated_de',\n",
       " 'waste_actual_aggregated_fr',\n",
       " 'waste_actual_aggregated_it',\n",
       " 'wind_offshore_actual_aggregated_de',\n",
       " 'wind_offshore_actual_aggregated_it',\n",
       " 'wind_offshore_forecast_de',\n",
       " 'wind_onshore_actual_aggregated_at',\n",
       " 'wind_onshore_actual_aggregated_de',\n",
       " 'wind_onshore_actual_aggregated_fr',\n",
       " 'wind_onshore_actual_aggregated_it',\n",
       " 'wind_onshore_ch',\n",
       " 'wind_onshore_forecast_at',\n",
       " 'wind_onshore_forecast_de',\n",
       " 'wind_onshore_forecast_fr',\n",
       " 'day_ahead_price_ch_last',\n",
       " 'day_ahead_price_ch_lag_24',\n",
       " 'day_ahead_price_ch_lag_25',\n",
       " 'day_ahead_price_ch_lag_26',\n",
       " 'day_ahead_price_ch_lag_27',\n",
       " 'day_ahead_price_ch_lag_28',\n",
       " 'day_ahead_price_ch_lag_29',\n",
       " 'day_ahead_price_ch_lag_30',\n",
       " 'day_ahead_price_ch_lag_31',\n",
       " 'day_ahead_price_ch_lag_32',\n",
       " 'day_ahead_price_ch_lag_33',\n",
       " 'day_ahead_price_ch_lag_34',\n",
       " 'day_ahead_price_ch_lag_35',\n",
       " 'day_ahead_price_ch_lag_36',\n",
       " 'day_ahead_price_ch_lag_37',\n",
       " 'day_ahead_price_ch_lag_38',\n",
       " 'day_ahead_price_ch_lag_39',\n",
       " 'day_ahead_price_ch_lag_40',\n",
       " 'day_ahead_price_ch_lag_41',\n",
       " 'day_ahead_price_ch_lag_42',\n",
       " 'day_ahead_price_ch_lag_43',\n",
       " 'day_ahead_price_ch_lag_44',\n",
       " 'day_ahead_price_ch_lag_45',\n",
       " 'day_ahead_price_ch_lag_46',\n",
       " 'day_ahead_price_ch_lag_47',\n",
       " 'day_ahead_price_ch_lag_48',\n",
       " 'day_ahead_price_ch_lag_72',\n",
       " 'day_ahead_price_ch_lag_96',\n",
       " 'day_ahead_price_ch_lag_120',\n",
       " 'day_ahead_price_ch_lag_144',\n",
       " 'day_ahead_price_ch_lag_168',\n",
       " 'day_ahead_price_ch_lag_192',\n",
       " 'day_ahead_price_ch_lag_216',\n",
       " 'day_ahead_price_ch_lag_240',\n",
       " 'day_ahead_price_ch_lag_264',\n",
       " 'day_ahead_price_ch_lag_288',\n",
       " 'day_ahead_price_ch_lag_312',\n",
       " 'day_ahead_price_ch_lag_336',\n",
       " 'weekend',\n",
       " 'work_hour',\n",
       " 'year',\n",
       " 'hour_counter',\n",
       " 'holiday_name',\n",
       " 'hour_sin',\n",
       " 'hour_cos',\n",
       " 'week_hour_sin',\n",
       " 'week_hour_cos',\n",
       " 'month_sin',\n",
       " 'month_cos',\n",
       " 'quarter_sin',\n",
       " 'quarter_cos',\n",
       " 'wday_sin',\n",
       " 'wday_cos']"
      ]
     },
     "execution_count": 157,
     "metadata": {},
     "output_type": "execute_result"
    }
   ],
   "source": [
    "pipeline_cols"
   ]
  },
  {
   "cell_type": "code",
   "execution_count": null,
   "metadata": {},
   "outputs": [
    {
     "data": {
      "text/plain": [
       "Index(['auction_price_ch_de', 'auction_price_de_ch', 'dst',\n",
       "       'day_ahead_price_at', 'day_ahead_price_de', 'day_ahead_price_fr',\n",
       "       'day_ahead_price_it', 'actual_load_at', 'actual_load_ch',\n",
       "       'actual_load_de',\n",
       "       ...\n",
       "       'hour_sin', 'hour_cos', 'week_hour_sin', 'week_hour_cos', 'month_sin',\n",
       "       'month_cos', 'quarter_sin', 'quarter_cos', 'wday_sin', 'wday_cos'],\n",
       "      dtype='object', length=152)"
      ]
     },
     "execution_count": 158,
     "metadata": {},
     "output_type": "execute_result"
    }
   ],
   "source": [
    "num_cols"
   ]
  },
  {
   "cell_type": "code",
   "execution_count": null,
   "metadata": {},
   "outputs": [
    {
     "data": {
      "text/plain": [
       "Index(['holiday_name'], dtype='object')"
      ]
     },
     "execution_count": 159,
     "metadata": {},
     "output_type": "execute_result"
    }
   ],
   "source": [
    "cat_cols"
   ]
  },
  {
   "cell_type": "code",
   "execution_count": null,
   "metadata": {},
   "outputs": [],
   "source": [
    "numeric_transformer = Pipeline(\n",
    "    steps=[\n",
    "        (\"imputer\", SimpleImputer()),\n",
    "        # (\"scaler\", StandardScaler())\n",
    "    ]\n",
    ")\n",
    "\n",
    "categorical_transformer = Pipeline(\n",
    "    steps=[\n",
    "        (\"imputer\", SimpleImputer(strategy=\"most_frequent\")),\n",
    "        (\n",
    "            \"encoder\",\n",
    "            OneHotEncoder(sparse_output=False, handle_unknown=\"ignore\"),\n",
    "        ),\n",
    "    ]\n",
    ")\n",
    "\n",
    "# Making column transformer where all transformers in the pipelines are included\n",
    "preprocessor = ColumnTransformer(\n",
    "    transformers=[\n",
    "        (\"numeric\", numeric_transformer, num_cols),\n",
    "        (\"categorical\", categorical_transformer, cat_cols),\n",
    "    ],\n",
    "    remainder=\"passthrough\",\n",
    ")"
   ]
  },
  {
   "cell_type": "markdown",
   "metadata": {},
   "source": [
    "### Validation set\n",
    "\n",
    "Do the tuning on a validation set in the second quarter of 2023:"
   ]
  },
  {
   "cell_type": "code",
   "execution_count": null,
   "metadata": {},
   "outputs": [],
   "source": [
    "val_start = pd.Timestamp(\"2023-04-01\").tz_localize(\"UTC\")\n",
    "val_end = pd.Timestamp(\"2023-06-30\").tz_localize(\"UTC\")\n",
    "\n",
    "val_days = df.query(\"date >= @val_start & date <= @val_end\").date.dt.date.unique()"
   ]
  },
  {
   "cell_type": "code",
   "execution_count": null,
   "metadata": {},
   "outputs": [
    {
     "data": {
      "application/vnd.jupyter.widget-view+json": {
       "model_id": "20f482ea3568447fab2aa8ec2209ba08",
       "version_major": 2,
       "version_minor": 0
      },
      "text/plain": [
       "  0%|          | 0/91 [00:00<?, ?it/s]"
      ]
     },
     "metadata": {},
     "output_type": "display_data"
    }
   ],
   "source": [
    "lookback_days = 30\n",
    "preds = []\n",
    "\n",
    "num_boost_rounds = 100\n",
    "\n",
    "param = dict(verbose=-1, objective=\"regression\", metric=\"rmse\")\n",
    "\n",
    "for current_day in tqdm(val_days):\n",
    "    train_start_day = current_day - pd.Timedelta(days=lookback_days)\n",
    "    train_end_day = current_day - pd.Timedelta(days=1)\n",
    "    \n",
    "    df_train = df.query(\"@train_start_day <= date.dt.date <= @train_end_day\")\n",
    "    df_test = df.query(\"date.dt.date == @current_day\")\n",
    "    \n",
    "    # Split data\n",
    "    X_train = df_train.drop(columns=[\"date\", \"day_ahead_price_ch\"])\n",
    "    y_train = df_train[\"day_ahead_price_ch\"]\n",
    "\n",
    "    X_test = df_test.drop(columns=[\"date\", \"day_ahead_price_ch\"])\n",
    "    y_test = df_test[\"day_ahead_price_ch\"]\n",
    "\n",
    "    # Preprocess data\n",
    "    fitted_preprocessor = preprocessor.fit(X_train)\n",
    "\n",
    "    X_train_preprocessed = pd.DataFrame(\n",
    "        fitted_preprocessor.transform(X_train),\n",
    "        columns=fitted_preprocessor.get_feature_names_out(),\n",
    "    )\n",
    "\n",
    "    X_test_preprocessed = pd.DataFrame(\n",
    "        fitted_preprocessor.transform(X_test),\n",
    "        columns=fitted_preprocessor.get_feature_names_out(),\n",
    "    )\n",
    "\n",
    "    # Replace prefixes in column names\n",
    "    new_cols = X_train_preprocessed.columns.str.replace('numeric__', '').str.replace('categorical__', '').str.replace('remainder__', '')\n",
    "\n",
    "    # Assign new column names to the DataFrame\n",
    "    X_train_preprocessed.columns = new_cols\n",
    "    X_test_preprocessed.columns = new_cols\n",
    "\n",
    "    # Create LightGBM dataset\n",
    "    train_data = lgb.Dataset(X_train_preprocessed, label=y_train, free_raw_data=False)\n",
    "\n",
    "    # Train the model\n",
    "    bst = lgb.train(\n",
    "        params=param,\n",
    "        train_set=train_data,\n",
    "        valid_sets=[train_data],\n",
    "        num_boost_round=num_boost_rounds,\n",
    "        # callbacks=[lgb.early_stopping(stopping_rounds=10)],\n",
    "    )\n",
    "\n",
    "    # Make predictions on validation set\n",
    "    y_pred = bst.predict(X_test_preprocessed, num_iteration=bst.best_iteration)\n",
    "\n",
    "    preds.extend(y_pred.tolist())"
   ]
  },
  {
   "cell_type": "code",
   "execution_count": null,
   "metadata": {},
   "outputs": [],
   "source": [
    "preds = pd.DataFrame({\n",
    "    \"date\": df.query(\"date.dt.date in @val_days\")[\"date\"].to_list(),\n",
    "    \"preds\": preds,\n",
    "    \"actual\": df.query(\"date.dt.date in @val_days\")[\"day_ahead_price_ch\"].to_list()\n",
    "})"
   ]
  },
  {
   "cell_type": "code",
   "execution_count": null,
   "metadata": {},
   "outputs": [
    {
     "data": {
      "text/plain": [
       "<Axes: xlabel='date'>"
      ]
     },
     "execution_count": 164,
     "metadata": {},
     "output_type": "execute_result"
    },
    {
     "data": {
      "image/png": "[encoded data removed]",
      "text/plain": [
       "<Figure size 2000x400 with 1 Axes>"
      ]
     },
     "metadata": {},
     "output_type": "display_data"
    }
   ],
   "source": [
    "preds.plot(x=\"date\", y=[\"preds\", \"actual\"], figsize=(20, 4))"
   ]
  },
  {
   "cell_type": "code",
   "execution_count": null,
   "metadata": {},
   "outputs": [],
   "source": [
    "baseline = (\n",
    "    df.assign(baseline=lambda x: x.day_ahead_price_ch.shift(24))\n",
    "    .query(\"date.dt.date in @val_days\")\n",
    "    .filter([\"date\", \"day_ahead_price_ch\", \"baseline\"])\n",
    "    .rename(columns={\"baseline\": \"preds\", \"day_ahead_price_ch\": \"actual\"})\n",
    ")"
   ]
  },
  {
   "cell_type": "code",
   "execution_count": null,
   "metadata": {},
   "outputs": [
    {
     "name": "stdout",
     "output_type": "stream",
     "text": [
      "Metric for LGBM Model\n",
      "R2 Score:  0.7176369563486089\n",
      "MAE:  11.608556752242079\n",
      "MAPE:  5.141287102482159\n",
      "RMSE:  17.125518726769382\n"
     ]
    }
   ],
   "source": [
    "print(\"Metric for LGBM Model\")\n",
    "print(\"R2 Score: \", r2_score(preds[\"actual\"], preds[\"preds\"]))\n",
    "print(\"MAE: \", mean_absolute_error(preds[\"actual\"], preds[\"preds\"]))\n",
    "print(\"MAPE: \", mean_absolute_percentage_error(preds[\"actual\"], preds[\"preds\"]))\n",
    "print(\"RMSE: \", root_mean_squared_error(preds[\"actual\"], preds[\"preds\"]))"
   ]
  },
  {
   "cell_type": "code",
   "execution_count": null,
   "metadata": {},
   "outputs": [
    {
     "name": "stdout",
     "output_type": "stream",
     "text": [
      "Metric for baseline model\n",
      "R2 Score:  0.42190934749479436\n",
      "MAE:  15.763873626373627\n",
      "MAPE:  3.6357653190834913\n",
      "RMSE:  24.504044993883582\n"
     ]
    }
   ],
   "source": [
    "print(\"Metric for baseline model\")\n",
    "print(\"R2 Score: \", r2_score(baseline[\"actual\"], baseline[\"preds\"]))\n",
    "print(\"MAE: \", mean_absolute_error(baseline[\"actual\"], baseline[\"preds\"]))\n",
    "print(\"MAPE: \", mean_absolute_percentage_error(baseline[\"actual\"], baseline[\"preds\"]))\n",
    "print(\"RMSE: \", root_mean_squared_error(baseline[\"actual\"], baseline[\"preds\"]))"
   ]
  },
  {
   "cell_type": "markdown",
   "metadata": {},
   "source": [
    "### Hyperparameter Optimization"
   ]
  },
  {
   "cell_type": "code",
   "execution_count": null,
   "metadata": {},
   "outputs": [],
   "source": [
    "val_start = pd.Timestamp(\"2023-02-01\").tz_localize(\"UTC\")\n",
    "val_end = pd.Timestamp(\"2023-12-30\").tz_localize(\"UTC\")\n",
    "\n",
    "val_days = df.query(\"date >= @val_start & date <= @val_end\").date.dt.date.unique()"
   ]
  },
  {
   "cell_type": "code",
   "execution_count": null,
   "metadata": {},
   "outputs": [],
   "source": [
    "def objective(trial):\n",
    "    \n",
    "    lookback_days = trial.suggest_int(\"lookback_days\", 1, 30)\n",
    "    preds = []\n",
    "    num_boost_rounds = trial.suggest_int(\"num_boost_rounds\", 50, 500)\n",
    "\n",
    "    # Define the parameter grid\n",
    "    param = {\n",
    "        \"verbose\": -1,\n",
    "        'objective': 'regression', \n",
    "        'metric': 'rmse',\n",
    "        'learning_rate': trial.suggest_float('learning_rate', 1e-5, 1e-1, log=True),\n",
    "        \"max_depth\" : trial.suggest_int('max_depth', 3, 15),\n",
    "        'num_leaves': trial.suggest_int('num_leaves', 10, 120),\n",
    "        'lambda_l1': trial.suggest_float('lambda_l1', 1e-8, 10.0, log=True),\n",
    "        'lambda_l2': trial.suggest_float('lambda_l2', 1e-8, 10.0, log=True),\n",
    "        'min_split_gain': trial.suggest_float('min_split_gain', 1e-8, 1.0, log=True),\n",
    "    }\n",
    "\n",
    "    for current_day in tqdm(val_days):\n",
    "        train_start_day = current_day - pd.Timedelta(days=lookback_days)\n",
    "        train_end_day = current_day - pd.Timedelta(days=1)\n",
    "\n",
    "        df_train = df.query(\"@train_start_day <= date.dt.date <= @train_end_day\")\n",
    "        df_test = df.query(\"date.dt.date == @current_day\")\n",
    "\n",
    "        # Split data\n",
    "        X_train = df_train.drop(columns=[\"date\", \"day_ahead_price_ch\"])\n",
    "        y_train = df_train[\"day_ahead_price_ch\"]\n",
    "\n",
    "        X_test = df_test.drop(columns=[\"date\", \"day_ahead_price_ch\"])\n",
    "        y_test = df_test[\"day_ahead_price_ch\"]\n",
    "\n",
    "        # Preprocess data\n",
    "        fitted_preprocessor = preprocessor.fit(X_train)\n",
    "\n",
    "        X_train_preprocessed = pd.DataFrame(\n",
    "            fitted_preprocessor.transform(X_train),\n",
    "            columns=fitted_preprocessor.get_feature_names_out(),\n",
    "        )\n",
    "\n",
    "        X_test_preprocessed = pd.DataFrame(\n",
    "            fitted_preprocessor.transform(X_test),\n",
    "            columns=fitted_preprocessor.get_feature_names_out(),\n",
    "        )\n",
    "\n",
    "        # Replace prefixes in column names\n",
    "        new_cols = (\n",
    "            X_train_preprocessed.columns.str.replace(\"numeric__\", \"\")\n",
    "            .str.replace(\"categorical__\", \"\")\n",
    "            .str.replace(\"remainder__\", \"\")\n",
    "        )\n",
    "\n",
    "        # Assign new column names to the DataFrame\n",
    "        X_train_preprocessed.columns = new_cols\n",
    "        X_test_preprocessed.columns = new_cols\n",
    "\n",
    "        # Create LightGBM dataset\n",
    "        train_data = lgb.Dataset(\n",
    "            X_train_preprocessed, label=y_train, free_raw_data=False\n",
    "        )\n",
    "\n",
    "        # Train the model\n",
    "        bst = lgb.train(\n",
    "            params=param,\n",
    "            train_set=train_data,\n",
    "            valid_sets=[train_data],\n",
    "            num_boost_round=num_boost_rounds,\n",
    "            # callbacks=[lgb.early_stopping(stopping_rounds=10)],\n",
    "        )\n",
    "\n",
    "        # Make predictions on validation set\n",
    "        y_pred = bst.predict(X_test_preprocessed, num_iteration=bst.best_iteration)\n",
    "\n",
    "        preds.extend(y_pred.tolist())\n",
    "\n",
    "    preds = pd.DataFrame(\n",
    "        {\n",
    "            \"date\": df.query(\"date.dt.date in @val_days\")[\"date\"].to_list(),\n",
    "            \"preds\": preds,\n",
    "            \"actual\": df.query(\"date.dt.date in @val_days\")[\n",
    "                \"day_ahead_price_ch\"\n",
    "            ].to_list(),\n",
    "        }\n",
    "    )\n",
    "\n",
    "    return root_mean_squared_error(preds[\"actual\"], preds[\"preds\"])"
   ]
  },
  {
   "cell_type": "code",
   "execution_count": null,
   "metadata": {},
   "outputs": [
    {
     "name": "stderr",
     "output_type": "stream",
     "text": [
      "[I 2024-05-20 00:50:52,014] A new study created in memory with name: no-name-55f7e517-689c-4ce6-b314-709b5b5b04da\n"
     ]
    },
    {
     "data": {
      "application/vnd.jupyter.widget-view+json": {
       "model_id": "81681865f91649acabf34254a5abe06a",
       "version_major": 2,
       "version_minor": 0
      },
      "text/plain": [
       "  0%|          | 0/150 [00:00<?, ?it/s]"
      ]
     },
     "metadata": {},
     "output_type": "display_data"
    },
    {
     "name": "stderr",
     "output_type": "stream",
     "text": [
      "[I 2024-05-20 00:51:32,360] Trial 0 finished with value: 23.773863238969703 and parameters: {'lookback_days': 15, 'num_boost_rounds': 102, 'learning_rate': 0.0020805816791177913, 'max_depth': 12, 'num_leaves': 60, 'lambda_l1': 1.5780629421611803e-05, 'lambda_l2': 0.0005543879390587367, 'min_split_gain': 0.003108565878729041}. Best is trial 0 with value: 23.773863238969703.\n"
     ]
    },
    {
     "data": {
      "application/vnd.jupyter.widget-view+json": {
       "model_id": "3fc06884957d4984889a8ee68992fb4a",
       "version_major": 2,
       "version_minor": 0
      },
      "text/plain": [
       "  0%|          | 0/150 [00:00<?, ?it/s]"
      ]
     },
     "metadata": {},
     "output_type": "display_data"
    },
    {
     "name": "stderr",
     "output_type": "stream",
     "text": [
      "[I 2024-05-20 00:53:55,276] Trial 1 finished with value: 15.180518228264935 and parameters: {'lookback_days': 27, 'num_boost_rounds': 258, 'learning_rate': 0.03154436934444146, 'max_depth': 13, 'num_leaves': 35, 'lambda_l1': 4.7415041102743974e-07, 'lambda_l2': 0.00011197536090207763, 'min_split_gain': 1.515507437489602e-07}. Best is trial 1 with value: 15.180518228264935.\n"
     ]
    }
   ],
   "source": [
    "# Create a study object and specify the direction (minimize)\n",
    "study = optuna.create_study(direction='minimize')\n",
    "study.optimize(objective, n_trials=None, timeout=60*60*8)"
   ]
  },
  {
   "cell_type": "code",
   "execution_count": null,
   "metadata": {},
   "outputs": [
    {
     "name": "stdout",
     "output_type": "stream",
     "text": [
      "Best hyperparameters:  {'lookback_days': 27, 'num_boost_rounds': 258, 'learning_rate': 0.03154436934444146, 'max_depth': 13, 'num_leaves': 35, 'lambda_l1': 4.7415041102743974e-07, 'lambda_l2': 0.00011197536090207763, 'min_split_gain': 1.515507437489602e-07}\n",
      "Best RMSE:  15.180518228264935\n"
     ]
    }
   ],
   "source": [
    "# Print the best hyperparameters\n",
    "print(\"Best hyperparameters: \", study.best_params)\n",
    "print(\"Best RMSE: \", study.best_value)"
   ]
  },
  {
   "cell_type": "code",
   "execution_count": null,
   "metadata": {},
   "outputs": [
    {
     "data": {
      "application/vnd.plotly.v1+json": {
       "config": {
        "plotlyServerURL": "https://plot.ly"
       },
       "data": [
        {
         "mode": "markers",
         "name": "Objective Value",
         "type": "scatter",
         "x": [
          0,
          1
         ],
         "y": [
          23.773863238969703,
          15.180518228264935
         ]
        },
        {
         "mode": "lines",
         "name": "Best Value",
         "type": "scatter",
         "x": [
          0,
          1
         ],
         "y": [
          23.773863238969703,
          15.180518228264935
         ]
        },
        {
         "marker": {
          "color": "#cccccc"
         },
         "mode": "markers",
         "name": "Infeasible Trial",
         "showlegend": false,
         "type": "scatter",
         "x": [],
         "y": []
        }
       ],
       "layout": {
        "template": {
         "data": {
          "bar": [
           {
            "error_x": {
             "color": "#2a3f5f"
            },
            "error_y": {
             "color": "#2a3f5f"
            },
            "marker": {
             "line": {
              "color": "#E5ECF6",
              "width": 0.5
             },
             "pattern": {
              "fillmode": "overlay",
              "size": 10,
              "solidity": 0.2
             }
            },
            "type": "bar"
           }
          ],
          "barpolar": [
           {
            "marker": {
             "line": {
              "color": "#E5ECF6",
              "width": 0.5
             },
             "pattern": {
              "fillmode": "overlay",
              "size": 10,
              "solidity": 0.2
             }
            },
            "type": "barpolar"
           }
          ],
          "carpet": [
           {
            "aaxis": {
             "endlinecolor": "#2a3f5f",
             "gridcolor": "white",
             "linecolor": "white",
             "minorgridcolor": "white",
             "startlinecolor": "#2a3f5f"
            },
            "baxis": {
             "endlinecolor": "#2a3f5f",
             "gridcolor": "white",
             "linecolor": "white",
             "minorgridcolor": "white",
             "startlinecolor": "#2a3f5f"
            },
            "type": "carpet"
           }
          ],
          "choropleth": [
           {
            "colorbar": {
             "outlinewidth": 0,
             "ticks": ""
            },
            "type": "choropleth"
           }
          ],
          "contour": [
           {
            "colorbar": {
             "outlinewidth": 0,
             "ticks": ""
            },
            "colorscale": [
             [
              0,
              "#0d0887"
             ],
             [
              0.1111111111111111,
              "#46039f"
             ],
             [
              0.2222222222222222,
              "#7201a8"
             ],
             [
              0.3333333333333333,
              "#9c179e"
             ],
             [
              0.4444444444444444,
              "#bd3786"
             ],
             [
              0.5555555555555556,
              "#d8576b"
             ],
             [
              0.6666666666666666,
              "#ed7953"
             ],
             [
              0.7777777777777778,
              "#fb9f3a"
             ],
             [
              0.8888888888888888,
              "#fdca26"
             ],
             [
              1,
              "#f0f921"
             ]
            ],
            "type": "contour"
           }
          ],
          "contourcarpet": [
           {
            "colorbar": {
             "outlinewidth": 0,
             "ticks": ""
            },
            "type": "contourcarpet"
           }
          ],
          "heatmap": [
           {
            "colorbar": {
             "outlinewidth": 0,
             "ticks": ""
            },
            "colorscale": [
             [
              0,
              "#0d0887"
             ],
             [
              0.1111111111111111,
              "#46039f"
             ],
             [
              0.2222222222222222,
              "#7201a8"
             ],
             [
              0.3333333333333333,
              "#9c179e"
             ],
             [
              0.4444444444444444,
              "#bd3786"
             ],
             [
              0.5555555555555556,
              "#d8576b"
             ],
             [
              0.6666666666666666,
              "#ed7953"
             ],
             [
              0.7777777777777778,
              "#fb9f3a"
             ],
             [
              0.8888888888888888,
              "#fdca26"
             ],
             [
              1,
              "#f0f921"
             ]
            ],
            "type": "heatmap"
           }
          ],
          "heatmapgl": [
           {
            "colorbar": {
             "outlinewidth": 0,
             "ticks": ""
            },
            "colorscale": [
             [
              0,
              "#0d0887"
             ],
             [
              0.1111111111111111,
              "#46039f"
             ],
             [
              0.2222222222222222,
              "#7201a8"
             ],
             [
              0.3333333333333333,
              "#9c179e"
             ],
             [
              0.4444444444444444,
              "#bd3786"
             ],
             [
              0.5555555555555556,
              "#d8576b"
             ],
             [
              0.6666666666666666,
              "#ed7953"
             ],
             [
              0.7777777777777778,
              "#fb9f3a"
             ],
             [
              0.8888888888888888,
              "#fdca26"
             ],
             [
              1,
              "#f0f921"
             ]
            ],
            "type": "heatmapgl"
           }
          ],
          "histogram": [
           {
            "marker": {
             "pattern": {
              "fillmode": "overlay",
              "size": 10,
              "solidity": 0.2
             }
            },
            "type": "histogram"
           }
          ],
          "histogram2d": [
           {
            "colorbar": {
             "outlinewidth": 0,
             "ticks": ""
            },
            "colorscale": [
             [
              0,
              "#0d0887"
             ],
             [
              0.1111111111111111,
              "#46039f"
             ],
             [
              0.2222222222222222,
              "#7201a8"
             ],
             [
              0.3333333333333333,
              "#9c179e"
             ],
             [
              0.4444444444444444,
              "#bd3786"
             ],
             [
              0.5555555555555556,
              "#d8576b"
             ],
             [
              0.6666666666666666,
              "#ed7953"
             ],
             [
              0.7777777777777778,
              "#fb9f3a"
             ],
             [
              0.8888888888888888,
              "#fdca26"
             ],
             [
              1,
              "#f0f921"
             ]
            ],
            "type": "histogram2d"
           }
          ],
          "histogram2dcontour": [
           {
            "colorbar": {
             "outlinewidth": 0,
             "ticks": ""
            },
            "colorscale": [
             [
              0,
              "#0d0887"
             ],
             [
              0.1111111111111111,
              "#46039f"
             ],
             [
              0.2222222222222222,
              "#7201a8"
             ],
             [
              0.3333333333333333,
              "#9c179e"
             ],
             [
              0.4444444444444444,
              "#bd3786"
             ],
             [
              0.5555555555555556,
              "#d8576b"
             ],
             [
              0.6666666666666666,
              "#ed7953"
             ],
             [
              0.7777777777777778,
              "#fb9f3a"
             ],
             [
              0.8888888888888888,
              "#fdca26"
             ],
             [
              1,
              "#f0f921"
             ]
            ],
            "type": "histogram2dcontour"
           }
          ],
          "mesh3d": [
           {
            "colorbar": {
             "outlinewidth": 0,
             "ticks": ""
            },
            "type": "mesh3d"
           }
          ],
          "parcoords": [
           {
            "line": {
             "colorbar": {
              "outlinewidth": 0,
              "ticks": ""
             }
            },
            "type": "parcoords"
           }
          ],
          "pie": [
           {
            "automargin": true,
            "type": "pie"
           }
          ],
          "scatter": [
           {
            "fillpattern": {
             "fillmode": "overlay",
             "size": 10,
             "solidity": 0.2
            },
            "type": "scatter"
           }
          ],
          "scatter3d": [
           {
            "line": {
             "colorbar": {
              "outlinewidth": 0,
              "ticks": ""
             }
            },
            "marker": {
             "colorbar": {
              "outlinewidth": 0,
              "ticks": ""
             }
            },
            "type": "scatter3d"
           }
          ],
          "scattercarpet": [
           {
            "marker": {
             "colorbar": {
              "outlinewidth": 0,
              "ticks": ""
             }
            },
            "type": "scattercarpet"
           }
          ],
          "scattergeo": [
           {
            "marker": {
             "colorbar": {
              "outlinewidth": 0,
              "ticks": ""
             }
            },
            "type": "scattergeo"
           }
          ],
          "scattergl": [
           {
            "marker": {
             "colorbar": {
              "outlinewidth": 0,
              "ticks": ""
             }
            },
            "type": "scattergl"
           }
          ],
          "scattermapbox": [
           {
            "marker": {
             "colorbar": {
              "outlinewidth": 0,
              "ticks": ""
             }
            },
            "type": "scattermapbox"
           }
          ],
          "scatterpolar": [
           {
            "marker": {
             "colorbar": {
              "outlinewidth": 0,
              "ticks": ""
             }
            },
            "type": "scatterpolar"
           }
          ],
          "scatterpolargl": [
           {
            "marker": {
             "colorbar": {
              "outlinewidth": 0,
              "ticks": ""
             }
            },
            "type": "scatterpolargl"
           }
          ],
          "scatterternary": [
           {
            "marker": {
             "colorbar": {
              "outlinewidth": 0,
              "ticks": ""
             }
            },
            "type": "scatterternary"
           }
          ],
          "surface": [
           {
            "colorbar": {
             "outlinewidth": 0,
             "ticks": ""
            },
            "colorscale": [
             [
              0,
              "#0d0887"
             ],
             [
              0.1111111111111111,
              "#46039f"
             ],
             [
              0.2222222222222222,
              "#7201a8"
             ],
             [
              0.3333333333333333,
              "#9c179e"
             ],
             [
              0.4444444444444444,
              "#bd3786"
             ],
             [
              0.5555555555555556,
              "#d8576b"
             ],
             [
              0.6666666666666666,
              "#ed7953"
             ],
             [
              0.7777777777777778,
              "#fb9f3a"
             ],
             [
              0.8888888888888888,
              "#fdca26"
             ],
             [
              1,
              "#f0f921"
             ]
            ],
            "type": "surface"
           }
          ],
          "table": [
           {
            "cells": {
             "fill": {
              "color": "#EBF0F8"
             },
             "line": {
              "color": "white"
             }
            },
            "header": {
             "fill": {
              "color": "#C8D4E3"
             },
             "line": {
              "color": "white"
             }
            },
            "type": "table"
           }
          ]
         },
         "layout": {
          "annotationdefaults": {
           "arrowcolor": "#2a3f5f",
           "arrowhead": 0,
           "arrowwidth": 1
          },
          "autotypenumbers": "strict",
          "coloraxis": {
           "colorbar": {
            "outlinewidth": 0,
            "ticks": ""
           }
          },
          "colorscale": {
           "diverging": [
            [
             0,
             "#8e0152"
            ],
            [
             0.1,
             "#c51b7d"
            ],
            [
             0.2,
             "#de77ae"
            ],
            [
             0.3,
             "#f1b6da"
            ],
            [
             0.4,
             "#fde0ef"
            ],
            [
             0.5,
             "#f7f7f7"
            ],
            [
             0.6,
             "#e6f5d0"
            ],
            [
             0.7,
             "#b8e186"
            ],
            [
             0.8,
             "#7fbc41"
            ],
            [
             0.9,
             "#4d9221"
            ],
            [
             1,
             "#276419"
            ]
           ],
           "sequential": [
            [
             0,
             "#0d0887"
            ],
            [
             0.1111111111111111,
             "#46039f"
            ],
            [
             0.2222222222222222,
             "#7201a8"
            ],
            [
             0.3333333333333333,
             "#9c179e"
            ],
            [
             0.4444444444444444,
             "#bd3786"
            ],
            [
             0.5555555555555556,
             "#d8576b"
            ],
            [
             0.6666666666666666,
             "#ed7953"
            ],
            [
             0.7777777777777778,
             "#fb9f3a"
            ],
            [
             0.8888888888888888,
             "#fdca26"
            ],
            [
             1,
             "#f0f921"
            ]
           ],
           "sequentialminus": [
            [
             0,
             "#0d0887"
            ],
            [
             0.1111111111111111,
             "#46039f"
            ],
            [
             0.2222222222222222,
             "#7201a8"
            ],
            [
             0.3333333333333333,
             "#9c179e"
            ],
            [
             0.4444444444444444,
             "#bd3786"
            ],
            [
             0.5555555555555556,
             "#d8576b"
            ],
            [
             0.6666666666666666,
             "#ed7953"
            ],
            [
             0.7777777777777778,
             "#fb9f3a"
            ],
            [
             0.8888888888888888,
             "#fdca26"
            ],
            [
             1,
             "#f0f921"
            ]
           ]
          },
          "colorway": [
           "#636efa",
           "#EF553B",
           "#00cc96",
           "#ab63fa",
           "#FFA15A",
           "#19d3f3",
           "#FF6692",
           "#B6E880",
           "#FF97FF",
           "#FECB52"
          ],
          "font": {
           "color": "#2a3f5f"
          },
          "geo": {
           "bgcolor": "white",
           "lakecolor": "white",
           "landcolor": "#E5ECF6",
           "showlakes": true,
           "showland": true,
           "subunitcolor": "white"
          },
          "hoverlabel": {
           "align": "left"
          },
          "hovermode": "closest",
          "mapbox": {
           "style": "light"
          },
          "paper_bgcolor": "white",
          "plot_bgcolor": "#E5ECF6",
          "polar": {
           "angularaxis": {
            "gridcolor": "white",
            "linecolor": "white",
            "ticks": ""
           },
           "bgcolor": "#E5ECF6",
           "radialaxis": {
            "gridcolor": "white",
            "linecolor": "white",
            "ticks": ""
           }
          },
          "scene": {
           "xaxis": {
            "backgroundcolor": "#E5ECF6",
            "gridcolor": "white",
            "gridwidth": 2,
            "linecolor": "white",
            "showbackground": true,
            "ticks": "",
            "zerolinecolor": "white"
           },
           "yaxis": {
            "backgroundcolor": "#E5ECF6",
            "gridcolor": "white",
            "gridwidth": 2,
            "linecolor": "white",
            "showbackground": true,
            "ticks": "",
            "zerolinecolor": "white"
           },
           "zaxis": {
            "backgroundcolor": "#E5ECF6",
            "gridcolor": "white",
            "gridwidth": 2,
            "linecolor": "white",
            "showbackground": true,
            "ticks": "",
            "zerolinecolor": "white"
           }
          },
          "shapedefaults": {
           "line": {
            "color": "#2a3f5f"
           }
          },
          "ternary": {
           "aaxis": {
            "gridcolor": "white",
            "linecolor": "white",
            "ticks": ""
           },
           "baxis": {
            "gridcolor": "white",
            "linecolor": "white",
            "ticks": ""
           },
           "bgcolor": "#E5ECF6",
           "caxis": {
            "gridcolor": "white",
            "linecolor": "white",
            "ticks": ""
           }
          },
          "title": {
           "x": 0.05
          },
          "xaxis": {
           "automargin": true,
           "gridcolor": "white",
           "linecolor": "white",
           "ticks": "",
           "title": {
            "standoff": 15
           },
           "zerolinecolor": "white",
           "zerolinewidth": 2
          },
          "yaxis": {
           "automargin": true,
           "gridcolor": "white",
           "linecolor": "white",
           "ticks": "",
           "title": {
            "standoff": 15
           },
           "zerolinecolor": "white",
           "zerolinewidth": 2
          }
         }
        },
        "title": {
         "text": "Optimization History Plot"
        },
        "xaxis": {
         "title": {
          "text": "Trial"
         }
        },
        "yaxis": {
         "title": {
          "text": "Objective Value"
         }
        }
       }
      }
     },
     "metadata": {},
     "output_type": "display_data"
    }
   ],
   "source": [
    "plot_optimization_history(study)"
   ]
  },
  {
   "cell_type": "code",
   "execution_count": null,
   "metadata": {},
   "outputs": [
    {
     "data": {
      "application/vnd.plotly.v1+json": {
       "config": {
        "plotlyServerURL": "https://plot.ly"
       },
       "data": [
        {
         "dimensions": [
          {
           "label": "Objective Value",
           "range": [
            15.180518228264935,
            23.773863238969703
           ],
           "values": [
            23.773863238969703,
            15.180518228264935
           ]
          },
          {
           "label": "lambda_l1",
           "range": [
            -6.324083868627102,
            -4.801875678637292
           ],
           "ticktext": [
            "4.74e-07",
            "1e-06",
            "1e-05",
            "1.58e-05"
           ],
           "tickvals": [
            -6.324083868627102,
            -6,
            -5,
            -4.801875678637292
           ],
           "values": [
            -4.801875678637292,
            -6.324083868627102
           ]
          },
          {
           "label": "lambda_l2",
           "range": [
            -3.950877529128613,
            -3.256186226551398
           ],
           "ticktext": [
            "0.000112",
            "0.000554"
           ],
           "tickvals": [
            -3.950877529128613,
            -3.256186226551398
           ],
           "values": [
            -3.256186226551398,
            -3.950877529128613
           ]
          },
          {
           "label": "learning_rate",
           "range": [
            -2.6818152300782714,
            -1.501078150869091
           ],
           "ticktext": [
            "0.00208",
            "0.01",
            "0.0315"
           ],
           "tickvals": [
            -2.6818152300782714,
            -2,
            -1.501078150869091
           ],
           "values": [
            -2.6818152300782714,
            -1.501078150869091
           ]
          },
          {
           "label": "lookback_days",
           "range": [
            15,
            27
           ],
           "values": [
            15,
            27
           ]
          },
          {
           "label": "max_depth",
           "range": [
            12,
            13
           ],
           "values": [
            12,
            13
           ]
          },
          {
           "label": "min_split_gain",
           "range": [
            -6.8194419279517415,
            -2.5074399243500873
           ],
           "ticktext": [
            "1.52e-07",
            "1e-06",
            "1e-05",
            "0.0001",
            "0.001",
            "0.00311"
           ],
           "tickvals": [
            -6.8194419279517415,
            -6,
            -5,
            -4,
            -3,
            -2.5074399243500873
           ],
           "values": [
            -2.5074399243500873,
            -6.8194419279517415
           ]
          },
          {
           "label": "num_boost_rounds",
           "range": [
            102,
            258
           ],
           "values": [
            102,
            258
           ]
          },
          {
           "label": "num_leaves",
           "range": [
            35,
            60
           ],
           "values": [
            60,
            35
           ]
          }
         ],
         "labelangle": 30,
         "labelside": "bottom",
         "line": {
          "color": [
           23.773863238969703,
           15.180518228264935
          ],
          "colorbar": {
           "title": {
            "text": "Objective Value"
           }
          },
          "colorscale": [
           [
            0,
            "rgb(247,251,255)"
           ],
           [
            0.125,
            "rgb(222,235,247)"
           ],
           [
            0.25,
            "rgb(198,219,239)"
           ],
           [
            0.375,
            "rgb(158,202,225)"
           ],
           [
            0.5,
            "rgb(107,174,214)"
           ],
           [
            0.625,
            "rgb(66,146,198)"
           ],
           [
            0.75,
            "rgb(33,113,181)"
           ],
           [
            0.875,
            "rgb(8,81,156)"
           ],
           [
            1,
            "rgb(8,48,107)"
           ]
          ],
          "reversescale": true,
          "showscale": true
         },
         "type": "parcoords"
        }
       ],
       "layout": {
        "template": {
         "data": {
          "bar": [
           {
            "error_x": {
             "color": "#2a3f5f"
            },
            "error_y": {
             "color": "#2a3f5f"
            },
            "marker": {
             "line": {
              "color": "#E5ECF6",
              "width": 0.5
             },
             "pattern": {
              "fillmode": "overlay",
              "size": 10,
              "solidity": 0.2
             }
            },
            "type": "bar"
           }
          ],
          "barpolar": [
           {
            "marker": {
             "line": {
              "color": "#E5ECF6",
              "width": 0.5
             },
             "pattern": {
              "fillmode": "overlay",
              "size": 10,
              "solidity": 0.2
             }
            },
            "type": "barpolar"
           }
          ],
          "carpet": [
           {
            "aaxis": {
             "endlinecolor": "#2a3f5f",
             "gridcolor": "white",
             "linecolor": "white",
             "minorgridcolor": "white",
             "startlinecolor": "#2a3f5f"
            },
            "baxis": {
             "endlinecolor": "#2a3f5f",
             "gridcolor": "white",
             "linecolor": "white",
             "minorgridcolor": "white",
             "startlinecolor": "#2a3f5f"
            },
            "type": "carpet"
           }
          ],
          "choropleth": [
           {
            "colorbar": {
             "outlinewidth": 0,
             "ticks": ""
            },
            "type": "choropleth"
           }
          ],
          "contour": [
           {
            "colorbar": {
             "outlinewidth": 0,
             "ticks": ""
            },
            "colorscale": [
             [
              0,
              "#0d0887"
             ],
             [
              0.1111111111111111,
              "#46039f"
             ],
             [
              0.2222222222222222,
              "#7201a8"
             ],
             [
              0.3333333333333333,
              "#9c179e"
             ],
             [
              0.4444444444444444,
              "#bd3786"
             ],
             [
              0.5555555555555556,
              "#d8576b"
             ],
             [
              0.6666666666666666,
              "#ed7953"
             ],
             [
              0.7777777777777778,
              "#fb9f3a"
             ],
             [
              0.8888888888888888,
              "#fdca26"
             ],
             [
              1,
              "#f0f921"
             ]
            ],
            "type": "contour"
           }
          ],
          "contourcarpet": [
           {
            "colorbar": {
             "outlinewidth": 0,
             "ticks": ""
            },
            "type": "contourcarpet"
           }
          ],
          "heatmap": [
           {
            "colorbar": {
             "outlinewidth": 0,
             "ticks": ""
            },
            "colorscale": [
             [
              0,
              "#0d0887"
             ],
             [
              0.1111111111111111,
              "#46039f"
             ],
             [
              0.2222222222222222,
              "#7201a8"
             ],
             [
              0.3333333333333333,
              "#9c179e"
             ],
             [
              0.4444444444444444,
              "#bd3786"
             ],
             [
              0.5555555555555556,
              "#d8576b"
             ],
             [
              0.6666666666666666,
              "#ed7953"
             ],
             [
              0.7777777777777778,
              "#fb9f3a"
             ],
             [
              0.8888888888888888,
              "#fdca26"
             ],
             [
              1,
              "#f0f921"
             ]
            ],
            "type": "heatmap"
           }
          ],
          "heatmapgl": [
           {
            "colorbar": {
             "outlinewidth": 0,
             "ticks": ""
            },
            "colorscale": [
             [
              0,
              "#0d0887"
             ],
             [
              0.1111111111111111,
              "#46039f"
             ],
             [
              0.2222222222222222,
              "#7201a8"
             ],
             [
              0.3333333333333333,
              "#9c179e"
             ],
             [
              0.4444444444444444,
              "#bd3786"
             ],
             [
              0.5555555555555556,
              "#d8576b"
             ],
             [
              0.6666666666666666,
              "#ed7953"
             ],
             [
              0.7777777777777778,
              "#fb9f3a"
             ],
             [
              0.8888888888888888,
              "#fdca26"
             ],
             [
              1,
              "#f0f921"
             ]
            ],
            "type": "heatmapgl"
           }
          ],
          "histogram": [
           {
            "marker": {
             "pattern": {
              "fillmode": "overlay",
              "size": 10,
              "solidity": 0.2
             }
            },
            "type": "histogram"
           }
          ],
          "histogram2d": [
           {
            "colorbar": {
             "outlinewidth": 0,
             "ticks": ""
            },
            "colorscale": [
             [
              0,
              "#0d0887"
             ],
             [
              0.1111111111111111,
              "#46039f"
             ],
             [
              0.2222222222222222,
              "#7201a8"
             ],
             [
              0.3333333333333333,
              "#9c179e"
             ],
             [
              0.4444444444444444,
              "#bd3786"
             ],
             [
              0.5555555555555556,
              "#d8576b"
             ],
             [
              0.6666666666666666,
              "#ed7953"
             ],
             [
              0.7777777777777778,
              "#fb9f3a"
             ],
             [
              0.8888888888888888,
              "#fdca26"
             ],
             [
              1,
              "#f0f921"
             ]
            ],
            "type": "histogram2d"
           }
          ],
          "histogram2dcontour": [
           {
            "colorbar": {
             "outlinewidth": 0,
             "ticks": ""
            },
            "colorscale": [
             [
              0,
              "#0d0887"
             ],
             [
              0.1111111111111111,
              "#46039f"
             ],
             [
              0.2222222222222222,
              "#7201a8"
             ],
             [
              0.3333333333333333,
              "#9c179e"
             ],
             [
              0.4444444444444444,
              "#bd3786"
             ],
             [
              0.5555555555555556,
              "#d8576b"
             ],
             [
              0.6666666666666666,
              "#ed7953"
             ],
             [
              0.7777777777777778,
              "#fb9f3a"
             ],
             [
              0.8888888888888888,
              "#fdca26"
             ],
             [
              1,
              "#f0f921"
             ]
            ],
            "type": "histogram2dcontour"
           }
          ],
          "mesh3d": [
           {
            "colorbar": {
             "outlinewidth": 0,
             "ticks": ""
            },
            "type": "mesh3d"
           }
          ],
          "parcoords": [
           {
            "line": {
             "colorbar": {
              "outlinewidth": 0,
              "ticks": ""
             }
            },
            "type": "parcoords"
           }
          ],
          "pie": [
           {
            "automargin": true,
            "type": "pie"
           }
          ],
          "scatter": [
           {
            "fillpattern": {
             "fillmode": "overlay",
             "size": 10,
             "solidity": 0.2
            },
            "type": "scatter"
           }
          ],
          "scatter3d": [
           {
            "line": {
             "colorbar": {
              "outlinewidth": 0,
              "ticks": ""
             }
            },
            "marker": {
             "colorbar": {
              "outlinewidth": 0,
              "ticks": ""
             }
            },
            "type": "scatter3d"
           }
          ],
          "scattercarpet": [
           {
            "marker": {
             "colorbar": {
              "outlinewidth": 0,
              "ticks": ""
             }
            },
            "type": "scattercarpet"
           }
          ],
          "scattergeo": [
           {
            "marker": {
             "colorbar": {
              "outlinewidth": 0,
              "ticks": ""
             }
            },
            "type": "scattergeo"
           }
          ],
          "scattergl": [
           {
            "marker": {
             "colorbar": {
              "outlinewidth": 0,
              "ticks": ""
             }
            },
            "type": "scattergl"
           }
          ],
          "scattermapbox": [
           {
            "marker": {
             "colorbar": {
              "outlinewidth": 0,
              "ticks": ""
             }
            },
            "type": "scattermapbox"
           }
          ],
          "scatterpolar": [
           {
            "marker": {
             "colorbar": {
              "outlinewidth": 0,
              "ticks": ""
             }
            },
            "type": "scatterpolar"
           }
          ],
          "scatterpolargl": [
           {
            "marker": {
             "colorbar": {
              "outlinewidth": 0,
              "ticks": ""
             }
            },
            "type": "scatterpolargl"
           }
          ],
          "scatterternary": [
           {
            "marker": {
             "colorbar": {
              "outlinewidth": 0,
              "ticks": ""
             }
            },
            "type": "scatterternary"
           }
          ],
          "surface": [
           {
            "colorbar": {
             "outlinewidth": 0,
             "ticks": ""
            },
            "colorscale": [
             [
              0,
              "#0d0887"
             ],
             [
              0.1111111111111111,
              "#46039f"
             ],
             [
              0.2222222222222222,
              "#7201a8"
             ],
             [
              0.3333333333333333,
              "#9c179e"
             ],
             [
              0.4444444444444444,
              "#bd3786"
             ],
             [
              0.5555555555555556,
              "#d8576b"
             ],
             [
              0.6666666666666666,
              "#ed7953"
             ],
             [
              0.7777777777777778,
              "#fb9f3a"
             ],
             [
              0.8888888888888888,
              "#fdca26"
             ],
             [
              1,
              "#f0f921"
             ]
            ],
            "type": "surface"
           }
          ],
          "table": [
           {
            "cells": {
             "fill": {
              "color": "#EBF0F8"
             },
             "line": {
              "color": "white"
             }
            },
            "header": {
             "fill": {
              "color": "#C8D4E3"
             },
             "line": {
              "color": "white"
             }
            },
            "type": "table"
           }
          ]
         },
         "layout": {
          "annotationdefaults": {
           "arrowcolor": "#2a3f5f",
           "arrowhead": 0,
           "arrowwidth": 1
          },
          "autotypenumbers": "strict",
          "coloraxis": {
           "colorbar": {
            "outlinewidth": 0,
            "ticks": ""
           }
          },
          "colorscale": {
           "diverging": [
            [
             0,
             "#8e0152"
            ],
            [
             0.1,
             "#c51b7d"
            ],
            [
             0.2,
             "#de77ae"
            ],
            [
             0.3,
             "#f1b6da"
            ],
            [
             0.4,
             "#fde0ef"
            ],
            [
             0.5,
             "#f7f7f7"
            ],
            [
             0.6,
             "#e6f5d0"
            ],
            [
             0.7,
             "#b8e186"
            ],
            [
             0.8,
             "#7fbc41"
            ],
            [
             0.9,
             "#4d9221"
            ],
            [
             1,
             "#276419"
            ]
           ],
           "sequential": [
            [
             0,
             "#0d0887"
            ],
            [
             0.1111111111111111,
             "#46039f"
            ],
            [
             0.2222222222222222,
             "#7201a8"
            ],
            [
             0.3333333333333333,
             "#9c179e"
            ],
            [
             0.4444444444444444,
             "#bd3786"
            ],
            [
             0.5555555555555556,
             "#d8576b"
            ],
            [
             0.6666666666666666,
             "#ed7953"
            ],
            [
             0.7777777777777778,
             "#fb9f3a"
            ],
            [
             0.8888888888888888,
             "#fdca26"
            ],
            [
             1,
             "#f0f921"
            ]
           ],
           "sequentialminus": [
            [
             0,
             "#0d0887"
            ],
            [
             0.1111111111111111,
             "#46039f"
            ],
            [
             0.2222222222222222,
             "#7201a8"
            ],
            [
             0.3333333333333333,
             "#9c179e"
            ],
            [
             0.4444444444444444,
             "#bd3786"
            ],
            [
             0.5555555555555556,
             "#d8576b"
            ],
            [
             0.6666666666666666,
             "#ed7953"
            ],
            [
             0.7777777777777778,
             "#fb9f3a"
            ],
            [
             0.8888888888888888,
             "#fdca26"
            ],
            [
             1,
             "#f0f921"
            ]
           ]
          },
          "colorway": [
           "#636efa",
           "#EF553B",
           "#00cc96",
           "#ab63fa",
           "#FFA15A",
           "#19d3f3",
           "#FF6692",
           "#B6E880",
           "#FF97FF",
           "#FECB52"
          ],
          "font": {
           "color": "#2a3f5f"
          },
          "geo": {
           "bgcolor": "white",
           "lakecolor": "white",
           "landcolor": "#E5ECF6",
           "showlakes": true,
           "showland": true,
           "subunitcolor": "white"
          },
          "hoverlabel": {
           "align": "left"
          },
          "hovermode": "closest",
          "mapbox": {
           "style": "light"
          },
          "paper_bgcolor": "white",
          "plot_bgcolor": "#E5ECF6",
          "polar": {
           "angularaxis": {
            "gridcolor": "white",
            "linecolor": "white",
            "ticks": ""
           },
           "bgcolor": "#E5ECF6",
           "radialaxis": {
            "gridcolor": "white",
            "linecolor": "white",
            "ticks": ""
           }
          },
          "scene": {
           "xaxis": {
            "backgroundcolor": "#E5ECF6",
            "gridcolor": "white",
            "gridwidth": 2,
            "linecolor": "white",
            "showbackground": true,
            "ticks": "",
            "zerolinecolor": "white"
           },
           "yaxis": {
            "backgroundcolor": "#E5ECF6",
            "gridcolor": "white",
            "gridwidth": 2,
            "linecolor": "white",
            "showbackground": true,
            "ticks": "",
            "zerolinecolor": "white"
           },
           "zaxis": {
            "backgroundcolor": "#E5ECF6",
            "gridcolor": "white",
            "gridwidth": 2,
            "linecolor": "white",
            "showbackground": true,
            "ticks": "",
            "zerolinecolor": "white"
           }
          },
          "shapedefaults": {
           "line": {
            "color": "#2a3f5f"
           }
          },
          "ternary": {
           "aaxis": {
            "gridcolor": "white",
            "linecolor": "white",
            "ticks": ""
           },
           "baxis": {
            "gridcolor": "white",
            "linecolor": "white",
            "ticks": ""
           },
           "bgcolor": "#E5ECF6",
           "caxis": {
            "gridcolor": "white",
            "linecolor": "white",
            "ticks": ""
           }
          },
          "title": {
           "x": 0.05
          },
          "xaxis": {
           "automargin": true,
           "gridcolor": "white",
           "linecolor": "white",
           "ticks": "",
           "title": {
            "standoff": 15
           },
           "zerolinecolor": "white",
           "zerolinewidth": 2
          },
          "yaxis": {
           "automargin": true,
           "gridcolor": "white",
           "linecolor": "white",
           "ticks": "",
           "title": {
            "standoff": 15
           },
           "zerolinecolor": "white",
           "zerolinewidth": 2
          }
         }
        },
        "title": {
         "text": "Parallel Coordinate Plot"
        }
       }
      }
     },
     "metadata": {},
     "output_type": "display_data"
    }
   ],
   "source": [
    "plot_parallel_coordinate(study)"
   ]
  },
  {
   "cell_type": "code",
   "execution_count": null,
   "metadata": {},
   "outputs": [
    {
     "data": {
      "application/vnd.plotly.v1+json": {
       "config": {
        "plotlyServerURL": "https://plot.ly"
       },
       "data": [
        {
         "cliponaxis": false,
         "hovertemplate": [
          "min_split_gain (FloatDistribution): 0.0<extra></extra>",
          "num_boost_rounds (IntDistribution): 0.04724409448818895<extra></extra>",
          "lookback_days (IntDistribution): 0.055118110236220444<extra></extra>",
          "lambda_l1 (FloatDistribution): 0.14960629921259844<extra></extra>",
          "lambda_l2 (FloatDistribution): 0.14960629921259844<extra></extra>",
          "num_leaves (IntDistribution): 0.14960629921259844<extra></extra>",
          "max_depth (IntDistribution): 0.22047244094488191<extra></extra>",
          "learning_rate (FloatDistribution): 0.22834645669291337<extra></extra>"
         ],
         "name": "Objective Value",
         "orientation": "h",
         "text": [
          "<0.01",
          "0.05",
          "0.06",
          "0.15",
          "0.15",
          "0.15",
          "0.22",
          "0.23"
         ],
         "textposition": "outside",
         "type": "bar",
         "x": [
          0,
          0.04724409448818895,
          0.055118110236220444,
          0.14960629921259844,
          0.14960629921259844,
          0.14960629921259844,
          0.22047244094488191,
          0.22834645669291337
         ],
         "y": [
          "min_split_gain",
          "num_boost_rounds",
          "lookback_days",
          "lambda_l1",
          "lambda_l2",
          "num_leaves",
          "max_depth",
          "learning_rate"
         ]
        }
       ],
       "layout": {
        "template": {
         "data": {
          "bar": [
           {
            "error_x": {
             "color": "#2a3f5f"
            },
            "error_y": {
             "color": "#2a3f5f"
            },
            "marker": {
             "line": {
              "color": "#E5ECF6",
              "width": 0.5
             },
             "pattern": {
              "fillmode": "overlay",
              "size": 10,
              "solidity": 0.2
             }
            },
            "type": "bar"
           }
          ],
          "barpolar": [
           {
            "marker": {
             "line": {
              "color": "#E5ECF6",
              "width": 0.5
             },
             "pattern": {
              "fillmode": "overlay",
              "size": 10,
              "solidity": 0.2
             }
            },
            "type": "barpolar"
           }
          ],
          "carpet": [
           {
            "aaxis": {
             "endlinecolor": "#2a3f5f",
             "gridcolor": "white",
             "linecolor": "white",
             "minorgridcolor": "white",
             "startlinecolor": "#2a3f5f"
            },
            "baxis": {
             "endlinecolor": "#2a3f5f",
             "gridcolor": "white",
             "linecolor": "white",
             "minorgridcolor": "white",
             "startlinecolor": "#2a3f5f"
            },
            "type": "carpet"
           }
          ],
          "choropleth": [
           {
            "colorbar": {
             "outlinewidth": 0,
             "ticks": ""
            },
            "type": "choropleth"
           }
          ],
          "contour": [
           {
            "colorbar": {
             "outlinewidth": 0,
             "ticks": ""
            },
            "colorscale": [
             [
              0,
              "#0d0887"
             ],
             [
              0.1111111111111111,
              "#46039f"
             ],
             [
              0.2222222222222222,
              "#7201a8"
             ],
             [
              0.3333333333333333,
              "#9c179e"
             ],
             [
              0.4444444444444444,
              "#bd3786"
             ],
             [
              0.5555555555555556,
              "#d8576b"
             ],
             [
              0.6666666666666666,
              "#ed7953"
             ],
             [
              0.7777777777777778,
              "#fb9f3a"
             ],
             [
              0.8888888888888888,
              "#fdca26"
             ],
             [
              1,
              "#f0f921"
             ]
            ],
            "type": "contour"
           }
          ],
          "contourcarpet": [
           {
            "colorbar": {
             "outlinewidth": 0,
             "ticks": ""
            },
            "type": "contourcarpet"
           }
          ],
          "heatmap": [
           {
            "colorbar": {
             "outlinewidth": 0,
             "ticks": ""
            },
            "colorscale": [
             [
              0,
              "#0d0887"
             ],
             [
              0.1111111111111111,
              "#46039f"
             ],
             [
              0.2222222222222222,
              "#7201a8"
             ],
             [
              0.3333333333333333,
              "#9c179e"
             ],
             [
              0.4444444444444444,
              "#bd3786"
             ],
             [
              0.5555555555555556,
              "#d8576b"
             ],
             [
              0.6666666666666666,
              "#ed7953"
             ],
             [
              0.7777777777777778,
              "#fb9f3a"
             ],
             [
              0.8888888888888888,
              "#fdca26"
             ],
             [
              1,
              "#f0f921"
             ]
            ],
            "type": "heatmap"
           }
          ],
          "heatmapgl": [
           {
            "colorbar": {
             "outlinewidth": 0,
             "ticks": ""
            },
            "colorscale": [
             [
              0,
              "#0d0887"
             ],
             [
              0.1111111111111111,
              "#46039f"
             ],
             [
              0.2222222222222222,
              "#7201a8"
             ],
             [
              0.3333333333333333,
              "#9c179e"
             ],
             [
              0.4444444444444444,
              "#bd3786"
             ],
             [
              0.5555555555555556,
              "#d8576b"
             ],
             [
              0.6666666666666666,
              "#ed7953"
             ],
             [
              0.7777777777777778,
              "#fb9f3a"
             ],
             [
              0.8888888888888888,
              "#fdca26"
             ],
             [
              1,
              "#f0f921"
             ]
            ],
            "type": "heatmapgl"
           }
          ],
          "histogram": [
           {
            "marker": {
             "pattern": {
              "fillmode": "overlay",
              "size": 10,
              "solidity": 0.2
             }
            },
            "type": "histogram"
           }
          ],
          "histogram2d": [
           {
            "colorbar": {
             "outlinewidth": 0,
             "ticks": ""
            },
            "colorscale": [
             [
              0,
              "#0d0887"
             ],
             [
              0.1111111111111111,
              "#46039f"
             ],
             [
              0.2222222222222222,
              "#7201a8"
             ],
             [
              0.3333333333333333,
              "#9c179e"
             ],
             [
              0.4444444444444444,
              "#bd3786"
             ],
             [
              0.5555555555555556,
              "#d8576b"
             ],
             [
              0.6666666666666666,
              "#ed7953"
             ],
             [
              0.7777777777777778,
              "#fb9f3a"
             ],
             [
              0.8888888888888888,
              "#fdca26"
             ],
             [
              1,
              "#f0f921"
             ]
            ],
            "type": "histogram2d"
           }
          ],
          "histogram2dcontour": [
           {
            "colorbar": {
             "outlinewidth": 0,
             "ticks": ""
            },
            "colorscale": [
             [
              0,
              "#0d0887"
             ],
             [
              0.1111111111111111,
              "#46039f"
             ],
             [
              0.2222222222222222,
              "#7201a8"
             ],
             [
              0.3333333333333333,
              "#9c179e"
             ],
             [
              0.4444444444444444,
              "#bd3786"
             ],
             [
              0.5555555555555556,
              "#d8576b"
             ],
             [
              0.6666666666666666,
              "#ed7953"
             ],
             [
              0.7777777777777778,
              "#fb9f3a"
             ],
             [
              0.8888888888888888,
              "#fdca26"
             ],
             [
              1,
              "#f0f921"
             ]
            ],
            "type": "histogram2dcontour"
           }
          ],
          "mesh3d": [
           {
            "colorbar": {
             "outlinewidth": 0,
             "ticks": ""
            },
            "type": "mesh3d"
           }
          ],
          "parcoords": [
           {
            "line": {
             "colorbar": {
              "outlinewidth": 0,
              "ticks": ""
             }
            },
            "type": "parcoords"
           }
          ],
          "pie": [
           {
            "automargin": true,
            "type": "pie"
           }
          ],
          "scatter": [
           {
            "fillpattern": {
             "fillmode": "overlay",
             "size": 10,
             "solidity": 0.2
            },
            "type": "scatter"
           }
          ],
          "scatter3d": [
           {
            "line": {
             "colorbar": {
              "outlinewidth": 0,
              "ticks": ""
             }
            },
            "marker": {
             "colorbar": {
              "outlinewidth": 0,
              "ticks": ""
             }
            },
            "type": "scatter3d"
           }
          ],
          "scattercarpet": [
           {
            "marker": {
             "colorbar": {
              "outlinewidth": 0,
              "ticks": ""
             }
            },
            "type": "scattercarpet"
           }
          ],
          "scattergeo": [
           {
            "marker": {
             "colorbar": {
              "outlinewidth": 0,
              "ticks": ""
             }
            },
            "type": "scattergeo"
           }
          ],
          "scattergl": [
           {
            "marker": {
             "colorbar": {
              "outlinewidth": 0,
              "ticks": ""
             }
            },
            "type": "scattergl"
           }
          ],
          "scattermapbox": [
           {
            "marker": {
             "colorbar": {
              "outlinewidth": 0,
              "ticks": ""
             }
            },
            "type": "scattermapbox"
           }
          ],
          "scatterpolar": [
           {
            "marker": {
             "colorbar": {
              "outlinewidth": 0,
              "ticks": ""
             }
            },
            "type": "scatterpolar"
           }
          ],
          "scatterpolargl": [
           {
            "marker": {
             "colorbar": {
              "outlinewidth": 0,
              "ticks": ""
             }
            },
            "type": "scatterpolargl"
           }
          ],
          "scatterternary": [
           {
            "marker": {
             "colorbar": {
              "outlinewidth": 0,
              "ticks": ""
             }
            },
            "type": "scatterternary"
           }
          ],
          "surface": [
           {
            "colorbar": {
             "outlinewidth": 0,
             "ticks": ""
            },
            "colorscale": [
             [
              0,
              "#0d0887"
             ],
             [
              0.1111111111111111,
              "#46039f"
             ],
             [
              0.2222222222222222,
              "#7201a8"
             ],
             [
              0.3333333333333333,
              "#9c179e"
             ],
             [
              0.4444444444444444,
              "#bd3786"
             ],
             [
              0.5555555555555556,
              "#d8576b"
             ],
             [
              0.6666666666666666,
              "#ed7953"
             ],
             [
              0.7777777777777778,
              "#fb9f3a"
             ],
             [
              0.8888888888888888,
              "#fdca26"
             ],
             [
              1,
              "#f0f921"
             ]
            ],
            "type": "surface"
           }
          ],
          "table": [
           {
            "cells": {
             "fill": {
              "color": "#EBF0F8"
             },
             "line": {
              "color": "white"
             }
            },
            "header": {
             "fill": {
              "color": "#C8D4E3"
             },
             "line": {
              "color": "white"
             }
            },
            "type": "table"
           }
          ]
         },
         "layout": {
          "annotationdefaults": {
           "arrowcolor": "#2a3f5f",
           "arrowhead": 0,
           "arrowwidth": 1
          },
          "autotypenumbers": "strict",
          "coloraxis": {
           "colorbar": {
            "outlinewidth": 0,
            "ticks": ""
           }
          },
          "colorscale": {
           "diverging": [
            [
             0,
             "#8e0152"
            ],
            [
             0.1,
             "#c51b7d"
            ],
            [
             0.2,
             "#de77ae"
            ],
            [
             0.3,
             "#f1b6da"
            ],
            [
             0.4,
             "#fde0ef"
            ],
            [
             0.5,
             "#f7f7f7"
            ],
            [
             0.6,
             "#e6f5d0"
            ],
            [
             0.7,
             "#b8e186"
            ],
            [
             0.8,
             "#7fbc41"
            ],
            [
             0.9,
             "#4d9221"
            ],
            [
             1,
             "#276419"
            ]
           ],
           "sequential": [
            [
             0,
             "#0d0887"
            ],
            [
             0.1111111111111111,
             "#46039f"
            ],
            [
             0.2222222222222222,
             "#7201a8"
            ],
            [
             0.3333333333333333,
             "#9c179e"
            ],
            [
             0.4444444444444444,
             "#bd3786"
            ],
            [
             0.5555555555555556,
             "#d8576b"
            ],
            [
             0.6666666666666666,
             "#ed7953"
            ],
            [
             0.7777777777777778,
             "#fb9f3a"
            ],
            [
             0.8888888888888888,
             "#fdca26"
            ],
            [
             1,
             "#f0f921"
            ]
           ],
           "sequentialminus": [
            [
             0,
             "#0d0887"
            ],
            [
             0.1111111111111111,
             "#46039f"
            ],
            [
             0.2222222222222222,
             "#7201a8"
            ],
            [
             0.3333333333333333,
             "#9c179e"
            ],
            [
             0.4444444444444444,
             "#bd3786"
            ],
            [
             0.5555555555555556,
             "#d8576b"
            ],
            [
             0.6666666666666666,
             "#ed7953"
            ],
            [
             0.7777777777777778,
             "#fb9f3a"
            ],
            [
             0.8888888888888888,
             "#fdca26"
            ],
            [
             1,
             "#f0f921"
            ]
           ]
          },
          "colorway": [
           "#636efa",
           "#EF553B",
           "#00cc96",
           "#ab63fa",
           "#FFA15A",
           "#19d3f3",
           "#FF6692",
           "#B6E880",
           "#FF97FF",
           "#FECB52"
          ],
          "font": {
           "color": "#2a3f5f"
          },
          "geo": {
           "bgcolor": "white",
           "lakecolor": "white",
           "landcolor": "#E5ECF6",
           "showlakes": true,
           "showland": true,
           "subunitcolor": "white"
          },
          "hoverlabel": {
           "align": "left"
          },
          "hovermode": "closest",
          "mapbox": {
           "style": "light"
          },
          "paper_bgcolor": "white",
          "plot_bgcolor": "#E5ECF6",
          "polar": {
           "angularaxis": {
            "gridcolor": "white",
            "linecolor": "white",
            "ticks": ""
           },
           "bgcolor": "#E5ECF6",
           "radialaxis": {
            "gridcolor": "white",
            "linecolor": "white",
            "ticks": ""
           }
          },
          "scene": {
           "xaxis": {
            "backgroundcolor": "#E5ECF6",
            "gridcolor": "white",
            "gridwidth": 2,
            "linecolor": "white",
            "showbackground": true,
            "ticks": "",
            "zerolinecolor": "white"
           },
           "yaxis": {
            "backgroundcolor": "#E5ECF6",
            "gridcolor": "white",
            "gridwidth": 2,
            "linecolor": "white",
            "showbackground": true,
            "ticks": "",
            "zerolinecolor": "white"
           },
           "zaxis": {
            "backgroundcolor": "#E5ECF6",
            "gridcolor": "white",
            "gridwidth": 2,
            "linecolor": "white",
            "showbackground": true,
            "ticks": "",
            "zerolinecolor": "white"
           }
          },
          "shapedefaults": {
           "line": {
            "color": "#2a3f5f"
           }
          },
          "ternary": {
           "aaxis": {
            "gridcolor": "white",
            "linecolor": "white",
            "ticks": ""
           },
           "baxis": {
            "gridcolor": "white",
            "linecolor": "white",
            "ticks": ""
           },
           "bgcolor": "#E5ECF6",
           "caxis": {
            "gridcolor": "white",
            "linecolor": "white",
            "ticks": ""
           }
          },
          "title": {
           "x": 0.05
          },
          "xaxis": {
           "automargin": true,
           "gridcolor": "white",
           "linecolor": "white",
           "ticks": "",
           "title": {
            "standoff": 15
           },
           "zerolinecolor": "white",
           "zerolinewidth": 2
          },
          "yaxis": {
           "automargin": true,
           "gridcolor": "white",
           "linecolor": "white",
           "ticks": "",
           "title": {
            "standoff": 15
           },
           "zerolinecolor": "white",
           "zerolinewidth": 2
          }
         }
        },
        "title": {
         "text": "Hyperparameter Importances"
        },
        "xaxis": {
         "title": {
          "text": "Hyperparameter Importance"
         }
        },
        "yaxis": {
         "title": {
          "text": "Hyperparameter"
         }
        }
       }
      }
     },
     "metadata": {},
     "output_type": "display_data"
    }
   ],
   "source": [
    "plot_param_importances(study)"
   ]
  },
  {
   "cell_type": "markdown",
   "metadata": {},
   "source": [
    "### Using the best model on testing period"
   ]
  },
  {
   "cell_type": "code",
   "execution_count": null,
   "metadata": {},
   "outputs": [
    {
     "data": {
      "text/plain": [
       "15.180518228264935"
      ]
     },
     "execution_count": 176,
     "metadata": {},
     "output_type": "execute_result"
    }
   ],
   "source": [
    "study.best_value"
   ]
  },
  {
   "cell_type": "code",
   "execution_count": null,
   "metadata": {},
   "outputs": [],
   "source": [
    "test_start = pd.Timestamp(\"2024-01-01\").tz_localize(\"UTC\")\n",
    "\n",
    "test_days = df.query(\"date >= @test_start\").date.dt.date.unique()"
   ]
  },
  {
   "cell_type": "code",
   "execution_count": null,
   "metadata": {},
   "outputs": [
    {
     "data": {
      "text/plain": [
       "{'lookback_days': 27,\n",
       " 'num_boost_rounds': 258,\n",
       " 'learning_rate': 0.03154436934444146,\n",
       " 'max_depth': 13,\n",
       " 'num_leaves': 35,\n",
       " 'lambda_l1': 4.7415041102743974e-07,\n",
       " 'lambda_l2': 0.00011197536090207763,\n",
       " 'min_split_gain': 1.515507437489602e-07}"
      ]
     },
     "execution_count": 178,
     "metadata": {},
     "output_type": "execute_result"
    }
   ],
   "source": [
    "study.best_params"
   ]
  },
  {
   "cell_type": "code",
   "execution_count": null,
   "metadata": {},
   "outputs": [],
   "source": [
    "lookback_days = study.best_params[\"lookback_days\"]\n",
    "preds = []\n",
    "num_boost_rounds = study.best_params[\"num_boost_rounds\"]\n",
    "\n",
    "# Define the parameter grid\n",
    "param = {\n",
    "    \"verbose\": -1,\n",
    "    \"objective\": \"regression\",\n",
    "    \"metric\": \"rmse\",\n",
    "    \"learning_rate\": study.best_params[\"learning_rate\"],\n",
    "    \"max_depth\": study.best_params[\"max_depth\"],\n",
    "    \"num_leaves\": study.best_params[\"num_leaves\"],\n",
    "    \"lambda_l1\": study.best_params[\"lambda_l1\"],\n",
    "    \"lambda_l2\": study.best_params[\"lambda_l2\"],\n",
    "    \"min_split_gain\": study.best_params[\"min_split_gain\"],\n",
    "}\n",
    "\n",
    "for current_day in tqdm(test_days):\n",
    "    train_start_day = current_day - pd.Timedelta(days=lookback_days)\n",
    "    train_end_day = current_day - pd.Timedelta(days=1)\n",
    "\n",
    "    df_train = df.query(\"@train_start_day <= date.dt.date <= @train_end_day\")\n",
    "    df_test = df.query(\"date.dt.date == @current_day\")\n",
    "\n",
    "    # Split data\n",
    "    X_train = df_train.drop(columns=[\"date\", \"day_ahead_price_ch\"])\n",
    "    y_train = df_train[\"day_ahead_price_ch\"]\n",
    "\n",
    "    X_test = df_test.drop(columns=[\"date\", \"day_ahead_price_ch\"])\n",
    "    y_test = df_test[\"day_ahead_price_ch\"]\n",
    "\n",
    "    # Preprocess data\n",
    "    fitted_preprocessor = preprocessor.fit(X_train)\n",
    "\n",
    "    X_train_preprocessed = pd.DataFrame(\n",
    "        fitted_preprocessor.transform(X_train),\n",
    "        columns=fitted_preprocessor.get_feature_names_out(),\n",
    "    )\n",
    "\n",
    "    X_test_preprocessed = pd.DataFrame(\n",
    "        fitted_preprocessor.transform(X_test),\n",
    "        columns=fitted_preprocessor.get_feature_names_out(),\n",
    "    )\n",
    "\n",
    "    # Replace prefixes in column names\n",
    "    new_cols = (\n",
    "        X_train_preprocessed.columns.str.replace(\"numeric__\", \"\")\n",
    "        .str.replace(\"categorical__\", \"\")\n",
    "        .str.replace(\"remainder__\", \"\")\n",
    "    )\n",
    "\n",
    "    # Assign new column names to the DataFrame\n",
    "    X_train_preprocessed.columns = new_cols\n",
    "    X_test_preprocessed.columns = new_cols\n",
    "\n",
    "    # Create LightGBM dataset\n",
    "    train_data = lgb.Dataset(X_train_preprocessed, label=y_train, free_raw_data=False)\n",
    "\n",
    "    # Train the model\n",
    "    bst = lgb.train(\n",
    "        params=param,\n",
    "        train_set=train_data,\n",
    "        valid_sets=[train_data],\n",
    "        num_boost_round=num_boost_rounds,\n",
    "        # callbacks=[lgb.early_stopping(stopping_rounds=10)],\n",
    "    )\n",
    "\n",
    "    # Make predictions on validation set\n",
    "    y_pred = bst.predict(X_test_preprocessed, num_iteration=bst.best_iteration)\n",
    "\n",
    "    preds.extend(y_pred.tolist())\n",
    "\n",
    "preds = pd.DataFrame(\n",
    "    {\n",
    "        \"date\": df.query(\"date.dt.date in @test_days\")[\"date\"].to_list(),\n",
    "        \"preds\": preds,\n",
    "        \"actual\": df.query(\"date.dt.date in @test_days\")[\n",
    "            \"day_ahead_price_ch\"\n",
    "        ].to_list(),\n",
    "    }\n",
    ")"
   ]
  },
  {
   "cell_type": "code",
   "execution_count": null,
   "metadata": {},
   "outputs": [
    {
     "data": {
      "text/plain": [
       "<Axes: xlabel='date'>"
      ]
     },
     "execution_count": 182,
     "metadata": {},
     "output_type": "execute_result"
    },
    {
     "data": {
      "image/png": "[encoded data removed]",
      "text/plain": [
       "<Figure size 2000x400 with 1 Axes>"
      ]
     },
     "metadata": {},
     "output_type": "display_data"
    }
   ],
   "source": [
    "preds.plot(x=\"date\", y=[\"preds\", \"actual\"], figsize=(20, 4))"
   ]
  },
  {
   "cell_type": "code",
   "execution_count": null,
   "metadata": {},
   "outputs": [],
   "source": [
    "baseline = (\n",
    "    df.assign(baseline=lambda x: x.day_ahead_price_ch.shift(24))\n",
    "    .query(\"date.dt.date in @test_days\")\n",
    "    .filter([\"date\", \"day_ahead_price_ch\", \"baseline\"])\n",
    "    .rename(columns={\"baseline\": \"preds\", \"day_ahead_price_ch\": \"actual\"})\n",
    ")"
   ]
  },
  {
   "cell_type": "code",
   "execution_count": null,
   "metadata": {},
   "outputs": [
    {
     "name": "stdout",
     "output_type": "stream",
     "text": [
      "Metric for LGBM Model\n",
      "R2 Score:  0.7526713193248136\n",
      "MAE:  8.656362179523944\n",
      "MAPE:  0.11747994385579204\n",
      "RMSE:  11.514178737567784\n"
     ]
    }
   ],
   "source": [
    "print(\"Metric for LGBM Model\")\n",
    "print(\"R2 Score: \", r2_score(preds[\"actual\"], preds[\"preds\"]))\n",
    "print(\"MAE: \", mean_absolute_error(preds[\"actual\"], preds[\"preds\"]))\n",
    "print(\"MAPE: \", mean_absolute_percentage_error(preds[\"actual\"], preds[\"preds\"]))\n",
    "print(\"RMSE: \", root_mean_squared_error(preds[\"actual\"], preds[\"preds\"]))"
   ]
  },
  {
   "cell_type": "code",
   "execution_count": null,
   "metadata": {},
   "outputs": [
    {
     "name": "stdout",
     "output_type": "stream",
     "text": [
      "Metric for baseline model\n",
      "R2 Score:  0.693600766406421\n",
      "MAE:  8.569030955585465\n",
      "MAPE:  0.11511246599495328\n",
      "RMSE:  12.815618294665404\n"
     ]
    }
   ],
   "source": [
    "print(\"Metric for baseline model\")\n",
    "print(\"R2 Score: \", r2_score(baseline[\"actual\"], baseline[\"preds\"]))\n",
    "print(\"MAE: \", mean_absolute_error(baseline[\"actual\"], baseline[\"preds\"]))\n",
    "print(\"MAPE: \", mean_absolute_percentage_error(baseline[\"actual\"], baseline[\"preds\"]))\n",
    "print(\"RMSE: \", root_mean_squared_error(baseline[\"actual\"], baseline[\"preds\"]))"
   ]
  },
  {
   "cell_type": "code",
   "execution_count": null,
   "metadata": {},
   "outputs": [],
   "source": []
  }
 ],
 "metadata": {
  "kernelspec": {
   "display_name": "statslab",
   "language": "python",
   "name": "python3"
  },
  "language_info": {
   "codemirror_mode": {
    "name": "ipython",
    "version": 3
   },
   "file_extension": ".py",
   "mimetype": "text/x-python",
   "name": "python",
   "nbconvert_exporter": "python",
   "pygments_lexer": "ipython3",
   "version": "3.10.14"
  }
 },
 "nbformat": 4,
 "nbformat_minor": 2
}
