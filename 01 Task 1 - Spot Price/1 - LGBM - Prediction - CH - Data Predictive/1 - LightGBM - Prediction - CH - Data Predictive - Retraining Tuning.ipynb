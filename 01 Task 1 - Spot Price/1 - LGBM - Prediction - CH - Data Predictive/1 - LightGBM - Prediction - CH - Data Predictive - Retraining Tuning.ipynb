{
 "cells": [
  {
   "cell_type": "code",
   "execution_count": 1,
   "metadata": {},
   "outputs": [],
   "source": [
    "import pandas as pd\n",
    "import polars as pl\n",
    "import plotnine as pn\n",
    "import numpy as np\n",
    "from tqdm.notebook import tqdm\n",
    "\n",
    "import lightgbm as lgb\n",
    "from sklearn.linear_model import Lasso, ElasticNet, Ridge\n",
    "from sklearn.model_selection import TimeSeriesSplit\n",
    "from sklearn.impute import SimpleImputer\n",
    "from sklearn.experimental import enable_iterative_imputer\n",
    "from sklearn.impute import IterativeImputer, KNNImputer\n",
    "from sklearn.pipeline import FeatureUnion, make_pipeline, Pipeline\n",
    "from sklearn.compose import ColumnTransformer, make_column_selector\n",
    "from sklearn.preprocessing import (\n",
    "    LabelEncoder,\n",
    "    StandardScaler,\n",
    "    OneHotEncoder,\n",
    "    FunctionTransformer,\n",
    ")\n",
    "from sklearn.metrics import r2_score, mean_absolute_error, mean_absolute_percentage_error, mean_squared_error, root_mean_squared_error\n",
    "from sklearn.base import BaseEstimator, TransformerMixin\n",
    "from sklearn import config_context\n",
    "import optuna\n",
    "from optuna.visualization import plot_optimization_history, plot_param_importances, plot_parallel_coordinate\n",
    "import os\n",
    "import holidays\n",
    "\n",
    "%load_ext blackcellmagic"
   ]
  },
  {
   "cell_type": "markdown",
   "metadata": {},
   "source": [
    "### Data Preparation\n",
    "\n",
    "Focus on CH spot price first"
   ]
  },
  {
   "cell_type": "code",
   "execution_count": 2,
   "metadata": {},
   "outputs": [
    {
     "data": {
      "text/html": [
       "<div>\n",
       "<style scoped>\n",
       "    .dataframe tbody tr th:only-of-type {\n",
       "        vertical-align: middle;\n",
       "    }\n",
       "\n",
       "    .dataframe tbody tr th {\n",
       "        vertical-align: top;\n",
       "    }\n",
       "\n",
       "    .dataframe thead th {\n",
       "        text-align: right;\n",
       "    }\n",
       "</style>\n",
       "<table border=\"1\" class=\"dataframe\">\n",
       "  <thead>\n",
       "    <tr style=\"text-align: right;\">\n",
       "      <th></th>\n",
       "      <th>date</th>\n",
       "      <th>auction_price_ch_de</th>\n",
       "      <th>auction_price_de_ch</th>\n",
       "      <th>dst</th>\n",
       "      <th>day_ahead_price_at</th>\n",
       "      <th>day_ahead_price_ch</th>\n",
       "      <th>day_ahead_price_de</th>\n",
       "      <th>day_ahead_price_fr</th>\n",
       "      <th>day_ahead_price_it</th>\n",
       "      <th>actual_load_at</th>\n",
       "      <th>...</th>\n",
       "      <th>wind_offshore_actual_aggregated_it</th>\n",
       "      <th>wind_offshore_forecast_de</th>\n",
       "      <th>wind_onshore_actual_aggregated_at</th>\n",
       "      <th>wind_onshore_actual_aggregated_de</th>\n",
       "      <th>wind_onshore_actual_aggregated_fr</th>\n",
       "      <th>wind_onshore_actual_aggregated_it</th>\n",
       "      <th>wind_onshore_ch</th>\n",
       "      <th>wind_onshore_forecast_at</th>\n",
       "      <th>wind_onshore_forecast_de</th>\n",
       "      <th>wind_onshore_forecast_fr</th>\n",
       "    </tr>\n",
       "  </thead>\n",
       "  <tbody>\n",
       "    <tr>\n",
       "      <th>0</th>\n",
       "      <td>2023-01-01 00:00:00+00:00</td>\n",
       "      <td>0.01</td>\n",
       "      <td>6.09</td>\n",
       "      <td>1</td>\n",
       "      <td>NaN</td>\n",
       "      <td>-7.25</td>\n",
       "      <td>-1.07</td>\n",
       "      <td>NaN</td>\n",
       "      <td>NaN</td>\n",
       "      <td>NaN</td>\n",
       "      <td>...</td>\n",
       "      <td>NaN</td>\n",
       "      <td>3390.25</td>\n",
       "      <td>NaN</td>\n",
       "      <td>NaN</td>\n",
       "      <td>NaN</td>\n",
       "      <td>NaN</td>\n",
       "      <td>NaN</td>\n",
       "      <td>1174.0</td>\n",
       "      <td>35415.50</td>\n",
       "      <td>13933.0</td>\n",
       "    </tr>\n",
       "    <tr>\n",
       "      <th>1</th>\n",
       "      <td>2023-01-01 01:00:00+00:00</td>\n",
       "      <td>0.01</td>\n",
       "      <td>5.50</td>\n",
       "      <td>1</td>\n",
       "      <td>NaN</td>\n",
       "      <td>-3.99</td>\n",
       "      <td>-1.47</td>\n",
       "      <td>NaN</td>\n",
       "      <td>NaN</td>\n",
       "      <td>NaN</td>\n",
       "      <td>...</td>\n",
       "      <td>NaN</td>\n",
       "      <td>3395.50</td>\n",
       "      <td>NaN</td>\n",
       "      <td>NaN</td>\n",
       "      <td>NaN</td>\n",
       "      <td>NaN</td>\n",
       "      <td>NaN</td>\n",
       "      <td>1194.0</td>\n",
       "      <td>35146.75</td>\n",
       "      <td>13583.0</td>\n",
       "    </tr>\n",
       "    <tr>\n",
       "      <th>2</th>\n",
       "      <td>2023-01-01 02:00:00+00:00</td>\n",
       "      <td>0.01</td>\n",
       "      <td>6.45</td>\n",
       "      <td>1</td>\n",
       "      <td>NaN</td>\n",
       "      <td>-7.71</td>\n",
       "      <td>-5.08</td>\n",
       "      <td>NaN</td>\n",
       "      <td>NaN</td>\n",
       "      <td>NaN</td>\n",
       "      <td>...</td>\n",
       "      <td>NaN</td>\n",
       "      <td>3410.25</td>\n",
       "      <td>NaN</td>\n",
       "      <td>NaN</td>\n",
       "      <td>NaN</td>\n",
       "      <td>NaN</td>\n",
       "      <td>NaN</td>\n",
       "      <td>1085.0</td>\n",
       "      <td>34449.00</td>\n",
       "      <td>13230.0</td>\n",
       "    </tr>\n",
       "    <tr>\n",
       "      <th>3</th>\n",
       "      <td>2023-01-01 03:00:00+00:00</td>\n",
       "      <td>0.01</td>\n",
       "      <td>9.08</td>\n",
       "      <td>1</td>\n",
       "      <td>NaN</td>\n",
       "      <td>-9.71</td>\n",
       "      <td>-4.49</td>\n",
       "      <td>NaN</td>\n",
       "      <td>NaN</td>\n",
       "      <td>NaN</td>\n",
       "      <td>...</td>\n",
       "      <td>NaN</td>\n",
       "      <td>3431.25</td>\n",
       "      <td>NaN</td>\n",
       "      <td>NaN</td>\n",
       "      <td>NaN</td>\n",
       "      <td>NaN</td>\n",
       "      <td>NaN</td>\n",
       "      <td>897.0</td>\n",
       "      <td>33905.25</td>\n",
       "      <td>12877.0</td>\n",
       "    </tr>\n",
       "    <tr>\n",
       "      <th>4</th>\n",
       "      <td>2023-01-01 04:00:00+00:00</td>\n",
       "      <td>0.01</td>\n",
       "      <td>13.33</td>\n",
       "      <td>1</td>\n",
       "      <td>NaN</td>\n",
       "      <td>-15.15</td>\n",
       "      <td>-5.40</td>\n",
       "      <td>NaN</td>\n",
       "      <td>NaN</td>\n",
       "      <td>NaN</td>\n",
       "      <td>...</td>\n",
       "      <td>NaN</td>\n",
       "      <td>3454.25</td>\n",
       "      <td>NaN</td>\n",
       "      <td>NaN</td>\n",
       "      <td>NaN</td>\n",
       "      <td>NaN</td>\n",
       "      <td>NaN</td>\n",
       "      <td>697.0</td>\n",
       "      <td>33362.75</td>\n",
       "      <td>12311.0</td>\n",
       "    </tr>\n",
       "  </tbody>\n",
       "</table>\n",
       "<p>5 rows × 104 columns</p>\n",
       "</div>"
      ],
      "text/plain": [
       "                       date  auction_price_ch_de  auction_price_de_ch  dst  \\\n",
       "0 2023-01-01 00:00:00+00:00                 0.01                 6.09    1   \n",
       "1 2023-01-01 01:00:00+00:00                 0.01                 5.50    1   \n",
       "2 2023-01-01 02:00:00+00:00                 0.01                 6.45    1   \n",
       "3 2023-01-01 03:00:00+00:00                 0.01                 9.08    1   \n",
       "4 2023-01-01 04:00:00+00:00                 0.01                13.33    1   \n",
       "\n",
       "   day_ahead_price_at  day_ahead_price_ch  day_ahead_price_de  \\\n",
       "0                 NaN               -7.25               -1.07   \n",
       "1                 NaN               -3.99               -1.47   \n",
       "2                 NaN               -7.71               -5.08   \n",
       "3                 NaN               -9.71               -4.49   \n",
       "4                 NaN              -15.15               -5.40   \n",
       "\n",
       "   day_ahead_price_fr  day_ahead_price_it  actual_load_at  ...  \\\n",
       "0                 NaN                 NaN             NaN  ...   \n",
       "1                 NaN                 NaN             NaN  ...   \n",
       "2                 NaN                 NaN             NaN  ...   \n",
       "3                 NaN                 NaN             NaN  ...   \n",
       "4                 NaN                 NaN             NaN  ...   \n",
       "\n",
       "   wind_offshore_actual_aggregated_it  wind_offshore_forecast_de  \\\n",
       "0                                 NaN                    3390.25   \n",
       "1                                 NaN                    3395.50   \n",
       "2                                 NaN                    3410.25   \n",
       "3                                 NaN                    3431.25   \n",
       "4                                 NaN                    3454.25   \n",
       "\n",
       "   wind_onshore_actual_aggregated_at  wind_onshore_actual_aggregated_de  \\\n",
       "0                                NaN                                NaN   \n",
       "1                                NaN                                NaN   \n",
       "2                                NaN                                NaN   \n",
       "3                                NaN                                NaN   \n",
       "4                                NaN                                NaN   \n",
       "\n",
       "   wind_onshore_actual_aggregated_fr  wind_onshore_actual_aggregated_it  \\\n",
       "0                                NaN                                NaN   \n",
       "1                                NaN                                NaN   \n",
       "2                                NaN                                NaN   \n",
       "3                                NaN                                NaN   \n",
       "4                                NaN                                NaN   \n",
       "\n",
       "   wind_onshore_ch  wind_onshore_forecast_at  wind_onshore_forecast_de  \\\n",
       "0              NaN                    1174.0                  35415.50   \n",
       "1              NaN                    1194.0                  35146.75   \n",
       "2              NaN                    1085.0                  34449.00   \n",
       "3              NaN                     897.0                  33905.25   \n",
       "4              NaN                     697.0                  33362.75   \n",
       "\n",
       "   wind_onshore_forecast_fr  \n",
       "0                   13933.0  \n",
       "1                   13583.0  \n",
       "2                   13230.0  \n",
       "3                   12877.0  \n",
       "4                   12311.0  \n",
       "\n",
       "[5 rows x 104 columns]"
      ]
     },
     "execution_count": 2,
     "metadata": {},
     "output_type": "execute_result"
    }
   ],
   "source": [
    "df = pd.read_csv(\n",
    "    \"../../00 Data Retrieval and Cleaning/0_df_final_ml_predictive.csv\",\n",
    "    parse_dates=[\"date\"],\n",
    ")\n",
    "df.head()"
   ]
  },
  {
   "cell_type": "markdown",
   "metadata": {},
   "source": [
    "Need to lag the other three target variables by 24 hours, haven't done that yet:"
   ]
  },
  {
   "cell_type": "code",
   "execution_count": 3,
   "metadata": {},
   "outputs": [],
   "source": [
    "df = (\n",
    "    df\n",
    "    .assign(\n",
    "        day_ahead_price_de=lambda x: x[\"day_ahead_price_de\"].shift(24),\n",
    "        auction_price_de_ch=lambda x: x[\"auction_price_de_ch\"].shift(24),\n",
    "        auction_price_ch_de=lambda x: x[\"auction_price_ch_de\"].shift(24),\n",
    "    )\n",
    ")"
   ]
  },
  {
   "cell_type": "code",
   "execution_count": 4,
   "metadata": {},
   "outputs": [],
   "source": [
    "df = df.drop(\n",
    "    columns=df.isna().mean().reset_index(name=\"missing\").query(\"missing > 0.2\")[\"index\"]\n",
    ")"
   ]
  },
  {
   "cell_type": "markdown",
   "metadata": {},
   "source": [
    "### Include target lags\n",
    "\n",
    "- latest available price (last price of previous day)\n",
    "- last two week prices at exact hour (14 additional cols)"
   ]
  },
  {
   "cell_type": "code",
   "execution_count": 5,
   "metadata": {},
   "outputs": [],
   "source": [
    "# Adding last available price from previous day\n",
    "df = df.assign(\n",
    "    day=lambda x: x.date.dt.date,\n",
    "    day_ahead_price_ch_last=lambda x: x.groupby(\"day\")[\"day_ahead_price_ch\"].transform(\"last\").shift(24),\n",
    ")"
   ]
  },
  {
   "cell_type": "code",
   "execution_count": 6,
   "metadata": {},
   "outputs": [
    {
     "name": "stdout",
     "output_type": "stream",
     "text": [
      "[24, 25, 26, 27, 28, 29, 30, 31, 32, 33, 34, 35, 36, 37, 38, 39, 40, 41, 42, 43, 44, 45, 46, 47, 48, 72, 96, 120, 144, 168, 192, 216, 240, 264, 288, 312, 336]\n"
     ]
    }
   ],
   "source": [
    "# Adding lags in 24h steps for the last two weeks\n",
    "lags = np.arange(24, 49).tolist() + (np.arange(3, 15) * 24).tolist()\n",
    "print(lags)\n",
    "for i in lags:\n",
    "    df[f\"day_ahead_price_ch_lag_{i}\"] = df[\"day_ahead_price_ch\"].shift(i)"
   ]
  },
  {
   "cell_type": "code",
   "execution_count": 7,
   "metadata": {},
   "outputs": [
    {
     "name": "stdout",
     "output_type": "stream",
     "text": [
      "<class 'pandas.core.frame.DataFrame'>\n",
      "RangeIndex: 9501 entries, 0 to 9500\n",
      "Data columns (total 39 columns):\n",
      " #   Column                      Non-Null Count  Dtype  \n",
      "---  ------                      --------------  -----  \n",
      " 0   day_ahead_price_ch          9501 non-null   float64\n",
      " 1   day_ahead_price_ch_last     9477 non-null   float64\n",
      " 2   day_ahead_price_ch_lag_24   9477 non-null   float64\n",
      " 3   day_ahead_price_ch_lag_25   9476 non-null   float64\n",
      " 4   day_ahead_price_ch_lag_26   9475 non-null   float64\n",
      " 5   day_ahead_price_ch_lag_27   9474 non-null   float64\n",
      " 6   day_ahead_price_ch_lag_28   9473 non-null   float64\n",
      " 7   day_ahead_price_ch_lag_29   9472 non-null   float64\n",
      " 8   day_ahead_price_ch_lag_30   9471 non-null   float64\n",
      " 9   day_ahead_price_ch_lag_31   9470 non-null   float64\n",
      " 10  day_ahead_price_ch_lag_32   9469 non-null   float64\n",
      " 11  day_ahead_price_ch_lag_33   9468 non-null   float64\n",
      " 12  day_ahead_price_ch_lag_34   9467 non-null   float64\n",
      " 13  day_ahead_price_ch_lag_35   9466 non-null   float64\n",
      " 14  day_ahead_price_ch_lag_36   9465 non-null   float64\n",
      " 15  day_ahead_price_ch_lag_37   9464 non-null   float64\n",
      " 16  day_ahead_price_ch_lag_38   9463 non-null   float64\n",
      " 17  day_ahead_price_ch_lag_39   9462 non-null   float64\n",
      " 18  day_ahead_price_ch_lag_40   9461 non-null   float64\n",
      " 19  day_ahead_price_ch_lag_41   9460 non-null   float64\n",
      " 20  day_ahead_price_ch_lag_42   9459 non-null   float64\n",
      " 21  day_ahead_price_ch_lag_43   9458 non-null   float64\n",
      " 22  day_ahead_price_ch_lag_44   9457 non-null   float64\n",
      " 23  day_ahead_price_ch_lag_45   9456 non-null   float64\n",
      " 24  day_ahead_price_ch_lag_46   9455 non-null   float64\n",
      " 25  day_ahead_price_ch_lag_47   9454 non-null   float64\n",
      " 26  day_ahead_price_ch_lag_48   9453 non-null   float64\n",
      " 27  day_ahead_price_ch_lag_72   9429 non-null   float64\n",
      " 28  day_ahead_price_ch_lag_96   9405 non-null   float64\n",
      " 29  day_ahead_price_ch_lag_120  9381 non-null   float64\n",
      " 30  day_ahead_price_ch_lag_144  9357 non-null   float64\n",
      " 31  day_ahead_price_ch_lag_168  9333 non-null   float64\n",
      " 32  day_ahead_price_ch_lag_192  9309 non-null   float64\n",
      " 33  day_ahead_price_ch_lag_216  9285 non-null   float64\n",
      " 34  day_ahead_price_ch_lag_240  9261 non-null   float64\n",
      " 35  day_ahead_price_ch_lag_264  9237 non-null   float64\n",
      " 36  day_ahead_price_ch_lag_288  9213 non-null   float64\n",
      " 37  day_ahead_price_ch_lag_312  9189 non-null   float64\n",
      " 38  day_ahead_price_ch_lag_336  9165 non-null   float64\n",
      "dtypes: float64(39)\n",
      "memory usage: 2.8 MB\n"
     ]
    }
   ],
   "source": [
    "df.filter(regex=\"day_ahead_price_ch\").info()"
   ]
  },
  {
   "cell_type": "markdown",
   "metadata": {},
   "source": [
    "### Additional Feature Generation\n",
    "\n",
    "- There might be a benefit of encoding cyclical calendar information\n",
    "- Additionally: Holidays"
   ]
  },
  {
   "cell_type": "markdown",
   "metadata": {},
   "source": [
    "Include a trend column:"
   ]
  },
  {
   "cell_type": "code",
   "execution_count": 8,
   "metadata": {},
   "outputs": [],
   "source": [
    "df = df.assign(trend=lambda x: x.index)"
   ]
  },
  {
   "cell_type": "code",
   "execution_count": 9,
   "metadata": {},
   "outputs": [],
   "source": [
    "# Define the country (Switzerland)\n",
    "country = \"CH\"\n",
    "\n",
    "regional_holidays = holidays.CH(\n",
    "    years=df.date.dt.year.unique().tolist()\n",
    ")"
   ]
  },
  {
   "cell_type": "code",
   "execution_count": 10,
   "metadata": {},
   "outputs": [
    {
     "data": {
      "text/html": [
       "<div>\n",
       "<style scoped>\n",
       "    .dataframe tbody tr th:only-of-type {\n",
       "        vertical-align: middle;\n",
       "    }\n",
       "\n",
       "    .dataframe tbody tr th {\n",
       "        vertical-align: top;\n",
       "    }\n",
       "\n",
       "    .dataframe thead th {\n",
       "        text-align: right;\n",
       "    }\n",
       "</style>\n",
       "<table border=\"1\" class=\"dataframe\">\n",
       "  <thead>\n",
       "    <tr style=\"text-align: right;\">\n",
       "      <th></th>\n",
       "      <th>holiday_name</th>\n",
       "      <th>holiday_date</th>\n",
       "    </tr>\n",
       "  </thead>\n",
       "  <tbody>\n",
       "    <tr>\n",
       "      <th>4</th>\n",
       "      <td>Neujahrestag</td>\n",
       "      <td>2023-01-01</td>\n",
       "    </tr>\n",
       "    <tr>\n",
       "      <th>5</th>\n",
       "      <td>Auffahrt</td>\n",
       "      <td>2023-05-18</td>\n",
       "    </tr>\n",
       "    <tr>\n",
       "      <th>6</th>\n",
       "      <td>Nationalfeiertag</td>\n",
       "      <td>2023-08-01</td>\n",
       "    </tr>\n",
       "    <tr>\n",
       "      <th>7</th>\n",
       "      <td>Weihnachten</td>\n",
       "      <td>2023-12-25</td>\n",
       "    </tr>\n",
       "    <tr>\n",
       "      <th>0</th>\n",
       "      <td>Neujahrestag</td>\n",
       "      <td>2024-01-01</td>\n",
       "    </tr>\n",
       "  </tbody>\n",
       "</table>\n",
       "</div>"
      ],
      "text/plain": [
       "       holiday_name holiday_date\n",
       "4      Neujahrestag   2023-01-01\n",
       "5          Auffahrt   2023-05-18\n",
       "6  Nationalfeiertag   2023-08-01\n",
       "7       Weihnachten   2023-12-25\n",
       "0      Neujahrestag   2024-01-01"
      ]
     },
     "execution_count": 10,
     "metadata": {},
     "output_type": "execute_result"
    }
   ],
   "source": [
    "holiday_df = pd.DataFrame(\n",
    "    {\n",
    "        \"holiday_name\": list(regional_holidays.values()),\n",
    "        \"holiday_date\": list(regional_holidays.keys()),\n",
    "    }\n",
    ")\n",
    "\n",
    "holiday_df.sort_values(\"holiday_date\").head()"
   ]
  },
  {
   "cell_type": "code",
   "execution_count": 11,
   "metadata": {},
   "outputs": [
    {
     "data": {
      "text/plain": [
       "holiday_name\n",
       "Auffahrt            2\n",
       "Nationalfeiertag    2\n",
       "Neujahrestag        2\n",
       "Weihnachten         2\n",
       "Name: count, dtype: int64"
      ]
     },
     "execution_count": 11,
     "metadata": {},
     "output_type": "execute_result"
    }
   ],
   "source": [
    "holiday_df.value_counts(\"holiday_name\")"
   ]
  },
  {
   "cell_type": "code",
   "execution_count": 12,
   "metadata": {},
   "outputs": [],
   "source": [
    "df = (\n",
    "    df.assign(\n",
    "        hour=lambda x: x.date.dt.hour + 1,\n",
    "        month=lambda x: x.date.dt.month,\n",
    "        quarter=lambda x: x.date.dt.quarter,\n",
    "        wday=lambda x: x.date.dt.day_of_week + 1,\n",
    "        weekend=lambda x: np.where(\n",
    "            x.date.dt.day_name().isin([\"Sunday\", \"Saturday\"]), 1, 0\n",
    "        ),\n",
    "        work_hour=lambda x: np.where(\n",
    "            x[\"hour\"].isin(np.arange(17, 24).tolist() + np.arange(1, 5).tolist()), 0, 1\n",
    "        ),\n",
    "        week_hour=lambda x: x.date.dt.dayofweek * 24 + (x.date.dt.hour + 1),\n",
    "        year=lambda x: x.date.dt.year,\n",
    "        hour_counter=lambda x: np.arange(0, x.shape[0]),\n",
    "    )\n",
    "    .assign(day=lambda x: x.date.dt.date)\n",
    "    .merge(holiday_df, how=\"left\", left_on=\"day\", right_on=\"holiday_date\")\n",
    "    .drop([\"holiday_date\", \"day\"], axis=1)\n",
    "    .assign(\n",
    "        holiday_name=lambda x: np.where(\n",
    "            x[\"holiday_name\"].isna(), \"none\", x[\"holiday_name\"]\n",
    "        )\n",
    "    )\n",
    ")"
   ]
  },
  {
   "cell_type": "code",
   "execution_count": 13,
   "metadata": {},
   "outputs": [
    {
     "data": {
      "text/plain": [
       "holiday_name\n",
       "none                9381\n",
       "Neujahrestag          48\n",
       "Auffahrt              24\n",
       "Nationalfeiertag      24\n",
       "Weihnachten           24\n",
       "Name: count, dtype: int64"
      ]
     },
     "execution_count": 13,
     "metadata": {},
     "output_type": "execute_result"
    }
   ],
   "source": [
    "df.value_counts(\"holiday_name\")"
   ]
  },
  {
   "cell_type": "markdown",
   "metadata": {},
   "source": [
    "### Feature Engineering"
   ]
  },
  {
   "cell_type": "markdown",
   "metadata": {},
   "source": [
    "Other:\n",
    "- `date`: drop, can't feed into net\n",
    "\n",
    "Numerical:\n",
    "- everything but `holiday_name`\n",
    "\n",
    "Categorical\n",
    "- `holiday_name`: one-hot encode"
   ]
  },
  {
   "cell_type": "markdown",
   "metadata": {},
   "source": [
    "#### Cyclical Encoding"
   ]
  },
  {
   "cell_type": "markdown",
   "metadata": {},
   "source": [
    "- avoid issue with exploding feature space when one-hot encoding hundreds of levels in categorical vars\n",
    "- puts end of cycle closer to beginning (End of Year is not that different from BOY)"
   ]
  },
  {
   "cell_type": "code",
   "execution_count": 14,
   "metadata": {},
   "outputs": [],
   "source": [
    "def sin_transformer(period):\n",
    "    return FunctionTransformer(lambda x: np.sin(x / period * 2 * np.pi))\n",
    "\n",
    "\n",
    "def cos_transformer(period):\n",
    "    return FunctionTransformer(lambda x: np.cos(x / period * 2 * np.pi))"
   ]
  },
  {
   "cell_type": "code",
   "execution_count": 15,
   "metadata": {},
   "outputs": [],
   "source": [
    "# hour in day\n",
    "df[\"hour_sin\"] = sin_transformer(24).fit_transform(df[\"hour\"].astype(float))\n",
    "df[\"hour_cos\"] = cos_transformer(24).fit_transform(df[\"hour\"].astype(float))\n",
    "\n",
    "# hour in week\n",
    "df[\"week_hour_sin\"] = sin_transformer(168).fit_transform(df[\"week_hour\"].astype(float))\n",
    "df[\"week_hour_cos\"] = cos_transformer(168).fit_transform(df[\"week_hour\"].astype(float))\n",
    "\n",
    "# month\n",
    "df[\"month_sin\"] = sin_transformer(12).fit_transform(df[\"month\"].astype(float))\n",
    "df[\"month_cos\"] = cos_transformer(12).fit_transform(df[\"month\"].astype(float))\n",
    "\n",
    "# quarter\n",
    "df[\"quarter_sin\"] = sin_transformer(4).fit_transform(df[\"quarter\"].astype(float))\n",
    "df[\"quarter_cos\"] = cos_transformer(4).fit_transform(df[\"quarter\"].astype(float))\n",
    "\n",
    "# weekday\n",
    "df[\"wday_sin\"] = sin_transformer(7).fit_transform(df[\"wday\"].astype(float))\n",
    "df[\"wday_cos\"] = cos_transformer(7).fit_transform(df[\"wday\"].astype(float))\n",
    "\n",
    "df = df.drop([\"hour\", \"month\", \"quarter\", \"wday\", \"week_hour\"], axis=1)"
   ]
  },
  {
   "cell_type": "markdown",
   "metadata": {},
   "source": [
    "#### `sklearn` Pipeline for Data Preparation"
   ]
  },
  {
   "cell_type": "code",
   "execution_count": 16,
   "metadata": {},
   "outputs": [],
   "source": [
    "manual_cols = [\"trend\", \"unique_id\"]\n",
    "drop_cols = [\"date\", \"day_ahead_price_ch\"]\n",
    "\n",
    "pipeline_cols = [\n",
    "    col\n",
    "    for col in df.drop(drop_cols, axis=1).columns\n",
    "    if col not in manual_cols\n",
    "]\n",
    "\n",
    "num_cols = (\n",
    "    df.drop(drop_cols, axis=1)\n",
    "    .filter(pipeline_cols)\n",
    "    .select_dtypes(include=np.number)\n",
    "    .columns\n",
    ")\n",
    "cat_cols = (\n",
    "    df.drop(drop_cols, axis=1)\n",
    "    .filter(pipeline_cols)\n",
    "    .select_dtypes(exclude=np.number)\n",
    "    .columns\n",
    ")"
   ]
  },
  {
   "cell_type": "code",
   "execution_count": 17,
   "metadata": {},
   "outputs": [
    {
     "data": {
      "text/plain": [
       "['auction_price_ch_de',\n",
       " 'auction_price_de_ch',\n",
       " 'dst',\n",
       " 'day_ahead_price_at',\n",
       " 'day_ahead_price_de',\n",
       " 'day_ahead_price_fr',\n",
       " 'day_ahead_price_it',\n",
       " 'actual_load_at',\n",
       " 'actual_load_ch',\n",
       " 'actual_load_de',\n",
       " 'actual_load_fr',\n",
       " 'actual_load_it',\n",
       " 'allocated_capacity_ch_de',\n",
       " 'allocated_capacity_de_ch',\n",
       " 'biomass_actual_aggregated_at',\n",
       " 'biomass_actual_aggregated_de',\n",
       " 'biomass_actual_aggregated_fr',\n",
       " 'biomass_actual_aggregated_it',\n",
       " 'capacity_forecast_at_ch',\n",
       " 'capacity_forecast_ch_at',\n",
       " 'capacity_forecast_ch_de_lu',\n",
       " 'capacity_forecast_ch_fr',\n",
       " 'capacity_forecast_ch_it',\n",
       " 'capacity_forecast_de_lu_ch',\n",
       " 'capacity_forecast_fr_ch',\n",
       " 'capacity_forecast_it_ch',\n",
       " 'crossborder_actual_flow_at_ch',\n",
       " 'crossborder_actual_flow_ch_at',\n",
       " 'crossborder_actual_flow_ch_de_lu',\n",
       " 'crossborder_actual_flow_ch_fr',\n",
       " 'crossborder_actual_flow_ch_it',\n",
       " 'crossborder_actual_flow_de_lu_ch',\n",
       " 'crossborder_actual_flow_fr_ch',\n",
       " 'crossborder_actual_flow_it_ch',\n",
       " 'fossil_brown_coal_lignite_actual_aggregated_de',\n",
       " 'fossil_coal_derived_gas_actual_aggregated_it',\n",
       " 'fossil_gas_actual_aggregated_at',\n",
       " 'fossil_gas_actual_aggregated_de',\n",
       " 'fossil_gas_actual_aggregated_fr',\n",
       " 'fossil_gas_actual_aggregated_it',\n",
       " 'fossil_hard_coal_actual_aggregated_de',\n",
       " 'fossil_hard_coal_actual_aggregated_fr',\n",
       " 'fossil_hard_coal_actual_aggregated_it',\n",
       " 'fossil_oil_actual_aggregated_de',\n",
       " 'fossil_oil_actual_aggregated_fr',\n",
       " 'fossil_oil_actual_aggregated_it',\n",
       " 'geothermal_actual_aggregated_de',\n",
       " 'geothermal_actual_aggregated_it',\n",
       " 'hydro_pumped_storage_actual_aggregated_at',\n",
       " 'hydro_pumped_storage_actual_aggregated_de',\n",
       " 'hydro_pumped_storage_actual_aggregated_fr',\n",
       " 'hydro_pumped_storage_actual_aggregated_it',\n",
       " 'hydro_pumped_storage_actual_consumption_at',\n",
       " 'hydro_pumped_storage_actual_consumption_de',\n",
       " 'hydro_pumped_storage_actual_consumption_fr',\n",
       " 'hydro_pumped_storage_ch',\n",
       " 'hydro_reservoir_storage_at',\n",
       " 'hydro_reservoir_storage_ch',\n",
       " 'hydro_reservoir_storage_fr',\n",
       " 'hydro_reservoir_storage_it',\n",
       " 'hydro_run_of_river_and_poundage_actual_aggregated_at',\n",
       " 'hydro_run_of_river_and_poundage_actual_aggregated_de',\n",
       " 'hydro_run_of_river_and_poundage_actual_aggregated_fr',\n",
       " 'hydro_run_of_river_and_poundage_actual_aggregated_it',\n",
       " 'hydro_run_of_river_and_poundage_ch',\n",
       " 'hydro_water_reservoir_actual_aggregated_at',\n",
       " 'hydro_water_reservoir_actual_aggregated_de',\n",
       " 'hydro_water_reservoir_actual_aggregated_fr',\n",
       " 'hydro_water_reservoir_actual_aggregated_it',\n",
       " 'hydro_water_reservoir_ch',\n",
       " 'nuclear_actual_aggregated_de',\n",
       " 'nuclear_actual_aggregated_fr',\n",
       " 'nuclear_ch',\n",
       " 'other_actual_aggregated_de',\n",
       " 'other_actual_aggregated_it',\n",
       " 'other_renewable_actual_aggregated_de',\n",
       " 'solar_actual_aggregated_at',\n",
       " 'solar_actual_aggregated_de',\n",
       " 'solar_actual_aggregated_fr',\n",
       " 'solar_actual_aggregated_it',\n",
       " 'solar_ch',\n",
       " 'solar_forecast_at',\n",
       " 'solar_forecast_ch',\n",
       " 'solar_forecast_de',\n",
       " 'solar_forecast_fr',\n",
       " 'solar_forecast_it',\n",
       " 'waste_actual_aggregated_de',\n",
       " 'waste_actual_aggregated_fr',\n",
       " 'waste_actual_aggregated_it',\n",
       " 'wind_offshore_actual_aggregated_de',\n",
       " 'wind_offshore_actual_aggregated_it',\n",
       " 'wind_offshore_forecast_de',\n",
       " 'wind_onshore_actual_aggregated_at',\n",
       " 'wind_onshore_actual_aggregated_de',\n",
       " 'wind_onshore_actual_aggregated_fr',\n",
       " 'wind_onshore_actual_aggregated_it',\n",
       " 'wind_onshore_ch',\n",
       " 'wind_onshore_forecast_at',\n",
       " 'wind_onshore_forecast_de',\n",
       " 'wind_onshore_forecast_fr',\n",
       " 'day_ahead_price_ch_last',\n",
       " 'day_ahead_price_ch_lag_24',\n",
       " 'day_ahead_price_ch_lag_25',\n",
       " 'day_ahead_price_ch_lag_26',\n",
       " 'day_ahead_price_ch_lag_27',\n",
       " 'day_ahead_price_ch_lag_28',\n",
       " 'day_ahead_price_ch_lag_29',\n",
       " 'day_ahead_price_ch_lag_30',\n",
       " 'day_ahead_price_ch_lag_31',\n",
       " 'day_ahead_price_ch_lag_32',\n",
       " 'day_ahead_price_ch_lag_33',\n",
       " 'day_ahead_price_ch_lag_34',\n",
       " 'day_ahead_price_ch_lag_35',\n",
       " 'day_ahead_price_ch_lag_36',\n",
       " 'day_ahead_price_ch_lag_37',\n",
       " 'day_ahead_price_ch_lag_38',\n",
       " 'day_ahead_price_ch_lag_39',\n",
       " 'day_ahead_price_ch_lag_40',\n",
       " 'day_ahead_price_ch_lag_41',\n",
       " 'day_ahead_price_ch_lag_42',\n",
       " 'day_ahead_price_ch_lag_43',\n",
       " 'day_ahead_price_ch_lag_44',\n",
       " 'day_ahead_price_ch_lag_45',\n",
       " 'day_ahead_price_ch_lag_46',\n",
       " 'day_ahead_price_ch_lag_47',\n",
       " 'day_ahead_price_ch_lag_48',\n",
       " 'day_ahead_price_ch_lag_72',\n",
       " 'day_ahead_price_ch_lag_96',\n",
       " 'day_ahead_price_ch_lag_120',\n",
       " 'day_ahead_price_ch_lag_144',\n",
       " 'day_ahead_price_ch_lag_168',\n",
       " 'day_ahead_price_ch_lag_192',\n",
       " 'day_ahead_price_ch_lag_216',\n",
       " 'day_ahead_price_ch_lag_240',\n",
       " 'day_ahead_price_ch_lag_264',\n",
       " 'day_ahead_price_ch_lag_288',\n",
       " 'day_ahead_price_ch_lag_312',\n",
       " 'day_ahead_price_ch_lag_336',\n",
       " 'weekend',\n",
       " 'work_hour',\n",
       " 'year',\n",
       " 'hour_counter',\n",
       " 'holiday_name',\n",
       " 'hour_sin',\n",
       " 'hour_cos',\n",
       " 'week_hour_sin',\n",
       " 'week_hour_cos',\n",
       " 'month_sin',\n",
       " 'month_cos',\n",
       " 'quarter_sin',\n",
       " 'quarter_cos',\n",
       " 'wday_sin',\n",
       " 'wday_cos']"
      ]
     },
     "execution_count": 17,
     "metadata": {},
     "output_type": "execute_result"
    }
   ],
   "source": [
    "pipeline_cols"
   ]
  },
  {
   "cell_type": "code",
   "execution_count": 18,
   "metadata": {},
   "outputs": [
    {
     "data": {
      "text/plain": [
       "Index(['auction_price_ch_de', 'auction_price_de_ch', 'dst',\n",
       "       'day_ahead_price_at', 'day_ahead_price_de', 'day_ahead_price_fr',\n",
       "       'day_ahead_price_it', 'actual_load_at', 'actual_load_ch',\n",
       "       'actual_load_de',\n",
       "       ...\n",
       "       'hour_sin', 'hour_cos', 'week_hour_sin', 'week_hour_cos', 'month_sin',\n",
       "       'month_cos', 'quarter_sin', 'quarter_cos', 'wday_sin', 'wday_cos'],\n",
       "      dtype='object', length=152)"
      ]
     },
     "execution_count": 18,
     "metadata": {},
     "output_type": "execute_result"
    }
   ],
   "source": [
    "num_cols"
   ]
  },
  {
   "cell_type": "code",
   "execution_count": 19,
   "metadata": {},
   "outputs": [
    {
     "data": {
      "text/plain": [
       "Index(['holiday_name'], dtype='object')"
      ]
     },
     "execution_count": 19,
     "metadata": {},
     "output_type": "execute_result"
    }
   ],
   "source": [
    "cat_cols"
   ]
  },
  {
   "cell_type": "code",
   "execution_count": 20,
   "metadata": {},
   "outputs": [],
   "source": [
    "numeric_transformer = Pipeline(\n",
    "    steps=[\n",
    "        (\"imputer\", SimpleImputer()),\n",
    "        # (\"scaler\", StandardScaler())\n",
    "    ]\n",
    ")\n",
    "\n",
    "categorical_transformer = Pipeline(\n",
    "    steps=[\n",
    "        (\"imputer\", SimpleImputer(strategy=\"most_frequent\")),\n",
    "        (\n",
    "            \"encoder\",\n",
    "            OneHotEncoder(sparse_output=False, handle_unknown=\"ignore\"),\n",
    "        ),\n",
    "    ]\n",
    ")\n",
    "\n",
    "# Making column transformer where all transformers in the pipelines are included\n",
    "preprocessor = ColumnTransformer(\n",
    "    transformers=[\n",
    "        (\"numeric\", numeric_transformer, num_cols),\n",
    "        (\"categorical\", categorical_transformer, cat_cols),\n",
    "    ],\n",
    "    remainder=\"passthrough\",\n",
    ")"
   ]
  },
  {
   "cell_type": "markdown",
   "metadata": {},
   "source": [
    "### Validation set\n",
    "\n",
    "Do the tuning on a validation set in the second quarter of 2023:"
   ]
  },
  {
   "cell_type": "code",
   "execution_count": 21,
   "metadata": {},
   "outputs": [],
   "source": [
    "val_start = pd.Timestamp(\"2023-04-01\").tz_localize(\"UTC\")\n",
    "val_end = pd.Timestamp(\"2023-06-30\").tz_localize(\"UTC\")\n",
    "\n",
    "val_days = df.query(\"date >= @val_start & date <= @val_end\").date.dt.date.unique()"
   ]
  },
  {
   "cell_type": "code",
   "execution_count": 22,
   "metadata": {},
   "outputs": [
    {
     "data": {
      "application/vnd.jupyter.widget-view+json": {
       "model_id": "949cd7f040a74f578ebc0b0f4d991c2a",
       "version_major": 2,
       "version_minor": 0
      },
      "text/plain": [
       "  0%|          | 0/91 [00:00<?, ?it/s]"
      ]
     },
     "metadata": {},
     "output_type": "display_data"
    }
   ],
   "source": [
    "lookback_days = 30\n",
    "preds = []\n",
    "\n",
    "num_boost_rounds = 100\n",
    "\n",
    "param = dict(verbose=-1, objective=\"regression\", metric=\"rmse\")\n",
    "\n",
    "for current_day in tqdm(val_days):\n",
    "    train_start_day = current_day - pd.Timedelta(days=lookback_days)\n",
    "    train_end_day = current_day - pd.Timedelta(days=1)\n",
    "    \n",
    "    df_train = df.query(\"@train_start_day <= date.dt.date <= @train_end_day\")\n",
    "    df_test = df.query(\"date.dt.date == @current_day\")\n",
    "    \n",
    "    # Split data\n",
    "    X_train = df_train.drop(columns=[\"date\", \"day_ahead_price_ch\"])\n",
    "    y_train = df_train[\"day_ahead_price_ch\"]\n",
    "\n",
    "    X_test = df_test.drop(columns=[\"date\", \"day_ahead_price_ch\"])\n",
    "    y_test = df_test[\"day_ahead_price_ch\"]\n",
    "\n",
    "    # Preprocess data\n",
    "    fitted_preprocessor = preprocessor.fit(X_train)\n",
    "\n",
    "    X_train_preprocessed = pd.DataFrame(\n",
    "        fitted_preprocessor.transform(X_train),\n",
    "        columns=fitted_preprocessor.get_feature_names_out(),\n",
    "    )\n",
    "\n",
    "    X_test_preprocessed = pd.DataFrame(\n",
    "        fitted_preprocessor.transform(X_test),\n",
    "        columns=fitted_preprocessor.get_feature_names_out(),\n",
    "    )\n",
    "\n",
    "    # Replace prefixes in column names\n",
    "    new_cols = X_train_preprocessed.columns.str.replace('numeric__', '').str.replace('categorical__', '').str.replace('remainder__', '')\n",
    "\n",
    "    # Assign new column names to the DataFrame\n",
    "    X_train_preprocessed.columns = new_cols\n",
    "    X_test_preprocessed.columns = new_cols\n",
    "\n",
    "    # Create LightGBM dataset\n",
    "    train_data = lgb.Dataset(X_train_preprocessed, label=y_train, free_raw_data=False)\n",
    "\n",
    "    # Train the model\n",
    "    bst = lgb.train(\n",
    "        params=param,\n",
    "        train_set=train_data,\n",
    "        valid_sets=[train_data],\n",
    "        num_boost_round=num_boost_rounds,\n",
    "        # callbacks=[lgb.early_stopping(stopping_rounds=10)],\n",
    "    )\n",
    "\n",
    "    # Make predictions on validation set\n",
    "    y_pred = bst.predict(X_test_preprocessed, num_iteration=bst.best_iteration)\n",
    "\n",
    "    preds.extend(y_pred.tolist())"
   ]
  },
  {
   "cell_type": "code",
   "execution_count": 23,
   "metadata": {},
   "outputs": [],
   "source": [
    "preds = pd.DataFrame({\n",
    "    \"date\": df.query(\"date.dt.date in @val_days\")[\"date\"].to_list(),\n",
    "    \"preds\": preds,\n",
    "    \"actual\": df.query(\"date.dt.date in @val_days\")[\"day_ahead_price_ch\"].to_list()\n",
    "})"
   ]
  },
  {
   "cell_type": "code",
   "execution_count": 24,
   "metadata": {},
   "outputs": [
    {
     "data": {
      "text/plain": [
       "<Axes: xlabel='date'>"
      ]
     },
     "execution_count": 24,
     "metadata": {},
     "output_type": "execute_result"
    },
    {
     "data": {
      "image/png": "[encoded data removed]",
      "text/plain": [
       "<Figure size 2000x400 with 1 Axes>"
      ]
     },
     "metadata": {},
     "output_type": "display_data"
    }
   ],
   "source": [
    "preds.plot(x=\"date\", y=[\"preds\", \"actual\"], figsize=(20, 4))"
   ]
  },
  {
   "cell_type": "code",
   "execution_count": 25,
   "metadata": {},
   "outputs": [],
   "source": [
    "baseline = (\n",
    "    df.assign(baseline=lambda x: x.day_ahead_price_ch.shift(24))\n",
    "    .query(\"date.dt.date in @val_days\")\n",
    "    .filter([\"date\", \"day_ahead_price_ch\", \"baseline\"])\n",
    "    .rename(columns={\"baseline\": \"preds\", \"day_ahead_price_ch\": \"actual\"})\n",
    ")"
   ]
  },
  {
   "cell_type": "code",
   "execution_count": 26,
   "metadata": {},
   "outputs": [
    {
     "name": "stdout",
     "output_type": "stream",
     "text": [
      "Metric for LGBM Model\n",
      "R2 Score:  0.7176369563486089\n",
      "MAE:  11.608556752242079\n",
      "MAPE:  5.141287102482159\n",
      "RMSE:  17.125518726769382\n"
     ]
    }
   ],
   "source": [
    "print(\"Metric for LGBM Model\")\n",
    "print(\"R2 Score: \", r2_score(preds[\"actual\"], preds[\"preds\"]))\n",
    "print(\"MAE: \", mean_absolute_error(preds[\"actual\"], preds[\"preds\"]))\n",
    "print(\"MAPE: \", mean_absolute_percentage_error(preds[\"actual\"], preds[\"preds\"]))\n",
    "print(\"RMSE: \", root_mean_squared_error(preds[\"actual\"], preds[\"preds\"]))"
   ]
  },
  {
   "cell_type": "code",
   "execution_count": 27,
   "metadata": {},
   "outputs": [
    {
     "name": "stdout",
     "output_type": "stream",
     "text": [
      "Metric for baseline model\n",
      "R2 Score:  0.42190934749479436\n",
      "MAE:  15.763873626373627\n",
      "MAPE:  3.6357653190834913\n",
      "RMSE:  24.504044993883582\n"
     ]
    }
   ],
   "source": [
    "print(\"Metric for baseline model\")\n",
    "print(\"R2 Score: \", r2_score(baseline[\"actual\"], baseline[\"preds\"]))\n",
    "print(\"MAE: \", mean_absolute_error(baseline[\"actual\"], baseline[\"preds\"]))\n",
    "print(\"MAPE: \", mean_absolute_percentage_error(baseline[\"actual\"], baseline[\"preds\"]))\n",
    "print(\"RMSE: \", root_mean_squared_error(baseline[\"actual\"], baseline[\"preds\"]))"
   ]
  },
  {
   "cell_type": "markdown",
   "metadata": {},
   "source": [
    "### Hyperparameter Optimization"
   ]
  },
  {
   "cell_type": "code",
   "execution_count": 28,
   "metadata": {},
   "outputs": [],
   "source": [
    "val_start = pd.Timestamp(\"2023-02-01\").tz_localize(\"UTC\")\n",
    "val_end = pd.Timestamp(\"2023-12-30\").tz_localize(\"UTC\")\n",
    "\n",
    "val_days = df.query(\"date >= @val_start & date <= @val_end\").date.dt.date.unique()"
   ]
  },
  {
   "cell_type": "code",
   "execution_count": 29,
   "metadata": {},
   "outputs": [],
   "source": [
    "def objective(trial):\n",
    "    \n",
    "    lookback_days = trial.suggest_int(\"lookback_days\", 1, 30)\n",
    "    preds = []\n",
    "    num_boost_rounds = trial.suggest_int(\"num_boost_rounds\", 50, 500)\n",
    "\n",
    "    # Define the parameter grid\n",
    "    param = {\n",
    "        \"verbose\": -1,\n",
    "        'objective': 'regression', \n",
    "        'metric': 'rmse',\n",
    "        'learning_rate': trial.suggest_float('learning_rate', 1e-5, 1e-1, log=True),\n",
    "        \"max_depth\" : trial.suggest_int('max_depth', 3, 15),\n",
    "        'num_leaves': trial.suggest_int('num_leaves', 10, 120),\n",
    "        'lambda_l1': trial.suggest_float('lambda_l1', 1e-8, 10.0, log=True),\n",
    "        'lambda_l2': trial.suggest_float('lambda_l2', 1e-8, 10.0, log=True),\n",
    "        'min_split_gain': trial.suggest_float('min_split_gain', 1e-8, 1.0, log=True),\n",
    "    }\n",
    "\n",
    "    for current_day in tqdm(val_days):\n",
    "        train_start_day = current_day - pd.Timedelta(days=lookback_days)\n",
    "        train_end_day = current_day - pd.Timedelta(days=1)\n",
    "\n",
    "        df_train = df.query(\"@train_start_day <= date.dt.date <= @train_end_day\")\n",
    "        df_test = df.query(\"date.dt.date == @current_day\")\n",
    "\n",
    "        # Split data\n",
    "        X_train = df_train.drop(columns=[\"date\", \"day_ahead_price_ch\"])\n",
    "        y_train = df_train[\"day_ahead_price_ch\"]\n",
    "\n",
    "        X_test = df_test.drop(columns=[\"date\", \"day_ahead_price_ch\"])\n",
    "        y_test = df_test[\"day_ahead_price_ch\"]\n",
    "\n",
    "        # Preprocess data\n",
    "        fitted_preprocessor = preprocessor.fit(X_train)\n",
    "\n",
    "        X_train_preprocessed = pd.DataFrame(\n",
    "            fitted_preprocessor.transform(X_train),\n",
    "            columns=fitted_preprocessor.get_feature_names_out(),\n",
    "        )\n",
    "\n",
    "        X_test_preprocessed = pd.DataFrame(\n",
    "            fitted_preprocessor.transform(X_test),\n",
    "            columns=fitted_preprocessor.get_feature_names_out(),\n",
    "        )\n",
    "\n",
    "        # Replace prefixes in column names\n",
    "        new_cols = (\n",
    "            X_train_preprocessed.columns.str.replace(\"numeric__\", \"\")\n",
    "            .str.replace(\"categorical__\", \"\")\n",
    "            .str.replace(\"remainder__\", \"\")\n",
    "        )\n",
    "\n",
    "        # Assign new column names to the DataFrame\n",
    "        X_train_preprocessed.columns = new_cols\n",
    "        X_test_preprocessed.columns = new_cols\n",
    "\n",
    "        # Create LightGBM dataset\n",
    "        train_data = lgb.Dataset(\n",
    "            X_train_preprocessed, label=y_train, free_raw_data=False\n",
    "        )\n",
    "\n",
    "        # Train the model\n",
    "        bst = lgb.train(\n",
    "            params=param,\n",
    "            train_set=train_data,\n",
    "            valid_sets=[train_data],\n",
    "            num_boost_round=num_boost_rounds,\n",
    "            # callbacks=[lgb.early_stopping(stopping_rounds=10)],\n",
    "        )\n",
    "\n",
    "        # Make predictions on validation set\n",
    "        y_pred = bst.predict(X_test_preprocessed, num_iteration=bst.best_iteration)\n",
    "\n",
    "        preds.extend(y_pred.tolist())\n",
    "\n",
    "    preds = pd.DataFrame(\n",
    "        {\n",
    "            \"date\": df.query(\"date.dt.date in @val_days\")[\"date\"].to_list(),\n",
    "            \"preds\": preds,\n",
    "            \"actual\": df.query(\"date.dt.date in @val_days\")[\n",
    "                \"day_ahead_price_ch\"\n",
    "            ].to_list(),\n",
    "        }\n",
    "    )\n",
    "\n",
    "    return root_mean_squared_error(preds[\"actual\"], preds[\"preds\"])"
   ]
  },
  {
   "cell_type": "code",
   "execution_count": 30,
   "metadata": {},
   "outputs": [
    {
     "name": "stderr",
     "output_type": "stream",
     "text": [
      "[I 2024-05-20 01:01:42,030] A new study created in memory with name: no-name-11cdbad1-5df1-43bc-b493-b9a690e65fc7\n"
     ]
    },
    {
     "data": {
      "application/vnd.jupyter.widget-view+json": {
       "model_id": "db35b2fce24042e48229a3489d308875",
       "version_major": 2,
       "version_minor": 0
      },
      "text/plain": [
       "  0%|          | 0/333 [00:00<?, ?it/s]"
      ]
     },
     "metadata": {},
     "output_type": "display_data"
    },
    {
     "name": "stderr",
     "output_type": "stream",
     "text": [
      "[I 2024-05-20 01:03:13,663] Trial 0 finished with value: 31.52829797029997 and parameters: {'lookback_days': 21, 'num_boost_rounds': 328, 'learning_rate': 2.621066309452747e-05, 'max_depth': 7, 'num_leaves': 20, 'lambda_l1': 0.08485741178361889, 'lambda_l2': 0.04371112358594708, 'min_split_gain': 0.023674121246800676}. Best is trial 0 with value: 31.52829797029997.\n"
     ]
    },
    {
     "data": {
      "application/vnd.jupyter.widget-view+json": {
       "model_id": "8d753f8c14e44558a76ad0bebf87c1b4",
       "version_major": 2,
       "version_minor": 0
      },
      "text/plain": [
       "  0%|          | 0/333 [00:00<?, ?it/s]"
      ]
     },
     "metadata": {},
     "output_type": "display_data"
    },
    {
     "name": "stderr",
     "output_type": "stream",
     "text": [
      "[I 2024-05-20 01:04:43,845] Trial 1 finished with value: 17.41408301300425 and parameters: {'lookback_days': 16, 'num_boost_rounds': 423, 'learning_rate': 0.08996083553419332, 'max_depth': 15, 'num_leaves': 75, 'lambda_l1': 7.945766148622554, 'lambda_l2': 1.3216508924799536e-06, 'min_split_gain': 2.43762725537112e-05}. Best is trial 1 with value: 17.41408301300425.\n"
     ]
    },
    {
     "data": {
      "application/vnd.jupyter.widget-view+json": {
       "model_id": "c10db8e5a64b4b079d1300a855e3d764",
       "version_major": 2,
       "version_minor": 0
      },
      "text/plain": [
       "  0%|          | 0/333 [00:00<?, ?it/s]"
      ]
     },
     "metadata": {},
     "output_type": "display_data"
    },
    {
     "name": "stderr",
     "output_type": "stream",
     "text": [
      "[I 2024-05-20 01:05:46,454] Trial 2 finished with value: 24.21889166886352 and parameters: {'lookback_days': 5, 'num_boost_rounds': 453, 'learning_rate': 0.0019141716823438855, 'max_depth': 14, 'num_leaves': 18, 'lambda_l1': 1.5733984107793175e-06, 'lambda_l2': 0.0011407606889910235, 'min_split_gain': 0.11881974669803046}. Best is trial 1 with value: 17.41408301300425.\n"
     ]
    },
    {
     "data": {
      "application/vnd.jupyter.widget-view+json": {
       "model_id": "0038f7b25e104d5e8847f665906f7ba0",
       "version_major": 2,
       "version_minor": 0
      },
      "text/plain": [
       "  0%|          | 0/333 [00:00<?, ?it/s]"
      ]
     },
     "metadata": {},
     "output_type": "display_data"
    },
    {
     "name": "stderr",
     "output_type": "stream",
     "text": [
      "[I 2024-05-20 01:07:18,728] Trial 3 finished with value: 28.598616756287292 and parameters: {'lookback_days': 30, 'num_boost_rounds': 136, 'learning_rate': 0.001658254352285917, 'max_depth': 9, 'num_leaves': 111, 'lambda_l1': 0.0033865417960850623, 'lambda_l2': 0.0006062630450533308, 'min_split_gain': 7.38260369904351e-05}. Best is trial 1 with value: 17.41408301300425.\n"
     ]
    },
    {
     "data": {
      "application/vnd.jupyter.widget-view+json": {
       "model_id": "85dccd3b4f5a461da978a2cf02c3ac58",
       "version_major": 2,
       "version_minor": 0
      },
      "text/plain": [
       "  0%|          | 0/333 [00:00<?, ?it/s]"
      ]
     },
     "metadata": {},
     "output_type": "display_data"
    },
    {
     "name": "stderr",
     "output_type": "stream",
     "text": [
      "[I 2024-05-20 01:08:25,328] Trial 4 finished with value: 20.375707436935755 and parameters: {'lookback_days': 8, 'num_boost_rounds': 335, 'learning_rate': 0.003988689213188979, 'max_depth': 6, 'num_leaves': 39, 'lambda_l1': 2.7477306240131898e-05, 'lambda_l2': 3.954287235076688e-07, 'min_split_gain': 2.6727426904703578e-08}. Best is trial 1 with value: 17.41408301300425.\n"
     ]
    },
    {
     "data": {
      "application/vnd.jupyter.widget-view+json": {
       "model_id": "f86425018ea84bfe82138aa599e83767",
       "version_major": 2,
       "version_minor": 0
      },
      "text/plain": [
       "  0%|          | 0/333 [00:00<?, ?it/s]"
      ]
     },
     "metadata": {},
     "output_type": "display_data"
    },
    {
     "name": "stderr",
     "output_type": "stream",
     "text": [
      "[I 2024-05-20 01:09:25,482] Trial 5 finished with value: 30.0957105496793 and parameters: {'lookback_days': 11, 'num_boost_rounds': 201, 'learning_rate': 1.985645078451372e-05, 'max_depth': 6, 'num_leaves': 35, 'lambda_l1': 0.0017027941367265304, 'lambda_l2': 0.00013514481214386512, 'min_split_gain': 1.4338587333774455e-08}. Best is trial 1 with value: 17.41408301300425.\n"
     ]
    },
    {
     "data": {
      "application/vnd.jupyter.widget-view+json": {
       "model_id": "153e68e07fa245d18139319d6c8d1791",
       "version_major": 2,
       "version_minor": 0
      },
      "text/plain": [
       "  0%|          | 0/333 [00:00<?, ?it/s]"
      ]
     },
     "metadata": {},
     "output_type": "display_data"
    },
    {
     "name": "stderr",
     "output_type": "stream",
     "text": [
      "[I 2024-05-20 01:10:52,037] Trial 6 finished with value: 30.189749761306423 and parameters: {'lookback_days': 16, 'num_boost_rounds': 407, 'learning_rate': 6.711427233472489e-05, 'max_depth': 4, 'num_leaves': 106, 'lambda_l1': 8.142048017470005e-05, 'lambda_l2': 0.8541256879663841, 'min_split_gain': 0.00017273130866938839}. Best is trial 1 with value: 17.41408301300425.\n"
     ]
    },
    {
     "data": {
      "application/vnd.jupyter.widget-view+json": {
       "model_id": "3698567a611c49a881e0cbcdafd3cb8e",
       "version_major": 2,
       "version_minor": 0
      },
      "text/plain": [
       "  0%|          | 0/333 [00:00<?, ?it/s]"
      ]
     },
     "metadata": {},
     "output_type": "display_data"
    },
    {
     "name": "stderr",
     "output_type": "stream",
     "text": [
      "[I 2024-05-20 01:13:26,301] Trial 7 finished with value: 31.895736919073993 and parameters: {'lookback_days': 23, 'num_boost_rounds': 458, 'learning_rate': 2.135903818431422e-05, 'max_depth': 7, 'num_leaves': 44, 'lambda_l1': 0.000154545647893261, 'lambda_l2': 0.0015332247567027837, 'min_split_gain': 2.474183796252132e-07}. Best is trial 1 with value: 17.41408301300425.\n"
     ]
    },
    {
     "data": {
      "application/vnd.jupyter.widget-view+json": {
       "model_id": "ce62bf43e9a64d0bb08dad9cf9273e52",
       "version_major": 2,
       "version_minor": 0
      },
      "text/plain": [
       "  0%|          | 0/333 [00:00<?, ?it/s]"
      ]
     },
     "metadata": {},
     "output_type": "display_data"
    },
    {
     "name": "stderr",
     "output_type": "stream",
     "text": [
      "[I 2024-05-20 01:14:24,677] Trial 8 finished with value: 33.01246898278587 and parameters: {'lookback_days': 30, 'num_boost_rounds': 91, 'learning_rate': 2.639502665902358e-05, 'max_depth': 6, 'num_leaves': 11, 'lambda_l1': 3.810247422552483, 'lambda_l2': 0.0003626221969993664, 'min_split_gain': 9.81385452105183e-07}. Best is trial 1 with value: 17.41408301300425.\n"
     ]
    },
    {
     "data": {
      "application/vnd.jupyter.widget-view+json": {
       "model_id": "a0c78fad18864df3a27493c5d413e0ab",
       "version_major": 2,
       "version_minor": 0
      },
      "text/plain": [
       "  0%|          | 0/333 [00:00<?, ?it/s]"
      ]
     },
     "metadata": {},
     "output_type": "display_data"
    },
    {
     "name": "stderr",
     "output_type": "stream",
     "text": [
      "[I 2024-05-20 01:15:47,112] Trial 9 finished with value: 18.64195491970603 and parameters: {'lookback_days': 12, 'num_boost_rounds': 310, 'learning_rate': 0.07270419268135565, 'max_depth': 13, 'num_leaves': 58, 'lambda_l1': 5.224982073073676e-07, 'lambda_l2': 2.9033123240975187, 'min_split_gain': 1.5658000112800576e-08}. Best is trial 1 with value: 17.41408301300425.\n"
     ]
    },
    {
     "data": {
      "application/vnd.jupyter.widget-view+json": {
       "model_id": "f7de8aaac11442cc9660bab7720ea627",
       "version_major": 2,
       "version_minor": 0
      },
      "text/plain": [
       "  0%|          | 0/333 [00:00<?, ?it/s]"
      ]
     },
     "metadata": {},
     "output_type": "display_data"
    },
    {
     "name": "stderr",
     "output_type": "stream",
     "text": [
      "[I 2024-05-20 01:16:24,012] Trial 10 finished with value: 27.806843148472375 and parameters: {'lookback_days': 1, 'num_boost_rounds': 222, 'learning_rate': 0.08002493626885064, 'max_depth': 12, 'num_leaves': 82, 'lambda_l1': 9.07702778774036, 'lambda_l2': 1.043329743645899e-08, 'min_split_gain': 0.0002154857237199441}. Best is trial 1 with value: 17.41408301300425.\n"
     ]
    },
    {
     "data": {
      "application/vnd.jupyter.widget-view+json": {
       "model_id": "14a51238cbf040cabb905b551202dda1",
       "version_major": 2,
       "version_minor": 0
      },
      "text/plain": [
       "  0%|          | 0/333 [00:00<?, ?it/s]"
      ]
     },
     "metadata": {},
     "output_type": "display_data"
    },
    {
     "name": "stderr",
     "output_type": "stream",
     "text": [
      "[I 2024-05-20 01:18:10,889] Trial 11 finished with value: 17.624746572666343 and parameters: {'lookback_days': 15, 'num_boost_rounds': 356, 'learning_rate': 0.09059723487521437, 'max_depth': 15, 'num_leaves': 71, 'lambda_l1': 5.4035833344442267e-08, 'lambda_l2': 8.211756115467285, 'min_split_gain': 3.777838753764038e-06}. Best is trial 1 with value: 17.41408301300425.\n"
     ]
    },
    {
     "data": {
      "application/vnd.jupyter.widget-view+json": {
       "model_id": "d3a0e971ce8444b49403176fb0d48557",
       "version_major": 2,
       "version_minor": 0
      },
      "text/plain": [
       "  0%|          | 0/333 [00:00<?, ?it/s]"
      ]
     },
     "metadata": {},
     "output_type": "display_data"
    },
    {
     "name": "stderr",
     "output_type": "stream",
     "text": [
      "[I 2024-05-20 01:20:11,316] Trial 12 finished with value: 17.71403736906321 and parameters: {'lookback_days': 18, 'num_boost_rounds': 380, 'learning_rate': 0.01021552666488729, 'max_depth': 15, 'num_leaves': 81, 'lambda_l1': 1.4544208051344498e-08, 'lambda_l2': 8.050853029322096e-07, 'min_split_gain': 8.466322952368871e-06}. Best is trial 1 with value: 17.41408301300425.\n"
     ]
    },
    {
     "data": {
      "application/vnd.jupyter.widget-view+json": {
       "model_id": "2c8d393f8569423fae515e8b7018d37b",
       "version_major": 2,
       "version_minor": 0
      },
      "text/plain": [
       "  0%|          | 0/333 [00:00<?, ?it/s]"
      ]
     },
     "metadata": {},
     "output_type": "display_data"
    },
    {
     "name": "stderr",
     "output_type": "stream",
     "text": [
      "[I 2024-05-20 01:23:05,291] Trial 13 finished with value: 16.599077184606713 and parameters: {'lookback_days': 23, 'num_boost_rounds': 499, 'learning_rate': 0.017257533039198237, 'max_depth': 11, 'num_leaves': 79, 'lambda_l1': 1.0087426227061786e-08, 'lambda_l2': 6.199016548559517e-06, 'min_split_gain': 0.0023674667475389963}. Best is trial 13 with value: 16.599077184606713.\n"
     ]
    },
    {
     "data": {
      "application/vnd.jupyter.widget-view+json": {
       "model_id": "d76b09a2fc144d73b36184dbcf6ae02e",
       "version_major": 2,
       "version_minor": 0
      },
      "text/plain": [
       "  0%|          | 0/333 [00:00<?, ?it/s]"
      ]
     },
     "metadata": {},
     "output_type": "display_data"
    },
    {
     "name": "stderr",
     "output_type": "stream",
     "text": [
      "[I 2024-05-20 01:26:13,741] Trial 14 finished with value: 16.395859245291042 and parameters: {'lookback_days': 25, 'num_boost_rounds': 498, 'learning_rate': 0.014566414167142352, 'max_depth': 11, 'num_leaves': 93, 'lambda_l1': 0.10710916799912981, 'lambda_l2': 6.171324330581325e-06, 'min_split_gain': 0.0031633928147694486}. Best is trial 14 with value: 16.395859245291042.\n"
     ]
    },
    {
     "data": {
      "application/vnd.jupyter.widget-view+json": {
       "model_id": "269505fcdd1147a0b21ee21a57ba3ead",
       "version_major": 2,
       "version_minor": 0
      },
      "text/plain": [
       "  0%|          | 0/333 [00:00<?, ?it/s]"
      ]
     },
     "metadata": {},
     "output_type": "display_data"
    },
    {
     "name": "stderr",
     "output_type": "stream",
     "text": [
      "[I 2024-05-20 01:29:22,252] Trial 15 finished with value: 16.421239669042038 and parameters: {'lookback_days': 25, 'num_boost_rounds': 486, 'learning_rate': 0.013663798094954402, 'max_depth': 11, 'num_leaves': 96, 'lambda_l1': 0.09942434992113008, 'lambda_l2': 2.682130820823977e-05, 'min_split_gain': 0.002648480560349991}. Best is trial 14 with value: 16.395859245291042.\n"
     ]
    },
    {
     "data": {
      "application/vnd.jupyter.widget-view+json": {
       "model_id": "487007517ef74c759170e69f04d43323",
       "version_major": 2,
       "version_minor": 0
      },
      "text/plain": [
       "  0%|          | 0/333 [00:00<?, ?it/s]"
      ]
     },
     "metadata": {},
     "output_type": "display_data"
    },
    {
     "name": "stderr",
     "output_type": "stream",
     "text": [
      "[I 2024-05-20 01:32:52,192] Trial 16 finished with value: 30.1157242715797 and parameters: {'lookback_days': 26, 'num_boost_rounds': 498, 'learning_rate': 0.0002790322910763793, 'max_depth': 10, 'num_leaves': 99, 'lambda_l1': 0.05696420739515789, 'lambda_l2': 2.2317482523422592e-05, 'min_split_gain': 0.9399962077318949}. Best is trial 14 with value: 16.395859245291042.\n"
     ]
    },
    {
     "data": {
      "application/vnd.jupyter.widget-view+json": {
       "model_id": "b3b8ec1dc3df4e8984e3a05cad5631a6",
       "version_major": 2,
       "version_minor": 0
      },
      "text/plain": [
       "  0%|          | 0/333 [00:00<?, ?it/s]"
      ]
     },
     "metadata": {},
     "output_type": "display_data"
    },
    {
     "name": "stderr",
     "output_type": "stream",
     "text": [
      "[I 2024-05-20 01:34:52,293] Trial 17 finished with value: 16.645541444065145 and parameters: {'lookback_days': 26, 'num_boost_rounds': 255, 'learning_rate': 0.01380677454111451, 'max_depth': 9, 'num_leaves': 94, 'lambda_l1': 0.17522549439779855, 'lambda_l2': 1.5510616174854837e-08, 'min_split_gain': 0.002580710528937192}. Best is trial 14 with value: 16.395859245291042.\n"
     ]
    },
    {
     "data": {
      "application/vnd.jupyter.widget-view+json": {
       "model_id": "35892a2f78f443d79b796a6292d63402",
       "version_major": 2,
       "version_minor": 0
      },
      "text/plain": [
       "  0%|          | 0/333 [00:00<?, ?it/s]"
      ]
     },
     "metadata": {},
     "output_type": "display_data"
    },
    {
     "name": "stderr",
     "output_type": "stream",
     "text": [
      "[I 2024-05-20 01:38:01,381] Trial 18 finished with value: 17.140573027759746 and parameters: {'lookback_days': 26, 'num_boost_rounds': 434, 'learning_rate': 0.005656000685639941, 'max_depth': 11, 'num_leaves': 119, 'lambda_l1': 0.007946877225396724, 'lambda_l2': 0.00794435565206291, 'min_split_gain': 0.0027297530628372798}. Best is trial 14 with value: 16.395859245291042.\n"
     ]
    },
    {
     "data": {
      "application/vnd.jupyter.widget-view+json": {
       "model_id": "cd283b513c0e490c87ee0e0bd6ecf0c2",
       "version_major": 2,
       "version_minor": 0
      },
      "text/plain": [
       "  0%|          | 0/333 [00:00<?, ?it/s]"
      ]
     },
     "metadata": {},
     "output_type": "display_data"
    },
    {
     "name": "stderr",
     "output_type": "stream",
     "text": [
      "[I 2024-05-20 01:40:17,657] Trial 19 finished with value: 29.54972677180274 and parameters: {'lookback_days': 21, 'num_boost_rounds': 385, 'learning_rate': 0.0003012792321970615, 'max_depth': 13, 'num_leaves': 91, 'lambda_l1': 0.5406136728295501, 'lambda_l2': 2.0243385617495457e-05, 'min_split_gain': 0.020857873658597786}. Best is trial 14 with value: 16.395859245291042.\n"
     ]
    },
    {
     "data": {
      "application/vnd.jupyter.widget-view+json": {
       "model_id": "8c00e221d8ad4be2b1c7238600fa084a",
       "version_major": 2,
       "version_minor": 0
      },
      "text/plain": [
       "  0%|          | 0/333 [00:00<?, ?it/s]"
      ]
     },
     "metadata": {},
     "output_type": "display_data"
    },
    {
     "name": "stderr",
     "output_type": "stream",
     "text": [
      "[I 2024-05-20 01:43:18,054] Trial 20 finished with value: 16.330582981607684 and parameters: {'lookback_days': 28, 'num_boost_rounds': 500, 'learning_rate': 0.032300129305445936, 'max_depth': 9, 'num_leaves': 120, 'lambda_l1': 0.012827440783732292, 'lambda_l2': 8.829303553036943e-08, 'min_split_gain': 0.0007325041494416012}. Best is trial 20 with value: 16.330582981607684.\n"
     ]
    },
    {
     "data": {
      "application/vnd.jupyter.widget-view+json": {
       "model_id": "26ba1d7b842948d291111471577423b2",
       "version_major": 2,
       "version_minor": 0
      },
      "text/plain": [
       "  0%|          | 0/333 [00:00<?, ?it/s]"
      ]
     },
     "metadata": {},
     "output_type": "display_data"
    },
    {
     "name": "stderr",
     "output_type": "stream",
     "text": [
      "[I 2024-05-20 01:46:16,434] Trial 21 finished with value: 16.38051253386307 and parameters: {'lookback_days': 28, 'num_boost_rounds': 498, 'learning_rate': 0.029128690848308807, 'max_depth': 9, 'num_leaves': 119, 'lambda_l1': 0.013943965710424666, 'lambda_l2': 6.476621171250655e-08, 'min_split_gain': 0.0008272405979264649}. Best is trial 20 with value: 16.330582981607684.\n"
     ]
    },
    {
     "data": {
      "application/vnd.jupyter.widget-view+json": {
       "model_id": "4e1add6f6cf543d29939462634332a43",
       "version_major": 2,
       "version_minor": 0
      },
      "text/plain": [
       "  0%|          | 0/333 [00:00<?, ?it/s]"
      ]
     },
     "metadata": {},
     "output_type": "display_data"
    },
    {
     "name": "stderr",
     "output_type": "stream",
     "text": [
      "[I 2024-05-20 01:49:09,343] Trial 22 finished with value: 16.376864645128137 and parameters: {'lookback_days': 29, 'num_boost_rounds': 464, 'learning_rate': 0.031338222573700086, 'max_depth': 9, 'num_leaves': 120, 'lambda_l1': 0.015698767436028313, 'lambda_l2': 6.712936519685093e-08, 'min_split_gain': 0.0005970127242932482}. Best is trial 20 with value: 16.330582981607684.\n"
     ]
    },
    {
     "data": {
      "application/vnd.jupyter.widget-view+json": {
       "model_id": "6a0e37db59ff4e7eb8c15f03a80c1f21",
       "version_major": 2,
       "version_minor": 0
      },
      "text/plain": [
       "  0%|          | 0/333 [00:00<?, ?it/s]"
      ]
     },
     "metadata": {},
     "output_type": "display_data"
    },
    {
     "name": "stderr",
     "output_type": "stream",
     "text": [
      "[I 2024-05-20 01:51:47,944] Trial 23 finished with value: 16.308837990166648 and parameters: {'lookback_days': 29, 'num_boost_rounds': 453, 'learning_rate': 0.03299605358434488, 'max_depth': 8, 'num_leaves': 120, 'lambda_l1': 0.011156981643222423, 'lambda_l2': 1.0148342573301604e-07, 'min_split_gain': 0.0004258201829193564}. Best is trial 23 with value: 16.308837990166648.\n"
     ]
    },
    {
     "data": {
      "application/vnd.jupyter.widget-view+json": {
       "model_id": "92998129a3b449eda8edbaebb8e923fa",
       "version_major": 2,
       "version_minor": 0
      },
      "text/plain": [
       "  0%|          | 0/333 [00:00<?, ?it/s]"
      ]
     },
     "metadata": {},
     "output_type": "display_data"
    },
    {
     "name": "stderr",
     "output_type": "stream",
     "text": [
      "[I 2024-05-20 01:54:29,023] Trial 24 finished with value: 16.36240076906222 and parameters: {'lookback_days': 30, 'num_boost_rounds': 454, 'learning_rate': 0.03317098958337836, 'max_depth': 8, 'num_leaves': 107, 'lambda_l1': 0.0007580546096587156, 'lambda_l2': 1.1925527532146945e-07, 'min_split_gain': 0.0004223752022680788}. Best is trial 23 with value: 16.308837990166648.\n"
     ]
    },
    {
     "data": {
      "application/vnd.jupyter.widget-view+json": {
       "model_id": "7787c731b87b41749bf8bb257eee78a9",
       "version_major": 2,
       "version_minor": 0
      },
      "text/plain": [
       "  0%|          | 0/333 [00:00<?, ?it/s]"
      ]
     },
     "metadata": {},
     "output_type": "display_data"
    },
    {
     "name": "stderr",
     "output_type": "stream",
     "text": [
      "[I 2024-05-20 01:56:52,841] Trial 25 finished with value: 16.333729349455318 and parameters: {'lookback_days': 28, 'num_boost_rounds': 409, 'learning_rate': 0.03278904556187726, 'max_depth': 8, 'num_leaves': 107, 'lambda_l1': 0.0011210854121507974, 'lambda_l2': 9.07195617084359e-08, 'min_split_gain': 5.740788196295703e-05}. Best is trial 23 with value: 16.308837990166648.\n"
     ]
    },
    {
     "data": {
      "application/vnd.jupyter.widget-view+json": {
       "model_id": "ba574fdac4754c4ba7a87fbebeb83157",
       "version_major": 2,
       "version_minor": 0
      },
      "text/plain": [
       "  0%|          | 0/333 [00:00<?, ?it/s]"
      ]
     },
     "metadata": {},
     "output_type": "display_data"
    },
    {
     "name": "stderr",
     "output_type": "stream",
     "text": [
      "[I 2024-05-20 01:58:26,912] Trial 26 finished with value: 18.334206072932066 and parameters: {'lookback_days': 20, 'num_boost_rounds': 399, 'learning_rate': 0.005011902344535441, 'max_depth': 4, 'num_leaves': 111, 'lambda_l1': 1.4934096812905963e-05, 'lambda_l2': 3.303219807747849e-07, 'min_split_gain': 4.1160989986001283e-05}. Best is trial 23 with value: 16.308837990166648.\n"
     ]
    },
    {
     "data": {
      "application/vnd.jupyter.widget-view+json": {
       "model_id": "476b23ccee184088b48c55c8f67a1ec7",
       "version_major": 2,
       "version_minor": 0
      },
      "text/plain": [
       "  0%|          | 0/333 [00:00<?, ?it/s]"
      ]
     },
     "metadata": {},
     "output_type": "display_data"
    },
    {
     "name": "stderr",
     "output_type": "stream",
     "text": [
      "[I 2024-05-20 02:00:50,246] Trial 27 finished with value: 29.21639413333146 and parameters: {'lookback_days': 28, 'num_boost_rounds': 302, 'learning_rate': 0.0006140914543801861, 'max_depth': 8, 'num_leaves': 103, 'lambda_l1': 0.0007189445644685029, 'lambda_l2': 2.4645162839679106e-06, 'min_split_gain': 1.285131466960243e-05}. Best is trial 23 with value: 16.308837990166648.\n"
     ]
    },
    {
     "data": {
      "application/vnd.jupyter.widget-view+json": {
       "model_id": "406162a25da84ab585da32922c6a028b",
       "version_major": 2,
       "version_minor": 0
      },
      "text/plain": [
       "  0%|          | 0/333 [00:00<?, ?it/s]"
      ]
     },
     "metadata": {},
     "output_type": "display_data"
    },
    {
     "name": "stderr",
     "output_type": "stream",
     "text": [
      "[I 2024-05-20 02:02:03,555] Trial 28 finished with value: 15.433083229090492 and parameters: {'lookback_days': 23, 'num_boost_rounds': 355, 'learning_rate': 0.047805156875673084, 'max_depth': 3, 'num_leaves': 63, 'lambda_l1': 1.0992858503880194, 'lambda_l2': 2.5999834475434152e-08, 'min_split_gain': 0.015787698809128392}. Best is trial 28 with value: 15.433083229090492.\n"
     ]
    },
    {
     "data": {
      "application/vnd.jupyter.widget-view+json": {
       "model_id": "f755d7ce4f9744c6b5cf8ee664746673",
       "version_major": 2,
       "version_minor": 0
      },
      "text/plain": [
       "  0%|          | 0/333 [00:00<?, ?it/s]"
      ]
     },
     "metadata": {},
     "output_type": "display_data"
    },
    {
     "name": "stderr",
     "output_type": "stream",
     "text": [
      "[I 2024-05-20 02:03:17,726] Trial 29 finished with value: 15.566862309741632 and parameters: {'lookback_days': 22, 'num_boost_rounds': 373, 'learning_rate': 0.05320775547300198, 'max_depth': 3, 'num_leaves': 63, 'lambda_l1': 0.5985261607860813, 'lambda_l2': 2.1647959196308237e-08, 'min_split_gain': 0.026763874927640242}. Best is trial 28 with value: 15.433083229090492.\n"
     ]
    },
    {
     "data": {
      "application/vnd.jupyter.widget-view+json": {
       "model_id": "2821ad260f7b42d691d47ea801bd19d6",
       "version_major": 2,
       "version_minor": 0
      },
      "text/plain": [
       "  0%|          | 0/333 [00:00<?, ?it/s]"
      ]
     },
     "metadata": {},
     "output_type": "display_data"
    },
    {
     "name": "stderr",
     "output_type": "stream",
     "text": [
      "[I 2024-05-20 02:04:31,364] Trial 30 finished with value: 15.41135923760896 and parameters: {'lookback_days': 23, 'num_boost_rounds': 352, 'learning_rate': 0.051684207490919426, 'max_depth': 3, 'num_leaves': 58, 'lambda_l1': 1.8914569481967367, 'lambda_l2': 2.0298280165042885e-08, 'min_split_gain': 0.023582632724470226}. Best is trial 30 with value: 15.41135923760896.\n"
     ]
    },
    {
     "data": {
      "application/vnd.jupyter.widget-view+json": {
       "model_id": "fb1faa034b684f048933df50ca607e8a",
       "version_major": 2,
       "version_minor": 0
      },
      "text/plain": [
       "  0%|          | 0/333 [00:00<?, ?it/s]"
      ]
     },
     "metadata": {},
     "output_type": "display_data"
    },
    {
     "name": "stderr",
     "output_type": "stream",
     "text": [
      "[I 2024-05-20 02:05:44,898] Trial 31 finished with value: 15.40910706561946 and parameters: {'lookback_days': 23, 'num_boost_rounds': 358, 'learning_rate': 0.05087569981255155, 'max_depth': 3, 'num_leaves': 59, 'lambda_l1': 1.0641403395365376, 'lambda_l2': 1.98548159083833e-08, 'min_split_gain': 0.02882782043215303}. Best is trial 31 with value: 15.40910706561946.\n"
     ]
    },
    {
     "data": {
      "application/vnd.jupyter.widget-view+json": {
       "model_id": "a79c43c681e942d8a0ef8c9e463e9bcf",
       "version_major": 2,
       "version_minor": 0
      },
      "text/plain": [
       "  0%|          | 0/333 [00:00<?, ?it/s]"
      ]
     },
     "metadata": {},
     "output_type": "display_data"
    },
    {
     "name": "stderr",
     "output_type": "stream",
     "text": [
      "[I 2024-05-20 02:06:55,032] Trial 32 finished with value: 16.69960676415017 and parameters: {'lookback_days': 19, 'num_boost_rounds': 356, 'learning_rate': 0.05633215697274246, 'max_depth': 3, 'num_leaves': 55, 'lambda_l1': 1.44511249364574, 'lambda_l2': 1.8476286201078175e-08, 'min_split_gain': 0.02901418373085211}. Best is trial 31 with value: 15.40910706561946.\n"
     ]
    },
    {
     "data": {
      "application/vnd.jupyter.widget-view+json": {
       "model_id": "b756511dbe5e48c19a01c43a33ea1534",
       "version_major": 2,
       "version_minor": 0
      },
      "text/plain": [
       "  0%|          | 0/333 [00:00<?, ?it/s]"
      ]
     },
     "metadata": {},
     "output_type": "display_data"
    },
    {
     "name": "stderr",
     "output_type": "stream",
     "text": [
      "[I 2024-05-20 02:08:02,256] Trial 33 finished with value: 15.445970834162868 and parameters: {'lookback_days': 23, 'num_boost_rounds': 291, 'learning_rate': 0.05881591970955394, 'max_depth': 3, 'num_leaves': 58, 'lambda_l1': 0.9297507501734726, 'lambda_l2': 2.3582547981233166e-08, 'min_split_gain': 0.16960986324957872}. Best is trial 31 with value: 15.40910706561946.\n"
     ]
    },
    {
     "data": {
      "application/vnd.jupyter.widget-view+json": {
       "model_id": "70559ae39e2742a99619b2fa81a14933",
       "version_major": 2,
       "version_minor": 0
      },
      "text/plain": [
       "  0%|          | 0/333 [00:00<?, ?it/s]"
      ]
     },
     "metadata": {},
     "output_type": "display_data"
    },
    {
     "name": "stderr",
     "output_type": "stream",
     "text": [
      "[I 2024-05-20 02:09:14,161] Trial 34 finished with value: 19.220947940152794 and parameters: {'lookback_days': 18, 'num_boost_rounds': 267, 'learning_rate': 0.006162070546765857, 'max_depth': 4, 'num_leaves': 51, 'lambda_l1': 1.4901315379349604, 'lambda_l2': 5.097113324086322e-07, 'min_split_gain': 0.23074463454344218}. Best is trial 31 with value: 15.40910706561946.\n"
     ]
    },
    {
     "data": {
      "application/vnd.jupyter.widget-view+json": {
       "model_id": "6ba4bd649e324172b30118c322b9858b",
       "version_major": 2,
       "version_minor": 0
      },
      "text/plain": [
       "  0%|          | 0/333 [00:00<?, ?it/s]"
      ]
     },
     "metadata": {},
     "output_type": "display_data"
    },
    {
     "name": "stderr",
     "output_type": "stream",
     "text": [
      "[I 2024-05-20 02:10:52,020] Trial 35 finished with value: 22.30707424054187 and parameters: {'lookback_days': 23, 'num_boost_rounds': 300, 'learning_rate': 0.002552387639439278, 'max_depth': 5, 'num_leaves': 68, 'lambda_l1': 0.49291938549446784, 'lambda_l2': 0.13399009629547654, 'min_split_gain': 0.09604085135213807}. Best is trial 31 with value: 15.40910706561946.\n"
     ]
    },
    {
     "data": {
      "application/vnd.jupyter.widget-view+json": {
       "model_id": "bc4e887265c946e29f728c6b22a2aab3",
       "version_major": 2,
       "version_minor": 0
      },
      "text/plain": [
       "  0%|          | 0/333 [00:00<?, ?it/s]"
      ]
     },
     "metadata": {},
     "output_type": "display_data"
    },
    {
     "name": "stderr",
     "output_type": "stream",
     "text": [
      "[I 2024-05-20 02:12:04,899] Trial 36 finished with value: 16.881808511971997 and parameters: {'lookback_days': 21, 'num_boost_rounds': 344, 'learning_rate': 0.008345904082276149, 'max_depth': 3, 'num_leaves': 47, 'lambda_l1': 3.2427066980297257, 'lambda_l2': 1.6124172515068357e-06, 'min_split_gain': 0.918744216882948}. Best is trial 31 with value: 15.40910706561946.\n"
     ]
    },
    {
     "data": {
      "application/vnd.jupyter.widget-view+json": {
       "model_id": "7541aa9c4e3f4f92b19a3d2738cb5d09",
       "version_major": 2,
       "version_minor": 0
      },
      "text/plain": [
       "  0%|          | 0/333 [00:00<?, ?it/s]"
      ]
     },
     "metadata": {},
     "output_type": "display_data"
    },
    {
     "name": "stderr",
     "output_type": "stream",
     "text": [
      "[I 2024-05-20 02:13:09,570] Trial 37 finished with value: 17.611775491189263 and parameters: {'lookback_days': 15, 'num_boost_rounds': 239, 'learning_rate': 0.09913669735880087, 'max_depth': 5, 'num_leaves': 32, 'lambda_l1': 9.804788935793184, 'lambda_l2': 3.062285417705987e-08, 'min_split_gain': 0.10445081595250941}. Best is trial 31 with value: 15.40910706561946.\n"
     ]
    },
    {
     "data": {
      "application/vnd.jupyter.widget-view+json": {
       "model_id": "e4bf7a4994a24fdc9a2335abd3b0b954",
       "version_major": 2,
       "version_minor": 0
      },
      "text/plain": [
       "  0%|          | 0/333 [00:00<?, ?it/s]"
      ]
     },
     "metadata": {},
     "output_type": "display_data"
    },
    {
     "name": "stderr",
     "output_type": "stream",
     "text": [
      "[I 2024-05-20 02:14:14,870] Trial 38 finished with value: 16.430065400848566 and parameters: {'lookback_days': 24, 'num_boost_rounds': 179, 'learning_rate': 0.018978731396276705, 'max_depth': 4, 'num_leaves': 60, 'lambda_l1': 0.21512780908598747, 'lambda_l2': 2.226420108809585e-07, 'min_split_gain': 0.009009907274939919}. Best is trial 31 with value: 15.40910706561946.\n"
     ]
    },
    {
     "data": {
      "application/vnd.jupyter.widget-view+json": {
       "model_id": "8997c8920bcb429485c34ac26dd0cef2",
       "version_major": 2,
       "version_minor": 0
      },
      "text/plain": [
       "  0%|          | 0/333 [00:00<?, ?it/s]"
      ]
     },
     "metadata": {},
     "output_type": "display_data"
    },
    {
     "name": "stderr",
     "output_type": "stream",
     "text": [
      "[I 2024-05-20 02:15:30,178] Trial 39 finished with value: 17.36226603186556 and parameters: {'lookback_days': 17, 'num_boost_rounds': 287, 'learning_rate': 0.05352956314702123, 'max_depth': 5, 'num_leaves': 25, 'lambda_l1': 1.7595648221254483, 'lambda_l2': 4.024092130033564e-08, 'min_split_gain': 0.009830845570019025}. Best is trial 31 with value: 15.40910706561946.\n"
     ]
    },
    {
     "data": {
      "application/vnd.jupyter.widget-view+json": {
       "model_id": "44a9b8f1e5e443fd9f4fb216ad641ddd",
       "version_major": 2,
       "version_minor": 0
      },
      "text/plain": [
       "  0%|          | 0/333 [00:00<?, ?it/s]"
      ]
     },
     "metadata": {},
     "output_type": "display_data"
    },
    {
     "name": "stderr",
     "output_type": "stream",
     "text": [
      "[I 2024-05-20 02:16:38,723] Trial 40 finished with value: 26.665333491556986 and parameters: {'lookback_days': 20, 'num_boost_rounds': 320, 'learning_rate': 0.0011062352101360248, 'max_depth': 3, 'num_leaves': 73, 'lambda_l1': 0.39974783650093, 'lambda_l2': 2.134429099606883e-07, 'min_split_gain': 0.2678858402821155}. Best is trial 31 with value: 15.40910706561946.\n"
     ]
    },
    {
     "data": {
      "application/vnd.jupyter.widget-view+json": {
       "model_id": "9fab92ab98764e27a2ef5a51f9ff6393",
       "version_major": 2,
       "version_minor": 0
      },
      "text/plain": [
       "  0%|          | 0/333 [00:00<?, ?it/s]"
      ]
     },
     "metadata": {},
     "output_type": "display_data"
    },
    {
     "name": "stderr",
     "output_type": "stream",
     "text": [
      "[I 2024-05-20 02:17:52,288] Trial 41 finished with value: 15.557158160703427 and parameters: {'lookback_days': 22, 'num_boost_rounds': 367, 'learning_rate': 0.051990177163700246, 'max_depth': 3, 'num_leaves': 62, 'lambda_l1': 0.037143559201857954, 'lambda_l2': 1.7278793394059754e-08, 'min_split_gain': 0.037955784385767175}. Best is trial 31 with value: 15.40910706561946.\n"
     ]
    },
    {
     "data": {
      "application/vnd.jupyter.widget-view+json": {
       "model_id": "b0bfac280ec145968cf8c9e29fb09994",
       "version_major": 2,
       "version_minor": 0
      },
      "text/plain": [
       "  0%|          | 0/333 [00:00<?, ?it/s]"
      ]
     },
     "metadata": {},
     "output_type": "display_data"
    },
    {
     "name": "stderr",
     "output_type": "stream",
     "text": [
      "[I 2024-05-20 02:19:10,958] Trial 42 finished with value: 15.890464352904216 and parameters: {'lookback_days': 22, 'num_boost_rounds': 335, 'learning_rate': 0.05148972247397766, 'max_depth': 4, 'num_leaves': 65, 'lambda_l1': 0.039347601445091036, 'lambda_l2': 1.2049768046085214e-08, 'min_split_gain': 0.06130580890489418}. Best is trial 31 with value: 15.40910706561946.\n"
     ]
    },
    {
     "data": {
      "application/vnd.jupyter.widget-view+json": {
       "model_id": "dd709109002e43658c4b1d3d76e34910",
       "version_major": 2,
       "version_minor": 0
      },
      "text/plain": [
       "  0%|          | 0/333 [00:00<?, ?it/s]"
      ]
     },
     "metadata": {},
     "output_type": "display_data"
    },
    {
     "name": "stderr",
     "output_type": "stream",
     "text": [
      "[I 2024-05-20 02:20:25,261] Trial 43 finished with value: 15.553519839112665 and parameters: {'lookback_days': 24, 'num_boost_rounds': 354, 'learning_rate': 0.023918640978698696, 'max_depth': 3, 'num_leaves': 54, 'lambda_l1': 3.8640614675683187, 'lambda_l2': 1.0874243992403827e-08, 'min_split_gain': 0.30066665003272075}. Best is trial 31 with value: 15.40910706561946.\n"
     ]
    },
    {
     "data": {
      "application/vnd.jupyter.widget-view+json": {
       "model_id": "1748f84a8cc04a3dae70a47cbfcf7589",
       "version_major": 2,
       "version_minor": 0
      },
      "text/plain": [
       "  0%|          | 0/333 [00:00<?, ?it/s]"
      ]
     },
     "metadata": {},
     "output_type": "display_data"
    },
    {
     "name": "stderr",
     "output_type": "stream",
     "text": [
      "[I 2024-05-20 02:21:59,055] Trial 44 finished with value: 16.18389524291895 and parameters: {'lookback_days': 24, 'num_boost_rounds': 323, 'learning_rate': 0.01971152593421489, 'max_depth': 5, 'num_leaves': 42, 'lambda_l1': 3.5004925663517183, 'lambda_l2': 4.070729967790112e-08, 'min_split_gain': 0.35433458009983076}. Best is trial 31 with value: 15.40910706561946.\n"
     ]
    },
    {
     "data": {
      "application/vnd.jupyter.widget-view+json": {
       "model_id": "95fdea36925148669aec1e8ce3e420f3",
       "version_major": 2,
       "version_minor": 0
      },
      "text/plain": [
       "  0%|          | 0/333 [00:00<?, ?it/s]"
      ]
     },
     "metadata": {},
     "output_type": "display_data"
    },
    {
     "name": "stderr",
     "output_type": "stream",
     "text": [
      "[I 2024-05-20 02:23:26,529] Trial 45 finished with value: 30.1854279369551 and parameters: {'lookback_days': 14, 'num_boost_rounds': 345, 'learning_rate': 1.1984300570042206e-05, 'max_depth': 6, 'num_leaves': 51, 'lambda_l1': 1.1239377575054854, 'lambda_l2': 5.896297216279138e-07, 'min_split_gain': 0.013634823514985862}. Best is trial 31 with value: 15.40910706561946.\n"
     ]
    },
    {
     "data": {
      "application/vnd.jupyter.widget-view+json": {
       "model_id": "b49ce3a9601d4e22811ab4aa7d4681bd",
       "version_major": 2,
       "version_minor": 0
      },
      "text/plain": [
       "  0%|          | 0/333 [00:00<?, ?it/s]"
      ]
     },
     "metadata": {},
     "output_type": "display_data"
    },
    {
     "name": "stderr",
     "output_type": "stream",
     "text": [
      "[I 2024-05-20 02:24:23,101] Trial 46 finished with value: 20.60000967653703 and parameters: {'lookback_days': 6, 'num_boost_rounds': 285, 'learning_rate': 0.02276036844378642, 'max_depth': 4, 'num_leaves': 55, 'lambda_l1': 4.934012656379523, 'lambda_l2': 2.0029176037760814e-07, 'min_split_gain': 0.2901233971516604}. Best is trial 31 with value: 15.40910706561946.\n"
     ]
    },
    {
     "data": {
      "application/vnd.jupyter.widget-view+json": {
       "model_id": "556aa9082ab3436c962f440dcac4ef48",
       "version_major": 2,
       "version_minor": 0
      },
      "text/plain": [
       "  0%|          | 0/333 [00:00<?, ?it/s]"
      ]
     },
     "metadata": {},
     "output_type": "display_data"
    },
    {
     "name": "stderr",
     "output_type": "stream",
     "text": [
      "[I 2024-05-20 02:25:43,567] Trial 47 finished with value: 16.266749322049183 and parameters: {'lookback_days': 24, 'num_boost_rounds': 391, 'learning_rate': 0.009195546861455281, 'max_depth': 3, 'num_leaves': 86, 'lambda_l1': 0.2780439878258793, 'lambda_l2': 1.1567113772032218e-06, 'min_split_gain': 0.05801670802608297}. Best is trial 31 with value: 15.40910706561946.\n"
     ]
    },
    {
     "data": {
      "application/vnd.jupyter.widget-view+json": {
       "model_id": "4607687a45dd4602a74d5221da01a83f",
       "version_major": 2,
       "version_minor": 0
      },
      "text/plain": [
       "  0%|          | 0/333 [00:00<?, ?it/s]"
      ]
     },
     "metadata": {},
     "output_type": "display_data"
    },
    {
     "name": "stderr",
     "output_type": "stream",
     "text": [
      "[I 2024-05-20 02:27:18,908] Trial 48 finished with value: 19.523306803128904 and parameters: {'lookback_days': 20, 'num_boost_rounds': 427, 'learning_rate': 0.003397461261537608, 'max_depth': 4, 'num_leaves': 37, 'lambda_l1': 9.817764019964194, 'lambda_l2': 1.0594325331361688e-08, 'min_split_gain': 0.007115906276208009}. Best is trial 31 with value: 15.40910706561946.\n"
     ]
    },
    {
     "data": {
      "application/vnd.jupyter.widget-view+json": {
       "model_id": "3aab3aa6fcbc40fd9daf7ffb1f165d05",
       "version_major": 2,
       "version_minor": 0
      },
      "text/plain": [
       "  0%|          | 0/333 [00:00<?, ?it/s]"
      ]
     },
     "metadata": {},
     "output_type": "display_data"
    },
    {
     "name": "stderr",
     "output_type": "stream",
     "text": [
      "[I 2024-05-20 02:28:17,461] Trial 49 finished with value: 18.25345179313998 and parameters: {'lookback_days': 10, 'num_boost_rounds': 196, 'learning_rate': 0.07372805927854001, 'max_depth': 6, 'num_leaves': 70, 'lambda_l1': 0.003716535981185234, 'lambda_l2': 0.00011556233949590492, 'min_split_gain': 7.719270779045104e-08}. Best is trial 31 with value: 15.40910706561946.\n"
     ]
    },
    {
     "data": {
      "application/vnd.jupyter.widget-view+json": {
       "model_id": "3597f74b32234ca19c48cd9bab7c2d67",
       "version_major": 2,
       "version_minor": 0
      },
      "text/plain": [
       "  0%|          | 0/333 [00:00<?, ?it/s]"
      ]
     },
     "metadata": {},
     "output_type": "display_data"
    },
    {
     "name": "stderr",
     "output_type": "stream",
     "text": [
      "[I 2024-05-20 02:29:09,827] Trial 50 finished with value: 16.58812639324674 and parameters: {'lookback_days': 26, 'num_boost_rounds': 65, 'learning_rate': 0.04850814564410979, 'max_depth': 5, 'num_leaves': 49, 'lambda_l1': 0.9179005877547282, 'lambda_l2': 2.905859690395065e-06, 'min_split_gain': 0.14584421005416656}. Best is trial 31 with value: 15.40910706561946.\n"
     ]
    },
    {
     "data": {
      "application/vnd.jupyter.widget-view+json": {
       "model_id": "f932b589863940c59bf20f83f1a3ea8b",
       "version_major": 2,
       "version_minor": 0
      },
      "text/plain": [
       "  0%|          | 0/333 [00:00<?, ?it/s]"
      ]
     },
     "metadata": {},
     "output_type": "display_data"
    },
    {
     "name": "stderr",
     "output_type": "stream",
     "text": [
      "[I 2024-05-20 02:30:21,548] Trial 51 finished with value: 15.515300289555176 and parameters: {'lookback_days': 22, 'num_boost_rounds': 348, 'learning_rate': 0.07563101124516683, 'max_depth': 3, 'num_leaves': 60, 'lambda_l1': 0.04252085081255527, 'lambda_l2': 3.2120619382112604e-08, 'min_split_gain': 0.04742641143739949}. Best is trial 31 with value: 15.40910706561946.\n"
     ]
    },
    {
     "data": {
      "application/vnd.jupyter.widget-view+json": {
       "model_id": "cfab90054d9448ea81e4478911197885",
       "version_major": 2,
       "version_minor": 0
      },
      "text/plain": [
       "  0%|          | 0/333 [00:00<?, ?it/s]"
      ]
     },
     "metadata": {},
     "output_type": "display_data"
    },
    {
     "name": "stderr",
     "output_type": "stream",
     "text": [
      "[I 2024-05-20 02:31:35,935] Trial 52 finished with value: 15.40014162962452 and parameters: {'lookback_days': 25, 'num_boost_rounds': 361, 'learning_rate': 0.09963879877025689, 'max_depth': 3, 'num_leaves': 76, 'lambda_l1': 2.730904216347258, 'lambda_l2': 3.652817919308937e-08, 'min_split_gain': 0.7983784217630173}. Best is trial 52 with value: 15.40014162962452.\n"
     ]
    },
    {
     "data": {
      "application/vnd.jupyter.widget-view+json": {
       "model_id": "3cb6c9fccbb34017a0b0c3d942bd7617",
       "version_major": 2,
       "version_minor": 0
      },
      "text/plain": [
       "  0%|          | 0/333 [00:00<?, ?it/s]"
      ]
     },
     "metadata": {},
     "output_type": "display_data"
    },
    {
     "name": "stderr",
     "output_type": "stream",
     "text": [
      "[I 2024-05-20 02:32:46,789] Trial 53 finished with value: 15.297192007030864 and parameters: {'lookback_days': 25, 'num_boost_rounds': 320, 'learning_rate': 0.07785247165250406, 'max_depth': 3, 'num_leaves': 60, 'lambda_l1': 0.17133662343764713, 'lambda_l2': 3.698571069902968e-08, 'min_split_gain': 0.5633838389156498}. Best is trial 53 with value: 15.297192007030864.\n"
     ]
    },
    {
     "data": {
      "application/vnd.jupyter.widget-view+json": {
       "model_id": "f60eab6547d341f696d94f5c77a98472",
       "version_major": 2,
       "version_minor": 0
      },
      "text/plain": [
       "  0%|          | 0/333 [00:00<?, ?it/s]"
      ]
     },
     "metadata": {},
     "output_type": "display_data"
    },
    {
     "name": "stderr",
     "output_type": "stream",
     "text": [
      "[I 2024-05-20 02:34:10,171] Trial 54 finished with value: 15.612432273875797 and parameters: {'lookback_days': 27, 'num_boost_rounds': 327, 'learning_rate': 0.09163453319487284, 'max_depth': 4, 'num_leaves': 77, 'lambda_l1': 0.13835558223026062, 'lambda_l2': 4.162432598990543e-08, 'min_split_gain': 0.4273546413259493}. Best is trial 53 with value: 15.297192007030864.\n"
     ]
    },
    {
     "data": {
      "application/vnd.jupyter.widget-view+json": {
       "model_id": "3594c37551fb48da94c3f19024d34502",
       "version_major": 2,
       "version_minor": 0
      },
      "text/plain": [
       "  0%|          | 0/333 [00:00<?, ?it/s]"
      ]
     },
     "metadata": {},
     "output_type": "display_data"
    },
    {
     "name": "stderr",
     "output_type": "stream",
     "text": [
      "[I 2024-05-20 02:35:21,300] Trial 55 finished with value: 15.478652351955134 and parameters: {'lookback_days': 25, 'num_boost_rounds': 312, 'learning_rate': 0.04327347806512305, 'max_depth': 3, 'num_leaves': 66, 'lambda_l1': 2.6444856476837026, 'lambda_l2': 0.0033496103052309033, 'min_split_gain': 0.6989378898752103}. Best is trial 53 with value: 15.297192007030864.\n"
     ]
    },
    {
     "data": {
      "application/vnd.jupyter.widget-view+json": {
       "model_id": "7547b2b0318d496fa1caa0bd68f8050b",
       "version_major": 2,
       "version_minor": 0
      },
      "text/plain": [
       "  0%|          | 0/333 [00:00<?, ?it/s]"
      ]
     },
     "metadata": {},
     "output_type": "display_data"
    },
    {
     "name": "stderr",
     "output_type": "stream",
     "text": [
      "[I 2024-05-20 02:36:44,395] Trial 56 finished with value: 15.996545035415965 and parameters: {'lookback_days': 27, 'num_boost_rounds': 263, 'learning_rate': 0.0685816463696529, 'max_depth': 5, 'num_leaves': 75, 'lambda_l1': 0.7047205466698416, 'lambda_l2': 1.1085416298369805e-07, 'min_split_gain': 0.08262773756467014}. Best is trial 53 with value: 15.297192007030864.\n"
     ]
    },
    {
     "data": {
      "application/vnd.jupyter.widget-view+json": {
       "model_id": "139a8d0ec2ec4dd3993a4bef3566c720",
       "version_major": 2,
       "version_minor": 0
      },
      "text/plain": [
       "  0%|          | 0/333 [00:00<?, ?it/s]"
      ]
     },
     "metadata": {},
     "output_type": "display_data"
    },
    {
     "name": "stderr",
     "output_type": "stream",
     "text": [
      "[I 2024-05-20 02:38:19,350] Trial 57 finished with value: 32.08487928427473 and parameters: {'lookback_days': 25, 'num_boost_rounds': 368, 'learning_rate': 7.58739026704533e-05, 'max_depth': 4, 'num_leaves': 84, 'lambda_l1': 0.2567213810408272, 'lambda_l2': 3.174753870397514e-07, 'min_split_gain': 0.15232177063404098}. Best is trial 53 with value: 15.297192007030864.\n"
     ]
    },
    {
     "data": {
      "application/vnd.jupyter.widget-view+json": {
       "model_id": "c0d9d86e5eec4d57b029bc294acc1d89",
       "version_major": 2,
       "version_minor": 0
      },
      "text/plain": [
       "  0%|          | 0/333 [00:00<?, ?it/s]"
      ]
     },
     "metadata": {},
     "output_type": "display_data"
    },
    {
     "name": "stderr",
     "output_type": "stream",
     "text": [
      "[I 2024-05-20 02:40:00,395] Trial 58 finished with value: 16.819570702780766 and parameters: {'lookback_days': 23, 'num_boost_rounds': 284, 'learning_rate': 0.011433874718912856, 'max_depth': 6, 'num_leaves': 57, 'lambda_l1': 0.09691815670077178, 'lambda_l2': 5.297889654749222e-08, 'min_split_gain': 0.5982067909650494}. Best is trial 53 with value: 15.297192007030864.\n"
     ]
    },
    {
     "data": {
      "application/vnd.jupyter.widget-view+json": {
       "model_id": "964677ed9b4841d7aba5fb6a574ceb44",
       "version_major": 2,
       "version_minor": 0
      },
      "text/plain": [
       "  0%|          | 0/333 [00:00<?, ?it/s]"
      ]
     },
     "metadata": {},
     "output_type": "display_data"
    },
    {
     "name": "stderr",
     "output_type": "stream",
     "text": [
      "[I 2024-05-20 02:42:12,577] Trial 59 finished with value: 16.208389827715266 and parameters: {'lookback_days': 27, 'num_boost_rounds': 407, 'learning_rate': 0.04023001896965106, 'max_depth': 7, 'num_leaves': 44, 'lambda_l1': 2.240642650186952, 'lambda_l2': 0.043636503208163605, 'min_split_gain': 0.006526456738124024}. Best is trial 53 with value: 15.297192007030864.\n"
     ]
    },
    {
     "data": {
      "application/vnd.jupyter.widget-view+json": {
       "model_id": "5ff604d4346a478995b1ab2ef9421596",
       "version_major": 2,
       "version_minor": 0
      },
      "text/plain": [
       "  0%|          | 0/333 [00:00<?, ?it/s]"
      ]
     },
     "metadata": {},
     "output_type": "display_data"
    },
    {
     "name": "stderr",
     "output_type": "stream",
     "text": [
      "[I 2024-05-20 02:43:18,238] Trial 60 finished with value: 15.682546171986782 and parameters: {'lookback_days': 21, 'num_boost_rounds': 300, 'learning_rate': 0.06855785588644896, 'max_depth': 3, 'num_leaves': 71, 'lambda_l1': 1.1472199266481886e-06, 'lambda_l2': 1.5174042097560272e-07, 'min_split_gain': 0.0013524616647655817}. Best is trial 53 with value: 15.297192007030864.\n"
     ]
    },
    {
     "data": {
      "application/vnd.jupyter.widget-view+json": {
       "model_id": "ab6a6ee465c441aa8ce76a2e6ae57ad6",
       "version_major": 2,
       "version_minor": 0
      },
      "text/plain": [
       "  0%|          | 0/333 [00:00<?, ?it/s]"
      ]
     },
     "metadata": {},
     "output_type": "display_data"
    },
    {
     "name": "stderr",
     "output_type": "stream",
     "text": [
      "[I 2024-05-20 02:44:21,629] Trial 61 finished with value: 15.49126273829282 and parameters: {'lookback_days': 25, 'num_boost_rounds': 241, 'learning_rate': 0.09760782021647232, 'max_depth': 3, 'num_leaves': 66, 'lambda_l1': 4.968608695091883, 'lambda_l2': 0.0007529254040198553, 'min_split_gain': 0.9053567989378144}. Best is trial 53 with value: 15.297192007030864.\n"
     ]
    },
    {
     "data": {
      "application/vnd.jupyter.widget-view+json": {
       "model_id": "aaa74e7277d74f58aadf054ce371248a",
       "version_major": 2,
       "version_minor": 0
      },
      "text/plain": [
       "  0%|          | 0/333 [00:00<?, ?it/s]"
      ]
     },
     "metadata": {},
     "output_type": "display_data"
    },
    {
     "name": "stderr",
     "output_type": "stream",
     "text": [
      "[I 2024-05-20 02:45:43,426] Trial 62 finished with value: 15.845879993974968 and parameters: {'lookback_days': 25, 'num_boost_rounds': 311, 'learning_rate': 0.040788244274236274, 'max_depth': 4, 'num_leaves': 67, 'lambda_l1': 2.0601480902677474, 'lambda_l2': 0.006038080302739283, 'min_split_gain': 0.18984505450293887}. Best is trial 53 with value: 15.297192007030864.\n"
     ]
    },
    {
     "data": {
      "application/vnd.jupyter.widget-view+json": {
       "model_id": "36803751eba744daa71929a06687d49a",
       "version_major": 2,
       "version_minor": 0
      },
      "text/plain": [
       "  0%|          | 0/333 [00:00<?, ?it/s]"
      ]
     },
     "metadata": {},
     "output_type": "display_data"
    },
    {
     "name": "stderr",
     "output_type": "stream",
     "text": [
      "[I 2024-05-20 02:46:59,555] Trial 63 finished with value: 15.546433211971111 and parameters: {'lookback_days': 23, 'num_boost_rounds': 381, 'learning_rate': 0.025039746389793945, 'max_depth': 3, 'num_leaves': 63, 'lambda_l1': 0.8706055463213087, 'lambda_l2': 0.002451072800657996, 'min_split_gain': 0.5590534314879986}. Best is trial 53 with value: 15.297192007030864.\n"
     ]
    },
    {
     "data": {
      "application/vnd.jupyter.widget-view+json": {
       "model_id": "732c42a6f2cf4c7685783cb0b1b291a3",
       "version_major": 2,
       "version_minor": 0
      },
      "text/plain": [
       "  0%|          | 0/333 [00:00<?, ?it/s]"
      ]
     },
     "metadata": {},
     "output_type": "display_data"
    },
    {
     "name": "stderr",
     "output_type": "stream",
     "text": [
      "[I 2024-05-20 02:48:22,660] Trial 64 finished with value: 15.671871983918836 and parameters: {'lookback_days': 26, 'num_boost_rounds': 334, 'learning_rate': 0.04031475049503165, 'max_depth': 4, 'num_leaves': 80, 'lambda_l1': 1.593684877913099e-05, 'lambda_l2': 0.020947796899855466, 'min_split_gain': 0.019627643995182652}. Best is trial 53 with value: 15.297192007030864.\n"
     ]
    },
    {
     "data": {
      "application/vnd.jupyter.widget-view+json": {
       "model_id": "babdc4148f91498d89c874b78e934cf6",
       "version_major": 2,
       "version_minor": 0
      },
      "text/plain": [
       "  0%|          | 0/333 [00:00<?, ?it/s]"
      ]
     },
     "metadata": {},
     "output_type": "display_data"
    },
    {
     "name": "stderr",
     "output_type": "stream",
     "text": [
      "[I 2024-05-20 02:49:29,273] Trial 65 finished with value: 17.10641163697735 and parameters: {'lookback_days': 19, 'num_boost_rounds': 310, 'learning_rate': 0.016518114253180425, 'max_depth': 3, 'num_leaves': 60, 'lambda_l1': 0.45741941602680253, 'lambda_l2': 0.16903925782267423, 'min_split_gain': 0.12849777777451893}. Best is trial 53 with value: 15.297192007030864.\n"
     ]
    },
    {
     "data": {
      "application/vnd.jupyter.widget-view+json": {
       "model_id": "e3d08fcd6811498096f94a2c7046dbfb",
       "version_major": 2,
       "version_minor": 0
      },
      "text/plain": [
       "  0%|          | 0/333 [00:00<?, ?it/s]"
      ]
     },
     "metadata": {},
     "output_type": "display_data"
    },
    {
     "name": "stderr",
     "output_type": "stream",
     "text": [
      "[I 2024-05-20 02:50:50,889] Trial 66 finished with value: 15.265705805312061 and parameters: {'lookback_days': 29, 'num_boost_rounds': 366, 'learning_rate': 0.06660054447739189, 'max_depth': 3, 'num_leaves': 73, 'lambda_l1': 2.1514389718949447, 'lambda_l2': 0.00013962988276808858, 'min_split_gain': 0.4922554813160993}. Best is trial 66 with value: 15.265705805312061.\n"
     ]
    },
    {
     "data": {
      "application/vnd.jupyter.widget-view+json": {
       "model_id": "21799b10f9f84afea01d95fc6a51dcd9",
       "version_major": 2,
       "version_minor": 0
      },
      "text/plain": [
       "  0%|          | 0/333 [00:00<?, ?it/s]"
      ]
     },
     "metadata": {},
     "output_type": "display_data"
    },
    {
     "name": "stderr",
     "output_type": "stream",
     "text": [
      "[I 2024-05-20 02:52:36,023] Trial 67 finished with value: 15.884420038708033 and parameters: {'lookback_days': 29, 'num_boost_rounds': 440, 'learning_rate': 0.06462594346401103, 'max_depth': 5, 'num_leaves': 88, 'lambda_l1': 5.80154567595531, 'lambda_l2': 1.1314108944465537e-05, 'min_split_gain': 0.438301049353363}. Best is trial 66 with value: 15.265705805312061.\n"
     ]
    },
    {
     "data": {
      "application/vnd.jupyter.widget-view+json": {
       "model_id": "e4a35c5017f74621b35b17ce92a43416",
       "version_major": 2,
       "version_minor": 0
      },
      "text/plain": [
       "  0%|          | 0/333 [00:00<?, ?it/s]"
      ]
     },
     "metadata": {},
     "output_type": "display_data"
    },
    {
     "name": "stderr",
     "output_type": "stream",
     "text": [
      "[I 2024-05-20 02:53:27,952] Trial 68 finished with value: 23.382997018328545 and parameters: {'lookback_days': 2, 'num_boost_rounds': 419, 'learning_rate': 0.027320831121351623, 'max_depth': 4, 'num_leaves': 78, 'lambda_l1': 0.0723382257982507, 'lambda_l2': 0.00017631135954990457, 'min_split_gain': 1.9771930697630603e-06}. Best is trial 66 with value: 15.265705805312061.\n"
     ]
    },
    {
     "data": {
      "application/vnd.jupyter.widget-view+json": {
       "model_id": "38c647297f9045038a64af7f5bf2422b",
       "version_major": 2,
       "version_minor": 0
      },
      "text/plain": [
       "  0%|          | 0/333 [00:00<?, ?it/s]"
      ]
     },
     "metadata": {},
     "output_type": "display_data"
    },
    {
     "name": "stderr",
     "output_type": "stream",
     "text": [
      "[I 2024-05-20 02:54:47,683] Trial 69 finished with value: 15.1996345890437 and parameters: {'lookback_days': 30, 'num_boost_rounds': 364, 'learning_rate': 0.08304680573144023, 'max_depth': 3, 'num_leaves': 73, 'lambda_l1': 1.1675811436213348, 'lambda_l2': 2.9175634723825386e-08, 'min_split_gain': 0.00011462807821619525}. Best is trial 69 with value: 15.1996345890437.\n"
     ]
    },
    {
     "data": {
      "application/vnd.jupyter.widget-view+json": {
       "model_id": "1ebdea65a09b48bb8ed1d1f67c002558",
       "version_major": 2,
       "version_minor": 0
      },
      "text/plain": [
       "  0%|          | 0/333 [00:00<?, ?it/s]"
      ]
     },
     "metadata": {},
     "output_type": "display_data"
    },
    {
     "name": "stderr",
     "output_type": "stream",
     "text": [
      "[I 2024-05-20 02:56:26,516] Trial 70 finished with value: 15.610110148260695 and parameters: {'lookback_days': 30, 'num_boost_rounds': 395, 'learning_rate': 0.08285950290243606, 'max_depth': 4, 'num_leaves': 71, 'lambda_l1': 0.3279630500079832, 'lambda_l2': 5.6369265322636015e-05, 'min_split_gain': 9.739690192573947e-05}. Best is trial 69 with value: 15.1996345890437.\n"
     ]
    },
    {
     "data": {
      "application/vnd.jupyter.widget-view+json": {
       "model_id": "71ae84f70012426eb291b0d18134edf8",
       "version_major": 2,
       "version_minor": 0
      },
      "text/plain": [
       "  0%|          | 0/333 [00:00<?, ?it/s]"
      ]
     },
     "metadata": {},
     "output_type": "display_data"
    },
    {
     "name": "stderr",
     "output_type": "stream",
     "text": [
      "[I 2024-05-20 02:57:45,220] Trial 71 finished with value: 15.265386872491943 and parameters: {'lookback_days': 29, 'num_boost_rounds': 364, 'learning_rate': 0.03748935785410576, 'max_depth': 3, 'num_leaves': 75, 'lambda_l1': 1.171794261397972, 'lambda_l2': 2.4654893863645825e-08, 'min_split_gain': 0.07600862689738867}. Best is trial 69 with value: 15.1996345890437.\n"
     ]
    },
    {
     "data": {
      "application/vnd.jupyter.widget-view+json": {
       "model_id": "1fc78d7cf056461183a0af4e460a84cb",
       "version_major": 2,
       "version_minor": 0
      },
      "text/plain": [
       "  0%|          | 0/333 [00:00<?, ?it/s]"
      ]
     },
     "metadata": {},
     "output_type": "display_data"
    },
    {
     "name": "stderr",
     "output_type": "stream",
     "text": [
      "[I 2024-05-20 02:59:05,669] Trial 72 finished with value: 15.206236567671562 and parameters: {'lookback_days': 30, 'num_boost_rounds': 364, 'learning_rate': 0.09830710969818214, 'max_depth': 3, 'num_leaves': 82, 'lambda_l1': 1.567391262542905, 'lambda_l2': 8.069738063740884e-08, 'min_split_gain': 0.03666900383672514}. Best is trial 69 with value: 15.1996345890437.\n"
     ]
    },
    {
     "data": {
      "application/vnd.jupyter.widget-view+json": {
       "model_id": "3bf7194f0db3417aa5d4f4d87b0fafa2",
       "version_major": 2,
       "version_minor": 0
      },
      "text/plain": [
       "  0%|          | 0/333 [00:00<?, ?it/s]"
      ]
     },
     "metadata": {},
     "output_type": "display_data"
    },
    {
     "name": "stderr",
     "output_type": "stream",
     "text": [
      "[I 2024-05-20 03:00:24,413] Trial 73 finished with value: 15.342872123454095 and parameters: {'lookback_days': 29, 'num_boost_rounds': 366, 'learning_rate': 0.03589547070925675, 'max_depth': 3, 'num_leaves': 74, 'lambda_l1': 9.935177929827425e-05, 'lambda_l2': 5.593292582507098e-08, 'min_split_gain': 0.0001960415715303097}. Best is trial 69 with value: 15.1996345890437.\n"
     ]
    },
    {
     "data": {
      "application/vnd.jupyter.widget-view+json": {
       "model_id": "2eaaf8fb253b49639fed263ac2af6089",
       "version_major": 2,
       "version_minor": 0
      },
      "text/plain": [
       "  0%|          | 0/333 [00:00<?, ?it/s]"
      ]
     },
     "metadata": {},
     "output_type": "display_data"
    },
    {
     "name": "stderr",
     "output_type": "stream",
     "text": [
      "[I 2024-05-20 03:01:58,566] Trial 74 finished with value: 15.640059724789626 and parameters: {'lookback_days': 30, 'num_boost_rounds': 371, 'learning_rate': 0.037899955682674236, 'max_depth': 4, 'num_leaves': 75, 'lambda_l1': 0.00014065547125502911, 'lambda_l2': 7.433869319359821e-08, 'min_split_gain': 0.0001652032832437636}. Best is trial 69 with value: 15.1996345890437.\n"
     ]
    },
    {
     "data": {
      "application/vnd.jupyter.widget-view+json": {
       "model_id": "bb5de73c336342578fa43665bb4cd7de",
       "version_major": 2,
       "version_minor": 0
      },
      "text/plain": [
       "  0%|          | 0/333 [00:00<?, ?it/s]"
      ]
     },
     "metadata": {},
     "output_type": "display_data"
    },
    {
     "name": "stderr",
     "output_type": "stream",
     "text": [
      "[I 2024-05-20 03:04:56,340] Trial 75 finished with value: 16.586319624279056 and parameters: {'lookback_days': 29, 'num_boost_rounds': 384, 'learning_rate': 0.09792608299350018, 'max_depth': 14, 'num_leaves': 82, 'lambda_l1': 0.00025108468329915825, 'lambda_l2': 5.912385975660505e-08, 'min_split_gain': 5.144225156479077e-07}. Best is trial 69 with value: 15.1996345890437.\n"
     ]
    },
    {
     "data": {
      "application/vnd.jupyter.widget-view+json": {
       "model_id": "2743b1f830354ecbbe7ed7c99030e5b8",
       "version_major": 2,
       "version_minor": 0
      },
      "text/plain": [
       "  0%|          | 0/333 [00:00<?, ?it/s]"
      ]
     },
     "metadata": {},
     "output_type": "display_data"
    },
    {
     "name": "stderr",
     "output_type": "stream",
     "text": [
      "[I 2024-05-20 03:06:16,265] Trial 76 finished with value: 15.170369630264204 and parameters: {'lookback_days': 28, 'num_boost_rounds': 366, 'learning_rate': 0.0611840750465734, 'max_depth': 3, 'num_leaves': 87, 'lambda_l1': 2.0485820144761203e-07, 'lambda_l2': 4.186423483469188e-07, 'min_split_gain': 2.9463627602023366e-05}. Best is trial 76 with value: 15.170369630264204.\n"
     ]
    },
    {
     "data": {
      "application/vnd.jupyter.widget-view+json": {
       "model_id": "e0fa0c131eea490a91fdfe6904752bbc",
       "version_major": 2,
       "version_minor": 0
      },
      "text/plain": [
       "  0%|          | 0/333 [00:00<?, ?it/s]"
      ]
     },
     "metadata": {},
     "output_type": "display_data"
    },
    {
     "name": "stderr",
     "output_type": "stream",
     "text": [
      "[I 2024-05-20 03:07:33,281] Trial 77 finished with value: 15.21256109580102 and parameters: {'lookback_days': 28, 'num_boost_rounds': 366, 'learning_rate': 0.07114422354072292, 'max_depth': 3, 'num_leaves': 89, 'lambda_l1': 3.140651806604915e-07, 'lambda_l2': 3.6465283323145205e-07, 'min_split_gain': 0.00020020782043213842}. Best is trial 76 with value: 15.170369630264204.\n"
     ]
    },
    {
     "data": {
      "application/vnd.jupyter.widget-view+json": {
       "model_id": "521bf68390d942478612fff1e4a2164f",
       "version_major": 2,
       "version_minor": 0
      },
      "text/plain": [
       "  0%|          | 0/333 [00:00<?, ?it/s]"
      ]
     },
     "metadata": {},
     "output_type": "display_data"
    },
    {
     "name": "stderr",
     "output_type": "stream",
     "text": [
      "[I 2024-05-20 03:09:08,341] Trial 78 finished with value: 15.637069791841311 and parameters: {'lookback_days': 28, 'num_boost_rounds': 411, 'learning_rate': 0.03256696801172635, 'max_depth': 4, 'num_leaves': 90, 'lambda_l1': 1.5481559771021907e-07, 'lambda_l2': 8.178058541781537e-07, 'min_split_gain': 2.8864520877773266e-05}. Best is trial 76 with value: 15.170369630264204.\n"
     ]
    },
    {
     "data": {
      "application/vnd.jupyter.widget-view+json": {
       "model_id": "09fc5d819b9646159cc7d6ead40d5011",
       "version_major": 2,
       "version_minor": 0
      },
      "text/plain": [
       "  0%|          | 0/333 [00:00<?, ?it/s]"
      ]
     },
     "metadata": {},
     "output_type": "display_data"
    },
    {
     "name": "stderr",
     "output_type": "stream",
     "text": [
      "[I 2024-05-20 03:11:46,030] Trial 79 finished with value: 16.485877612863334 and parameters: {'lookback_days': 29, 'num_boost_rounds': 396, 'learning_rate': 0.07376079541001505, 'max_depth': 10, 'num_leaves': 85, 'lambda_l1': 4.886711798507495e-06, 'lambda_l2': 2.7190953986587693e-06, 'min_split_gain': 0.00023760085010259796}. Best is trial 76 with value: 15.170369630264204.\n"
     ]
    },
    {
     "data": {
      "application/vnd.jupyter.widget-view+json": {
       "model_id": "d9248b1a80d04965886518955f33f209",
       "version_major": 2,
       "version_minor": 0
      },
      "text/plain": [
       "  0%|          | 0/333 [00:00<?, ?it/s]"
      ]
     },
     "metadata": {},
     "output_type": "display_data"
    },
    {
     "name": "stderr",
     "output_type": "stream",
     "text": [
      "[I 2024-05-20 03:13:01,868] Trial 80 finished with value: 15.295720350295017 and parameters: {'lookback_days': 30, 'num_boost_rounds': 338, 'learning_rate': 0.06230892889308014, 'max_depth': 3, 'num_leaves': 101, 'lambda_l1': 3.4016900599966374e-08, 'lambda_l2': 3.3059346861443964e-07, 'min_split_gain': 2.1399837658035844e-05}. Best is trial 76 with value: 15.170369630264204.\n"
     ]
    },
    {
     "data": {
      "application/vnd.jupyter.widget-view+json": {
       "model_id": "fe5f672a296a4f9981b6e536a0916511",
       "version_major": 2,
       "version_minor": 0
      },
      "text/plain": [
       "  0%|          | 0/333 [00:00<?, ?it/s]"
      ]
     },
     "metadata": {},
     "output_type": "display_data"
    },
    {
     "name": "stderr",
     "output_type": "stream",
     "text": [
      "[I 2024-05-20 03:14:17,527] Trial 81 finished with value: 15.158217069359056 and parameters: {'lookback_days': 30, 'num_boost_rounds': 338, 'learning_rate': 0.06437087090107249, 'max_depth': 3, 'num_leaves': 97, 'lambda_l1': 2.614849414364448e-08, 'lambda_l2': 2.8723573425186737e-07, 'min_split_gain': 1.3249288639173651e-05}. Best is trial 81 with value: 15.158217069359056.\n"
     ]
    },
    {
     "data": {
      "application/vnd.jupyter.widget-view+json": {
       "model_id": "9c37b258cfe6410eac48e87c25bec645",
       "version_major": 2,
       "version_minor": 0
      },
      "text/plain": [
       "  0%|          | 0/333 [00:00<?, ?it/s]"
      ]
     },
     "metadata": {},
     "output_type": "display_data"
    },
    {
     "name": "stderr",
     "output_type": "stream",
     "text": [
      "[I 2024-05-20 03:15:33,867] Trial 82 finished with value: 15.19731769893374 and parameters: {'lookback_days': 30, 'num_boost_rounds': 335, 'learning_rate': 0.06327130537760632, 'max_depth': 3, 'num_leaves': 98, 'lambda_l1': 3.942037578715562e-08, 'lambda_l2': 2.718587124621573e-07, 'min_split_gain': 1.1912869115531177e-05}. Best is trial 81 with value: 15.158217069359056.\n"
     ]
    },
    {
     "data": {
      "application/vnd.jupyter.widget-view+json": {
       "model_id": "5e8d507b64db4f518265e33866ed8c70",
       "version_major": 2,
       "version_minor": 0
      },
      "text/plain": [
       "  0%|          | 0/333 [00:00<?, ?it/s]"
      ]
     },
     "metadata": {},
     "output_type": "display_data"
    },
    {
     "name": "stderr",
     "output_type": "stream",
     "text": [
      "[I 2024-05-20 03:16:50,509] Trial 83 finished with value: 15.211601190727102 and parameters: {'lookback_days': 30, 'num_boost_rounds': 337, 'learning_rate': 0.06476817595309617, 'max_depth': 3, 'num_leaves': 93, 'lambda_l1': 2.7696340176635408e-08, 'lambda_l2': 3.831340084468271e-07, 'min_split_gain': 1.016193306345036e-05}. Best is trial 81 with value: 15.158217069359056.\n"
     ]
    },
    {
     "data": {
      "application/vnd.jupyter.widget-view+json": {
       "model_id": "d291f88718d844e08979dac153bd3c1c",
       "version_major": 2,
       "version_minor": 0
      },
      "text/plain": [
       "  0%|          | 0/333 [00:00<?, ?it/s]"
      ]
     },
     "metadata": {},
     "output_type": "display_data"
    },
    {
     "name": "stderr",
     "output_type": "stream",
     "text": [
      "[I 2024-05-20 03:18:22,835] Trial 84 finished with value: 15.617757949289468 and parameters: {'lookback_days': 30, 'num_boost_rounds': 375, 'learning_rate': 0.06152535766247757, 'max_depth': 4, 'num_leaves': 94, 'lambda_l1': 9.454545025747588e-08, 'lambda_l2': 5.18904223256987e-06, 'min_split_gain': 7.004982194292351e-06}. Best is trial 81 with value: 15.158217069359056.\n"
     ]
    },
    {
     "data": {
      "application/vnd.jupyter.widget-view+json": {
       "model_id": "3ebd40c4265646cd859b39fc184bd61e",
       "version_major": 2,
       "version_minor": 0
      },
      "text/plain": [
       "  0%|          | 0/333 [00:00<?, ?it/s]"
      ]
     },
     "metadata": {},
     "output_type": "display_data"
    },
    {
     "name": "stderr",
     "output_type": "stream",
     "text": [
      "[I 2024-05-20 03:19:38,243] Trial 85 finished with value: 15.438400042856342 and parameters: {'lookback_days': 28, 'num_boost_rounds': 340, 'learning_rate': 0.022260149816321222, 'max_depth': 3, 'num_leaves': 98, 'lambda_l1': 2.449087784001492e-08, 'lambda_l2': 1.346320596007763e-06, 'min_split_gain': 5.159140414435024e-06}. Best is trial 81 with value: 15.158217069359056.\n"
     ]
    },
    {
     "data": {
      "application/vnd.jupyter.widget-view+json": {
       "model_id": "3c36a9cb3d96436ba7978bb4222c4f03",
       "version_major": 2,
       "version_minor": 0
      },
      "text/plain": [
       "  0%|          | 0/333 [00:00<?, ?it/s]"
      ]
     },
     "metadata": {},
     "output_type": "display_data"
    },
    {
     "name": "stderr",
     "output_type": "stream",
     "text": [
      "[I 2024-05-20 03:21:23,512] Trial 86 finished with value: 32.13698429146692 and parameters: {'lookback_days': 27, 'num_boost_rounds': 385, 'learning_rate': 0.00010152431948418408, 'max_depth': 4, 'num_leaves': 92, 'lambda_l1': 2.594839913077725e-07, 'lambda_l2': 3.962887148375941e-07, 'min_split_gain': 1.2517344061631301e-05}. Best is trial 81 with value: 15.158217069359056.\n"
     ]
    },
    {
     "data": {
      "application/vnd.jupyter.widget-view+json": {
       "model_id": "5dec4fe2c6dc4a74a8a22cef6c49b90e",
       "version_major": 2,
       "version_minor": 0
      },
      "text/plain": [
       "  0%|          | 0/333 [00:00<?, ?it/s]"
      ]
     },
     "metadata": {},
     "output_type": "display_data"
    },
    {
     "name": "stderr",
     "output_type": "stream",
     "text": [
      "[I 2024-05-20 03:22:51,326] Trial 87 finished with value: 29.929307659721406 and parameters: {'lookback_days': 30, 'num_boost_rounds': 404, 'learning_rate': 0.00043088893328905914, 'max_depth': 3, 'num_leaves': 104, 'lambda_l1': 1.3397698292246527e-08, 'lambda_l2': 6.665343968438635e-07, 'min_split_gain': 2.992312155994762e-06}. Best is trial 81 with value: 15.158217069359056.\n"
     ]
    },
    {
     "data": {
      "application/vnd.jupyter.widget-view+json": {
       "model_id": "011751b61e20440f997ee861a5544671",
       "version_major": 2,
       "version_minor": 0
      },
      "text/plain": [
       "  0%|          | 0/333 [00:00<?, ?it/s]"
      ]
     },
     "metadata": {},
     "output_type": "display_data"
    },
    {
     "name": "stderr",
     "output_type": "stream",
     "text": [
      "[I 2024-05-20 03:24:06,647] Trial 88 finished with value: 15.433089491632389 and parameters: {'lookback_days': 29, 'num_boost_rounds': 330, 'learning_rate': 0.028387931955721906, 'max_depth': 3, 'num_leaves': 97, 'lambda_l1': 7.809429833118197e-08, 'lambda_l2': 1.5925822827866303e-07, 'min_split_gain': 6.171000205765917e-05}. Best is trial 81 with value: 15.158217069359056.\n"
     ]
    },
    {
     "data": {
      "application/vnd.jupyter.widget-view+json": {
       "model_id": "612845b3a7fe449e88ffb348c3f570af",
       "version_major": 2,
       "version_minor": 0
      },
      "text/plain": [
       "  0%|          | 0/333 [00:00<?, ?it/s]"
      ]
     },
     "metadata": {},
     "output_type": "display_data"
    },
    {
     "name": "stderr",
     "output_type": "stream",
     "text": [
      "[I 2024-05-20 03:25:06,547] Trial 89 finished with value: 15.873980063697779 and parameters: {'lookback_days': 28, 'num_boost_rounds': 136, 'learning_rate': 0.04432402056661763, 'max_depth': 4, 'num_leaves': 90, 'lambda_l1': 3.963324779436378e-07, 'lambda_l2': 1.1516286519793922e-06, 'min_split_gain': 1.929727969409078e-05}. Best is trial 81 with value: 15.158217069359056.\n"
     ]
    },
    {
     "data": {
      "application/vnd.jupyter.widget-view+json": {
       "model_id": "72850fbecac447ae808d4ad15dcbd26f",
       "version_major": 2,
       "version_minor": 0
      },
      "text/plain": [
       "  0%|          | 0/333 [00:00<?, ?it/s]"
      ]
     },
     "metadata": {},
     "output_type": "display_data"
    },
    {
     "name": "stderr",
     "output_type": "stream",
     "text": [
      "[I 2024-05-20 03:26:46,270] Trial 90 finished with value: 15.952440494255846 and parameters: {'lookback_days': 28, 'num_boost_rounds': 354, 'learning_rate': 0.05720901469985751, 'max_depth': 5, 'num_leaves': 87, 'lambda_l1': 2.652443334877661e-08, 'lambda_l2': 2.0871747259032124e-07, 'min_split_gain': 4.831109716260924e-05}. Best is trial 81 with value: 15.158217069359056.\n"
     ]
    },
    {
     "data": {
      "application/vnd.jupyter.widget-view+json": {
       "model_id": "a052caec9d2c433c9b8723c66d6d2730",
       "version_major": 2,
       "version_minor": 0
      },
      "text/plain": [
       "  0%|          | 0/333 [00:00<?, ?it/s]"
      ]
     },
     "metadata": {},
     "output_type": "display_data"
    },
    {
     "name": "stderr",
     "output_type": "stream",
     "text": [
      "[I 2024-05-20 03:28:02,357] Trial 91 finished with value: 15.178077119854056 and parameters: {'lookback_days': 30, 'num_boost_rounds': 341, 'learning_rate': 0.06610638122180174, 'max_depth': 3, 'num_leaves': 100, 'lambda_l1': 3.530891238666157e-08, 'lambda_l2': 2.5505801876111185e-07, 'min_split_gain': 2.440749737423535e-05}. Best is trial 81 with value: 15.158217069359056.\n"
     ]
    },
    {
     "data": {
      "application/vnd.jupyter.widget-view+json": {
       "model_id": "ac8d38aa14aa4af2be36a77754a89afa",
       "version_major": 2,
       "version_minor": 0
      },
      "text/plain": [
       "  0%|          | 0/333 [00:00<?, ?it/s]"
      ]
     },
     "metadata": {},
     "output_type": "display_data"
    },
    {
     "name": "stderr",
     "output_type": "stream",
     "text": [
      "[I 2024-05-20 03:29:18,458] Trial 92 finished with value: 15.20767593213234 and parameters: {'lookback_days': 30, 'num_boost_rounds': 347, 'learning_rate': 0.08033320977317772, 'max_depth': 3, 'num_leaves': 112, 'lambda_l1': 5.135548444431799e-08, 'lambda_l2': 9.57660685751831e-08, 'min_split_gain': 1.1115702564141446e-05}. Best is trial 81 with value: 15.158217069359056.\n"
     ]
    },
    {
     "data": {
      "application/vnd.jupyter.widget-view+json": {
       "model_id": "fb3eb6324cca41768a7534ee79202f6c",
       "version_major": 2,
       "version_minor": 0
      },
      "text/plain": [
       "  0%|          | 0/333 [00:00<?, ?it/s]"
      ]
     },
     "metadata": {},
     "output_type": "display_data"
    },
    {
     "name": "stderr",
     "output_type": "stream",
     "text": [
      "[I 2024-05-20 03:30:35,279] Trial 93 finished with value: 15.191640788238907 and parameters: {'lookback_days': 30, 'num_boost_rounds': 339, 'learning_rate': 0.04772217100872029, 'max_depth': 3, 'num_leaves': 113, 'lambda_l1': 7.390953820397404e-08, 'lambda_l2': 9.042219025319672e-08, 'min_split_gain': 3.3409060531480725e-05}. Best is trial 81 with value: 15.158217069359056.\n"
     ]
    },
    {
     "data": {
      "application/vnd.jupyter.widget-view+json": {
       "model_id": "82544643aabd45c7b660c4151925a5d4",
       "version_major": 2,
       "version_minor": 0
      },
      "text/plain": [
       "  0%|          | 0/333 [00:00<?, ?it/s]"
      ]
     },
     "metadata": {},
     "output_type": "display_data"
    },
    {
     "name": "stderr",
     "output_type": "stream",
     "text": [
      "[I 2024-05-20 03:31:53,721] Trial 94 finished with value: 15.264007938979589 and parameters: {'lookback_days': 30, 'num_boost_rounds': 349, 'learning_rate': 0.08167866649413488, 'max_depth': 3, 'num_leaves': 114, 'lambda_l1': 4.634705331796896e-08, 'lambda_l2': 1.2942838020678739e-07, 'min_split_gain': 1.1842512777895403e-05}. Best is trial 81 with value: 15.158217069359056.\n"
     ]
    },
    {
     "data": {
      "application/vnd.jupyter.widget-view+json": {
       "model_id": "291456b12e424b699096a4b75d885497",
       "version_major": 2,
       "version_minor": 0
      },
      "text/plain": [
       "  0%|          | 0/333 [00:00<?, ?it/s]"
      ]
     },
     "metadata": {},
     "output_type": "display_data"
    },
    {
     "name": "stderr",
     "output_type": "stream",
     "text": [
      "[I 2024-05-20 03:33:18,923] Trial 95 finished with value: 15.552266236075619 and parameters: {'lookback_days': 30, 'num_boost_rounds': 321, 'learning_rate': 0.04828681400431725, 'max_depth': 4, 'num_leaves': 111, 'lambda_l1': 1.1891506877896918e-07, 'lambda_l2': 4.811081949598117e-07, 'min_split_gain': 2.3530478906021816e-06}. Best is trial 81 with value: 15.158217069359056.\n"
     ]
    },
    {
     "data": {
      "application/vnd.jupyter.widget-view+json": {
       "model_id": "90f23922719649c4ad5f2fa59b035ccd",
       "version_major": 2,
       "version_minor": 0
      },
      "text/plain": [
       "  0%|          | 0/333 [00:00<?, ?it/s]"
      ]
     },
     "metadata": {},
     "output_type": "display_data"
    },
    {
     "name": "stderr",
     "output_type": "stream",
     "text": [
      "[I 2024-05-20 03:34:31,767] Trial 96 finished with value: 15.313905299526965 and parameters: {'lookback_days': 27, 'num_boost_rounds': 331, 'learning_rate': 0.0765396130863437, 'max_depth': 3, 'num_leaves': 117, 'lambda_l1': 2.0453412378258265e-07, 'lambda_l2': 2.598139684257241e-07, 'min_split_gain': 3.1053456170190816e-05}. Best is trial 81 with value: 15.158217069359056.\n"
     ]
    },
    {
     "data": {
      "application/vnd.jupyter.widget-view+json": {
       "model_id": "01df8dcf490a4dfcba9814688346c280",
       "version_major": 2,
       "version_minor": 0
      },
      "text/plain": [
       "  0%|          | 0/333 [00:00<?, ?it/s]"
      ]
     },
     "metadata": {},
     "output_type": "display_data"
    },
    {
     "name": "stderr",
     "output_type": "stream",
     "text": [
      "[I 2024-05-20 03:37:03,496] Trial 97 finished with value: 25.707085276981807 and parameters: {'lookback_days': 28, 'num_boost_rounds': 300, 'learning_rate': 0.0013897228781527672, 'max_depth': 12, 'num_leaves': 109, 'lambda_l1': 6.60029430335195e-08, 'lambda_l2': 9.526051529642696e-08, 'min_split_gain': 0.00010305501640832296}. Best is trial 81 with value: 15.158217069359056.\n"
     ]
    },
    {
     "data": {
      "application/vnd.jupyter.widget-view+json": {
       "model_id": "34e4a6d1f0584bcda48cb4d080c13aee",
       "version_major": 2,
       "version_minor": 0
      },
      "text/plain": [
       "  0%|          | 0/333 [00:00<?, ?it/s]"
      ]
     },
     "metadata": {},
     "output_type": "display_data"
    },
    {
     "name": "stderr",
     "output_type": "stream",
     "text": [
      "[I 2024-05-20 03:38:31,040] Trial 98 finished with value: 15.582491561915703 and parameters: {'lookback_days': 30, 'num_boost_rounds': 342, 'learning_rate': 0.05572135779093177, 'max_depth': 4, 'num_leaves': 95, 'lambda_l1': 1.0489432079918647e-06, 'lambda_l2': 8.161676710770697e-07, 'min_split_gain': 8.18651696110197e-06}. Best is trial 81 with value: 15.158217069359056.\n"
     ]
    },
    {
     "data": {
      "application/vnd.jupyter.widget-view+json": {
       "model_id": "9fd420b4b9c04c75b28ee7e884ca7b2a",
       "version_major": 2,
       "version_minor": 0
      },
      "text/plain": [
       "  0%|          | 0/333 [00:00<?, ?it/s]"
      ]
     },
     "metadata": {},
     "output_type": "display_data"
    },
    {
     "name": "stderr",
     "output_type": "stream",
     "text": [
      "[I 2024-05-20 03:39:50,035] Trial 99 finished with value: 15.343866720182016 and parameters: {'lookback_days': 29, 'num_boost_rounds': 377, 'learning_rate': 0.09806833337301861, 'max_depth': 3, 'num_leaves': 106, 'lambda_l1': 1.7104593420696472e-08, 'lambda_l2': 1.8070774083695766e-06, 'min_split_gain': 1.121311529551119e-06}. Best is trial 81 with value: 15.158217069359056.\n"
     ]
    },
    {
     "data": {
      "application/vnd.jupyter.widget-view+json": {
       "model_id": "79a6c84b8b3f4e56b00f935bf805c707",
       "version_major": 2,
       "version_minor": 0
      },
      "text/plain": [
       "  0%|          | 0/333 [00:00<?, ?it/s]"
      ]
     },
     "metadata": {},
     "output_type": "display_data"
    },
    {
     "name": "stderr",
     "output_type": "stream",
     "text": [
      "[I 2024-05-20 03:41:07,097] Trial 100 finished with value: 15.222484515614777 and parameters: {'lookback_days': 27, 'num_boost_rounds': 358, 'learning_rate': 0.08187095289904832, 'max_depth': 3, 'num_leaves': 101, 'lambda_l1': 6.079194143112078e-07, 'lambda_l2': 1.369320729315056e-07, 'min_split_gain': 5.456828000140596e-06}. Best is trial 81 with value: 15.158217069359056.\n"
     ]
    },
    {
     "data": {
      "application/vnd.jupyter.widget-view+json": {
       "model_id": "8d02dd9b08124ce29994248b8f009861",
       "version_major": 2,
       "version_minor": 0
      },
      "text/plain": [
       "  0%|          | 0/333 [00:00<?, ?it/s]"
      ]
     },
     "metadata": {},
     "output_type": "display_data"
    },
    {
     "name": "stderr",
     "output_type": "stream",
     "text": [
      "[I 2024-05-20 03:42:22,772] Trial 101 finished with value: 15.226888383123388 and parameters: {'lookback_days': 27, 'num_boost_rounds': 349, 'learning_rate': 0.08145268828566052, 'max_depth': 3, 'num_leaves': 99, 'lambda_l1': 4.6682158377036685e-07, 'lambda_l2': 1.2040799463405226e-07, 'min_split_gain': 1.7064587588444065e-05}. Best is trial 81 with value: 15.158217069359056.\n"
     ]
    },
    {
     "data": {
      "application/vnd.jupyter.widget-view+json": {
       "model_id": "d1192d31269f4e5583ae19f17c6c5195",
       "version_major": 2,
       "version_minor": 0
      },
      "text/plain": [
       "  0%|          | 0/333 [00:00<?, ?it/s]"
      ]
     },
     "metadata": {},
     "output_type": "display_data"
    },
    {
     "name": "stderr",
     "output_type": "stream",
     "text": [
      "[I 2024-05-20 03:43:41,370] Trial 102 finished with value: 15.193994938940744 and parameters: {'lookback_days': 30, 'num_boost_rounds': 359, 'learning_rate': 0.0463691477710486, 'max_depth': 3, 'num_leaves': 102, 'lambda_l1': 5.3589504032394966e-08, 'lambda_l2': 4.1418435817869214e-07, 'min_split_gain': 6.561470575306734e-06}. Best is trial 81 with value: 15.158217069359056.\n"
     ]
    },
    {
     "data": {
      "application/vnd.jupyter.widget-view+json": {
       "model_id": "bc2eb40d14da4d3e9d8a480daaa98e8d",
       "version_major": 2,
       "version_minor": 0
      },
      "text/plain": [
       "  0%|          | 0/333 [00:00<?, ?it/s]"
      ]
     },
     "metadata": {},
     "output_type": "display_data"
    },
    {
     "name": "stderr",
     "output_type": "stream",
     "text": [
      "[I 2024-05-20 03:45:06,001] Trial 103 finished with value: 15.631476292276108 and parameters: {'lookback_days': 30, 'num_boost_rounds': 316, 'learning_rate': 0.04945792953993692, 'max_depth': 4, 'num_leaves': 104, 'lambda_l1': 4.6275922836924455e-08, 'lambda_l2': 4.7095143970501506e-07, 'min_split_gain': 4.070729029416955e-06}. Best is trial 81 with value: 15.158217069359056.\n"
     ]
    },
    {
     "data": {
      "application/vnd.jupyter.widget-view+json": {
       "model_id": "58da1ce81860420188724b8c468f472b",
       "version_major": 2,
       "version_minor": 0
      },
      "text/plain": [
       "  0%|          | 0/333 [00:00<?, ?it/s]"
      ]
     },
     "metadata": {},
     "output_type": "display_data"
    },
    {
     "name": "stderr",
     "output_type": "stream",
     "text": [
      "[I 2024-05-20 03:46:23,353] Trial 104 finished with value: 15.41167896307342 and parameters: {'lookback_days': 29, 'num_boost_rounds': 339, 'learning_rate': 0.030256456609724938, 'max_depth': 3, 'num_leaves': 113, 'lambda_l1': 1.1812144765577001e-08, 'lambda_l2': 2.8298574307929063e-07, 'min_split_gain': 4.023717155732412e-05}. Best is trial 81 with value: 15.158217069359056.\n"
     ]
    },
    {
     "data": {
      "application/vnd.jupyter.widget-view+json": {
       "model_id": "3329092641164a30a22b68abf10e2fa0",
       "version_major": 2,
       "version_minor": 0
      },
      "text/plain": [
       "  0%|          | 0/333 [00:00<?, ?it/s]"
      ]
     },
     "metadata": {},
     "output_type": "display_data"
    },
    {
     "name": "stderr",
     "output_type": "stream",
     "text": [
      "[I 2024-05-20 03:47:45,340] Trial 105 finished with value: 15.217334104957578 and parameters: {'lookback_days': 30, 'num_boost_rounds': 385, 'learning_rate': 0.06427197007626288, 'max_depth': 3, 'num_leaves': 83, 'lambda_l1': 2.3235828183893594e-08, 'lambda_l2': 8.517729322888972e-08, 'min_split_gain': 1.1467952769447877e-05}. Best is trial 81 with value: 15.158217069359056.\n"
     ]
    },
    {
     "data": {
      "application/vnd.jupyter.widget-view+json": {
       "model_id": "554e7f299df14f559aabb32675396678",
       "version_major": 2,
       "version_minor": 0
      },
      "text/plain": [
       "  0%|          | 0/333 [00:00<?, ?it/s]"
      ]
     },
     "metadata": {},
     "output_type": "display_data"
    },
    {
     "name": "stderr",
     "output_type": "stream",
     "text": [
      "[I 2024-05-20 03:49:09,326] Trial 106 finished with value: 15.636130335891792 and parameters: {'lookback_days': 28, 'num_boost_rounds': 330, 'learning_rate': 0.04477696189798591, 'max_depth': 4, 'num_leaves': 102, 'lambda_l1': 1.2229130189054005e-07, 'lambda_l2': 9.852811631438314e-07, 'min_split_gain': 8.586412340388908e-05}. Best is trial 81 with value: 15.158217069359056.\n"
     ]
    },
    {
     "data": {
      "application/vnd.jupyter.widget-view+json": {
       "model_id": "9205c5b301354ee49c4f70683a22d3ae",
       "version_major": 2,
       "version_minor": 0
      },
      "text/plain": [
       "  0%|          | 0/333 [00:00<?, ?it/s]"
      ]
     },
     "metadata": {},
     "output_type": "display_data"
    },
    {
     "name": "stderr",
     "output_type": "stream",
     "text": [
      "[I 2024-05-20 03:50:27,232] Trial 107 finished with value: 15.361723106958344 and parameters: {'lookback_days': 26, 'num_boost_rounds': 374, 'learning_rate': 0.05830120427147439, 'max_depth': 3, 'num_leaves': 89, 'lambda_l1': 2.873571129462412e-07, 'lambda_l2': 4.395416867919164e-06, 'min_split_gain': 3.6758057772689596e-05}. Best is trial 81 with value: 15.158217069359056.\n"
     ]
    },
    {
     "data": {
      "application/vnd.jupyter.widget-view+json": {
       "model_id": "9d3abce5b9e7496dac2645783cc08100",
       "version_major": 2,
       "version_minor": 0
      },
      "text/plain": [
       "  0%|          | 0/333 [00:00<?, ?it/s]"
      ]
     },
     "metadata": {},
     "output_type": "display_data"
    },
    {
     "name": "stderr",
     "output_type": "stream",
     "text": [
      "[I 2024-05-20 03:52:03,117] Trial 108 finished with value: 15.82598250044717 and parameters: {'lookback_days': 29, 'num_boost_rounds': 361, 'learning_rate': 0.020016623634626002, 'max_depth': 4, 'num_leaves': 93, 'lambda_l1': 4.0889505187737384e-08, 'lambda_l2': 1.7343846308316488e-07, 'min_split_gain': 1.300059244752663e-06}. Best is trial 81 with value: 15.158217069359056.\n"
     ]
    },
    {
     "data": {
      "application/vnd.jupyter.widget-view+json": {
       "model_id": "e62ddf406ddf4c5a9975094be6f4f969",
       "version_major": 2,
       "version_minor": 0
      },
      "text/plain": [
       "  0%|          | 0/333 [00:00<?, ?it/s]"
      ]
     },
     "metadata": {},
     "output_type": "display_data"
    },
    {
     "name": "stderr",
     "output_type": "stream",
     "text": [
      "[I 2024-05-20 03:53:13,548] Trial 109 finished with value: 15.30077867431977 and parameters: {'lookback_days': 28, 'num_boost_rounds': 293, 'learning_rate': 0.035910496403656754, 'max_depth': 3, 'num_leaves': 109, 'lambda_l1': 6.388526560020368e-08, 'lambda_l2': 9.854678221663097e-06, 'min_split_gain': 7.712380632976598e-06}. Best is trial 81 with value: 15.158217069359056.\n"
     ]
    },
    {
     "data": {
      "application/vnd.jupyter.widget-view+json": {
       "model_id": "8c931ed1be02477cb0fb293f176f4162",
       "version_major": 2,
       "version_minor": 0
      },
      "text/plain": [
       "  0%|          | 0/333 [00:00<?, ?it/s]"
      ]
     },
     "metadata": {},
     "output_type": "display_data"
    },
    {
     "name": "stderr",
     "output_type": "stream",
     "text": [
      "[I 2024-05-20 03:54:25,537] Trial 110 finished with value: 32.13448731769681 and parameters: {'lookback_days': 30, 'num_boost_rounds': 274, 'learning_rate': 0.00017402785218995553, 'max_depth': 3, 'num_leaves': 114, 'lambda_l1': 1.017142732609695e-08, 'lambda_l2': 5.688532376032259e-07, 'min_split_gain': 1.7088899335795172e-05}. Best is trial 81 with value: 15.158217069359056.\n"
     ]
    },
    {
     "data": {
      "application/vnd.jupyter.widget-view+json": {
       "model_id": "b38f148edc31488da02b0cf06e020d8d",
       "version_major": 2,
       "version_minor": 0
      },
      "text/plain": [
       "  0%|          | 0/333 [00:00<?, ?it/s]"
      ]
     },
     "metadata": {},
     "output_type": "display_data"
    },
    {
     "name": "stderr",
     "output_type": "stream",
     "text": [
      "[I 2024-05-20 03:55:48,595] Trial 111 finished with value: 15.165204926111336 and parameters: {'lookback_days': 30, 'num_boost_rounds': 391, 'learning_rate': 0.06582062699464362, 'max_depth': 3, 'num_leaves': 83, 'lambda_l1': 1.7369061504939965e-08, 'lambda_l2': 8.597933101188776e-08, 'min_split_gain': 1.1542989604793216e-05}. Best is trial 81 with value: 15.158217069359056.\n"
     ]
    },
    {
     "data": {
      "application/vnd.jupyter.widget-view+json": {
       "model_id": "06e926f1c6b44bf3aef54f3c0e869ced",
       "version_major": 2,
       "version_minor": 0
      },
      "text/plain": [
       "  0%|          | 0/333 [00:00<?, ?it/s]"
      ]
     },
     "metadata": {},
     "output_type": "display_data"
    },
    {
     "name": "stderr",
     "output_type": "stream",
     "text": [
      "[I 2024-05-20 03:57:14,388] Trial 112 finished with value: 15.274467258952892 and parameters: {'lookback_days': 29, 'num_boost_rounds': 418, 'learning_rate': 0.06938168625846723, 'max_depth': 3, 'num_leaves': 80, 'lambda_l1': 1.9462569983711353e-08, 'lambda_l2': 3.5740455872084455e-07, 'min_split_gain': 0.0003180408896526382}. Best is trial 81 with value: 15.158217069359056.\n"
     ]
    },
    {
     "data": {
      "application/vnd.jupyter.widget-view+json": {
       "model_id": "913be9261deb47b5993775cfac75fe44",
       "version_major": 2,
       "version_minor": 0
      },
      "text/plain": [
       "  0%|          | 0/333 [00:00<?, ?it/s]"
      ]
     },
     "metadata": {},
     "output_type": "display_data"
    },
    {
     "name": "stderr",
     "output_type": "stream",
     "text": [
      "[I 2024-05-20 03:58:31,293] Trial 113 finished with value: 15.297038884873055 and parameters: {'lookback_days': 30, 'num_boost_rounds': 349, 'learning_rate': 0.044876017701826, 'max_depth': 3, 'num_leaves': 96, 'lambda_l1': 3.21376780744742e-08, 'lambda_l2': 7.014268218259823e-08, 'min_split_gain': 2.6443794743967204e-05}. Best is trial 81 with value: 15.158217069359056.\n"
     ]
    },
    {
     "data": {
      "application/vnd.jupyter.widget-view+json": {
       "model_id": "c64463a331b84213a2a0d3a6c95eb93b",
       "version_major": 2,
       "version_minor": 0
      },
      "text/plain": [
       "  0%|          | 0/333 [00:00<?, ?it/s]"
      ]
     },
     "metadata": {},
     "output_type": "display_data"
    },
    {
     "name": "stderr",
     "output_type": "stream",
     "text": [
      "[I 2024-05-20 04:00:05,999] Trial 114 finished with value: 15.600383586004625 and parameters: {'lookback_days': 29, 'num_boost_rounds': 397, 'learning_rate': 0.08609495206930697, 'max_depth': 4, 'num_leaves': 99, 'lambda_l1': 1.478442932067181e-07, 'lambda_l2': 2.478202353510894e-07, 'min_split_gain': 6.310155991760659e-05}. Best is trial 81 with value: 15.158217069359056.\n"
     ]
    },
    {
     "data": {
      "application/vnd.jupyter.widget-view+json": {
       "model_id": "190e5c013ca8472b8e6b2eeb52c90fce",
       "version_major": 2,
       "version_minor": 0
      },
      "text/plain": [
       "  0%|          | 0/333 [00:00<?, ?it/s]"
      ]
     },
     "metadata": {},
     "output_type": "display_data"
    },
    {
     "name": "stderr",
     "output_type": "stream",
     "text": [
      "[I 2024-05-20 04:01:27,008] Trial 115 finished with value: 15.168284854428366 and parameters: {'lookback_days': 28, 'num_boost_rounds': 388, 'learning_rate': 0.05896244227536273, 'max_depth': 3, 'num_leaves': 92, 'lambda_l1': 9.42600892388195e-08, 'lambda_l2': 2.0024893557330358e-06, 'min_split_gain': 5.243482321377563e-06}. Best is trial 81 with value: 15.158217069359056.\n"
     ]
    },
    {
     "data": {
      "application/vnd.jupyter.widget-view+json": {
       "model_id": "97fcd9846a0647e7be0f81140aa3c981",
       "version_major": 2,
       "version_minor": 0
      },
      "text/plain": [
       "  0%|          | 0/333 [00:00<?, ?it/s]"
      ]
     },
     "metadata": {},
     "output_type": "display_data"
    },
    {
     "name": "stderr",
     "output_type": "stream",
     "text": [
      "[I 2024-05-20 04:02:53,734] Trial 116 finished with value: 15.244162436899513 and parameters: {'lookback_days': 29, 'num_boost_rounds': 440, 'learning_rate': 0.05537410355366396, 'max_depth': 3, 'num_leaves': 92, 'lambda_l1': 6.114897271421302e-08, 'lambda_l2': 8.52605772122291e-08, 'min_split_gain': 3.636445937167452e-06}. Best is trial 81 with value: 15.158217069359056.\n"
     ]
    },
    {
     "data": {
      "application/vnd.jupyter.widget-view+json": {
       "model_id": "3c44ddfd94624e4daaff568b9ec97bf9",
       "version_major": 2,
       "version_minor": 0
      },
      "text/plain": [
       "  0%|          | 0/333 [00:00<?, ?it/s]"
      ]
     },
     "metadata": {},
     "output_type": "display_data"
    },
    {
     "name": "stderr",
     "output_type": "stream",
     "text": [
      "[I 2024-05-20 04:04:17,073] Trial 117 finished with value: 15.734954415515634 and parameters: {'lookback_days': 30, 'num_boost_rounds': 307, 'learning_rate': 0.09982867201673189, 'max_depth': 4, 'num_leaves': 108, 'lambda_l1': 8.480091389650136e-08, 'lambda_l2': 5.164299218135577e-08, 'min_split_gain': 5.385189959673903e-07}. Best is trial 81 with value: 15.158217069359056.\n"
     ]
    },
    {
     "data": {
      "application/vnd.jupyter.widget-view+json": {
       "model_id": "3c41b010b84146ffb8935ea4e6a125df",
       "version_major": 2,
       "version_minor": 0
      },
      "text/plain": [
       "  0%|          | 0/333 [00:00<?, ?it/s]"
      ]
     },
     "metadata": {},
     "output_type": "display_data"
    },
    {
     "name": "stderr",
     "output_type": "stream",
     "text": [
      "[I 2024-05-20 04:05:41,021] Trial 118 finished with value: 15.393601648095071 and parameters: {'lookback_days': 30, 'num_boost_rounds': 389, 'learning_rate': 0.02545281475351975, 'max_depth': 3, 'num_leaves': 106, 'lambda_l1': 1.922975694771592e-07, 'lambda_l2': 1.96250113923927e-07, 'min_split_gain': 9.983215104117943e-06}. Best is trial 81 with value: 15.158217069359056.\n"
     ]
    },
    {
     "data": {
      "application/vnd.jupyter.widget-view+json": {
       "model_id": "27c660ea1a3b4ce58e77009274d233ef",
       "version_major": 2,
       "version_minor": 0
      },
      "text/plain": [
       "  0%|          | 0/333 [00:00<?, ?it/s]"
      ]
     },
     "metadata": {},
     "output_type": "display_data"
    },
    {
     "name": "stderr",
     "output_type": "stream",
     "text": [
      "[I 2024-05-20 04:06:49,519] Trial 119 finished with value: 18.474520107376545 and parameters: {'lookback_days': 12, 'num_boost_rounds': 324, 'learning_rate': 0.035362019084749674, 'max_depth': 4, 'num_leaves': 86, 'lambda_l1': 1.8454870443222242e-08, 'lambda_l2': 2.098673515319654e-06, 'min_split_gain': 1.681306472536579e-05}. Best is trial 81 with value: 15.158217069359056.\n"
     ]
    },
    {
     "data": {
      "application/vnd.jupyter.widget-view+json": {
       "model_id": "4c8342ec85ef4357849ea100798dbbb8",
       "version_major": 2,
       "version_minor": 0
      },
      "text/plain": [
       "  0%|          | 0/333 [00:00<?, ?it/s]"
      ]
     },
     "metadata": {},
     "output_type": "display_data"
    },
    {
     "name": "stderr",
     "output_type": "stream",
     "text": [
      "[I 2024-05-20 04:08:08,523] Trial 120 finished with value: 15.203749533430978 and parameters: {'lookback_days': 28, 'num_boost_rounds': 374, 'learning_rate': 0.042943918715371475, 'max_depth': 3, 'num_leaves': 95, 'lambda_l1': 3.5976804893890017e-06, 'lambda_l2': 1.7025718535103068e-08, 'min_split_gain': 5.003196438918612e-06}. Best is trial 81 with value: 15.158217069359056.\n"
     ]
    },
    {
     "data": {
      "application/vnd.jupyter.widget-view+json": {
       "model_id": "d75729b5f336455380a1bd3964dccbfe",
       "version_major": 2,
       "version_minor": 0
      },
      "text/plain": [
       "  0%|          | 0/333 [00:00<?, ?it/s]"
      ]
     },
     "metadata": {},
     "output_type": "display_data"
    },
    {
     "name": "stderr",
     "output_type": "stream",
     "text": [
      "[I 2024-05-20 04:09:30,211] Trial 121 finished with value: 32.624074150517615 and parameters: {'lookback_days': 28, 'num_boost_rounds': 375, 'learning_rate': 3.653363636310065e-05, 'max_depth': 3, 'num_leaves': 95, 'lambda_l1': 3.708727410888233e-08, 'lambda_l2': 2.444795236273881e-08, 'min_split_gain': 5.597575678242876e-06}. Best is trial 81 with value: 15.158217069359056.\n"
     ]
    },
    {
     "data": {
      "application/vnd.jupyter.widget-view+json": {
       "model_id": "e8810b7e463e43cfa07620e6e68be80b",
       "version_major": 2,
       "version_minor": 0
      },
      "text/plain": [
       "  0%|          | 0/333 [00:00<?, ?it/s]"
      ]
     },
     "metadata": {},
     "output_type": "display_data"
    },
    {
     "name": "stderr",
     "output_type": "stream",
     "text": [
      "[I 2024-05-20 04:10:49,158] Trial 122 finished with value: 15.319161797173349 and parameters: {'lookback_days': 29, 'num_boost_rounds': 357, 'learning_rate': 0.06261189956334141, 'max_depth': 3, 'num_leaves': 100, 'lambda_l1': 2.7959117527236845e-05, 'lambda_l2': 1.7067890044136884e-08, 'min_split_gain': 1.8686825346585266e-06}. Best is trial 81 with value: 15.158217069359056.\n"
     ]
    },
    {
     "data": {
      "application/vnd.jupyter.widget-view+json": {
       "model_id": "3824a5c38bdf46daaa45f17ccf6d45a1",
       "version_major": 2,
       "version_minor": 0
      },
      "text/plain": [
       "  0%|          | 0/333 [00:00<?, ?it/s]"
      ]
     },
     "metadata": {},
     "output_type": "display_data"
    },
    {
     "name": "stderr",
     "output_type": "stream",
     "text": [
      "[I 2024-05-20 04:12:09,521] Trial 123 finished with value: 15.26183683640324 and parameters: {'lookback_days': 27, 'num_boost_rounds': 381, 'learning_rate': 0.04267402331778775, 'max_depth': 3, 'num_leaves': 97, 'lambda_l1': 2.8290068607222915e-06, 'lambda_l2': 3.292380918976697e-08, 'min_split_gain': 7.81263285804387e-06}. Best is trial 81 with value: 15.158217069359056.\n"
     ]
    },
    {
     "data": {
      "application/vnd.jupyter.widget-view+json": {
       "model_id": "332fb985371a4f95a56d2de9e96f7da8",
       "version_major": 2,
       "version_minor": 0
      },
      "text/plain": [
       "  0%|          | 0/333 [00:00<?, ?it/s]"
      ]
     },
     "metadata": {},
     "output_type": "display_data"
    },
    {
     "name": "stderr",
     "output_type": "stream",
     "text": [
      "[I 2024-05-20 04:13:32,083] Trial 124 finished with value: 15.180103308531995 and parameters: {'lookback_days': 28, 'num_boost_rounds': 410, 'learning_rate': 0.05257530146111268, 'max_depth': 3, 'num_leaves': 117, 'lambda_l1': 1.1245763764708882e-07, 'lambda_l2': 4.3544153430144594e-08, 'min_split_gain': 2.997529318608507e-06}. Best is trial 81 with value: 15.158217069359056.\n"
     ]
    },
    {
     "data": {
      "application/vnd.jupyter.widget-view+json": {
       "model_id": "0b1f124d53904ca99ea28e4f361ad70f",
       "version_major": 2,
       "version_minor": 0
      },
      "text/plain": [
       "  0%|          | 0/333 [00:00<?, ?it/s]"
      ]
     },
     "metadata": {},
     "output_type": "display_data"
    },
    {
     "name": "stderr",
     "output_type": "stream",
     "text": [
      "[I 2024-05-20 04:15:05,882] Trial 125 finished with value: 15.652657551865069 and parameters: {'lookback_days': 26, 'num_boost_rounds': 411, 'learning_rate': 0.05067412307751038, 'max_depth': 4, 'num_leaves': 117, 'lambda_l1': 9.571803668863776e-08, 'lambda_l2': 4.9827492349681874e-08, 'min_split_gain': 4.288943003384203e-06}. Best is trial 81 with value: 15.158217069359056.\n"
     ]
    },
    {
     "data": {
      "application/vnd.jupyter.widget-view+json": {
       "model_id": "a987ff14f7c6485b889a3a007203dbeb",
       "version_major": 2,
       "version_minor": 0
      },
      "text/plain": [
       "  0%|          | 0/333 [00:00<?, ?it/s]"
      ]
     },
     "metadata": {},
     "output_type": "display_data"
    },
    {
     "name": "stderr",
     "output_type": "stream",
     "text": [
      "[I 2024-05-20 04:16:29,370] Trial 126 finished with value: 15.397222449653169 and parameters: {'lookback_days': 29, 'num_boost_rounds': 391, 'learning_rate': 0.030208047619879153, 'max_depth': 3, 'num_leaves': 117, 'lambda_l1': 6.682602895763883e-07, 'lambda_l2': 1.371065733937019e-08, 'min_split_gain': 6.275109369819317e-07}. Best is trial 81 with value: 15.158217069359056.\n"
     ]
    },
    {
     "data": {
      "application/vnd.jupyter.widget-view+json": {
       "model_id": "55a3740454174875ba315db36c4d56c9",
       "version_major": 2,
       "version_minor": 0
      },
      "text/plain": [
       "  0%|          | 0/333 [00:00<?, ?it/s]"
      ]
     },
     "metadata": {},
     "output_type": "display_data"
    },
    {
     "name": "stderr",
     "output_type": "stream",
     "text": [
      "[I 2024-05-20 04:17:50,651] Trial 127 finished with value: 15.62852936908024 and parameters: {'lookback_days': 28, 'num_boost_rounds': 371, 'learning_rate': 0.01526166930594241, 'max_depth': 3, 'num_leaves': 113, 'lambda_l1': 5.5124406469827525e-08, 'lambda_l2': 1.0075594304252057e-08, 'min_split_gain': 2.88909030375272e-06}. Best is trial 81 with value: 15.158217069359056.\n"
     ]
    },
    {
     "data": {
      "application/vnd.jupyter.widget-view+json": {
       "model_id": "29905625998849bea3d7417da7dd16e6",
       "version_major": 2,
       "version_minor": 0
      },
      "text/plain": [
       "  0%|          | 0/333 [00:00<?, ?it/s]"
      ]
     },
     "metadata": {},
     "output_type": "display_data"
    },
    {
     "name": "stderr",
     "output_type": "stream",
     "text": [
      "[I 2024-05-20 04:19:26,059] Trial 128 finished with value: 15.669054549509799 and parameters: {'lookback_days': 28, 'num_boost_rounds': 418, 'learning_rate': 0.08288004212039266, 'max_depth': 4, 'num_leaves': 105, 'lambda_l1': 2.0094397530933462e-07, 'lambda_l2': 1.1754204739866492e-07, 'min_split_gain': 1.4972150323500312e-06}. Best is trial 81 with value: 15.158217069359056.\n"
     ]
    },
    {
     "data": {
      "application/vnd.jupyter.widget-view+json": {
       "model_id": "787ca64beaf84ce8899e138ed39998bd",
       "version_major": 2,
       "version_minor": 0
      },
      "text/plain": [
       "  0%|          | 0/333 [00:00<?, ?it/s]"
      ]
     },
     "metadata": {},
     "output_type": "display_data"
    },
    {
     "name": "stderr",
     "output_type": "stream",
     "text": [
      "[I 2024-05-20 04:20:30,763] Trial 129 finished with value: 18.16933433789415 and parameters: {'lookback_days': 8, 'num_boost_rounds': 398, 'learning_rate': 0.03837627605954285, 'max_depth': 3, 'num_leaves': 12, 'lambda_l1': 1.4249412406220408e-08, 'lambda_l2': 2.748803973303458e-08, 'min_split_gain': 2.1768144554032554e-05}. Best is trial 81 with value: 15.158217069359056.\n"
     ]
    },
    {
     "data": {
      "application/vnd.jupyter.widget-view+json": {
       "model_id": "2f16b6e8e1cf45f5b3744f422f66bc1e",
       "version_major": 2,
       "version_minor": 0
      },
      "text/plain": [
       "  0%|          | 0/333 [00:00<?, ?it/s]"
      ]
     },
     "metadata": {},
     "output_type": "display_data"
    },
    {
     "name": "stderr",
     "output_type": "stream",
     "text": [
      "[I 2024-05-20 04:21:52,827] Trial 130 finished with value: 15.225153572448223 and parameters: {'lookback_days': 27, 'num_boost_rounds': 401, 'learning_rate': 0.0526770984103863, 'max_depth': 3, 'num_leaves': 84, 'lambda_l1': 9.361045628938329e-08, 'lambda_l2': 7.577180419799779e-08, 'min_split_gain': 0.0001262902748921759}. Best is trial 81 with value: 15.158217069359056.\n"
     ]
    },
    {
     "data": {
      "application/vnd.jupyter.widget-view+json": {
       "model_id": "f69799a0071342d19fc598de7a332b28",
       "version_major": 2,
       "version_minor": 0
      },
      "text/plain": [
       "  0%|          | 0/333 [00:00<?, ?it/s]"
      ]
     },
     "metadata": {},
     "output_type": "display_data"
    },
    {
     "name": "stderr",
     "output_type": "stream",
     "text": [
      "[I 2024-05-20 04:23:19,149] Trial 131 finished with value: 15.20527402281141 and parameters: {'lookback_days': 30, 'num_boost_rounds': 430, 'learning_rate': 0.06733951621618071, 'max_depth': 3, 'num_leaves': 91, 'lambda_l1': 3.091333248061383e-08, 'lambda_l2': 6.526314196266017e-07, 'min_split_gain': 1.2122558318335463e-05}. Best is trial 81 with value: 15.158217069359056.\n"
     ]
    },
    {
     "data": {
      "application/vnd.jupyter.widget-view+json": {
       "model_id": "c5b93294243044faa5617a975d0e4928",
       "version_major": 2,
       "version_minor": 0
      },
      "text/plain": [
       "  0%|          | 0/333 [00:00<?, ?it/s]"
      ]
     },
     "metadata": {},
     "output_type": "display_data"
    },
    {
     "name": "stderr",
     "output_type": "stream",
     "text": [
      "[I 2024-05-20 04:24:44,630] Trial 132 finished with value: 15.250553001595312 and parameters: {'lookback_days': 29, 'num_boost_rounds': 436, 'learning_rate': 0.07220489000784108, 'max_depth': 3, 'num_leaves': 91, 'lambda_l1': 3.832274432159252e-08, 'lambda_l2': 1.8431711727980698e-07, 'min_split_gain': 1.5703629395443155e-05}. Best is trial 81 with value: 15.158217069359056.\n"
     ]
    },
    {
     "data": {
      "application/vnd.jupyter.widget-view+json": {
       "model_id": "43c2b5606227433eb43a7ce380d1e34c",
       "version_major": 2,
       "version_minor": 0
      },
      "text/plain": [
       "  0%|          | 0/333 [00:00<?, ?it/s]"
      ]
     },
     "metadata": {},
     "output_type": "display_data"
    },
    {
     "name": "stderr",
     "output_type": "stream",
     "text": [
      "[I 2024-05-20 04:26:16,120] Trial 133 finished with value: 15.22290844599944 and parameters: {'lookback_days': 30, 'num_boost_rounds': 465, 'learning_rate': 0.08715900436360619, 'max_depth': 3, 'num_leaves': 79, 'lambda_l1': 1.9043518675305e-08, 'lambda_l2': 6.892102947107103e-07, 'min_split_gain': 6.250192890807488e-06}. Best is trial 81 with value: 15.158217069359056.\n"
     ]
    },
    {
     "data": {
      "application/vnd.jupyter.widget-view+json": {
       "model_id": "741f8547ebfc414aaea66ad4140f914a",
       "version_major": 2,
       "version_minor": 0
      },
      "text/plain": [
       "  0%|          | 0/333 [00:00<?, ?it/s]"
      ]
     },
     "metadata": {},
     "output_type": "display_data"
    },
    {
     "name": "stderr",
     "output_type": "stream",
     "text": [
      "[I 2024-05-20 04:27:56,970] Trial 134 finished with value: 15.603729921357168 and parameters: {'lookback_days': 30, 'num_boost_rounds': 424, 'learning_rate': 0.0596613097122128, 'max_depth': 4, 'num_leaves': 111, 'lambda_l1': 1.2989959757549868e-07, 'lambda_l2': 3.752844110346319e-08, 'min_split_gain': 2.8404979453043425e-05}. Best is trial 81 with value: 15.158217069359056.\n"
     ]
    },
    {
     "data": {
      "application/vnd.jupyter.widget-view+json": {
       "model_id": "bcfe51ed5fd54d299f98ebdd69e6d9dd",
       "version_major": 2,
       "version_minor": 0
      },
      "text/plain": [
       "  0%|          | 0/333 [00:00<?, ?it/s]"
      ]
     },
     "metadata": {},
     "output_type": "display_data"
    },
    {
     "name": "stderr",
     "output_type": "stream",
     "text": [
      "[I 2024-05-20 04:29:21,889] Trial 135 finished with value: 15.279028798018775 and parameters: {'lookback_days': 29, 'num_boost_rounds': 431, 'learning_rate': 0.045930355927460934, 'max_depth': 3, 'num_leaves': 87, 'lambda_l1': 4.777783626847656e-08, 'lambda_l2': 1.2390152735898908e-07, 'min_split_gain': 1.2250193273688338e-05}. Best is trial 81 with value: 15.158217069359056.\n"
     ]
    },
    {
     "data": {
      "application/vnd.jupyter.widget-view+json": {
       "model_id": "0f5c5bb8c5c846fbadd2955327b7172e",
       "version_major": 2,
       "version_minor": 0
      },
      "text/plain": [
       "  0%|          | 0/333 [00:00<?, ?it/s]"
      ]
     },
     "metadata": {},
     "output_type": "display_data"
    },
    {
     "name": "stderr",
     "output_type": "stream",
     "text": [
      "[I 2024-05-20 04:31:50,310] Trial 136 finished with value: 16.420546444764987 and parameters: {'lookback_days': 30, 'num_boost_rounds': 347, 'learning_rate': 0.07216715677105698, 'max_depth': 10, 'num_leaves': 103, 'lambda_l1': 2.7423911716565884e-08, 'lambda_l2': 5.191915297682871e-08, 'min_split_gain': 2.5291328364162216e-06}. Best is trial 81 with value: 15.158217069359056.\n"
     ]
    },
    {
     "data": {
      "application/vnd.jupyter.widget-view+json": {
       "model_id": "4cc0090bf6f9470bab40b19f18417695",
       "version_major": 2,
       "version_minor": 0
      },
      "text/plain": [
       "  0%|          | 0/333 [00:00<?, ?it/s]"
      ]
     },
     "metadata": {},
     "output_type": "display_data"
    },
    {
     "name": "stderr",
     "output_type": "stream",
     "text": [
      "[I 2024-05-20 04:34:46,463] Trial 137 finished with value: 27.37128116568656 and parameters: {'lookback_days': 28, 'num_boost_rounds': 408, 'learning_rate': 0.0007314925296794925, 'max_depth': 7, 'num_leaves': 81, 'lambda_l1': 5.451908629571895e-08, 'lambda_l2': 1.677033040035029e-08, 'min_split_gain': 6.194959776768735e-08}. Best is trial 81 with value: 15.158217069359056.\n"
     ]
    },
    {
     "data": {
      "application/vnd.jupyter.widget-view+json": {
       "model_id": "67bd24c8a642492cadf570621cd3a579",
       "version_major": 2,
       "version_minor": 0
      },
      "text/plain": [
       "  0%|          | 0/333 [00:00<?, ?it/s]"
      ]
     },
     "metadata": {},
     "output_type": "display_data"
    },
    {
     "name": "stderr",
     "output_type": "stream",
     "text": [
      "[I 2024-05-20 04:36:06,305] Trial 138 finished with value: 15.302561949166988 and parameters: {'lookback_days': 29, 'num_boost_rounds': 363, 'learning_rate': 0.03953089348118175, 'max_depth': 3, 'num_leaves': 97, 'lambda_l1': 0.0025218292693545397, 'lambda_l2': 2.625520860222284e-07, 'min_split_gain': 4.117451014375433e-06}. Best is trial 81 with value: 15.158217069359056.\n"
     ]
    },
    {
     "data": {
      "application/vnd.jupyter.widget-view+json": {
       "model_id": "1f74837b616d412bbe2161cb8123517f",
       "version_major": 2,
       "version_minor": 0
      },
      "text/plain": [
       "  0%|          | 0/333 [00:00<?, ?it/s]"
      ]
     },
     "metadata": {},
     "output_type": "display_data"
    },
    {
     "name": "stderr",
     "output_type": "stream",
     "text": [
      "[I 2024-05-20 04:37:37,013] Trial 139 finished with value: 15.628321246610524 and parameters: {'lookback_days': 27, 'num_boost_rounds': 380, 'learning_rate': 0.05849406471213706, 'max_depth': 4, 'num_leaves': 88, 'lambda_l1': 1.0188181944862682e-08, 'lambda_l2': 1.4984265024895695e-06, 'min_split_gain': 8.776422563574078e-07}. Best is trial 81 with value: 15.158217069359056.\n"
     ]
    },
    {
     "data": {
      "application/vnd.jupyter.widget-view+json": {
       "model_id": "8fadfb9b14ab4baba2dbfe930b6085ee",
       "version_major": 2,
       "version_minor": 0
      },
      "text/plain": [
       "  0%|          | 0/333 [00:00<?, ?it/s]"
      ]
     },
     "metadata": {},
     "output_type": "display_data"
    },
    {
     "name": "stderr",
     "output_type": "stream",
     "text": [
      "[I 2024-05-20 04:38:54,244] Trial 140 finished with value: 15.23024623738358 and parameters: {'lookback_days': 30, 'num_boost_rounds': 355, 'learning_rate': 0.09848537804010411, 'max_depth': 3, 'num_leaves': 94, 'lambda_l1': 7.69314493484774e-08, 'lambda_l2': 5.847847499321717e-07, 'min_split_gain': 2.965899966016327e-07}. Best is trial 81 with value: 15.158217069359056.\n"
     ]
    },
    {
     "data": {
      "application/vnd.jupyter.widget-view+json": {
       "model_id": "8177f2637370494fb18b64073ba7aa1b",
       "version_major": 2,
       "version_minor": 0
      },
      "text/plain": [
       "  0%|          | 0/333 [00:00<?, ?it/s]"
      ]
     },
     "metadata": {},
     "output_type": "display_data"
    },
    {
     "name": "stderr",
     "output_type": "stream",
     "text": [
      "[I 2024-05-20 04:40:10,823] Trial 141 finished with value: 15.280278198784028 and parameters: {'lookback_days': 30, 'num_boost_rounds': 342, 'learning_rate': 0.07316075170165799, 'max_depth': 3, 'num_leaves': 92, 'lambda_l1': 2.7245457590985422e-08, 'lambda_l2': 3.634317403418773e-07, 'min_split_gain': 9.24809211481627e-06}. Best is trial 81 with value: 15.158217069359056.\n"
     ]
    },
    {
     "data": {
      "application/vnd.jupyter.widget-view+json": {
       "model_id": "8b703c6fc20f46d2b6fd9346d67d940e",
       "version_major": 2,
       "version_minor": 0
      },
      "text/plain": [
       "  0%|          | 0/333 [00:00<?, ?it/s]"
      ]
     },
     "metadata": {},
     "output_type": "display_data"
    },
    {
     "name": "stderr",
     "output_type": "stream",
     "text": [
      "[I 2024-05-20 04:41:39,966] Trial 142 finished with value: 15.333832905328313 and parameters: {'lookback_days': 29, 'num_boost_rounds': 447, 'learning_rate': 0.0632698455343906, 'max_depth': 3, 'num_leaves': 101, 'lambda_l1': 3.039685113519452e-08, 'lambda_l2': 9.075200942818053e-07, 'min_split_gain': 3.8455648819573585e-05}. Best is trial 81 with value: 15.158217069359056.\n"
     ]
    },
    {
     "data": {
      "application/vnd.jupyter.widget-view+json": {
       "model_id": "0a2ed72b807649f7a4b67d91540338a5",
       "version_major": 2,
       "version_minor": 0
      },
      "text/plain": [
       "  0%|          | 0/333 [00:00<?, ?it/s]"
      ]
     },
     "metadata": {},
     "output_type": "display_data"
    },
    {
     "name": "stderr",
     "output_type": "stream",
     "text": [
      "[I 2024-05-20 04:42:55,815] Trial 143 finished with value: 15.28500767194056 and parameters: {'lookback_days': 30, 'num_boost_rounds': 332, 'learning_rate': 0.05337701278238668, 'max_depth': 3, 'num_leaves': 95, 'lambda_l1': 1.6599987832287317e-08, 'lambda_l2': 1.56111341209935e-07, 'min_split_gain': 9.722795590341936e-06}. Best is trial 81 with value: 15.158217069359056.\n"
     ]
    },
    {
     "data": {
      "application/vnd.jupyter.widget-view+json": {
       "model_id": "b0ed00a86c8b4f74a2a7ddf226aa1add",
       "version_major": 2,
       "version_minor": 0
      },
      "text/plain": [
       "  0%|          | 0/333 [00:00<?, ?it/s]"
      ]
     },
     "metadata": {},
     "output_type": "display_data"
    },
    {
     "name": "stderr",
     "output_type": "stream",
     "text": [
      "[I 2024-05-20 04:44:11,477] Trial 144 finished with value: 15.278449885568333 and parameters: {'lookback_days': 28, 'num_boost_rounds': 340, 'learning_rate': 0.04572286085948728, 'max_depth': 3, 'num_leaves': 90, 'lambda_l1': 1.365438745575632e-07, 'lambda_l2': 3.341872149342896, 'min_split_gain': 2.420591059699709e-05}. Best is trial 81 with value: 15.158217069359056.\n"
     ]
    },
    {
     "data": {
      "application/vnd.jupyter.widget-view+json": {
       "model_id": "01d422f1266f415c8eab741b3ac10f8e",
       "version_major": 2,
       "version_minor": 0
      },
      "text/plain": [
       "  0%|          | 0/333 [00:00<?, ?it/s]"
      ]
     },
     "metadata": {},
     "output_type": "display_data"
    },
    {
     "name": "stderr",
     "output_type": "stream",
     "text": [
      "[I 2024-05-20 04:45:59,434] Trial 145 finished with value: 22.3952347718313 and parameters: {'lookback_days': 30, 'num_boost_rounds': 370, 'learning_rate': 0.00213539716011439, 'max_depth': 4, 'num_leaves': 85, 'lambda_l1': 6.982406961266689e-08, 'lambda_l2': 4.6166834978634814e-07, 'min_split_gain': 1.4003338037089797e-05}. Best is trial 81 with value: 15.158217069359056.\n"
     ]
    },
    {
     "data": {
      "application/vnd.jupyter.widget-view+json": {
       "model_id": "67547534284b4afd8a873071819c0b0c",
       "version_major": 2,
       "version_minor": 0
      },
      "text/plain": [
       "  0%|          | 0/333 [00:00<?, ?it/s]"
      ]
     },
     "metadata": {},
     "output_type": "display_data"
    },
    {
     "name": "stderr",
     "output_type": "stream",
     "text": [
      "[I 2024-05-20 04:47:21,539] Trial 146 finished with value: 15.299404507468633 and parameters: {'lookback_days': 29, 'num_boost_rounds': 389, 'learning_rate': 0.08082969983124667, 'max_depth': 3, 'num_leaves': 116, 'lambda_l1': 3.981845286290826e-08, 'lambda_l2': 7.585300070080978e-08, 'min_split_gain': 5.7384791319622565e-05}. Best is trial 81 with value: 15.158217069359056.\n"
     ]
    },
    {
     "data": {
      "application/vnd.jupyter.widget-view+json": {
       "model_id": "68eed66b4c0a4da0ab6635b71ae524d6",
       "version_major": 2,
       "version_minor": 0
      },
      "text/plain": [
       "  0%|          | 0/333 [00:00<?, ?it/s]"
      ]
     },
     "metadata": {},
     "output_type": "display_data"
    },
    {
     "name": "stderr",
     "output_type": "stream",
     "text": [
      "[I 2024-05-20 04:48:38,145] Trial 147 finished with value: 15.290712458445476 and parameters: {'lookback_days': 28, 'num_boost_rounds': 358, 'learning_rate': 0.03303331906184653, 'max_depth': 3, 'num_leaves': 93, 'lambda_l1': 0.0004977184191121359, 'lambda_l2': 2.506614954993321e-07, 'min_split_gain': 5.223135504951581e-06}. Best is trial 81 with value: 15.158217069359056.\n"
     ]
    },
    {
     "data": {
      "application/vnd.jupyter.widget-view+json": {
       "model_id": "b95987d5f3f041a4a2f415071076094f",
       "version_major": 2,
       "version_minor": 0
      },
      "text/plain": [
       "  0%|          | 0/333 [00:00<?, ?it/s]"
      ]
     },
     "metadata": {},
     "output_type": "display_data"
    },
    {
     "name": "stderr",
     "output_type": "stream",
     "text": [
      "[I 2024-05-20 04:50:24,786] Trial 148 finished with value: 15.653687622262684 and parameters: {'lookback_days': 30, 'num_boost_rounds': 473, 'learning_rate': 0.06700245057862497, 'max_depth': 4, 'num_leaves': 98, 'lambda_l1': 2.816503214217442e-07, 'lambda_l2': 1.0050801600256331e-07, 'min_split_gain': 6.977578616423439e-06}. Best is trial 81 with value: 15.158217069359056.\n"
     ]
    },
    {
     "data": {
      "application/vnd.jupyter.widget-view+json": {
       "model_id": "719040777c52424296d9c43debd161f6",
       "version_major": 2,
       "version_minor": 0
      },
      "text/plain": [
       "  0%|          | 0/333 [00:00<?, ?it/s]"
      ]
     },
     "metadata": {},
     "output_type": "display_data"
    },
    {
     "name": "stderr",
     "output_type": "stream",
     "text": [
      "[I 2024-05-20 04:51:38,738] Trial 149 finished with value: 15.248897828532064 and parameters: {'lookback_days': 29, 'num_boost_rounds': 318, 'learning_rate': 0.08810910460030437, 'max_depth': 3, 'num_leaves': 82, 'lambda_l1': 5.432322042613725e-05, 'lambda_l2': 1.820389377746861e-07, 'min_split_gain': 3.3932432595294446e-06}. Best is trial 81 with value: 15.158217069359056.\n"
     ]
    },
    {
     "data": {
      "application/vnd.jupyter.widget-view+json": {
       "model_id": "04a76756b08e4e4791e7e8935d8be9b6",
       "version_major": 2,
       "version_minor": 0
      },
      "text/plain": [
       "  0%|          | 0/333 [00:00<?, ?it/s]"
      ]
     },
     "metadata": {},
     "output_type": "display_data"
    },
    {
     "name": "stderr",
     "output_type": "stream",
     "text": [
      "[I 2024-05-20 04:52:56,747] Trial 150 finished with value: 15.25263084260092 and parameters: {'lookback_days': 30, 'num_boost_rounds': 350, 'learning_rate': 0.05198733994579386, 'max_depth': 3, 'num_leaves': 103, 'lambda_l1': 2.1393856491068354e-08, 'lambda_l2': 4.164487288933994e-08, 'min_split_gain': 1.907019742550212e-05}. Best is trial 81 with value: 15.158217069359056.\n"
     ]
    },
    {
     "data": {
      "application/vnd.jupyter.widget-view+json": {
       "model_id": "094b4ef1c61d4432ad19db74d841e7bb",
       "version_major": 2,
       "version_minor": 0
      },
      "text/plain": [
       "  0%|          | 0/333 [00:00<?, ?it/s]"
      ]
     },
     "metadata": {},
     "output_type": "display_data"
    },
    {
     "name": "stderr",
     "output_type": "stream",
     "text": [
      "[I 2024-05-20 04:54:14,701] Trial 151 finished with value: 15.261336232728796 and parameters: {'lookback_days': 28, 'num_boost_rounds': 365, 'learning_rate': 0.07868575493238417, 'max_depth': 3, 'num_leaves': 120, 'lambda_l1': 3.503267463086624e-07, 'lambda_l2': 3.031281407920113e-07, 'min_split_gain': 0.0015439050107471084}. Best is trial 81 with value: 15.158217069359056.\n"
     ]
    },
    {
     "data": {
      "application/vnd.jupyter.widget-view+json": {
       "model_id": "0ee54fd26f85462c9d865a0127d98236",
       "version_major": 2,
       "version_minor": 0
      },
      "text/plain": [
       "  0%|          | 0/333 [00:00<?, ?it/s]"
      ]
     },
     "metadata": {},
     "output_type": "display_data"
    },
    {
     "name": "stderr",
     "output_type": "stream",
     "text": [
      "[I 2024-05-20 04:55:28,520] Trial 152 finished with value: 15.300241772285244 and parameters: {'lookback_days': 26, 'num_boost_rounds': 334, 'learning_rate': 0.06686674538127506, 'max_depth': 3, 'num_leaves': 89, 'lambda_l1': 8.279680059206287e-06, 'lambda_l2': 4.301487632860109e-07, 'min_split_gain': 4.222523058032144e-05}. Best is trial 81 with value: 15.158217069359056.\n"
     ]
    },
    {
     "data": {
      "application/vnd.jupyter.widget-view+json": {
       "model_id": "03980ab410c9479489b0f80bc6aaa0ec",
       "version_major": 2,
       "version_minor": 0
      },
      "text/plain": [
       "  0%|          | 0/333 [00:00<?, ?it/s]"
      ]
     },
     "metadata": {},
     "output_type": "display_data"
    },
    {
     "name": "stderr",
     "output_type": "stream",
     "text": [
      "[I 2024-05-20 04:56:52,484] Trial 153 finished with value: 15.244954819559174 and parameters: {'lookback_days': 29, 'num_boost_rounds': 372, 'learning_rate': 0.059992775123190754, 'max_depth': 3, 'num_leaves': 91, 'lambda_l1': 1.9707818615561184e-07, 'lambda_l2': 1.1856458502944232e-06, 'min_split_gain': 8.042960091413526e-05}. Best is trial 81 with value: 15.158217069359056.\n"
     ]
    },
    {
     "data": {
      "application/vnd.jupyter.widget-view+json": {
       "model_id": "e269c56796094774bb638a49f79d25ee",
       "version_major": 2,
       "version_minor": 0
      },
      "text/plain": [
       "  0%|          | 0/333 [00:00<?, ?it/s]"
      ]
     },
     "metadata": {},
     "output_type": "display_data"
    },
    {
     "name": "stderr",
     "output_type": "stream",
     "text": [
      "[I 2024-05-20 04:58:11,727] Trial 154 finished with value: 15.210397491539563 and parameters: {'lookback_days': 28, 'num_boost_rounds': 378, 'learning_rate': 0.04274736580272602, 'max_depth': 3, 'num_leaves': 87, 'lambda_l1': 2.1565759061324233e-06, 'lambda_l2': 7.241948842698355e-07, 'min_split_gain': 1.046369511109878e-05}. Best is trial 81 with value: 15.158217069359056.\n"
     ]
    },
    {
     "data": {
      "application/vnd.jupyter.widget-view+json": {
       "model_id": "e1e450cd96fe48189ba9f878de9b2202",
       "version_major": 2,
       "version_minor": 0
      },
      "text/plain": [
       "  0%|          | 0/333 [00:00<?, ?it/s]"
      ]
     },
     "metadata": {},
     "output_type": "display_data"
    },
    {
     "name": "stderr",
     "output_type": "stream",
     "text": [
      "[I 2024-05-20 04:59:40,978] Trial 155 finished with value: 15.590925480250297 and parameters: {'lookback_days': 27, 'num_boost_rounds': 381, 'learning_rate': 0.046640871413838436, 'max_depth': 4, 'num_leaves': 86, 'lambda_l1': 3.2030130468410946e-06, 'lambda_l2': 7.780037333849237e-07, 'min_split_gain': 1.1003364006664806e-05}. Best is trial 81 with value: 15.158217069359056.\n"
     ]
    },
    {
     "data": {
      "application/vnd.jupyter.widget-view+json": {
       "model_id": "80e1901fc18a442fa097655d27ffcebb",
       "version_major": 2,
       "version_minor": 0
      },
      "text/plain": [
       "  0%|          | 0/333 [00:00<?, ?it/s]"
      ]
     },
     "metadata": {},
     "output_type": "display_data"
    },
    {
     "name": "stderr",
     "output_type": "stream",
     "text": [
      "[I 2024-05-20 05:01:04,025] Trial 156 finished with value: 15.445493696969677 and parameters: {'lookback_days': 29, 'num_boost_rounds': 391, 'learning_rate': 0.027417859328639303, 'max_depth': 3, 'num_leaves': 83, 'lambda_l1': 1.0990896398608648e-06, 'lambda_l2': 2.3225829517284024e-08, 'min_split_gain': 7.077402573463722e-06}. Best is trial 81 with value: 15.158217069359056.\n"
     ]
    },
    {
     "data": {
      "application/vnd.jupyter.widget-view+json": {
       "model_id": "c46d876c711f40acb174a0eb92180685",
       "version_major": 2,
       "version_minor": 0
      },
      "text/plain": [
       "  0%|          | 0/333 [00:00<?, ?it/s]"
      ]
     },
     "metadata": {},
     "output_type": "display_data"
    },
    {
     "name": "stderr",
     "output_type": "stream",
     "text": [
      "[I 2024-05-20 05:02:29,729] Trial 157 finished with value: 15.309579617955308 and parameters: {'lookback_days': 30, 'num_boost_rounds': 413, 'learning_rate': 0.0372981521348287, 'max_depth': 3, 'num_leaves': 99, 'lambda_l1': 1.8785948210077525e-06, 'lambda_l2': 6.367334270257929e-08, 'min_split_gain': 1.4025180542738e-05}. Best is trial 81 with value: 15.158217069359056.\n"
     ]
    },
    {
     "data": {
      "application/vnd.jupyter.widget-view+json": {
       "model_id": "bf4ab56563d54637a5672b07f74305e3",
       "version_major": 2,
       "version_minor": 0
      },
      "text/plain": [
       "  0%|          | 0/333 [00:00<?, ?it/s]"
      ]
     },
     "metadata": {},
     "output_type": "display_data"
    },
    {
     "name": "stderr",
     "output_type": "stream",
     "text": [
      "[I 2024-05-20 05:03:54,474] Trial 158 finished with value: 15.750979112636891 and parameters: {'lookback_days': 29, 'num_boost_rounds': 326, 'learning_rate': 0.09970949230390698, 'max_depth': 4, 'num_leaves': 95, 'lambda_l1': 1.0665897649928302e-07, 'lambda_l2': 2.7088563259074724e-06, 'min_split_gain': 2.5799051465260247e-05}. Best is trial 81 with value: 15.158217069359056.\n"
     ]
    },
    {
     "data": {
      "application/vnd.jupyter.widget-view+json": {
       "model_id": "6cfdaabb5426435ea836e263dc94a31a",
       "version_major": 2,
       "version_minor": 0
      },
      "text/plain": [
       "  0%|          | 0/333 [00:00<?, ?it/s]"
      ]
     },
     "metadata": {},
     "output_type": "display_data"
    },
    {
     "name": "stderr",
     "output_type": "stream",
     "text": [
      "[I 2024-05-20 05:05:16,292] Trial 159 finished with value: 15.23753067403234 and parameters: {'lookback_days': 28, 'num_boost_rounds': 402, 'learning_rate': 0.04463884029995356, 'max_depth': 3, 'num_leaves': 87, 'lambda_l1': 4.968701534753323e-08, 'lambda_l2': 5.695296708040356e-07, 'min_split_gain': 9.499179787447654e-06}. Best is trial 81 with value: 15.158217069359056.\n"
     ]
    },
    {
     "data": {
      "application/vnd.jupyter.widget-view+json": {
       "model_id": "c5f6150c4c674983b3929f97504d197c",
       "version_major": 2,
       "version_minor": 0
      },
      "text/plain": [
       "  0%|          | 0/333 [00:00<?, ?it/s]"
      ]
     },
     "metadata": {},
     "output_type": "display_data"
    },
    {
     "name": "stderr",
     "output_type": "stream",
     "text": [
      "[I 2024-05-20 05:06:46,614] Trial 160 finished with value: 15.587226032462217 and parameters: {'lookback_days': 30, 'num_boost_rounds': 346, 'learning_rate': 0.0550054069144911, 'max_depth': 4, 'num_leaves': 96, 'lambda_l1': 2.790780108932528e-08, 'lambda_l2': 1.0497518941151665e-07, 'min_split_gain': 2.1308877703052157e-06}. Best is trial 81 with value: 15.158217069359056.\n"
     ]
    },
    {
     "data": {
      "application/vnd.jupyter.widget-view+json": {
       "model_id": "9affba39ab6949a0bff5031ca298252d",
       "version_major": 2,
       "version_minor": 0
      },
      "text/plain": [
       "  0%|          | 0/333 [00:00<?, ?it/s]"
      ]
     },
     "metadata": {},
     "output_type": "display_data"
    },
    {
     "name": "stderr",
     "output_type": "stream",
     "text": [
      "[I 2024-05-20 05:08:03,823] Trial 161 finished with value: 15.163493450853583 and parameters: {'lookback_days': 28, 'num_boost_rounds': 361, 'learning_rate': 0.07271938848019667, 'max_depth': 3, 'num_leaves': 93, 'lambda_l1': 7.561109885640766e-07, 'lambda_l2': 3.619614499220973e-07, 'min_split_gain': 4.545694518557511e-06}. Best is trial 81 with value: 15.158217069359056.\n"
     ]
    },
    {
     "data": {
      "application/vnd.jupyter.widget-view+json": {
       "model_id": "41c9b54d26054d4c804a61e6ce4bb148",
       "version_major": 2,
       "version_minor": 0
      },
      "text/plain": [
       "  0%|          | 0/333 [00:00<?, ?it/s]"
      ]
     },
     "metadata": {},
     "output_type": "display_data"
    },
    {
     "name": "stderr",
     "output_type": "stream",
     "text": [
      "[I 2024-05-20 05:09:19,622] Trial 162 finished with value: 15.179282860409293 and parameters: {'lookback_days': 27, 'num_boost_rounds': 358, 'learning_rate': 0.06955391804188349, 'max_depth': 3, 'num_leaves': 93, 'lambda_l1': 1.8215435981597062e-06, 'lambda_l2': 2.3596265923586007e-07, 'min_split_gain': 0.00414324907341634}. Best is trial 81 with value: 15.158217069359056.\n"
     ]
    },
    {
     "data": {
      "application/vnd.jupyter.widget-view+json": {
       "model_id": "876eb03d55ff41dd90882044cc5e66bb",
       "version_major": 2,
       "version_minor": 0
      },
      "text/plain": [
       "  0%|          | 0/333 [00:00<?, ?it/s]"
      ]
     },
     "metadata": {},
     "output_type": "display_data"
    },
    {
     "name": "stderr",
     "output_type": "stream",
     "text": [
      "[I 2024-05-20 05:10:36,631] Trial 163 finished with value: 15.19453438152121 and parameters: {'lookback_days': 27, 'num_boost_rounds': 361, 'learning_rate': 0.08242914604870748, 'max_depth': 3, 'num_leaves': 90, 'lambda_l1': 1.4999518205441557e-06, 'lambda_l2': 1.886401577308785e-07, 'min_split_gain': 3.1815774773791918e-06}. Best is trial 81 with value: 15.158217069359056.\n"
     ]
    },
    {
     "data": {
      "application/vnd.jupyter.widget-view+json": {
       "model_id": "19643da19d8d46bf957f0cdcda2f4050",
       "version_major": 2,
       "version_minor": 0
      },
      "text/plain": [
       "  0%|          | 0/333 [00:00<?, ?it/s]"
      ]
     },
     "metadata": {},
     "output_type": "display_data"
    },
    {
     "name": "stderr",
     "output_type": "stream",
     "text": [
      "[I 2024-05-20 05:11:53,316] Trial 164 finished with value: 15.254633025545173 and parameters: {'lookback_days': 26, 'num_boost_rounds': 360, 'learning_rate': 0.08314377972296028, 'max_depth': 3, 'num_leaves': 91, 'lambda_l1': 5.678985865905322e-07, 'lambda_l2': 1.6308609872173983e-07, 'min_split_gain': 4.52240942917967e-06}. Best is trial 81 with value: 15.158217069359056.\n"
     ]
    },
    {
     "data": {
      "application/vnd.jupyter.widget-view+json": {
       "model_id": "9d8a32b86ac04dbb9320f4043a33ae14",
       "version_major": 2,
       "version_minor": 0
      },
      "text/plain": [
       "  0%|          | 0/333 [00:00<?, ?it/s]"
      ]
     },
     "metadata": {},
     "output_type": "display_data"
    },
    {
     "name": "stderr",
     "output_type": "stream",
     "text": [
      "[I 2024-05-20 05:13:09,428] Trial 165 finished with value: 15.242708224407037 and parameters: {'lookback_days': 27, 'num_boost_rounds': 355, 'learning_rate': 0.07169065414990505, 'max_depth': 3, 'num_leaves': 110, 'lambda_l1': 9.188198241607612e-07, 'lambda_l2': 2.3776922374807767e-07, 'min_split_gain': 1.5081906124135226e-06}. Best is trial 81 with value: 15.158217069359056.\n"
     ]
    },
    {
     "data": {
      "application/vnd.jupyter.widget-view+json": {
       "model_id": "9d82a27c98eb4aae85d8161fb0dc4a19",
       "version_major": 2,
       "version_minor": 0
      },
      "text/plain": [
       "  0%|          | 0/333 [00:00<?, ?it/s]"
      ]
     },
     "metadata": {},
     "output_type": "display_data"
    },
    {
     "name": "stderr",
     "output_type": "stream",
     "text": [
      "[I 2024-05-20 05:14:27,073] Trial 166 finished with value: 15.311814798010118 and parameters: {'lookback_days': 27, 'num_boost_rounds': 363, 'learning_rate': 0.08512844145113385, 'max_depth': 3, 'num_leaves': 93, 'lambda_l1': 1.5697376341999785e-06, 'lambda_l2': 1.2363633128824554e-07, 'min_split_gain': 3.015462756689943e-06}. Best is trial 81 with value: 15.158217069359056.\n"
     ]
    },
    {
     "data": {
      "application/vnd.jupyter.widget-view+json": {
       "model_id": "dfed154c0d4a4bc78ff6c78825a9d565",
       "version_major": 2,
       "version_minor": 0
      },
      "text/plain": [
       "  0%|          | 0/333 [00:00<?, ?it/s]"
      ]
     },
     "metadata": {},
     "output_type": "display_data"
    },
    {
     "name": "stderr",
     "output_type": "stream",
     "text": [
      "[I 2024-05-20 05:15:48,615] Trial 167 finished with value: 15.156307199097377 and parameters: {'lookback_days': 28, 'num_boost_rounds': 372, 'learning_rate': 0.06313704653343548, 'max_depth': 3, 'num_leaves': 98, 'lambda_l1': 4.252996171986238e-06, 'lambda_l2': 7.099083371240239e-08, 'min_split_gain': 6.186270069593791e-06}. Best is trial 167 with value: 15.156307199097377.\n"
     ]
    },
    {
     "data": {
      "application/vnd.jupyter.widget-view+json": {
       "model_id": "7d23a4d3428641978106244799d803c7",
       "version_major": 2,
       "version_minor": 0
      },
      "text/plain": [
       "  0%|          | 0/333 [00:00<?, ?it/s]"
      ]
     },
     "metadata": {},
     "output_type": "display_data"
    },
    {
     "name": "stderr",
     "output_type": "stream",
     "text": [
      "[I 2024-05-20 05:18:41,683] Trial 168 finished with value: 16.414121019991203 and parameters: {'lookback_days': 26, 'num_boost_rounds': 371, 'learning_rate': 0.05825070940111823, 'max_depth': 14, 'num_leaves': 97, 'lambda_l1': 8.627385712009094e-07, 'lambda_l2': 5.129573117186653e-08, 'min_split_gain': 5.391764473003329e-06}. Best is trial 167 with value: 15.156307199097377.\n"
     ]
    },
    {
     "data": {
      "application/vnd.jupyter.widget-view+json": {
       "model_id": "6d355e3f1d744459a9bdec270104c5aa",
       "version_major": 2,
       "version_minor": 0
      },
      "text/plain": [
       "  0%|          | 0/333 [00:00<?, ?it/s]"
      ]
     },
     "metadata": {},
     "output_type": "display_data"
    },
    {
     "name": "stderr",
     "output_type": "stream",
     "text": [
      "[I 2024-05-20 05:20:58,545] Trial 169 finished with value: 16.27815269746084 and parameters: {'lookback_days': 28, 'num_boost_rounds': 384, 'learning_rate': 0.06635530710110425, 'max_depth': 8, 'num_leaves': 100, 'lambda_l1': 7.73430225406703e-06, 'lambda_l2': 3.163775617574673e-08, 'min_split_gain': 2.515757765438791e-06}. Best is trial 167 with value: 15.156307199097377.\n"
     ]
    },
    {
     "data": {
      "application/vnd.jupyter.widget-view+json": {
       "model_id": "6737cb19bdd44712bdc3c130c66aba64",
       "version_major": 2,
       "version_minor": 0
      },
      "text/plain": [
       "  0%|          | 0/333 [00:00<?, ?it/s]"
      ]
     },
     "metadata": {},
     "output_type": "display_data"
    },
    {
     "name": "stderr",
     "output_type": "stream",
     "text": [
      "[I 2024-05-20 05:22:19,446] Trial 170 finished with value: 15.277904992771038 and parameters: {'lookback_days': 27, 'num_boost_rounds': 394, 'learning_rate': 0.09932220143412025, 'max_depth': 3, 'num_leaves': 77, 'lambda_l1': 2.7931947600885626e-06, 'lambda_l2': 2.8874910849884664e-07, 'min_split_gain': 3.5325048742872362e-06}. Best is trial 167 with value: 15.156307199097377.\n"
     ]
    },
    {
     "data": {
      "application/vnd.jupyter.widget-view+json": {
       "model_id": "d88057666d76487d8b849507799aa387",
       "version_major": 2,
       "version_minor": 0
      },
      "text/plain": [
       "  0%|          | 0/333 [00:00<?, ?it/s]"
      ]
     },
     "metadata": {},
     "output_type": "display_data"
    },
    {
     "name": "stderr",
     "output_type": "stream",
     "text": [
      "[I 2024-05-20 05:23:36,288] Trial 171 finished with value: 15.237692094438001 and parameters: {'lookback_days': 29, 'num_boost_rounds': 349, 'learning_rate': 0.07592527196908054, 'max_depth': 3, 'num_leaves': 107, 'lambda_l1': 4.621639080661689e-06, 'lambda_l2': 9.633628364039167e-08, 'min_split_gain': 0.0056614837927515755}. Best is trial 167 with value: 15.156307199097377.\n"
     ]
    },
    {
     "data": {
      "application/vnd.jupyter.widget-view+json": {
       "model_id": "5890bfe3197c4c6cbf8255815f2a8515",
       "version_major": 2,
       "version_minor": 0
      },
      "text/plain": [
       "  0%|          | 0/333 [00:00<?, ?it/s]"
      ]
     },
     "metadata": {},
     "output_type": "display_data"
    },
    {
     "name": "stderr",
     "output_type": "stream",
     "text": [
      "[I 2024-05-20 05:24:55,147] Trial 172 finished with value: 15.297549583154453 and parameters: {'lookback_days': 29, 'num_boost_rounds': 368, 'learning_rate': 0.051276930684458204, 'max_depth': 3, 'num_leaves': 94, 'lambda_l1': 4.119315190569595e-06, 'lambda_l2': 1.5777635201550166e-07, 'min_split_gain': 6.679134450129704e-06}. Best is trial 167 with value: 15.156307199097377.\n"
     ]
    },
    {
     "data": {
      "application/vnd.jupyter.widget-view+json": {
       "model_id": "acda8f482b624561bc783f69860d9e67",
       "version_major": 2,
       "version_minor": 0
      },
      "text/plain": [
       "  0%|          | 0/333 [00:00<?, ?it/s]"
      ]
     },
     "metadata": {},
     "output_type": "display_data"
    },
    {
     "name": "stderr",
     "output_type": "stream",
     "text": [
      "[I 2024-05-20 05:26:13,145] Trial 173 finished with value: 15.217634245322728 and parameters: {'lookback_days': 28, 'num_boost_rounds': 357, 'learning_rate': 0.06585106244111229, 'max_depth': 3, 'num_leaves': 89, 'lambda_l1': 6.6892564618812e-06, 'lambda_l2': 6.775476579766953e-08, 'min_split_gain': 1.4086523594755855e-05}. Best is trial 167 with value: 15.156307199097377.\n"
     ]
    },
    {
     "data": {
      "application/vnd.jupyter.widget-view+json": {
       "model_id": "f49ff2f783dd46bb9186468b0ebcfff0",
       "version_major": 2,
       "version_minor": 0
      },
      "text/plain": [
       "  0%|          | 0/333 [00:00<?, ?it/s]"
      ]
     },
     "metadata": {},
     "output_type": "display_data"
    },
    {
     "name": "stderr",
     "output_type": "stream",
     "text": [
      "[I 2024-05-20 05:27:29,380] Trial 174 finished with value: 15.288875909856419 and parameters: {'lookback_days': 29, 'num_boost_rounds': 341, 'learning_rate': 0.08187513394186839, 'max_depth': 3, 'num_leaves': 101, 'lambda_l1': 1.4060561958612582e-06, 'lambda_l2': 2.0407136852550955e-07, 'min_split_gain': 4.654269923544853e-06}. Best is trial 167 with value: 15.156307199097377.\n"
     ]
    },
    {
     "data": {
      "application/vnd.jupyter.widget-view+json": {
       "model_id": "d3bb0d19faa54f50b4e2affee768d539",
       "version_major": 2,
       "version_minor": 0
      },
      "text/plain": [
       "  0%|          | 0/333 [00:00<?, ?it/s]"
      ]
     },
     "metadata": {},
     "output_type": "display_data"
    },
    {
     "name": "stderr",
     "output_type": "stream",
     "text": [
      "[I 2024-05-20 05:28:49,167] Trial 175 finished with value: 15.240955041522328 and parameters: {'lookback_days': 30, 'num_boost_rounds': 377, 'learning_rate': 0.05309015589862631, 'max_depth': 3, 'num_leaves': 98, 'lambda_l1': 4.54720493467051e-07, 'lambda_l2': 7.880778329520534e-08, 'min_split_gain': 2.5061726664748434e-05}. Best is trial 167 with value: 15.156307199097377.\n"
     ]
    },
    {
     "data": {
      "application/vnd.jupyter.widget-view+json": {
       "model_id": "cdfea3b4dfad46a79f001ba15ab8ca24",
       "version_major": 2,
       "version_minor": 0
      },
      "text/plain": [
       "  0%|          | 0/333 [00:00<?, ?it/s]"
      ]
     },
     "metadata": {},
     "output_type": "display_data"
    },
    {
     "name": "stderr",
     "output_type": "stream",
     "text": [
      "[I 2024-05-20 05:30:09,878] Trial 176 finished with value: 19.063253403793908 and parameters: {'lookback_days': 28, 'num_boost_rounds': 351, 'learning_rate': 0.0044140479558771786, 'max_depth': 3, 'num_leaves': 115, 'lambda_l1': 7.744745558580095e-08, 'lambda_l2': 3.7411705827960895e-07, 'min_split_gain': 1.824355236947404e-05}. Best is trial 167 with value: 15.156307199097377.\n"
     ]
    },
    {
     "data": {
      "application/vnd.jupyter.widget-view+json": {
       "model_id": "8975786b15dc4e048b97ac4c7b3d8d99",
       "version_major": 2,
       "version_minor": 0
      },
      "text/plain": [
       "  0%|          | 0/333 [00:00<?, ?it/s]"
      ]
     },
     "metadata": {},
     "output_type": "display_data"
    },
    {
     "name": "stderr",
     "output_type": "stream",
     "text": [
      "[I 2024-05-20 05:31:42,042] Trial 177 finished with value: 15.616685202403533 and parameters: {'lookback_days': 30, 'num_boost_rounds': 360, 'learning_rate': 0.06142069274129215, 'max_depth': 4, 'num_leaves': 96, 'lambda_l1': 1.106960994436945e-05, 'lambda_l2': 0.00037508707150146883, 'min_split_gain': 1.8039900480523224e-06}. Best is trial 167 with value: 15.156307199097377.\n"
     ]
    },
    {
     "data": {
      "application/vnd.jupyter.widget-view+json": {
       "model_id": "e4097d52a7624a11a4252f84f91e038a",
       "version_major": 2,
       "version_minor": 0
      },
      "text/plain": [
       "  0%|          | 0/333 [00:00<?, ?it/s]"
      ]
     },
     "metadata": {},
     "output_type": "display_data"
    },
    {
     "name": "stderr",
     "output_type": "stream",
     "text": [
      "[I 2024-05-20 05:32:50,957] Trial 178 finished with value: 16.95570590888232 and parameters: {'lookback_days': 14, 'num_boost_rounds': 389, 'learning_rate': 0.0370283291000351, 'max_depth': 3, 'num_leaves': 90, 'lambda_l1': 0.025993215587131042, 'lambda_l2': 4.468321351902451e-08, 'min_split_gain': 0.00426171633153561}. Best is trial 167 with value: 15.156307199097377.\n"
     ]
    },
    {
     "data": {
      "application/vnd.jupyter.widget-view+json": {
       "model_id": "8897ce3d849d4c05902065fa5d1f0bfa",
       "version_major": 2,
       "version_minor": 0
      },
      "text/plain": [
       "  0%|          | 0/333 [00:00<?, ?it/s]"
      ]
     },
     "metadata": {},
     "output_type": "display_data"
    },
    {
     "name": "stderr",
     "output_type": "stream",
     "text": [
      "[I 2024-05-20 05:34:18,805] Trial 179 finished with value: 15.668350964816282 and parameters: {'lookback_days': 27, 'num_boost_rounds': 368, 'learning_rate': 0.07675171455471733, 'max_depth': 4, 'num_leaves': 92, 'lambda_l1': 1.5065259931063847e-07, 'lambda_l2': 1.5198146811312723e-08, 'min_split_gain': 7.108424027797857e-06}. Best is trial 167 with value: 15.156307199097377.\n"
     ]
    },
    {
     "data": {
      "application/vnd.jupyter.widget-view+json": {
       "model_id": "8fcc4e46014645bb8f87d7672fc0ec40",
       "version_major": 2,
       "version_minor": 0
      },
      "text/plain": [
       "  0%|          | 0/333 [00:00<?, ?it/s]"
      ]
     },
     "metadata": {},
     "output_type": "display_data"
    },
    {
     "name": "stderr",
     "output_type": "stream",
     "text": [
      "[I 2024-05-20 05:35:35,342] Trial 180 finished with value: 15.315563489983614 and parameters: {'lookback_days': 29, 'num_boost_rounds': 340, 'learning_rate': 0.0480186926109012, 'max_depth': 3, 'num_leaves': 112, 'lambda_l1': 4.8543431175694084e-08, 'lambda_l2': 1.1933789556357414e-07, 'min_split_gain': 4.102737586407181e-05}. Best is trial 167 with value: 15.156307199097377.\n"
     ]
    },
    {
     "data": {
      "application/vnd.jupyter.widget-view+json": {
       "model_id": "b1710b33e1344f5fbccaeb0423e1aa5b",
       "version_major": 2,
       "version_minor": 0
      },
      "text/plain": [
       "  0%|          | 0/333 [00:00<?, ?it/s]"
      ]
     },
     "metadata": {},
     "output_type": "display_data"
    },
    {
     "name": "stderr",
     "output_type": "stream",
     "text": [
      "[I 2024-05-20 05:36:55,147] Trial 181 finished with value: 15.308831079598873 and parameters: {'lookback_days': 28, 'num_boost_rounds': 371, 'learning_rate': 0.04141324290516301, 'max_depth': 3, 'num_leaves': 85, 'lambda_l1': 1.6250593587841412e-06, 'lambda_l2': 5.939927252336086e-07, 'min_split_gain': 8.71485945462456e-06}. Best is trial 167 with value: 15.156307199097377.\n"
     ]
    },
    {
     "data": {
      "application/vnd.jupyter.widget-view+json": {
       "model_id": "68dd123cd63c4b4097408051ddb2dfdd",
       "version_major": 2,
       "version_minor": 0
      },
      "text/plain": [
       "  0%|          | 0/333 [00:00<?, ?it/s]"
      ]
     },
     "metadata": {},
     "output_type": "display_data"
    },
    {
     "name": "stderr",
     "output_type": "stream",
     "text": [
      "[I 2024-05-20 05:38:14,551] Trial 182 finished with value: 15.261912727693266 and parameters: {'lookback_days': 28, 'num_boost_rounds': 381, 'learning_rate': 0.09996342186875144, 'max_depth': 3, 'num_leaves': 94, 'lambda_l1': 1.8159644543233846e-06, 'lambda_l2': 1.0268705910317479e-06, 'min_split_gain': 1.202281162235037e-05}. Best is trial 167 with value: 15.156307199097377.\n"
     ]
    },
    {
     "data": {
      "application/vnd.jupyter.widget-view+json": {
       "model_id": "0ff1232350f54aea85c0eb44598028c5",
       "version_major": 2,
       "version_minor": 0
      },
      "text/plain": [
       "  0%|          | 0/333 [00:00<?, ?it/s]"
      ]
     },
     "metadata": {},
     "output_type": "display_data"
    },
    {
     "name": "stderr",
     "output_type": "stream",
     "text": [
      "[I 2024-05-20 05:39:34,714] Trial 183 finished with value: 15.211989002036097 and parameters: {'lookback_days': 30, 'num_boost_rounds': 379, 'learning_rate': 0.06034498448904259, 'max_depth': 3, 'num_leaves': 87, 'lambda_l1': 2.3406193296920443e-06, 'lambda_l2': 2.7208299095817064e-07, 'min_split_gain': 4.7383610995792035e-06}. Best is trial 167 with value: 15.156307199097377.\n"
     ]
    },
    {
     "data": {
      "application/vnd.jupyter.widget-view+json": {
       "model_id": "5cc0985f2fd144f3914f4ca3aa2cb6e3",
       "version_major": 2,
       "version_minor": 0
      },
      "text/plain": [
       "  0%|          | 0/333 [00:00<?, ?it/s]"
      ]
     },
     "metadata": {},
     "output_type": "display_data"
    },
    {
     "name": "stderr",
     "output_type": "stream",
     "text": [
      "[I 2024-05-20 05:41:01,339] Trial 184 finished with value: 15.247074942979017 and parameters: {'lookback_days': 29, 'num_boost_rounds': 425, 'learning_rate': 0.043822843415706504, 'max_depth': 3, 'num_leaves': 88, 'lambda_l1': 3.114958443788341e-06, 'lambda_l2': 4.580194987667469e-07, 'min_split_gain': 1.8779019366487422e-05}. Best is trial 167 with value: 15.156307199097377.\n"
     ]
    },
    {
     "data": {
      "application/vnd.jupyter.widget-view+json": {
       "model_id": "03249b5d801f4a859e77ecafce1a5872",
       "version_major": 2,
       "version_minor": 0
      },
      "text/plain": [
       "  0%|          | 0/333 [00:00<?, ?it/s]"
      ]
     },
     "metadata": {},
     "output_type": "display_data"
    },
    {
     "name": "stderr",
     "output_type": "stream",
     "text": [
      "[I 2024-05-20 05:42:23,886] Trial 185 finished with value: 15.341051729445095 and parameters: {'lookback_days': 27, 'num_boost_rounds': 404, 'learning_rate': 0.031956662264962764, 'max_depth': 3, 'num_leaves': 84, 'lambda_l1': 7.074530879569514e-07, 'lambda_l2': 7.097889817033059e-07, 'min_split_gain': 3.1076850715071284e-06}. Best is trial 167 with value: 15.156307199097377.\n"
     ]
    },
    {
     "data": {
      "application/vnd.jupyter.widget-view+json": {
       "model_id": "faa0e6ecb1ef406db06e1bbf520bdf85",
       "version_major": 2,
       "version_minor": 0
      },
      "text/plain": [
       "  0%|          | 0/333 [00:00<?, ?it/s]"
      ]
     },
     "metadata": {},
     "output_type": "display_data"
    },
    {
     "name": "stderr",
     "output_type": "stream",
     "text": [
      "[I 2024-05-20 05:43:41,375] Trial 186 finished with value: 15.324176607559076 and parameters: {'lookback_days': 29, 'num_boost_rounds': 351, 'learning_rate': 0.07024038313003032, 'max_depth': 3, 'num_leaves': 104, 'lambda_l1': 9.098551914840416e-08, 'lambda_l2': 2.0972233508700286e-07, 'min_split_gain': 0.014721921720296448}. Best is trial 167 with value: 15.156307199097377.\n"
     ]
    },
    {
     "data": {
      "application/vnd.jupyter.widget-view+json": {
       "model_id": "f05b52526b864eb495a0b578337b55f5",
       "version_major": 2,
       "version_minor": 0
      },
      "text/plain": [
       "  0%|          | 0/333 [00:00<?, ?it/s]"
      ]
     },
     "metadata": {},
     "output_type": "display_data"
    },
    {
     "name": "stderr",
     "output_type": "stream",
     "text": [
      "[I 2024-05-20 05:44:59,393] Trial 187 finished with value: 15.187038997191403 and parameters: {'lookback_days': 28, 'num_boost_rounds': 364, 'learning_rate': 0.053899366891977725, 'max_depth': 3, 'num_leaves': 91, 'lambda_l1': 1.5292847219394104e-08, 'lambda_l2': 2.3371284231045385e-08, 'min_split_gain': 0.000494433381694253}. Best is trial 167 with value: 15.156307199097377.\n"
     ]
    },
    {
     "data": {
      "application/vnd.jupyter.widget-view+json": {
       "model_id": "9d882646a7694a648f9d993a3bc68076",
       "version_major": 2,
       "version_minor": 0
      },
      "text/plain": [
       "  0%|          | 0/333 [00:00<?, ?it/s]"
      ]
     },
     "metadata": {},
     "output_type": "display_data"
    },
    {
     "name": "stderr",
     "output_type": "stream",
     "text": [
      "[I 2024-05-20 05:46:16,514] Trial 188 finished with value: 15.238633541176595 and parameters: {'lookback_days': 30, 'num_boost_rounds': 334, 'learning_rate': 0.05341918087631913, 'max_depth': 3, 'num_leaves': 99, 'lambda_l1': 1.8901141358304294e-08, 'lambda_l2': 2.1823267315522445e-08, 'min_split_gain': 0.0005000451075750089}. Best is trial 167 with value: 15.156307199097377.\n"
     ]
    },
    {
     "data": {
      "application/vnd.jupyter.widget-view+json": {
       "model_id": "3c8819baaec14c3cad957558eb9eea5a",
       "version_major": 2,
       "version_minor": 0
      },
      "text/plain": [
       "  0%|          | 0/333 [00:00<?, ?it/s]"
      ]
     },
     "metadata": {},
     "output_type": "display_data"
    },
    {
     "name": "stderr",
     "output_type": "stream",
     "text": [
      "[I 2024-05-20 05:47:48,213] Trial 189 finished with value: 15.657365266011888 and parameters: {'lookback_days': 30, 'num_boost_rounds': 361, 'learning_rate': 0.08310972758220973, 'max_depth': 4, 'num_leaves': 92, 'lambda_l1': 1.3242321657529194e-08, 'lambda_l2': 3.9946163500299416e-08, 'min_split_gain': 0.00014266865631635842}. Best is trial 167 with value: 15.156307199097377.\n"
     ]
    },
    {
     "data": {
      "application/vnd.jupyter.widget-view+json": {
       "model_id": "7aeb353946fd4ccab85c2bde69b92249",
       "version_major": 2,
       "version_minor": 0
      },
      "text/plain": [
       "  0%|          | 0/333 [00:00<?, ?it/s]"
      ]
     },
     "metadata": {},
     "output_type": "display_data"
    },
    {
     "name": "stderr",
     "output_type": "stream",
     "text": [
      "[I 2024-05-20 05:49:02,246] Trial 190 finished with value: 15.305402940347303 and parameters: {'lookback_days': 26, 'num_boost_rounds': 346, 'learning_rate': 0.07027104656520587, 'max_depth': 3, 'num_leaves': 96, 'lambda_l1': 6.084583784607135e-08, 'lambda_l2': 2.882252500527032e-08, 'min_split_gain': 0.0015003191061405698}. Best is trial 167 with value: 15.156307199097377.\n"
     ]
    },
    {
     "data": {
      "application/vnd.jupyter.widget-view+json": {
       "model_id": "287ae46de7c4457ca12e0b722cbefb5b",
       "version_major": 2,
       "version_minor": 0
      },
      "text/plain": [
       "  0%|          | 0/333 [00:00<?, ?it/s]"
      ]
     },
     "metadata": {},
     "output_type": "display_data"
    },
    {
     "name": "stderr",
     "output_type": "stream",
     "text": [
      "[I 2024-05-20 05:50:21,571] Trial 191 finished with value: 15.140769718248036 and parameters: {'lookback_days': 28, 'num_boost_rounds': 373, 'learning_rate': 0.05840191575524944, 'max_depth': 3, 'num_leaves': 90, 'lambda_l1': 4.028440868788959e-08, 'lambda_l2': 6.355402173668037e-08, 'min_split_gain': 8.74512651910333e-06}. Best is trial 191 with value: 15.140769718248036.\n"
     ]
    },
    {
     "data": {
      "application/vnd.jupyter.widget-view+json": {
       "model_id": "3d8e299f34454257a72c7cf9e009b16b",
       "version_major": 2,
       "version_minor": 0
      },
      "text/plain": [
       "  0%|          | 0/333 [00:00<?, ?it/s]"
      ]
     },
     "metadata": {},
     "output_type": "display_data"
    },
    {
     "name": "stderr",
     "output_type": "stream",
     "text": [
      "[I 2024-05-20 05:51:41,814] Trial 192 finished with value: 15.372910444537103 and parameters: {'lookback_days': 29, 'num_boost_rounds': 369, 'learning_rate': 0.0608416001602682, 'max_depth': 3, 'num_leaves': 118, 'lambda_l1': 0.005708486699325133, 'lambda_l2': 6.544801887580831e-08, 'min_split_gain': 0.0009694853886066597}. Best is trial 191 with value: 15.140769718248036.\n"
     ]
    },
    {
     "data": {
      "application/vnd.jupyter.widget-view+json": {
       "model_id": "1d4c78690058454fad1721ad1ffe50e8",
       "version_major": 2,
       "version_minor": 0
      },
      "text/plain": [
       "  0%|          | 0/333 [00:00<?, ?it/s]"
      ]
     },
     "metadata": {},
     "output_type": "display_data"
    },
    {
     "name": "stderr",
     "output_type": "stream",
     "text": [
      "[I 2024-05-20 05:52:59,121] Trial 193 finished with value: 15.178694272343307 and parameters: {'lookback_days': 28, 'num_boost_rounds': 357, 'learning_rate': 0.05115037075268073, 'max_depth': 3, 'num_leaves': 90, 'lambda_l1': 3.0425667120191587e-08, 'lambda_l2': 9.105838498228143e-08, 'min_split_gain': 6.185800602217043e-06}. Best is trial 191 with value: 15.140769718248036.\n"
     ]
    },
    {
     "data": {
      "application/vnd.jupyter.widget-view+json": {
       "model_id": "cda5d0b39e8543aa8af1a895a6b9ca73",
       "version_major": 2,
       "version_minor": 0
      },
      "text/plain": [
       "  0%|          | 0/333 [00:00<?, ?it/s]"
      ]
     },
     "metadata": {},
     "output_type": "display_data"
    },
    {
     "name": "stderr",
     "output_type": "stream",
     "text": [
      "[I 2024-05-20 05:54:15,695] Trial 194 finished with value: 15.27599890469546 and parameters: {'lookback_days': 27, 'num_boost_rounds': 362, 'learning_rate': 0.05040646518503966, 'max_depth': 3, 'num_leaves': 90, 'lambda_l1': 3.0391826659968834e-08, 'lambda_l2': 1.5995361975130522e-08, 'min_split_gain': 5.839714771753826e-06}. Best is trial 191 with value: 15.140769718248036.\n"
     ]
    },
    {
     "data": {
      "application/vnd.jupyter.widget-view+json": {
       "model_id": "00afe1616ca34164bccedff0b623922d",
       "version_major": 2,
       "version_minor": 0
      },
      "text/plain": [
       "  0%|          | 0/333 [00:00<?, ?it/s]"
      ]
     },
     "metadata": {},
     "output_type": "display_data"
    },
    {
     "name": "stderr",
     "output_type": "stream",
     "text": [
      "[I 2024-05-20 05:55:10,617] Trial 195 finished with value: 22.21225982124424 and parameters: {'lookback_days': 3, 'num_boost_rounds': 385, 'learning_rate': 0.05735673694913361, 'max_depth': 3, 'num_leaves': 94, 'lambda_l1': 1.9744493704199826e-08, 'lambda_l2': 1.4259330460879887e-07, 'min_split_gain': 0.00028484322726800326}. Best is trial 191 with value: 15.140769718248036.\n"
     ]
    },
    {
     "data": {
      "application/vnd.jupyter.widget-view+json": {
       "model_id": "04cec9e11094443c92cd1ed14fa19c81",
       "version_major": 2,
       "version_minor": 0
      },
      "text/plain": [
       "  0%|          | 0/333 [00:00<?, ?it/s]"
      ]
     },
     "metadata": {},
     "output_type": "display_data"
    },
    {
     "name": "stderr",
     "output_type": "stream",
     "text": [
      "[I 2024-05-20 05:58:03,886] Trial 196 finished with value: 16.370378110341964 and parameters: {'lookback_days': 28, 'num_boost_rounds': 397, 'learning_rate': 0.04155472605701071, 'max_depth': 12, 'num_leaves': 91, 'lambda_l1': 4.0812161585785557e-08, 'lambda_l2': 3.96997894105711e-08, 'min_split_gain': 3.841126250050911e-06}. Best is trial 191 with value: 15.140769718248036.\n"
     ]
    },
    {
     "data": {
      "application/vnd.jupyter.widget-view+json": {
       "model_id": "4390ad113a3c46e4a15b6fa7a10b42c4",
       "version_major": 2,
       "version_minor": 0
      },
      "text/plain": [
       "  0%|          | 0/333 [00:00<?, ?it/s]"
      ]
     },
     "metadata": {},
     "output_type": "display_data"
    },
    {
     "name": "stderr",
     "output_type": "stream",
     "text": [
      "[I 2024-05-20 05:59:22,384] Trial 197 finished with value: 15.229698228626317 and parameters: {'lookback_days': 28, 'num_boost_rounds': 375, 'learning_rate': 0.07142599489793164, 'max_depth': 3, 'num_leaves': 88, 'lambda_l1': 1.0035817146185725e-08, 'lambda_l2': 2.5302117879184255e-08, 'min_split_gain': 0.01018633578163891}. Best is trial 191 with value: 15.140769718248036.\n"
     ]
    },
    {
     "data": {
      "application/vnd.jupyter.widget-view+json": {
       "model_id": "4195718510394f4f97d2e85784c2dc9d",
       "version_major": 2,
       "version_minor": 0
      },
      "text/plain": [
       "  0%|          | 0/333 [00:00<?, ?it/s]"
      ]
     },
     "metadata": {},
     "output_type": "display_data"
    },
    {
     "name": "stderr",
     "output_type": "stream",
     "text": [
      "[I 2024-05-20 06:00:39,847] Trial 198 finished with value: 15.321777612544498 and parameters: {'lookback_days': 27, 'num_boost_rounds': 360, 'learning_rate': 0.036538667139211535, 'max_depth': 3, 'num_leaves': 93, 'lambda_l1': 3.098748556359051e-08, 'lambda_l2': 8.514768297537906e-08, 'min_split_gain': 8.14274900020198e-06}. Best is trial 191 with value: 15.140769718248036.\n"
     ]
    },
    {
     "data": {
      "application/vnd.jupyter.widget-view+json": {
       "model_id": "a58ef5fc3e814869b69217ba844ef04a",
       "version_major": 2,
       "version_minor": 0
      },
      "text/plain": [
       "  0%|          | 0/333 [00:00<?, ?it/s]"
      ]
     },
     "metadata": {},
     "output_type": "display_data"
    },
    {
     "name": "stderr",
     "output_type": "stream",
     "text": [
      "[I 2024-05-20 06:01:53,882] Trial 199 finished with value: 15.330440933830474 and parameters: {'lookback_days': 26, 'num_boost_rounds': 328, 'learning_rate': 0.04801726001688296, 'max_depth': 3, 'num_leaves': 97, 'lambda_l1': 1.491395476860736e-08, 'lambda_l2': 1.9690886504674322e-07, 'min_split_gain': 3.214437638661491e-05}. Best is trial 191 with value: 15.140769718248036.\n"
     ]
    },
    {
     "data": {
      "application/vnd.jupyter.widget-view+json": {
       "model_id": "dea10c0b15df40b2aec095f6bec59782",
       "version_major": 2,
       "version_minor": 0
      },
      "text/plain": [
       "  0%|          | 0/333 [00:00<?, ?it/s]"
      ]
     },
     "metadata": {},
     "output_type": "display_data"
    },
    {
     "name": "stderr",
     "output_type": "stream",
     "text": [
      "[I 2024-05-20 06:02:46,673] Trial 200 finished with value: 15.549850262985675 and parameters: {'lookback_days': 29, 'num_boost_rounds': 120, 'learning_rate': 0.08617397282007591, 'max_depth': 3, 'num_leaves': 80, 'lambda_l1': 1.1060689937680092e-07, 'lambda_l2': 6.864352884550633e-08, 'min_split_gain': 2.364535592146957e-06}. Best is trial 191 with value: 15.140769718248036.\n"
     ]
    },
    {
     "data": {
      "application/vnd.jupyter.widget-view+json": {
       "model_id": "ecd46b89486d40f59b0406013f716790",
       "version_major": 2,
       "version_minor": 0
      },
      "text/plain": [
       "  0%|          | 0/333 [00:00<?, ?it/s]"
      ]
     },
     "metadata": {},
     "output_type": "display_data"
    },
    {
     "name": "stderr",
     "output_type": "stream",
     "text": [
      "[I 2024-05-20 06:04:03,432] Trial 201 finished with value: 15.259504133221366 and parameters: {'lookback_days': 28, 'num_boost_rounds': 353, 'learning_rate': 0.0667275159884685, 'max_depth': 3, 'num_leaves': 69, 'lambda_l1': 6.475929898768474e-08, 'lambda_l2': 1.1795438008581632e-07, 'min_split_gain': 1.2591410780413169e-05}. Best is trial 191 with value: 15.140769718248036.\n"
     ]
    },
    {
     "data": {
      "application/vnd.jupyter.widget-view+json": {
       "model_id": "72f5052153024d0d9c174385fae2892d",
       "version_major": 2,
       "version_minor": 0
      },
      "text/plain": [
       "  0%|          | 0/333 [00:00<?, ?it/s]"
      ]
     },
     "metadata": {},
     "output_type": "display_data"
    },
    {
     "name": "stderr",
     "output_type": "stream",
     "text": [
      "[I 2024-05-20 06:05:20,666] Trial 202 finished with value: 15.279139851294858 and parameters: {'lookback_days': 30, 'num_boost_rounds': 342, 'learning_rate': 0.08602410906838848, 'max_depth': 3, 'num_leaves': 89, 'lambda_l1': 4.0091472004992905e-08, 'lambda_l2': 4.838793641127084e-08, 'min_split_gain': 6.198052067470911e-06}. Best is trial 191 with value: 15.140769718248036.\n"
     ]
    },
    {
     "data": {
      "application/vnd.jupyter.widget-view+json": {
       "model_id": "b441005c524f4d5199c894c014fdf6b1",
       "version_major": 2,
       "version_minor": 0
      },
      "text/plain": [
       "  0%|          | 0/333 [00:00<?, ?it/s]"
      ]
     },
     "metadata": {},
     "output_type": "display_data"
    },
    {
     "name": "stderr",
     "output_type": "stream",
     "text": [
      "[I 2024-05-20 06:06:38,742] Trial 203 finished with value: 15.328139857398721 and parameters: {'lookback_days': 29, 'num_boost_rounds': 353, 'learning_rate': 0.057007803387340926, 'max_depth': 3, 'num_leaves': 95, 'lambda_l1': 2.286367761375109e-08, 'lambda_l2': 2.8475874751592843e-07, 'min_split_gain': 1.700693995602248e-05}. Best is trial 191 with value: 15.140769718248036.\n"
     ]
    },
    {
     "data": {
      "application/vnd.jupyter.widget-view+json": {
       "model_id": "e72d30f08d9b4af8ae8384a76afc2396",
       "version_major": 2,
       "version_minor": 0
      },
      "text/plain": [
       "  0%|          | 0/333 [00:00<?, ?it/s]"
      ]
     },
     "metadata": {},
     "output_type": "display_data"
    },
    {
     "name": "stderr",
     "output_type": "stream",
     "text": [
      "[I 2024-05-20 06:07:58,371] Trial 204 finished with value: 15.28594438166185 and parameters: {'lookback_days': 30, 'num_boost_rounds': 365, 'learning_rate': 0.07253453679013078, 'max_depth': 3, 'num_leaves': 91, 'lambda_l1': 2.1415576073391594e-07, 'lambda_l2': 9.9091237187679e-08, 'min_split_gain': 8.718663732855703e-06}. Best is trial 191 with value: 15.140769718248036.\n"
     ]
    },
    {
     "data": {
      "application/vnd.jupyter.widget-view+json": {
       "model_id": "d90e297b9dd34ff4a7a9bbb9e255b32d",
       "version_major": 2,
       "version_minor": 0
      },
      "text/plain": [
       "  0%|          | 0/333 [00:00<?, ?it/s]"
      ]
     },
     "metadata": {},
     "output_type": "display_data"
    },
    {
     "name": "stderr",
     "output_type": "stream",
     "text": [
      "[I 2024-05-20 06:09:17,501] Trial 205 finished with value: 15.305779703668591 and parameters: {'lookback_days': 29, 'num_boost_rounds': 376, 'learning_rate': 0.052800851991859674, 'max_depth': 3, 'num_leaves': 102, 'lambda_l1': 5.3764228754837604e-08, 'lambda_l2': 1.4217868491888126e-07, 'min_split_gain': 0.0022233962304543447}. Best is trial 191 with value: 15.140769718248036.\n"
     ]
    },
    {
     "data": {
      "application/vnd.jupyter.widget-view+json": {
       "model_id": "0c366e2693d945e7bb055a1b2900ccf0",
       "version_major": 2,
       "version_minor": 0
      },
      "text/plain": [
       "  0%|          | 0/333 [00:00<?, ?it/s]"
      ]
     },
     "metadata": {},
     "output_type": "display_data"
    },
    {
     "name": "stderr",
     "output_type": "stream",
     "text": [
      "[I 2024-05-20 06:10:34,085] Trial 206 finished with value: 15.127761798089589 and parameters: {'lookback_days': 28, 'num_boost_rounds': 346, 'learning_rate': 0.06343386610883811, 'max_depth': 3, 'num_leaves': 83, 'lambda_l1': 3.4965666569810746e-08, 'lambda_l2': 5.726704846870981e-08, 'min_split_gain': 5.4910595670346694e-05}. Best is trial 206 with value: 15.127761798089589.\n"
     ]
    },
    {
     "data": {
      "application/vnd.jupyter.widget-view+json": {
       "model_id": "253f0115386d4e48afd3ad99e72c3044",
       "version_major": 2,
       "version_minor": 0
      },
      "text/plain": [
       "  0%|          | 0/333 [00:00<?, ?it/s]"
      ]
     },
     "metadata": {},
     "output_type": "display_data"
    },
    {
     "name": "stderr",
     "output_type": "stream",
     "text": [
      "[I 2024-05-20 06:12:05,653] Trial 207 finished with value: 15.701016878840553 and parameters: {'lookback_days': 28, 'num_boost_rounds': 370, 'learning_rate': 0.061105264322829644, 'max_depth': 4, 'num_leaves': 82, 'lambda_l1': 2.259095310256786e-08, 'lambda_l2': 1.144612940962867e-08, 'min_split_gain': 5.040674758213942e-05}. Best is trial 206 with value: 15.127761798089589.\n"
     ]
    },
    {
     "data": {
      "application/vnd.jupyter.widget-view+json": {
       "model_id": "294dd98965ee4306aebeb171efc3ff56",
       "version_major": 2,
       "version_minor": 0
      },
      "text/plain": [
       "  0%|          | 0/333 [00:00<?, ?it/s]"
      ]
     },
     "metadata": {},
     "output_type": "display_data"
    },
    {
     "name": "stderr",
     "output_type": "stream",
     "text": [
      "[I 2024-05-20 06:13:25,579] Trial 208 finished with value: 15.241241568668228 and parameters: {'lookback_days': 28, 'num_boost_rounds': 387, 'learning_rate': 0.04716459405655075, 'max_depth': 3, 'num_leaves': 85, 'lambda_l1': 3.502090403622394e-08, 'lambda_l2': 2.8949423434572526e-08, 'min_split_gain': 9.78248684893242e-05}. Best is trial 206 with value: 15.127761798089589.\n"
     ]
    },
    {
     "data": {
      "application/vnd.jupyter.widget-view+json": {
       "model_id": "eabe1ed351c8403e919a979116da6411",
       "version_major": 2,
       "version_minor": 0
      },
      "text/plain": [
       "  0%|          | 0/333 [00:00<?, ?it/s]"
      ]
     },
     "metadata": {},
     "output_type": "display_data"
    },
    {
     "name": "stderr",
     "output_type": "stream",
     "text": [
      "[I 2024-05-20 06:14:39,198] Trial 209 finished with value: 15.257762988494623 and parameters: {'lookback_days': 27, 'num_boost_rounds': 336, 'learning_rate': 0.06839533576696798, 'max_depth': 3, 'num_leaves': 84, 'lambda_l1': 7.286617095523243e-08, 'lambda_l2': 3.622006375949655e-07, 'min_split_gain': 7.453864327290845e-05}. Best is trial 206 with value: 15.127761798089589.\n"
     ]
    },
    {
     "data": {
      "application/vnd.jupyter.widget-view+json": {
       "model_id": "7803080c24dd437fbdb3f4f733258d75",
       "version_major": 2,
       "version_minor": 0
      },
      "text/plain": [
       "  0%|          | 0/333 [00:00<?, ?it/s]"
      ]
     },
     "metadata": {},
     "output_type": "display_data"
    },
    {
     "name": "stderr",
     "output_type": "stream",
     "text": [
      "[I 2024-05-20 06:16:09,958] Trial 210 finished with value: 15.60275295606091 and parameters: {'lookback_days': 27, 'num_boost_rounds': 357, 'learning_rate': 0.09833018100672294, 'max_depth': 4, 'num_leaves': 99, 'lambda_l1': 1.42874855952027e-07, 'lambda_l2': 4.12130673622306e-05, 'min_split_gain': 0.03363712568336284}. Best is trial 206 with value: 15.127761798089589.\n"
     ]
    },
    {
     "data": {
      "application/vnd.jupyter.widget-view+json": {
       "model_id": "71e89def798b47f59bd092b3006a0758",
       "version_major": 2,
       "version_minor": 0
      },
      "text/plain": [
       "  0%|          | 0/333 [00:00<?, ?it/s]"
      ]
     },
     "metadata": {},
     "output_type": "display_data"
    },
    {
     "name": "stderr",
     "output_type": "stream",
     "text": [
      "[I 2024-05-20 06:17:27,925] Trial 211 finished with value: 15.23243481664563 and parameters: {'lookback_days': 30, 'num_boost_rounds': 345, 'learning_rate': 0.07989705147612178, 'max_depth': 3, 'num_leaves': 92, 'lambda_l1': 3.8636517472705866e-08, 'lambda_l2': 5.5578289391465e-08, 'min_split_gain': 2.8020007012721173e-05}. Best is trial 206 with value: 15.127761798089589.\n"
     ]
    },
    {
     "data": {
      "application/vnd.jupyter.widget-view+json": {
       "model_id": "5f58e28372124853bfe2243c0742652f",
       "version_major": 2,
       "version_minor": 0
      },
      "text/plain": [
       "  0%|          | 0/333 [00:00<?, ?it/s]"
      ]
     },
     "metadata": {},
     "output_type": "display_data"
    },
    {
     "name": "stderr",
     "output_type": "stream",
     "text": [
      "[I 2024-05-20 06:18:43,920] Trial 212 finished with value: 15.264357997685106 and parameters: {'lookback_days': 29, 'num_boost_rounds': 349, 'learning_rate': 0.058474046356869536, 'max_depth': 3, 'num_leaves': 89, 'lambda_l1': 1.7234956010591195e-08, 'lambda_l2': 8.792303312088916e-08, 'min_split_gain': 2.1497830852352143e-05}. Best is trial 206 with value: 15.127761798089589.\n"
     ]
    },
    {
     "data": {
      "application/vnd.jupyter.widget-view+json": {
       "model_id": "2087b170281140c0aaf9ff4db0151955",
       "version_major": 2,
       "version_minor": 0
      },
      "text/plain": [
       "  0%|          | 0/333 [00:00<?, ?it/s]"
      ]
     },
     "metadata": {},
     "output_type": "display_data"
    },
    {
     "name": "stderr",
     "output_type": "stream",
     "text": [
      "[I 2024-05-20 06:19:58,646] Trial 213 finished with value: 15.322008170017408 and parameters: {'lookback_days': 30, 'num_boost_rounds': 325, 'learning_rate': 0.07716421372554517, 'max_depth': 3, 'num_leaves': 115, 'lambda_l1': 8.128231178342788e-08, 'lambda_l2': 1.6927101321321455e-07, 'min_split_gain': 1.3862675204115035e-05}. Best is trial 206 with value: 15.127761798089589.\n"
     ]
    },
    {
     "data": {
      "application/vnd.jupyter.widget-view+json": {
       "model_id": "2ad0888cae8a4c8a9b5102f60c63d8bc",
       "version_major": 2,
       "version_minor": 0
      },
      "text/plain": [
       "  0%|          | 0/333 [00:00<?, ?it/s]"
      ]
     },
     "metadata": {},
     "output_type": "display_data"
    },
    {
     "name": "stderr",
     "output_type": "stream",
     "text": [
      "[I 2024-05-20 06:21:17,655] Trial 214 finished with value: 15.225009633387051 and parameters: {'lookback_days': 28, 'num_boost_rounds': 364, 'learning_rate': 0.04964130306989923, 'max_depth': 3, 'num_leaves': 78, 'lambda_l1': 2.6492148188875467e-08, 'lambda_l2': 5.619160144288404e-08, 'min_split_gain': 3.661299997510925e-06}. Best is trial 206 with value: 15.127761798089589.\n"
     ]
    },
    {
     "data": {
      "application/vnd.jupyter.widget-view+json": {
       "model_id": "f271922e77eb45aba1f09dae59ec1fc6",
       "version_major": 2,
       "version_minor": 0
      },
      "text/plain": [
       "  0%|          | 0/333 [00:00<?, ?it/s]"
      ]
     },
     "metadata": {},
     "output_type": "display_data"
    },
    {
     "name": "stderr",
     "output_type": "stream",
     "text": [
      "[I 2024-05-20 06:22:35,493] Trial 215 finished with value: 15.256163852174067 and parameters: {'lookback_days': 29, 'num_boost_rounds': 355, 'learning_rate': 0.06436370245974456, 'max_depth': 3, 'num_leaves': 94, 'lambda_l1': 4.573524150080958e-08, 'lambda_l2': 2.057860977686986e-08, 'min_split_gain': 6.160223829006303e-06}. Best is trial 206 with value: 15.127761798089589.\n"
     ]
    },
    {
     "data": {
      "application/vnd.jupyter.widget-view+json": {
       "model_id": "1b3d88ebfd104210a8979b421dfd6383",
       "version_major": 2,
       "version_minor": 0
      },
      "text/plain": [
       "  0%|          | 0/333 [00:00<?, ?it/s]"
      ]
     },
     "metadata": {},
     "output_type": "display_data"
    },
    {
     "name": "stderr",
     "output_type": "stream",
     "text": [
      "[I 2024-05-20 06:23:52,326] Trial 216 finished with value: 15.358755706359437 and parameters: {'lookback_days': 29, 'num_boost_rounds': 341, 'learning_rate': 0.0830946269458685, 'max_depth': 3, 'num_leaves': 86, 'lambda_l1': 1.0168473552913991e-07, 'lambda_l2': 1.0047043652761658e-07, 'min_split_gain': 5.048809395089594e-05}. Best is trial 206 with value: 15.127761798089589.\n"
     ]
    },
    {
     "data": {
      "application/vnd.jupyter.widget-view+json": {
       "model_id": "0cfb98f1ddae446ba1fa16d80f30cd55",
       "version_major": 2,
       "version_minor": 0
      },
      "text/plain": [
       "  0%|          | 0/333 [00:00<?, ?it/s]"
      ]
     },
     "metadata": {},
     "output_type": "display_data"
    },
    {
     "name": "stderr",
     "output_type": "stream",
     "text": [
      "[I 2024-05-20 06:25:12,176] Trial 217 finished with value: 15.249466089790099 and parameters: {'lookback_days': 28, 'num_boost_rounds': 377, 'learning_rate': 0.04196297998338445, 'max_depth': 3, 'num_leaves': 97, 'lambda_l1': 6.012197167405705e-08, 'lambda_l2': 3.795917441314771e-08, 'min_split_gain': 0.0007115070423225429}. Best is trial 206 with value: 15.127761798089589.\n"
     ]
    },
    {
     "data": {
      "application/vnd.jupyter.widget-view+json": {
       "model_id": "436f730cf0cf42ecb8a42ce62e256393",
       "version_major": 2,
       "version_minor": 0
      },
      "text/plain": [
       "  0%|          | 0/333 [00:00<?, ?it/s]"
      ]
     },
     "metadata": {},
     "output_type": "display_data"
    },
    {
     "name": "stderr",
     "output_type": "stream",
     "text": [
      "[I 2024-05-20 06:26:32,518] Trial 218 finished with value: 15.216338640391458 and parameters: {'lookback_days': 30, 'num_boost_rounds': 365, 'learning_rate': 0.059617509156131614, 'max_depth': 3, 'num_leaves': 82, 'lambda_l1': 0.0013877491262433014, 'lambda_l2': 2.1080428597480624e-07, 'min_split_gain': 9.280871381253673e-06}. Best is trial 206 with value: 15.127761798089589.\n"
     ]
    },
    {
     "data": {
      "application/vnd.jupyter.widget-view+json": {
       "model_id": "09a57352d61b4158899b33dee7b40195",
       "version_major": 2,
       "version_minor": 0
      },
      "text/plain": [
       "  0%|          | 0/333 [00:00<?, ?it/s]"
      ]
     },
     "metadata": {},
     "output_type": "display_data"
    },
    {
     "name": "stderr",
     "output_type": "stream",
     "text": [
      "[I 2024-05-20 06:27:49,565] Trial 219 finished with value: 15.294675090697211 and parameters: {'lookback_days': 29, 'num_boost_rounds': 349, 'learning_rate': 0.07392358796933983, 'max_depth': 3, 'num_leaves': 90, 'lambda_l1': 1.4632946889300046e-08, 'lambda_l2': 3.216712214749004e-07, 'min_split_gain': 3.123577892562085e-05}. Best is trial 206 with value: 15.127761798089589.\n"
     ]
    },
    {
     "data": {
      "application/vnd.jupyter.widget-view+json": {
       "model_id": "e29a61aa1fc04b1cbb274feb580c096c",
       "version_major": 2,
       "version_minor": 0
      },
      "text/plain": [
       "  0%|          | 0/333 [00:00<?, ?it/s]"
      ]
     },
     "metadata": {},
     "output_type": "display_data"
    },
    {
     "name": "stderr",
     "output_type": "stream",
     "text": [
      "[I 2024-05-20 06:29:33,531] Trial 220 finished with value: 19.810410558035784 and parameters: {'lookback_days': 27, 'num_boost_rounds': 392, 'learning_rate': 0.003142876569494116, 'max_depth': 4, 'num_leaves': 95, 'lambda_l1': 3.4142939928384275e-08, 'lambda_l2': 7.150801988978924e-08, 'min_split_gain': 4.283625588844313e-06}. Best is trial 206 with value: 15.127761798089589.\n"
     ]
    },
    {
     "data": {
      "application/vnd.jupyter.widget-view+json": {
       "model_id": "be7291474edf4919987b0d340b07e10c",
       "version_major": 2,
       "version_minor": 0
      },
      "text/plain": [
       "  0%|          | 0/333 [00:00<?, ?it/s]"
      ]
     },
     "metadata": {},
     "output_type": "display_data"
    },
    {
     "name": "stderr",
     "output_type": "stream",
     "text": [
      "[I 2024-05-20 06:30:44,911] Trial 221 finished with value: 16.846610592700205 and parameters: {'lookback_days': 17, 'num_boost_rounds': 377, 'learning_rate': 0.041374694287570214, 'max_depth': 3, 'num_leaves': 87, 'lambda_l1': 1.3070129339239138e-06, 'lambda_l2': 5.794040623056028e-07, 'min_split_gain': 1.1309501425260498e-05}. Best is trial 206 with value: 15.127761798089589.\n"
     ]
    },
    {
     "data": {
      "application/vnd.jupyter.widget-view+json": {
       "model_id": "0d36db8afad74d76986cfc6b360e8bd9",
       "version_major": 2,
       "version_minor": 0
      },
      "text/plain": [
       "  0%|          | 0/333 [00:00<?, ?it/s]"
      ]
     },
     "metadata": {},
     "output_type": "display_data"
    },
    {
     "name": "stderr",
     "output_type": "stream",
     "text": [
      "[I 2024-05-20 06:32:04,706] Trial 222 finished with value: 15.157164986767121 and parameters: {'lookback_days': 28, 'num_boost_rounds': 372, 'learning_rate': 0.04985498464924247, 'max_depth': 3, 'num_leaves': 87, 'lambda_l1': 5.23569575077349e-06, 'lambda_l2': 4.571851985267784e-07, 'min_split_gain': 8.75962252050813e-06}. Best is trial 206 with value: 15.127761798089589.\n"
     ]
    },
    {
     "data": {
      "application/vnd.jupyter.widget-view+json": {
       "model_id": "cb2250e5b67149a29825865f8aa0d01e",
       "version_major": 2,
       "version_minor": 0
      },
      "text/plain": [
       "  0%|          | 0/333 [00:00<?, ?it/s]"
      ]
     },
     "metadata": {},
     "output_type": "display_data"
    },
    {
     "name": "stderr",
     "output_type": "stream",
     "text": [
      "[I 2024-05-20 06:33:22,815] Trial 223 finished with value: 15.10588381215759 and parameters: {'lookback_days': 28, 'num_boost_rounds': 367, 'learning_rate': 0.05143495839561042, 'max_depth': 3, 'num_leaves': 93, 'lambda_l1': 3.911377818346014e-06, 'lambda_l2': 3.885771277445717e-07, 'min_split_gain': 7.777805350237196e-06}. Best is trial 223 with value: 15.10588381215759.\n"
     ]
    },
    {
     "data": {
      "application/vnd.jupyter.widget-view+json": {
       "model_id": "3d4f4fa7966f4e5baeb05080d89c9275",
       "version_major": 2,
       "version_minor": 0
      },
      "text/plain": [
       "  0%|          | 0/333 [00:00<?, ?it/s]"
      ]
     },
     "metadata": {},
     "output_type": "display_data"
    },
    {
     "name": "stderr",
     "output_type": "stream",
     "text": [
      "[I 2024-05-20 06:34:40,210] Trial 224 finished with value: 15.383882534468906 and parameters: {'lookback_days': 27, 'num_boost_rounds': 367, 'learning_rate': 0.03170223248123566, 'max_depth': 3, 'num_leaves': 92, 'lambda_l1': 4.819333382758702e-06, 'lambda_l2': 4.465060052546188e-07, 'min_split_gain': 6.842490051877792e-06}. Best is trial 223 with value: 15.10588381215759.\n"
     ]
    },
    {
     "data": {
      "application/vnd.jupyter.widget-view+json": {
       "model_id": "f82903f1a15148528ca59b782bafa4dd",
       "version_major": 2,
       "version_minor": 0
      },
      "text/plain": [
       "  0%|          | 0/333 [00:00<?, ?it/s]"
      ]
     },
     "metadata": {},
     "output_type": "display_data"
    },
    {
     "name": "stderr",
     "output_type": "stream",
     "text": [
      "[I 2024-05-20 06:36:01,607] Trial 225 finished with value: 15.15830680012387 and parameters: {'lookback_days': 28, 'num_boost_rounds': 387, 'learning_rate': 0.05077351291150671, 'max_depth': 3, 'num_leaves': 89, 'lambda_l1': 1.7929846360865815e-05, 'lambda_l2': 3.876247654167942e-07, 'min_split_gain': 1.6277680989645815e-05}. Best is trial 223 with value: 15.10588381215759.\n"
     ]
    },
    {
     "data": {
      "application/vnd.jupyter.widget-view+json": {
       "model_id": "1de45a8e1dde4978b53577c0bd09b08f",
       "version_major": 2,
       "version_minor": 0
      },
      "text/plain": [
       "  0%|          | 0/333 [00:00<?, ?it/s]"
      ]
     },
     "metadata": {},
     "output_type": "display_data"
    },
    {
     "name": "stderr",
     "output_type": "stream",
     "text": [
      "[I 2024-05-20 06:37:22,724] Trial 226 finished with value: 15.174533260579574 and parameters: {'lookback_days': 28, 'num_boost_rounds': 387, 'learning_rate': 0.049555061039336254, 'max_depth': 3, 'num_leaves': 89, 'lambda_l1': 1.1619818366174533e-05, 'lambda_l2': 4.232014444875869e-07, 'min_split_gain': 1.8186269891990496e-05}. Best is trial 223 with value: 15.10588381215759.\n"
     ]
    },
    {
     "data": {
      "application/vnd.jupyter.widget-view+json": {
       "model_id": "67fcf9086e954f6899bc008814624f8f",
       "version_major": 2,
       "version_minor": 0
      },
      "text/plain": [
       "  0%|          | 0/333 [00:00<?, ?it/s]"
      ]
     },
     "metadata": {},
     "output_type": "display_data"
    },
    {
     "name": "stderr",
     "output_type": "stream",
     "text": [
      "[I 2024-05-20 06:38:43,304] Trial 227 finished with value: 15.200095130416688 and parameters: {'lookback_days': 28, 'num_boost_rounds': 398, 'learning_rate': 0.03773477048085599, 'max_depth': 3, 'num_leaves': 88, 'lambda_l1': 1.0638118612147882e-05, 'lambda_l2': 4.411926061121373e-07, 'min_split_gain': 2.1511169190420603e-05}. Best is trial 223 with value: 15.10588381215759.\n"
     ]
    },
    {
     "data": {
      "application/vnd.jupyter.widget-view+json": {
       "model_id": "0c8e1ee675e3475786b9e18da96d3d8d",
       "version_major": 2,
       "version_minor": 0
      },
      "text/plain": [
       "  0%|          | 0/333 [00:00<?, ?it/s]"
      ]
     },
     "metadata": {},
     "output_type": "display_data"
    },
    {
     "name": "stderr",
     "output_type": "stream",
     "text": [
      "[I 2024-05-20 06:40:02,681] Trial 228 finished with value: 15.29876806691397 and parameters: {'lookback_days': 26, 'num_boost_rounds': 396, 'learning_rate': 0.05049682321913861, 'max_depth': 3, 'num_leaves': 89, 'lambda_l1': 1.3930769277732699e-05, 'lambda_l2': 4.179175199797612e-07, 'min_split_gain': 2.2659269912545752e-05}. Best is trial 223 with value: 15.10588381215759.\n"
     ]
    },
    {
     "data": {
      "application/vnd.jupyter.widget-view+json": {
       "model_id": "fb9a48be3f34466c9f58f030d51a4c93",
       "version_major": 2,
       "version_minor": 0
      },
      "text/plain": [
       "  0%|          | 0/333 [00:00<?, ?it/s]"
      ]
     },
     "metadata": {},
     "output_type": "display_data"
    },
    {
     "name": "stderr",
     "output_type": "stream",
     "text": [
      "[I 2024-05-20 06:41:31,094] Trial 229 finished with value: 17.04940747624987 and parameters: {'lookback_days': 28, 'num_boost_rounds': 401, 'learning_rate': 0.006204693390506588, 'max_depth': 3, 'num_leaves': 86, 'lambda_l1': 1.7550265177509196e-05, 'lambda_l2': 1.4782868688740068e-06, 'min_split_gain': 1.6871930988022254e-05}. Best is trial 223 with value: 15.10588381215759.\n"
     ]
    },
    {
     "data": {
      "application/vnd.jupyter.widget-view+json": {
       "model_id": "8782140042ed491da420cce956ceed67",
       "version_major": 2,
       "version_minor": 0
      },
      "text/plain": [
       "  0%|          | 0/333 [00:00<?, ?it/s]"
      ]
     },
     "metadata": {},
     "output_type": "display_data"
    },
    {
     "name": "stderr",
     "output_type": "stream",
     "text": [
      "[I 2024-05-20 06:42:50,687] Trial 230 finished with value: 15.302771873597539 and parameters: {'lookback_days': 27, 'num_boost_rounds': 386, 'learning_rate': 0.036567879682305536, 'max_depth': 3, 'num_leaves': 89, 'lambda_l1': 6.8004319510395e-06, 'lambda_l2': 2.7590933725968015e-07, 'min_split_gain': 3.910798758248957e-05}. Best is trial 223 with value: 15.10588381215759.\n"
     ]
    },
    {
     "data": {
      "application/vnd.jupyter.widget-view+json": {
       "model_id": "9373ce3013ae4397945a56b65918917d",
       "version_major": 2,
       "version_minor": 0
      },
      "text/plain": [
       "  0%|          | 0/333 [00:00<?, ?it/s]"
      ]
     },
     "metadata": {},
     "output_type": "display_data"
    },
    {
     "name": "stderr",
     "output_type": "stream",
     "text": [
      "[I 2024-05-20 06:44:11,028] Trial 231 finished with value: 15.214903728246204 and parameters: {'lookback_days': 28, 'num_boost_rounds': 390, 'learning_rate': 0.04625971936529771, 'max_depth': 3, 'num_leaves': 94, 'lambda_l1': 5.044888360091244e-06, 'lambda_l2': 4.161260046107615e-07, 'min_split_gain': 1.9609608533080397e-05}. Best is trial 223 with value: 15.10588381215759.\n"
     ]
    },
    {
     "data": {
      "application/vnd.jupyter.widget-view+json": {
       "model_id": "ab02491feaab44a7941e3030dbc544c5",
       "version_major": 2,
       "version_minor": 0
      },
      "text/plain": [
       "  0%|          | 0/333 [00:00<?, ?it/s]"
      ]
     },
     "metadata": {},
     "output_type": "display_data"
    },
    {
     "name": "stderr",
     "output_type": "stream",
     "text": [
      "[I 2024-05-20 06:45:34,066] Trial 232 finished with value: 15.203619977608765 and parameters: {'lookback_days': 28, 'num_boost_rounds': 409, 'learning_rate': 0.050403693660052616, 'max_depth': 3, 'num_leaves': 91, 'lambda_l1': 3.5123552115707735e-05, 'lambda_l2': 2.3285793833341572e-07, 'min_split_gain': 5.4208381202966005e-06}. Best is trial 223 with value: 15.10588381215759.\n"
     ]
    },
    {
     "data": {
      "application/vnd.jupyter.widget-view+json": {
       "model_id": "c58fe2e14a26457c9666e7f8ef0adfec",
       "version_major": 2,
       "version_minor": 0
      },
      "text/plain": [
       "  0%|          | 0/333 [00:00<?, ?it/s]"
      ]
     },
     "metadata": {},
     "output_type": "display_data"
    },
    {
     "name": "stderr",
     "output_type": "stream",
     "text": [
      "[I 2024-05-20 06:46:57,926] Trial 233 finished with value: 15.174725655847594 and parameters: {'lookback_days': 28, 'num_boost_rounds': 408, 'learning_rate': 0.05404681361095419, 'max_depth': 3, 'num_leaves': 91, 'lambda_l1': 2.491617726515225e-05, 'lambda_l2': 2.4696255884439163e-07, 'min_split_gain': 7.746779089180073e-06}. Best is trial 223 with value: 15.10588381215759.\n"
     ]
    },
    {
     "data": {
      "application/vnd.jupyter.widget-view+json": {
       "model_id": "d64bbfcdef1f42d1a372d3914440f20f",
       "version_major": 2,
       "version_minor": 0
      },
      "text/plain": [
       "  0%|          | 0/333 [00:00<?, ?it/s]"
      ]
     },
     "metadata": {},
     "output_type": "display_data"
    },
    {
     "name": "stderr",
     "output_type": "stream",
     "text": [
      "[I 2024-05-20 06:49:56,525] Trial 234 finished with value: 16.39483792780408 and parameters: {'lookback_days': 28, 'num_boost_rounds': 408, 'learning_rate': 0.05631477617147936, 'max_depth': 13, 'num_leaves': 88, 'lambda_l1': 9.70734080228813e-06, 'lambda_l2': 3.104087694923841e-07, 'min_split_gain': 1.4232363164990785e-05}. Best is trial 223 with value: 15.10588381215759.\n"
     ]
    },
    {
     "data": {
      "application/vnd.jupyter.widget-view+json": {
       "model_id": "d11f98cb0ede4cbbbe42a22dfc9d8bb5",
       "version_major": 2,
       "version_minor": 0
      },
      "text/plain": [
       "  0%|          | 0/333 [00:00<?, ?it/s]"
      ]
     },
     "metadata": {},
     "output_type": "display_data"
    },
    {
     "name": "stderr",
     "output_type": "stream",
     "text": [
      "[I 2024-05-20 06:51:20,714] Trial 235 finished with value: 15.225004508103087 and parameters: {'lookback_days': 27, 'num_boost_rounds': 415, 'learning_rate': 0.054989582003377994, 'max_depth': 3, 'num_leaves': 85, 'lambda_l1': 7.259818045061064e-06, 'lambda_l2': 1.0181638060334058e-06, 'min_split_gain': 8.707282980825269e-06}. Best is trial 223 with value: 15.10588381215759.\n"
     ]
    },
    {
     "data": {
      "application/vnd.jupyter.widget-view+json": {
       "model_id": "3a1b1726d17241a5a98cc4473afd4931",
       "version_major": 2,
       "version_minor": 0
      },
      "text/plain": [
       "  0%|          | 0/333 [00:00<?, ?it/s]"
      ]
     },
     "metadata": {},
     "output_type": "display_data"
    },
    {
     "name": "stderr",
     "output_type": "stream",
     "text": [
      "[I 2024-05-20 06:52:43,097] Trial 236 finished with value: 15.229538349405251 and parameters: {'lookback_days': 28, 'num_boost_rounds': 397, 'learning_rate': 0.03745698609782931, 'max_depth': 3, 'num_leaves': 92, 'lambda_l1': 3.192367981075837e-05, 'lambda_l2': 5.354945459305744e-07, 'min_split_gain': 2.975604559332092e-05}. Best is trial 223 with value: 15.10588381215759.\n"
     ]
    },
    {
     "data": {
      "application/vnd.jupyter.widget-view+json": {
       "model_id": "6793bca286af44b4af0e26b0d2d05029",
       "version_major": 2,
       "version_minor": 0
      },
      "text/plain": [
       "  0%|          | 0/333 [00:00<?, ?it/s]"
      ]
     },
     "metadata": {},
     "output_type": "display_data"
    },
    {
     "name": "stderr",
     "output_type": "stream",
     "text": [
      "[I 2024-05-20 06:54:02,222] Trial 237 finished with value: 15.261885793139834 and parameters: {'lookback_days': 27, 'num_boost_rounds': 385, 'learning_rate': 0.044825988017147385, 'max_depth': 3, 'num_leaves': 89, 'lambda_l1': 1.6170983817985465e-05, 'lambda_l2': 1.7157397841870763e-07, 'min_split_gain': 9.061294402951657e-06}. Best is trial 223 with value: 15.10588381215759.\n"
     ]
    },
    {
     "data": {
      "application/vnd.jupyter.widget-view+json": {
       "model_id": "f97efc3769ae4c78a72d7c936753b581",
       "version_major": 2,
       "version_minor": 0
      },
      "text/plain": [
       "  0%|          | 0/333 [00:00<?, ?it/s]"
      ]
     },
     "metadata": {},
     "output_type": "display_data"
    },
    {
     "name": "stderr",
     "output_type": "stream",
     "text": [
      "[I 2024-05-20 06:55:22,022] Trial 238 finished with value: 15.157710840715177 and parameters: {'lookback_days': 28, 'num_boost_rounds': 382, 'learning_rate': 0.06237066679604815, 'max_depth': 3, 'num_leaves': 87, 'lambda_l1': 1.291044643237292e-05, 'lambda_l2': 3.590671205129203e-07, 'min_split_gain': 1.5597132402271682e-05}. Best is trial 223 with value: 15.10588381215759.\n"
     ]
    },
    {
     "data": {
      "application/vnd.jupyter.widget-view+json": {
       "model_id": "a8c56acc7a294b5f96a147d70591ae50",
       "version_major": 2,
       "version_minor": 0
      },
      "text/plain": [
       "  0%|          | 0/333 [00:00<?, ?it/s]"
      ]
     },
     "metadata": {},
     "output_type": "display_data"
    },
    {
     "name": "stderr",
     "output_type": "stream",
     "text": [
      "[I 2024-05-20 06:56:41,184] Trial 239 finished with value: 15.302613803123943 and parameters: {'lookback_days': 26, 'num_boost_rounds': 379, 'learning_rate': 0.06193459771402449, 'max_depth': 3, 'num_leaves': 93, 'lambda_l1': 1.646857268404659e-05, 'lambda_l2': 2.2918740601944718e-07, 'min_split_gain': 1.3869445518550197e-05}. Best is trial 223 with value: 15.10588381215759.\n"
     ]
    },
    {
     "data": {
      "application/vnd.jupyter.widget-view+json": {
       "model_id": "93d3dbf951604dd2a34266ad3b133f90",
       "version_major": 2,
       "version_minor": 0
      },
      "text/plain": [
       "  0%|          | 0/333 [00:00<?, ?it/s]"
      ]
     },
     "metadata": {},
     "output_type": "display_data"
    },
    {
     "name": "stderr",
     "output_type": "stream",
     "text": [
      "[I 2024-05-20 06:57:59,085] Trial 240 finished with value: 15.203762233129149 and parameters: {'lookback_days': 27, 'num_boost_rounds': 372, 'learning_rate': 0.06264444950135307, 'max_depth': 3, 'num_leaves': 86, 'lambda_l1': 5.7421350066238836e-06, 'lambda_l2': 1.4044760945256385e-07, 'min_split_gain': 6.158293152191879e-05}. Best is trial 223 with value: 15.10588381215759.\n"
     ]
    },
    {
     "data": {
      "application/vnd.jupyter.widget-view+json": {
       "model_id": "88cb5fb4de5849ab93c562fde7ce0f2e",
       "version_major": 2,
       "version_minor": 0
      },
      "text/plain": [
       "  0%|          | 0/333 [00:00<?, ?it/s]"
      ]
     },
     "metadata": {},
     "output_type": "display_data"
    },
    {
     "name": "stderr",
     "output_type": "stream",
     "text": [
      "[I 2024-05-20 06:59:18,413] Trial 241 finished with value: 15.194787892200432 and parameters: {'lookback_days': 28, 'num_boost_rounds': 384, 'learning_rate': 0.05390967512963096, 'max_depth': 3, 'num_leaves': 88, 'lambda_l1': 9.599013064109027e-06, 'lambda_l2': 4.263673198806498e-07, 'min_split_gain': 2.346480672048197e-05}. Best is trial 223 with value: 15.10588381215759.\n"
     ]
    },
    {
     "data": {
      "application/vnd.jupyter.widget-view+json": {
       "model_id": "97ab9dce48344c0e9d2ff89d4e6805fb",
       "version_major": 2,
       "version_minor": 0
      },
      "text/plain": [
       "  0%|          | 0/333 [00:00<?, ?it/s]"
      ]
     },
     "metadata": {},
     "output_type": "display_data"
    },
    {
     "name": "stderr",
     "output_type": "stream",
     "text": [
      "[I 2024-05-20 07:00:38,751] Trial 242 finished with value: 15.251419881944539 and parameters: {'lookback_days': 28, 'num_boost_rounds': 381, 'learning_rate': 0.05108663171266772, 'max_depth': 3, 'num_leaves': 87, 'lambda_l1': 1.2041562028909435e-05, 'lambda_l2': 8.14960561815326e-07, 'min_split_gain': 7.5444346939231275e-06}. Best is trial 223 with value: 15.10588381215759.\n"
     ]
    },
    {
     "data": {
      "application/vnd.jupyter.widget-view+json": {
       "model_id": "2f462d6379b64350809ae2e05d34a348",
       "version_major": 2,
       "version_minor": 0
      },
      "text/plain": [
       "  0%|          | 0/333 [00:00<?, ?it/s]"
      ]
     },
     "metadata": {},
     "output_type": "display_data"
    },
    {
     "name": "stderr",
     "output_type": "stream",
     "text": [
      "[I 2024-05-20 07:01:57,870] Trial 243 finished with value: 15.29393453491501 and parameters: {'lookback_days': 29, 'num_boost_rounds': 359, 'learning_rate': 0.06908878282455767, 'max_depth': 3, 'num_leaves': 91, 'lambda_l1': 4.758946701189531e-05, 'lambda_l2': 3.031696619268602e-07, 'min_split_gain': 3.544644013504679e-05}. Best is trial 223 with value: 15.10588381215759.\n"
     ]
    },
    {
     "data": {
      "application/vnd.jupyter.widget-view+json": {
       "model_id": "a55230b5a48345c99023bfaf68f0c023",
       "version_major": 2,
       "version_minor": 0
      },
      "text/plain": [
       "  0%|          | 0/333 [00:00<?, ?it/s]"
      ]
     },
     "metadata": {},
     "output_type": "display_data"
    },
    {
     "name": "stderr",
     "output_type": "stream",
     "text": [
      "[I 2024-05-20 07:03:18,336] Trial 244 finished with value: 15.204462561275673 and parameters: {'lookback_days': 28, 'num_boost_rounds': 388, 'learning_rate': 0.05675430415127752, 'max_depth': 3, 'num_leaves': 83, 'lambda_l1': 3.4118463383925234e-06, 'lambda_l2': 5.794398283713186e-07, 'min_split_gain': 1.6482279263752154e-05}. Best is trial 223 with value: 15.10588381215759.\n"
     ]
    },
    {
     "data": {
      "application/vnd.jupyter.widget-view+json": {
       "model_id": "829af85d45794610aedadf8f41df58e8",
       "version_major": 2,
       "version_minor": 0
      },
      "text/plain": [
       "  0%|          | 0/333 [00:00<?, ?it/s]"
      ]
     },
     "metadata": {},
     "output_type": "display_data"
    },
    {
     "name": "stderr",
     "output_type": "stream",
     "text": [
      "[I 2024-05-20 07:04:38,572] Trial 245 finished with value: 15.301460200603044 and parameters: {'lookback_days': 29, 'num_boost_rounds': 376, 'learning_rate': 0.0477574725884356, 'max_depth': 3, 'num_leaves': 27, 'lambda_l1': 2.4555048895219988e-06, 'lambda_l2': 3.525888947582899e-07, 'min_split_gain': 5.511428977330277e-06}. Best is trial 223 with value: 15.10588381215759.\n"
     ]
    },
    {
     "data": {
      "application/vnd.jupyter.widget-view+json": {
       "model_id": "ad54f3b3b304428cb36f0cb2caee7d18",
       "version_major": 2,
       "version_minor": 0
      },
      "text/plain": [
       "  0%|          | 0/333 [00:00<?, ?it/s]"
      ]
     },
     "metadata": {},
     "output_type": "display_data"
    },
    {
     "name": "stderr",
     "output_type": "stream",
     "text": [
      "[I 2024-05-20 07:05:58,166] Trial 246 finished with value: 15.202150571030003 and parameters: {'lookback_days': 28, 'num_boost_rounds': 367, 'learning_rate': 0.06663332395899346, 'max_depth': 3, 'num_leaves': 90, 'lambda_l1': 9.242534723424748e-06, 'lambda_l2': 2.0422831234727958e-07, 'min_split_gain': 2.895513873168891e-06}. Best is trial 223 with value: 15.10588381215759.\n"
     ]
    },
    {
     "data": {
      "application/vnd.jupyter.widget-view+json": {
       "model_id": "4d735cac95d344c7a19368caaf80b74b",
       "version_major": 2,
       "version_minor": 0
      },
      "text/plain": [
       "  0%|          | 0/333 [00:00<?, ?it/s]"
      ]
     },
     "metadata": {},
     "output_type": "display_data"
    },
    {
     "name": "stderr",
     "output_type": "stream",
     "text": [
      "[I 2024-05-20 07:07:18,563] Trial 247 finished with value: 15.163233884934955 and parameters: {'lookback_days': 27, 'num_boost_rounds': 385, 'learning_rate': 0.05614890540533071, 'max_depth': 3, 'num_leaves': 98, 'lambda_l1': 4.0470022785189275e-06, 'lambda_l2': 4.6420820078383384e-07, 'min_split_gain': 1.0713988381779792e-05}. Best is trial 223 with value: 15.10588381215759.\n"
     ]
    },
    {
     "data": {
      "application/vnd.jupyter.widget-view+json": {
       "model_id": "2687718837c54dd8807c604d8189a9e5",
       "version_major": 2,
       "version_minor": 0
      },
      "text/plain": [
       "  0%|          | 0/333 [00:00<?, ?it/s]"
      ]
     },
     "metadata": {},
     "output_type": "display_data"
    },
    {
     "name": "stderr",
     "output_type": "stream",
     "text": [
      "[I 2024-05-20 07:08:37,645] Trial 248 finished with value: 15.261255696489737 and parameters: {'lookback_days': 27, 'num_boost_rounds': 389, 'learning_rate': 0.05312383098203707, 'max_depth': 3, 'num_leaves': 101, 'lambda_l1': 1.932845840481297e-05, 'lambda_l2': 6.009475382228886e-07, 'min_split_gain': 1.0049289798564015e-05}. Best is trial 223 with value: 15.10588381215759.\n"
     ]
    },
    {
     "data": {
      "application/vnd.jupyter.widget-view+json": {
       "model_id": "5c487601c03549aa9477c9ddb3023822",
       "version_major": 2,
       "version_minor": 0
      },
      "text/plain": [
       "  0%|          | 0/333 [00:00<?, ?it/s]"
      ]
     },
     "metadata": {},
     "output_type": "display_data"
    },
    {
     "name": "stderr",
     "output_type": "stream",
     "text": [
      "[I 2024-05-20 07:09:58,473] Trial 249 finished with value: 15.23317559864575 and parameters: {'lookback_days': 27, 'num_boost_rounds': 400, 'learning_rate': 0.04258514201276201, 'max_depth': 3, 'num_leaves': 97, 'lambda_l1': 2.5253198776060052e-05, 'lambda_l2': 3.8996297479815107e-07, 'min_split_gain': 2.335721135719203e-05}. Best is trial 223 with value: 15.10588381215759.\n"
     ]
    },
    {
     "data": {
      "application/vnd.jupyter.widget-view+json": {
       "model_id": "4bcfc5bd496e4c84a3f0fff8e6f7dea4",
       "version_major": 2,
       "version_minor": 0
      },
      "text/plain": [
       "  0%|          | 0/333 [00:00<?, ?it/s]"
      ]
     },
     "metadata": {},
     "output_type": "display_data"
    },
    {
     "name": "stderr",
     "output_type": "stream",
     "text": [
      "[I 2024-05-20 07:11:20,256] Trial 250 finished with value: 32.76563783298963 and parameters: {'lookback_days': 26, 'num_boost_rounds': 383, 'learning_rate': 1.2318618980342377e-05, 'max_depth': 3, 'num_leaves': 98, 'lambda_l1': 4.561254301297622e-06, 'lambda_l2': 2.473682305762336e-07, 'min_split_gain': 1.3839833477954708e-05}. Best is trial 223 with value: 15.10588381215759.\n"
     ]
    },
    {
     "data": {
      "application/vnd.jupyter.widget-view+json": {
       "model_id": "97ff0367538f458ab7ea3ae270cf83b1",
       "version_major": 2,
       "version_minor": 0
      },
      "text/plain": [
       "  0%|          | 0/333 [00:00<?, ?it/s]"
      ]
     },
     "metadata": {},
     "output_type": "display_data"
    },
    {
     "name": "stderr",
     "output_type": "stream",
     "text": [
      "[I 2024-05-20 07:12:37,773] Trial 251 finished with value: 15.185968395956492 and parameters: {'lookback_days': 27, 'num_boost_rounds': 372, 'learning_rate': 0.058460893575379876, 'max_depth': 3, 'num_leaves': 93, 'lambda_l1': 3.849633103798358e-06, 'lambda_l2': 8.748153806202602e-07, 'min_split_gain': 6.268267105843252e-06}. Best is trial 223 with value: 15.10588381215759.\n"
     ]
    },
    {
     "data": {
      "application/vnd.jupyter.widget-view+json": {
       "model_id": "c47a9451a45e4de28117dc509b5948f1",
       "version_major": 2,
       "version_minor": 0
      },
      "text/plain": [
       "  0%|          | 0/333 [00:00<?, ?it/s]"
      ]
     },
     "metadata": {},
     "output_type": "display_data"
    },
    {
     "name": "stderr",
     "output_type": "stream",
     "text": [
      "[I 2024-05-20 07:14:06,383] Trial 252 finished with value: 15.657750774766551 and parameters: {'lookback_days': 27, 'num_boost_rounds': 373, 'learning_rate': 0.05458288707335434, 'max_depth': 4, 'num_leaves': 92, 'lambda_l1': 3.20156876741246e-06, 'lambda_l2': 1.0178921758321247e-06, 'min_split_gain': 3.97695011130513e-06}. Best is trial 223 with value: 15.10588381215759.\n"
     ]
    },
    {
     "data": {
      "application/vnd.jupyter.widget-view+json": {
       "model_id": "b20626e0f059439d86371b21b252db24",
       "version_major": 2,
       "version_minor": 0
      },
      "text/plain": [
       "  0%|          | 0/333 [00:00<?, ?it/s]"
      ]
     },
     "metadata": {},
     "output_type": "display_data"
    },
    {
     "name": "stderr",
     "output_type": "stream",
     "text": [
      "[I 2024-05-20 07:15:27,637] Trial 253 finished with value: 15.308653885252538 and parameters: {'lookback_days': 27, 'num_boost_rounds': 406, 'learning_rate': 0.03238778110378808, 'max_depth': 3, 'num_leaves': 95, 'lambda_l1': 6.103720696876452e-06, 'lambda_l2': 7.983168418480764e-07, 'min_split_gain': 7.244316476042493e-06}. Best is trial 223 with value: 15.10588381215759.\n"
     ]
    },
    {
     "data": {
      "application/vnd.jupyter.widget-view+json": {
       "model_id": "5261f4d60ed74a3b8d18114965b3c69e",
       "version_major": 2,
       "version_minor": 0
      },
      "text/plain": [
       "  0%|          | 0/333 [00:00<?, ?it/s]"
      ]
     },
     "metadata": {},
     "output_type": "display_data"
    },
    {
     "name": "stderr",
     "output_type": "stream",
     "text": [
      "[I 2024-05-20 07:16:27,395] Trial 254 finished with value: 15.618364554146977 and parameters: {'lookback_days': 25, 'num_boost_rounds': 205, 'learning_rate': 0.04603069927787605, 'max_depth': 3, 'num_leaves': 90, 'lambda_l1': 1.9817455549307023e-06, 'lambda_l2': 5.200133768824815e-07, 'min_split_gain': 5.062011123055657e-06}. Best is trial 223 with value: 15.10588381215759.\n"
     ]
    },
    {
     "data": {
      "application/vnd.jupyter.widget-view+json": {
       "model_id": "f2c138f645ad4f5bb0f9b121ec753a20",
       "version_major": 2,
       "version_minor": 0
      },
      "text/plain": [
       "  0%|          | 0/333 [00:00<?, ?it/s]"
      ]
     },
     "metadata": {},
     "output_type": "display_data"
    },
    {
     "name": "stderr",
     "output_type": "stream",
     "text": [
      "[I 2024-05-20 07:17:45,110] Trial 255 finished with value: 15.401865858124994 and parameters: {'lookback_days': 26, 'num_boost_rounds': 382, 'learning_rate': 0.0625142347777134, 'max_depth': 3, 'num_leaves': 93, 'lambda_l1': 8.047838113706055e-06, 'lambda_l2': 3.688805201278833e-07, 'min_split_gain': 7.747550982370823e-06}. Best is trial 223 with value: 15.10588381215759.\n"
     ]
    },
    {
     "data": {
      "application/vnd.jupyter.widget-view+json": {
       "model_id": "c10102ca8e9c4bfa9c14a60e9e5ffa0a",
       "version_major": 2,
       "version_minor": 0
      },
      "text/plain": [
       "  0%|          | 0/333 [00:00<?, ?it/s]"
      ]
     },
     "metadata": {},
     "output_type": "display_data"
    },
    {
     "name": "stderr",
     "output_type": "stream",
     "text": [
      "[I 2024-05-20 07:19:04,022] Trial 256 finished with value: 15.090702565713762 and parameters: {'lookback_days': 28, 'num_boost_rounds': 392, 'learning_rate': 0.06909917442885449, 'max_depth': 3, 'num_leaves': 88, 'lambda_l1': 4.025467191249312e-06, 'lambda_l2': 1.2454961537826062e-06, 'min_split_gain': 2.5434484381686483e-06}. Best is trial 256 with value: 15.090702565713762.\n"
     ]
    },
    {
     "data": {
      "application/vnd.jupyter.widget-view+json": {
       "model_id": "b4e1b1bf63e24632a8ab3f97042a6738",
       "version_major": 2,
       "version_minor": 0
      },
      "text/plain": [
       "  0%|          | 0/333 [00:00<?, ?it/s]"
      ]
     },
     "metadata": {},
     "output_type": "display_data"
    },
    {
     "name": "stderr",
     "output_type": "stream",
     "text": [
      "[I 2024-05-20 07:20:36,400] Trial 257 finished with value: 15.704072385677899 and parameters: {'lookback_days': 28, 'num_boost_rounds': 392, 'learning_rate': 0.07375703741236536, 'max_depth': 4, 'num_leaves': 85, 'lambda_l1': 3.139450618216764e-06, 'lambda_l2': 1.289298841725303e-06, 'min_split_gain': 2.73319194025339e-06}. Best is trial 256 with value: 15.090702565713762.\n"
     ]
    },
    {
     "data": {
      "application/vnd.jupyter.widget-view+json": {
       "model_id": "e2fdc30baa024fb3906117e938d0504e",
       "version_major": 2,
       "version_minor": 0
      },
      "text/plain": [
       "  0%|          | 0/333 [00:00<?, ?it/s]"
      ]
     },
     "metadata": {},
     "output_type": "display_data"
    },
    {
     "name": "stderr",
     "output_type": "stream",
     "text": [
      "[I 2024-05-20 07:21:59,289] Trial 258 finished with value: 15.329670941194664 and parameters: {'lookback_days': 27, 'num_boost_rounds': 415, 'learning_rate': 0.07042265363685497, 'max_depth': 3, 'num_leaves': 95, 'lambda_l1': 2.3321907329727137e-06, 'lambda_l2': 0.19182126053135884, 'min_split_gain': 1.4347385072942241e-06}. Best is trial 256 with value: 15.090702565713762.\n"
     ]
    },
    {
     "data": {
      "application/vnd.jupyter.widget-view+json": {
       "model_id": "0a677b3e328f491bb60beba154174c5f",
       "version_major": 2,
       "version_minor": 0
      },
      "text/plain": [
       "  0%|          | 0/333 [00:00<?, ?it/s]"
      ]
     },
     "metadata": {},
     "output_type": "display_data"
    },
    {
     "name": "stderr",
     "output_type": "stream",
     "text": [
      "[I 2024-05-20 07:23:15,732] Trial 259 finished with value: 15.28116397420029 and parameters: {'lookback_days': 28, 'num_boost_rounds': 358, 'learning_rate': 0.04215710913089265, 'max_depth': 3, 'num_leaves': 93, 'lambda_l1': 3.5150891329794407e-06, 'lambda_l2': 2.1720360967627246e-06, 'min_split_gain': 2.157729754805784e-06}. Best is trial 256 with value: 15.090702565713762.\n"
     ]
    },
    {
     "data": {
      "application/vnd.jupyter.widget-view+json": {
       "model_id": "b1b9aa31a2ef4d25be998be3469f109b",
       "version_major": 2,
       "version_minor": 0
      },
      "text/plain": [
       "  0%|          | 0/333 [00:00<?, ?it/s]"
      ]
     },
     "metadata": {},
     "output_type": "display_data"
    },
    {
     "name": "stderr",
     "output_type": "stream",
     "text": [
      "[I 2024-05-20 07:24:32,759] Trial 260 finished with value: 15.196731593223442 and parameters: {'lookback_days': 28, 'num_boost_rounds': 371, 'learning_rate': 0.05990429217484249, 'max_depth': 3, 'num_leaves': 91, 'lambda_l1': 1.3742691488139034e-06, 'lambda_l2': 1.3149040176909292e-06, 'min_split_gain': 4.8926367237626726e-06}. Best is trial 256 with value: 15.090702565713762.\n"
     ]
    },
    {
     "data": {
      "application/vnd.jupyter.widget-view+json": {
       "model_id": "9a04eb69c1174f0aadca02106777b000",
       "version_major": 2,
       "version_minor": 0
      },
      "text/plain": [
       "  0%|          | 0/333 [00:00<?, ?it/s]"
      ]
     },
     "metadata": {},
     "output_type": "display_data"
    },
    {
     "name": "stderr",
     "output_type": "stream",
     "text": [
      "[I 2024-05-20 07:26:05,499] Trial 261 finished with value: 15.59320541402018 and parameters: {'lookback_days': 27, 'num_boost_rounds': 396, 'learning_rate': 0.07938372341183451, 'max_depth': 4, 'num_leaves': 87, 'lambda_l1': 4.750260975237166e-06, 'lambda_l2': 8.612887737047724e-07, 'min_split_gain': 3.821505369843595e-06}. Best is trial 256 with value: 15.090702565713762.\n"
     ]
    },
    {
     "data": {
      "application/vnd.jupyter.widget-view+json": {
       "model_id": "452ab58367954bd0bda8e66fec35651c",
       "version_major": 2,
       "version_minor": 0
      },
      "text/plain": [
       "  0%|          | 0/333 [00:00<?, ?it/s]"
      ]
     },
     "metadata": {},
     "output_type": "display_data"
    },
    {
     "name": "stderr",
     "output_type": "stream",
     "text": [
      "[I 2024-05-20 07:27:21,880] Trial 262 finished with value: 15.314783666384221 and parameters: {'lookback_days': 26, 'num_boost_rounds': 363, 'learning_rate': 0.04873951214166445, 'max_depth': 3, 'num_leaves': 100, 'lambda_l1': 9.0536609615507e-07, 'lambda_l2': 1.1937683762003872e-07, 'min_split_gain': 1.0294423636505604e-05}. Best is trial 256 with value: 15.090702565713762.\n"
     ]
    },
    {
     "data": {
      "application/vnd.jupyter.widget-view+json": {
       "model_id": "58f2186dfabc4388a6d50c1ae75d541c",
       "version_major": 2,
       "version_minor": 0
      },
      "text/plain": [
       "  0%|          | 0/333 [00:00<?, ?it/s]"
      ]
     },
     "metadata": {},
     "output_type": "display_data"
    },
    {
     "name": "stderr",
     "output_type": "stream",
     "text": [
      "[I 2024-05-20 07:28:39,859] Trial 263 finished with value: 15.35975595713227 and parameters: {'lookback_days': 29, 'num_boost_rounds': 373, 'learning_rate': 0.06150964541589991, 'max_depth': 3, 'num_leaves': 120, 'lambda_l1': 4.504818799324514e-06, 'lambda_l2': 1.554345674678999e-07, 'min_split_gain': 6.398322050495596e-06}. Best is trial 256 with value: 15.090702565713762.\n"
     ]
    },
    {
     "data": {
      "application/vnd.jupyter.widget-view+json": {
       "model_id": "4311feaff87345f4afefb84cb397fe48",
       "version_major": 2,
       "version_minor": 0
      },
      "text/plain": [
       "  0%|          | 0/333 [00:00<?, ?it/s]"
      ]
     },
     "metadata": {},
     "output_type": "display_data"
    },
    {
     "name": "stderr",
     "output_type": "stream",
     "text": [
      "[I 2024-05-20 07:31:39,498] Trial 264 finished with value: 30.347593749290944 and parameters: {'lookback_days': 27, 'num_boost_rounds': 405, 'learning_rate': 0.00031761629435578216, 'max_depth': 15, 'num_leaves': 84, 'lambda_l1': 6.35247243919339e-06, 'lambda_l2': 2.0772698436741204e-07, 'min_split_gain': 3.5771179061802206e-06}. Best is trial 256 with value: 15.090702565713762.\n"
     ]
    },
    {
     "data": {
      "application/vnd.jupyter.widget-view+json": {
       "model_id": "744c921a193347369b7f64ec066c6781",
       "version_major": 2,
       "version_minor": 0
      },
      "text/plain": [
       "  0%|          | 0/333 [00:00<?, ?it/s]"
      ]
     },
     "metadata": {},
     "output_type": "display_data"
    },
    {
     "name": "stderr",
     "output_type": "stream",
     "text": [
      "[I 2024-05-20 07:32:39,817] Trial 265 finished with value: 18.156884809427336 and parameters: {'lookback_days': 8, 'num_boost_rounds': 358, 'learning_rate': 0.03880130028622075, 'max_depth': 3, 'num_leaves': 89, 'lambda_l1': 1.7007448805062037e-06, 'lambda_l2': 1.7547952363853773e-06, 'min_split_gain': 1.0667493408723809e-05}. Best is trial 256 with value: 15.090702565713762.\n"
     ]
    },
    {
     "data": {
      "application/vnd.jupyter.widget-view+json": {
       "model_id": "529178559f6a4d0080c220d47ca02163",
       "version_major": 2,
       "version_minor": 0
      },
      "text/plain": [
       "  0%|          | 0/333 [00:00<?, ?it/s]"
      ]
     },
     "metadata": {},
     "output_type": "display_data"
    },
    {
     "name": "stderr",
     "output_type": "stream",
     "text": [
      "[I 2024-05-20 07:34:01,846] Trial 266 finished with value: 32.5858562443017 and parameters: {'lookback_days': 28, 'num_boost_rounds': 377, 'learning_rate': 4.1596402276634726e-05, 'max_depth': 3, 'num_leaves': 97, 'lambda_l1': 2.3907027126502163e-06, 'lambda_l2': 7.038842701460943e-07, 'min_split_gain': 2.4805607483176115e-06}. Best is trial 256 with value: 15.090702565713762.\n"
     ]
    },
    {
     "data": {
      "application/vnd.jupyter.widget-view+json": {
       "model_id": "082ea3c9804f42be9e6698cee3c2df52",
       "version_major": 2,
       "version_minor": 0
      },
      "text/plain": [
       "  0%|          | 0/333 [00:00<?, ?it/s]"
      ]
     },
     "metadata": {},
     "output_type": "display_data"
    },
    {
     "name": "stderr",
     "output_type": "stream",
     "text": [
      "[I 2024-05-20 07:35:23,192] Trial 267 finished with value: 15.299295808751488 and parameters: {'lookback_days': 29, 'num_boost_rounds': 393, 'learning_rate': 0.06897577027928674, 'max_depth': 3, 'num_leaves': 93, 'lambda_l1': 8.954306138092758e-05, 'lambda_l2': 5.361237005332668e-07, 'min_split_gain': 1.0696268497559343e-06}. Best is trial 256 with value: 15.090702565713762.\n"
     ]
    },
    {
     "data": {
      "application/vnd.jupyter.widget-view+json": {
       "model_id": "1578f9dd82b446cda0fe036cab178220",
       "version_major": 2,
       "version_minor": 0
      },
      "text/plain": [
       "  0%|          | 0/333 [00:00<?, ?it/s]"
      ]
     },
     "metadata": {},
     "output_type": "display_data"
    },
    {
     "name": "stderr",
     "output_type": "stream",
     "text": [
      "[I 2024-05-20 07:36:53,224] Trial 268 finished with value: 15.697078685514287 and parameters: {'lookback_days': 28, 'num_boost_rounds': 367, 'learning_rate': 0.052388756505371045, 'max_depth': 4, 'num_leaves': 90, 'lambda_l1': 1.3299181585861503e-05, 'lambda_l2': 2.706944520390318e-07, 'min_split_gain': 1.5254345442249075e-05}. Best is trial 256 with value: 15.090702565713762.\n"
     ]
    },
    {
     "data": {
      "application/vnd.jupyter.widget-view+json": {
       "model_id": "f266c7ea5892428ea2b5433271ee6cf1",
       "version_major": 2,
       "version_minor": 0
      },
      "text/plain": [
       "  0%|          | 0/333 [00:00<?, ?it/s]"
      ]
     },
     "metadata": {},
     "output_type": "display_data"
    },
    {
     "name": "stderr",
     "output_type": "stream",
     "text": [
      "[I 2024-05-20 07:38:16,624] Trial 269 finished with value: 15.358960714373413 and parameters: {'lookback_days': 29, 'num_boost_rounds': 419, 'learning_rate': 0.0859686747780655, 'max_depth': 3, 'num_leaves': 95, 'lambda_l1': 6.161650722952908e-06, 'lambda_l2': 1.4847925474108608e-07, 'min_split_gain': 6.372014236961993e-06}. Best is trial 256 with value: 15.090702565713762.\n"
     ]
    },
    {
     "data": {
      "application/vnd.jupyter.widget-view+json": {
       "model_id": "501eb36fb42441f0830138e36ba0652b",
       "version_major": 2,
       "version_minor": 0
      },
      "text/plain": [
       "  0%|          | 0/333 [00:00<?, ?it/s]"
      ]
     },
     "metadata": {},
     "output_type": "display_data"
    },
    {
     "name": "stderr",
     "output_type": "stream",
     "text": [
      "[I 2024-05-20 07:40:31,575] Trial 270 finished with value: 16.39969117944422 and parameters: {'lookback_days': 26, 'num_boost_rounds': 352, 'learning_rate': 0.02838073370515067, 'max_depth': 9, 'num_leaves': 87, 'lambda_l1': 4.016253047141966e-06, 'lambda_l2': 7.940059583115684e-07, 'min_split_gain': 1.8311627203952133e-06}. Best is trial 256 with value: 15.090702565713762.\n"
     ]
    },
    {
     "data": {
      "application/vnd.jupyter.widget-view+json": {
       "model_id": "c4ce1f28516c4e16ae6ea3769e3de839",
       "version_major": 2,
       "version_minor": 0
      },
      "text/plain": [
       "  0%|          | 0/333 [00:00<?, ?it/s]"
      ]
     },
     "metadata": {},
     "output_type": "display_data"
    },
    {
     "name": "stderr",
     "output_type": "stream",
     "text": [
      "[I 2024-05-20 07:41:50,939] Trial 271 finished with value: 15.258853394435864 and parameters: {'lookback_days': 27, 'num_boost_rounds': 383, 'learning_rate': 0.04571278460614791, 'max_depth': 3, 'num_leaves': 91, 'lambda_l1': 0.0002024294888088335, 'lambda_l2': 3.5666210339293614e-06, 'min_split_gain': 8.454502053106432e-06}. Best is trial 256 with value: 15.090702565713762.\n"
     ]
    },
    {
     "data": {
      "application/vnd.jupyter.widget-view+json": {
       "model_id": "1fa6ec6dcdac4b03b922c3c9590b9750",
       "version_major": 2,
       "version_minor": 0
      },
      "text/plain": [
       "  0%|          | 0/333 [00:00<?, ?it/s]"
      ]
     },
     "metadata": {},
     "output_type": "display_data"
    },
    {
     "name": "stderr",
     "output_type": "stream",
     "text": [
      "[I 2024-05-20 07:43:07,694] Trial 272 finished with value: 15.25880666875289 and parameters: {'lookback_days': 28, 'num_boost_rounds': 364, 'learning_rate': 0.07241488355814434, 'max_depth': 3, 'num_leaves': 103, 'lambda_l1': 1.187542531051598e-06, 'lambda_l2': 3.63262083881176e-07, 'min_split_gain': 4.909306757819846e-06}. Best is trial 256 with value: 15.090702565713762.\n"
     ]
    },
    {
     "data": {
      "application/vnd.jupyter.widget-view+json": {
       "model_id": "cc1d61e262814ecc81a2f2a3a491aa2f",
       "version_major": 2,
       "version_minor": 0
      },
      "text/plain": [
       "  0%|          | 0/333 [00:00<?, ?it/s]"
      ]
     },
     "metadata": {},
     "output_type": "display_data"
    },
    {
     "name": "stderr",
     "output_type": "stream",
     "text": [
      "[I 2024-05-20 07:44:24,022] Trial 273 finished with value: 15.286400863371943 and parameters: {'lookback_days': 29, 'num_boost_rounds': 353, 'learning_rate': 0.05696258054379301, 'max_depth': 3, 'num_leaves': 99, 'lambda_l1': 3.6552730503434743e-07, 'lambda_l2': 1.0460130136501079e-07, 'min_split_gain': 1.7796434491743982e-05}. Best is trial 256 with value: 15.090702565713762.\n"
     ]
    },
    {
     "data": {
      "application/vnd.jupyter.widget-view+json": {
       "model_id": "4c25ffe531974b338a5b1f3d0cab5bc8",
       "version_major": 2,
       "version_minor": 0
      },
      "text/plain": [
       "  0%|          | 0/333 [00:00<?, ?it/s]"
      ]
     },
     "metadata": {},
     "output_type": "display_data"
    },
    {
     "name": "stderr",
     "output_type": "stream",
     "text": [
      "[I 2024-05-20 07:45:55,650] Trial 274 finished with value: 15.641417076276753 and parameters: {'lookback_days': 28, 'num_boost_rounds': 374, 'learning_rate': 0.03406488498953895, 'max_depth': 4, 'num_leaves': 96, 'lambda_l1': 2.7380544065279047e-05, 'lambda_l2': 4.925158093590587e-07, 'min_split_gain': 3.447720304900141e-06}. Best is trial 256 with value: 15.090702565713762.\n"
     ]
    },
    {
     "data": {
      "application/vnd.jupyter.widget-view+json": {
       "model_id": "7cc98819e8ba4f36b94599837e44fcb7",
       "version_major": 2,
       "version_minor": 0
      },
      "text/plain": [
       "  0%|          | 0/333 [00:00<?, ?it/s]"
      ]
     },
     "metadata": {},
     "output_type": "display_data"
    },
    {
     "name": "stderr",
     "output_type": "stream",
     "text": [
      "[I 2024-05-20 07:47:19,390] Trial 275 finished with value: 31.814329794426083 and parameters: {'lookback_days': 27, 'num_boost_rounds': 389, 'learning_rate': 0.00015479300818944375, 'max_depth': 3, 'num_leaves': 88, 'lambda_l1': 2.17066788189349e-05, 'lambda_l2': 2.1824834937707274e-07, 'min_split_gain': 3.476622915340687e-05}. Best is trial 256 with value: 15.090702565713762.\n"
     ]
    },
    {
     "data": {
      "application/vnd.jupyter.widget-view+json": {
       "model_id": "3995e6d4d64e4f71a6d4ac630e2cff31",
       "version_major": 2,
       "version_minor": 0
      },
      "text/plain": [
       "  0%|          | 0/333 [00:00<?, ?it/s]"
      ]
     },
     "metadata": {},
     "output_type": "display_data"
    },
    {
     "name": "stderr",
     "output_type": "stream",
     "text": [
      "[I 2024-05-20 07:48:40,009] Trial 276 finished with value: 15.332223110579273 and parameters: {'lookback_days': 29, 'num_boost_rounds': 405, 'learning_rate': 0.0629988529114497, 'max_depth': 3, 'num_leaves': 93, 'lambda_l1': 1.8617547123014912e-08, 'lambda_l2': 3.0941863071830954e-07, 'min_split_gain': 1.2822254306374553e-05}. Best is trial 256 with value: 15.090702565713762.\n"
     ]
    },
    {
     "data": {
      "application/vnd.jupyter.widget-view+json": {
       "model_id": "ae06e4a126054c1288d2f6885a95d229",
       "version_major": 2,
       "version_minor": 0
      },
      "text/plain": [
       "  0%|          | 0/333 [00:00<?, ?it/s]"
      ]
     },
     "metadata": {},
     "output_type": "display_data"
    },
    {
     "name": "stderr",
     "output_type": "stream",
     "text": [
      "[I 2024-05-20 07:49:54,045] Trial 277 finished with value: 15.178743331031615 and parameters: {'lookback_days': 28, 'num_boost_rounds': 341, 'learning_rate': 0.0839234273408985, 'max_depth': 3, 'num_leaves': 85, 'lambda_l1': 2.532233963900954e-06, 'lambda_l2': 1.505628545699449e-07, 'min_split_gain': 7.119312005960145e-06}. Best is trial 256 with value: 15.090702565713762.\n"
     ]
    },
    {
     "data": {
      "application/vnd.jupyter.widget-view+json": {
       "model_id": "30a2404126cc46c783fdd93eab0d6c3e",
       "version_major": 2,
       "version_minor": 0
      },
      "text/plain": [
       "  0%|          | 0/333 [00:00<?, ?it/s]"
      ]
     },
     "metadata": {},
     "output_type": "display_data"
    },
    {
     "name": "stderr",
     "output_type": "stream",
     "text": [
      "[I 2024-05-20 07:51:10,379] Trial 278 finished with value: 15.222414131134624 and parameters: {'lookback_days': 28, 'num_boost_rounds': 340, 'learning_rate': 0.042779393691838856, 'max_depth': 3, 'num_leaves': 84, 'lambda_l1': 2.6969258782885892e-06, 'lambda_l2': 0.0016579200451243366, 'min_split_gain': 7.931636984220716e-06}. Best is trial 256 with value: 15.090702565713762.\n"
     ]
    },
    {
     "data": {
      "application/vnd.jupyter.widget-view+json": {
       "model_id": "b8640db331dd418589288337b9aa9356",
       "version_major": 2,
       "version_minor": 0
      },
      "text/plain": [
       "  0%|          | 0/333 [00:00<?, ?it/s]"
      ]
     },
     "metadata": {},
     "output_type": "display_data"
    },
    {
     "name": "stderr",
     "output_type": "stream",
     "text": [
      "[I 2024-05-20 07:52:24,285] Trial 279 finished with value: 15.66776436498627 and parameters: {'lookback_days': 29, 'num_boost_rounds': 242, 'learning_rate': 0.05505190838471285, 'max_depth': 4, 'num_leaves': 80, 'lambda_l1': 1.1769379528121663e-05, 'lambda_l2': 6.438908100694224e-08, 'min_split_gain': 1.0015366301779454e-05}. Best is trial 256 with value: 15.090702565713762.\n"
     ]
    },
    {
     "data": {
      "application/vnd.jupyter.widget-view+json": {
       "model_id": "c95edfa4b9b7452c9218c17586bc3ee8",
       "version_major": 2,
       "version_minor": 0
      },
      "text/plain": [
       "  0%|          | 0/333 [00:00<?, ?it/s]"
      ]
     },
     "metadata": {},
     "output_type": "display_data"
    },
    {
     "name": "stderr",
     "output_type": "stream",
     "text": [
      "[I 2024-05-20 07:53:37,668] Trial 280 finished with value: 15.226175729063096 and parameters: {'lookback_days': 28, 'num_boost_rounds': 333, 'learning_rate': 0.0747132041098991, 'max_depth': 3, 'num_leaves': 86, 'lambda_l1': 1.5752839415371613e-07, 'lambda_l2': 1.209974438321226e-06, 'min_split_gain': 6.039339210930743e-06}. Best is trial 256 with value: 15.090702565713762.\n"
     ]
    },
    {
     "data": {
      "application/vnd.jupyter.widget-view+json": {
       "model_id": "79d98bc3483b49cba3b7e316dab02a2e",
       "version_major": 2,
       "version_minor": 0
      },
      "text/plain": [
       "  0%|          | 0/333 [00:00<?, ?it/s]"
      ]
     },
     "metadata": {},
     "output_type": "display_data"
    },
    {
     "name": "stderr",
     "output_type": "stream",
     "text": [
      "[I 2024-05-20 07:55:24,770] Trial 281 finished with value: 16.093919436875826 and parameters: {'lookback_days': 29, 'num_boost_rounds': 346, 'learning_rate': 0.08906863159760495, 'max_depth': 6, 'num_leaves': 84, 'lambda_l1': 7.678704531196268e-06, 'lambda_l2': 1.3162121434352482e-07, 'min_split_gain': 4.55374126851208e-05}. Best is trial 256 with value: 15.090702565713762.\n"
     ]
    },
    {
     "data": {
      "application/vnd.jupyter.widget-view+json": {
       "model_id": "99913b3d31dc4beca180bc9f241e64de",
       "version_major": 2,
       "version_minor": 0
      },
      "text/plain": [
       "  0%|          | 0/333 [00:00<?, ?it/s]"
      ]
     },
     "metadata": {},
     "output_type": "display_data"
    },
    {
     "name": "stderr",
     "output_type": "stream",
     "text": [
      "[I 2024-05-20 07:56:48,441] Trial 282 finished with value: 15.85199835926774 and parameters: {'lookback_days': 28, 'num_boost_rounds': 382, 'learning_rate': 0.011246611728225742, 'max_depth': 3, 'num_leaves': 82, 'lambda_l1': 2.6687791768073423e-08, 'lambda_l2': 8.110688414662581e-08, 'min_split_gain': 1.8539817688255345e-05}. Best is trial 256 with value: 15.090702565713762.\n"
     ]
    },
    {
     "data": {
      "application/vnd.jupyter.widget-view+json": {
       "model_id": "fded1a730bb94213a6d964abfa7a9c43",
       "version_major": 2,
       "version_minor": 0
      },
      "text/plain": [
       "  0%|          | 0/333 [00:00<?, ?it/s]"
      ]
     },
     "metadata": {},
     "output_type": "display_data"
    },
    {
     "name": "stderr",
     "output_type": "stream",
     "text": [
      "[I 2024-05-20 07:58:09,256] Trial 283 finished with value: 15.293173039986062 and parameters: {'lookback_days': 29, 'num_boost_rounds': 397, 'learning_rate': 0.04658634669169693, 'max_depth': 3, 'num_leaves': 88, 'lambda_l1': 9.611248326963115e-08, 'lambda_l2': 7.992532050234764e-07, 'min_split_gain': 1.2120315627849917e-05}. Best is trial 256 with value: 15.090702565713762.\n"
     ]
    },
    {
     "data": {
      "application/vnd.jupyter.widget-view+json": {
       "model_id": "a96148741db14487ba8026a3d9369d3f",
       "version_major": 2,
       "version_minor": 0
      },
      "text/plain": [
       "  0%|          | 0/333 [00:00<?, ?it/s]"
      ]
     },
     "metadata": {},
     "output_type": "display_data"
    },
    {
     "name": "stderr",
     "output_type": "stream",
     "text": [
      "[I 2024-05-20 07:59:25,272] Trial 284 finished with value: 15.21778411795959 and parameters: {'lookback_days': 27, 'num_boost_rounds': 370, 'learning_rate': 0.064745615720468, 'max_depth': 3, 'num_leaves': 101, 'lambda_l1': 4.497920325975886e-06, 'lambda_l2': 5.628210082297256e-08, 'min_split_gain': 2.7415832822706104e-05}. Best is trial 256 with value: 15.090702565713762.\n"
     ]
    },
    {
     "data": {
      "application/vnd.jupyter.widget-view+json": {
       "model_id": "b71af167a3054c758e1cd82cb0179dc3",
       "version_major": 2,
       "version_minor": 0
      },
      "text/plain": [
       "  0%|          | 0/333 [00:00<?, ?it/s]"
      ]
     },
     "metadata": {},
     "output_type": "display_data"
    },
    {
     "name": "stderr",
     "output_type": "stream",
     "text": [
      "[I 2024-05-20 08:00:24,018] Trial 285 finished with value: 20.479134134450106 and parameters: {'lookback_days': 6, 'num_boost_rounds': 353, 'learning_rate': 0.053081790164838064, 'max_depth': 3, 'num_leaves': 118, 'lambda_l1': 6.787248522809815e-08, 'lambda_l2': 5.46516209673095e-07, 'min_split_gain': 6.9137002982587495e-06}. Best is trial 256 with value: 15.090702565713762.\n"
     ]
    },
    {
     "data": {
      "application/vnd.jupyter.widget-view+json": {
       "model_id": "ed2d244361b74c5091b73a45195fd440",
       "version_major": 2,
       "version_minor": 0
      },
      "text/plain": [
       "  0%|          | 0/333 [00:00<?, ?it/s]"
      ]
     },
     "metadata": {},
     "output_type": "display_data"
    },
    {
     "name": "stderr",
     "output_type": "stream",
     "text": [
      "[I 2024-05-20 08:01:48,170] Trial 286 finished with value: 15.669042271046091 and parameters: {'lookback_days': 28, 'num_boost_rounds': 318, 'learning_rate': 0.03871211685703104, 'max_depth': 4, 'num_leaves': 93, 'lambda_l1': 4.700625463732202e-05, 'lambda_l2': 2.972555477993747e-07, 'min_split_gain': 5.268174100247268e-06}. Best is trial 256 with value: 15.090702565713762.\n"
     ]
    },
    {
     "data": {
      "application/vnd.jupyter.widget-view+json": {
       "model_id": "d94fe44b3da7487a986368b5a9595866",
       "version_major": 2,
       "version_minor": 0
      },
      "text/plain": [
       "  0%|          | 0/333 [00:00<?, ?it/s]"
      ]
     },
     "metadata": {},
     "output_type": "display_data"
    },
    {
     "name": "stderr",
     "output_type": "stream",
     "text": [
      "[I 2024-05-20 08:02:48,875] Trial 287 finished with value: 16.6341257360521 and parameters: {'lookback_days': 29, 'num_boost_rounds': 58, 'learning_rate': 0.07111230048003933, 'max_depth': 10, 'num_leaves': 96, 'lambda_l1': 1.0394448710880545e-08, 'lambda_l2': 1.6478604656776704e-07, 'min_split_gain': 1.4750631166702778e-05}. Best is trial 256 with value: 15.090702565713762.\n"
     ]
    },
    {
     "data": {
      "application/vnd.jupyter.widget-view+json": {
       "model_id": "7f827b4b012a401e87d642afed1b1485",
       "version_major": 2,
       "version_minor": 0
      },
      "text/plain": [
       "  0%|          | 0/333 [00:00<?, ?it/s]"
      ]
     },
     "metadata": {},
     "output_type": "display_data"
    },
    {
     "name": "stderr",
     "output_type": "stream",
     "text": [
      "[I 2024-05-20 08:04:17,459] Trial 288 finished with value: 18.37919083229267 and parameters: {'lookback_days': 13, 'num_boost_rounds': 344, 'learning_rate': 0.059629594662691895, 'max_depth': 8, 'num_leaves': 86, 'lambda_l1': 4.7370839514048896e-08, 'lambda_l2': 3.9176099502900244e-08, 'min_split_gain': 6.342303831933911e-05}. Best is trial 256 with value: 15.090702565713762.\n"
     ]
    },
    {
     "data": {
      "application/vnd.jupyter.widget-view+json": {
       "model_id": "ac11d25ec9d14002aad7ddd98c312fe8",
       "version_major": 2,
       "version_minor": 0
      },
      "text/plain": [
       "  0%|          | 0/333 [00:00<?, ?it/s]"
      ]
     },
     "metadata": {},
     "output_type": "display_data"
    },
    {
     "name": "stderr",
     "output_type": "stream",
     "text": [
      "[I 2024-05-20 08:05:37,458] Trial 289 finished with value: 15.300966955128848 and parameters: {'lookback_days': 28, 'num_boost_rounds': 389, 'learning_rate': 0.0871260017277998, 'max_depth': 3, 'num_leaves': 105, 'lambda_l1': 3.1308315705016334e-06, 'lambda_l2': 1.029450749143767e-07, 'min_split_gain': 8.73243975503349e-06}. Best is trial 256 with value: 15.090702565713762.\n"
     ]
    },
    {
     "data": {
      "application/vnd.jupyter.widget-view+json": {
       "model_id": "178977eab3834e2c88abdd28b9b1ba81",
       "version_major": 2,
       "version_minor": 0
      },
      "text/plain": [
       "  0%|          | 0/333 [00:00<?, ?it/s]"
      ]
     },
     "metadata": {},
     "output_type": "display_data"
    },
    {
     "name": "stderr",
     "output_type": "stream",
     "text": [
      "[I 2024-05-20 08:06:56,220] Trial 290 finished with value: 15.291784285838535 and parameters: {'lookback_days': 27, 'num_boost_rounds': 377, 'learning_rate': 0.050174994864150016, 'max_depth': 3, 'num_leaves': 90, 'lambda_l1': 1.9404488588959445e-08, 'lambda_l2': 8.912920474561334e-06, 'min_split_gain': 2.1393175266503117e-05}. Best is trial 256 with value: 15.090702565713762.\n"
     ]
    },
    {
     "data": {
      "application/vnd.jupyter.widget-view+json": {
       "model_id": "3076dd827dad4727aca9fdc68ee8f310",
       "version_major": 2,
       "version_minor": 0
      },
      "text/plain": [
       "  0%|          | 0/333 [00:00<?, ?it/s]"
      ]
     },
     "metadata": {},
     "output_type": "display_data"
    },
    {
     "name": "stderr",
     "output_type": "stream",
     "text": [
      "[I 2024-05-20 08:08:13,709] Trial 291 finished with value: 15.326149570338387 and parameters: {'lookback_days': 29, 'num_boost_rounds': 361, 'learning_rate': 0.03696921289668613, 'max_depth': 3, 'num_leaves': 98, 'lambda_l1': 2.5336713361661815e-07, 'lambda_l2': 3.7086069371456986e-07, 'min_split_gain': 5.076880785770121e-06}. Best is trial 256 with value: 15.090702565713762.\n"
     ]
    },
    {
     "data": {
      "application/vnd.jupyter.widget-view+json": {
       "model_id": "0be18001f1aa4b75bdb59ca2be3698bc",
       "version_major": 2,
       "version_minor": 0
      },
      "text/plain": [
       "  0%|          | 0/333 [00:00<?, ?it/s]"
      ]
     },
     "metadata": {},
     "output_type": "display_data"
    },
    {
     "name": "stderr",
     "output_type": "stream",
     "text": [
      "[I 2024-05-20 08:09:26,234] Trial 292 finished with value: 15.311733560366017 and parameters: {'lookback_days': 28, 'num_boost_rounds': 329, 'learning_rate': 0.09972081273225052, 'max_depth': 3, 'num_leaves': 92, 'lambda_l1': 5.760111013181584e-06, 'lambda_l2': 2.037741324255432e-06, 'min_split_gain': 1.0035452585140134e-05}. Best is trial 256 with value: 15.090702565713762.\n"
     ]
    },
    {
     "data": {
      "application/vnd.jupyter.widget-view+json": {
       "model_id": "e77b0088b5aa48d1b98820ba1346790d",
       "version_major": 2,
       "version_minor": 0
      },
      "text/plain": [
       "  0%|          | 0/333 [00:00<?, ?it/s]"
      ]
     },
     "metadata": {},
     "output_type": "display_data"
    },
    {
     "name": "stderr",
     "output_type": "stream",
     "text": [
      "[I 2024-05-20 08:10:48,207] Trial 293 finished with value: 15.265814736163739 and parameters: {'lookback_days': 27, 'num_boost_rounds': 412, 'learning_rate': 0.06846665500080402, 'max_depth': 3, 'num_leaves': 88, 'lambda_l1': 1.0077078766848267e-05, 'lambda_l2': 2.1104863991337232e-07, 'min_split_gain': 3.076333610522564e-05}. Best is trial 256 with value: 15.090702565713762.\n"
     ]
    },
    {
     "data": {
      "application/vnd.jupyter.widget-view+json": {
       "model_id": "abc8b9f1128a4c8cba795e16eccb35e0",
       "version_major": 2,
       "version_minor": 0
      },
      "text/plain": [
       "  0%|          | 0/333 [00:00<?, ?it/s]"
      ]
     },
     "metadata": {},
     "output_type": "display_data"
    },
    {
     "name": "stderr",
     "output_type": "stream",
     "text": [
      "[I 2024-05-20 08:12:51,399] Trial 294 finished with value: 16.322575434205646 and parameters: {'lookback_days': 28, 'num_boost_rounds': 367, 'learning_rate': 0.0482946843228534, 'max_depth': 7, 'num_leaves': 95, 'lambda_l1': 2.116528667103545e-06, 'lambda_l2': 6.001400756609364e-07, 'min_split_gain': 1.3213549648781724e-05}. Best is trial 256 with value: 15.090702565713762.\n"
     ]
    },
    {
     "data": {
      "application/vnd.jupyter.widget-view+json": {
       "model_id": "a815f43332af41f3bd9b4b4be76753ce",
       "version_major": 2,
       "version_minor": 0
      },
      "text/plain": [
       "  0%|          | 0/333 [00:00<?, ?it/s]"
      ]
     },
     "metadata": {},
     "output_type": "display_data"
    },
    {
     "name": "stderr",
     "output_type": "stream",
     "text": [
      "[I 2024-05-20 08:14:22,116] Trial 295 finished with value: 15.697566239338377 and parameters: {'lookback_days': 26, 'num_boost_rounds': 399, 'learning_rate': 0.061820541673034614, 'max_depth': 4, 'num_leaves': 91, 'lambda_l1': 3.664892045303622e-08, 'lambda_l2': 2.6125232428605573e-07, 'min_split_gain': 3.729309521722696e-06}. Best is trial 256 with value: 15.090702565713762.\n"
     ]
    },
    {
     "data": {
      "application/vnd.jupyter.widget-view+json": {
       "model_id": "d81de897ce5c4f88a4ecd59e46d7e0ec",
       "version_major": 2,
       "version_minor": 0
      },
      "text/plain": [
       "  0%|          | 0/333 [00:00<?, ?it/s]"
      ]
     },
     "metadata": {},
     "output_type": "display_data"
    },
    {
     "name": "stderr",
     "output_type": "stream",
     "text": [
      "[I 2024-05-20 08:15:42,399] Trial 296 finished with value: 15.232474440159583 and parameters: {'lookback_days': 29, 'num_boost_rounds': 378, 'learning_rate': 0.0770662957589917, 'max_depth': 3, 'num_leaves': 85, 'lambda_l1': 9.827088653018717e-08, 'lambda_l2': 1.0680713371052314e-06, 'min_split_gain': 7.147845029921828e-06}. Best is trial 256 with value: 15.090702565713762.\n"
     ]
    },
    {
     "data": {
      "application/vnd.jupyter.widget-view+json": {
       "model_id": "4dd217afb49c4e61aa1dd7bd8cce48e4",
       "version_major": 2,
       "version_minor": 0
      },
      "text/plain": [
       "  0%|          | 0/333 [00:00<?, ?it/s]"
      ]
     },
     "metadata": {},
     "output_type": "display_data"
    },
    {
     "name": "stderr",
     "output_type": "stream",
     "text": [
      "[I 2024-05-20 08:16:59,103] Trial 297 finished with value: 15.264196241099919 and parameters: {'lookback_days': 27, 'num_boost_rounds': 356, 'learning_rate': 0.04089521783278087, 'max_depth': 3, 'num_leaves': 82, 'lambda_l1': 2.6247704056561802e-08, 'lambda_l2': 5.018157373276536e-08, 'min_split_gain': 1.909153671775667e-05}. Best is trial 256 with value: 15.090702565713762.\n"
     ]
    },
    {
     "data": {
      "application/vnd.jupyter.widget-view+json": {
       "model_id": "6d2ee967a238435e8a628b85f6c23808",
       "version_major": 2,
       "version_minor": 0
      },
      "text/plain": [
       "  0%|          | 0/333 [00:00<?, ?it/s]"
      ]
     },
     "metadata": {},
     "output_type": "display_data"
    },
    {
     "name": "stderr",
     "output_type": "stream",
     "text": [
      "[I 2024-05-20 08:18:06,906] Trial 298 finished with value: 16.74781397473924 and parameters: {'lookback_days': 19, 'num_boost_rounds': 338, 'learning_rate': 0.05271028086472798, 'max_depth': 3, 'num_leaves': 89, 'lambda_l1': 1.717241769275003e-05, 'lambda_l2': 1.4226573034230612e-07, 'min_split_gain': 1.0261634252040721e-05}. Best is trial 256 with value: 15.090702565713762.\n"
     ]
    },
    {
     "data": {
      "application/vnd.jupyter.widget-view+json": {
       "model_id": "31cd3361300f4ff1bff9ad98ffef01d7",
       "version_major": 2,
       "version_minor": 0
      },
      "text/plain": [
       "  0%|          | 0/333 [00:00<?, ?it/s]"
      ]
     },
     "metadata": {},
     "output_type": "display_data"
    },
    {
     "name": "stderr",
     "output_type": "stream",
     "text": [
      "[I 2024-05-20 08:21:32,969] Trial 299 finished with value: 26.570110779561926 and parameters: {'lookback_days': 29, 'num_boost_rounds': 424, 'learning_rate': 0.0008284293933531304, 'max_depth': 11, 'num_leaves': 99, 'lambda_l1': 1.4707384582020932e-08, 'lambda_l2': 4.247374012013618e-07, 'min_split_gain': 1.417053776851029e-08}. Best is trial 256 with value: 15.090702565713762.\n"
     ]
    },
    {
     "data": {
      "application/vnd.jupyter.widget-view+json": {
       "model_id": "cc88119566f147038e2e0c5f67479ca8",
       "version_major": 2,
       "version_minor": 0
      },
      "text/plain": [
       "  0%|          | 0/333 [00:00<?, ?it/s]"
      ]
     },
     "metadata": {},
     "output_type": "display_data"
    },
    {
     "name": "stderr",
     "output_type": "stream",
     "text": [
      "[I 2024-05-20 08:22:49,820] Trial 300 finished with value: 15.30649373270442 and parameters: {'lookback_days': 24, 'num_boost_rounds': 390, 'learning_rate': 0.06166011443258805, 'max_depth': 3, 'num_leaves': 108, 'lambda_l1': 5.591268455557534e-07, 'lambda_l2': 8.965713751713944e-08, 'min_split_gain': 4.2291666490228206e-05}. Best is trial 256 with value: 15.090702565713762.\n"
     ]
    },
    {
     "data": {
      "application/vnd.jupyter.widget-view+json": {
       "model_id": "bc28cb1c14694851a1f7b4643baa5694",
       "version_major": 2,
       "version_minor": 0
      },
      "text/plain": [
       "  0%|          | 0/333 [00:00<?, ?it/s]"
      ]
     },
     "metadata": {},
     "output_type": "display_data"
    },
    {
     "name": "stderr",
     "output_type": "stream",
     "text": [
      "[I 2024-05-20 08:24:08,583] Trial 301 finished with value: 15.34929043396993 and parameters: {'lookback_days': 28, 'num_boost_rounds': 370, 'learning_rate': 0.023528858751276877, 'max_depth': 3, 'num_leaves': 93, 'lambda_l1': 5.34330616190746e-08, 'lambda_l2': 3.3299270023322046e-08, 'min_split_gain': 5.227792647208383e-06}. Best is trial 256 with value: 15.090702565713762.\n"
     ]
    },
    {
     "data": {
      "application/vnd.jupyter.widget-view+json": {
       "model_id": "d89e1510094d40d590e8b1ca5ea52aba",
       "version_major": 2,
       "version_minor": 0
      },
      "text/plain": [
       "  0%|          | 0/333 [00:00<?, ?it/s]"
      ]
     },
     "metadata": {},
     "output_type": "display_data"
    },
    {
     "name": "stderr",
     "output_type": "stream",
     "text": [
      "[I 2024-05-20 08:25:41,005] Trial 302 finished with value: 15.691974027597404 and parameters: {'lookback_days': 28, 'num_boost_rounds': 383, 'learning_rate': 0.07679086107613067, 'max_depth': 4, 'num_leaves': 86, 'lambda_l1': 1.3769589696642268e-07, 'lambda_l2': 0.00780614258076642, 'min_split_gain': 0.0027159237242174064}. Best is trial 256 with value: 15.090702565713762.\n"
     ]
    },
    {
     "data": {
      "application/vnd.jupyter.widget-view+json": {
       "model_id": "be3f55ab9e8b4e538f8d60166b7ceef3",
       "version_major": 2,
       "version_minor": 0
      },
      "text/plain": [
       "  0%|          | 0/333 [00:00<?, ?it/s]"
      ]
     },
     "metadata": {},
     "output_type": "display_data"
    },
    {
     "name": "stderr",
     "output_type": "stream",
     "text": [
      "[I 2024-05-20 08:27:00,554] Trial 303 finished with value: 15.36456683794373 and parameters: {'lookback_days': 30, 'num_boost_rounds': 354, 'learning_rate': 0.032079948286286776, 'max_depth': 3, 'num_leaves': 96, 'lambda_l1': 4.277073622798508e-06, 'lambda_l2': 6.815164354425042e-07, 'min_split_gain': 0.0003798163796595695}. Best is trial 256 with value: 15.090702565713762.\n"
     ]
    },
    {
     "data": {
      "application/vnd.jupyter.widget-view+json": {
       "model_id": "1cc88e7b6ed9454a8cd3a247fb6e7a02",
       "version_major": 2,
       "version_minor": 0
      },
      "text/plain": [
       "  0%|          | 0/333 [00:00<?, ?it/s]"
      ]
     },
     "metadata": {},
     "output_type": "display_data"
    },
    {
     "name": "stderr",
     "output_type": "stream",
     "text": [
      "[I 2024-05-20 08:28:09,453] Trial 304 finished with value: 17.950045085439708 and parameters: {'lookback_days': 9, 'num_boost_rounds': 401, 'learning_rate': 0.04593676793155069, 'max_depth': 4, 'num_leaves': 94, 'lambda_l1': 8.297231196532403e-06, 'lambda_l2': 2.0407719223697538e-07, 'min_split_gain': 2.240080883147339e-06}. Best is trial 256 with value: 15.090702565713762.\n"
     ]
    },
    {
     "data": {
      "application/vnd.jupyter.widget-view+json": {
       "model_id": "09fde8bbd7e741a4b483b657811c9052",
       "version_major": 2,
       "version_minor": 0
      },
      "text/plain": [
       "  0%|          | 0/333 [00:00<?, ?it/s]"
      ]
     },
     "metadata": {},
     "output_type": "display_data"
    },
    {
     "name": "stderr",
     "output_type": "stream",
     "text": [
      "[I 2024-05-20 08:29:23,524] Trial 305 finished with value: 15.247569391373508 and parameters: {'lookback_days': 28, 'num_boost_rounds': 345, 'learning_rate': 0.05682075481372984, 'max_depth': 3, 'num_leaves': 90, 'lambda_l1': 3.7059739169418507e-06, 'lambda_l2': 3.249254705198688e-07, 'min_split_gain': 1.5454320715340422e-05}. Best is trial 256 with value: 15.090702565713762.\n"
     ]
    },
    {
     "data": {
      "application/vnd.jupyter.widget-view+json": {
       "model_id": "de1b5f22bbe54da391817e42d31102d7",
       "version_major": 2,
       "version_minor": 0
      },
      "text/plain": [
       "  0%|          | 0/333 [00:00<?, ?it/s]"
      ]
     },
     "metadata": {},
     "output_type": "display_data"
    },
    {
     "name": "stderr",
     "output_type": "stream",
     "text": [
      "[I 2024-05-20 08:30:40,226] Trial 306 finished with value: 15.17946251929142 and parameters: {'lookback_days': 27, 'num_boost_rounds': 364, 'learning_rate': 0.07078731164446617, 'max_depth': 3, 'num_leaves': 116, 'lambda_l1': 6.927628176500371e-08, 'lambda_l2': 7.142149384000585e-08, 'min_split_gain': 4.070628798408416e-06}. Best is trial 256 with value: 15.090702565713762.\n"
     ]
    },
    {
     "data": {
      "application/vnd.jupyter.widget-view+json": {
       "model_id": "5144f7d6f0754a708dc60310cf830df4",
       "version_major": 2,
       "version_minor": 0
      },
      "text/plain": [
       "  0%|          | 0/333 [00:00<?, ?it/s]"
      ]
     },
     "metadata": {},
     "output_type": "display_data"
    },
    {
     "name": "stderr",
     "output_type": "stream",
     "text": [
      "[I 2024-05-20 08:31:57,366] Trial 307 finished with value: 15.313768763622607 and parameters: {'lookback_days': 26, 'num_boost_rounds': 373, 'learning_rate': 0.08571740888023695, 'max_depth': 3, 'num_leaves': 120, 'lambda_l1': 6.84147635402064e-08, 'lambda_l2': 9.945782850773044e-08, 'min_split_gain': 3.306079220038902e-06}. Best is trial 256 with value: 15.090702565713762.\n"
     ]
    },
    {
     "data": {
      "application/vnd.jupyter.widget-view+json": {
       "model_id": "c976198d2ba349629bb5792ef6c8581c",
       "version_major": 2,
       "version_minor": 0
      },
      "text/plain": [
       "  0%|          | 0/333 [00:00<?, ?it/s]"
      ]
     },
     "metadata": {},
     "output_type": "display_data"
    },
    {
     "name": "stderr",
     "output_type": "stream",
     "text": [
      "[I 2024-05-20 08:33:20,810] Trial 308 finished with value: 25.233380135455754 and parameters: {'lookback_days': 27, 'num_boost_rounds': 391, 'learning_rate': 0.0013908351522182033, 'max_depth': 3, 'num_leaves': 116, 'lambda_l1': 2.1023729202139245e-06, 'lambda_l2': 6.37456145010207e-08, 'min_split_gain': 0.0010383205358892465}. Best is trial 256 with value: 15.090702565713762.\n"
     ]
    },
    {
     "data": {
      "application/vnd.jupyter.widget-view+json": {
       "model_id": "b9d9921e47c74399bc20a411c7d26dbd",
       "version_major": 2,
       "version_minor": 0
      },
      "text/plain": [
       "  0%|          | 0/333 [00:00<?, ?it/s]"
      ]
     },
     "metadata": {},
     "output_type": "display_data"
    },
    {
     "name": "stderr",
     "output_type": "stream",
     "text": [
      "[I 2024-05-20 08:34:36,468] Trial 309 finished with value: 15.181556329781463 and parameters: {'lookback_days': 27, 'num_boost_rounds': 364, 'learning_rate': 0.07101176849029586, 'max_depth': 3, 'num_leaves': 87, 'lambda_l1': 2.2796356602936778e-08, 'lambda_l2': 4.436231415868347e-08, 'min_split_gain': 4.608711851040419e-06}. Best is trial 256 with value: 15.090702565713762.\n"
     ]
    },
    {
     "data": {
      "application/vnd.jupyter.widget-view+json": {
       "model_id": "fa4b084f0e0840978b90e65498dc7e66",
       "version_major": 2,
       "version_minor": 0
      },
      "text/plain": [
       "  0%|          | 0/333 [00:00<?, ?it/s]"
      ]
     },
     "metadata": {},
     "output_type": "display_data"
    },
    {
     "name": "stderr",
     "output_type": "stream",
     "text": [
      "[I 2024-05-20 08:35:52,124] Trial 310 finished with value: 15.36006539044535 and parameters: {'lookback_days': 25, 'num_boost_rounds': 365, 'learning_rate': 0.07375963412135098, 'max_depth': 3, 'num_leaves': 84, 'lambda_l1': 1.5473432071187102e-08, 'lambda_l2': 3.072257625049943e-08, 'min_split_gain': 4.019718424042367e-06}. Best is trial 256 with value: 15.090702565713762.\n"
     ]
    },
    {
     "data": {
      "application/vnd.jupyter.widget-view+json": {
       "model_id": "ea39a161d79742bfa304075358ec54c4",
       "version_major": 2,
       "version_minor": 0
      },
      "text/plain": [
       "  0%|          | 0/333 [00:00<?, ?it/s]"
      ]
     },
     "metadata": {},
     "output_type": "display_data"
    },
    {
     "name": "stderr",
     "output_type": "stream",
     "text": [
      "[I 2024-05-20 08:37:10,889] Trial 311 finished with value: 15.405306724366676 and parameters: {'lookback_days': 26, 'num_boost_rounds': 382, 'learning_rate': 0.08667394704176473, 'max_depth': 3, 'num_leaves': 88, 'lambda_l1': 2.350861589802566e-08, 'lambda_l2': 4.8862988208583096e-08, 'min_split_gain': 3.0546678153613447e-06}. Best is trial 256 with value: 15.090702565713762.\n"
     ]
    },
    {
     "data": {
      "application/vnd.jupyter.widget-view+json": {
       "model_id": "d631ce3ff8c84f05b6000bfe564f4817",
       "version_major": 2,
       "version_minor": 0
      },
      "text/plain": [
       "  0%|          | 0/333 [00:00<?, ?it/s]"
      ]
     },
     "metadata": {},
     "output_type": "display_data"
    },
    {
     "name": "stderr",
     "output_type": "stream",
     "text": [
      "[I 2024-05-20 08:38:27,109] Trial 312 finished with value: 15.286013873874555 and parameters: {'lookback_days': 27, 'num_boost_rounds': 372, 'learning_rate': 0.07189534681261323, 'max_depth': 3, 'num_leaves': 87, 'lambda_l1': 1.0051060901901124e-08, 'lambda_l2': 6.556272247189062e-08, 'min_split_gain': 1.8884597339834948e-06}. Best is trial 256 with value: 15.090702565713762.\n"
     ]
    },
    {
     "data": {
      "application/vnd.jupyter.widget-view+json": {
       "model_id": "7087538bea314b70ba434cecdd17dcd7",
       "version_major": 2,
       "version_minor": 0
      },
      "text/plain": [
       "  0%|          | 0/333 [00:00<?, ?it/s]"
      ]
     },
     "metadata": {},
     "output_type": "display_data"
    },
    {
     "name": "stderr",
     "output_type": "stream",
     "text": [
      "[I 2024-05-20 08:39:42,591] Trial 313 finished with value: 15.19840865980284 and parameters: {'lookback_days': 27, 'num_boost_rounds': 364, 'learning_rate': 0.09888110828713469, 'max_depth': 3, 'num_leaves': 91, 'lambda_l1': 3.0088964943714155e-08, 'lambda_l2': 2.211475516118109e-08, 'min_split_gain': 7.738717423487879e-06}. Best is trial 256 with value: 15.090702565713762.\n"
     ]
    },
    {
     "data": {
      "application/vnd.jupyter.widget-view+json": {
       "model_id": "530b387ca5174a5ba3e2bdb4b69f7dbf",
       "version_major": 2,
       "version_minor": 0
      },
      "text/plain": [
       "  0%|          | 0/333 [00:00<?, ?it/s]"
      ]
     },
     "metadata": {},
     "output_type": "display_data"
    },
    {
     "name": "stderr",
     "output_type": "stream",
     "text": [
      "[I 2024-05-20 08:41:12,191] Trial 314 finished with value: 15.740142278578048 and parameters: {'lookback_days': 26, 'num_boost_rounds': 379, 'learning_rate': 0.06520827021934766, 'max_depth': 4, 'num_leaves': 79, 'lambda_l1': 2.095189497677159e-08, 'lambda_l2': 3.8773653177237064e-08, 'min_split_gain': 4.2725419828700055e-06}. Best is trial 256 with value: 15.090702565713762.\n"
     ]
    },
    {
     "data": {
      "application/vnd.jupyter.widget-view+json": {
       "model_id": "b55b513270ed4df097b5999265afd5d1",
       "version_major": 2,
       "version_minor": 0
      },
      "text/plain": [
       "  0%|          | 0/333 [00:00<?, ?it/s]"
      ]
     },
     "metadata": {},
     "output_type": "display_data"
    },
    {
     "name": "stderr",
     "output_type": "stream",
     "text": [
      "[I 2024-05-20 08:42:38,053] Trial 315 finished with value: 16.56669871596229 and parameters: {'lookback_days': 27, 'num_boost_rounds': 408, 'learning_rate': 0.007470757345174372, 'max_depth': 3, 'num_leaves': 81, 'lambda_l1': 7.01603055414472e-06, 'lambda_l2': 1.2169112391468449e-07, 'min_split_gain': 6.5736890452637265e-06}. Best is trial 256 with value: 15.090702565713762.\n"
     ]
    },
    {
     "data": {
      "application/vnd.jupyter.widget-view+json": {
       "model_id": "d9837e5e644c4d61a4b67897b30393f8",
       "version_major": 2,
       "version_minor": 0
      },
      "text/plain": [
       "  0%|          | 0/333 [00:00<?, ?it/s]"
      ]
     },
     "metadata": {},
     "output_type": "display_data"
    },
    {
     "name": "stderr",
     "output_type": "stream",
     "text": [
      "[I 2024-05-20 08:43:56,659] Trial 316 finished with value: 15.27273149621602 and parameters: {'lookback_days': 27, 'num_boost_rounds': 389, 'learning_rate': 0.0684670780127803, 'max_depth': 3, 'num_leaves': 86, 'lambda_l1': 3.5169281243335416e-08, 'lambda_l2': 1.7772615703223842e-07, 'min_split_gain': 2.6745080382271807e-06}. Best is trial 256 with value: 15.090702565713762.\n"
     ]
    },
    {
     "data": {
      "application/vnd.jupyter.widget-view+json": {
       "model_id": "4183dce1344445f1a8c61a3b154e9d91",
       "version_major": 2,
       "version_minor": 0
      },
      "text/plain": [
       "  0%|          | 0/333 [00:00<?, ?it/s]"
      ]
     },
     "metadata": {},
     "output_type": "display_data"
    },
    {
     "name": "stderr",
     "output_type": "stream",
     "text": [
      "[I 2024-05-20 08:45:14,371] Trial 317 finished with value: 15.124773629681398 and parameters: {'lookback_days': 28, 'num_boost_rounds': 358, 'learning_rate': 0.05768762633170084, 'max_depth': 3, 'num_leaves': 83, 'lambda_l1': 9.360666368709848e-07, 'lambda_l2': 9.940018702032734e-07, 'min_split_gain': 5.438234085042479e-06}. Best is trial 256 with value: 15.090702565713762.\n"
     ]
    },
    {
     "data": {
      "application/vnd.jupyter.widget-view+json": {
       "model_id": "e2934edc1c4e4184aafcc18fa70f0620",
       "version_major": 2,
       "version_minor": 0
      },
      "text/plain": [
       "  0%|          | 0/333 [00:00<?, ?it/s]"
      ]
     },
     "metadata": {},
     "output_type": "display_data"
    },
    {
     "name": "stderr",
     "output_type": "stream",
     "text": [
      "[I 2024-05-20 08:46:31,019] Trial 318 finished with value: 15.260611371737827 and parameters: {'lookback_days': 28, 'num_boost_rounds': 354, 'learning_rate': 0.08102265369556998, 'max_depth': 3, 'num_leaves': 83, 'lambda_l1': 5.162470714249952e-07, 'lambda_l2': 1.5311954645840511e-06, 'min_split_gain': 4.595314381202312e-06}. Best is trial 256 with value: 15.090702565713762.\n"
     ]
    },
    {
     "data": {
      "application/vnd.jupyter.widget-view+json": {
       "model_id": "7fc09c3e02ea44f58f0a4810232e6d1d",
       "version_major": 2,
       "version_minor": 0
      },
      "text/plain": [
       "  0%|          | 0/333 [00:00<?, ?it/s]"
      ]
     },
     "metadata": {},
     "output_type": "display_data"
    },
    {
     "name": "stderr",
     "output_type": "stream",
     "text": [
      "[I 2024-05-20 08:48:02,754] Trial 319 finished with value: 15.606992113831195 and parameters: {'lookback_days': 27, 'num_boost_rounds': 397, 'learning_rate': 0.06078818581657827, 'max_depth': 4, 'num_leaves': 83, 'lambda_l1': 6.763576111186133e-07, 'lambda_l2': 2.6495855683857834e-06, 'min_split_gain': 1.0210873908872568e-05}. Best is trial 256 with value: 15.090702565713762.\n"
     ]
    },
    {
     "data": {
      "application/vnd.jupyter.widget-view+json": {
       "model_id": "4885672bb6194f338c2552f75715e220",
       "version_major": 2,
       "version_minor": 0
      },
      "text/plain": [
       "  0%|          | 0/333 [00:00<?, ?it/s]"
      ]
     },
     "metadata": {},
     "output_type": "display_data"
    },
    {
     "name": "stderr",
     "output_type": "stream",
     "text": [
      "[I 2024-05-20 08:49:16,738] Trial 320 finished with value: 15.293387103348824 and parameters: {'lookback_days': 26, 'num_boost_rounds': 349, 'learning_rate': 0.057404978284815444, 'max_depth': 3, 'num_leaves': 80, 'lambda_l1': 1.3548710332024985e-06, 'lambda_l2': 5.233151154773819e-07, 'min_split_gain': 6.215170359114626e-06}. Best is trial 256 with value: 15.090702565713762.\n"
     ]
    },
    {
     "data": {
      "application/vnd.jupyter.widget-view+json": {
       "model_id": "ca9e534d94b94c6e9a646998bd0ed9c8",
       "version_major": 2,
       "version_minor": 0
      },
      "text/plain": [
       "  0%|          | 0/333 [00:00<?, ?it/s]"
      ]
     },
     "metadata": {},
     "output_type": "display_data"
    },
    {
     "name": "stderr",
     "output_type": "stream",
     "text": [
      "[I 2024-05-20 08:50:35,401] Trial 321 finished with value: 15.320594328815767 and parameters: {'lookback_days': 28, 'num_boost_rounds': 373, 'learning_rate': 0.08057624793539293, 'max_depth': 3, 'num_leaves': 85, 'lambda_l1': 1.0278260812203668e-06, 'lambda_l2': 6.739814379543735e-07, 'min_split_gain': 2.6142966524057722e-06}. Best is trial 256 with value: 15.090702565713762.\n"
     ]
    },
    {
     "data": {
      "application/vnd.jupyter.widget-view+json": {
       "model_id": "bcc7920b968f4198b46b585e0bc8299c",
       "version_major": 2,
       "version_minor": 0
      },
      "text/plain": [
       "  0%|          | 0/333 [00:00<?, ?it/s]"
      ]
     },
     "metadata": {},
     "output_type": "display_data"
    },
    {
     "name": "stderr",
     "output_type": "stream",
     "text": [
      "[I 2024-05-20 08:51:53,279] Trial 322 finished with value: 15.233431123595818 and parameters: {'lookback_days': 28, 'num_boost_rounds': 360, 'learning_rate': 0.06522530606313834, 'max_depth': 3, 'num_leaves': 89, 'lambda_l1': 2.667374309839477e-06, 'lambda_l2': 9.627312861253468e-07, 'min_split_gain': 1.5586731950632529e-06}. Best is trial 256 with value: 15.090702565713762.\n"
     ]
    },
    {
     "data": {
      "application/vnd.jupyter.widget-view+json": {
       "model_id": "64513ceda4c6474185f5e79e9e8a1032",
       "version_major": 2,
       "version_minor": 0
      },
      "text/plain": [
       "  0%|          | 0/333 [00:00<?, ?it/s]"
      ]
     },
     "metadata": {},
     "output_type": "display_data"
    },
    {
     "name": "stderr",
     "output_type": "stream",
     "text": [
      "[I 2024-05-20 08:53:02,019] Trial 323 finished with value: 16.880567851959167 and parameters: {'lookback_days': 16, 'num_boost_rounds': 379, 'learning_rate': 0.04960764171258854, 'max_depth': 3, 'num_leaves': 87, 'lambda_l1': 1.8690652477800452e-06, 'lambda_l2': 1.3930145831735229e-06, 'min_split_gain': 4.770404812044711e-06}. Best is trial 256 with value: 15.090702565713762.\n"
     ]
    },
    {
     "data": {
      "application/vnd.jupyter.widget-view+json": {
       "model_id": "e2e2ac88d7d0496fb9faf93c0d27179d",
       "version_major": 2,
       "version_minor": 0
      },
      "text/plain": [
       "  0%|          | 0/333 [00:00<?, ?it/s]"
      ]
     },
     "metadata": {},
     "output_type": "display_data"
    },
    {
     "name": "stderr",
     "output_type": "stream",
     "text": [
      "[I 2024-05-20 08:54:23,411] Trial 324 finished with value: 15.235580792893494 and parameters: {'lookback_days': 27, 'num_boost_rounds': 417, 'learning_rate': 0.0871935813579399, 'max_depth': 3, 'num_leaves': 76, 'lambda_l1': 1.238194861779521e-05, 'lambda_l2': 9.9362104132773e-07, 'min_split_gain': 7.953624694005168e-06}. Best is trial 256 with value: 15.090702565713762.\n"
     ]
    },
    {
     "data": {
      "application/vnd.jupyter.widget-view+json": {
       "model_id": "62996b270869433eb4f67a6cf957e109",
       "version_major": 2,
       "version_minor": 0
      },
      "text/plain": [
       "  0%|          | 0/333 [00:00<?, ?it/s]"
      ]
     },
     "metadata": {},
     "output_type": "display_data"
    },
    {
     "name": "stderr",
     "output_type": "stream",
     "text": [
      "[I 2024-05-20 08:55:51,797] Trial 325 finished with value: 15.738002652074494 and parameters: {'lookback_days': 25, 'num_boost_rounds': 384, 'learning_rate': 0.07062429143652627, 'max_depth': 4, 'num_leaves': 82, 'lambda_l1': 3.5716052180656733e-06, 'lambda_l2': 0.019081080021620914, 'min_split_gain': 1.2280017389599725e-05}. Best is trial 256 with value: 15.090702565713762.\n"
     ]
    },
    {
     "data": {
      "application/vnd.jupyter.widget-view+json": {
       "model_id": "3d298e63c77d40b98fbbf75d33e88a18",
       "version_major": 2,
       "version_minor": 0
      },
      "text/plain": [
       "  0%|          | 0/333 [00:00<?, ?it/s]"
      ]
     },
     "metadata": {},
     "output_type": "display_data"
    },
    {
     "name": "stderr",
     "output_type": "stream",
     "text": [
      "[I 2024-05-20 08:57:10,359] Trial 326 finished with value: 15.219034907815393 and parameters: {'lookback_days': 28, 'num_boost_rounds': 368, 'learning_rate': 0.05667677815294948, 'max_depth': 3, 'num_leaves': 89, 'lambda_l1': 9.796112872402387e-07, 'lambda_l2': 2.9320168339792186e-07, 'min_split_gain': 3.98907374348843e-06}. Best is trial 256 with value: 15.090702565713762.\n"
     ]
    },
    {
     "data": {
      "application/vnd.jupyter.widget-view+json": {
       "model_id": "943c8c1a56c846ad90a77b9b78659d48",
       "version_major": 2,
       "version_minor": 0
      },
      "text/plain": [
       "  0%|          | 0/333 [00:00<?, ?it/s]"
      ]
     },
     "metadata": {},
     "output_type": "display_data"
    },
    {
     "name": "stderr",
     "output_type": "stream",
     "text": [
      "[I 2024-05-20 08:58:34,050] Trial 327 finished with value: 29.594394774745847 and parameters: {'lookback_days': 27, 'num_boost_rounds': 405, 'learning_rate': 0.0004798346576932494, 'max_depth': 3, 'num_leaves': 85, 'lambda_l1': 1.9963904713727044e-07, 'lambda_l2': 4.4642457107364285e-07, 'min_split_gain': 8.721666732758455e-06}. Best is trial 256 with value: 15.090702565713762.\n"
     ]
    },
    {
     "data": {
      "application/vnd.jupyter.widget-view+json": {
       "model_id": "60474bb51ffe4bf1b31f74db2e1e1e48",
       "version_major": 2,
       "version_minor": 0
      },
      "text/plain": [
       "  0%|          | 0/333 [00:00<?, ?it/s]"
      ]
     },
     "metadata": {},
     "output_type": "display_data"
    },
    {
     "name": "stderr",
     "output_type": "stream",
     "text": [
      "[I 2024-05-20 08:59:49,772] Trial 328 finished with value: 15.251419458814409 and parameters: {'lookback_days': 28, 'num_boost_rounds': 357, 'learning_rate': 0.04187606146057665, 'max_depth': 3, 'num_leaves': 93, 'lambda_l1': 5.412476997878018e-06, 'lambda_l2': 1.3489875003069419e-07, 'min_split_gain': 5.986837260552093e-06}. Best is trial 256 with value: 15.090702565713762.\n"
     ]
    },
    {
     "data": {
      "application/vnd.jupyter.widget-view+json": {
       "model_id": "2363bb333a1144b5adb5fe6d5838f2d8",
       "version_major": 2,
       "version_minor": 0
      },
      "text/plain": [
       "  0%|          | 0/333 [00:00<?, ?it/s]"
      ]
     },
     "metadata": {},
     "output_type": "display_data"
    },
    {
     "name": "stderr",
     "output_type": "stream",
     "text": [
      "[I 2024-05-20 09:01:11,944] Trial 329 finished with value: 15.29264030034002 and parameters: {'lookback_days': 29, 'num_boost_rounds': 395, 'learning_rate': 0.06929744332499832, 'max_depth': 3, 'num_leaves': 91, 'lambda_l1': 1.4589415764745737e-06, 'lambda_l2': 7.117241494569015e-08, 'min_split_gain': 2.1119877533992245e-05}. Best is trial 256 with value: 15.090702565713762.\n"
     ]
    },
    {
     "data": {
      "application/vnd.jupyter.widget-view+json": {
       "model_id": "4617e7b20f984e8685a2a12d74aa2093",
       "version_major": 2,
       "version_minor": 0
      },
      "text/plain": [
       "  0%|          | 0/333 [00:00<?, ?it/s]"
      ]
     },
     "metadata": {},
     "output_type": "display_data"
    },
    {
     "name": "stderr",
     "output_type": "stream",
     "text": [
      "[I 2024-05-20 09:02:38,888] Trial 330 finished with value: 15.609908355232365 and parameters: {'lookback_days': 27, 'num_boost_rounds': 349, 'learning_rate': 0.0999168244213903, 'max_depth': 4, 'num_leaves': 87, 'lambda_l1': 3.259139981575467e-07, 'lambda_l2': 1.9957776134715845e-05, 'min_split_gain': 1.3111983472338783e-05}. Best is trial 256 with value: 15.090702565713762.\n"
     ]
    }
   ],
   "source": [
    "# Create a study object and specify the direction (minimize)\n",
    "study = optuna.create_study(direction='minimize')\n",
    "study.optimize(objective, n_trials=None, timeout=60*60*8)"
   ]
  },
  {
   "cell_type": "code",
   "execution_count": 31,
   "metadata": {},
   "outputs": [
    {
     "name": "stdout",
     "output_type": "stream",
     "text": [
      "Best hyperparameters:  {'lookback_days': 28, 'num_boost_rounds': 392, 'learning_rate': 0.06909917442885449, 'max_depth': 3, 'num_leaves': 88, 'lambda_l1': 4.025467191249312e-06, 'lambda_l2': 1.2454961537826062e-06, 'min_split_gain': 2.5434484381686483e-06}\n",
      "Best RMSE:  15.090702565713762\n"
     ]
    }
   ],
   "source": [
    "# Print the best hyperparameters\n",
    "print(\"Best hyperparameters: \", study.best_params)\n",
    "print(\"Best RMSE: \", study.best_value)"
   ]
  },
  {
   "cell_type": "code",
   "execution_count": 32,
   "metadata": {},
   "outputs": [
    {
     "data": {
      "application/vnd.plotly.v1+json": {
       "config": {
        "plotlyServerURL": "https://plot.ly"
       },
       "data": [
        {
         "mode": "markers",
         "name": "Objective Value",
         "type": "scatter",
         "x": [
          0,
          1,
          2,
          3,
          4,
          5,
          6,
          7,
          8,
          9,
          10,
          11,
          12,
          13,
          14,
          15,
          16,
          17,
          18,
          19,
          20,
          21,
          22,
          23,
          24,
          25,
          26,
          27,
          28,
          29,
          30,
          31,
          32,
          33,
          34,
          35,
          36,
          37,
          38,
          39,
          40,
          41,
          42,
          43,
          44,
          45,
          46,
          47,
          48,
          49,
          50,
          51,
          52,
          53,
          54,
          55,
          56,
          57,
          58,
          59,
          60,
          61,
          62,
          63,
          64,
          65,
          66,
          67,
          68,
          69,
          70,
          71,
          72,
          73,
          74,
          75,
          76,
          77,
          78,
          79,
          80,
          81,
          82,
          83,
          84,
          85,
          86,
          87,
          88,
          89,
          90,
          91,
          92,
          93,
          94,
          95,
          96,
          97,
          98,
          99,
          100,
          101,
          102,
          103,
          104,
          105,
          106,
          107,
          108,
          109,
          110,
          111,
          112,
          113,
          114,
          115,
          116,
          117,
          118,
          119,
          120,
          121,
          122,
          123,
          124,
          125,
          126,
          127,
          128,
          129,
          130,
          131,
          132,
          133,
          134,
          135,
          136,
          137,
          138,
          139,
          140,
          141,
          142,
          143,
          144,
          145,
          146,
          147,
          148,
          149,
          150,
          151,
          152,
          153,
          154,
          155,
          156,
          157,
          158,
          159,
          160,
          161,
          162,
          163,
          164,
          165,
          166,
          167,
          168,
          169,
          170,
          171,
          172,
          173,
          174,
          175,
          176,
          177,
          178,
          179,
          180,
          181,
          182,
          183,
          184,
          185,
          186,
          187,
          188,
          189,
          190,
          191,
          192,
          193,
          194,
          195,
          196,
          197,
          198,
          199,
          200,
          201,
          202,
          203,
          204,
          205,
          206,
          207,
          208,
          209,
          210,
          211,
          212,
          213,
          214,
          215,
          216,
          217,
          218,
          219,
          220,
          221,
          222,
          223,
          224,
          225,
          226,
          227,
          228,
          229,
          230,
          231,
          232,
          233,
          234,
          235,
          236,
          237,
          238,
          239,
          240,
          241,
          242,
          243,
          244,
          245,
          246,
          247,
          248,
          249,
          250,
          251,
          252,
          253,
          254,
          255,
          256,
          257,
          258,
          259,
          260,
          261,
          262,
          263,
          264,
          265,
          266,
          267,
          268,
          269,
          270,
          271,
          272,
          273,
          274,
          275,
          276,
          277,
          278,
          279,
          280,
          281,
          282,
          283,
          284,
          285,
          286,
          287,
          288,
          289,
          290,
          291,
          292,
          293,
          294,
          295,
          296,
          297,
          298,
          299,
          300,
          301,
          302,
          303,
          304,
          305,
          306,
          307,
          308,
          309,
          310,
          311,
          312,
          313,
          314,
          315,
          316,
          317,
          318,
          319,
          320,
          321,
          322,
          323,
          324,
          325,
          326,
          327,
          328,
          329,
          330
         ],
         "y": [
          31.52829797029997,
          17.41408301300425,
          24.21889166886352,
          28.598616756287292,
          20.375707436935755,
          30.0957105496793,
          30.189749761306423,
          31.895736919073993,
          33.01246898278587,
          18.64195491970603,
          27.806843148472375,
          17.624746572666343,
          17.71403736906321,
          16.599077184606713,
          16.395859245291042,
          16.421239669042038,
          30.1157242715797,
          16.645541444065145,
          17.140573027759746,
          29.54972677180274,
          16.330582981607684,
          16.38051253386307,
          16.376864645128137,
          16.308837990166648,
          16.36240076906222,
          16.333729349455318,
          18.334206072932066,
          29.21639413333146,
          15.433083229090492,
          15.566862309741632,
          15.41135923760896,
          15.40910706561946,
          16.69960676415017,
          15.445970834162868,
          19.220947940152794,
          22.30707424054187,
          16.881808511971997,
          17.611775491189263,
          16.430065400848566,
          17.36226603186556,
          26.665333491556986,
          15.557158160703427,
          15.890464352904216,
          15.553519839112665,
          16.18389524291895,
          30.1854279369551,
          20.60000967653703,
          16.266749322049183,
          19.523306803128904,
          18.25345179313998,
          16.58812639324674,
          15.515300289555176,
          15.40014162962452,
          15.297192007030864,
          15.612432273875797,
          15.478652351955134,
          15.996545035415965,
          32.08487928427473,
          16.819570702780766,
          16.208389827715266,
          15.682546171986782,
          15.49126273829282,
          15.845879993974968,
          15.546433211971111,
          15.671871983918836,
          17.10641163697735,
          15.265705805312061,
          15.884420038708033,
          23.382997018328545,
          15.1996345890437,
          15.610110148260695,
          15.265386872491943,
          15.206236567671562,
          15.342872123454095,
          15.640059724789626,
          16.586319624279056,
          15.170369630264204,
          15.21256109580102,
          15.637069791841311,
          16.485877612863334,
          15.295720350295017,
          15.158217069359056,
          15.19731769893374,
          15.211601190727102,
          15.617757949289468,
          15.438400042856342,
          32.13698429146692,
          29.929307659721406,
          15.433089491632389,
          15.873980063697779,
          15.952440494255846,
          15.178077119854056,
          15.20767593213234,
          15.191640788238907,
          15.264007938979589,
          15.552266236075619,
          15.313905299526965,
          25.707085276981807,
          15.582491561915703,
          15.343866720182016,
          15.222484515614777,
          15.226888383123388,
          15.193994938940744,
          15.631476292276108,
          15.41167896307342,
          15.217334104957578,
          15.636130335891792,
          15.361723106958344,
          15.82598250044717,
          15.30077867431977,
          32.13448731769681,
          15.165204926111336,
          15.274467258952892,
          15.297038884873055,
          15.600383586004625,
          15.168284854428366,
          15.244162436899513,
          15.734954415515634,
          15.393601648095071,
          18.474520107376545,
          15.203749533430978,
          32.624074150517615,
          15.319161797173349,
          15.26183683640324,
          15.180103308531995,
          15.652657551865069,
          15.397222449653169,
          15.62852936908024,
          15.669054549509799,
          18.16933433789415,
          15.225153572448223,
          15.20527402281141,
          15.250553001595312,
          15.22290844599944,
          15.603729921357168,
          15.279028798018775,
          16.420546444764987,
          27.37128116568656,
          15.302561949166988,
          15.628321246610524,
          15.23024623738358,
          15.280278198784028,
          15.333832905328313,
          15.28500767194056,
          15.278449885568333,
          22.3952347718313,
          15.299404507468633,
          15.290712458445476,
          15.653687622262684,
          15.248897828532064,
          15.25263084260092,
          15.261336232728796,
          15.300241772285244,
          15.244954819559174,
          15.210397491539563,
          15.590925480250297,
          15.445493696969677,
          15.309579617955308,
          15.750979112636891,
          15.23753067403234,
          15.587226032462217,
          15.163493450853583,
          15.179282860409293,
          15.19453438152121,
          15.254633025545173,
          15.242708224407037,
          15.311814798010118,
          15.156307199097377,
          16.414121019991203,
          16.27815269746084,
          15.277904992771038,
          15.237692094438001,
          15.297549583154453,
          15.217634245322728,
          15.288875909856419,
          15.240955041522328,
          19.063253403793908,
          15.616685202403533,
          16.95570590888232,
          15.668350964816282,
          15.315563489983614,
          15.308831079598873,
          15.261912727693266,
          15.211989002036097,
          15.247074942979017,
          15.341051729445095,
          15.324176607559076,
          15.187038997191403,
          15.238633541176595,
          15.657365266011888,
          15.305402940347303,
          15.140769718248036,
          15.372910444537103,
          15.178694272343307,
          15.27599890469546,
          22.21225982124424,
          16.370378110341964,
          15.229698228626317,
          15.321777612544498,
          15.330440933830474,
          15.549850262985675,
          15.259504133221366,
          15.279139851294858,
          15.328139857398721,
          15.28594438166185,
          15.305779703668591,
          15.127761798089589,
          15.701016878840553,
          15.241241568668228,
          15.257762988494623,
          15.60275295606091,
          15.23243481664563,
          15.264357997685106,
          15.322008170017408,
          15.225009633387051,
          15.256163852174067,
          15.358755706359437,
          15.249466089790099,
          15.216338640391458,
          15.294675090697211,
          19.810410558035784,
          16.846610592700205,
          15.157164986767121,
          15.10588381215759,
          15.383882534468906,
          15.15830680012387,
          15.174533260579574,
          15.200095130416688,
          15.29876806691397,
          17.04940747624987,
          15.302771873597539,
          15.214903728246204,
          15.203619977608765,
          15.174725655847594,
          16.39483792780408,
          15.225004508103087,
          15.229538349405251,
          15.261885793139834,
          15.157710840715177,
          15.302613803123943,
          15.203762233129149,
          15.194787892200432,
          15.251419881944539,
          15.29393453491501,
          15.204462561275673,
          15.301460200603044,
          15.202150571030003,
          15.163233884934955,
          15.261255696489737,
          15.23317559864575,
          32.76563783298963,
          15.185968395956492,
          15.657750774766551,
          15.308653885252538,
          15.618364554146977,
          15.401865858124994,
          15.090702565713762,
          15.704072385677899,
          15.329670941194664,
          15.28116397420029,
          15.196731593223442,
          15.59320541402018,
          15.314783666384221,
          15.35975595713227,
          30.347593749290944,
          18.156884809427336,
          32.5858562443017,
          15.299295808751488,
          15.697078685514287,
          15.358960714373413,
          16.39969117944422,
          15.258853394435864,
          15.25880666875289,
          15.286400863371943,
          15.641417076276753,
          31.814329794426083,
          15.332223110579273,
          15.178743331031615,
          15.222414131134624,
          15.66776436498627,
          15.226175729063096,
          16.093919436875826,
          15.85199835926774,
          15.293173039986062,
          15.21778411795959,
          20.479134134450106,
          15.669042271046091,
          16.6341257360521,
          18.37919083229267,
          15.300966955128848,
          15.291784285838535,
          15.326149570338387,
          15.311733560366017,
          15.265814736163739,
          16.322575434205646,
          15.697566239338377,
          15.232474440159583,
          15.264196241099919,
          16.74781397473924,
          26.570110779561926,
          15.30649373270442,
          15.34929043396993,
          15.691974027597404,
          15.36456683794373,
          17.950045085439708,
          15.247569391373508,
          15.17946251929142,
          15.313768763622607,
          25.233380135455754,
          15.181556329781463,
          15.36006539044535,
          15.405306724366676,
          15.286013873874555,
          15.19840865980284,
          15.740142278578048,
          16.56669871596229,
          15.27273149621602,
          15.124773629681398,
          15.260611371737827,
          15.606992113831195,
          15.293387103348824,
          15.320594328815767,
          15.233431123595818,
          16.880567851959167,
          15.235580792893494,
          15.738002652074494,
          15.219034907815393,
          29.594394774745847,
          15.251419458814409,
          15.29264030034002,
          15.609908355232365
         ]
        },
        {
         "mode": "lines",
         "name": "Best Value",
         "type": "scatter",
         "x": [
          0,
          1,
          2,
          3,
          4,
          5,
          6,
          7,
          8,
          9,
          10,
          11,
          12,
          13,
          14,
          15,
          16,
          17,
          18,
          19,
          20,
          21,
          22,
          23,
          24,
          25,
          26,
          27,
          28,
          29,
          30,
          31,
          32,
          33,
          34,
          35,
          36,
          37,
          38,
          39,
          40,
          41,
          42,
          43,
          44,
          45,
          46,
          47,
          48,
          49,
          50,
          51,
          52,
          53,
          54,
          55,
          56,
          57,
          58,
          59,
          60,
          61,
          62,
          63,
          64,
          65,
          66,
          67,
          68,
          69,
          70,
          71,
          72,
          73,
          74,
          75,
          76,
          77,
          78,
          79,
          80,
          81,
          82,
          83,
          84,
          85,
          86,
          87,
          88,
          89,
          90,
          91,
          92,
          93,
          94,
          95,
          96,
          97,
          98,
          99,
          100,
          101,
          102,
          103,
          104,
          105,
          106,
          107,
          108,
          109,
          110,
          111,
          112,
          113,
          114,
          115,
          116,
          117,
          118,
          119,
          120,
          121,
          122,
          123,
          124,
          125,
          126,
          127,
          128,
          129,
          130,
          131,
          132,
          133,
          134,
          135,
          136,
          137,
          138,
          139,
          140,
          141,
          142,
          143,
          144,
          145,
          146,
          147,
          148,
          149,
          150,
          151,
          152,
          153,
          154,
          155,
          156,
          157,
          158,
          159,
          160,
          161,
          162,
          163,
          164,
          165,
          166,
          167,
          168,
          169,
          170,
          171,
          172,
          173,
          174,
          175,
          176,
          177,
          178,
          179,
          180,
          181,
          182,
          183,
          184,
          185,
          186,
          187,
          188,
          189,
          190,
          191,
          192,
          193,
          194,
          195,
          196,
          197,
          198,
          199,
          200,
          201,
          202,
          203,
          204,
          205,
          206,
          207,
          208,
          209,
          210,
          211,
          212,
          213,
          214,
          215,
          216,
          217,
          218,
          219,
          220,
          221,
          222,
          223,
          224,
          225,
          226,
          227,
          228,
          229,
          230,
          231,
          232,
          233,
          234,
          235,
          236,
          237,
          238,
          239,
          240,
          241,
          242,
          243,
          244,
          245,
          246,
          247,
          248,
          249,
          250,
          251,
          252,
          253,
          254,
          255,
          256,
          257,
          258,
          259,
          260,
          261,
          262,
          263,
          264,
          265,
          266,
          267,
          268,
          269,
          270,
          271,
          272,
          273,
          274,
          275,
          276,
          277,
          278,
          279,
          280,
          281,
          282,
          283,
          284,
          285,
          286,
          287,
          288,
          289,
          290,
          291,
          292,
          293,
          294,
          295,
          296,
          297,
          298,
          299,
          300,
          301,
          302,
          303,
          304,
          305,
          306,
          307,
          308,
          309,
          310,
          311,
          312,
          313,
          314,
          315,
          316,
          317,
          318,
          319,
          320,
          321,
          322,
          323,
          324,
          325,
          326,
          327,
          328,
          329,
          330
         ],
         "y": [
          31.52829797029997,
          17.41408301300425,
          17.41408301300425,
          17.41408301300425,
          17.41408301300425,
          17.41408301300425,
          17.41408301300425,
          17.41408301300425,
          17.41408301300425,
          17.41408301300425,
          17.41408301300425,
          17.41408301300425,
          17.41408301300425,
          16.599077184606713,
          16.395859245291042,
          16.395859245291042,
          16.395859245291042,
          16.395859245291042,
          16.395859245291042,
          16.395859245291042,
          16.330582981607684,
          16.330582981607684,
          16.330582981607684,
          16.308837990166648,
          16.308837990166648,
          16.308837990166648,
          16.308837990166648,
          16.308837990166648,
          15.433083229090492,
          15.433083229090492,
          15.41135923760896,
          15.40910706561946,
          15.40910706561946,
          15.40910706561946,
          15.40910706561946,
          15.40910706561946,
          15.40910706561946,
          15.40910706561946,
          15.40910706561946,
          15.40910706561946,
          15.40910706561946,
          15.40910706561946,
          15.40910706561946,
          15.40910706561946,
          15.40910706561946,
          15.40910706561946,
          15.40910706561946,
          15.40910706561946,
          15.40910706561946,
          15.40910706561946,
          15.40910706561946,
          15.40910706561946,
          15.40014162962452,
          15.297192007030864,
          15.297192007030864,
          15.297192007030864,
          15.297192007030864,
          15.297192007030864,
          15.297192007030864,
          15.297192007030864,
          15.297192007030864,
          15.297192007030864,
          15.297192007030864,
          15.297192007030864,
          15.297192007030864,
          15.297192007030864,
          15.265705805312061,
          15.265705805312061,
          15.265705805312061,
          15.1996345890437,
          15.1996345890437,
          15.1996345890437,
          15.1996345890437,
          15.1996345890437,
          15.1996345890437,
          15.1996345890437,
          15.170369630264204,
          15.170369630264204,
          15.170369630264204,
          15.170369630264204,
          15.170369630264204,
          15.158217069359056,
          15.158217069359056,
          15.158217069359056,
          15.158217069359056,
          15.158217069359056,
          15.158217069359056,
          15.158217069359056,
          15.158217069359056,
          15.158217069359056,
          15.158217069359056,
          15.158217069359056,
          15.158217069359056,
          15.158217069359056,
          15.158217069359056,
          15.158217069359056,
          15.158217069359056,
          15.158217069359056,
          15.158217069359056,
          15.158217069359056,
          15.158217069359056,
          15.158217069359056,
          15.158217069359056,
          15.158217069359056,
          15.158217069359056,
          15.158217069359056,
          15.158217069359056,
          15.158217069359056,
          15.158217069359056,
          15.158217069359056,
          15.158217069359056,
          15.158217069359056,
          15.158217069359056,
          15.158217069359056,
          15.158217069359056,
          15.158217069359056,
          15.158217069359056,
          15.158217069359056,
          15.158217069359056,
          15.158217069359056,
          15.158217069359056,
          15.158217069359056,
          15.158217069359056,
          15.158217069359056,
          15.158217069359056,
          15.158217069359056,
          15.158217069359056,
          15.158217069359056,
          15.158217069359056,
          15.158217069359056,
          15.158217069359056,
          15.158217069359056,
          15.158217069359056,
          15.158217069359056,
          15.158217069359056,
          15.158217069359056,
          15.158217069359056,
          15.158217069359056,
          15.158217069359056,
          15.158217069359056,
          15.158217069359056,
          15.158217069359056,
          15.158217069359056,
          15.158217069359056,
          15.158217069359056,
          15.158217069359056,
          15.158217069359056,
          15.158217069359056,
          15.158217069359056,
          15.158217069359056,
          15.158217069359056,
          15.158217069359056,
          15.158217069359056,
          15.158217069359056,
          15.158217069359056,
          15.158217069359056,
          15.158217069359056,
          15.158217069359056,
          15.158217069359056,
          15.158217069359056,
          15.158217069359056,
          15.158217069359056,
          15.158217069359056,
          15.158217069359056,
          15.158217069359056,
          15.158217069359056,
          15.158217069359056,
          15.156307199097377,
          15.156307199097377,
          15.156307199097377,
          15.156307199097377,
          15.156307199097377,
          15.156307199097377,
          15.156307199097377,
          15.156307199097377,
          15.156307199097377,
          15.156307199097377,
          15.156307199097377,
          15.156307199097377,
          15.156307199097377,
          15.156307199097377,
          15.156307199097377,
          15.156307199097377,
          15.156307199097377,
          15.156307199097377,
          15.156307199097377,
          15.156307199097377,
          15.156307199097377,
          15.156307199097377,
          15.156307199097377,
          15.156307199097377,
          15.140769718248036,
          15.140769718248036,
          15.140769718248036,
          15.140769718248036,
          15.140769718248036,
          15.140769718248036,
          15.140769718248036,
          15.140769718248036,
          15.140769718248036,
          15.140769718248036,
          15.140769718248036,
          15.140769718248036,
          15.140769718248036,
          15.140769718248036,
          15.140769718248036,
          15.127761798089589,
          15.127761798089589,
          15.127761798089589,
          15.127761798089589,
          15.127761798089589,
          15.127761798089589,
          15.127761798089589,
          15.127761798089589,
          15.127761798089589,
          15.127761798089589,
          15.127761798089589,
          15.127761798089589,
          15.127761798089589,
          15.127761798089589,
          15.127761798089589,
          15.127761798089589,
          15.127761798089589,
          15.10588381215759,
          15.10588381215759,
          15.10588381215759,
          15.10588381215759,
          15.10588381215759,
          15.10588381215759,
          15.10588381215759,
          15.10588381215759,
          15.10588381215759,
          15.10588381215759,
          15.10588381215759,
          15.10588381215759,
          15.10588381215759,
          15.10588381215759,
          15.10588381215759,
          15.10588381215759,
          15.10588381215759,
          15.10588381215759,
          15.10588381215759,
          15.10588381215759,
          15.10588381215759,
          15.10588381215759,
          15.10588381215759,
          15.10588381215759,
          15.10588381215759,
          15.10588381215759,
          15.10588381215759,
          15.10588381215759,
          15.10588381215759,
          15.10588381215759,
          15.10588381215759,
          15.10588381215759,
          15.10588381215759,
          15.090702565713762,
          15.090702565713762,
          15.090702565713762,
          15.090702565713762,
          15.090702565713762,
          15.090702565713762,
          15.090702565713762,
          15.090702565713762,
          15.090702565713762,
          15.090702565713762,
          15.090702565713762,
          15.090702565713762,
          15.090702565713762,
          15.090702565713762,
          15.090702565713762,
          15.090702565713762,
          15.090702565713762,
          15.090702565713762,
          15.090702565713762,
          15.090702565713762,
          15.090702565713762,
          15.090702565713762,
          15.090702565713762,
          15.090702565713762,
          15.090702565713762,
          15.090702565713762,
          15.090702565713762,
          15.090702565713762,
          15.090702565713762,
          15.090702565713762,
          15.090702565713762,
          15.090702565713762,
          15.090702565713762,
          15.090702565713762,
          15.090702565713762,
          15.090702565713762,
          15.090702565713762,
          15.090702565713762,
          15.090702565713762,
          15.090702565713762,
          15.090702565713762,
          15.090702565713762,
          15.090702565713762,
          15.090702565713762,
          15.090702565713762,
          15.090702565713762,
          15.090702565713762,
          15.090702565713762,
          15.090702565713762,
          15.090702565713762,
          15.090702565713762,
          15.090702565713762,
          15.090702565713762,
          15.090702565713762,
          15.090702565713762,
          15.090702565713762,
          15.090702565713762,
          15.090702565713762,
          15.090702565713762,
          15.090702565713762,
          15.090702565713762,
          15.090702565713762,
          15.090702565713762,
          15.090702565713762,
          15.090702565713762,
          15.090702565713762,
          15.090702565713762,
          15.090702565713762,
          15.090702565713762,
          15.090702565713762,
          15.090702565713762,
          15.090702565713762,
          15.090702565713762,
          15.090702565713762,
          15.090702565713762
         ]
        },
        {
         "marker": {
          "color": "#cccccc"
         },
         "mode": "markers",
         "name": "Infeasible Trial",
         "showlegend": false,
         "type": "scatter",
         "x": [],
         "y": []
        }
       ],
       "layout": {
        "template": {
         "data": {
          "bar": [
           {
            "error_x": {
             "color": "#2a3f5f"
            },
            "error_y": {
             "color": "#2a3f5f"
            },
            "marker": {
             "line": {
              "color": "#E5ECF6",
              "width": 0.5
             },
             "pattern": {
              "fillmode": "overlay",
              "size": 10,
              "solidity": 0.2
             }
            },
            "type": "bar"
           }
          ],
          "barpolar": [
           {
            "marker": {
             "line": {
              "color": "#E5ECF6",
              "width": 0.5
             },
             "pattern": {
              "fillmode": "overlay",
              "size": 10,
              "solidity": 0.2
             }
            },
            "type": "barpolar"
           }
          ],
          "carpet": [
           {
            "aaxis": {
             "endlinecolor": "#2a3f5f",
             "gridcolor": "white",
             "linecolor": "white",
             "minorgridcolor": "white",
             "startlinecolor": "#2a3f5f"
            },
            "baxis": {
             "endlinecolor": "#2a3f5f",
             "gridcolor": "white",
             "linecolor": "white",
             "minorgridcolor": "white",
             "startlinecolor": "#2a3f5f"
            },
            "type": "carpet"
           }
          ],
          "choropleth": [
           {
            "colorbar": {
             "outlinewidth": 0,
             "ticks": ""
            },
            "type": "choropleth"
           }
          ],
          "contour": [
           {
            "colorbar": {
             "outlinewidth": 0,
             "ticks": ""
            },
            "colorscale": [
             [
              0,
              "#0d0887"
             ],
             [
              0.1111111111111111,
              "#46039f"
             ],
             [
              0.2222222222222222,
              "#7201a8"
             ],
             [
              0.3333333333333333,
              "#9c179e"
             ],
             [
              0.4444444444444444,
              "#bd3786"
             ],
             [
              0.5555555555555556,
              "#d8576b"
             ],
             [
              0.6666666666666666,
              "#ed7953"
             ],
             [
              0.7777777777777778,
              "#fb9f3a"
             ],
             [
              0.8888888888888888,
              "#fdca26"
             ],
             [
              1,
              "#f0f921"
             ]
            ],
            "type": "contour"
           }
          ],
          "contourcarpet": [
           {
            "colorbar": {
             "outlinewidth": 0,
             "ticks": ""
            },
            "type": "contourcarpet"
           }
          ],
          "heatmap": [
           {
            "colorbar": {
             "outlinewidth": 0,
             "ticks": ""
            },
            "colorscale": [
             [
              0,
              "#0d0887"
             ],
             [
              0.1111111111111111,
              "#46039f"
             ],
             [
              0.2222222222222222,
              "#7201a8"
             ],
             [
              0.3333333333333333,
              "#9c179e"
             ],
             [
              0.4444444444444444,
              "#bd3786"
             ],
             [
              0.5555555555555556,
              "#d8576b"
             ],
             [
              0.6666666666666666,
              "#ed7953"
             ],
             [
              0.7777777777777778,
              "#fb9f3a"
             ],
             [
              0.8888888888888888,
              "#fdca26"
             ],
             [
              1,
              "#f0f921"
             ]
            ],
            "type": "heatmap"
           }
          ],
          "heatmapgl": [
           {
            "colorbar": {
             "outlinewidth": 0,
             "ticks": ""
            },
            "colorscale": [
             [
              0,
              "#0d0887"
             ],
             [
              0.1111111111111111,
              "#46039f"
             ],
             [
              0.2222222222222222,
              "#7201a8"
             ],
             [
              0.3333333333333333,
              "#9c179e"
             ],
             [
              0.4444444444444444,
              "#bd3786"
             ],
             [
              0.5555555555555556,
              "#d8576b"
             ],
             [
              0.6666666666666666,
              "#ed7953"
             ],
             [
              0.7777777777777778,
              "#fb9f3a"
             ],
             [
              0.8888888888888888,
              "#fdca26"
             ],
             [
              1,
              "#f0f921"
             ]
            ],
            "type": "heatmapgl"
           }
          ],
          "histogram": [
           {
            "marker": {
             "pattern": {
              "fillmode": "overlay",
              "size": 10,
              "solidity": 0.2
             }
            },
            "type": "histogram"
           }
          ],
          "histogram2d": [
           {
            "colorbar": {
             "outlinewidth": 0,
             "ticks": ""
            },
            "colorscale": [
             [
              0,
              "#0d0887"
             ],
             [
              0.1111111111111111,
              "#46039f"
             ],
             [
              0.2222222222222222,
              "#7201a8"
             ],
             [
              0.3333333333333333,
              "#9c179e"
             ],
             [
              0.4444444444444444,
              "#bd3786"
             ],
             [
              0.5555555555555556,
              "#d8576b"
             ],
             [
              0.6666666666666666,
              "#ed7953"
             ],
             [
              0.7777777777777778,
              "#fb9f3a"
             ],
             [
              0.8888888888888888,
              "#fdca26"
             ],
             [
              1,
              "#f0f921"
             ]
            ],
            "type": "histogram2d"
           }
          ],
          "histogram2dcontour": [
           {
            "colorbar": {
             "outlinewidth": 0,
             "ticks": ""
            },
            "colorscale": [
             [
              0,
              "#0d0887"
             ],
             [
              0.1111111111111111,
              "#46039f"
             ],
             [
              0.2222222222222222,
              "#7201a8"
             ],
             [
              0.3333333333333333,
              "#9c179e"
             ],
             [
              0.4444444444444444,
              "#bd3786"
             ],
             [
              0.5555555555555556,
              "#d8576b"
             ],
             [
              0.6666666666666666,
              "#ed7953"
             ],
             [
              0.7777777777777778,
              "#fb9f3a"
             ],
             [
              0.8888888888888888,
              "#fdca26"
             ],
             [
              1,
              "#f0f921"
             ]
            ],
            "type": "histogram2dcontour"
           }
          ],
          "mesh3d": [
           {
            "colorbar": {
             "outlinewidth": 0,
             "ticks": ""
            },
            "type": "mesh3d"
           }
          ],
          "parcoords": [
           {
            "line": {
             "colorbar": {
              "outlinewidth": 0,
              "ticks": ""
             }
            },
            "type": "parcoords"
           }
          ],
          "pie": [
           {
            "automargin": true,
            "type": "pie"
           }
          ],
          "scatter": [
           {
            "fillpattern": {
             "fillmode": "overlay",
             "size": 10,
             "solidity": 0.2
            },
            "type": "scatter"
           }
          ],
          "scatter3d": [
           {
            "line": {
             "colorbar": {
              "outlinewidth": 0,
              "ticks": ""
             }
            },
            "marker": {
             "colorbar": {
              "outlinewidth": 0,
              "ticks": ""
             }
            },
            "type": "scatter3d"
           }
          ],
          "scattercarpet": [
           {
            "marker": {
             "colorbar": {
              "outlinewidth": 0,
              "ticks": ""
             }
            },
            "type": "scattercarpet"
           }
          ],
          "scattergeo": [
           {
            "marker": {
             "colorbar": {
              "outlinewidth": 0,
              "ticks": ""
             }
            },
            "type": "scattergeo"
           }
          ],
          "scattergl": [
           {
            "marker": {
             "colorbar": {
              "outlinewidth": 0,
              "ticks": ""
             }
            },
            "type": "scattergl"
           }
          ],
          "scattermapbox": [
           {
            "marker": {
             "colorbar": {
              "outlinewidth": 0,
              "ticks": ""
             }
            },
            "type": "scattermapbox"
           }
          ],
          "scatterpolar": [
           {
            "marker": {
             "colorbar": {
              "outlinewidth": 0,
              "ticks": ""
             }
            },
            "type": "scatterpolar"
           }
          ],
          "scatterpolargl": [
           {
            "marker": {
             "colorbar": {
              "outlinewidth": 0,
              "ticks": ""
             }
            },
            "type": "scatterpolargl"
           }
          ],
          "scatterternary": [
           {
            "marker": {
             "colorbar": {
              "outlinewidth": 0,
              "ticks": ""
             }
            },
            "type": "scatterternary"
           }
          ],
          "surface": [
           {
            "colorbar": {
             "outlinewidth": 0,
             "ticks": ""
            },
            "colorscale": [
             [
              0,
              "#0d0887"
             ],
             [
              0.1111111111111111,
              "#46039f"
             ],
             [
              0.2222222222222222,
              "#7201a8"
             ],
             [
              0.3333333333333333,
              "#9c179e"
             ],
             [
              0.4444444444444444,
              "#bd3786"
             ],
             [
              0.5555555555555556,
              "#d8576b"
             ],
             [
              0.6666666666666666,
              "#ed7953"
             ],
             [
              0.7777777777777778,
              "#fb9f3a"
             ],
             [
              0.8888888888888888,
              "#fdca26"
             ],
             [
              1,
              "#f0f921"
             ]
            ],
            "type": "surface"
           }
          ],
          "table": [
           {
            "cells": {
             "fill": {
              "color": "#EBF0F8"
             },
             "line": {
              "color": "white"
             }
            },
            "header": {
             "fill": {
              "color": "#C8D4E3"
             },
             "line": {
              "color": "white"
             }
            },
            "type": "table"
           }
          ]
         },
         "layout": {
          "annotationdefaults": {
           "arrowcolor": "#2a3f5f",
           "arrowhead": 0,
           "arrowwidth": 1
          },
          "autotypenumbers": "strict",
          "coloraxis": {
           "colorbar": {
            "outlinewidth": 0,
            "ticks": ""
           }
          },
          "colorscale": {
           "diverging": [
            [
             0,
             "#8e0152"
            ],
            [
             0.1,
             "#c51b7d"
            ],
            [
             0.2,
             "#de77ae"
            ],
            [
             0.3,
             "#f1b6da"
            ],
            [
             0.4,
             "#fde0ef"
            ],
            [
             0.5,
             "#f7f7f7"
            ],
            [
             0.6,
             "#e6f5d0"
            ],
            [
             0.7,
             "#b8e186"
            ],
            [
             0.8,
             "#7fbc41"
            ],
            [
             0.9,
             "#4d9221"
            ],
            [
             1,
             "#276419"
            ]
           ],
           "sequential": [
            [
             0,
             "#0d0887"
            ],
            [
             0.1111111111111111,
             "#46039f"
            ],
            [
             0.2222222222222222,
             "#7201a8"
            ],
            [
             0.3333333333333333,
             "#9c179e"
            ],
            [
             0.4444444444444444,
             "#bd3786"
            ],
            [
             0.5555555555555556,
             "#d8576b"
            ],
            [
             0.6666666666666666,
             "#ed7953"
            ],
            [
             0.7777777777777778,
             "#fb9f3a"
            ],
            [
             0.8888888888888888,
             "#fdca26"
            ],
            [
             1,
             "#f0f921"
            ]
           ],
           "sequentialminus": [
            [
             0,
             "#0d0887"
            ],
            [
             0.1111111111111111,
             "#46039f"
            ],
            [
             0.2222222222222222,
             "#7201a8"
            ],
            [
             0.3333333333333333,
             "#9c179e"
            ],
            [
             0.4444444444444444,
             "#bd3786"
            ],
            [
             0.5555555555555556,
             "#d8576b"
            ],
            [
             0.6666666666666666,
             "#ed7953"
            ],
            [
             0.7777777777777778,
             "#fb9f3a"
            ],
            [
             0.8888888888888888,
             "#fdca26"
            ],
            [
             1,
             "#f0f921"
            ]
           ]
          },
          "colorway": [
           "#636efa",
           "#EF553B",
           "#00cc96",
           "#ab63fa",
           "#FFA15A",
           "#19d3f3",
           "#FF6692",
           "#B6E880",
           "#FF97FF",
           "#FECB52"
          ],
          "font": {
           "color": "#2a3f5f"
          },
          "geo": {
           "bgcolor": "white",
           "lakecolor": "white",
           "landcolor": "#E5ECF6",
           "showlakes": true,
           "showland": true,
           "subunitcolor": "white"
          },
          "hoverlabel": {
           "align": "left"
          },
          "hovermode": "closest",
          "mapbox": {
           "style": "light"
          },
          "paper_bgcolor": "white",
          "plot_bgcolor": "#E5ECF6",
          "polar": {
           "angularaxis": {
            "gridcolor": "white",
            "linecolor": "white",
            "ticks": ""
           },
           "bgcolor": "#E5ECF6",
           "radialaxis": {
            "gridcolor": "white",
            "linecolor": "white",
            "ticks": ""
           }
          },
          "scene": {
           "xaxis": {
            "backgroundcolor": "#E5ECF6",
            "gridcolor": "white",
            "gridwidth": 2,
            "linecolor": "white",
            "showbackground": true,
            "ticks": "",
            "zerolinecolor": "white"
           },
           "yaxis": {
            "backgroundcolor": "#E5ECF6",
            "gridcolor": "white",
            "gridwidth": 2,
            "linecolor": "white",
            "showbackground": true,
            "ticks": "",
            "zerolinecolor": "white"
           },
           "zaxis": {
            "backgroundcolor": "#E5ECF6",
            "gridcolor": "white",
            "gridwidth": 2,
            "linecolor": "white",
            "showbackground": true,
            "ticks": "",
            "zerolinecolor": "white"
           }
          },
          "shapedefaults": {
           "line": {
            "color": "#2a3f5f"
           }
          },
          "ternary": {
           "aaxis": {
            "gridcolor": "white",
            "linecolor": "white",
            "ticks": ""
           },
           "baxis": {
            "gridcolor": "white",
            "linecolor": "white",
            "ticks": ""
           },
           "bgcolor": "#E5ECF6",
           "caxis": {
            "gridcolor": "white",
            "linecolor": "white",
            "ticks": ""
           }
          },
          "title": {
           "x": 0.05
          },
          "xaxis": {
           "automargin": true,
           "gridcolor": "white",
           "linecolor": "white",
           "ticks": "",
           "title": {
            "standoff": 15
           },
           "zerolinecolor": "white",
           "zerolinewidth": 2
          },
          "yaxis": {
           "automargin": true,
           "gridcolor": "white",
           "linecolor": "white",
           "ticks": "",
           "title": {
            "standoff": 15
           },
           "zerolinecolor": "white",
           "zerolinewidth": 2
          }
         }
        },
        "title": {
         "text": "Optimization History Plot"
        },
        "xaxis": {
         "title": {
          "text": "Trial"
         }
        },
        "yaxis": {
         "title": {
          "text": "Objective Value"
         }
        }
       }
      }
     },
     "metadata": {},
     "output_type": "display_data"
    }
   ],
   "source": [
    "plot_optimization_history(study)"
   ]
  },
  {
   "cell_type": "code",
   "execution_count": 33,
   "metadata": {},
   "outputs": [
    {
     "data": {
      "application/vnd.plotly.v1+json": {
       "config": {
        "plotlyServerURL": "https://plot.ly"
       },
       "data": [
        {
         "dimensions": [
          {
           "label": "Objective Value",
           "range": [
            15.090702565713762,
            33.01246898278587
           ],
           "values": [
            31.52829797029997,
            17.41408301300425,
            24.21889166886352,
            28.598616756287292,
            20.375707436935755,
            30.0957105496793,
            30.189749761306423,
            31.895736919073993,
            33.01246898278587,
            18.64195491970603,
            27.806843148472375,
            17.624746572666343,
            17.71403736906321,
            16.599077184606713,
            16.395859245291042,
            16.421239669042038,
            30.1157242715797,
            16.645541444065145,
            17.140573027759746,
            29.54972677180274,
            16.330582981607684,
            16.38051253386307,
            16.376864645128137,
            16.308837990166648,
            16.36240076906222,
            16.333729349455318,
            18.334206072932066,
            29.21639413333146,
            15.433083229090492,
            15.566862309741632,
            15.41135923760896,
            15.40910706561946,
            16.69960676415017,
            15.445970834162868,
            19.220947940152794,
            22.30707424054187,
            16.881808511971997,
            17.611775491189263,
            16.430065400848566,
            17.36226603186556,
            26.665333491556986,
            15.557158160703427,
            15.890464352904216,
            15.553519839112665,
            16.18389524291895,
            30.1854279369551,
            20.60000967653703,
            16.266749322049183,
            19.523306803128904,
            18.25345179313998,
            16.58812639324674,
            15.515300289555176,
            15.40014162962452,
            15.297192007030864,
            15.612432273875797,
            15.478652351955134,
            15.996545035415965,
            32.08487928427473,
            16.819570702780766,
            16.208389827715266,
            15.682546171986782,
            15.49126273829282,
            15.845879993974968,
            15.546433211971111,
            15.671871983918836,
            17.10641163697735,
            15.265705805312061,
            15.884420038708033,
            23.382997018328545,
            15.1996345890437,
            15.610110148260695,
            15.265386872491943,
            15.206236567671562,
            15.342872123454095,
            15.640059724789626,
            16.586319624279056,
            15.170369630264204,
            15.21256109580102,
            15.637069791841311,
            16.485877612863334,
            15.295720350295017,
            15.158217069359056,
            15.19731769893374,
            15.211601190727102,
            15.617757949289468,
            15.438400042856342,
            32.13698429146692,
            29.929307659721406,
            15.433089491632389,
            15.873980063697779,
            15.952440494255846,
            15.178077119854056,
            15.20767593213234,
            15.191640788238907,
            15.264007938979589,
            15.552266236075619,
            15.313905299526965,
            25.707085276981807,
            15.582491561915703,
            15.343866720182016,
            15.222484515614777,
            15.226888383123388,
            15.193994938940744,
            15.631476292276108,
            15.41167896307342,
            15.217334104957578,
            15.636130335891792,
            15.361723106958344,
            15.82598250044717,
            15.30077867431977,
            32.13448731769681,
            15.165204926111336,
            15.274467258952892,
            15.297038884873055,
            15.600383586004625,
            15.168284854428366,
            15.244162436899513,
            15.734954415515634,
            15.393601648095071,
            18.474520107376545,
            15.203749533430978,
            32.624074150517615,
            15.319161797173349,
            15.26183683640324,
            15.180103308531995,
            15.652657551865069,
            15.397222449653169,
            15.62852936908024,
            15.669054549509799,
            18.16933433789415,
            15.225153572448223,
            15.20527402281141,
            15.250553001595312,
            15.22290844599944,
            15.603729921357168,
            15.279028798018775,
            16.420546444764987,
            27.37128116568656,
            15.302561949166988,
            15.628321246610524,
            15.23024623738358,
            15.280278198784028,
            15.333832905328313,
            15.28500767194056,
            15.278449885568333,
            22.3952347718313,
            15.299404507468633,
            15.290712458445476,
            15.653687622262684,
            15.248897828532064,
            15.25263084260092,
            15.261336232728796,
            15.300241772285244,
            15.244954819559174,
            15.210397491539563,
            15.590925480250297,
            15.445493696969677,
            15.309579617955308,
            15.750979112636891,
            15.23753067403234,
            15.587226032462217,
            15.163493450853583,
            15.179282860409293,
            15.19453438152121,
            15.254633025545173,
            15.242708224407037,
            15.311814798010118,
            15.156307199097377,
            16.414121019991203,
            16.27815269746084,
            15.277904992771038,
            15.237692094438001,
            15.297549583154453,
            15.217634245322728,
            15.288875909856419,
            15.240955041522328,
            19.063253403793908,
            15.616685202403533,
            16.95570590888232,
            15.668350964816282,
            15.315563489983614,
            15.308831079598873,
            15.261912727693266,
            15.211989002036097,
            15.247074942979017,
            15.341051729445095,
            15.324176607559076,
            15.187038997191403,
            15.238633541176595,
            15.657365266011888,
            15.305402940347303,
            15.140769718248036,
            15.372910444537103,
            15.178694272343307,
            15.27599890469546,
            22.21225982124424,
            16.370378110341964,
            15.229698228626317,
            15.321777612544498,
            15.330440933830474,
            15.549850262985675,
            15.259504133221366,
            15.279139851294858,
            15.328139857398721,
            15.28594438166185,
            15.305779703668591,
            15.127761798089589,
            15.701016878840553,
            15.241241568668228,
            15.257762988494623,
            15.60275295606091,
            15.23243481664563,
            15.264357997685106,
            15.322008170017408,
            15.225009633387051,
            15.256163852174067,
            15.358755706359437,
            15.249466089790099,
            15.216338640391458,
            15.294675090697211,
            19.810410558035784,
            16.846610592700205,
            15.157164986767121,
            15.10588381215759,
            15.383882534468906,
            15.15830680012387,
            15.174533260579574,
            15.200095130416688,
            15.29876806691397,
            17.04940747624987,
            15.302771873597539,
            15.214903728246204,
            15.203619977608765,
            15.174725655847594,
            16.39483792780408,
            15.225004508103087,
            15.229538349405251,
            15.261885793139834,
            15.157710840715177,
            15.302613803123943,
            15.203762233129149,
            15.194787892200432,
            15.251419881944539,
            15.29393453491501,
            15.204462561275673,
            15.301460200603044,
            15.202150571030003,
            15.163233884934955,
            15.261255696489737,
            15.23317559864575,
            32.76563783298963,
            15.185968395956492,
            15.657750774766551,
            15.308653885252538,
            15.618364554146977,
            15.401865858124994,
            15.090702565713762,
            15.704072385677899,
            15.329670941194664,
            15.28116397420029,
            15.196731593223442,
            15.59320541402018,
            15.314783666384221,
            15.35975595713227,
            30.347593749290944,
            18.156884809427336,
            32.5858562443017,
            15.299295808751488,
            15.697078685514287,
            15.358960714373413,
            16.39969117944422,
            15.258853394435864,
            15.25880666875289,
            15.286400863371943,
            15.641417076276753,
            31.814329794426083,
            15.332223110579273,
            15.178743331031615,
            15.222414131134624,
            15.66776436498627,
            15.226175729063096,
            16.093919436875826,
            15.85199835926774,
            15.293173039986062,
            15.21778411795959,
            20.479134134450106,
            15.669042271046091,
            16.6341257360521,
            18.37919083229267,
            15.300966955128848,
            15.291784285838535,
            15.326149570338387,
            15.311733560366017,
            15.265814736163739,
            16.322575434205646,
            15.697566239338377,
            15.232474440159583,
            15.264196241099919,
            16.74781397473924,
            26.570110779561926,
            15.30649373270442,
            15.34929043396993,
            15.691974027597404,
            15.36456683794373,
            17.950045085439708,
            15.247569391373508,
            15.17946251929142,
            15.313768763622607,
            25.233380135455754,
            15.181556329781463,
            15.36006539044535,
            15.405306724366676,
            15.286013873874555,
            15.19840865980284,
            15.740142278578048,
            16.56669871596229,
            15.27273149621602,
            15.124773629681398,
            15.260611371737827,
            15.606992113831195,
            15.293387103348824,
            15.320594328815767,
            15.233431123595818,
            16.880567851959167,
            15.235580792893494,
            15.738002652074494,
            15.219034907815393,
            29.594394774745847,
            15.251419458814409,
            15.29264030034002,
            15.609908355232365
           ]
          },
          {
           "label": "lambda_l1",
           "range": [
            -7.99844726018385,
            0.9920125891756408
           ],
           "ticktext": [
            "1e-08",
            "1e-07",
            "1e-06",
            "1e-05",
            "0.0001",
            "0.001",
            "0.01",
            "0.1",
            "1",
            "9.82"
           ],
           "tickvals": [
            -7.99844726018385,
            -7,
            -6,
            -5,
            -4,
            -3,
            -2,
            -1,
            0,
            0.9920125891756408
           ],
           "values": [
            -1.0713102186834058,
            0.9001357792120065,
            -5.803161292828462,
            -2.470243560040761,
            -4.561025845935258,
            -2.768837853909335,
            -4.089266340711131,
            -3.810943220445738,
            0.5809531779749204,
            -6.281915195279786,
            0.95794366496439,
            -7.267318146424277,
            -7.837309921601164,
            -7.996219628408375,
            -0.9701733541819214,
            -1.0025072399355348,
            -1.244397941052766,
            -0.7564027059831233,
            -2.0998034965269095,
            -0.26711297462076616,
            -1.8918599815338262,
            -1.855613693869353,
            -1.8041344441987215,
            -1.9524532814731053,
            -3.1202995070075863,
            -2.9503612985444545,
            -4.825821037608369,
            -3.1433045953940204,
            0.04111063792313477,
            -0.22291686240588127,
            0.27679646068381103,
            0.02699890678154611,
            0.159901655720934,
            -0.03163346255643997,
            0.17322460645113186,
            -0.3072241016104959,
            0.5109076686274082,
            0.9914382492014622,
            -0.6673034457168947,
            0.24540527081475988,
            -0.3982138780463939,
            -1.4301164832654405,
            -1.4050817362632457,
            0.5870440263390587,
            0.5441291597209008,
            0.05074226112593924,
            0.6932002591765665,
            -0.5558864912803886,
            0.9920125891756408,
            -2.429861658272156,
            -0.03720435205304741,
            -1.371398054132252,
            0.4363064679751992,
            -0.7661497960720759,
            -0.8590033136976515,
            0.42234121433148847,
            -0.15198306612831775,
            -0.5905379596053022,
            -1.0135948543601196,
            0.3503725984239808,
            -5.940353318128339,
            0.6962347950441701,
            0.3138984400169548,
            -0.06017857043262163,
            -4.797597548255428,
            -0.33968540489250504,
            0.33272903131786596,
            0.7635437158228712,
            -1.1406321471569063,
            0.06728707253785891,
            -0.4841750833663203,
            0.06885136681597898,
            0.19517742145450193,
            -4.0028243506729115,
            -3.8518433698645547,
            -3.600179779368098,
            -6.68854664449023,
            -6.502980209686293,
            -6.810185286171047,
            -5.310983273414775,
            -7.46830525902597,
            -7.582553316507469,
            -7.404279239987825,
            -7.557577615271384,
            -7.024359365556272,
            -7.6109956479401335,
            -6.585889430498209,
            -7.87296980647385,
            -7.1073806728281665,
            -6.401940337421641,
            -7.576353885320238,
            -7.452115659716598,
            -7.289413169657453,
            -7.131299511239153,
            -7.333977872488779,
            -6.924763108603381,
            -6.689234225386867,
            -7.1804366990835655,
            -5.979248024793506,
            -7.766887244615228,
            -6.216153986910685,
            -6.330849072301762,
            -7.270920262306841,
            -7.334644911764951,
            -7.927671239110786,
            -7.6338418435515845,
            -6.91260443155962,
            -6.541578048312536,
            -7.388388144900188,
            -7.194599295306461,
            -7.99261809954994,
            -7.760223646966664,
            -7.710799812780405,
            -7.492985503922097,
            -6.830195434591802,
            -7.025672153416734,
            -7.213610834593291,
            -7.071599467341531,
            -6.716026204941596,
            -7.733888999289303,
            -5.443977409044055,
            -7.430775085867274,
            -4.553476540333356,
            -5.548365999319177,
            -6.949011043782418,
            -7.019006217957006,
            -6.175054345445584,
            -7.25865607359243,
            -6.696925010268833,
            -7.846203044006175,
            -7.0286756378521735,
            -7.509854175139542,
            -7.416543398313515,
            -7.720252803846378,
            -6.8863921943543085,
            -7.320773522186367,
            -7.56187059784142,
            -7.263451431268262,
            -2.598284318987001,
            -7.991903307824608,
            -7.11389608560311,
            -7.564705893666605,
            -7.517171403412283,
            -7.779892230295633,
            -6.864727777805601,
            -7.1559948424479645,
            -7.399915618395878,
            -3.3030162869820274,
            -6.5502897488077885,
            -4.265014491823225,
            -7.669710921747987,
            -6.455526704444115,
            -5.081986444761716,
            -6.705361443485792,
            -5.666235251158515,
            -5.49444129231977,
            -5.958966885820956,
            -5.726166879279786,
            -6.972002588127793,
            -7.303757090133663,
            -7.554274381081896,
            -6.121414450288443,
            -5.73956042957519,
            -5.823922690549558,
            -6.245729212205247,
            -6.0367696431779825,
            -5.804172929463986,
            -5.371305008183226,
            -6.064120785148334,
            -5.111578859841377,
            -5.553898781347747,
            -5.335203973049308,
            -5.385174976606809,
            -5.174622153151168,
            -5.851997321517663,
            -6.342255472451821,
            -7.110992845731735,
            -4.955867681920958,
            -1.5851399911660442,
            -6.822023370751139,
            -7.313869529858109,
            -5.789130770856443,
            -5.740892656609148,
            -5.630669212726795,
            -5.506547742826255,
            -6.150302353424754,
            -7.0410277225621565,
            -7.815511650195537,
            -7.723511969866599,
            -7.878035867263236,
            -7.215769124291879,
            -7.394863006736858,
            -2.24347900650687,
            -7.516759890552568,
            -7.5172431964483915,
            -7.704553998128569,
            -7.389210402533323,
            -7.99844726018385,
            -7.508813662552623,
            -7.826407178381885,
            -6.956217782002219,
            -7.188697861083396,
            -7.396947997830058,
            -7.640853912221581,
            -6.669270238702381,
            -7.269506579748415,
            -7.456358188149289,
            -7.646065445996234,
            -7.4556726471481785,
            -7.137474051618414,
            -6.845044194456829,
            -7.41300202590425,
            -7.7635898207203144,
            -7.090003952937759,
            -7.5768828243094735,
            -7.3397490233201195,
            -6.992744236585788,
            -7.2209667853518935,
            -2.8576890374371624,
            -7.83466820368442,
            -7.466699086041943,
            -5.883720114711734,
            -5.281025598484786,
            -5.407670231478773,
            -5.317013029854742,
            -4.746423431849644,
            -4.934800660515795,
            -4.973135171722325,
            -4.856024900528683,
            -4.755716317132122,
            -5.167463500823915,
            -5.2971484399588435,
            -4.454401569467474,
            -4.603518588016086,
            -5.012899723033238,
            -5.139074264012882,
            -4.495887053743729,
            -4.791263557476104,
            -4.88905873993622,
            -4.7833440391000535,
            -5.240926600773248,
            -5.017773417256818,
            -4.919317172834478,
            -4.3224891591451176,
            -5.467010536675372,
            -5.6098591967430025,
            -5.034208909143989,
            -5.392866551094492,
            -4.713802782959627,
            -4.59768360278082,
            -5.34091571408409,
            -5.414580659735318,
            -5.4946371654040735,
            -5.214405347690889,
            -5.702952107259065,
            -5.094320768251278,
            -5.395183708635983,
            -5.503146343758566,
            -5.632235934663338,
            -5.4540636579925685,
            -5.861928202940529,
            -5.323282529955775,
            -6.043175772849889,
            -5.346322673283399,
            -5.197057210501472,
            -5.769360827656093,
            -5.621474425675418,
            -4.047968061637677,
            -4.876175084121671,
            -5.2103029235772444,
            -5.396178931939912,
            -3.693726221604496,
            -5.925350827454463,
            -6.437080175524671,
            -4.562557926464961,
            -4.663406619703004,
            -7.730077538237141,
            -5.596496170480532,
            -5.5691309894361005,
            -4.9292464321961456,
            -6.8026411541737195,
            -5.114712043303053,
            -7.573687359618849,
            -7.017220201685983,
            -5.346988241718413,
            -7.168306248331905,
            -4.327844351133461,
            -7.983198539345643,
            -7.3244889185634054,
            -5.504340295516036,
            -7.712097798732762,
            -6.5962497217915,
            -5.239569146446999,
            -4.996665346790081,
            -5.674375844893459,
            -7.435938813606604,
            -7.007575126033743,
            -7.5809086792742,
            -4.765168556516248,
            -7.832464551105609,
            -6.2524896553055695,
            -7.2721899408053785,
            -6.8610790005665345,
            -5.36885327401255,
            -5.081066808428689,
            -5.431097641619411,
            -7.159415430059359,
            -7.164850169739133,
            -5.677290246049825,
            -7.642134557985435,
            -7.810413347304962,
            -7.628772939805091,
            -7.997788095504726,
            -7.521592751673845,
            -7.678776691516906,
            -5.1539085283268,
            -7.453836507294174,
            -6.028693233531936,
            -6.287142399001541,
            -6.169823618451799,
            -5.868102042231734,
            -5.988080366232112,
            -5.573916035944437,
            -5.728375537435392,
            -4.907211002540389,
            -5.447136551208703,
            -6.00894621950699,
            -6.699754511657113,
            -5.266603936313567,
            -5.8359620991433765,
            -6.486896985984617
           ]
          },
          {
           "label": "lambda_l2",
           "range": [
            -7.996729327772953,
            0.9144360425885186
           ],
           "ticktext": [
            "1.01e-08",
            "1e-07",
            "1e-06",
            "1e-05",
            "0.0001",
            "0.001",
            "0.01",
            "0.1",
            "1",
            "8.21"
           ],
           "tickvals": [
            -7.996729327772953,
            -7,
            -6,
            -5,
            -4,
            -3,
            -2,
            -1,
            0,
            0.9144360425885186
           ],
           "values": [
            -1.3594080299115106,
            -5.878883246432845,
            -2.9428054531728165,
            -3.2173389035093076,
            -6.402931787202911,
            -3.8692006210754015,
            -0.06847821646110887,
            -2.8143941768866356,
            -3.4405456151900733,
            0.46289375761468415,
            -7.981578411407201,
            0.9144360425885186,
            -6.094158101458167,
            -5.207677204277804,
            -5.209621628876419,
            -4.57152004327175,
            -4.651354796645245,
            -7.809370949057839,
            -2.099941321628615,
            -4.693716851909608,
            -7.05407355180201,
            -7.188651504836945,
            -7.1730874596645995,
            -6.993604880907994,
            -6.923522400612117,
            -7.042299056644153,
            -6.481062525879964,
            -5.608268307955983,
            -7.585029416899736,
            -7.664583039336385,
            -7.692540757479551,
            -7.702134135310949,
            -7.733385319071828,
            -7.627409273269454,
            -6.292675710637652,
            -0.8729273007633792,
            -5.792522563908875,
            -7.5139543337037304,
            -6.652392884150836,
            -7.395332084834046,
            -6.670718266796273,
            -7.762486588280616,
            -7.9190213130289315,
            -7.963600926680473,
            -7.390327705625581,
            -6.229420632995573,
            -6.698336916388608,
            -5.936774992755276,
            -7.97492669484711,
            -3.937183674686292,
            -5.53672535946618,
            -7.493216088809292,
            -7.437371975368212,
            -7.431966031695035,
            -7.3806527858276,
            -2.4750057159877263,
            -6.955247992879668,
            -6.49828993867803,
            -7.275897091496051,
            -1.3601500586850925,
            -6.8188987154009375,
            -3.1232480493336174,
            -2.2191011154260973,
            -2.610643789337679,
            -1.6788616454684533,
            -0.7720124227483647,
            -3.855021626609301,
            -4.946379643718959,
            -3.753719705676228,
            -7.534979686985887,
            -4.248957625431797,
            -7.608096862714355,
            -7.093140561847713,
            -7.25233246233725,
            -7.128785077673943,
            -7.2282372218345055,
            -6.378156842115018,
            -6.4381204077639325,
            -6.087349784918675,
            -5.565575555051604,
            -6.480705730839369,
            -6.541761531619814,
            -6.565656744274897,
            -6.416649296658872,
            -5.28491279465535,
            -5.870851510321432,
            -6.401988294947022,
            -6.17617743368594,
            -6.797898120036865,
            -5.938687538617026,
            -6.6804411928515055,
            -6.593361018147463,
            -7.018788341035151,
            -7.043724977468095,
            -6.88797048397805,
            -6.31775724547633,
            -6.585337503581947,
            -7.021087073571967,
            -6.088220611903967,
            -5.743023243505634,
            -6.863494817273083,
            -6.919344676614851,
            -6.38280630642024,
            -6.327023871120345,
            -6.548235443832461,
            -7.069676165089165,
            -6.006439820083398,
            -5.356999929497721,
            -6.76085458360491,
            -5.006357551885564,
            -6.24499976580261,
            -7.065605938365045,
            -6.446839912337703,
            -7.154017631171509,
            -6.605863234915085,
            -5.698429783737454,
            -7.069251731514861,
            -7.286988602768806,
            -6.707190082473061,
            -5.678055118122459,
            -7.768894550531454,
            -7.611757509333946,
            -7.767820163643662,
            -7.482489923933851,
            -7.361070148428541,
            -7.302530968861445,
            -7.862941723035604,
            -7.996729327772953,
            -6.929806748824969,
            -7.560856230090368,
            -7.120492371666949,
            -6.185332021810805,
            -6.734434330570592,
            -6.161648244133668,
            -7.425639475401066,
            -6.906923339955718,
            -7.284672401348095,
            -7.775458381065026,
            -6.5807845268176255,
            -5.824364554250552,
            -6.233003961471987,
            -6.439577146226192,
            -6.042143750050428,
            -6.806565545073541,
            0.5239898309861617,
            -6.33566989799445,
            -7.12002723409905,
            -6.600912373566599,
            -6.9977992997673635,
            -6.73983570733362,
            -7.380438459153491,
            -6.518373744188679,
            -6.366381321394755,
            -5.926045014370789,
            -6.140144547374887,
            -6.109018318968433,
            -7.634028766103073,
            -7.19604235008624,
            -5.567214028750616,
            -6.2444836455430845,
            -6.978913333071997,
            -6.441337680786232,
            -6.627156718093022,
            -6.72436584911486,
            -6.787583056162279,
            -6.623844360067934,
            -6.9078538904164795,
            -7.148797723465651,
            -7.289918775349048,
            -7.4997943252706625,
            -6.539479347964316,
            -7.0162101114532,
            -6.80195808958541,
            -7.169060151570373,
            -6.690217923082199,
            -7.103430888154712,
            -6.426992489214767,
            -3.425867904850438,
            -7.34985560092362,
            -7.818209364600447,
            -6.923221624889655,
            -6.226218873891277,
            -5.9884842839022445,
            -6.565298606929901,
            -6.339116032855202,
            -6.148870746637616,
            -6.678355315416857,
            -7.631317422860973,
            -7.66108022758479,
            -7.398524924751947,
            -7.540267975367259,
            -7.1968569618246345,
            -7.184103495092238,
            -7.0406800566360355,
            -7.796005927382125,
            -6.84590086606703,
            -7.401211796966595,
            -7.5968431252768545,
            -7.06982716548997,
            -6.705734731021788,
            -7.163400398254673,
            -6.928285927505973,
            -7.315262898749153,
            -6.5455229259335095,
            -7.003964749241281,
            -6.847165507094098,
            -7.242095199753523,
            -7.941341348278239,
            -7.538360081389985,
            -6.441050789516904,
            -4.384965061065899,
            -7.255094824224355,
            -7.05589733827174,
            -6.771417406211036,
            -7.25032859047323,
            -7.6865839680880566,
            -6.997961710797869,
            -7.420683241758795,
            -6.676120563496087,
            -6.492587791798428,
            -7.145645247729573,
            -6.237018464205224,
            -6.3399078384303,
            -6.410522766234075,
            -6.350172695719657,
            -6.411588483581377,
            -6.373452858619569,
            -6.355371774453982,
            -6.37890942193835,
            -5.830241280772041,
            -6.559233601979176,
            -6.380775143360939,
            -6.632908951995232,
            -6.607368883662655,
            -6.508066017799311,
            -5.992182345443795,
            -6.271244948145511,
            -6.765548578294432,
            -6.44482436104926,
            -6.639809250782014,
            -6.852485648490853,
            -6.370216090424756,
            -6.088863407456838,
            -6.518314260549799,
            -6.236991656444301,
            -6.45273137048578,
            -6.6898840514564615,
            -6.333287191489522,
            -6.221163439569272,
            -6.408976625291921,
            -6.606656077428756,
            -6.058083589992211,
            -5.992298223886515,
            -6.097824708453451,
            -6.283985484381501,
            -6.4331142784255215,
            -5.904657609270445,
            -5.889646407495414,
            -0.7171032594190366,
            -5.66313296154424,
            -5.881105947636999,
            -6.064851213470983,
            -6.923079930071233,
            -6.808452390997718,
            -6.682507083625448,
            -5.755773553213042,
            -6.152498739960956,
            -6.270734993402748,
            -6.567520645129107,
            -6.828334220965234,
            -6.100176238565187,
            -5.447743033531496,
            -6.43977993002202,
            -6.980462912293531,
            -6.3075798244410795,
            -6.661049032200353,
            -6.509453540104794,
            -6.822282159908961,
            -2.7804364175725893,
            -7.191187773330955,
            -5.917223804405286,
            -6.880674106696188,
            -7.0909422824102055,
            -6.097315613522062,
            -7.24962970017126,
            -6.262396952347073,
            -6.526870031221731,
            -6.783079565425185,
            -7.406978805929147,
            -6.987394426012183,
            -5.049979968447308,
            -6.430789193652941,
            -5.6908509472082045,
            -6.675617442277735,
            -6.221747371305435,
            -6.582939837071825,
            -5.971399739557927,
            -7.299455722998712,
            -6.846899702274455,
            -6.371879494553977,
            -7.047415130966054,
            -7.47756528686359,
            -2.1075635205061447,
            -6.166523666262296,
            -6.690205529527512,
            -6.4882162434944695,
            -7.146171070417577,
            -7.0023610270805206,
            -7.195549687968843,
            -7.352985806974355,
            -7.512542369224387,
            -7.311019977337708,
            -7.183343020782282,
            -7.655317864466958,
            -7.41146327869431,
            -6.91474109782133,
            -6.750248649748025,
            -6.002612798481763,
            -5.814969365949832,
            -5.576822050379622,
            -6.28123672088118,
            -6.171352064154585,
            -6.016494914576421,
            -5.856044337015636,
            -6.002779220271593,
            -1.7193970471290092,
            -6.532833540550931,
            -6.350251909975438,
            -6.869992074474034,
            -7.147688297910691,
            -4.699887853140277
           ]
          },
          {
           "label": "learning_rate",
           "range": [
            -4.921387307265286,
            -1.000158885866108
           ],
           "ticktext": [
            "1.2e-05",
            "0.0001",
            "0.001",
            "0.01",
            "0.1"
           ],
           "tickvals": [
            -4.921387307265286,
            -4,
            -3,
            -2,
            -1.000158885866108
           ],
           "values": [
            -4.581521991848077,
            -1.0459465195969604,
            -2.7180191128753663,
            -2.7803488541705317,
            -2.3991698013074294,
            -4.702098376306436,
            -4.173185114151406,
            -4.670418307853676,
            -4.578477895024607,
            -1.138440543668145,
            -1.0967746630519652,
            -1.0428850572543351,
            -1.9907392382573588,
            -1.7630212864908519,
            -1.8366473459025947,
            -1.8644285640215092,
            -3.554345534988771,
            -1.8599077669395525,
            -2.2474905465644763,
            -3.5210308041151306,
            -1.4907957390766604,
            -1.5356790337428032,
            -1.503925639275358,
            -1.4815379997897524,
            -1.479241572068401,
            -1.484271224783602,
            -2.299997399697554,
            -3.2117669461634315,
            -1.3205252523031898,
            -1.2740250610574184,
            -1.2866421386718494,
            -1.2934896038573536,
            -1.249243619199142,
            -1.2305051074911528,
            -2.2102733339490124,
            -2.5930533672216853,
            -2.0785266108509526,
            -1.0037655532817826,
            -1.721732820676374,
            -1.2714063008648822,
            -2.956152522575926,
            -1.2840787026455451,
            -1.2882794489835034,
            -1.621263499943627,
            -1.7052797542513771,
            -4.921387307265286,
            -1.6428207118811762,
            -2.036422438057204,
            -2.4688454864707787,
            -1.132367197749063,
            -1.3141853271451898,
            -1.121300092711657,
            -1.001571516890184,
            -1.1087275949390976,
            -1.0379408281919373,
            -1.363778197387679,
            -1.1637920934311488,
            -4.119907576873696,
            -1.941806570664943,
            -1.395449762645919,
            -1.163942773220866,
            -1.0105153858086682,
            -1.389464988441709,
            -1.6013700741066086,
            -1.3945360236722997,
            -1.782039534266482,
            -1.1765222203408066,
            -1.1895931036547056,
            -1.563506093206957,
            -1.0806770673653643,
            -1.0816576764851855,
            -1.4260919984369949,
            -1.0074150722896094,
            -1.444960347245426,
            -1.4213612978625685,
            -1.0091016167624784,
            -1.213361601046944,
            -1.1478603561029694,
            -1.487222672416721,
            -1.1321744086529382,
            -1.2054497143177476,
            -1.191310615075296,
            -1.1987932053315415,
            -1.1886383336803947,
            -1.2109458529540684,
            -1.6524719170820537,
            -3.9934299128968194,
            -3.365634659945547,
            -1.546866244421378,
            -1.3533608522800724,
            -1.2425355319424214,
            -1.1797566162230686,
            -1.0951048801307073,
            -1.3212798073390697,
            -1.0878913612610865,
            -1.3161714486893366,
            -1.1161137374981227,
            -2.8570717929026634,
            -1.2539783094425347,
            -1.0084712052755958,
            -1.0868701548114896,
            -1.0890945775511554,
            -1.3337708860263895,
            -1.305764068488299,
            -1.519181934374644,
            -1.1919783878111363,
            -1.348945376493939,
            -1.2343224743481152,
            -1.698609176632589,
            -1.4447785914242233,
            -3.7593812397380786,
            -1.1816379850161671,
            -1.1587551492352681,
            -1.347985689337846,
            -1.0650223114117696,
            -1.229424535923324,
            -1.2566932914659106,
            -1.000744706104584,
            -1.5942641832947493,
            -1.451462945798924,
            -1.3670983278827729,
            -4.437307098282718,
            -1.2033431200870635,
            -1.369836409816024,
            -1.2792182284367455,
            -1.2952137580941259,
            -1.5198773427609167,
            -1.816397961092168,
            -1.0815500368863729,
            -1.415937170435819,
            -1.2783781551047741,
            -1.1717300080162087,
            -1.141433389251589,
            -1.0596877394384197,
            -1.2243072170392668,
            -1.3379001890969184,
            -1.141660404622756,
            -3.135790104720544,
            -1.403063369579071,
            -1.2328881987646292,
            -1.006628243694049,
            -1.1357218409456895,
            -1.1988032258165535,
            -1.2726457349401803,
            -1.339866603810044,
            -2.670521339184614,
            -1.092429033992186,
            -1.481047787863932,
            -1.1739093129213907,
            -1.0549792122080288,
            -1.2841024036939113,
            -1.104103884085981,
            -1.1747898147895013,
            -1.2219010481673527,
            -1.3690906423998597,
            -1.331233344040507,
            -1.561966456112932,
            -1.428312683942692,
            -1.0012634950587247,
            -1.3502870967289256,
            -1.2595946181837083,
            -1.1383497818872004,
            -1.1576784007396128,
            -1.0839191993465824,
            -1.0801702363187076,
            -1.1445374568242028,
            -1.0699253176867833,
            -1.1997157376834575,
            -1.2346987812527574,
            -1.1781243365139207,
            -1.002953663059326,
            -1.1196136437368702,
            -1.2900779785496317,
            -1.1814372137380338,
            -1.0868479765248413,
            -1.2749859993562676,
            -2.355162952810137,
            -1.211685289618382,
            -1.4314658850071886,
            -1.1149119140483583,
            -1.318589668510578,
            -1.3828607603048169,
            -1.000158885866108,
            -1.2193588200032517,
            -1.3582994469558691,
            -1.4954385871680032,
            -1.153413128212372,
            -1.2684163360551044,
            -1.2723027756860805,
            -1.0803481412215452,
            -1.1532235783525033,
            -1.233572906512818,
            -1.2157993723370546,
            -1.2911512140484027,
            -1.2975137569252242,
            -1.2414155638481907,
            -1.3813795763621781,
            -1.146143701583336,
            -1.4372472989277392,
            -1.31860262548471,
            -1.0646238846096772,
            -1.175695041979448,
            -1.0653798165702846,
            -1.2440656928168765,
            -1.1394551580366659,
            -1.2773590696559984,
            -1.1976788188158767,
            -1.2139213729346934,
            -1.3263838991614125,
            -1.164973514065503,
            -1.007313161385532,
            -1.0974692476106407,
            -1.2330368522948076,
            -1.1125840647530618,
            -1.3041568269186918,
            -1.1913589814843266,
            -1.0804270576022006,
            -1.3771336781432617,
            -1.2246261729250785,
            -1.1312169622767279,
            -2.5026726747381347,
            -1.3832652021518577,
            -1.302291413130966,
            -1.2887416071186548,
            -1.4989101535506195,
            -1.2943627876431845,
            -1.3049119845851012,
            -1.4232582872308415,
            -1.2967359427089606,
            -2.2072796746166783,
            -1.4369002206565058,
            -1.3347970062059598,
            -1.297537636621922,
            -1.2672299052624125,
            -1.2493776376926566,
            -1.259719581542277,
            -1.426467170199975,
            -1.3484701293025052,
            -1.2050196129426747,
            -1.208066678948711,
            -1.2031174028457654,
            -1.2683332853079565,
            -1.2916927306476453,
            -1.1605924584557,
            -1.2460011967204574,
            -1.3209586649176315,
            -1.1763085217004605,
            -1.2506587056724856,
            -1.2747106137159678,
            -1.3707419001325378,
            -4.909437977466642,
            -1.233134550732076,
            -1.2629434967557862,
            -1.4896188046106973,
            -1.336952427447627,
            -1.2040210805517002,
            -1.1605271413831788,
            -1.1321965358440906,
            -1.1522876140552472,
            -1.3751291779555428,
            -1.2225420590619887,
            -1.1002685348154795,
            -1.3121188222018372,
            -1.2110567765425326,
            -3.498097225491545,
            -1.4111537203421742,
            -4.3809442304062625,
            -1.161303440886097,
            -1.2807619098029563,
            -1.0656597679344142,
            -1.5469763812541821,
            -1.3399623227437045,
            -1.140172163321296,
            -1.2444103443265433,
            -1.467693072994741,
            -3.8102486597598424,
            -1.2006673581458314,
            -1.0761167883411245,
            -1.368765374934072,
            -1.2592276215317444,
            -1.1266026382741674,
            -1.0502752198991165,
            -1.9489782979413646,
            -1.3317413456549396,
            -1.188789634704222,
            -1.2750544391308696,
            -1.4121530799290058,
            -1.148055271723585,
            -1.2245381427983917,
            -1.0598522155813963,
            -1.2995126632943168,
            -1.432159795795972,
            -1.0012141906205976,
            -1.1645208894567507,
            -1.316100668343663,
            -1.2088671939576165,
            -1.1131355151555677,
            -1.3883274741506426,
            -1.2781046696572387,
            -3.0817445003814297,
            -1.2099956736186668,
            -1.6283991374241913,
            -1.11469046252543,
            -1.4937663404813402,
            -1.3378395646236212,
            -1.2454930013547165,
            -1.1500445809631938,
            -1.066930965558617,
            -2.8567243414130905,
            -1.148669671465986,
            -1.1321812462314393,
            -1.0621114256649773,
            -1.1432992169745644,
            -1.0048866745338845,
            -1.1856973201752443,
            -2.1266353695155304,
            -1.164518206235268,
            -1.2389173305556813,
            -1.0913935366835452,
            -1.2161808176553044,
            -1.2410504430049272,
            -1.093792959569795,
            -1.1855838743401184,
            -1.3044514183085747,
            -1.0595154839140792,
            -1.151045896365431,
            -1.24659484561874,
            -3.3189083868364198,
            -1.378034171462473,
            -1.1592827880480452,
            -1.0003613772578481
           ]
          },
          {
           "label": "lookback_days",
           "range": [
            1,
            30
           ],
           "values": [
            21,
            16,
            5,
            30,
            8,
            11,
            16,
            23,
            30,
            12,
            1,
            15,
            18,
            23,
            25,
            25,
            26,
            26,
            26,
            21,
            28,
            28,
            29,
            29,
            30,
            28,
            20,
            28,
            23,
            22,
            23,
            23,
            19,
            23,
            18,
            23,
            21,
            15,
            24,
            17,
            20,
            22,
            22,
            24,
            24,
            14,
            6,
            24,
            20,
            10,
            26,
            22,
            25,
            25,
            27,
            25,
            27,
            25,
            23,
            27,
            21,
            25,
            25,
            23,
            26,
            19,
            29,
            29,
            2,
            30,
            30,
            29,
            30,
            29,
            30,
            29,
            28,
            28,
            28,
            29,
            30,
            30,
            30,
            30,
            30,
            28,
            27,
            30,
            29,
            28,
            28,
            30,
            30,
            30,
            30,
            30,
            27,
            28,
            30,
            29,
            27,
            27,
            30,
            30,
            29,
            30,
            28,
            26,
            29,
            28,
            30,
            30,
            29,
            30,
            29,
            28,
            29,
            30,
            30,
            12,
            28,
            28,
            29,
            27,
            28,
            26,
            29,
            28,
            28,
            8,
            27,
            30,
            29,
            30,
            30,
            29,
            30,
            28,
            29,
            27,
            30,
            30,
            29,
            30,
            28,
            30,
            29,
            28,
            30,
            29,
            30,
            28,
            26,
            29,
            28,
            27,
            29,
            30,
            29,
            28,
            30,
            28,
            27,
            27,
            26,
            27,
            27,
            28,
            26,
            28,
            27,
            29,
            29,
            28,
            29,
            30,
            28,
            30,
            14,
            27,
            29,
            28,
            28,
            30,
            29,
            27,
            29,
            28,
            30,
            30,
            26,
            28,
            29,
            28,
            27,
            3,
            28,
            28,
            27,
            26,
            29,
            28,
            30,
            29,
            30,
            29,
            28,
            28,
            28,
            27,
            27,
            30,
            29,
            30,
            28,
            29,
            29,
            28,
            30,
            29,
            27,
            17,
            28,
            28,
            27,
            28,
            28,
            28,
            26,
            28,
            27,
            28,
            28,
            28,
            28,
            27,
            28,
            27,
            28,
            26,
            27,
            28,
            28,
            29,
            28,
            29,
            28,
            27,
            27,
            27,
            26,
            27,
            27,
            27,
            25,
            26,
            28,
            28,
            27,
            28,
            28,
            27,
            26,
            29,
            27,
            8,
            28,
            29,
            28,
            29,
            26,
            27,
            28,
            29,
            28,
            27,
            29,
            28,
            28,
            29,
            28,
            29,
            28,
            29,
            27,
            6,
            28,
            29,
            13,
            28,
            27,
            29,
            28,
            27,
            28,
            26,
            29,
            27,
            19,
            29,
            24,
            28,
            28,
            30,
            9,
            28,
            27,
            26,
            27,
            27,
            25,
            26,
            27,
            27,
            26,
            27,
            27,
            28,
            28,
            27,
            26,
            28,
            28,
            16,
            27,
            25,
            28,
            27,
            28,
            29,
            27
           ]
          },
          {
           "label": "max_depth",
           "range": [
            3,
            15
           ],
           "values": [
            7,
            15,
            14,
            9,
            6,
            6,
            4,
            7,
            6,
            13,
            12,
            15,
            15,
            11,
            11,
            11,
            10,
            9,
            11,
            13,
            9,
            9,
            9,
            8,
            8,
            8,
            4,
            8,
            3,
            3,
            3,
            3,
            3,
            3,
            4,
            5,
            3,
            5,
            4,
            5,
            3,
            3,
            4,
            3,
            5,
            6,
            4,
            3,
            4,
            6,
            5,
            3,
            3,
            3,
            4,
            3,
            5,
            4,
            6,
            7,
            3,
            3,
            4,
            3,
            4,
            3,
            3,
            5,
            4,
            3,
            4,
            3,
            3,
            3,
            4,
            14,
            3,
            3,
            4,
            10,
            3,
            3,
            3,
            3,
            4,
            3,
            4,
            3,
            3,
            4,
            5,
            3,
            3,
            3,
            3,
            4,
            3,
            12,
            4,
            3,
            3,
            3,
            3,
            4,
            3,
            3,
            4,
            3,
            4,
            3,
            3,
            3,
            3,
            3,
            4,
            3,
            3,
            4,
            3,
            4,
            3,
            3,
            3,
            3,
            3,
            4,
            3,
            3,
            4,
            3,
            3,
            3,
            3,
            3,
            4,
            3,
            10,
            7,
            3,
            4,
            3,
            3,
            3,
            3,
            3,
            4,
            3,
            3,
            4,
            3,
            3,
            3,
            3,
            3,
            3,
            4,
            3,
            3,
            4,
            3,
            4,
            3,
            3,
            3,
            3,
            3,
            3,
            3,
            14,
            8,
            3,
            3,
            3,
            3,
            3,
            3,
            3,
            4,
            3,
            4,
            3,
            3,
            3,
            3,
            3,
            3,
            3,
            3,
            3,
            4,
            3,
            3,
            3,
            3,
            3,
            3,
            12,
            3,
            3,
            3,
            3,
            3,
            3,
            3,
            3,
            3,
            3,
            4,
            3,
            3,
            4,
            3,
            3,
            3,
            3,
            3,
            3,
            3,
            3,
            3,
            4,
            3,
            3,
            3,
            3,
            3,
            3,
            3,
            3,
            3,
            3,
            3,
            3,
            3,
            13,
            3,
            3,
            3,
            3,
            3,
            3,
            3,
            3,
            3,
            3,
            3,
            3,
            3,
            3,
            3,
            3,
            3,
            4,
            3,
            3,
            3,
            3,
            4,
            3,
            3,
            3,
            4,
            3,
            3,
            15,
            3,
            3,
            3,
            4,
            3,
            9,
            3,
            3,
            3,
            4,
            3,
            3,
            3,
            3,
            4,
            3,
            6,
            3,
            3,
            3,
            3,
            4,
            10,
            8,
            3,
            3,
            3,
            3,
            3,
            7,
            4,
            3,
            3,
            3,
            11,
            3,
            3,
            4,
            3,
            4,
            3,
            3,
            3,
            3,
            3,
            3,
            3,
            3,
            3,
            4,
            3,
            3,
            3,
            3,
            4,
            3,
            3,
            3,
            3,
            3,
            4,
            3,
            3,
            3,
            3,
            4
           ]
          },
          {
           "label": "min_split_gain",
           "range": [
            -7.848613668068353,
            -0.02687389849012492
           ],
           "ticktext": [
            "1.42e-08",
            "1e-07",
            "1e-06",
            "1e-05",
            "0.0001",
            "0.001",
            "0.01",
            "0.1",
            "0.94"
           ],
           "tickvals": [
            -7.848613668068353,
            -7,
            -6,
            -5,
            -4,
            -3,
            -2,
            -1,
            -0.02687389849012492
           ],
           "values": [
            -1.6257261324830115,
            -4.613032702865173,
            -0.9251113777947542,
            -4.13179044404374,
            -7.5730428495067565,
            -7.843493634119251,
            -3.7626289366074808,
            -6.606568041678111,
            -6.008160384216598,
            -7.805263708142638,
            -3.6665814972667277,
            -5.422756582635722,
            -5.0723051691532195,
            -2.6257161122029324,
            -2.499846876154346,
            -2.5770032104058282,
            -0.02687389849012492,
            -2.588260706318422,
            -2.5638766380499742,
            -1.6807299675013712,
            -3.135189910803906,
            -3.0823681601510153,
            -3.224016412536537,
            -3.3707737578277728,
            -3.3743015872409847,
            -4.241028475929259,
            -4.385514188324399,
            -4.891052442406693,
            -1.8016811674792874,
            -1.5724510083234169,
            -1.6274077126469917,
            -1.5401881918147582,
            -1.537389643130583,
            -0.770548896004344,
            -0.6368683887430793,
            -1.017543998803505,
            -0.036805381604323936,
            -0.9810881630337137,
            -2.0452796785202874,
            -2.007409126053933,
            -0.5720502414118072,
            -1.4207220291126748,
            -1.2124983728581349,
            -0.5219147412044317,
            -0.45058646207917624,
            -1.865350479061832,
            -0.5374172458815222,
            -1.23644691749591,
            -2.1477697806546865,
            -7.112423724482284,
            -0.8361108074845753,
            -1.3239797353923257,
            -0.09779120949109055,
            -0.24919561523171826,
            -0.3692115749824771,
            -0.15556141550315675,
            -1.0828741385255491,
            -0.8172380205606773,
            -0.22314866107750694,
            -2.1853225364467117,
            -2.868875036030429,
            -0.0431802326489693,
            -0.7216007118244684,
            -0.2525466824687569,
            -1.707131827822254,
            -0.8911043829055201,
            -0.30780943924859105,
            -0.35822748958371003,
            -5.703950920449242,
            -3.9407089886448654,
            -4.011454857268762,
            -1.1191371129651893,
            -1.4357008880783872,
            -3.707651824705592,
            -3.781981325777864,
            -6.288680031126515,
            -4.530713783272353,
            -3.6985189623003105,
            -4.539635646960298,
            -3.624152009843172,
            -4.6695895212529885,
            -4.87780743858566,
            -4.923983629702632,
            -4.993023670109633,
            -5.154592964294039,
            -5.287422651931993,
            -4.902487810242206,
            -5.523993103135581,
            -4.209644439104492,
            -4.714503908459197,
            -4.3159530994156485,
            -4.612476748738463,
            -4.954063082664756,
            -4.476135736625574,
            -4.926556138002457,
            -5.628369233719598,
            -4.507890056933108,
            -3.986930863220732,
            -5.086900834053683,
            -5.9502737123212235,
            -5.263059735014191,
            -4.767904203150201,
            -5.182998814409989,
            -5.390327805737929,
            -4.395372555293567,
            -4.94051410435569,
            -4.066188259479263,
            -4.434647443991246,
            -5.8860368560909375,
            -5.11281154462363,
            -4.76728590847787,
            -4.9376816954512455,
            -3.497517040364938,
            -4.577676222480229,
            -4.199959904539781,
            -5.280380191899386,
            -5.43932286467563,
            -6.26879897259198,
            -5.000729571226374,
            -4.774353115115007,
            -5.300752445215019,
            -5.252000026123902,
            -5.728464473450919,
            -5.107202584172704,
            -5.523236560406721,
            -5.367649725148244,
            -6.202378700397508,
            -5.539238883282638,
            -5.824715821128885,
            -4.662178587232974,
            -3.898630091434214,
            -4.916405717934619,
            -4.803999962606548,
            -5.204106579436624,
            -4.546605520536805,
            -4.911857059296658,
            -5.5970283598183,
            -7.207961509107788,
            -5.385371558961606,
            -6.056682474698334,
            -6.527843500960957,
            -5.0339478531496304,
            -4.4150398568773745,
            -5.012208844652295,
            -4.616078575084133,
            -4.853768427301037,
            -4.241203193336428,
            -5.282068707019723,
            -5.156295261613026,
            -5.469385004933615,
            -4.719644810867873,
            -2.8113794232861675,
            -4.3744279701882665,
            -4.094584086229932,
            -4.980314923214807,
            -4.958474519734395,
            -5.150126100358949,
            -4.853091539468579,
            -4.5883962611288664,
            -5.022313892517865,
            -5.671439423125154,
            -5.342399753248648,
            -2.3826589580946926,
            -5.497357496413752,
            -5.344630122047223,
            -5.82154376676335,
            -5.520646031034491,
            -5.208571124233574,
            -5.268269087227386,
            -5.599331178090776,
            -5.4519172302226195,
            -2.247069731611626,
            -5.175279814154413,
            -4.851196172958663,
            -5.332148433488752,
            -4.600989010950022,
            -4.738890592309871,
            -5.743765862629932,
            -2.37041546117948,
            -5.148226673798619,
            -4.386926259884144,
            -5.059739612406333,
            -4.919993957517762,
            -5.324371845770507,
            -4.7263270901765555,
            -5.507562998441439,
            -1.83203549583775,
            -3.3058922155159225,
            -3.30099081748935,
            -3.8456714290159058,
            -2.8238163600797437,
            -5.0582339030348225,
            -3.013458731913093,
            -5.208604083484562,
            -5.233608364544878,
            -3.5453941023266684,
            -5.415541418219003,
            -1.9919820118718627,
            -5.089228952104781,
            -4.492894995302368,
            -5.626254144386265,
            -4.899925607475675,
            -5.207744779739149,
            -4.769373821588252,
            -5.059550072168039,
            -2.6529831349772306,
            -4.2603438450369095,
            -4.297511323841331,
            -4.0095507272698505,
            -4.127618516391029,
            -1.4731811220651867,
            -4.552531760356963,
            -4.667605358520628,
            -4.858152951955532,
            -5.436364684686966,
            -5.210403507651109,
            -4.296811024674556,
            -3.147820797017948,
            -5.03241124594667,
            -4.505347659595308,
            -5.368188495777838,
            -4.946556540346949,
            -5.0575146085342695,
            -5.109142929840614,
            -5.164785825327078,
            -4.788407467084277,
            -4.740256368085838,
            -4.667335983887373,
            -4.64475408732614,
            -4.772835209678149,
            -4.407734531383751,
            -4.707531076073164,
            -5.265933561638724,
            -5.110878828403744,
            -4.846722982958193,
            -5.06011734103333,
            -4.526424784520971,
            -5.0428097590664835,
            -4.806955241154964,
            -4.857940901078662,
            -4.210539641293655,
            -4.629583018718644,
            -5.122373296446055,
            -4.4504273742280605,
            -4.782982731763621,
            -5.258735784721787,
            -5.538274349906479,
            -4.970048828910673,
            -4.997864629533375,
            -4.6315790093540485,
            -4.858869135315711,
            -5.20285250548325,
            -5.4004498569699635,
            -5.1400025853048765,
            -5.295676904875831,
            -5.110835557226211,
            -5.594577062139492,
            -5.563329868612543,
            -5.843227245402186,
            -5.666002949526168,
            -5.3104570292272415,
            -5.4177655258234,
            -4.987397963615378,
            -5.1939339041029395,
            -5.446466744737936,
            -4.971937616812289,
            -5.605450132733392,
            -5.970767703956161,
            -4.8166064230211285,
            -5.195723262527666,
            -5.737273061798919,
            -5.072911966062272,
            -5.308979830180406,
            -4.749666999694989,
            -5.462467973405753,
            -4.458842411608282,
            -4.892035613916181,
            -5.147561973561446,
            -5.100637170835562,
            -4.9993331622034205,
            -5.219010576734097,
            -4.341631648479241,
            -4.731894540815793,
            -4.916486070462741,
            -4.5619985568273,
            -5.16028945060118,
            -5.278339881104465,
            -4.831189396204355,
            -4.197752956668495,
            -5.0588644018708795,
            -4.669724750801206,
            -5.294403034485895,
            -4.998463036649669,
            -4.511966569601169,
            -4.878980499130697,
            -5.428371569978017,
            -5.145824871860208,
            -4.719159112927365,
            -4.988783468646839,
            -7.848613668068353,
            -4.373745201274226,
            -5.281681646408837,
            -2.566082431231244,
            -3.420426310156198,
            -5.649736300205842,
            -4.810950079313887,
            -5.390338499230303,
            -5.480686744105907,
            -2.983668556430991,
            -5.336420444276244,
            -5.395804367603977,
            -5.515036010887702,
            -5.723892270828624,
            -5.111331011159201,
            -5.369313661119994,
            -5.182190843168916,
            -5.5727560924960295,
            -5.264542102439171,
            -5.337684771687904,
            -4.990937086751565,
            -5.206546962756942,
            -5.58264513320805,
            -5.807244933213173,
            -5.321444765576746,
            -5.099434905827796,
            -4.9108010181947,
            -5.399127935087986,
            -5.059400512352945,
            -5.222802547066409,
            -4.675308604436785,
            -4.882331606865607
           ]
          },
          {
           "label": "num_boost_rounds",
           "range": [
            58,
            500
           ],
           "values": [
            328,
            423,
            453,
            136,
            335,
            201,
            407,
            458,
            91,
            310,
            222,
            356,
            380,
            499,
            498,
            486,
            498,
            255,
            434,
            385,
            500,
            498,
            464,
            453,
            454,
            409,
            399,
            302,
            355,
            373,
            352,
            358,
            356,
            291,
            267,
            300,
            344,
            239,
            179,
            287,
            320,
            367,
            335,
            354,
            323,
            345,
            285,
            391,
            427,
            196,
            65,
            348,
            361,
            320,
            327,
            312,
            263,
            368,
            284,
            407,
            300,
            241,
            311,
            381,
            334,
            310,
            366,
            440,
            419,
            364,
            395,
            364,
            364,
            366,
            371,
            384,
            366,
            366,
            411,
            396,
            338,
            338,
            335,
            337,
            375,
            340,
            385,
            404,
            330,
            136,
            354,
            341,
            347,
            339,
            349,
            321,
            331,
            300,
            342,
            377,
            358,
            349,
            359,
            316,
            339,
            385,
            330,
            374,
            361,
            293,
            274,
            391,
            418,
            349,
            397,
            388,
            440,
            307,
            389,
            324,
            374,
            375,
            357,
            381,
            410,
            411,
            391,
            371,
            418,
            398,
            401,
            430,
            436,
            465,
            424,
            431,
            347,
            408,
            363,
            380,
            355,
            342,
            447,
            332,
            340,
            370,
            389,
            358,
            473,
            318,
            350,
            365,
            334,
            372,
            378,
            381,
            391,
            413,
            326,
            402,
            346,
            361,
            358,
            361,
            360,
            355,
            363,
            372,
            371,
            384,
            394,
            349,
            368,
            357,
            341,
            377,
            351,
            360,
            389,
            368,
            340,
            371,
            381,
            379,
            425,
            404,
            351,
            364,
            334,
            361,
            346,
            373,
            369,
            357,
            362,
            385,
            397,
            375,
            360,
            328,
            120,
            353,
            342,
            353,
            365,
            376,
            346,
            370,
            387,
            336,
            357,
            345,
            349,
            325,
            364,
            355,
            341,
            377,
            365,
            349,
            392,
            377,
            372,
            367,
            367,
            387,
            387,
            398,
            396,
            401,
            386,
            390,
            409,
            408,
            408,
            415,
            397,
            385,
            382,
            379,
            372,
            384,
            381,
            359,
            388,
            376,
            367,
            385,
            389,
            400,
            383,
            372,
            373,
            406,
            205,
            382,
            392,
            392,
            415,
            358,
            371,
            396,
            363,
            373,
            405,
            358,
            377,
            393,
            367,
            419,
            352,
            383,
            364,
            353,
            374,
            389,
            405,
            341,
            340,
            242,
            333,
            346,
            382,
            397,
            370,
            353,
            318,
            58,
            344,
            389,
            377,
            361,
            329,
            412,
            367,
            399,
            378,
            356,
            338,
            424,
            390,
            370,
            383,
            354,
            401,
            345,
            364,
            373,
            391,
            364,
            365,
            382,
            372,
            364,
            379,
            408,
            389,
            358,
            354,
            397,
            349,
            373,
            360,
            379,
            417,
            384,
            368,
            405,
            357,
            395,
            349
           ]
          },
          {
           "label": "num_leaves",
           "range": [
            11,
            120
           ],
           "values": [
            20,
            75,
            18,
            111,
            39,
            35,
            106,
            44,
            11,
            58,
            82,
            71,
            81,
            79,
            93,
            96,
            99,
            94,
            119,
            91,
            120,
            119,
            120,
            120,
            107,
            107,
            111,
            103,
            63,
            63,
            58,
            59,
            55,
            58,
            51,
            68,
            47,
            32,
            60,
            25,
            73,
            62,
            65,
            54,
            42,
            51,
            55,
            86,
            37,
            70,
            49,
            60,
            76,
            60,
            77,
            66,
            75,
            84,
            57,
            44,
            71,
            66,
            67,
            63,
            80,
            60,
            73,
            88,
            78,
            73,
            71,
            75,
            82,
            74,
            75,
            82,
            87,
            89,
            90,
            85,
            101,
            97,
            98,
            93,
            94,
            98,
            92,
            104,
            97,
            90,
            87,
            100,
            112,
            113,
            114,
            111,
            117,
            109,
            95,
            106,
            101,
            99,
            102,
            104,
            113,
            83,
            102,
            89,
            93,
            109,
            114,
            83,
            80,
            96,
            99,
            92,
            92,
            108,
            106,
            86,
            95,
            95,
            100,
            97,
            117,
            117,
            117,
            113,
            105,
            12,
            84,
            91,
            91,
            79,
            111,
            87,
            103,
            81,
            97,
            88,
            94,
            92,
            101,
            95,
            90,
            85,
            116,
            93,
            98,
            82,
            103,
            120,
            89,
            91,
            87,
            86,
            83,
            99,
            95,
            87,
            96,
            93,
            93,
            90,
            91,
            110,
            93,
            98,
            97,
            100,
            77,
            107,
            94,
            89,
            101,
            98,
            115,
            96,
            90,
            92,
            112,
            85,
            94,
            87,
            88,
            84,
            104,
            91,
            99,
            92,
            96,
            90,
            118,
            90,
            90,
            94,
            91,
            88,
            93,
            97,
            80,
            69,
            89,
            95,
            91,
            102,
            83,
            82,
            85,
            84,
            99,
            92,
            89,
            115,
            78,
            94,
            86,
            97,
            82,
            90,
            95,
            87,
            87,
            93,
            92,
            89,
            89,
            88,
            89,
            86,
            89,
            94,
            91,
            91,
            88,
            85,
            92,
            89,
            87,
            93,
            86,
            88,
            87,
            91,
            83,
            27,
            90,
            98,
            101,
            97,
            98,
            93,
            92,
            95,
            90,
            93,
            88,
            85,
            95,
            93,
            91,
            87,
            100,
            120,
            84,
            89,
            97,
            93,
            90,
            95,
            87,
            91,
            103,
            99,
            96,
            88,
            93,
            85,
            84,
            80,
            86,
            84,
            82,
            88,
            101,
            118,
            93,
            96,
            86,
            105,
            90,
            98,
            92,
            88,
            95,
            91,
            85,
            82,
            89,
            99,
            108,
            93,
            86,
            96,
            94,
            90,
            116,
            120,
            116,
            87,
            84,
            88,
            87,
            91,
            79,
            81,
            86,
            83,
            83,
            83,
            80,
            85,
            89,
            87,
            76,
            82,
            89,
            85,
            93,
            91,
            87
           ]
          }
         ],
         "labelangle": 30,
         "labelside": "bottom",
         "line": {
          "color": [
           31.52829797029997,
           17.41408301300425,
           24.21889166886352,
           28.598616756287292,
           20.375707436935755,
           30.0957105496793,
           30.189749761306423,
           31.895736919073993,
           33.01246898278587,
           18.64195491970603,
           27.806843148472375,
           17.624746572666343,
           17.71403736906321,
           16.599077184606713,
           16.395859245291042,
           16.421239669042038,
           30.1157242715797,
           16.645541444065145,
           17.140573027759746,
           29.54972677180274,
           16.330582981607684,
           16.38051253386307,
           16.376864645128137,
           16.308837990166648,
           16.36240076906222,
           16.333729349455318,
           18.334206072932066,
           29.21639413333146,
           15.433083229090492,
           15.566862309741632,
           15.41135923760896,
           15.40910706561946,
           16.69960676415017,
           15.445970834162868,
           19.220947940152794,
           22.30707424054187,
           16.881808511971997,
           17.611775491189263,
           16.430065400848566,
           17.36226603186556,
           26.665333491556986,
           15.557158160703427,
           15.890464352904216,
           15.553519839112665,
           16.18389524291895,
           30.1854279369551,
           20.60000967653703,
           16.266749322049183,
           19.523306803128904,
           18.25345179313998,
           16.58812639324674,
           15.515300289555176,
           15.40014162962452,
           15.297192007030864,
           15.612432273875797,
           15.478652351955134,
           15.996545035415965,
           32.08487928427473,
           16.819570702780766,
           16.208389827715266,
           15.682546171986782,
           15.49126273829282,
           15.845879993974968,
           15.546433211971111,
           15.671871983918836,
           17.10641163697735,
           15.265705805312061,
           15.884420038708033,
           23.382997018328545,
           15.1996345890437,
           15.610110148260695,
           15.265386872491943,
           15.206236567671562,
           15.342872123454095,
           15.640059724789626,
           16.586319624279056,
           15.170369630264204,
           15.21256109580102,
           15.637069791841311,
           16.485877612863334,
           15.295720350295017,
           15.158217069359056,
           15.19731769893374,
           15.211601190727102,
           15.617757949289468,
           15.438400042856342,
           32.13698429146692,
           29.929307659721406,
           15.433089491632389,
           15.873980063697779,
           15.952440494255846,
           15.178077119854056,
           15.20767593213234,
           15.191640788238907,
           15.264007938979589,
           15.552266236075619,
           15.313905299526965,
           25.707085276981807,
           15.582491561915703,
           15.343866720182016,
           15.222484515614777,
           15.226888383123388,
           15.193994938940744,
           15.631476292276108,
           15.41167896307342,
           15.217334104957578,
           15.636130335891792,
           15.361723106958344,
           15.82598250044717,
           15.30077867431977,
           32.13448731769681,
           15.165204926111336,
           15.274467258952892,
           15.297038884873055,
           15.600383586004625,
           15.168284854428366,
           15.244162436899513,
           15.734954415515634,
           15.393601648095071,
           18.474520107376545,
           15.203749533430978,
           32.624074150517615,
           15.319161797173349,
           15.26183683640324,
           15.180103308531995,
           15.652657551865069,
           15.397222449653169,
           15.62852936908024,
           15.669054549509799,
           18.16933433789415,
           15.225153572448223,
           15.20527402281141,
           15.250553001595312,
           15.22290844599944,
           15.603729921357168,
           15.279028798018775,
           16.420546444764987,
           27.37128116568656,
           15.302561949166988,
           15.628321246610524,
           15.23024623738358,
           15.280278198784028,
           15.333832905328313,
           15.28500767194056,
           15.278449885568333,
           22.3952347718313,
           15.299404507468633,
           15.290712458445476,
           15.653687622262684,
           15.248897828532064,
           15.25263084260092,
           15.261336232728796,
           15.300241772285244,
           15.244954819559174,
           15.210397491539563,
           15.590925480250297,
           15.445493696969677,
           15.309579617955308,
           15.750979112636891,
           15.23753067403234,
           15.587226032462217,
           15.163493450853583,
           15.179282860409293,
           15.19453438152121,
           15.254633025545173,
           15.242708224407037,
           15.311814798010118,
           15.156307199097377,
           16.414121019991203,
           16.27815269746084,
           15.277904992771038,
           15.237692094438001,
           15.297549583154453,
           15.217634245322728,
           15.288875909856419,
           15.240955041522328,
           19.063253403793908,
           15.616685202403533,
           16.95570590888232,
           15.668350964816282,
           15.315563489983614,
           15.308831079598873,
           15.261912727693266,
           15.211989002036097,
           15.247074942979017,
           15.341051729445095,
           15.324176607559076,
           15.187038997191403,
           15.238633541176595,
           15.657365266011888,
           15.305402940347303,
           15.140769718248036,
           15.372910444537103,
           15.178694272343307,
           15.27599890469546,
           22.21225982124424,
           16.370378110341964,
           15.229698228626317,
           15.321777612544498,
           15.330440933830474,
           15.549850262985675,
           15.259504133221366,
           15.279139851294858,
           15.328139857398721,
           15.28594438166185,
           15.305779703668591,
           15.127761798089589,
           15.701016878840553,
           15.241241568668228,
           15.257762988494623,
           15.60275295606091,
           15.23243481664563,
           15.264357997685106,
           15.322008170017408,
           15.225009633387051,
           15.256163852174067,
           15.358755706359437,
           15.249466089790099,
           15.216338640391458,
           15.294675090697211,
           19.810410558035784,
           16.846610592700205,
           15.157164986767121,
           15.10588381215759,
           15.383882534468906,
           15.15830680012387,
           15.174533260579574,
           15.200095130416688,
           15.29876806691397,
           17.04940747624987,
           15.302771873597539,
           15.214903728246204,
           15.203619977608765,
           15.174725655847594,
           16.39483792780408,
           15.225004508103087,
           15.229538349405251,
           15.261885793139834,
           15.157710840715177,
           15.302613803123943,
           15.203762233129149,
           15.194787892200432,
           15.251419881944539,
           15.29393453491501,
           15.204462561275673,
           15.301460200603044,
           15.202150571030003,
           15.163233884934955,
           15.261255696489737,
           15.23317559864575,
           32.76563783298963,
           15.185968395956492,
           15.657750774766551,
           15.308653885252538,
           15.618364554146977,
           15.401865858124994,
           15.090702565713762,
           15.704072385677899,
           15.329670941194664,
           15.28116397420029,
           15.196731593223442,
           15.59320541402018,
           15.314783666384221,
           15.35975595713227,
           30.347593749290944,
           18.156884809427336,
           32.5858562443017,
           15.299295808751488,
           15.697078685514287,
           15.358960714373413,
           16.39969117944422,
           15.258853394435864,
           15.25880666875289,
           15.286400863371943,
           15.641417076276753,
           31.814329794426083,
           15.332223110579273,
           15.178743331031615,
           15.222414131134624,
           15.66776436498627,
           15.226175729063096,
           16.093919436875826,
           15.85199835926774,
           15.293173039986062,
           15.21778411795959,
           20.479134134450106,
           15.669042271046091,
           16.6341257360521,
           18.37919083229267,
           15.300966955128848,
           15.291784285838535,
           15.326149570338387,
           15.311733560366017,
           15.265814736163739,
           16.322575434205646,
           15.697566239338377,
           15.232474440159583,
           15.264196241099919,
           16.74781397473924,
           26.570110779561926,
           15.30649373270442,
           15.34929043396993,
           15.691974027597404,
           15.36456683794373,
           17.950045085439708,
           15.247569391373508,
           15.17946251929142,
           15.313768763622607,
           25.233380135455754,
           15.181556329781463,
           15.36006539044535,
           15.405306724366676,
           15.286013873874555,
           15.19840865980284,
           15.740142278578048,
           16.56669871596229,
           15.27273149621602,
           15.124773629681398,
           15.260611371737827,
           15.606992113831195,
           15.293387103348824,
           15.320594328815767,
           15.233431123595818,
           16.880567851959167,
           15.235580792893494,
           15.738002652074494,
           15.219034907815393,
           29.594394774745847,
           15.251419458814409,
           15.29264030034002,
           15.609908355232365
          ],
          "colorbar": {
           "title": {
            "text": "Objective Value"
           }
          },
          "colorscale": [
           [
            0,
            "rgb(247,251,255)"
           ],
           [
            0.125,
            "rgb(222,235,247)"
           ],
           [
            0.25,
            "rgb(198,219,239)"
           ],
           [
            0.375,
            "rgb(158,202,225)"
           ],
           [
            0.5,
            "rgb(107,174,214)"
           ],
           [
            0.625,
            "rgb(66,146,198)"
           ],
           [
            0.75,
            "rgb(33,113,181)"
           ],
           [
            0.875,
            "rgb(8,81,156)"
           ],
           [
            1,
            "rgb(8,48,107)"
           ]
          ],
          "reversescale": true,
          "showscale": true
         },
         "type": "parcoords"
        }
       ],
       "layout": {
        "template": {
         "data": {
          "bar": [
           {
            "error_x": {
             "color": "#2a3f5f"
            },
            "error_y": {
             "color": "#2a3f5f"
            },
            "marker": {
             "line": {
              "color": "#E5ECF6",
              "width": 0.5
             },
             "pattern": {
              "fillmode": "overlay",
              "size": 10,
              "solidity": 0.2
             }
            },
            "type": "bar"
           }
          ],
          "barpolar": [
           {
            "marker": {
             "line": {
              "color": "#E5ECF6",
              "width": 0.5
             },
             "pattern": {
              "fillmode": "overlay",
              "size": 10,
              "solidity": 0.2
             }
            },
            "type": "barpolar"
           }
          ],
          "carpet": [
           {
            "aaxis": {
             "endlinecolor": "#2a3f5f",
             "gridcolor": "white",
             "linecolor": "white",
             "minorgridcolor": "white",
             "startlinecolor": "#2a3f5f"
            },
            "baxis": {
             "endlinecolor": "#2a3f5f",
             "gridcolor": "white",
             "linecolor": "white",
             "minorgridcolor": "white",
             "startlinecolor": "#2a3f5f"
            },
            "type": "carpet"
           }
          ],
          "choropleth": [
           {
            "colorbar": {
             "outlinewidth": 0,
             "ticks": ""
            },
            "type": "choropleth"
           }
          ],
          "contour": [
           {
            "colorbar": {
             "outlinewidth": 0,
             "ticks": ""
            },
            "colorscale": [
             [
              0,
              "#0d0887"
             ],
             [
              0.1111111111111111,
              "#46039f"
             ],
             [
              0.2222222222222222,
              "#7201a8"
             ],
             [
              0.3333333333333333,
              "#9c179e"
             ],
             [
              0.4444444444444444,
              "#bd3786"
             ],
             [
              0.5555555555555556,
              "#d8576b"
             ],
             [
              0.6666666666666666,
              "#ed7953"
             ],
             [
              0.7777777777777778,
              "#fb9f3a"
             ],
             [
              0.8888888888888888,
              "#fdca26"
             ],
             [
              1,
              "#f0f921"
             ]
            ],
            "type": "contour"
           }
          ],
          "contourcarpet": [
           {
            "colorbar": {
             "outlinewidth": 0,
             "ticks": ""
            },
            "type": "contourcarpet"
           }
          ],
          "heatmap": [
           {
            "colorbar": {
             "outlinewidth": 0,
             "ticks": ""
            },
            "colorscale": [
             [
              0,
              "#0d0887"
             ],
             [
              0.1111111111111111,
              "#46039f"
             ],
             [
              0.2222222222222222,
              "#7201a8"
             ],
             [
              0.3333333333333333,
              "#9c179e"
             ],
             [
              0.4444444444444444,
              "#bd3786"
             ],
             [
              0.5555555555555556,
              "#d8576b"
             ],
             [
              0.6666666666666666,
              "#ed7953"
             ],
             [
              0.7777777777777778,
              "#fb9f3a"
             ],
             [
              0.8888888888888888,
              "#fdca26"
             ],
             [
              1,
              "#f0f921"
             ]
            ],
            "type": "heatmap"
           }
          ],
          "heatmapgl": [
           {
            "colorbar": {
             "outlinewidth": 0,
             "ticks": ""
            },
            "colorscale": [
             [
              0,
              "#0d0887"
             ],
             [
              0.1111111111111111,
              "#46039f"
             ],
             [
              0.2222222222222222,
              "#7201a8"
             ],
             [
              0.3333333333333333,
              "#9c179e"
             ],
             [
              0.4444444444444444,
              "#bd3786"
             ],
             [
              0.5555555555555556,
              "#d8576b"
             ],
             [
              0.6666666666666666,
              "#ed7953"
             ],
             [
              0.7777777777777778,
              "#fb9f3a"
             ],
             [
              0.8888888888888888,
              "#fdca26"
             ],
             [
              1,
              "#f0f921"
             ]
            ],
            "type": "heatmapgl"
           }
          ],
          "histogram": [
           {
            "marker": {
             "pattern": {
              "fillmode": "overlay",
              "size": 10,
              "solidity": 0.2
             }
            },
            "type": "histogram"
           }
          ],
          "histogram2d": [
           {
            "colorbar": {
             "outlinewidth": 0,
             "ticks": ""
            },
            "colorscale": [
             [
              0,
              "#0d0887"
             ],
             [
              0.1111111111111111,
              "#46039f"
             ],
             [
              0.2222222222222222,
              "#7201a8"
             ],
             [
              0.3333333333333333,
              "#9c179e"
             ],
             [
              0.4444444444444444,
              "#bd3786"
             ],
             [
              0.5555555555555556,
              "#d8576b"
             ],
             [
              0.6666666666666666,
              "#ed7953"
             ],
             [
              0.7777777777777778,
              "#fb9f3a"
             ],
             [
              0.8888888888888888,
              "#fdca26"
             ],
             [
              1,
              "#f0f921"
             ]
            ],
            "type": "histogram2d"
           }
          ],
          "histogram2dcontour": [
           {
            "colorbar": {
             "outlinewidth": 0,
             "ticks": ""
            },
            "colorscale": [
             [
              0,
              "#0d0887"
             ],
             [
              0.1111111111111111,
              "#46039f"
             ],
             [
              0.2222222222222222,
              "#7201a8"
             ],
             [
              0.3333333333333333,
              "#9c179e"
             ],
             [
              0.4444444444444444,
              "#bd3786"
             ],
             [
              0.5555555555555556,
              "#d8576b"
             ],
             [
              0.6666666666666666,
              "#ed7953"
             ],
             [
              0.7777777777777778,
              "#fb9f3a"
             ],
             [
              0.8888888888888888,
              "#fdca26"
             ],
             [
              1,
              "#f0f921"
             ]
            ],
            "type": "histogram2dcontour"
           }
          ],
          "mesh3d": [
           {
            "colorbar": {
             "outlinewidth": 0,
             "ticks": ""
            },
            "type": "mesh3d"
           }
          ],
          "parcoords": [
           {
            "line": {
             "colorbar": {
              "outlinewidth": 0,
              "ticks": ""
             }
            },
            "type": "parcoords"
           }
          ],
          "pie": [
           {
            "automargin": true,
            "type": "pie"
           }
          ],
          "scatter": [
           {
            "fillpattern": {
             "fillmode": "overlay",
             "size": 10,
             "solidity": 0.2
            },
            "type": "scatter"
           }
          ],
          "scatter3d": [
           {
            "line": {
             "colorbar": {
              "outlinewidth": 0,
              "ticks": ""
             }
            },
            "marker": {
             "colorbar": {
              "outlinewidth": 0,
              "ticks": ""
             }
            },
            "type": "scatter3d"
           }
          ],
          "scattercarpet": [
           {
            "marker": {
             "colorbar": {
              "outlinewidth": 0,
              "ticks": ""
             }
            },
            "type": "scattercarpet"
           }
          ],
          "scattergeo": [
           {
            "marker": {
             "colorbar": {
              "outlinewidth": 0,
              "ticks": ""
             }
            },
            "type": "scattergeo"
           }
          ],
          "scattergl": [
           {
            "marker": {
             "colorbar": {
              "outlinewidth": 0,
              "ticks": ""
             }
            },
            "type": "scattergl"
           }
          ],
          "scattermapbox": [
           {
            "marker": {
             "colorbar": {
              "outlinewidth": 0,
              "ticks": ""
             }
            },
            "type": "scattermapbox"
           }
          ],
          "scatterpolar": [
           {
            "marker": {
             "colorbar": {
              "outlinewidth": 0,
              "ticks": ""
             }
            },
            "type": "scatterpolar"
           }
          ],
          "scatterpolargl": [
           {
            "marker": {
             "colorbar": {
              "outlinewidth": 0,
              "ticks": ""
             }
            },
            "type": "scatterpolargl"
           }
          ],
          "scatterternary": [
           {
            "marker": {
             "colorbar": {
              "outlinewidth": 0,
              "ticks": ""
             }
            },
            "type": "scatterternary"
           }
          ],
          "surface": [
           {
            "colorbar": {
             "outlinewidth": 0,
             "ticks": ""
            },
            "colorscale": [
             [
              0,
              "#0d0887"
             ],
             [
              0.1111111111111111,
              "#46039f"
             ],
             [
              0.2222222222222222,
              "#7201a8"
             ],
             [
              0.3333333333333333,
              "#9c179e"
             ],
             [
              0.4444444444444444,
              "#bd3786"
             ],
             [
              0.5555555555555556,
              "#d8576b"
             ],
             [
              0.6666666666666666,
              "#ed7953"
             ],
             [
              0.7777777777777778,
              "#fb9f3a"
             ],
             [
              0.8888888888888888,
              "#fdca26"
             ],
             [
              1,
              "#f0f921"
             ]
            ],
            "type": "surface"
           }
          ],
          "table": [
           {
            "cells": {
             "fill": {
              "color": "#EBF0F8"
             },
             "line": {
              "color": "white"
             }
            },
            "header": {
             "fill": {
              "color": "#C8D4E3"
             },
             "line": {
              "color": "white"
             }
            },
            "type": "table"
           }
          ]
         },
         "layout": {
          "annotationdefaults": {
           "arrowcolor": "#2a3f5f",
           "arrowhead": 0,
           "arrowwidth": 1
          },
          "autotypenumbers": "strict",
          "coloraxis": {
           "colorbar": {
            "outlinewidth": 0,
            "ticks": ""
           }
          },
          "colorscale": {
           "diverging": [
            [
             0,
             "#8e0152"
            ],
            [
             0.1,
             "#c51b7d"
            ],
            [
             0.2,
             "#de77ae"
            ],
            [
             0.3,
             "#f1b6da"
            ],
            [
             0.4,
             "#fde0ef"
            ],
            [
             0.5,
             "#f7f7f7"
            ],
            [
             0.6,
             "#e6f5d0"
            ],
            [
             0.7,
             "#b8e186"
            ],
            [
             0.8,
             "#7fbc41"
            ],
            [
             0.9,
             "#4d9221"
            ],
            [
             1,
             "#276419"
            ]
           ],
           "sequential": [
            [
             0,
             "#0d0887"
            ],
            [
             0.1111111111111111,
             "#46039f"
            ],
            [
             0.2222222222222222,
             "#7201a8"
            ],
            [
             0.3333333333333333,
             "#9c179e"
            ],
            [
             0.4444444444444444,
             "#bd3786"
            ],
            [
             0.5555555555555556,
             "#d8576b"
            ],
            [
             0.6666666666666666,
             "#ed7953"
            ],
            [
             0.7777777777777778,
             "#fb9f3a"
            ],
            [
             0.8888888888888888,
             "#fdca26"
            ],
            [
             1,
             "#f0f921"
            ]
           ],
           "sequentialminus": [
            [
             0,
             "#0d0887"
            ],
            [
             0.1111111111111111,
             "#46039f"
            ],
            [
             0.2222222222222222,
             "#7201a8"
            ],
            [
             0.3333333333333333,
             "#9c179e"
            ],
            [
             0.4444444444444444,
             "#bd3786"
            ],
            [
             0.5555555555555556,
             "#d8576b"
            ],
            [
             0.6666666666666666,
             "#ed7953"
            ],
            [
             0.7777777777777778,
             "#fb9f3a"
            ],
            [
             0.8888888888888888,
             "#fdca26"
            ],
            [
             1,
             "#f0f921"
            ]
           ]
          },
          "colorway": [
           "#636efa",
           "#EF553B",
           "#00cc96",
           "#ab63fa",
           "#FFA15A",
           "#19d3f3",
           "#FF6692",
           "#B6E880",
           "#FF97FF",
           "#FECB52"
          ],
          "font": {
           "color": "#2a3f5f"
          },
          "geo": {
           "bgcolor": "white",
           "lakecolor": "white",
           "landcolor": "#E5ECF6",
           "showlakes": true,
           "showland": true,
           "subunitcolor": "white"
          },
          "hoverlabel": {
           "align": "left"
          },
          "hovermode": "closest",
          "mapbox": {
           "style": "light"
          },
          "paper_bgcolor": "white",
          "plot_bgcolor": "#E5ECF6",
          "polar": {
           "angularaxis": {
            "gridcolor": "white",
            "linecolor": "white",
            "ticks": ""
           },
           "bgcolor": "#E5ECF6",
           "radialaxis": {
            "gridcolor": "white",
            "linecolor": "white",
            "ticks": ""
           }
          },
          "scene": {
           "xaxis": {
            "backgroundcolor": "#E5ECF6",
            "gridcolor": "white",
            "gridwidth": 2,
            "linecolor": "white",
            "showbackground": true,
            "ticks": "",
            "zerolinecolor": "white"
           },
           "yaxis": {
            "backgroundcolor": "#E5ECF6",
            "gridcolor": "white",
            "gridwidth": 2,
            "linecolor": "white",
            "showbackground": true,
            "ticks": "",
            "zerolinecolor": "white"
           },
           "zaxis": {
            "backgroundcolor": "#E5ECF6",
            "gridcolor": "white",
            "gridwidth": 2,
            "linecolor": "white",
            "showbackground": true,
            "ticks": "",
            "zerolinecolor": "white"
           }
          },
          "shapedefaults": {
           "line": {
            "color": "#2a3f5f"
           }
          },
          "ternary": {
           "aaxis": {
            "gridcolor": "white",
            "linecolor": "white",
            "ticks": ""
           },
           "baxis": {
            "gridcolor": "white",
            "linecolor": "white",
            "ticks": ""
           },
           "bgcolor": "#E5ECF6",
           "caxis": {
            "gridcolor": "white",
            "linecolor": "white",
            "ticks": ""
           }
          },
          "title": {
           "x": 0.05
          },
          "xaxis": {
           "automargin": true,
           "gridcolor": "white",
           "linecolor": "white",
           "ticks": "",
           "title": {
            "standoff": 15
           },
           "zerolinecolor": "white",
           "zerolinewidth": 2
          },
          "yaxis": {
           "automargin": true,
           "gridcolor": "white",
           "linecolor": "white",
           "ticks": "",
           "title": {
            "standoff": 15
           },
           "zerolinecolor": "white",
           "zerolinewidth": 2
          }
         }
        },
        "title": {
         "text": "Parallel Coordinate Plot"
        }
       }
      }
     },
     "metadata": {},
     "output_type": "display_data"
    }
   ],
   "source": [
    "plot_parallel_coordinate(study)"
   ]
  },
  {
   "cell_type": "code",
   "execution_count": 34,
   "metadata": {},
   "outputs": [
    {
     "data": {
      "application/vnd.plotly.v1+json": {
       "config": {
        "plotlyServerURL": "https://plot.ly"
       },
       "data": [
        {
         "cliponaxis": false,
         "hovertemplate": [
          "lambda_l2 (FloatDistribution): 4.305075053981739e-06<extra></extra>",
          "min_split_gain (FloatDistribution): 0.001399627815691474<extra></extra>",
          "lambda_l1 (FloatDistribution): 0.0032128165473313736<extra></extra>",
          "num_leaves (IntDistribution): 0.0037368762759170493<extra></extra>",
          "max_depth (IntDistribution): 0.005752440946123157<extra></extra>",
          "num_boost_rounds (IntDistribution): 0.009419784050646248<extra></extra>",
          "learning_rate (FloatDistribution): 0.2902129641949721<extra></extra>",
          "lookback_days (IntDistribution): 0.6862611850942646<extra></extra>"
         ],
         "name": "Objective Value",
         "orientation": "h",
         "text": [
          "<0.01",
          "<0.01",
          "<0.01",
          "<0.01",
          "<0.01",
          "<0.01",
          "0.29",
          "0.69"
         ],
         "textposition": "outside",
         "type": "bar",
         "x": [
          0.000004305075053981739,
          0.001399627815691474,
          0.0032128165473313736,
          0.0037368762759170493,
          0.005752440946123157,
          0.009419784050646248,
          0.2902129641949721,
          0.6862611850942646
         ],
         "y": [
          "lambda_l2",
          "min_split_gain",
          "lambda_l1",
          "num_leaves",
          "max_depth",
          "num_boost_rounds",
          "learning_rate",
          "lookback_days"
         ]
        }
       ],
       "layout": {
        "template": {
         "data": {
          "bar": [
           {
            "error_x": {
             "color": "#2a3f5f"
            },
            "error_y": {
             "color": "#2a3f5f"
            },
            "marker": {
             "line": {
              "color": "#E5ECF6",
              "width": 0.5
             },
             "pattern": {
              "fillmode": "overlay",
              "size": 10,
              "solidity": 0.2
             }
            },
            "type": "bar"
           }
          ],
          "barpolar": [
           {
            "marker": {
             "line": {
              "color": "#E5ECF6",
              "width": 0.5
             },
             "pattern": {
              "fillmode": "overlay",
              "size": 10,
              "solidity": 0.2
             }
            },
            "type": "barpolar"
           }
          ],
          "carpet": [
           {
            "aaxis": {
             "endlinecolor": "#2a3f5f",
             "gridcolor": "white",
             "linecolor": "white",
             "minorgridcolor": "white",
             "startlinecolor": "#2a3f5f"
            },
            "baxis": {
             "endlinecolor": "#2a3f5f",
             "gridcolor": "white",
             "linecolor": "white",
             "minorgridcolor": "white",
             "startlinecolor": "#2a3f5f"
            },
            "type": "carpet"
           }
          ],
          "choropleth": [
           {
            "colorbar": {
             "outlinewidth": 0,
             "ticks": ""
            },
            "type": "choropleth"
           }
          ],
          "contour": [
           {
            "colorbar": {
             "outlinewidth": 0,
             "ticks": ""
            },
            "colorscale": [
             [
              0,
              "#0d0887"
             ],
             [
              0.1111111111111111,
              "#46039f"
             ],
             [
              0.2222222222222222,
              "#7201a8"
             ],
             [
              0.3333333333333333,
              "#9c179e"
             ],
             [
              0.4444444444444444,
              "#bd3786"
             ],
             [
              0.5555555555555556,
              "#d8576b"
             ],
             [
              0.6666666666666666,
              "#ed7953"
             ],
             [
              0.7777777777777778,
              "#fb9f3a"
             ],
             [
              0.8888888888888888,
              "#fdca26"
             ],
             [
              1,
              "#f0f921"
             ]
            ],
            "type": "contour"
           }
          ],
          "contourcarpet": [
           {
            "colorbar": {
             "outlinewidth": 0,
             "ticks": ""
            },
            "type": "contourcarpet"
           }
          ],
          "heatmap": [
           {
            "colorbar": {
             "outlinewidth": 0,
             "ticks": ""
            },
            "colorscale": [
             [
              0,
              "#0d0887"
             ],
             [
              0.1111111111111111,
              "#46039f"
             ],
             [
              0.2222222222222222,
              "#7201a8"
             ],
             [
              0.3333333333333333,
              "#9c179e"
             ],
             [
              0.4444444444444444,
              "#bd3786"
             ],
             [
              0.5555555555555556,
              "#d8576b"
             ],
             [
              0.6666666666666666,
              "#ed7953"
             ],
             [
              0.7777777777777778,
              "#fb9f3a"
             ],
             [
              0.8888888888888888,
              "#fdca26"
             ],
             [
              1,
              "#f0f921"
             ]
            ],
            "type": "heatmap"
           }
          ],
          "heatmapgl": [
           {
            "colorbar": {
             "outlinewidth": 0,
             "ticks": ""
            },
            "colorscale": [
             [
              0,
              "#0d0887"
             ],
             [
              0.1111111111111111,
              "#46039f"
             ],
             [
              0.2222222222222222,
              "#7201a8"
             ],
             [
              0.3333333333333333,
              "#9c179e"
             ],
             [
              0.4444444444444444,
              "#bd3786"
             ],
             [
              0.5555555555555556,
              "#d8576b"
             ],
             [
              0.6666666666666666,
              "#ed7953"
             ],
             [
              0.7777777777777778,
              "#fb9f3a"
             ],
             [
              0.8888888888888888,
              "#fdca26"
             ],
             [
              1,
              "#f0f921"
             ]
            ],
            "type": "heatmapgl"
           }
          ],
          "histogram": [
           {
            "marker": {
             "pattern": {
              "fillmode": "overlay",
              "size": 10,
              "solidity": 0.2
             }
            },
            "type": "histogram"
           }
          ],
          "histogram2d": [
           {
            "colorbar": {
             "outlinewidth": 0,
             "ticks": ""
            },
            "colorscale": [
             [
              0,
              "#0d0887"
             ],
             [
              0.1111111111111111,
              "#46039f"
             ],
             [
              0.2222222222222222,
              "#7201a8"
             ],
             [
              0.3333333333333333,
              "#9c179e"
             ],
             [
              0.4444444444444444,
              "#bd3786"
             ],
             [
              0.5555555555555556,
              "#d8576b"
             ],
             [
              0.6666666666666666,
              "#ed7953"
             ],
             [
              0.7777777777777778,
              "#fb9f3a"
             ],
             [
              0.8888888888888888,
              "#fdca26"
             ],
             [
              1,
              "#f0f921"
             ]
            ],
            "type": "histogram2d"
           }
          ],
          "histogram2dcontour": [
           {
            "colorbar": {
             "outlinewidth": 0,
             "ticks": ""
            },
            "colorscale": [
             [
              0,
              "#0d0887"
             ],
             [
              0.1111111111111111,
              "#46039f"
             ],
             [
              0.2222222222222222,
              "#7201a8"
             ],
             [
              0.3333333333333333,
              "#9c179e"
             ],
             [
              0.4444444444444444,
              "#bd3786"
             ],
             [
              0.5555555555555556,
              "#d8576b"
             ],
             [
              0.6666666666666666,
              "#ed7953"
             ],
             [
              0.7777777777777778,
              "#fb9f3a"
             ],
             [
              0.8888888888888888,
              "#fdca26"
             ],
             [
              1,
              "#f0f921"
             ]
            ],
            "type": "histogram2dcontour"
           }
          ],
          "mesh3d": [
           {
            "colorbar": {
             "outlinewidth": 0,
             "ticks": ""
            },
            "type": "mesh3d"
           }
          ],
          "parcoords": [
           {
            "line": {
             "colorbar": {
              "outlinewidth": 0,
              "ticks": ""
             }
            },
            "type": "parcoords"
           }
          ],
          "pie": [
           {
            "automargin": true,
            "type": "pie"
           }
          ],
          "scatter": [
           {
            "fillpattern": {
             "fillmode": "overlay",
             "size": 10,
             "solidity": 0.2
            },
            "type": "scatter"
           }
          ],
          "scatter3d": [
           {
            "line": {
             "colorbar": {
              "outlinewidth": 0,
              "ticks": ""
             }
            },
            "marker": {
             "colorbar": {
              "outlinewidth": 0,
              "ticks": ""
             }
            },
            "type": "scatter3d"
           }
          ],
          "scattercarpet": [
           {
            "marker": {
             "colorbar": {
              "outlinewidth": 0,
              "ticks": ""
             }
            },
            "type": "scattercarpet"
           }
          ],
          "scattergeo": [
           {
            "marker": {
             "colorbar": {
              "outlinewidth": 0,
              "ticks": ""
             }
            },
            "type": "scattergeo"
           }
          ],
          "scattergl": [
           {
            "marker": {
             "colorbar": {
              "outlinewidth": 0,
              "ticks": ""
             }
            },
            "type": "scattergl"
           }
          ],
          "scattermapbox": [
           {
            "marker": {
             "colorbar": {
              "outlinewidth": 0,
              "ticks": ""
             }
            },
            "type": "scattermapbox"
           }
          ],
          "scatterpolar": [
           {
            "marker": {
             "colorbar": {
              "outlinewidth": 0,
              "ticks": ""
             }
            },
            "type": "scatterpolar"
           }
          ],
          "scatterpolargl": [
           {
            "marker": {
             "colorbar": {
              "outlinewidth": 0,
              "ticks": ""
             }
            },
            "type": "scatterpolargl"
           }
          ],
          "scatterternary": [
           {
            "marker": {
             "colorbar": {
              "outlinewidth": 0,
              "ticks": ""
             }
            },
            "type": "scatterternary"
           }
          ],
          "surface": [
           {
            "colorbar": {
             "outlinewidth": 0,
             "ticks": ""
            },
            "colorscale": [
             [
              0,
              "#0d0887"
             ],
             [
              0.1111111111111111,
              "#46039f"
             ],
             [
              0.2222222222222222,
              "#7201a8"
             ],
             [
              0.3333333333333333,
              "#9c179e"
             ],
             [
              0.4444444444444444,
              "#bd3786"
             ],
             [
              0.5555555555555556,
              "#d8576b"
             ],
             [
              0.6666666666666666,
              "#ed7953"
             ],
             [
              0.7777777777777778,
              "#fb9f3a"
             ],
             [
              0.8888888888888888,
              "#fdca26"
             ],
             [
              1,
              "#f0f921"
             ]
            ],
            "type": "surface"
           }
          ],
          "table": [
           {
            "cells": {
             "fill": {
              "color": "#EBF0F8"
             },
             "line": {
              "color": "white"
             }
            },
            "header": {
             "fill": {
              "color": "#C8D4E3"
             },
             "line": {
              "color": "white"
             }
            },
            "type": "table"
           }
          ]
         },
         "layout": {
          "annotationdefaults": {
           "arrowcolor": "#2a3f5f",
           "arrowhead": 0,
           "arrowwidth": 1
          },
          "autotypenumbers": "strict",
          "coloraxis": {
           "colorbar": {
            "outlinewidth": 0,
            "ticks": ""
           }
          },
          "colorscale": {
           "diverging": [
            [
             0,
             "#8e0152"
            ],
            [
             0.1,
             "#c51b7d"
            ],
            [
             0.2,
             "#de77ae"
            ],
            [
             0.3,
             "#f1b6da"
            ],
            [
             0.4,
             "#fde0ef"
            ],
            [
             0.5,
             "#f7f7f7"
            ],
            [
             0.6,
             "#e6f5d0"
            ],
            [
             0.7,
             "#b8e186"
            ],
            [
             0.8,
             "#7fbc41"
            ],
            [
             0.9,
             "#4d9221"
            ],
            [
             1,
             "#276419"
            ]
           ],
           "sequential": [
            [
             0,
             "#0d0887"
            ],
            [
             0.1111111111111111,
             "#46039f"
            ],
            [
             0.2222222222222222,
             "#7201a8"
            ],
            [
             0.3333333333333333,
             "#9c179e"
            ],
            [
             0.4444444444444444,
             "#bd3786"
            ],
            [
             0.5555555555555556,
             "#d8576b"
            ],
            [
             0.6666666666666666,
             "#ed7953"
            ],
            [
             0.7777777777777778,
             "#fb9f3a"
            ],
            [
             0.8888888888888888,
             "#fdca26"
            ],
            [
             1,
             "#f0f921"
            ]
           ],
           "sequentialminus": [
            [
             0,
             "#0d0887"
            ],
            [
             0.1111111111111111,
             "#46039f"
            ],
            [
             0.2222222222222222,
             "#7201a8"
            ],
            [
             0.3333333333333333,
             "#9c179e"
            ],
            [
             0.4444444444444444,
             "#bd3786"
            ],
            [
             0.5555555555555556,
             "#d8576b"
            ],
            [
             0.6666666666666666,
             "#ed7953"
            ],
            [
             0.7777777777777778,
             "#fb9f3a"
            ],
            [
             0.8888888888888888,
             "#fdca26"
            ],
            [
             1,
             "#f0f921"
            ]
           ]
          },
          "colorway": [
           "#636efa",
           "#EF553B",
           "#00cc96",
           "#ab63fa",
           "#FFA15A",
           "#19d3f3",
           "#FF6692",
           "#B6E880",
           "#FF97FF",
           "#FECB52"
          ],
          "font": {
           "color": "#2a3f5f"
          },
          "geo": {
           "bgcolor": "white",
           "lakecolor": "white",
           "landcolor": "#E5ECF6",
           "showlakes": true,
           "showland": true,
           "subunitcolor": "white"
          },
          "hoverlabel": {
           "align": "left"
          },
          "hovermode": "closest",
          "mapbox": {
           "style": "light"
          },
          "paper_bgcolor": "white",
          "plot_bgcolor": "#E5ECF6",
          "polar": {
           "angularaxis": {
            "gridcolor": "white",
            "linecolor": "white",
            "ticks": ""
           },
           "bgcolor": "#E5ECF6",
           "radialaxis": {
            "gridcolor": "white",
            "linecolor": "white",
            "ticks": ""
           }
          },
          "scene": {
           "xaxis": {
            "backgroundcolor": "#E5ECF6",
            "gridcolor": "white",
            "gridwidth": 2,
            "linecolor": "white",
            "showbackground": true,
            "ticks": "",
            "zerolinecolor": "white"
           },
           "yaxis": {
            "backgroundcolor": "#E5ECF6",
            "gridcolor": "white",
            "gridwidth": 2,
            "linecolor": "white",
            "showbackground": true,
            "ticks": "",
            "zerolinecolor": "white"
           },
           "zaxis": {
            "backgroundcolor": "#E5ECF6",
            "gridcolor": "white",
            "gridwidth": 2,
            "linecolor": "white",
            "showbackground": true,
            "ticks": "",
            "zerolinecolor": "white"
           }
          },
          "shapedefaults": {
           "line": {
            "color": "#2a3f5f"
           }
          },
          "ternary": {
           "aaxis": {
            "gridcolor": "white",
            "linecolor": "white",
            "ticks": ""
           },
           "baxis": {
            "gridcolor": "white",
            "linecolor": "white",
            "ticks": ""
           },
           "bgcolor": "#E5ECF6",
           "caxis": {
            "gridcolor": "white",
            "linecolor": "white",
            "ticks": ""
           }
          },
          "title": {
           "x": 0.05
          },
          "xaxis": {
           "automargin": true,
           "gridcolor": "white",
           "linecolor": "white",
           "ticks": "",
           "title": {
            "standoff": 15
           },
           "zerolinecolor": "white",
           "zerolinewidth": 2
          },
          "yaxis": {
           "automargin": true,
           "gridcolor": "white",
           "linecolor": "white",
           "ticks": "",
           "title": {
            "standoff": 15
           },
           "zerolinecolor": "white",
           "zerolinewidth": 2
          }
         }
        },
        "title": {
         "text": "Hyperparameter Importances"
        },
        "xaxis": {
         "title": {
          "text": "Hyperparameter Importance"
         }
        },
        "yaxis": {
         "title": {
          "text": "Hyperparameter"
         }
        }
       }
      }
     },
     "metadata": {},
     "output_type": "display_data"
    }
   ],
   "source": [
    "plot_param_importances(study)"
   ]
  },
  {
   "cell_type": "markdown",
   "metadata": {},
   "source": [
    "### Using the best model on testing period"
   ]
  },
  {
   "cell_type": "code",
   "execution_count": 44,
   "metadata": {},
   "outputs": [
    {
     "data": {
      "text/plain": [
       "15.090702565713762"
      ]
     },
     "execution_count": 44,
     "metadata": {},
     "output_type": "execute_result"
    }
   ],
   "source": [
    "study.best_value"
   ]
  },
  {
   "cell_type": "code",
   "execution_count": 45,
   "metadata": {},
   "outputs": [],
   "source": [
    "test_start = pd.Timestamp(\"2024-01-01\").tz_localize(\"UTC\")\n",
    "\n",
    "test_days = df.query(\"date >= @test_start\").date.dt.date.unique()"
   ]
  },
  {
   "cell_type": "code",
   "execution_count": 46,
   "metadata": {},
   "outputs": [
    {
     "data": {
      "text/plain": [
       "{'lookback_days': 28,\n",
       " 'num_boost_rounds': 392,\n",
       " 'learning_rate': 0.06909917442885449,\n",
       " 'max_depth': 3,\n",
       " 'num_leaves': 88,\n",
       " 'lambda_l1': 4.025467191249312e-06,\n",
       " 'lambda_l2': 1.2454961537826062e-06,\n",
       " 'min_split_gain': 2.5434484381686483e-06}"
      ]
     },
     "execution_count": 46,
     "metadata": {},
     "output_type": "execute_result"
    }
   ],
   "source": [
    "study.best_params"
   ]
  },
  {
   "cell_type": "code",
   "execution_count": 38,
   "metadata": {},
   "outputs": [
    {
     "data": {
      "application/vnd.jupyter.widget-view+json": {
       "model_id": "01004defaf614792a59b5ab5fada6c8c",
       "version_major": 2,
       "version_minor": 0
      },
      "text/plain": [
       "  0%|          | 0/31 [00:00<?, ?it/s]"
      ]
     },
     "metadata": {},
     "output_type": "display_data"
    },
    {
     "name": "stderr",
     "output_type": "stream",
     "text": [
      "c:\\Users\\STEIM\\.conda\\envs\\eth\\lib\\site-packages\\sklearn\\impute\\_base.py:577: UserWarning:\n",
      "\n",
      "Skipping features without any observed values: ['nuclear_actual_aggregated_de']. At least one non-missing value is needed for imputation with strategy='mean'.\n",
      "\n",
      "c:\\Users\\STEIM\\.conda\\envs\\eth\\lib\\site-packages\\sklearn\\impute\\_base.py:577: UserWarning:\n",
      "\n",
      "Skipping features without any observed values: ['nuclear_actual_aggregated_de']. At least one non-missing value is needed for imputation with strategy='mean'.\n",
      "\n",
      "c:\\Users\\STEIM\\.conda\\envs\\eth\\lib\\site-packages\\sklearn\\impute\\_base.py:577: UserWarning:\n",
      "\n",
      "Skipping features without any observed values: ['nuclear_actual_aggregated_de']. At least one non-missing value is needed for imputation with strategy='mean'.\n",
      "\n",
      "c:\\Users\\STEIM\\.conda\\envs\\eth\\lib\\site-packages\\sklearn\\impute\\_base.py:577: UserWarning:\n",
      "\n",
      "Skipping features without any observed values: ['nuclear_actual_aggregated_de']. At least one non-missing value is needed for imputation with strategy='mean'.\n",
      "\n",
      "c:\\Users\\STEIM\\.conda\\envs\\eth\\lib\\site-packages\\sklearn\\impute\\_base.py:577: UserWarning:\n",
      "\n",
      "Skipping features without any observed values: ['nuclear_actual_aggregated_de']. At least one non-missing value is needed for imputation with strategy='mean'.\n",
      "\n",
      "c:\\Users\\STEIM\\.conda\\envs\\eth\\lib\\site-packages\\sklearn\\impute\\_base.py:577: UserWarning:\n",
      "\n",
      "Skipping features without any observed values: ['nuclear_actual_aggregated_de']. At least one non-missing value is needed for imputation with strategy='mean'.\n",
      "\n"
     ]
    }
   ],
   "source": [
    "lookback_days = study.best_params[\"lookback_days\"]\n",
    "preds = []\n",
    "num_boost_rounds = study.best_params[\"num_boost_rounds\"]\n",
    "\n",
    "# Define the parameter grid\n",
    "param = {\n",
    "    \"verbose\": -1,\n",
    "    \"objective\": \"regression\",\n",
    "    \"metric\": \"rmse\",\n",
    "    \"learning_rate\": study.best_params[\"learning_rate\"],\n",
    "    \"max_depth\": study.best_params[\"max_depth\"],\n",
    "    \"num_leaves\": study.best_params[\"num_leaves\"],\n",
    "    \"lambda_l1\": study.best_params[\"lambda_l1\"],\n",
    "    \"lambda_l2\": study.best_params[\"lambda_l2\"],\n",
    "    \"min_split_gain\": study.best_params[\"min_split_gain\"],\n",
    "}\n",
    "\n",
    "for current_day in tqdm(test_days):\n",
    "    train_start_day = current_day - pd.Timedelta(days=lookback_days)\n",
    "    train_end_day = current_day - pd.Timedelta(days=1)\n",
    "\n",
    "    df_train = df.query(\"@train_start_day <= date.dt.date <= @train_end_day\")\n",
    "    df_test = df.query(\"date.dt.date == @current_day\")\n",
    "\n",
    "    # Split data\n",
    "    X_train = df_train.drop(columns=[\"date\", \"day_ahead_price_ch\"])\n",
    "    y_train = df_train[\"day_ahead_price_ch\"]\n",
    "\n",
    "    X_test = df_test.drop(columns=[\"date\", \"day_ahead_price_ch\"])\n",
    "    y_test = df_test[\"day_ahead_price_ch\"]\n",
    "\n",
    "    # Preprocess data\n",
    "    fitted_preprocessor = preprocessor.fit(X_train)\n",
    "\n",
    "    X_train_preprocessed = pd.DataFrame(\n",
    "        fitted_preprocessor.transform(X_train),\n",
    "        columns=fitted_preprocessor.get_feature_names_out(),\n",
    "    )\n",
    "\n",
    "    X_test_preprocessed = pd.DataFrame(\n",
    "        fitted_preprocessor.transform(X_test),\n",
    "        columns=fitted_preprocessor.get_feature_names_out(),\n",
    "    )\n",
    "\n",
    "    # Replace prefixes in column names\n",
    "    new_cols = (\n",
    "        X_train_preprocessed.columns.str.replace(\"numeric__\", \"\")\n",
    "        .str.replace(\"categorical__\", \"\")\n",
    "        .str.replace(\"remainder__\", \"\")\n",
    "    )\n",
    "\n",
    "    # Assign new column names to the DataFrame\n",
    "    X_train_preprocessed.columns = new_cols\n",
    "    X_test_preprocessed.columns = new_cols\n",
    "\n",
    "    # Create LightGBM dataset\n",
    "    train_data = lgb.Dataset(X_train_preprocessed, label=y_train, free_raw_data=False)\n",
    "\n",
    "    # Train the model\n",
    "    bst = lgb.train(\n",
    "        params=param,\n",
    "        train_set=train_data,\n",
    "        valid_sets=[train_data],\n",
    "        num_boost_round=num_boost_rounds,\n",
    "        # callbacks=[lgb.early_stopping(stopping_rounds=10)],\n",
    "    )\n",
    "\n",
    "    # Make predictions on validation set\n",
    "    y_pred = bst.predict(X_test_preprocessed, num_iteration=bst.best_iteration)\n",
    "\n",
    "    preds.extend(y_pred.tolist())\n",
    "\n",
    "preds = pd.DataFrame(\n",
    "    {\n",
    "        \"date\": df.query(\"date.dt.date in @test_days\")[\"date\"].to_list(),\n",
    "        \"preds\": preds,\n",
    "        \"actual\": df.query(\"date.dt.date in @test_days\")[\n",
    "            \"day_ahead_price_ch\"\n",
    "        ].to_list(),\n",
    "    }\n",
    ")"
   ]
  },
  {
   "cell_type": "code",
   "execution_count": 39,
   "metadata": {},
   "outputs": [
    {
     "data": {
      "text/plain": [
       "<Axes: xlabel='date'>"
      ]
     },
     "execution_count": 39,
     "metadata": {},
     "output_type": "execute_result"
    },
    {
     "data": {
      "image/png": "[encoded data removed]",
      "text/plain": [
       "<Figure size 2000x400 with 1 Axes>"
      ]
     },
     "metadata": {},
     "output_type": "display_data"
    }
   ],
   "source": [
    "preds.plot(x=\"date\", y=[\"preds\", \"actual\"], figsize=(20, 4))"
   ]
  },
  {
   "cell_type": "code",
   "execution_count": 40,
   "metadata": {},
   "outputs": [],
   "source": [
    "baseline = (\n",
    "    df.assign(baseline=lambda x: x.day_ahead_price_ch.shift(24))\n",
    "    .query(\"date.dt.date in @test_days\")\n",
    "    .filter([\"date\", \"day_ahead_price_ch\", \"baseline\"])\n",
    "    .rename(columns={\"baseline\": \"preds\", \"day_ahead_price_ch\": \"actual\"})\n",
    ")"
   ]
  },
  {
   "cell_type": "code",
   "execution_count": 41,
   "metadata": {},
   "outputs": [
    {
     "name": "stdout",
     "output_type": "stream",
     "text": [
      "Metric for LGBM Model\n",
      "R2 Score:  0.7900013961115148\n",
      "MAE:  7.745346380690404\n",
      "MAPE:  0.10477786235913518\n",
      "RMSE:  10.60972018362299\n"
     ]
    }
   ],
   "source": [
    "print(\"Metric for LGBM Model\")\n",
    "print(\"R2 Score: \", r2_score(preds[\"actual\"], preds[\"preds\"]))\n",
    "print(\"MAE: \", mean_absolute_error(preds[\"actual\"], preds[\"preds\"]))\n",
    "print(\"MAPE: \", mean_absolute_percentage_error(preds[\"actual\"], preds[\"preds\"]))\n",
    "print(\"RMSE: \", root_mean_squared_error(preds[\"actual\"], preds[\"preds\"]))"
   ]
  },
  {
   "cell_type": "code",
   "execution_count": 42,
   "metadata": {},
   "outputs": [
    {
     "name": "stdout",
     "output_type": "stream",
     "text": [
      "Metric for baseline model\n",
      "R2 Score:  0.693600766406421\n",
      "MAE:  8.569030955585465\n",
      "MAPE:  0.11511246599495328\n",
      "RMSE:  12.815618294665404\n"
     ]
    }
   ],
   "source": [
    "print(\"Metric for baseline model\")\n",
    "print(\"R2 Score: \", r2_score(baseline[\"actual\"], baseline[\"preds\"]))\n",
    "print(\"MAE: \", mean_absolute_error(baseline[\"actual\"], baseline[\"preds\"]))\n",
    "print(\"MAPE: \", mean_absolute_percentage_error(baseline[\"actual\"], baseline[\"preds\"]))\n",
    "print(\"RMSE: \", root_mean_squared_error(baseline[\"actual\"], baseline[\"preds\"]))"
   ]
  },
  {
   "cell_type": "code",
   "execution_count": null,
   "metadata": {},
   "outputs": [],
   "source": []
  }
 ],
 "metadata": {
  "kernelspec": {
   "display_name": "statslab",
   "language": "python",
   "name": "python3"
  },
  "language_info": {
   "codemirror_mode": {
    "name": "ipython",
    "version": 3
   },
   "file_extension": ".py",
   "mimetype": "text/x-python",
   "name": "python",
   "nbconvert_exporter": "python",
   "pygments_lexer": "ipython3",
   "version": "3.10.14"
  }
 },
 "nbformat": 4,
 "nbformat_minor": 2
}
