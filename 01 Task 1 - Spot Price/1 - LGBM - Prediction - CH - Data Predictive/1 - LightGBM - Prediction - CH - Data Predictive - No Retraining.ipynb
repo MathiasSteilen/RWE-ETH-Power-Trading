{
 "cells": [
  {
   "cell_type": "code",
   "execution_count": 1,
   "metadata": {},
   "outputs": [],
   "source": [
    "import pandas as pd\n",
    "import polars as pl\n",
    "import plotnine as pn\n",
    "import numpy as np\n",
    "from tqdm.notebook import tqdm\n",
    "\n",
    "import lightgbm as lgb\n",
    "from sklearn.linear_model import Lasso\n",
    "from sklearn.model_selection import TimeSeriesSplit\n",
    "from sklearn.impute import SimpleImputer\n",
    "from sklearn.experimental import enable_iterative_imputer\n",
    "from sklearn.impute import IterativeImputer, KNNImputer\n",
    "from sklearn.pipeline import FeatureUnion, make_pipeline, Pipeline\n",
    "from sklearn.compose import ColumnTransformer, make_column_selector\n",
    "from sklearn.preprocessing import (\n",
    "    LabelEncoder,\n",
    "    StandardScaler,\n",
    "    OneHotEncoder,\n",
    "    FunctionTransformer,\n",
    ")\n",
    "from sklearn.metrics import r2_score, mean_absolute_error, mean_absolute_percentage_error, mean_squared_error, root_mean_squared_error\n",
    "from sklearn.base import BaseEstimator, TransformerMixin\n",
    "from sklearn import config_context\n",
    "import optuna\n",
    "from optuna.visualization import plot_optimization_history, plot_param_importances, plot_parallel_coordinate\n",
    "import os\n",
    "import holidays\n",
    "\n",
    "%load_ext blackcellmagic"
   ]
  },
  {
   "cell_type": "markdown",
   "metadata": {},
   "source": [
    "### Data Preparation\n",
    "\n",
    "Focus on CH spot price first"
   ]
  },
  {
   "cell_type": "code",
   "execution_count": 2,
   "metadata": {},
   "outputs": [
    {
     "data": {
      "text/html": [
       "<div>\n",
       "<style scoped>\n",
       "    .dataframe tbody tr th:only-of-type {\n",
       "        vertical-align: middle;\n",
       "    }\n",
       "\n",
       "    .dataframe tbody tr th {\n",
       "        vertical-align: top;\n",
       "    }\n",
       "\n",
       "    .dataframe thead th {\n",
       "        text-align: right;\n",
       "    }\n",
       "</style>\n",
       "<table border=\"1\" class=\"dataframe\">\n",
       "  <thead>\n",
       "    <tr style=\"text-align: right;\">\n",
       "      <th></th>\n",
       "      <th>date</th>\n",
       "      <th>auction_price_ch_de</th>\n",
       "      <th>auction_price_de_ch</th>\n",
       "      <th>dst</th>\n",
       "      <th>day_ahead_price_at</th>\n",
       "      <th>day_ahead_price_ch</th>\n",
       "      <th>day_ahead_price_de</th>\n",
       "      <th>day_ahead_price_fr</th>\n",
       "      <th>day_ahead_price_it</th>\n",
       "      <th>actual_load_at</th>\n",
       "      <th>...</th>\n",
       "      <th>wind_offshore_actual_aggregated_it</th>\n",
       "      <th>wind_offshore_forecast_de</th>\n",
       "      <th>wind_onshore_actual_aggregated_at</th>\n",
       "      <th>wind_onshore_actual_aggregated_de</th>\n",
       "      <th>wind_onshore_actual_aggregated_fr</th>\n",
       "      <th>wind_onshore_actual_aggregated_it</th>\n",
       "      <th>wind_onshore_ch</th>\n",
       "      <th>wind_onshore_forecast_at</th>\n",
       "      <th>wind_onshore_forecast_de</th>\n",
       "      <th>wind_onshore_forecast_fr</th>\n",
       "    </tr>\n",
       "  </thead>\n",
       "  <tbody>\n",
       "    <tr>\n",
       "      <th>0</th>\n",
       "      <td>2023-01-01 00:00:00+00:00</td>\n",
       "      <td>0.01</td>\n",
       "      <td>6.09</td>\n",
       "      <td>1</td>\n",
       "      <td>NaN</td>\n",
       "      <td>-7.25</td>\n",
       "      <td>-1.07</td>\n",
       "      <td>NaN</td>\n",
       "      <td>NaN</td>\n",
       "      <td>NaN</td>\n",
       "      <td>...</td>\n",
       "      <td>NaN</td>\n",
       "      <td>3390.25</td>\n",
       "      <td>NaN</td>\n",
       "      <td>NaN</td>\n",
       "      <td>NaN</td>\n",
       "      <td>NaN</td>\n",
       "      <td>NaN</td>\n",
       "      <td>1174.0</td>\n",
       "      <td>35415.50</td>\n",
       "      <td>13933.0</td>\n",
       "    </tr>\n",
       "    <tr>\n",
       "      <th>1</th>\n",
       "      <td>2023-01-01 01:00:00+00:00</td>\n",
       "      <td>0.01</td>\n",
       "      <td>5.50</td>\n",
       "      <td>1</td>\n",
       "      <td>NaN</td>\n",
       "      <td>-3.99</td>\n",
       "      <td>-1.47</td>\n",
       "      <td>NaN</td>\n",
       "      <td>NaN</td>\n",
       "      <td>NaN</td>\n",
       "      <td>...</td>\n",
       "      <td>NaN</td>\n",
       "      <td>3395.50</td>\n",
       "      <td>NaN</td>\n",
       "      <td>NaN</td>\n",
       "      <td>NaN</td>\n",
       "      <td>NaN</td>\n",
       "      <td>NaN</td>\n",
       "      <td>1194.0</td>\n",
       "      <td>35146.75</td>\n",
       "      <td>13583.0</td>\n",
       "    </tr>\n",
       "    <tr>\n",
       "      <th>2</th>\n",
       "      <td>2023-01-01 02:00:00+00:00</td>\n",
       "      <td>0.01</td>\n",
       "      <td>6.45</td>\n",
       "      <td>1</td>\n",
       "      <td>NaN</td>\n",
       "      <td>-7.71</td>\n",
       "      <td>-5.08</td>\n",
       "      <td>NaN</td>\n",
       "      <td>NaN</td>\n",
       "      <td>NaN</td>\n",
       "      <td>...</td>\n",
       "      <td>NaN</td>\n",
       "      <td>3410.25</td>\n",
       "      <td>NaN</td>\n",
       "      <td>NaN</td>\n",
       "      <td>NaN</td>\n",
       "      <td>NaN</td>\n",
       "      <td>NaN</td>\n",
       "      <td>1085.0</td>\n",
       "      <td>34449.00</td>\n",
       "      <td>13230.0</td>\n",
       "    </tr>\n",
       "    <tr>\n",
       "      <th>3</th>\n",
       "      <td>2023-01-01 03:00:00+00:00</td>\n",
       "      <td>0.01</td>\n",
       "      <td>9.08</td>\n",
       "      <td>1</td>\n",
       "      <td>NaN</td>\n",
       "      <td>-9.71</td>\n",
       "      <td>-4.49</td>\n",
       "      <td>NaN</td>\n",
       "      <td>NaN</td>\n",
       "      <td>NaN</td>\n",
       "      <td>...</td>\n",
       "      <td>NaN</td>\n",
       "      <td>3431.25</td>\n",
       "      <td>NaN</td>\n",
       "      <td>NaN</td>\n",
       "      <td>NaN</td>\n",
       "      <td>NaN</td>\n",
       "      <td>NaN</td>\n",
       "      <td>897.0</td>\n",
       "      <td>33905.25</td>\n",
       "      <td>12877.0</td>\n",
       "    </tr>\n",
       "    <tr>\n",
       "      <th>4</th>\n",
       "      <td>2023-01-01 04:00:00+00:00</td>\n",
       "      <td>0.01</td>\n",
       "      <td>13.33</td>\n",
       "      <td>1</td>\n",
       "      <td>NaN</td>\n",
       "      <td>-15.15</td>\n",
       "      <td>-5.40</td>\n",
       "      <td>NaN</td>\n",
       "      <td>NaN</td>\n",
       "      <td>NaN</td>\n",
       "      <td>...</td>\n",
       "      <td>NaN</td>\n",
       "      <td>3454.25</td>\n",
       "      <td>NaN</td>\n",
       "      <td>NaN</td>\n",
       "      <td>NaN</td>\n",
       "      <td>NaN</td>\n",
       "      <td>NaN</td>\n",
       "      <td>697.0</td>\n",
       "      <td>33362.75</td>\n",
       "      <td>12311.0</td>\n",
       "    </tr>\n",
       "  </tbody>\n",
       "</table>\n",
       "<p>5 rows × 104 columns</p>\n",
       "</div>"
      ],
      "text/plain": [
       "                       date  auction_price_ch_de  auction_price_de_ch  dst  \\\n",
       "0 2023-01-01 00:00:00+00:00                 0.01                 6.09    1   \n",
       "1 2023-01-01 01:00:00+00:00                 0.01                 5.50    1   \n",
       "2 2023-01-01 02:00:00+00:00                 0.01                 6.45    1   \n",
       "3 2023-01-01 03:00:00+00:00                 0.01                 9.08    1   \n",
       "4 2023-01-01 04:00:00+00:00                 0.01                13.33    1   \n",
       "\n",
       "   day_ahead_price_at  day_ahead_price_ch  day_ahead_price_de  \\\n",
       "0                 NaN               -7.25               -1.07   \n",
       "1                 NaN               -3.99               -1.47   \n",
       "2                 NaN               -7.71               -5.08   \n",
       "3                 NaN               -9.71               -4.49   \n",
       "4                 NaN              -15.15               -5.40   \n",
       "\n",
       "   day_ahead_price_fr  day_ahead_price_it  actual_load_at  ...  \\\n",
       "0                 NaN                 NaN             NaN  ...   \n",
       "1                 NaN                 NaN             NaN  ...   \n",
       "2                 NaN                 NaN             NaN  ...   \n",
       "3                 NaN                 NaN             NaN  ...   \n",
       "4                 NaN                 NaN             NaN  ...   \n",
       "\n",
       "   wind_offshore_actual_aggregated_it  wind_offshore_forecast_de  \\\n",
       "0                                 NaN                    3390.25   \n",
       "1                                 NaN                    3395.50   \n",
       "2                                 NaN                    3410.25   \n",
       "3                                 NaN                    3431.25   \n",
       "4                                 NaN                    3454.25   \n",
       "\n",
       "   wind_onshore_actual_aggregated_at  wind_onshore_actual_aggregated_de  \\\n",
       "0                                NaN                                NaN   \n",
       "1                                NaN                                NaN   \n",
       "2                                NaN                                NaN   \n",
       "3                                NaN                                NaN   \n",
       "4                                NaN                                NaN   \n",
       "\n",
       "   wind_onshore_actual_aggregated_fr  wind_onshore_actual_aggregated_it  \\\n",
       "0                                NaN                                NaN   \n",
       "1                                NaN                                NaN   \n",
       "2                                NaN                                NaN   \n",
       "3                                NaN                                NaN   \n",
       "4                                NaN                                NaN   \n",
       "\n",
       "   wind_onshore_ch  wind_onshore_forecast_at  wind_onshore_forecast_de  \\\n",
       "0              NaN                    1174.0                  35415.50   \n",
       "1              NaN                    1194.0                  35146.75   \n",
       "2              NaN                    1085.0                  34449.00   \n",
       "3              NaN                     897.0                  33905.25   \n",
       "4              NaN                     697.0                  33362.75   \n",
       "\n",
       "   wind_onshore_forecast_fr  \n",
       "0                   13933.0  \n",
       "1                   13583.0  \n",
       "2                   13230.0  \n",
       "3                   12877.0  \n",
       "4                   12311.0  \n",
       "\n",
       "[5 rows x 104 columns]"
      ]
     },
     "execution_count": 2,
     "metadata": {},
     "output_type": "execute_result"
    }
   ],
   "source": [
    "df = pd.read_csv(\n",
    "    \"../../00 Data Retrieval and Cleaning/0_df_final_ml_predictive.csv\",\n",
    "    parse_dates=[\"date\"],\n",
    ")\n",
    "df.head()"
   ]
  },
  {
   "cell_type": "markdown",
   "metadata": {},
   "source": [
    "Need to lag the other three target variables by 24 hours, haven't done that yet:"
   ]
  },
  {
   "cell_type": "code",
   "execution_count": 3,
   "metadata": {},
   "outputs": [],
   "source": [
    "df = (\n",
    "    df\n",
    "    .assign(\n",
    "        day_ahead_price_de=lambda x: x[\"day_ahead_price_de\"].shift(24),\n",
    "        auction_price_de_ch=lambda x: x[\"auction_price_de_ch\"].shift(24),\n",
    "        auction_price_ch_de=lambda x: x[\"auction_price_ch_de\"].shift(24),\n",
    "    )\n",
    ")"
   ]
  },
  {
   "cell_type": "markdown",
   "metadata": {},
   "source": [
    "### Include target lags\n",
    "\n",
    "- latest available price (last price of previous day)\n",
    "- last two week prices at exact hour (14 additional cols)"
   ]
  },
  {
   "cell_type": "code",
   "execution_count": 4,
   "metadata": {},
   "outputs": [],
   "source": [
    "# Adding last available price from previous day\n",
    "df = df.assign(\n",
    "    day=lambda x: x.date.dt.date,\n",
    "    day_ahead_price_ch_last=lambda x: x.groupby(\"day\")[\"day_ahead_price_ch\"].transform(\"last\").shift(24),\n",
    ")"
   ]
  },
  {
   "cell_type": "code",
   "execution_count": 5,
   "metadata": {},
   "outputs": [],
   "source": [
    "# Adding lags in 24h steps for the last two weeks\n",
    "for i in range(1, 15):\n",
    "    h = i * 24\n",
    "    df[f\"day_ahead_price_ch_lag_{h}\"] = df[\"day_ahead_price_ch\"].shift(h)"
   ]
  },
  {
   "cell_type": "code",
   "execution_count": 6,
   "metadata": {},
   "outputs": [
    {
     "name": "stdout",
     "output_type": "stream",
     "text": [
      "<class 'pandas.core.frame.DataFrame'>\n",
      "RangeIndex: 9501 entries, 0 to 9500\n",
      "Data columns (total 16 columns):\n",
      " #   Column                      Non-Null Count  Dtype  \n",
      "---  ------                      --------------  -----  \n",
      " 0   day_ahead_price_ch          9501 non-null   float64\n",
      " 1   day_ahead_price_ch_last     9477 non-null   float64\n",
      " 2   day_ahead_price_ch_lag_24   9477 non-null   float64\n",
      " 3   day_ahead_price_ch_lag_48   9453 non-null   float64\n",
      " 4   day_ahead_price_ch_lag_72   9429 non-null   float64\n",
      " 5   day_ahead_price_ch_lag_96   9405 non-null   float64\n",
      " 6   day_ahead_price_ch_lag_120  9381 non-null   float64\n",
      " 7   day_ahead_price_ch_lag_144  9357 non-null   float64\n",
      " 8   day_ahead_price_ch_lag_168  9333 non-null   float64\n",
      " 9   day_ahead_price_ch_lag_192  9309 non-null   float64\n",
      " 10  day_ahead_price_ch_lag_216  9285 non-null   float64\n",
      " 11  day_ahead_price_ch_lag_240  9261 non-null   float64\n",
      " 12  day_ahead_price_ch_lag_264  9237 non-null   float64\n",
      " 13  day_ahead_price_ch_lag_288  9213 non-null   float64\n",
      " 14  day_ahead_price_ch_lag_312  9189 non-null   float64\n",
      " 15  day_ahead_price_ch_lag_336  9165 non-null   float64\n",
      "dtypes: float64(16)\n",
      "memory usage: 1.2 MB\n"
     ]
    }
   ],
   "source": [
    "df.filter(regex=\"day_ahead_price_ch\").info()"
   ]
  },
  {
   "cell_type": "markdown",
   "metadata": {},
   "source": [
    "### Additional Feature Generation\n",
    "\n",
    "- There might be a benefit of encoding cyclical calendar information\n",
    "- Additionally: Holidays"
   ]
  },
  {
   "cell_type": "markdown",
   "metadata": {},
   "source": [
    "Include a trend column:"
   ]
  },
  {
   "cell_type": "code",
   "execution_count": 7,
   "metadata": {},
   "outputs": [],
   "source": [
    "df = df.assign(trend=lambda x: x.index)"
   ]
  },
  {
   "cell_type": "code",
   "execution_count": 8,
   "metadata": {},
   "outputs": [],
   "source": [
    "# Define the country (Switzerland)\n",
    "country = \"CH\"\n",
    "\n",
    "regional_holidays = holidays.CH(\n",
    "    years=df.date.dt.year.unique().tolist()\n",
    ")"
   ]
  },
  {
   "cell_type": "code",
   "execution_count": 9,
   "metadata": {},
   "outputs": [
    {
     "data": {
      "text/html": [
       "<div>\n",
       "<style scoped>\n",
       "    .dataframe tbody tr th:only-of-type {\n",
       "        vertical-align: middle;\n",
       "    }\n",
       "\n",
       "    .dataframe tbody tr th {\n",
       "        vertical-align: top;\n",
       "    }\n",
       "\n",
       "    .dataframe thead th {\n",
       "        text-align: right;\n",
       "    }\n",
       "</style>\n",
       "<table border=\"1\" class=\"dataframe\">\n",
       "  <thead>\n",
       "    <tr style=\"text-align: right;\">\n",
       "      <th></th>\n",
       "      <th>holiday_name</th>\n",
       "      <th>holiday_date</th>\n",
       "    </tr>\n",
       "  </thead>\n",
       "  <tbody>\n",
       "    <tr>\n",
       "      <th>4</th>\n",
       "      <td>Neujahrestag</td>\n",
       "      <td>2023-01-01</td>\n",
       "    </tr>\n",
       "    <tr>\n",
       "      <th>5</th>\n",
       "      <td>Auffahrt</td>\n",
       "      <td>2023-05-18</td>\n",
       "    </tr>\n",
       "    <tr>\n",
       "      <th>6</th>\n",
       "      <td>Nationalfeiertag</td>\n",
       "      <td>2023-08-01</td>\n",
       "    </tr>\n",
       "    <tr>\n",
       "      <th>7</th>\n",
       "      <td>Weihnachten</td>\n",
       "      <td>2023-12-25</td>\n",
       "    </tr>\n",
       "    <tr>\n",
       "      <th>0</th>\n",
       "      <td>Neujahrestag</td>\n",
       "      <td>2024-01-01</td>\n",
       "    </tr>\n",
       "  </tbody>\n",
       "</table>\n",
       "</div>"
      ],
      "text/plain": [
       "       holiday_name holiday_date\n",
       "4      Neujahrestag   2023-01-01\n",
       "5          Auffahrt   2023-05-18\n",
       "6  Nationalfeiertag   2023-08-01\n",
       "7       Weihnachten   2023-12-25\n",
       "0      Neujahrestag   2024-01-01"
      ]
     },
     "execution_count": 9,
     "metadata": {},
     "output_type": "execute_result"
    }
   ],
   "source": [
    "holiday_df = pd.DataFrame(\n",
    "    {\n",
    "        \"holiday_name\": list(regional_holidays.values()),\n",
    "        \"holiday_date\": list(regional_holidays.keys()),\n",
    "    }\n",
    ")\n",
    "\n",
    "holiday_df.sort_values(\"holiday_date\").head()"
   ]
  },
  {
   "cell_type": "code",
   "execution_count": 10,
   "metadata": {},
   "outputs": [
    {
     "data": {
      "text/plain": [
       "holiday_name\n",
       "Auffahrt            2\n",
       "Nationalfeiertag    2\n",
       "Neujahrestag        2\n",
       "Weihnachten         2\n",
       "Name: count, dtype: int64"
      ]
     },
     "execution_count": 10,
     "metadata": {},
     "output_type": "execute_result"
    }
   ],
   "source": [
    "holiday_df.value_counts(\"holiday_name\")"
   ]
  },
  {
   "cell_type": "code",
   "execution_count": 11,
   "metadata": {},
   "outputs": [],
   "source": [
    "df = (\n",
    "    df.assign(\n",
    "        hour=lambda x: x.date.dt.hour + 1,\n",
    "        month=lambda x: x.date.dt.month,\n",
    "        quarter=lambda x: x.date.dt.quarter,\n",
    "        wday=lambda x: x.date.dt.day_of_week + 1,\n",
    "        weekend=lambda x: np.where(\n",
    "            x.date.dt.day_name().isin([\"Sunday\", \"Saturday\"]), 1, 0\n",
    "        ),\n",
    "        work_hour=lambda x: np.where(\n",
    "            x[\"hour\"].isin(np.arange(17, 24).tolist() + np.arange(1, 5).tolist()), 0, 1\n",
    "        ),\n",
    "        week_hour=lambda x: x.date.dt.dayofweek * 24 + (x.date.dt.hour + 1),\n",
    "        year=lambda x: x.date.dt.year,\n",
    "        hour_counter=lambda x: np.arange(0, x.shape[0]),\n",
    "    )\n",
    "    .assign(day=lambda x: x.date.dt.date)\n",
    "    .merge(holiday_df, how=\"left\", left_on=\"day\", right_on=\"holiday_date\")\n",
    "    .drop([\"holiday_date\", \"day\"], axis=1)\n",
    "    .assign(\n",
    "        holiday_name=lambda x: np.where(\n",
    "            x[\"holiday_name\"].isna(), \"none\", x[\"holiday_name\"]\n",
    "        )\n",
    "    )\n",
    ")"
   ]
  },
  {
   "cell_type": "code",
   "execution_count": 12,
   "metadata": {},
   "outputs": [
    {
     "data": {
      "text/plain": [
       "holiday_name\n",
       "none                9381\n",
       "Neujahrestag          48\n",
       "Auffahrt              24\n",
       "Nationalfeiertag      24\n",
       "Weihnachten           24\n",
       "Name: count, dtype: int64"
      ]
     },
     "execution_count": 12,
     "metadata": {},
     "output_type": "execute_result"
    }
   ],
   "source": [
    "df.value_counts(\"holiday_name\")"
   ]
  },
  {
   "cell_type": "markdown",
   "metadata": {},
   "source": [
    "### Feature Engineering"
   ]
  },
  {
   "cell_type": "markdown",
   "metadata": {},
   "source": [
    "Other:\n",
    "- `date`: drop, can't feed into net\n",
    "\n",
    "Numerical:\n",
    "- everything but `holiday_name`\n",
    "\n",
    "Categorical\n",
    "- `holiday_name`: one-hot encode"
   ]
  },
  {
   "cell_type": "markdown",
   "metadata": {},
   "source": [
    "#### Cyclical Encoding"
   ]
  },
  {
   "cell_type": "markdown",
   "metadata": {},
   "source": [
    "- avoid issue with exploding feature space when one-hot encoding hundreds of levels in categorical vars\n",
    "- puts end of cycle closer to beginning (End of Year is not that different from BOY)"
   ]
  },
  {
   "cell_type": "code",
   "execution_count": 13,
   "metadata": {},
   "outputs": [],
   "source": [
    "def sin_transformer(period):\n",
    "    return FunctionTransformer(lambda x: np.sin(x / period * 2 * np.pi))\n",
    "\n",
    "\n",
    "def cos_transformer(period):\n",
    "    return FunctionTransformer(lambda x: np.cos(x / period * 2 * np.pi))"
   ]
  },
  {
   "cell_type": "code",
   "execution_count": 14,
   "metadata": {},
   "outputs": [],
   "source": [
    "# hour in day\n",
    "df[\"hour_sin\"] = sin_transformer(24).fit_transform(df[\"hour\"].astype(float))\n",
    "df[\"hour_cos\"] = cos_transformer(24).fit_transform(df[\"hour\"].astype(float))\n",
    "\n",
    "# hour in week\n",
    "df[\"week_hour_sin\"] = sin_transformer(168).fit_transform(df[\"week_hour\"].astype(float))\n",
    "df[\"week_hour_cos\"] = cos_transformer(168).fit_transform(df[\"week_hour\"].astype(float))\n",
    "\n",
    "# month\n",
    "df[\"month_sin\"] = sin_transformer(12).fit_transform(df[\"month\"].astype(float))\n",
    "df[\"month_cos\"] = cos_transformer(12).fit_transform(df[\"month\"].astype(float))\n",
    "\n",
    "# quarter\n",
    "df[\"quarter_sin\"] = sin_transformer(4).fit_transform(df[\"quarter\"].astype(float))\n",
    "df[\"quarter_cos\"] = cos_transformer(4).fit_transform(df[\"quarter\"].astype(float))\n",
    "\n",
    "# weekday\n",
    "df[\"wday_sin\"] = sin_transformer(7).fit_transform(df[\"wday\"].astype(float))\n",
    "df[\"wday_cos\"] = cos_transformer(7).fit_transform(df[\"wday\"].astype(float))\n",
    "\n",
    "df = df.drop([\"hour\", \"month\", \"quarter\", \"wday\", \"week_hour\"], axis=1)"
   ]
  },
  {
   "cell_type": "markdown",
   "metadata": {},
   "source": [
    "#### `sklearn` Pipeline for Data Preparation"
   ]
  },
  {
   "cell_type": "code",
   "execution_count": 15,
   "metadata": {},
   "outputs": [],
   "source": [
    "manual_cols = [\"trend\", \"unique_id\"]\n",
    "drop_cols = [\"date\", \"day_ahead_price_ch\"]\n",
    "\n",
    "pipeline_cols = [\n",
    "    col\n",
    "    for col in df.drop(drop_cols, axis=1).columns\n",
    "    if col not in manual_cols\n",
    "]\n",
    "\n",
    "num_cols = (\n",
    "    df.drop(drop_cols, axis=1)\n",
    "    .filter(pipeline_cols)\n",
    "    .select_dtypes(include=np.number)\n",
    "    .columns\n",
    ")\n",
    "cat_cols = (\n",
    "    df.drop(drop_cols, axis=1)\n",
    "    .filter(pipeline_cols)\n",
    "    .select_dtypes(exclude=np.number)\n",
    "    .columns\n",
    ")"
   ]
  },
  {
   "cell_type": "code",
   "execution_count": 16,
   "metadata": {},
   "outputs": [
    {
     "data": {
      "text/plain": [
       "['auction_price_ch_de',\n",
       " 'auction_price_de_ch',\n",
       " 'dst',\n",
       " 'day_ahead_price_at',\n",
       " 'day_ahead_price_de',\n",
       " 'day_ahead_price_fr',\n",
       " 'day_ahead_price_it',\n",
       " 'actual_load_at',\n",
       " 'actual_load_ch',\n",
       " 'actual_load_de',\n",
       " 'actual_load_fr',\n",
       " 'actual_load_it',\n",
       " 'allocated_capacity_ch_de',\n",
       " 'allocated_capacity_de_ch',\n",
       " 'biomass_actual_aggregated_at',\n",
       " 'biomass_actual_aggregated_de',\n",
       " 'biomass_actual_aggregated_fr',\n",
       " 'biomass_actual_aggregated_it',\n",
       " 'capacity_forecast_at_ch',\n",
       " 'capacity_forecast_ch_at',\n",
       " 'capacity_forecast_ch_de_lu',\n",
       " 'capacity_forecast_ch_fr',\n",
       " 'capacity_forecast_ch_it',\n",
       " 'capacity_forecast_de_lu_ch',\n",
       " 'capacity_forecast_fr_ch',\n",
       " 'capacity_forecast_it_ch',\n",
       " 'crossborder_actual_flow_at_ch',\n",
       " 'crossborder_actual_flow_ch_at',\n",
       " 'crossborder_actual_flow_ch_de_lu',\n",
       " 'crossborder_actual_flow_ch_fr',\n",
       " 'crossborder_actual_flow_ch_it',\n",
       " 'crossborder_actual_flow_de_lu_ch',\n",
       " 'crossborder_actual_flow_fr_ch',\n",
       " 'crossborder_actual_flow_it_ch',\n",
       " 'fossil_brown_coal_lignite_actual_aggregated_de',\n",
       " 'fossil_coal_derived_gas_actual_aggregated_it',\n",
       " 'fossil_gas_actual_aggregated_at',\n",
       " 'fossil_gas_actual_aggregated_de',\n",
       " 'fossil_gas_actual_aggregated_fr',\n",
       " 'fossil_gas_actual_aggregated_it',\n",
       " 'fossil_hard_coal_actual_aggregated_de',\n",
       " 'fossil_hard_coal_actual_aggregated_fr',\n",
       " 'fossil_hard_coal_actual_aggregated_it',\n",
       " 'fossil_oil_actual_aggregated_de',\n",
       " 'fossil_oil_actual_aggregated_fr',\n",
       " 'fossil_oil_actual_aggregated_it',\n",
       " 'geothermal_actual_aggregated_de',\n",
       " 'geothermal_actual_aggregated_it',\n",
       " 'hydro_pumped_storage_actual_aggregated_at',\n",
       " 'hydro_pumped_storage_actual_aggregated_de',\n",
       " 'hydro_pumped_storage_actual_aggregated_fr',\n",
       " 'hydro_pumped_storage_actual_aggregated_it',\n",
       " 'hydro_pumped_storage_actual_consumption_at',\n",
       " 'hydro_pumped_storage_actual_consumption_de',\n",
       " 'hydro_pumped_storage_actual_consumption_fr',\n",
       " 'hydro_pumped_storage_actual_consumption_it',\n",
       " 'hydro_pumped_storage_ch',\n",
       " 'hydro_reservoir_storage_at',\n",
       " 'hydro_reservoir_storage_ch',\n",
       " 'hydro_reservoir_storage_fr',\n",
       " 'hydro_reservoir_storage_it',\n",
       " 'hydro_run_of_river_and_poundage_actual_aggregated_at',\n",
       " 'hydro_run_of_river_and_poundage_actual_aggregated_de',\n",
       " 'hydro_run_of_river_and_poundage_actual_aggregated_fr',\n",
       " 'hydro_run_of_river_and_poundage_actual_aggregated_it',\n",
       " 'hydro_run_of_river_and_poundage_ch',\n",
       " 'hydro_water_reservoir_actual_aggregated_at',\n",
       " 'hydro_water_reservoir_actual_aggregated_de',\n",
       " 'hydro_water_reservoir_actual_aggregated_fr',\n",
       " 'hydro_water_reservoir_actual_aggregated_it',\n",
       " 'hydro_water_reservoir_ch',\n",
       " 'nuclear_actual_aggregated_de',\n",
       " 'nuclear_actual_aggregated_fr',\n",
       " 'nuclear_ch',\n",
       " 'other_actual_aggregated_de',\n",
       " 'other_actual_aggregated_it',\n",
       " 'other_renewable_actual_aggregated_de',\n",
       " 'solar_actual_aggregated_at',\n",
       " 'solar_actual_aggregated_de',\n",
       " 'solar_actual_aggregated_fr',\n",
       " 'solar_actual_aggregated_it',\n",
       " 'solar_ch',\n",
       " 'solar_forecast_at',\n",
       " 'solar_forecast_ch',\n",
       " 'solar_forecast_de',\n",
       " 'solar_forecast_fr',\n",
       " 'solar_forecast_it',\n",
       " 'waste_actual_aggregated_de',\n",
       " 'waste_actual_aggregated_fr',\n",
       " 'waste_actual_aggregated_it',\n",
       " 'wind_offshore_actual_aggregated_de',\n",
       " 'wind_offshore_actual_aggregated_fr',\n",
       " 'wind_offshore_actual_aggregated_it',\n",
       " 'wind_offshore_forecast_de',\n",
       " 'wind_onshore_actual_aggregated_at',\n",
       " 'wind_onshore_actual_aggregated_de',\n",
       " 'wind_onshore_actual_aggregated_fr',\n",
       " 'wind_onshore_actual_aggregated_it',\n",
       " 'wind_onshore_ch',\n",
       " 'wind_onshore_forecast_at',\n",
       " 'wind_onshore_forecast_de',\n",
       " 'wind_onshore_forecast_fr',\n",
       " 'day_ahead_price_ch_last',\n",
       " 'day_ahead_price_ch_lag_24',\n",
       " 'day_ahead_price_ch_lag_48',\n",
       " 'day_ahead_price_ch_lag_72',\n",
       " 'day_ahead_price_ch_lag_96',\n",
       " 'day_ahead_price_ch_lag_120',\n",
       " 'day_ahead_price_ch_lag_144',\n",
       " 'day_ahead_price_ch_lag_168',\n",
       " 'day_ahead_price_ch_lag_192',\n",
       " 'day_ahead_price_ch_lag_216',\n",
       " 'day_ahead_price_ch_lag_240',\n",
       " 'day_ahead_price_ch_lag_264',\n",
       " 'day_ahead_price_ch_lag_288',\n",
       " 'day_ahead_price_ch_lag_312',\n",
       " 'day_ahead_price_ch_lag_336',\n",
       " 'weekend',\n",
       " 'work_hour',\n",
       " 'year',\n",
       " 'hour_counter',\n",
       " 'holiday_name',\n",
       " 'hour_sin',\n",
       " 'hour_cos',\n",
       " 'week_hour_sin',\n",
       " 'week_hour_cos',\n",
       " 'month_sin',\n",
       " 'month_cos',\n",
       " 'quarter_sin',\n",
       " 'quarter_cos',\n",
       " 'wday_sin',\n",
       " 'wday_cos']"
      ]
     },
     "execution_count": 16,
     "metadata": {},
     "output_type": "execute_result"
    }
   ],
   "source": [
    "pipeline_cols"
   ]
  },
  {
   "cell_type": "code",
   "execution_count": 17,
   "metadata": {},
   "outputs": [
    {
     "data": {
      "text/plain": [
       "Index(['auction_price_ch_de', 'auction_price_de_ch', 'dst',\n",
       "       'day_ahead_price_at', 'day_ahead_price_de', 'day_ahead_price_fr',\n",
       "       'day_ahead_price_it', 'actual_load_at', 'actual_load_ch',\n",
       "       'actual_load_de',\n",
       "       ...\n",
       "       'hour_sin', 'hour_cos', 'week_hour_sin', 'week_hour_cos', 'month_sin',\n",
       "       'month_cos', 'quarter_sin', 'quarter_cos', 'wday_sin', 'wday_cos'],\n",
       "      dtype='object', length=131)"
      ]
     },
     "execution_count": 17,
     "metadata": {},
     "output_type": "execute_result"
    }
   ],
   "source": [
    "num_cols"
   ]
  },
  {
   "cell_type": "code",
   "execution_count": 18,
   "metadata": {},
   "outputs": [
    {
     "data": {
      "text/plain": [
       "Index(['holiday_name'], dtype='object')"
      ]
     },
     "execution_count": 18,
     "metadata": {},
     "output_type": "execute_result"
    }
   ],
   "source": [
    "cat_cols"
   ]
  },
  {
   "cell_type": "code",
   "execution_count": 19,
   "metadata": {},
   "outputs": [],
   "source": [
    "numeric_transformer = Pipeline(\n",
    "    steps=[\n",
    "        (\"imputer\", SimpleImputer()),\n",
    "        # (\"scaler\", StandardScaler())\n",
    "    ]\n",
    ")\n",
    "\n",
    "categorical_transformer = Pipeline(\n",
    "    steps=[\n",
    "        (\"imputer\", SimpleImputer(strategy=\"most_frequent\")),\n",
    "        (\n",
    "            \"encoder\",\n",
    "            OneHotEncoder(sparse_output=False, handle_unknown=\"ignore\"),\n",
    "        ),\n",
    "    ]\n",
    ")\n",
    "\n",
    "# Making column transformer where all transformers in the pipelines are included\n",
    "preprocessor = ColumnTransformer(\n",
    "    transformers=[\n",
    "        (\"numeric\", numeric_transformer, num_cols),\n",
    "        (\"categorical\", categorical_transformer, cat_cols),\n",
    "    ],\n",
    "    remainder=\"passthrough\",\n",
    ")"
   ]
  },
  {
   "cell_type": "markdown",
   "metadata": {},
   "source": [
    "### Split and preprocess the data"
   ]
  },
  {
   "cell_type": "code",
   "execution_count": 20,
   "metadata": {},
   "outputs": [],
   "source": [
    "train_end = pd.Timestamp(\"2023-09-01\").tz_localize(\"UTC\")\n",
    "val_end = pd.Timestamp(\"2024-01-01\").tz_localize(\"UTC\")\n",
    "\n",
    "# Create splits\n",
    "df_train = df.query(\"date < @val_end\").reset_index(drop=True)\n",
    "# df_val = df.query(\"date < @val_end\").query(\"date >= @train_end\")\n",
    "df_test = df.query(\"date >= @val_end\")"
   ]
  },
  {
   "cell_type": "code",
   "execution_count": 21,
   "metadata": {},
   "outputs": [],
   "source": [
    "X_train = df_train.drop(columns=[\"date\", \"day_ahead_price_ch\"])\n",
    "y_train = df_train[\"day_ahead_price_ch\"]\n",
    "\n",
    "# X_val = df_val.drop(columns=[\"date\", \"day_ahead_price_ch\"])\n",
    "# y_val = df_val[\"day_ahead_price_ch\"]\n",
    "\n",
    "X_test = df_test.drop(columns=[\"date\", \"day_ahead_price_ch\"])\n",
    "y_test = df_test[\"day_ahead_price_ch\"]"
   ]
  },
  {
   "cell_type": "code",
   "execution_count": 22,
   "metadata": {},
   "outputs": [],
   "source": [
    "fitted_preprocessor = preprocessor.fit(X_train)"
   ]
  },
  {
   "cell_type": "code",
   "execution_count": 23,
   "metadata": {},
   "outputs": [],
   "source": [
    "X_train_preprocessed = pd.DataFrame(\n",
    "    fitted_preprocessor.transform(X_train),\n",
    "    columns=fitted_preprocessor.get_feature_names_out(),\n",
    ")\n",
    "\n",
    "# X_val_preprocessed = pd.DataFrame(\n",
    "#     fitted_preprocessor.transform(X_val),\n",
    "#     columns=fitted_preprocessor.get_feature_names_out(),\n",
    "# )\n",
    "\n",
    "X_test_preprocessed = pd.DataFrame(\n",
    "    fitted_preprocessor.transform(X_test),\n",
    "    columns=fitted_preprocessor.get_feature_names_out(),\n",
    ")"
   ]
  },
  {
   "cell_type": "code",
   "execution_count": 24,
   "metadata": {},
   "outputs": [],
   "source": [
    "# Replace prefixes in column names\n",
    "new_cols = X_train_preprocessed.columns.str.replace('numeric__', '').str.replace('categorical__', '').str.replace('remainder__', '')\n",
    "\n",
    "# Assign new column names to the DataFrame\n",
    "X_train_preprocessed.columns = new_cols\n",
    "# X_val_preprocessed.columns = new_cols\n",
    "X_test_preprocessed.columns = new_cols"
   ]
  },
  {
   "cell_type": "code",
   "execution_count": 25,
   "metadata": {},
   "outputs": [
    {
     "data": {
      "text/html": [
       "<div>\n",
       "<style scoped>\n",
       "    .dataframe tbody tr th:only-of-type {\n",
       "        vertical-align: middle;\n",
       "    }\n",
       "\n",
       "    .dataframe tbody tr th {\n",
       "        vertical-align: top;\n",
       "    }\n",
       "\n",
       "    .dataframe thead th {\n",
       "        text-align: right;\n",
       "    }\n",
       "</style>\n",
       "<table border=\"1\" class=\"dataframe\">\n",
       "  <thead>\n",
       "    <tr style=\"text-align: right;\">\n",
       "      <th></th>\n",
       "      <th>auction_price_ch_de</th>\n",
       "      <th>auction_price_de_ch</th>\n",
       "      <th>dst</th>\n",
       "      <th>day_ahead_price_at</th>\n",
       "      <th>day_ahead_price_de</th>\n",
       "      <th>day_ahead_price_fr</th>\n",
       "      <th>day_ahead_price_it</th>\n",
       "      <th>actual_load_at</th>\n",
       "      <th>actual_load_ch</th>\n",
       "      <th>actual_load_de</th>\n",
       "      <th>...</th>\n",
       "      <th>quarter_sin</th>\n",
       "      <th>quarter_cos</th>\n",
       "      <th>wday_sin</th>\n",
       "      <th>wday_cos</th>\n",
       "      <th>holiday_name_Auffahrt</th>\n",
       "      <th>holiday_name_Nationalfeiertag</th>\n",
       "      <th>holiday_name_Neujahrestag</th>\n",
       "      <th>holiday_name_Weihnachten</th>\n",
       "      <th>holiday_name_none</th>\n",
       "      <th>trend</th>\n",
       "    </tr>\n",
       "  </thead>\n",
       "  <tbody>\n",
       "    <tr>\n",
       "      <th>8753</th>\n",
       "      <td>0.21</td>\n",
       "      <td>0.92</td>\n",
       "      <td>1.0</td>\n",
       "      <td>62.01</td>\n",
       "      <td>62.01</td>\n",
       "      <td>62.01</td>\n",
       "      <td>125.35</td>\n",
       "      <td>6354.25</td>\n",
       "      <td>6933.0</td>\n",
       "      <td>48621.75</td>\n",
       "      <td>...</td>\n",
       "      <td>-2.449294e-16</td>\n",
       "      <td>1.0</td>\n",
       "      <td>-2.449294e-16</td>\n",
       "      <td>1.0</td>\n",
       "      <td>0.0</td>\n",
       "      <td>0.0</td>\n",
       "      <td>0.0</td>\n",
       "      <td>0.0</td>\n",
       "      <td>1.0</td>\n",
       "      <td>8753.0</td>\n",
       "    </tr>\n",
       "    <tr>\n",
       "      <th>8754</th>\n",
       "      <td>0.08</td>\n",
       "      <td>0.92</td>\n",
       "      <td>1.0</td>\n",
       "      <td>53.11</td>\n",
       "      <td>56.36</td>\n",
       "      <td>28.73</td>\n",
       "      <td>113.29</td>\n",
       "      <td>5978.25</td>\n",
       "      <td>6645.0</td>\n",
       "      <td>46089.50</td>\n",
       "      <td>...</td>\n",
       "      <td>-2.449294e-16</td>\n",
       "      <td>1.0</td>\n",
       "      <td>-2.449294e-16</td>\n",
       "      <td>1.0</td>\n",
       "      <td>0.0</td>\n",
       "      <td>0.0</td>\n",
       "      <td>0.0</td>\n",
       "      <td>0.0</td>\n",
       "      <td>1.0</td>\n",
       "      <td>8754.0</td>\n",
       "    </tr>\n",
       "    <tr>\n",
       "      <th>8755</th>\n",
       "      <td>0.03</td>\n",
       "      <td>1.11</td>\n",
       "      <td>1.0</td>\n",
       "      <td>50.10</td>\n",
       "      <td>50.10</td>\n",
       "      <td>50.10</td>\n",
       "      <td>110.00</td>\n",
       "      <td>5947.00</td>\n",
       "      <td>6408.0</td>\n",
       "      <td>44277.25</td>\n",
       "      <td>...</td>\n",
       "      <td>-2.449294e-16</td>\n",
       "      <td>1.0</td>\n",
       "      <td>-2.449294e-16</td>\n",
       "      <td>1.0</td>\n",
       "      <td>0.0</td>\n",
       "      <td>0.0</td>\n",
       "      <td>0.0</td>\n",
       "      <td>0.0</td>\n",
       "      <td>1.0</td>\n",
       "      <td>8755.0</td>\n",
       "    </tr>\n",
       "    <tr>\n",
       "      <th>8756</th>\n",
       "      <td>0.01</td>\n",
       "      <td>0.54</td>\n",
       "      <td>1.0</td>\n",
       "      <td>43.23</td>\n",
       "      <td>43.23</td>\n",
       "      <td>43.23</td>\n",
       "      <td>108.62</td>\n",
       "      <td>5597.50</td>\n",
       "      <td>6364.0</td>\n",
       "      <td>41249.00</td>\n",
       "      <td>...</td>\n",
       "      <td>-2.449294e-16</td>\n",
       "      <td>1.0</td>\n",
       "      <td>-2.449294e-16</td>\n",
       "      <td>1.0</td>\n",
       "      <td>0.0</td>\n",
       "      <td>0.0</td>\n",
       "      <td>0.0</td>\n",
       "      <td>0.0</td>\n",
       "      <td>1.0</td>\n",
       "      <td>8756.0</td>\n",
       "    </tr>\n",
       "    <tr>\n",
       "      <th>8757</th>\n",
       "      <td>0.00</td>\n",
       "      <td>2.51</td>\n",
       "      <td>1.0</td>\n",
       "      <td>34.32</td>\n",
       "      <td>36.54</td>\n",
       "      <td>18.21</td>\n",
       "      <td>109.12</td>\n",
       "      <td>5399.75</td>\n",
       "      <td>6500.0</td>\n",
       "      <td>38988.00</td>\n",
       "      <td>...</td>\n",
       "      <td>-2.449294e-16</td>\n",
       "      <td>1.0</td>\n",
       "      <td>-2.449294e-16</td>\n",
       "      <td>1.0</td>\n",
       "      <td>0.0</td>\n",
       "      <td>0.0</td>\n",
       "      <td>0.0</td>\n",
       "      <td>0.0</td>\n",
       "      <td>1.0</td>\n",
       "      <td>8757.0</td>\n",
       "    </tr>\n",
       "  </tbody>\n",
       "</table>\n",
       "<p>5 rows × 137 columns</p>\n",
       "</div>"
      ],
      "text/plain": [
       "      auction_price_ch_de  auction_price_de_ch  dst  day_ahead_price_at  \\\n",
       "8753                 0.21                 0.92  1.0               62.01   \n",
       "8754                 0.08                 0.92  1.0               53.11   \n",
       "8755                 0.03                 1.11  1.0               50.10   \n",
       "8756                 0.01                 0.54  1.0               43.23   \n",
       "8757                 0.00                 2.51  1.0               34.32   \n",
       "\n",
       "      day_ahead_price_de  day_ahead_price_fr  day_ahead_price_it  \\\n",
       "8753               62.01               62.01              125.35   \n",
       "8754               56.36               28.73              113.29   \n",
       "8755               50.10               50.10              110.00   \n",
       "8756               43.23               43.23              108.62   \n",
       "8757               36.54               18.21              109.12   \n",
       "\n",
       "      actual_load_at  actual_load_ch  actual_load_de  ...   quarter_sin  \\\n",
       "8753         6354.25          6933.0        48621.75  ... -2.449294e-16   \n",
       "8754         5978.25          6645.0        46089.50  ... -2.449294e-16   \n",
       "8755         5947.00          6408.0        44277.25  ... -2.449294e-16   \n",
       "8756         5597.50          6364.0        41249.00  ... -2.449294e-16   \n",
       "8757         5399.75          6500.0        38988.00  ... -2.449294e-16   \n",
       "\n",
       "      quarter_cos      wday_sin  wday_cos  holiday_name_Auffahrt  \\\n",
       "8753          1.0 -2.449294e-16       1.0                    0.0   \n",
       "8754          1.0 -2.449294e-16       1.0                    0.0   \n",
       "8755          1.0 -2.449294e-16       1.0                    0.0   \n",
       "8756          1.0 -2.449294e-16       1.0                    0.0   \n",
       "8757          1.0 -2.449294e-16       1.0                    0.0   \n",
       "\n",
       "      holiday_name_Nationalfeiertag  holiday_name_Neujahrestag  \\\n",
       "8753                            0.0                        0.0   \n",
       "8754                            0.0                        0.0   \n",
       "8755                            0.0                        0.0   \n",
       "8756                            0.0                        0.0   \n",
       "8757                            0.0                        0.0   \n",
       "\n",
       "      holiday_name_Weihnachten  holiday_name_none   trend  \n",
       "8753                       0.0                1.0  8753.0  \n",
       "8754                       0.0                1.0  8754.0  \n",
       "8755                       0.0                1.0  8755.0  \n",
       "8756                       0.0                1.0  8756.0  \n",
       "8757                       0.0                1.0  8757.0  \n",
       "\n",
       "[5 rows x 137 columns]"
      ]
     },
     "execution_count": 25,
     "metadata": {},
     "output_type": "execute_result"
    }
   ],
   "source": [
    "X_train_preprocessed.tail()"
   ]
  },
  {
   "cell_type": "markdown",
   "metadata": {},
   "source": [
    "### Cross Validation Splits"
   ]
  },
  {
   "cell_type": "code",
   "execution_count": 26,
   "metadata": {},
   "outputs": [],
   "source": [
    "tscv = TimeSeriesSplit(n_splits=5)\n",
    "\n",
    "X_train_splits_train = []\n",
    "y_train_splits_train = []\n",
    "\n",
    "X_train_splits_val = []\n",
    "y_train_splits_val = []\n",
    "\n",
    "# Create the splits\n",
    "for split_idx, (train_index, test_index) in enumerate(tscv.split(X_train_preprocessed)):\n",
    "    \n",
    "    # Get the training and testing data\n",
    "    X_train_splits_train.append(X_train_preprocessed.iloc[train_index])\n",
    "    y_train_splits_train.append(y_train.iloc[train_index])\n",
    "\n",
    "    X_train_splits_val.append(X_train_preprocessed.iloc[test_index])\n",
    "    y_train_splits_val.append(y_train.iloc[test_index])"
   ]
  },
  {
   "cell_type": "markdown",
   "metadata": {},
   "source": [
    "### Use LASSO to preselect variables"
   ]
  },
  {
   "cell_type": "code",
   "execution_count": 27,
   "metadata": {},
   "outputs": [
    {
     "data": {
      "application/vnd.jupyter.widget-view+json": {
       "model_id": "56b69f7a8d0f407fbf2978d88b2b6ac4",
       "version_major": 2,
       "version_minor": 0
      },
      "text/plain": [
       "  0%|          | 0/25 [00:00<?, ?it/s]"
      ]
     },
     "metadata": {},
     "output_type": "display_data"
    }
   ],
   "source": [
    "alphas = np.linspace(0.3, 0.8, 25)\n",
    "cv_scores_is = []\n",
    "cv_scores_oos = []\n",
    "scaler = StandardScaler()\n",
    "\n",
    "for alpha in tqdm(alphas):\n",
    "\n",
    "    cv_losses_is = []\n",
    "    cv_losses_oos = []\n",
    "\n",
    "    for X_train_cv, y_train_cv, X_val_cv, y_val_cv in zip(\n",
    "        X_train_splits_train, y_train_splits_train, X_train_splits_val, y_train_splits_val\n",
    "    ):\n",
    "\n",
    "        # Scale data\n",
    "        fitted_scaler = scaler.fit(X_train_cv)\n",
    "        \n",
    "        X_train_cv = fitted_scaler.transform(X_train_cv)\n",
    "        X_val_cv = fitted_scaler.transform(X_val_cv)\n",
    "\n",
    "        # Train the model\n",
    "        model = Lasso(alpha=alpha).fit(X_train_cv, y_train_cv)\n",
    "\n",
    "        # Calculate in sample loss\n",
    "        is_loss = root_mean_squared_error(y_train_cv, model.predict(X_train_cv))\n",
    "        cv_losses_is.append(is_loss)\n",
    "\n",
    "        # Calculate out of sample loss\n",
    "        oos_loss = root_mean_squared_error(y_val_cv, model.predict(X_val_cv))\n",
    "        cv_losses_oos.append(oos_loss)\n",
    "\n",
    "    # Calculate the mean loss\n",
    "    cv_scores_is.append(np.mean(cv_losses_is))\n",
    "    cv_scores_oos.append(np.mean(cv_losses_oos))\n",
    "    "
   ]
  },
  {
   "cell_type": "code",
   "execution_count": 28,
   "metadata": {},
   "outputs": [
    {
     "data": {
      "text/plain": [
       "<Axes: xlabel='alpha'>"
      ]
     },
     "execution_count": 28,
     "metadata": {},
     "output_type": "execute_result"
    },
    {
     "data": {
      "image/png": "[encoded data removed]",
      "text/plain": [
       "<Figure size 640x480 with 1 Axes>"
      ]
     },
     "metadata": {},
     "output_type": "display_data"
    }
   ],
   "source": [
    "pd.DataFrame({\"alpha\": alphas, \"training_loss\": cv_scores_is, \"testing_loss\": cv_scores_oos}).plot(x=\"alpha\", y=[\"training_loss\", \"testing_loss\"])"
   ]
  },
  {
   "cell_type": "markdown",
   "metadata": {},
   "source": [
    "Identify the best alpha, fit the Lasso and select the variables that remain:"
   ]
  },
  {
   "cell_type": "code",
   "execution_count": 29,
   "metadata": {},
   "outputs": [],
   "source": [
    "best_lasso = Lasso(alpha=0.8, max_iter=5000).fit(X_train_preprocessed, y_train)"
   ]
  },
  {
   "cell_type": "code",
   "execution_count": 33,
   "metadata": {},
   "outputs": [
    {
     "data": {
      "text/plain": [
       "<Axes: title={'center': 'In Sample'}>"
      ]
     },
     "execution_count": 33,
     "metadata": {},
     "output_type": "execute_result"
    },
    {
     "data": {
      "image/png": "[encoded data removed]",
      "text/plain": [
       "<Figure size 2000x400 with 1 Axes>"
      ]
     },
     "metadata": {},
     "output_type": "display_data"
    }
   ],
   "source": [
    "pd.DataFrame({\n",
    "    \"pred\": best_lasso.predict(X_train_preprocessed),\n",
    "    \"true\": y_train\n",
    "}).head(1000).plot(figsize=(20, 4), title=\"In Sample\")"
   ]
  },
  {
   "cell_type": "code",
   "execution_count": 34,
   "metadata": {},
   "outputs": [
    {
     "data": {
      "text/plain": [
       "<Axes: title={'center': 'Out of sample'}>"
      ]
     },
     "execution_count": 34,
     "metadata": {},
     "output_type": "execute_result"
    },
    {
     "data": {
      "image/png": "[encoded data removed]",
      "text/plain": [
       "<Figure size 2000x400 with 1 Axes>"
      ]
     },
     "metadata": {},
     "output_type": "display_data"
    }
   ],
   "source": [
    "preds = pd.DataFrame({\n",
    "    \"pred\": best_lasso.predict(X_test_preprocessed),\n",
    "    \"true\": y_test\n",
    "})\n",
    "\n",
    "preds.plot(figsize=(20, 4), title=\"Out of sample\")"
   ]
  },
  {
   "cell_type": "code",
   "execution_count": 32,
   "metadata": {},
   "outputs": [
    {
     "data": {
      "text/html": [
       "<div>\n",
       "<style scoped>\n",
       "    .dataframe tbody tr th:only-of-type {\n",
       "        vertical-align: middle;\n",
       "    }\n",
       "\n",
       "    .dataframe tbody tr th {\n",
       "        vertical-align: top;\n",
       "    }\n",
       "\n",
       "    .dataframe thead th {\n",
       "        text-align: right;\n",
       "    }\n",
       "</style>\n",
       "<table border=\"1\" class=\"dataframe\">\n",
       "  <thead>\n",
       "    <tr style=\"text-align: right;\">\n",
       "      <th></th>\n",
       "      <th>coef</th>\n",
       "      <th>feature</th>\n",
       "    </tr>\n",
       "  </thead>\n",
       "  <tbody>\n",
       "    <tr>\n",
       "      <th>0</th>\n",
       "      <td>-0.129556</td>\n",
       "      <td>auction_price_ch_de</td>\n",
       "    </tr>\n",
       "    <tr>\n",
       "      <th>1</th>\n",
       "      <td>0.054553</td>\n",
       "      <td>auction_price_de_ch</td>\n",
       "    </tr>\n",
       "    <tr>\n",
       "      <th>3</th>\n",
       "      <td>0.056416</td>\n",
       "      <td>day_ahead_price_at</td>\n",
       "    </tr>\n",
       "    <tr>\n",
       "      <th>5</th>\n",
       "      <td>0.072036</td>\n",
       "      <td>day_ahead_price_fr</td>\n",
       "    </tr>\n",
       "    <tr>\n",
       "      <th>6</th>\n",
       "      <td>0.117862</td>\n",
       "      <td>day_ahead_price_it</td>\n",
       "    </tr>\n",
       "    <tr>\n",
       "      <th>...</th>\n",
       "      <td>...</td>\n",
       "      <td>...</td>\n",
       "    </tr>\n",
       "    <tr>\n",
       "      <th>113</th>\n",
       "      <td>-0.025106</td>\n",
       "      <td>day_ahead_price_ch_lag_264</td>\n",
       "    </tr>\n",
       "    <tr>\n",
       "      <th>114</th>\n",
       "      <td>-0.047471</td>\n",
       "      <td>day_ahead_price_ch_lag_288</td>\n",
       "    </tr>\n",
       "    <tr>\n",
       "      <th>115</th>\n",
       "      <td>0.075354</td>\n",
       "      <td>day_ahead_price_ch_lag_312</td>\n",
       "    </tr>\n",
       "    <tr>\n",
       "      <th>116</th>\n",
       "      <td>0.084499</td>\n",
       "      <td>day_ahead_price_ch_lag_336</td>\n",
       "    </tr>\n",
       "    <tr>\n",
       "      <th>120</th>\n",
       "      <td>0.006294</td>\n",
       "      <td>hour_counter</td>\n",
       "    </tr>\n",
       "  </tbody>\n",
       "</table>\n",
       "<p>111 rows × 2 columns</p>\n",
       "</div>"
      ],
      "text/plain": [
       "         coef                     feature\n",
       "0   -0.129556         auction_price_ch_de\n",
       "1    0.054553         auction_price_de_ch\n",
       "3    0.056416          day_ahead_price_at\n",
       "5    0.072036          day_ahead_price_fr\n",
       "6    0.117862          day_ahead_price_it\n",
       "..        ...                         ...\n",
       "113 -0.025106  day_ahead_price_ch_lag_264\n",
       "114 -0.047471  day_ahead_price_ch_lag_288\n",
       "115  0.075354  day_ahead_price_ch_lag_312\n",
       "116  0.084499  day_ahead_price_ch_lag_336\n",
       "120  0.006294                hour_counter\n",
       "\n",
       "[111 rows x 2 columns]"
      ]
     },
     "execution_count": 32,
     "metadata": {},
     "output_type": "execute_result"
    }
   ],
   "source": [
    "feature_df = pd.DataFrame({\n",
    "    \"coef\": best_lasso.coef_,\n",
    "    \"feature\": X_train_preprocessed.columns\n",
    "}).query(\"abs(coef) > 1e-6\")\n",
    "\n",
    "feature_df"
   ]
  },
  {
   "cell_type": "code",
   "execution_count": 38,
   "metadata": {},
   "outputs": [
    {
     "name": "stdout",
     "output_type": "stream",
     "text": [
      "Metric for LASSO Model\n",
      "R2 Score:  0.6812721468023979\n",
      "MAE:  10.164513027002041\n",
      "MAPE:  0.14173925803403184\n",
      "RMSE:  13.070907317238904\n"
     ]
    }
   ],
   "source": [
    "print(\"Metric for LASSO Model\")\n",
    "print(\"R2 Score: \", r2_score(preds[\"true\"], preds[\"pred\"]))\n",
    "print(\"MAE: \", mean_absolute_error(preds[\"true\"], preds[\"pred\"]))\n",
    "print(\"MAPE: \", mean_absolute_percentage_error(preds[\"true\"], preds[\"pred\"]))\n",
    "print(\"RMSE: \", root_mean_squared_error(preds[\"true\"], preds[\"pred\"]))"
   ]
  },
  {
   "cell_type": "code",
   "execution_count": 90,
   "metadata": {},
   "outputs": [],
   "source": [
    "X_train_preprocessed = X_train_preprocessed.filter(feature_df.feature.sort_values())\n",
    "X_test_preprocessed = X_test_preprocessed.filter(feature_df.feature.sort_values())"
   ]
  },
  {
   "cell_type": "markdown",
   "metadata": {},
   "source": [
    "### Tune hyperparameters\n",
    "\n",
    "Use cross validation on training set for hyperparameter tuning"
   ]
  },
  {
   "cell_type": "code",
   "execution_count": 91,
   "metadata": {},
   "outputs": [],
   "source": [
    "# Function to define and optimize LightGBM hyperparameters\n",
    "def objective(trial):\n",
    "    \n",
    "    # Define the parameter grid\n",
    "    param = {\n",
    "        \"verbose\": -1,\n",
    "        'objective': 'regression', \n",
    "        'metric': 'rmse',\n",
    "        'learning_rate': trial.suggest_float('learning_rate', 1e-5, 1e-1, log=True),\n",
    "        \"max_depth\" : trial.suggest_int('max_depth', 3, 15),\n",
    "        'num_leaves': trial.suggest_int('num_leaves', 10, 120),\n",
    "        'lambda_l1': trial.suggest_float('lambda_l1', 1e-8, 10.0, log=True),\n",
    "        'lambda_l2': trial.suggest_float('lambda_l2', 1e-8, 10.0, log=True),\n",
    "        'min_split_gain': trial.suggest_float('min_split_gain', 1e-8, 1.0, log=True),\n",
    "    }\n",
    "\n",
    "    cv_losses = []\n",
    "\n",
    "    for X_train_cv, y_train_cv, X_val_cv, y_val_cv in zip(\n",
    "        X_train_splits_train, y_train_splits_train, X_train_splits_val, y_train_splits_val\n",
    "    ):\n",
    "\n",
    "        # Create LightGBM dataset\n",
    "        train_data = lgb.Dataset(X_train_cv, label=y_train_cv, free_raw_data=False)\n",
    "        valid_data = lgb.Dataset(X_val_cv, label=y_val_cv, free_raw_data=False)\n",
    "\n",
    "        # Train the model\n",
    "        bst = lgb.train(\n",
    "            params=param,\n",
    "            train_set=train_data,\n",
    "            valid_sets=[valid_data],\n",
    "            num_boost_round=1000,\n",
    "            callbacks=[lgb.early_stopping(stopping_rounds=10)],\n",
    "        )\n",
    "\n",
    "        # Make predictions on validation set\n",
    "        y_pred = bst.predict(X_val_cv, num_iteration=bst.best_iteration)\n",
    "\n",
    "        # Calculate loss\n",
    "        loss = root_mean_squared_error(y_val_cv, y_pred)\n",
    "        cv_losses.append(loss)\n",
    "\n",
    "    # Calculate the mean loss\n",
    "    mean_cv_loss = np.mean(cv_losses)\n",
    "\n",
    "    return mean_cv_loss"
   ]
  },
  {
   "cell_type": "code",
   "execution_count": 92,
   "metadata": {},
   "outputs": [
    {
     "name": "stderr",
     "output_type": "stream",
     "text": [
      "[I 2024-05-19 23:11:16,950] A new study created in memory with name: no-name-1c650240-09a7-48ad-97ca-610df0b24b51\n"
     ]
    },
    {
     "name": "stdout",
     "output_type": "stream",
     "text": [
      "Training until validation scores don't improve for 10 rounds\n",
      "Early stopping, best iteration is:\n",
      "[95]\tvalid_0's rmse: 25.5411\n",
      "Training until validation scores don't improve for 10 rounds\n",
      "Early stopping, best iteration is:\n",
      "[110]\tvalid_0's rmse: 19.1858\n",
      "Training until validation scores don't improve for 10 rounds\n",
      "Early stopping, best iteration is:\n",
      "[26]\tvalid_0's rmse: 15.2824\n",
      "Training until validation scores don't improve for 10 rounds\n",
      "Early stopping, best iteration is:\n",
      "[98]\tvalid_0's rmse: 14.6974\n",
      "Training until validation scores don't improve for 10 rounds\n"
     ]
    },
    {
     "name": "stderr",
     "output_type": "stream",
     "text": [
      "[I 2024-05-19 23:11:19,446] Trial 0 finished with value: 18.05824723307404 and parameters: {'learning_rate': 0.05909841541846396, 'max_depth': 11, 'num_leaves': 21, 'lambda_l1': 9.738139247665856e-08, 'lambda_l2': 0.00045346106609494733, 'min_split_gain': 5.381558441594802e-07}. Best is trial 0 with value: 18.05824723307404.\n"
     ]
    },
    {
     "name": "stdout",
     "output_type": "stream",
     "text": [
      "Early stopping, best iteration is:\n",
      "[227]\tvalid_0's rmse: 15.5845\n",
      "Training until validation scores don't improve for 10 rounds\n",
      "Early stopping, best iteration is:\n",
      "[152]\tvalid_0's rmse: 24.5327\n",
      "Training until validation scores don't improve for 10 rounds\n",
      "Early stopping, best iteration is:\n",
      "[187]\tvalid_0's rmse: 20.1515\n",
      "Training until validation scores don't improve for 10 rounds\n",
      "Early stopping, best iteration is:\n",
      "[35]\tvalid_0's rmse: 15.945\n",
      "Training until validation scores don't improve for 10 rounds\n",
      "Early stopping, best iteration is:\n",
      "[150]\tvalid_0's rmse: 15.4165\n",
      "Training until validation scores don't improve for 10 rounds\n"
     ]
    },
    {
     "name": "stderr",
     "output_type": "stream",
     "text": [
      "[I 2024-05-19 23:11:23,067] Trial 1 finished with value: 18.522318568447567 and parameters: {'learning_rate': 0.046722994184293334, 'max_depth': 7, 'num_leaves': 96, 'lambda_l1': 2.655215984872778e-08, 'lambda_l2': 1.5065497140862253e-08, 'min_split_gain': 0.012008452423211054}. Best is trial 0 with value: 18.05824723307404.\n"
     ]
    },
    {
     "name": "stdout",
     "output_type": "stream",
     "text": [
      "Early stopping, best iteration is:\n",
      "[244]\tvalid_0's rmse: 16.566\n",
      "Training until validation scores don't improve for 10 rounds\n",
      "Did not meet early stopping. Best iteration is:\n",
      "[1000]\tvalid_0's rmse: 42.3674\n",
      "Training until validation scores don't improve for 10 rounds\n",
      "Did not meet early stopping. Best iteration is:\n",
      "[1000]\tvalid_0's rmse: 48.5519\n",
      "Training until validation scores don't improve for 10 rounds\n",
      "Did not meet early stopping. Best iteration is:\n",
      "[1000]\tvalid_0's rmse: 32.0574\n",
      "Training until validation scores don't improve for 10 rounds\n",
      "Did not meet early stopping. Best iteration is:\n",
      "[1000]\tvalid_0's rmse: 26.835\n",
      "Training until validation scores don't improve for 10 rounds\n",
      "Did not meet early stopping. Best iteration is:\n",
      "[1000]\tvalid_0's rmse: 36.1608\n"
     ]
    },
    {
     "name": "stderr",
     "output_type": "stream",
     "text": [
      "[I 2024-05-19 23:12:18,584] Trial 2 finished with value: 37.19450406675442 and parameters: {'learning_rate': 0.0003046450918445348, 'max_depth': 13, 'num_leaves': 71, 'lambda_l1': 1.3179555408224377e-06, 'lambda_l2': 2.196694801454505e-05, 'min_split_gain': 0.0061457214576024115}. Best is trial 0 with value: 18.05824723307404.\n"
     ]
    },
    {
     "name": "stdout",
     "output_type": "stream",
     "text": [
      "Training until validation scores don't improve for 10 rounds\n",
      "Early stopping, best iteration is:\n",
      "[184]\tvalid_0's rmse: 25.6109\n",
      "Training until validation scores don't improve for 10 rounds\n",
      "Early stopping, best iteration is:\n",
      "[264]\tvalid_0's rmse: 19.403\n",
      "Training until validation scores don't improve for 10 rounds\n",
      "Early stopping, best iteration is:\n",
      "[38]\tvalid_0's rmse: 15.8195\n",
      "Training until validation scores don't improve for 10 rounds\n",
      "Early stopping, best iteration is:\n",
      "[197]\tvalid_0's rmse: 15.1081\n",
      "Training until validation scores don't improve for 10 rounds\n"
     ]
    },
    {
     "name": "stderr",
     "output_type": "stream",
     "text": [
      "[I 2024-05-19 23:12:24,342] Trial 3 finished with value: 18.47685801474963 and parameters: {'learning_rate': 0.04244351691636236, 'max_depth': 14, 'num_leaves': 46, 'lambda_l1': 0.050909393528639685, 'lambda_l2': 6.016148485482161e-05, 'min_split_gain': 0.00013277755023773224}. Best is trial 0 with value: 18.05824723307404.\n"
     ]
    },
    {
     "name": "stdout",
     "output_type": "stream",
     "text": [
      "Early stopping, best iteration is:\n",
      "[217]\tvalid_0's rmse: 16.4428\n",
      "Training until validation scores don't improve for 10 rounds\n",
      "Did not meet early stopping. Best iteration is:\n",
      "[1000]\tvalid_0's rmse: 28.084\n",
      "Training until validation scores don't improve for 10 rounds\n",
      "Did not meet early stopping. Best iteration is:\n",
      "[1000]\tvalid_0's rmse: 25.6799\n",
      "Training until validation scores don't improve for 10 rounds\n",
      "Early stopping, best iteration is:\n",
      "[818]\tvalid_0's rmse: 16.3075\n",
      "Training until validation scores don't improve for 10 rounds\n",
      "Did not meet early stopping. Best iteration is:\n",
      "[1000]\tvalid_0's rmse: 16.6222\n",
      "Training until validation scores don't improve for 10 rounds\n",
      "Did not meet early stopping. Best iteration is:\n",
      "[1000]\tvalid_0's rmse: 19.6986\n"
     ]
    },
    {
     "name": "stderr",
     "output_type": "stream",
     "text": [
      "[I 2024-05-19 23:13:14,521] Trial 4 finished with value: 21.278438329473143 and parameters: {'learning_rate': 0.0019175581577910079, 'max_depth': 8, 'num_leaves': 105, 'lambda_l1': 0.273646680391711, 'lambda_l2': 0.009570703847551768, 'min_split_gain': 0.0002090418779502901}. Best is trial 0 with value: 18.05824723307404.\n"
     ]
    },
    {
     "name": "stdout",
     "output_type": "stream",
     "text": [
      "Training until validation scores don't improve for 10 rounds\n",
      "Early stopping, best iteration is:\n",
      "[314]\tvalid_0's rmse: 25.226\n",
      "Training until validation scores don't improve for 10 rounds\n",
      "Early stopping, best iteration is:\n",
      "[247]\tvalid_0's rmse: 19.4201\n",
      "Training until validation scores don't improve for 10 rounds\n",
      "Early stopping, best iteration is:\n",
      "[57]\tvalid_0's rmse: 15.4164\n",
      "Training until validation scores don't improve for 10 rounds\n",
      "Early stopping, best iteration is:\n",
      "[183]\tvalid_0's rmse: 14.9856\n",
      "Training until validation scores don't improve for 10 rounds\n"
     ]
    },
    {
     "name": "stderr",
     "output_type": "stream",
     "text": [
      "[I 2024-05-19 23:13:25,389] Trial 5 finished with value: 18.18809215770498 and parameters: {'learning_rate': 0.02862082912592219, 'max_depth': 11, 'num_leaves': 39, 'lambda_l1': 2.1560505915846957e-07, 'lambda_l2': 0.02404340167439314, 'min_split_gain': 5.35833974816507e-07}. Best is trial 0 with value: 18.05824723307404.\n"
     ]
    },
    {
     "name": "stdout",
     "output_type": "stream",
     "text": [
      "Early stopping, best iteration is:\n",
      "[558]\tvalid_0's rmse: 15.8924\n"
     ]
    }
   ],
   "source": [
    "# Create a study object and specify the direction (minimize)\n",
    "study = optuna.create_study(direction='minimize')\n",
    "study.optimize(objective, n_trials=None, timeout=60*2)"
   ]
  },
  {
   "cell_type": "code",
   "execution_count": 93,
   "metadata": {},
   "outputs": [
    {
     "name": "stdout",
     "output_type": "stream",
     "text": [
      "Best hyperparameters:  {'learning_rate': 0.05909841541846396, 'max_depth': 11, 'num_leaves': 21, 'lambda_l1': 9.738139247665856e-08, 'lambda_l2': 0.00045346106609494733, 'min_split_gain': 5.381558441594802e-07}\n",
      "Best RMSE:  18.05824723307404\n"
     ]
    }
   ],
   "source": [
    "# Print the best hyperparameters\n",
    "print(\"Best hyperparameters: \", study.best_params)\n",
    "print(\"Best RMSE: \", study.best_value)"
   ]
  },
  {
   "cell_type": "code",
   "execution_count": 97,
   "metadata": {},
   "outputs": [
    {
     "data": {
      "application/vnd.plotly.v1+json": {
       "config": {
        "plotlyServerURL": "https://plot.ly"
       },
       "data": [
        {
         "mode": "markers",
         "name": "Objective Value",
         "type": "scatter",
         "x": [
          0,
          1,
          2,
          3,
          4,
          5
         ],
         "y": [
          18.05824723307404,
          18.522318568447567,
          37.19450406675442,
          18.47685801474963,
          21.278438329473143,
          18.18809215770498
         ]
        },
        {
         "mode": "lines",
         "name": "Best Value",
         "type": "scatter",
         "x": [
          0,
          1,
          2,
          3,
          4,
          5
         ],
         "y": [
          18.05824723307404,
          18.05824723307404,
          18.05824723307404,
          18.05824723307404,
          18.05824723307404,
          18.05824723307404
         ]
        },
        {
         "marker": {
          "color": "#cccccc"
         },
         "mode": "markers",
         "name": "Infeasible Trial",
         "showlegend": false,
         "type": "scatter",
         "x": [],
         "y": []
        }
       ],
       "layout": {
        "template": {
         "data": {
          "bar": [
           {
            "error_x": {
             "color": "#2a3f5f"
            },
            "error_y": {
             "color": "#2a3f5f"
            },
            "marker": {
             "line": {
              "color": "#E5ECF6",
              "width": 0.5
             },
             "pattern": {
              "fillmode": "overlay",
              "size": 10,
              "solidity": 0.2
             }
            },
            "type": "bar"
           }
          ],
          "barpolar": [
           {
            "marker": {
             "line": {
              "color": "#E5ECF6",
              "width": 0.5
             },
             "pattern": {
              "fillmode": "overlay",
              "size": 10,
              "solidity": 0.2
             }
            },
            "type": "barpolar"
           }
          ],
          "carpet": [
           {
            "aaxis": {
             "endlinecolor": "#2a3f5f",
             "gridcolor": "white",
             "linecolor": "white",
             "minorgridcolor": "white",
             "startlinecolor": "#2a3f5f"
            },
            "baxis": {
             "endlinecolor": "#2a3f5f",
             "gridcolor": "white",
             "linecolor": "white",
             "minorgridcolor": "white",
             "startlinecolor": "#2a3f5f"
            },
            "type": "carpet"
           }
          ],
          "choropleth": [
           {
            "colorbar": {
             "outlinewidth": 0,
             "ticks": ""
            },
            "type": "choropleth"
           }
          ],
          "contour": [
           {
            "colorbar": {
             "outlinewidth": 0,
             "ticks": ""
            },
            "colorscale": [
             [
              0,
              "#0d0887"
             ],
             [
              0.1111111111111111,
              "#46039f"
             ],
             [
              0.2222222222222222,
              "#7201a8"
             ],
             [
              0.3333333333333333,
              "#9c179e"
             ],
             [
              0.4444444444444444,
              "#bd3786"
             ],
             [
              0.5555555555555556,
              "#d8576b"
             ],
             [
              0.6666666666666666,
              "#ed7953"
             ],
             [
              0.7777777777777778,
              "#fb9f3a"
             ],
             [
              0.8888888888888888,
              "#fdca26"
             ],
             [
              1,
              "#f0f921"
             ]
            ],
            "type": "contour"
           }
          ],
          "contourcarpet": [
           {
            "colorbar": {
             "outlinewidth": 0,
             "ticks": ""
            },
            "type": "contourcarpet"
           }
          ],
          "heatmap": [
           {
            "colorbar": {
             "outlinewidth": 0,
             "ticks": ""
            },
            "colorscale": [
             [
              0,
              "#0d0887"
             ],
             [
              0.1111111111111111,
              "#46039f"
             ],
             [
              0.2222222222222222,
              "#7201a8"
             ],
             [
              0.3333333333333333,
              "#9c179e"
             ],
             [
              0.4444444444444444,
              "#bd3786"
             ],
             [
              0.5555555555555556,
              "#d8576b"
             ],
             [
              0.6666666666666666,
              "#ed7953"
             ],
             [
              0.7777777777777778,
              "#fb9f3a"
             ],
             [
              0.8888888888888888,
              "#fdca26"
             ],
             [
              1,
              "#f0f921"
             ]
            ],
            "type": "heatmap"
           }
          ],
          "heatmapgl": [
           {
            "colorbar": {
             "outlinewidth": 0,
             "ticks": ""
            },
            "colorscale": [
             [
              0,
              "#0d0887"
             ],
             [
              0.1111111111111111,
              "#46039f"
             ],
             [
              0.2222222222222222,
              "#7201a8"
             ],
             [
              0.3333333333333333,
              "#9c179e"
             ],
             [
              0.4444444444444444,
              "#bd3786"
             ],
             [
              0.5555555555555556,
              "#d8576b"
             ],
             [
              0.6666666666666666,
              "#ed7953"
             ],
             [
              0.7777777777777778,
              "#fb9f3a"
             ],
             [
              0.8888888888888888,
              "#fdca26"
             ],
             [
              1,
              "#f0f921"
             ]
            ],
            "type": "heatmapgl"
           }
          ],
          "histogram": [
           {
            "marker": {
             "pattern": {
              "fillmode": "overlay",
              "size": 10,
              "solidity": 0.2
             }
            },
            "type": "histogram"
           }
          ],
          "histogram2d": [
           {
            "colorbar": {
             "outlinewidth": 0,
             "ticks": ""
            },
            "colorscale": [
             [
              0,
              "#0d0887"
             ],
             [
              0.1111111111111111,
              "#46039f"
             ],
             [
              0.2222222222222222,
              "#7201a8"
             ],
             [
              0.3333333333333333,
              "#9c179e"
             ],
             [
              0.4444444444444444,
              "#bd3786"
             ],
             [
              0.5555555555555556,
              "#d8576b"
             ],
             [
              0.6666666666666666,
              "#ed7953"
             ],
             [
              0.7777777777777778,
              "#fb9f3a"
             ],
             [
              0.8888888888888888,
              "#fdca26"
             ],
             [
              1,
              "#f0f921"
             ]
            ],
            "type": "histogram2d"
           }
          ],
          "histogram2dcontour": [
           {
            "colorbar": {
             "outlinewidth": 0,
             "ticks": ""
            },
            "colorscale": [
             [
              0,
              "#0d0887"
             ],
             [
              0.1111111111111111,
              "#46039f"
             ],
             [
              0.2222222222222222,
              "#7201a8"
             ],
             [
              0.3333333333333333,
              "#9c179e"
             ],
             [
              0.4444444444444444,
              "#bd3786"
             ],
             [
              0.5555555555555556,
              "#d8576b"
             ],
             [
              0.6666666666666666,
              "#ed7953"
             ],
             [
              0.7777777777777778,
              "#fb9f3a"
             ],
             [
              0.8888888888888888,
              "#fdca26"
             ],
             [
              1,
              "#f0f921"
             ]
            ],
            "type": "histogram2dcontour"
           }
          ],
          "mesh3d": [
           {
            "colorbar": {
             "outlinewidth": 0,
             "ticks": ""
            },
            "type": "mesh3d"
           }
          ],
          "parcoords": [
           {
            "line": {
             "colorbar": {
              "outlinewidth": 0,
              "ticks": ""
             }
            },
            "type": "parcoords"
           }
          ],
          "pie": [
           {
            "automargin": true,
            "type": "pie"
           }
          ],
          "scatter": [
           {
            "fillpattern": {
             "fillmode": "overlay",
             "size": 10,
             "solidity": 0.2
            },
            "type": "scatter"
           }
          ],
          "scatter3d": [
           {
            "line": {
             "colorbar": {
              "outlinewidth": 0,
              "ticks": ""
             }
            },
            "marker": {
             "colorbar": {
              "outlinewidth": 0,
              "ticks": ""
             }
            },
            "type": "scatter3d"
           }
          ],
          "scattercarpet": [
           {
            "marker": {
             "colorbar": {
              "outlinewidth": 0,
              "ticks": ""
             }
            },
            "type": "scattercarpet"
           }
          ],
          "scattergeo": [
           {
            "marker": {
             "colorbar": {
              "outlinewidth": 0,
              "ticks": ""
             }
            },
            "type": "scattergeo"
           }
          ],
          "scattergl": [
           {
            "marker": {
             "colorbar": {
              "outlinewidth": 0,
              "ticks": ""
             }
            },
            "type": "scattergl"
           }
          ],
          "scattermapbox": [
           {
            "marker": {
             "colorbar": {
              "outlinewidth": 0,
              "ticks": ""
             }
            },
            "type": "scattermapbox"
           }
          ],
          "scatterpolar": [
           {
            "marker": {
             "colorbar": {
              "outlinewidth": 0,
              "ticks": ""
             }
            },
            "type": "scatterpolar"
           }
          ],
          "scatterpolargl": [
           {
            "marker": {
             "colorbar": {
              "outlinewidth": 0,
              "ticks": ""
             }
            },
            "type": "scatterpolargl"
           }
          ],
          "scatterternary": [
           {
            "marker": {
             "colorbar": {
              "outlinewidth": 0,
              "ticks": ""
             }
            },
            "type": "scatterternary"
           }
          ],
          "surface": [
           {
            "colorbar": {
             "outlinewidth": 0,
             "ticks": ""
            },
            "colorscale": [
             [
              0,
              "#0d0887"
             ],
             [
              0.1111111111111111,
              "#46039f"
             ],
             [
              0.2222222222222222,
              "#7201a8"
             ],
             [
              0.3333333333333333,
              "#9c179e"
             ],
             [
              0.4444444444444444,
              "#bd3786"
             ],
             [
              0.5555555555555556,
              "#d8576b"
             ],
             [
              0.6666666666666666,
              "#ed7953"
             ],
             [
              0.7777777777777778,
              "#fb9f3a"
             ],
             [
              0.8888888888888888,
              "#fdca26"
             ],
             [
              1,
              "#f0f921"
             ]
            ],
            "type": "surface"
           }
          ],
          "table": [
           {
            "cells": {
             "fill": {
              "color": "#EBF0F8"
             },
             "line": {
              "color": "white"
             }
            },
            "header": {
             "fill": {
              "color": "#C8D4E3"
             },
             "line": {
              "color": "white"
             }
            },
            "type": "table"
           }
          ]
         },
         "layout": {
          "annotationdefaults": {
           "arrowcolor": "#2a3f5f",
           "arrowhead": 0,
           "arrowwidth": 1
          },
          "autotypenumbers": "strict",
          "coloraxis": {
           "colorbar": {
            "outlinewidth": 0,
            "ticks": ""
           }
          },
          "colorscale": {
           "diverging": [
            [
             0,
             "#8e0152"
            ],
            [
             0.1,
             "#c51b7d"
            ],
            [
             0.2,
             "#de77ae"
            ],
            [
             0.3,
             "#f1b6da"
            ],
            [
             0.4,
             "#fde0ef"
            ],
            [
             0.5,
             "#f7f7f7"
            ],
            [
             0.6,
             "#e6f5d0"
            ],
            [
             0.7,
             "#b8e186"
            ],
            [
             0.8,
             "#7fbc41"
            ],
            [
             0.9,
             "#4d9221"
            ],
            [
             1,
             "#276419"
            ]
           ],
           "sequential": [
            [
             0,
             "#0d0887"
            ],
            [
             0.1111111111111111,
             "#46039f"
            ],
            [
             0.2222222222222222,
             "#7201a8"
            ],
            [
             0.3333333333333333,
             "#9c179e"
            ],
            [
             0.4444444444444444,
             "#bd3786"
            ],
            [
             0.5555555555555556,
             "#d8576b"
            ],
            [
             0.6666666666666666,
             "#ed7953"
            ],
            [
             0.7777777777777778,
             "#fb9f3a"
            ],
            [
             0.8888888888888888,
             "#fdca26"
            ],
            [
             1,
             "#f0f921"
            ]
           ],
           "sequentialminus": [
            [
             0,
             "#0d0887"
            ],
            [
             0.1111111111111111,
             "#46039f"
            ],
            [
             0.2222222222222222,
             "#7201a8"
            ],
            [
             0.3333333333333333,
             "#9c179e"
            ],
            [
             0.4444444444444444,
             "#bd3786"
            ],
            [
             0.5555555555555556,
             "#d8576b"
            ],
            [
             0.6666666666666666,
             "#ed7953"
            ],
            [
             0.7777777777777778,
             "#fb9f3a"
            ],
            [
             0.8888888888888888,
             "#fdca26"
            ],
            [
             1,
             "#f0f921"
            ]
           ]
          },
          "colorway": [
           "#636efa",
           "#EF553B",
           "#00cc96",
           "#ab63fa",
           "#FFA15A",
           "#19d3f3",
           "#FF6692",
           "#B6E880",
           "#FF97FF",
           "#FECB52"
          ],
          "font": {
           "color": "#2a3f5f"
          },
          "geo": {
           "bgcolor": "white",
           "lakecolor": "white",
           "landcolor": "#E5ECF6",
           "showlakes": true,
           "showland": true,
           "subunitcolor": "white"
          },
          "hoverlabel": {
           "align": "left"
          },
          "hovermode": "closest",
          "mapbox": {
           "style": "light"
          },
          "paper_bgcolor": "white",
          "plot_bgcolor": "#E5ECF6",
          "polar": {
           "angularaxis": {
            "gridcolor": "white",
            "linecolor": "white",
            "ticks": ""
           },
           "bgcolor": "#E5ECF6",
           "radialaxis": {
            "gridcolor": "white",
            "linecolor": "white",
            "ticks": ""
           }
          },
          "scene": {
           "xaxis": {
            "backgroundcolor": "#E5ECF6",
            "gridcolor": "white",
            "gridwidth": 2,
            "linecolor": "white",
            "showbackground": true,
            "ticks": "",
            "zerolinecolor": "white"
           },
           "yaxis": {
            "backgroundcolor": "#E5ECF6",
            "gridcolor": "white",
            "gridwidth": 2,
            "linecolor": "white",
            "showbackground": true,
            "ticks": "",
            "zerolinecolor": "white"
           },
           "zaxis": {
            "backgroundcolor": "#E5ECF6",
            "gridcolor": "white",
            "gridwidth": 2,
            "linecolor": "white",
            "showbackground": true,
            "ticks": "",
            "zerolinecolor": "white"
           }
          },
          "shapedefaults": {
           "line": {
            "color": "#2a3f5f"
           }
          },
          "ternary": {
           "aaxis": {
            "gridcolor": "white",
            "linecolor": "white",
            "ticks": ""
           },
           "baxis": {
            "gridcolor": "white",
            "linecolor": "white",
            "ticks": ""
           },
           "bgcolor": "#E5ECF6",
           "caxis": {
            "gridcolor": "white",
            "linecolor": "white",
            "ticks": ""
           }
          },
          "title": {
           "x": 0.05
          },
          "xaxis": {
           "automargin": true,
           "gridcolor": "white",
           "linecolor": "white",
           "ticks": "",
           "title": {
            "standoff": 15
           },
           "zerolinecolor": "white",
           "zerolinewidth": 2
          },
          "yaxis": {
           "automargin": true,
           "gridcolor": "white",
           "linecolor": "white",
           "ticks": "",
           "title": {
            "standoff": 15
           },
           "zerolinecolor": "white",
           "zerolinewidth": 2
          }
         }
        },
        "title": {
         "text": "Optimization History Plot"
        },
        "xaxis": {
         "title": {
          "text": "Trial"
         }
        },
        "yaxis": {
         "title": {
          "text": "Objective Value"
         }
        }
       }
      }
     },
     "metadata": {},
     "output_type": "display_data"
    }
   ],
   "source": [
    "plot_optimization_history(study)"
   ]
  },
  {
   "cell_type": "code",
   "execution_count": 98,
   "metadata": {},
   "outputs": [
    {
     "data": {
      "application/vnd.plotly.v1+json": {
       "config": {
        "plotlyServerURL": "https://plot.ly"
       },
       "data": [
        {
         "dimensions": [
          {
           "label": "Objective Value",
           "range": [
            18.05824723307404,
            37.19450406675442
           ],
           "values": [
            18.05824723307404,
            18.522318568447567,
            37.19450406675442,
            18.47685801474963,
            21.278438329473143,
            18.18809215770498
           ]
          },
          {
           "label": "lambda_l1",
           "range": [
            -7.57590014606151,
            -0.5628098159165301
           ],
           "ticktext": [
            "2.66e-08",
            "1e-07",
            "1e-06",
            "1e-05",
            "0.0001",
            "0.001",
            "0.01",
            "0.1",
            "0.274"
           ],
           "tickvals": [
            -7.57590014606151,
            -7,
            -6,
            -5,
            -4,
            -3,
            -2,
            -1,
            -0.5628098159165301
           ],
           "values": [
            -7.011524019679165,
            -7.57590014606151,
            -5.880099239742882,
            -1.2932020765775516,
            -0.5628098159165301,
            -6.666341052674408
           ]
          },
          {
           "label": "lambda_l2",
           "range": [
            -7.822016532628469,
            -1.6190040880874925
           ],
           "ticktext": [
            "1.51e-08",
            "1e-07",
            "1e-06",
            "1e-05",
            "0.0001",
            "0.001",
            "0.01",
            "0.024"
           ],
           "tickvals": [
            -7.822016532628469,
            -7,
            -6,
            -5,
            -4,
            -3,
            -2,
            -1.6190040880874925
           ],
           "values": [
            -3.3434599952764144,
            -7.822016532628469,
            -4.658230277741043,
            -4.220681453395513,
            -2.0190561222161008,
            -1.6190040880874925
           ]
          },
          {
           "label": "learning_rate",
           "range": [
            -3.5162058144277637,
            -1.22842416352218
           ],
           "ticktext": [
            "0.000305",
            "0.001",
            "0.01",
            "0.0591"
           ],
           "tickvals": [
            -3.5162058144277637,
            -3,
            -2,
            -1.22842416352218
           ],
           "values": [
            -1.22842416352218,
            -1.3304693337884306,
            -3.5162058144277637,
            -1.3721886371625993,
            -2.7172514554234715,
            -1.5433177891787213
           ]
          },
          {
           "label": "max_depth",
           "range": [
            7,
            14
           ],
           "values": [
            11,
            7,
            13,
            14,
            8,
            11
           ]
          },
          {
           "label": "min_split_gain",
           "range": [
            -6.2709697531997275,
            -1.92051295823958
           ],
           "ticktext": [
            "5.36e-07",
            "1e-06",
            "1e-05",
            "0.0001",
            "0.001",
            "0.01",
            "0.012"
           ],
           "tickvals": [
            -6.2709697531997275,
            -6,
            -5,
            -4,
            -3,
            -2,
            -1.92051295823958
           ],
           "values": [
            -6.269091939096575,
            -1.92051295823958,
            -2.2114271271527866,
            -3.8768753484022294,
            -3.6797667017318174,
            -6.2709697531997275
           ]
          },
          {
           "label": "num_leaves",
           "range": [
            21,
            105
           ],
           "values": [
            21,
            96,
            71,
            46,
            105,
            39
           ]
          }
         ],
         "labelangle": 30,
         "labelside": "bottom",
         "line": {
          "color": [
           18.05824723307404,
           18.522318568447567,
           37.19450406675442,
           18.47685801474963,
           21.278438329473143,
           18.18809215770498
          ],
          "colorbar": {
           "title": {
            "text": "Objective Value"
           }
          },
          "colorscale": [
           [
            0,
            "rgb(247,251,255)"
           ],
           [
            0.125,
            "rgb(222,235,247)"
           ],
           [
            0.25,
            "rgb(198,219,239)"
           ],
           [
            0.375,
            "rgb(158,202,225)"
           ],
           [
            0.5,
            "rgb(107,174,214)"
           ],
           [
            0.625,
            "rgb(66,146,198)"
           ],
           [
            0.75,
            "rgb(33,113,181)"
           ],
           [
            0.875,
            "rgb(8,81,156)"
           ],
           [
            1,
            "rgb(8,48,107)"
           ]
          ],
          "reversescale": true,
          "showscale": true
         },
         "type": "parcoords"
        }
       ],
       "layout": {
        "template": {
         "data": {
          "bar": [
           {
            "error_x": {
             "color": "#2a3f5f"
            },
            "error_y": {
             "color": "#2a3f5f"
            },
            "marker": {
             "line": {
              "color": "#E5ECF6",
              "width": 0.5
             },
             "pattern": {
              "fillmode": "overlay",
              "size": 10,
              "solidity": 0.2
             }
            },
            "type": "bar"
           }
          ],
          "barpolar": [
           {
            "marker": {
             "line": {
              "color": "#E5ECF6",
              "width": 0.5
             },
             "pattern": {
              "fillmode": "overlay",
              "size": 10,
              "solidity": 0.2
             }
            },
            "type": "barpolar"
           }
          ],
          "carpet": [
           {
            "aaxis": {
             "endlinecolor": "#2a3f5f",
             "gridcolor": "white",
             "linecolor": "white",
             "minorgridcolor": "white",
             "startlinecolor": "#2a3f5f"
            },
            "baxis": {
             "endlinecolor": "#2a3f5f",
             "gridcolor": "white",
             "linecolor": "white",
             "minorgridcolor": "white",
             "startlinecolor": "#2a3f5f"
            },
            "type": "carpet"
           }
          ],
          "choropleth": [
           {
            "colorbar": {
             "outlinewidth": 0,
             "ticks": ""
            },
            "type": "choropleth"
           }
          ],
          "contour": [
           {
            "colorbar": {
             "outlinewidth": 0,
             "ticks": ""
            },
            "colorscale": [
             [
              0,
              "#0d0887"
             ],
             [
              0.1111111111111111,
              "#46039f"
             ],
             [
              0.2222222222222222,
              "#7201a8"
             ],
             [
              0.3333333333333333,
              "#9c179e"
             ],
             [
              0.4444444444444444,
              "#bd3786"
             ],
             [
              0.5555555555555556,
              "#d8576b"
             ],
             [
              0.6666666666666666,
              "#ed7953"
             ],
             [
              0.7777777777777778,
              "#fb9f3a"
             ],
             [
              0.8888888888888888,
              "#fdca26"
             ],
             [
              1,
              "#f0f921"
             ]
            ],
            "type": "contour"
           }
          ],
          "contourcarpet": [
           {
            "colorbar": {
             "outlinewidth": 0,
             "ticks": ""
            },
            "type": "contourcarpet"
           }
          ],
          "heatmap": [
           {
            "colorbar": {
             "outlinewidth": 0,
             "ticks": ""
            },
            "colorscale": [
             [
              0,
              "#0d0887"
             ],
             [
              0.1111111111111111,
              "#46039f"
             ],
             [
              0.2222222222222222,
              "#7201a8"
             ],
             [
              0.3333333333333333,
              "#9c179e"
             ],
             [
              0.4444444444444444,
              "#bd3786"
             ],
             [
              0.5555555555555556,
              "#d8576b"
             ],
             [
              0.6666666666666666,
              "#ed7953"
             ],
             [
              0.7777777777777778,
              "#fb9f3a"
             ],
             [
              0.8888888888888888,
              "#fdca26"
             ],
             [
              1,
              "#f0f921"
             ]
            ],
            "type": "heatmap"
           }
          ],
          "heatmapgl": [
           {
            "colorbar": {
             "outlinewidth": 0,
             "ticks": ""
            },
            "colorscale": [
             [
              0,
              "#0d0887"
             ],
             [
              0.1111111111111111,
              "#46039f"
             ],
             [
              0.2222222222222222,
              "#7201a8"
             ],
             [
              0.3333333333333333,
              "#9c179e"
             ],
             [
              0.4444444444444444,
              "#bd3786"
             ],
             [
              0.5555555555555556,
              "#d8576b"
             ],
             [
              0.6666666666666666,
              "#ed7953"
             ],
             [
              0.7777777777777778,
              "#fb9f3a"
             ],
             [
              0.8888888888888888,
              "#fdca26"
             ],
             [
              1,
              "#f0f921"
             ]
            ],
            "type": "heatmapgl"
           }
          ],
          "histogram": [
           {
            "marker": {
             "pattern": {
              "fillmode": "overlay",
              "size": 10,
              "solidity": 0.2
             }
            },
            "type": "histogram"
           }
          ],
          "histogram2d": [
           {
            "colorbar": {
             "outlinewidth": 0,
             "ticks": ""
            },
            "colorscale": [
             [
              0,
              "#0d0887"
             ],
             [
              0.1111111111111111,
              "#46039f"
             ],
             [
              0.2222222222222222,
              "#7201a8"
             ],
             [
              0.3333333333333333,
              "#9c179e"
             ],
             [
              0.4444444444444444,
              "#bd3786"
             ],
             [
              0.5555555555555556,
              "#d8576b"
             ],
             [
              0.6666666666666666,
              "#ed7953"
             ],
             [
              0.7777777777777778,
              "#fb9f3a"
             ],
             [
              0.8888888888888888,
              "#fdca26"
             ],
             [
              1,
              "#f0f921"
             ]
            ],
            "type": "histogram2d"
           }
          ],
          "histogram2dcontour": [
           {
            "colorbar": {
             "outlinewidth": 0,
             "ticks": ""
            },
            "colorscale": [
             [
              0,
              "#0d0887"
             ],
             [
              0.1111111111111111,
              "#46039f"
             ],
             [
              0.2222222222222222,
              "#7201a8"
             ],
             [
              0.3333333333333333,
              "#9c179e"
             ],
             [
              0.4444444444444444,
              "#bd3786"
             ],
             [
              0.5555555555555556,
              "#d8576b"
             ],
             [
              0.6666666666666666,
              "#ed7953"
             ],
             [
              0.7777777777777778,
              "#fb9f3a"
             ],
             [
              0.8888888888888888,
              "#fdca26"
             ],
             [
              1,
              "#f0f921"
             ]
            ],
            "type": "histogram2dcontour"
           }
          ],
          "mesh3d": [
           {
            "colorbar": {
             "outlinewidth": 0,
             "ticks": ""
            },
            "type": "mesh3d"
           }
          ],
          "parcoords": [
           {
            "line": {
             "colorbar": {
              "outlinewidth": 0,
              "ticks": ""
             }
            },
            "type": "parcoords"
           }
          ],
          "pie": [
           {
            "automargin": true,
            "type": "pie"
           }
          ],
          "scatter": [
           {
            "fillpattern": {
             "fillmode": "overlay",
             "size": 10,
             "solidity": 0.2
            },
            "type": "scatter"
           }
          ],
          "scatter3d": [
           {
            "line": {
             "colorbar": {
              "outlinewidth": 0,
              "ticks": ""
             }
            },
            "marker": {
             "colorbar": {
              "outlinewidth": 0,
              "ticks": ""
             }
            },
            "type": "scatter3d"
           }
          ],
          "scattercarpet": [
           {
            "marker": {
             "colorbar": {
              "outlinewidth": 0,
              "ticks": ""
             }
            },
            "type": "scattercarpet"
           }
          ],
          "scattergeo": [
           {
            "marker": {
             "colorbar": {
              "outlinewidth": 0,
              "ticks": ""
             }
            },
            "type": "scattergeo"
           }
          ],
          "scattergl": [
           {
            "marker": {
             "colorbar": {
              "outlinewidth": 0,
              "ticks": ""
             }
            },
            "type": "scattergl"
           }
          ],
          "scattermapbox": [
           {
            "marker": {
             "colorbar": {
              "outlinewidth": 0,
              "ticks": ""
             }
            },
            "type": "scattermapbox"
           }
          ],
          "scatterpolar": [
           {
            "marker": {
             "colorbar": {
              "outlinewidth": 0,
              "ticks": ""
             }
            },
            "type": "scatterpolar"
           }
          ],
          "scatterpolargl": [
           {
            "marker": {
             "colorbar": {
              "outlinewidth": 0,
              "ticks": ""
             }
            },
            "type": "scatterpolargl"
           }
          ],
          "scatterternary": [
           {
            "marker": {
             "colorbar": {
              "outlinewidth": 0,
              "ticks": ""
             }
            },
            "type": "scatterternary"
           }
          ],
          "surface": [
           {
            "colorbar": {
             "outlinewidth": 0,
             "ticks": ""
            },
            "colorscale": [
             [
              0,
              "#0d0887"
             ],
             [
              0.1111111111111111,
              "#46039f"
             ],
             [
              0.2222222222222222,
              "#7201a8"
             ],
             [
              0.3333333333333333,
              "#9c179e"
             ],
             [
              0.4444444444444444,
              "#bd3786"
             ],
             [
              0.5555555555555556,
              "#d8576b"
             ],
             [
              0.6666666666666666,
              "#ed7953"
             ],
             [
              0.7777777777777778,
              "#fb9f3a"
             ],
             [
              0.8888888888888888,
              "#fdca26"
             ],
             [
              1,
              "#f0f921"
             ]
            ],
            "type": "surface"
           }
          ],
          "table": [
           {
            "cells": {
             "fill": {
              "color": "#EBF0F8"
             },
             "line": {
              "color": "white"
             }
            },
            "header": {
             "fill": {
              "color": "#C8D4E3"
             },
             "line": {
              "color": "white"
             }
            },
            "type": "table"
           }
          ]
         },
         "layout": {
          "annotationdefaults": {
           "arrowcolor": "#2a3f5f",
           "arrowhead": 0,
           "arrowwidth": 1
          },
          "autotypenumbers": "strict",
          "coloraxis": {
           "colorbar": {
            "outlinewidth": 0,
            "ticks": ""
           }
          },
          "colorscale": {
           "diverging": [
            [
             0,
             "#8e0152"
            ],
            [
             0.1,
             "#c51b7d"
            ],
            [
             0.2,
             "#de77ae"
            ],
            [
             0.3,
             "#f1b6da"
            ],
            [
             0.4,
             "#fde0ef"
            ],
            [
             0.5,
             "#f7f7f7"
            ],
            [
             0.6,
             "#e6f5d0"
            ],
            [
             0.7,
             "#b8e186"
            ],
            [
             0.8,
             "#7fbc41"
            ],
            [
             0.9,
             "#4d9221"
            ],
            [
             1,
             "#276419"
            ]
           ],
           "sequential": [
            [
             0,
             "#0d0887"
            ],
            [
             0.1111111111111111,
             "#46039f"
            ],
            [
             0.2222222222222222,
             "#7201a8"
            ],
            [
             0.3333333333333333,
             "#9c179e"
            ],
            [
             0.4444444444444444,
             "#bd3786"
            ],
            [
             0.5555555555555556,
             "#d8576b"
            ],
            [
             0.6666666666666666,
             "#ed7953"
            ],
            [
             0.7777777777777778,
             "#fb9f3a"
            ],
            [
             0.8888888888888888,
             "#fdca26"
            ],
            [
             1,
             "#f0f921"
            ]
           ],
           "sequentialminus": [
            [
             0,
             "#0d0887"
            ],
            [
             0.1111111111111111,
             "#46039f"
            ],
            [
             0.2222222222222222,
             "#7201a8"
            ],
            [
             0.3333333333333333,
             "#9c179e"
            ],
            [
             0.4444444444444444,
             "#bd3786"
            ],
            [
             0.5555555555555556,
             "#d8576b"
            ],
            [
             0.6666666666666666,
             "#ed7953"
            ],
            [
             0.7777777777777778,
             "#fb9f3a"
            ],
            [
             0.8888888888888888,
             "#fdca26"
            ],
            [
             1,
             "#f0f921"
            ]
           ]
          },
          "colorway": [
           "#636efa",
           "#EF553B",
           "#00cc96",
           "#ab63fa",
           "#FFA15A",
           "#19d3f3",
           "#FF6692",
           "#B6E880",
           "#FF97FF",
           "#FECB52"
          ],
          "font": {
           "color": "#2a3f5f"
          },
          "geo": {
           "bgcolor": "white",
           "lakecolor": "white",
           "landcolor": "#E5ECF6",
           "showlakes": true,
           "showland": true,
           "subunitcolor": "white"
          },
          "hoverlabel": {
           "align": "left"
          },
          "hovermode": "closest",
          "mapbox": {
           "style": "light"
          },
          "paper_bgcolor": "white",
          "plot_bgcolor": "#E5ECF6",
          "polar": {
           "angularaxis": {
            "gridcolor": "white",
            "linecolor": "white",
            "ticks": ""
           },
           "bgcolor": "#E5ECF6",
           "radialaxis": {
            "gridcolor": "white",
            "linecolor": "white",
            "ticks": ""
           }
          },
          "scene": {
           "xaxis": {
            "backgroundcolor": "#E5ECF6",
            "gridcolor": "white",
            "gridwidth": 2,
            "linecolor": "white",
            "showbackground": true,
            "ticks": "",
            "zerolinecolor": "white"
           },
           "yaxis": {
            "backgroundcolor": "#E5ECF6",
            "gridcolor": "white",
            "gridwidth": 2,
            "linecolor": "white",
            "showbackground": true,
            "ticks": "",
            "zerolinecolor": "white"
           },
           "zaxis": {
            "backgroundcolor": "#E5ECF6",
            "gridcolor": "white",
            "gridwidth": 2,
            "linecolor": "white",
            "showbackground": true,
            "ticks": "",
            "zerolinecolor": "white"
           }
          },
          "shapedefaults": {
           "line": {
            "color": "#2a3f5f"
           }
          },
          "ternary": {
           "aaxis": {
            "gridcolor": "white",
            "linecolor": "white",
            "ticks": ""
           },
           "baxis": {
            "gridcolor": "white",
            "linecolor": "white",
            "ticks": ""
           },
           "bgcolor": "#E5ECF6",
           "caxis": {
            "gridcolor": "white",
            "linecolor": "white",
            "ticks": ""
           }
          },
          "title": {
           "x": 0.05
          },
          "xaxis": {
           "automargin": true,
           "gridcolor": "white",
           "linecolor": "white",
           "ticks": "",
           "title": {
            "standoff": 15
           },
           "zerolinecolor": "white",
           "zerolinewidth": 2
          },
          "yaxis": {
           "automargin": true,
           "gridcolor": "white",
           "linecolor": "white",
           "ticks": "",
           "title": {
            "standoff": 15
           },
           "zerolinecolor": "white",
           "zerolinewidth": 2
          }
         }
        },
        "title": {
         "text": "Parallel Coordinate Plot"
        }
       }
      }
     },
     "metadata": {},
     "output_type": "display_data"
    }
   ],
   "source": [
    "plot_parallel_coordinate(study)"
   ]
  },
  {
   "cell_type": "code",
   "execution_count": 99,
   "metadata": {},
   "outputs": [
    {
     "data": {
      "application/vnd.plotly.v1+json": {
       "config": {
        "plotlyServerURL": "https://plot.ly"
       },
       "data": [
        {
         "cliponaxis": false,
         "hovertemplate": [
          "lambda_l2 (FloatDistribution): 3.26832427152363e-05<extra></extra>",
          "min_split_gain (FloatDistribution): 0.06236535042671183<extra></extra>",
          "lambda_l1 (FloatDistribution): 0.09762260922813606<extra></extra>",
          "max_depth (IntDistribution): 0.14125294596693905<extra></extra>",
          "num_leaves (IntDistribution): 0.17214470349177838<extra></extra>",
          "learning_rate (FloatDistribution): 0.5265817076437193<extra></extra>"
         ],
         "name": "Objective Value",
         "orientation": "h",
         "text": [
          "<0.01",
          "0.06",
          "0.10",
          "0.14",
          "0.17",
          "0.53"
         ],
         "textposition": "outside",
         "type": "bar",
         "x": [
          0.0000326832427152363,
          0.06236535042671183,
          0.09762260922813606,
          0.14125294596693905,
          0.17214470349177838,
          0.5265817076437193
         ],
         "y": [
          "lambda_l2",
          "min_split_gain",
          "lambda_l1",
          "max_depth",
          "num_leaves",
          "learning_rate"
         ]
        }
       ],
       "layout": {
        "template": {
         "data": {
          "bar": [
           {
            "error_x": {
             "color": "#2a3f5f"
            },
            "error_y": {
             "color": "#2a3f5f"
            },
            "marker": {
             "line": {
              "color": "#E5ECF6",
              "width": 0.5
             },
             "pattern": {
              "fillmode": "overlay",
              "size": 10,
              "solidity": 0.2
             }
            },
            "type": "bar"
           }
          ],
          "barpolar": [
           {
            "marker": {
             "line": {
              "color": "#E5ECF6",
              "width": 0.5
             },
             "pattern": {
              "fillmode": "overlay",
              "size": 10,
              "solidity": 0.2
             }
            },
            "type": "barpolar"
           }
          ],
          "carpet": [
           {
            "aaxis": {
             "endlinecolor": "#2a3f5f",
             "gridcolor": "white",
             "linecolor": "white",
             "minorgridcolor": "white",
             "startlinecolor": "#2a3f5f"
            },
            "baxis": {
             "endlinecolor": "#2a3f5f",
             "gridcolor": "white",
             "linecolor": "white",
             "minorgridcolor": "white",
             "startlinecolor": "#2a3f5f"
            },
            "type": "carpet"
           }
          ],
          "choropleth": [
           {
            "colorbar": {
             "outlinewidth": 0,
             "ticks": ""
            },
            "type": "choropleth"
           }
          ],
          "contour": [
           {
            "colorbar": {
             "outlinewidth": 0,
             "ticks": ""
            },
            "colorscale": [
             [
              0,
              "#0d0887"
             ],
             [
              0.1111111111111111,
              "#46039f"
             ],
             [
              0.2222222222222222,
              "#7201a8"
             ],
             [
              0.3333333333333333,
              "#9c179e"
             ],
             [
              0.4444444444444444,
              "#bd3786"
             ],
             [
              0.5555555555555556,
              "#d8576b"
             ],
             [
              0.6666666666666666,
              "#ed7953"
             ],
             [
              0.7777777777777778,
              "#fb9f3a"
             ],
             [
              0.8888888888888888,
              "#fdca26"
             ],
             [
              1,
              "#f0f921"
             ]
            ],
            "type": "contour"
           }
          ],
          "contourcarpet": [
           {
            "colorbar": {
             "outlinewidth": 0,
             "ticks": ""
            },
            "type": "contourcarpet"
           }
          ],
          "heatmap": [
           {
            "colorbar": {
             "outlinewidth": 0,
             "ticks": ""
            },
            "colorscale": [
             [
              0,
              "#0d0887"
             ],
             [
              0.1111111111111111,
              "#46039f"
             ],
             [
              0.2222222222222222,
              "#7201a8"
             ],
             [
              0.3333333333333333,
              "#9c179e"
             ],
             [
              0.4444444444444444,
              "#bd3786"
             ],
             [
              0.5555555555555556,
              "#d8576b"
             ],
             [
              0.6666666666666666,
              "#ed7953"
             ],
             [
              0.7777777777777778,
              "#fb9f3a"
             ],
             [
              0.8888888888888888,
              "#fdca26"
             ],
             [
              1,
              "#f0f921"
             ]
            ],
            "type": "heatmap"
           }
          ],
          "heatmapgl": [
           {
            "colorbar": {
             "outlinewidth": 0,
             "ticks": ""
            },
            "colorscale": [
             [
              0,
              "#0d0887"
             ],
             [
              0.1111111111111111,
              "#46039f"
             ],
             [
              0.2222222222222222,
              "#7201a8"
             ],
             [
              0.3333333333333333,
              "#9c179e"
             ],
             [
              0.4444444444444444,
              "#bd3786"
             ],
             [
              0.5555555555555556,
              "#d8576b"
             ],
             [
              0.6666666666666666,
              "#ed7953"
             ],
             [
              0.7777777777777778,
              "#fb9f3a"
             ],
             [
              0.8888888888888888,
              "#fdca26"
             ],
             [
              1,
              "#f0f921"
             ]
            ],
            "type": "heatmapgl"
           }
          ],
          "histogram": [
           {
            "marker": {
             "pattern": {
              "fillmode": "overlay",
              "size": 10,
              "solidity": 0.2
             }
            },
            "type": "histogram"
           }
          ],
          "histogram2d": [
           {
            "colorbar": {
             "outlinewidth": 0,
             "ticks": ""
            },
            "colorscale": [
             [
              0,
              "#0d0887"
             ],
             [
              0.1111111111111111,
              "#46039f"
             ],
             [
              0.2222222222222222,
              "#7201a8"
             ],
             [
              0.3333333333333333,
              "#9c179e"
             ],
             [
              0.4444444444444444,
              "#bd3786"
             ],
             [
              0.5555555555555556,
              "#d8576b"
             ],
             [
              0.6666666666666666,
              "#ed7953"
             ],
             [
              0.7777777777777778,
              "#fb9f3a"
             ],
             [
              0.8888888888888888,
              "#fdca26"
             ],
             [
              1,
              "#f0f921"
             ]
            ],
            "type": "histogram2d"
           }
          ],
          "histogram2dcontour": [
           {
            "colorbar": {
             "outlinewidth": 0,
             "ticks": ""
            },
            "colorscale": [
             [
              0,
              "#0d0887"
             ],
             [
              0.1111111111111111,
              "#46039f"
             ],
             [
              0.2222222222222222,
              "#7201a8"
             ],
             [
              0.3333333333333333,
              "#9c179e"
             ],
             [
              0.4444444444444444,
              "#bd3786"
             ],
             [
              0.5555555555555556,
              "#d8576b"
             ],
             [
              0.6666666666666666,
              "#ed7953"
             ],
             [
              0.7777777777777778,
              "#fb9f3a"
             ],
             [
              0.8888888888888888,
              "#fdca26"
             ],
             [
              1,
              "#f0f921"
             ]
            ],
            "type": "histogram2dcontour"
           }
          ],
          "mesh3d": [
           {
            "colorbar": {
             "outlinewidth": 0,
             "ticks": ""
            },
            "type": "mesh3d"
           }
          ],
          "parcoords": [
           {
            "line": {
             "colorbar": {
              "outlinewidth": 0,
              "ticks": ""
             }
            },
            "type": "parcoords"
           }
          ],
          "pie": [
           {
            "automargin": true,
            "type": "pie"
           }
          ],
          "scatter": [
           {
            "fillpattern": {
             "fillmode": "overlay",
             "size": 10,
             "solidity": 0.2
            },
            "type": "scatter"
           }
          ],
          "scatter3d": [
           {
            "line": {
             "colorbar": {
              "outlinewidth": 0,
              "ticks": ""
             }
            },
            "marker": {
             "colorbar": {
              "outlinewidth": 0,
              "ticks": ""
             }
            },
            "type": "scatter3d"
           }
          ],
          "scattercarpet": [
           {
            "marker": {
             "colorbar": {
              "outlinewidth": 0,
              "ticks": ""
             }
            },
            "type": "scattercarpet"
           }
          ],
          "scattergeo": [
           {
            "marker": {
             "colorbar": {
              "outlinewidth": 0,
              "ticks": ""
             }
            },
            "type": "scattergeo"
           }
          ],
          "scattergl": [
           {
            "marker": {
             "colorbar": {
              "outlinewidth": 0,
              "ticks": ""
             }
            },
            "type": "scattergl"
           }
          ],
          "scattermapbox": [
           {
            "marker": {
             "colorbar": {
              "outlinewidth": 0,
              "ticks": ""
             }
            },
            "type": "scattermapbox"
           }
          ],
          "scatterpolar": [
           {
            "marker": {
             "colorbar": {
              "outlinewidth": 0,
              "ticks": ""
             }
            },
            "type": "scatterpolar"
           }
          ],
          "scatterpolargl": [
           {
            "marker": {
             "colorbar": {
              "outlinewidth": 0,
              "ticks": ""
             }
            },
            "type": "scatterpolargl"
           }
          ],
          "scatterternary": [
           {
            "marker": {
             "colorbar": {
              "outlinewidth": 0,
              "ticks": ""
             }
            },
            "type": "scatterternary"
           }
          ],
          "surface": [
           {
            "colorbar": {
             "outlinewidth": 0,
             "ticks": ""
            },
            "colorscale": [
             [
              0,
              "#0d0887"
             ],
             [
              0.1111111111111111,
              "#46039f"
             ],
             [
              0.2222222222222222,
              "#7201a8"
             ],
             [
              0.3333333333333333,
              "#9c179e"
             ],
             [
              0.4444444444444444,
              "#bd3786"
             ],
             [
              0.5555555555555556,
              "#d8576b"
             ],
             [
              0.6666666666666666,
              "#ed7953"
             ],
             [
              0.7777777777777778,
              "#fb9f3a"
             ],
             [
              0.8888888888888888,
              "#fdca26"
             ],
             [
              1,
              "#f0f921"
             ]
            ],
            "type": "surface"
           }
          ],
          "table": [
           {
            "cells": {
             "fill": {
              "color": "#EBF0F8"
             },
             "line": {
              "color": "white"
             }
            },
            "header": {
             "fill": {
              "color": "#C8D4E3"
             },
             "line": {
              "color": "white"
             }
            },
            "type": "table"
           }
          ]
         },
         "layout": {
          "annotationdefaults": {
           "arrowcolor": "#2a3f5f",
           "arrowhead": 0,
           "arrowwidth": 1
          },
          "autotypenumbers": "strict",
          "coloraxis": {
           "colorbar": {
            "outlinewidth": 0,
            "ticks": ""
           }
          },
          "colorscale": {
           "diverging": [
            [
             0,
             "#8e0152"
            ],
            [
             0.1,
             "#c51b7d"
            ],
            [
             0.2,
             "#de77ae"
            ],
            [
             0.3,
             "#f1b6da"
            ],
            [
             0.4,
             "#fde0ef"
            ],
            [
             0.5,
             "#f7f7f7"
            ],
            [
             0.6,
             "#e6f5d0"
            ],
            [
             0.7,
             "#b8e186"
            ],
            [
             0.8,
             "#7fbc41"
            ],
            [
             0.9,
             "#4d9221"
            ],
            [
             1,
             "#276419"
            ]
           ],
           "sequential": [
            [
             0,
             "#0d0887"
            ],
            [
             0.1111111111111111,
             "#46039f"
            ],
            [
             0.2222222222222222,
             "#7201a8"
            ],
            [
             0.3333333333333333,
             "#9c179e"
            ],
            [
             0.4444444444444444,
             "#bd3786"
            ],
            [
             0.5555555555555556,
             "#d8576b"
            ],
            [
             0.6666666666666666,
             "#ed7953"
            ],
            [
             0.7777777777777778,
             "#fb9f3a"
            ],
            [
             0.8888888888888888,
             "#fdca26"
            ],
            [
             1,
             "#f0f921"
            ]
           ],
           "sequentialminus": [
            [
             0,
             "#0d0887"
            ],
            [
             0.1111111111111111,
             "#46039f"
            ],
            [
             0.2222222222222222,
             "#7201a8"
            ],
            [
             0.3333333333333333,
             "#9c179e"
            ],
            [
             0.4444444444444444,
             "#bd3786"
            ],
            [
             0.5555555555555556,
             "#d8576b"
            ],
            [
             0.6666666666666666,
             "#ed7953"
            ],
            [
             0.7777777777777778,
             "#fb9f3a"
            ],
            [
             0.8888888888888888,
             "#fdca26"
            ],
            [
             1,
             "#f0f921"
            ]
           ]
          },
          "colorway": [
           "#636efa",
           "#EF553B",
           "#00cc96",
           "#ab63fa",
           "#FFA15A",
           "#19d3f3",
           "#FF6692",
           "#B6E880",
           "#FF97FF",
           "#FECB52"
          ],
          "font": {
           "color": "#2a3f5f"
          },
          "geo": {
           "bgcolor": "white",
           "lakecolor": "white",
           "landcolor": "#E5ECF6",
           "showlakes": true,
           "showland": true,
           "subunitcolor": "white"
          },
          "hoverlabel": {
           "align": "left"
          },
          "hovermode": "closest",
          "mapbox": {
           "style": "light"
          },
          "paper_bgcolor": "white",
          "plot_bgcolor": "#E5ECF6",
          "polar": {
           "angularaxis": {
            "gridcolor": "white",
            "linecolor": "white",
            "ticks": ""
           },
           "bgcolor": "#E5ECF6",
           "radialaxis": {
            "gridcolor": "white",
            "linecolor": "white",
            "ticks": ""
           }
          },
          "scene": {
           "xaxis": {
            "backgroundcolor": "#E5ECF6",
            "gridcolor": "white",
            "gridwidth": 2,
            "linecolor": "white",
            "showbackground": true,
            "ticks": "",
            "zerolinecolor": "white"
           },
           "yaxis": {
            "backgroundcolor": "#E5ECF6",
            "gridcolor": "white",
            "gridwidth": 2,
            "linecolor": "white",
            "showbackground": true,
            "ticks": "",
            "zerolinecolor": "white"
           },
           "zaxis": {
            "backgroundcolor": "#E5ECF6",
            "gridcolor": "white",
            "gridwidth": 2,
            "linecolor": "white",
            "showbackground": true,
            "ticks": "",
            "zerolinecolor": "white"
           }
          },
          "shapedefaults": {
           "line": {
            "color": "#2a3f5f"
           }
          },
          "ternary": {
           "aaxis": {
            "gridcolor": "white",
            "linecolor": "white",
            "ticks": ""
           },
           "baxis": {
            "gridcolor": "white",
            "linecolor": "white",
            "ticks": ""
           },
           "bgcolor": "#E5ECF6",
           "caxis": {
            "gridcolor": "white",
            "linecolor": "white",
            "ticks": ""
           }
          },
          "title": {
           "x": 0.05
          },
          "xaxis": {
           "automargin": true,
           "gridcolor": "white",
           "linecolor": "white",
           "ticks": "",
           "title": {
            "standoff": 15
           },
           "zerolinecolor": "white",
           "zerolinewidth": 2
          },
          "yaxis": {
           "automargin": true,
           "gridcolor": "white",
           "linecolor": "white",
           "ticks": "",
           "title": {
            "standoff": 15
           },
           "zerolinecolor": "white",
           "zerolinewidth": 2
          }
         }
        },
        "title": {
         "text": "Hyperparameter Importances"
        },
        "xaxis": {
         "title": {
          "text": "Hyperparameter Importance"
         }
        },
        "yaxis": {
         "title": {
          "text": "Hyperparameter"
         }
        }
       }
      }
     },
     "metadata": {},
     "output_type": "display_data"
    }
   ],
   "source": [
    "plot_param_importances(study)"
   ]
  },
  {
   "cell_type": "markdown",
   "metadata": {},
   "source": [
    "### Train the best model on entire dataset"
   ]
  },
  {
   "cell_type": "code",
   "execution_count": 100,
   "metadata": {},
   "outputs": [
    {
     "data": {
      "text/plain": [
       "{'learning_rate': 0.05909841541846396,\n",
       " 'max_depth': 11,\n",
       " 'num_leaves': 21,\n",
       " 'lambda_l1': 9.738139247665856e-08,\n",
       " 'lambda_l2': 0.00045346106609494733,\n",
       " 'min_split_gain': 5.381558441594802e-07}"
      ]
     },
     "execution_count": 100,
     "metadata": {},
     "output_type": "execute_result"
    }
   ],
   "source": [
    "study.best_params"
   ]
  },
  {
   "cell_type": "code",
   "execution_count": 101,
   "metadata": {},
   "outputs": [
    {
     "data": {
      "text/plain": [
       "18.05824723307404"
      ]
     },
     "execution_count": 101,
     "metadata": {},
     "output_type": "execute_result"
    }
   ],
   "source": [
    "study.best_value"
   ]
  },
  {
   "cell_type": "code",
   "execution_count": 102,
   "metadata": {},
   "outputs": [],
   "source": [
    "# Use only two weeks for the validation set in the final model\n",
    "val_end_final = pd.Timestamp(\"2023-12-15\").tz_localize(\"UTC\")\n",
    "\n",
    "X_train_preprocessed_final = X_train_preprocessed.iloc[df_train.query(\"date < @val_end_final\").index]\n",
    "X_val_preprocessed_final = X_train_preprocessed.iloc[df_train.query(\"date >= @val_end_final\").index]\n",
    "\n",
    "y_train_final = y_train.iloc[df_train.query(\"date < @val_end_final\").index]\n",
    "y_val_final = y_train.iloc[df_train.query(\"date >= @val_end_final\").index] "
   ]
  },
  {
   "cell_type": "code",
   "execution_count": 103,
   "metadata": {},
   "outputs": [
    {
     "name": "stdout",
     "output_type": "stream",
     "text": [
      "[LightGBM] [Info] Auto-choosing col-wise multi-threading, the overhead of testing was 0.003878 seconds.\n",
      "You can set `force_col_wise=true` to remove the overhead.\n",
      "[LightGBM] [Info] Total Bins 25652\n",
      "[LightGBM] [Info] Number of data points in the train set: 8350, number of used features: 111\n",
      "[LightGBM] [Info] Start training from score 110.100814\n",
      "Training until validation scores don't improve for 10 rounds\n",
      "Early stopping, best iteration is:\n",
      "[69]\tvalid_0's l2: 146.151\n"
     ]
    }
   ],
   "source": [
    "# Create LightGBM dataset\n",
    "train_data = lgb.Dataset(X_train_preprocessed_final, label=y_train_final, free_raw_data=False)\n",
    "valid_data = lgb.Dataset(X_val_preprocessed_final, label=y_val_final, free_raw_data=False)\n",
    "\n",
    "# Train the model\n",
    "bst = lgb.train(\n",
    "    params=study.best_params,\n",
    "    train_set=train_data,\n",
    "    valid_sets=[valid_data],\n",
    "    num_boost_round=1000,\n",
    "    callbacks=[lgb.early_stopping(stopping_rounds=10)],\n",
    ")"
   ]
  },
  {
   "cell_type": "code",
   "execution_count": 104,
   "metadata": {},
   "outputs": [
    {
     "data": {
      "text/plain": [
       "15.329910214763533"
      ]
     },
     "execution_count": 104,
     "metadata": {},
     "output_type": "execute_result"
    }
   ],
   "source": [
    "# Make predictions on validation set\n",
    "y_pred = bst.predict(X_test_preprocessed, num_iteration=bst.best_iteration)\n",
    "\n",
    "# Calculate loss\n",
    "loss = root_mean_squared_error(y_test, y_pred)\n",
    "\n",
    "loss"
   ]
  },
  {
   "cell_type": "code",
   "execution_count": 107,
   "metadata": {},
   "outputs": [
    {
     "data": {
      "text/plain": [
       "<Axes: >"
      ]
     },
     "execution_count": 107,
     "metadata": {},
     "output_type": "execute_result"
    },
    {
     "data": {
      "image/png": "[encoded data removed]",
      "text/plain": [
       "<Figure size 1500x400 with 1 Axes>"
      ]
     },
     "metadata": {},
     "output_type": "display_data"
    }
   ],
   "source": [
    "pd.DataFrame({\n",
    "    \"y_true\": y_test,\n",
    "    \"y_pred\": y_pred\n",
    "}).plot(figsize=(15, 4))"
   ]
  },
  {
   "cell_type": "code",
   "execution_count": 110,
   "metadata": {},
   "outputs": [
    {
     "data": {
      "text/plain": [
       "<Axes: >"
      ]
     },
     "execution_count": 110,
     "metadata": {},
     "output_type": "execute_result"
    },
    {
     "data": {
      "image/png": "[encoded data removed]",
      "text/plain": [
       "<Figure size 1500x400 with 1 Axes>"
      ]
     },
     "metadata": {},
     "output_type": "display_data"
    }
   ],
   "source": [
    "pd.DataFrame({\n",
    "    \"y_true\": y_train_final,\n",
    "    \"y_pred\": bst.predict(X_train_preprocessed_final)\n",
    "}).tail(500).plot(figsize=(15, 4))"
   ]
  },
  {
   "cell_type": "code",
   "execution_count": null,
   "metadata": {},
   "outputs": [],
   "source": [
    "# Save the model\n",
    "bst.save_model(\"model.txt\", num_iteration=bst.best_iteration)"
   ]
  }
 ],
 "metadata": {
  "kernelspec": {
   "display_name": "statslab",
   "language": "python",
   "name": "python3"
  },
  "language_info": {
   "codemirror_mode": {
    "name": "ipython",
    "version": 3
   },
   "file_extension": ".py",
   "mimetype": "text/x-python",
   "name": "python",
   "nbconvert_exporter": "python",
   "pygments_lexer": "ipython3",
   "version": "3.10.14"
  }
 },
 "nbformat": 4,
 "nbformat_minor": 2
}
