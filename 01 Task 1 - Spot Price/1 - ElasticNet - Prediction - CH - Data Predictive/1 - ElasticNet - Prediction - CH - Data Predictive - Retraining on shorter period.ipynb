{
 "cells": [
  {
   "cell_type": "code",
   "execution_count": 335,
   "metadata": {},
   "outputs": [
    {
     "name": "stdout",
     "output_type": "stream",
     "text": [
      "The blackcellmagic extension is already loaded. To reload it, use:\n",
      "  %reload_ext blackcellmagic\n"
     ]
    }
   ],
   "source": [
    "import pandas as pd\n",
    "import polars as pl\n",
    "import plotnine as pn\n",
    "import numpy as np\n",
    "from tqdm.notebook import tqdm\n",
    "\n",
    "import lightgbm as lgb\n",
    "from sklearn.linear_model import Lasso, ElasticNet, Ridge\n",
    "from sklearn.model_selection import TimeSeriesSplit\n",
    "from sklearn.impute import SimpleImputer\n",
    "from sklearn.experimental import enable_iterative_imputer\n",
    "from sklearn.impute import IterativeImputer, KNNImputer\n",
    "from sklearn.pipeline import FeatureUnion, make_pipeline, Pipeline\n",
    "from sklearn.compose import ColumnTransformer, make_column_selector\n",
    "from sklearn.preprocessing import (\n",
    "    LabelEncoder,\n",
    "    StandardScaler,\n",
    "    OneHotEncoder,\n",
    "    FunctionTransformer,\n",
    ")\n",
    "from sklearn.metrics import r2_score, mean_absolute_error, mean_absolute_percentage_error, mean_squared_error, root_mean_squared_error\n",
    "from sklearn.base import BaseEstimator, TransformerMixin\n",
    "from sklearn import config_context\n",
    "import optuna\n",
    "from optuna.visualization import plot_optimization_history, plot_param_importances, plot_parallel_coordinate\n",
    "import os\n",
    "import holidays\n",
    "\n",
    "%load_ext blackcellmagic"
   ]
  },
  {
   "cell_type": "markdown",
   "metadata": {},
   "source": [
    "### Data Preparation\n",
    "\n",
    "Focus on CH spot price first"
   ]
  },
  {
   "cell_type": "code",
   "execution_count": 336,
   "metadata": {},
   "outputs": [
    {
     "data": {
      "text/html": [
       "<div>\n",
       "<style scoped>\n",
       "    .dataframe tbody tr th:only-of-type {\n",
       "        vertical-align: middle;\n",
       "    }\n",
       "\n",
       "    .dataframe tbody tr th {\n",
       "        vertical-align: top;\n",
       "    }\n",
       "\n",
       "    .dataframe thead th {\n",
       "        text-align: right;\n",
       "    }\n",
       "</style>\n",
       "<table border=\"1\" class=\"dataframe\">\n",
       "  <thead>\n",
       "    <tr style=\"text-align: right;\">\n",
       "      <th></th>\n",
       "      <th>date</th>\n",
       "      <th>auction_price_ch_de</th>\n",
       "      <th>auction_price_de_ch</th>\n",
       "      <th>dst</th>\n",
       "      <th>day_ahead_price_at</th>\n",
       "      <th>day_ahead_price_ch</th>\n",
       "      <th>day_ahead_price_de</th>\n",
       "      <th>day_ahead_price_fr</th>\n",
       "      <th>day_ahead_price_it</th>\n",
       "      <th>actual_load_at</th>\n",
       "      <th>...</th>\n",
       "      <th>wind_offshore_actual_aggregated_it</th>\n",
       "      <th>wind_offshore_forecast_de</th>\n",
       "      <th>wind_onshore_actual_aggregated_at</th>\n",
       "      <th>wind_onshore_actual_aggregated_de</th>\n",
       "      <th>wind_onshore_actual_aggregated_fr</th>\n",
       "      <th>wind_onshore_actual_aggregated_it</th>\n",
       "      <th>wind_onshore_ch</th>\n",
       "      <th>wind_onshore_forecast_at</th>\n",
       "      <th>wind_onshore_forecast_de</th>\n",
       "      <th>wind_onshore_forecast_fr</th>\n",
       "    </tr>\n",
       "  </thead>\n",
       "  <tbody>\n",
       "    <tr>\n",
       "      <th>0</th>\n",
       "      <td>2023-01-01 00:00:00+00:00</td>\n",
       "      <td>0.01</td>\n",
       "      <td>6.09</td>\n",
       "      <td>1</td>\n",
       "      <td>NaN</td>\n",
       "      <td>-7.25</td>\n",
       "      <td>-1.07</td>\n",
       "      <td>NaN</td>\n",
       "      <td>NaN</td>\n",
       "      <td>NaN</td>\n",
       "      <td>...</td>\n",
       "      <td>NaN</td>\n",
       "      <td>3390.25</td>\n",
       "      <td>NaN</td>\n",
       "      <td>NaN</td>\n",
       "      <td>NaN</td>\n",
       "      <td>NaN</td>\n",
       "      <td>NaN</td>\n",
       "      <td>1174.0</td>\n",
       "      <td>35415.50</td>\n",
       "      <td>13933.0</td>\n",
       "    </tr>\n",
       "    <tr>\n",
       "      <th>1</th>\n",
       "      <td>2023-01-01 01:00:00+00:00</td>\n",
       "      <td>0.01</td>\n",
       "      <td>5.50</td>\n",
       "      <td>1</td>\n",
       "      <td>NaN</td>\n",
       "      <td>-3.99</td>\n",
       "      <td>-1.47</td>\n",
       "      <td>NaN</td>\n",
       "      <td>NaN</td>\n",
       "      <td>NaN</td>\n",
       "      <td>...</td>\n",
       "      <td>NaN</td>\n",
       "      <td>3395.50</td>\n",
       "      <td>NaN</td>\n",
       "      <td>NaN</td>\n",
       "      <td>NaN</td>\n",
       "      <td>NaN</td>\n",
       "      <td>NaN</td>\n",
       "      <td>1194.0</td>\n",
       "      <td>35146.75</td>\n",
       "      <td>13583.0</td>\n",
       "    </tr>\n",
       "    <tr>\n",
       "      <th>2</th>\n",
       "      <td>2023-01-01 02:00:00+00:00</td>\n",
       "      <td>0.01</td>\n",
       "      <td>6.45</td>\n",
       "      <td>1</td>\n",
       "      <td>NaN</td>\n",
       "      <td>-7.71</td>\n",
       "      <td>-5.08</td>\n",
       "      <td>NaN</td>\n",
       "      <td>NaN</td>\n",
       "      <td>NaN</td>\n",
       "      <td>...</td>\n",
       "      <td>NaN</td>\n",
       "      <td>3410.25</td>\n",
       "      <td>NaN</td>\n",
       "      <td>NaN</td>\n",
       "      <td>NaN</td>\n",
       "      <td>NaN</td>\n",
       "      <td>NaN</td>\n",
       "      <td>1085.0</td>\n",
       "      <td>34449.00</td>\n",
       "      <td>13230.0</td>\n",
       "    </tr>\n",
       "    <tr>\n",
       "      <th>3</th>\n",
       "      <td>2023-01-01 03:00:00+00:00</td>\n",
       "      <td>0.01</td>\n",
       "      <td>9.08</td>\n",
       "      <td>1</td>\n",
       "      <td>NaN</td>\n",
       "      <td>-9.71</td>\n",
       "      <td>-4.49</td>\n",
       "      <td>NaN</td>\n",
       "      <td>NaN</td>\n",
       "      <td>NaN</td>\n",
       "      <td>...</td>\n",
       "      <td>NaN</td>\n",
       "      <td>3431.25</td>\n",
       "      <td>NaN</td>\n",
       "      <td>NaN</td>\n",
       "      <td>NaN</td>\n",
       "      <td>NaN</td>\n",
       "      <td>NaN</td>\n",
       "      <td>897.0</td>\n",
       "      <td>33905.25</td>\n",
       "      <td>12877.0</td>\n",
       "    </tr>\n",
       "    <tr>\n",
       "      <th>4</th>\n",
       "      <td>2023-01-01 04:00:00+00:00</td>\n",
       "      <td>0.01</td>\n",
       "      <td>13.33</td>\n",
       "      <td>1</td>\n",
       "      <td>NaN</td>\n",
       "      <td>-15.15</td>\n",
       "      <td>-5.40</td>\n",
       "      <td>NaN</td>\n",
       "      <td>NaN</td>\n",
       "      <td>NaN</td>\n",
       "      <td>...</td>\n",
       "      <td>NaN</td>\n",
       "      <td>3454.25</td>\n",
       "      <td>NaN</td>\n",
       "      <td>NaN</td>\n",
       "      <td>NaN</td>\n",
       "      <td>NaN</td>\n",
       "      <td>NaN</td>\n",
       "      <td>697.0</td>\n",
       "      <td>33362.75</td>\n",
       "      <td>12311.0</td>\n",
       "    </tr>\n",
       "  </tbody>\n",
       "</table>\n",
       "<p>5 rows × 104 columns</p>\n",
       "</div>"
      ],
      "text/plain": [
       "                       date  auction_price_ch_de  auction_price_de_ch  dst  \\\n",
       "0 2023-01-01 00:00:00+00:00                 0.01                 6.09    1   \n",
       "1 2023-01-01 01:00:00+00:00                 0.01                 5.50    1   \n",
       "2 2023-01-01 02:00:00+00:00                 0.01                 6.45    1   \n",
       "3 2023-01-01 03:00:00+00:00                 0.01                 9.08    1   \n",
       "4 2023-01-01 04:00:00+00:00                 0.01                13.33    1   \n",
       "\n",
       "   day_ahead_price_at  day_ahead_price_ch  day_ahead_price_de  \\\n",
       "0                 NaN               -7.25               -1.07   \n",
       "1                 NaN               -3.99               -1.47   \n",
       "2                 NaN               -7.71               -5.08   \n",
       "3                 NaN               -9.71               -4.49   \n",
       "4                 NaN              -15.15               -5.40   \n",
       "\n",
       "   day_ahead_price_fr  day_ahead_price_it  actual_load_at  ...  \\\n",
       "0                 NaN                 NaN             NaN  ...   \n",
       "1                 NaN                 NaN             NaN  ...   \n",
       "2                 NaN                 NaN             NaN  ...   \n",
       "3                 NaN                 NaN             NaN  ...   \n",
       "4                 NaN                 NaN             NaN  ...   \n",
       "\n",
       "   wind_offshore_actual_aggregated_it  wind_offshore_forecast_de  \\\n",
       "0                                 NaN                    3390.25   \n",
       "1                                 NaN                    3395.50   \n",
       "2                                 NaN                    3410.25   \n",
       "3                                 NaN                    3431.25   \n",
       "4                                 NaN                    3454.25   \n",
       "\n",
       "   wind_onshore_actual_aggregated_at  wind_onshore_actual_aggregated_de  \\\n",
       "0                                NaN                                NaN   \n",
       "1                                NaN                                NaN   \n",
       "2                                NaN                                NaN   \n",
       "3                                NaN                                NaN   \n",
       "4                                NaN                                NaN   \n",
       "\n",
       "   wind_onshore_actual_aggregated_fr  wind_onshore_actual_aggregated_it  \\\n",
       "0                                NaN                                NaN   \n",
       "1                                NaN                                NaN   \n",
       "2                                NaN                                NaN   \n",
       "3                                NaN                                NaN   \n",
       "4                                NaN                                NaN   \n",
       "\n",
       "   wind_onshore_ch  wind_onshore_forecast_at  wind_onshore_forecast_de  \\\n",
       "0              NaN                    1174.0                  35415.50   \n",
       "1              NaN                    1194.0                  35146.75   \n",
       "2              NaN                    1085.0                  34449.00   \n",
       "3              NaN                     897.0                  33905.25   \n",
       "4              NaN                     697.0                  33362.75   \n",
       "\n",
       "   wind_onshore_forecast_fr  \n",
       "0                   13933.0  \n",
       "1                   13583.0  \n",
       "2                   13230.0  \n",
       "3                   12877.0  \n",
       "4                   12311.0  \n",
       "\n",
       "[5 rows x 104 columns]"
      ]
     },
     "execution_count": 336,
     "metadata": {},
     "output_type": "execute_result"
    }
   ],
   "source": [
    "df = pd.read_csv(\n",
    "    \"../../00 Data Retrieval and Cleaning/0_df_final_ml_predictive.csv\",\n",
    "    parse_dates=[\"date\"],\n",
    ")\n",
    "df.head()"
   ]
  },
  {
   "cell_type": "markdown",
   "metadata": {},
   "source": [
    "Need to lag the other three target variables by 24 hours, haven't done that yet:"
   ]
  },
  {
   "cell_type": "code",
   "execution_count": 337,
   "metadata": {},
   "outputs": [],
   "source": [
    "df = (\n",
    "    df\n",
    "    .assign(\n",
    "        day_ahead_price_de=lambda x: x[\"day_ahead_price_de\"].shift(24),\n",
    "        auction_price_de_ch=lambda x: x[\"auction_price_de_ch\"].shift(24),\n",
    "        auction_price_ch_de=lambda x: x[\"auction_price_ch_de\"].shift(24),\n",
    "    )\n",
    ")"
   ]
  },
  {
   "cell_type": "markdown",
   "metadata": {},
   "source": [
    "### Include target lags\n",
    "\n",
    "- latest available price (last price of previous day)\n",
    "- last two week prices at exact hour (14 additional cols)"
   ]
  },
  {
   "cell_type": "code",
   "execution_count": 338,
   "metadata": {},
   "outputs": [],
   "source": [
    "# Adding last available price from previous day\n",
    "df = df.assign(\n",
    "    day=lambda x: x.date.dt.date,\n",
    "    day_ahead_price_ch_last=lambda x: x.groupby(\"day\")[\"day_ahead_price_ch\"].transform(\"last\").shift(24),\n",
    ")"
   ]
  },
  {
   "cell_type": "code",
   "execution_count": 339,
   "metadata": {},
   "outputs": [
    {
     "name": "stdout",
     "output_type": "stream",
     "text": [
      "[24, 25, 26, 27, 28, 29, 30, 31, 32, 33, 34, 35, 36, 37, 38, 39, 40, 41, 42, 43, 44, 45, 46, 47, 48, 72, 96, 120, 144, 168, 192, 216, 240, 264, 288, 312, 336]\n"
     ]
    }
   ],
   "source": [
    "# Adding lags in 24h steps for the last two weeks\n",
    "lags = np.arange(24, 49).tolist() + (np.arange(3, 15) * 24).tolist()\n",
    "print(lags)\n",
    "for i in lags:\n",
    "    df[f\"day_ahead_price_ch_lag_{i}\"] = df[\"day_ahead_price_ch\"].shift(i)"
   ]
  },
  {
   "cell_type": "code",
   "execution_count": 340,
   "metadata": {},
   "outputs": [
    {
     "name": "stdout",
     "output_type": "stream",
     "text": [
      "<class 'pandas.core.frame.DataFrame'>\n",
      "RangeIndex: 9501 entries, 0 to 9500\n",
      "Data columns (total 39 columns):\n",
      " #   Column                      Non-Null Count  Dtype  \n",
      "---  ------                      --------------  -----  \n",
      " 0   day_ahead_price_ch          9501 non-null   float64\n",
      " 1   day_ahead_price_ch_last     9477 non-null   float64\n",
      " 2   day_ahead_price_ch_lag_24   9477 non-null   float64\n",
      " 3   day_ahead_price_ch_lag_25   9476 non-null   float64\n",
      " 4   day_ahead_price_ch_lag_26   9475 non-null   float64\n",
      " 5   day_ahead_price_ch_lag_27   9474 non-null   float64\n",
      " 6   day_ahead_price_ch_lag_28   9473 non-null   float64\n",
      " 7   day_ahead_price_ch_lag_29   9472 non-null   float64\n",
      " 8   day_ahead_price_ch_lag_30   9471 non-null   float64\n",
      " 9   day_ahead_price_ch_lag_31   9470 non-null   float64\n",
      " 10  day_ahead_price_ch_lag_32   9469 non-null   float64\n",
      " 11  day_ahead_price_ch_lag_33   9468 non-null   float64\n",
      " 12  day_ahead_price_ch_lag_34   9467 non-null   float64\n",
      " 13  day_ahead_price_ch_lag_35   9466 non-null   float64\n",
      " 14  day_ahead_price_ch_lag_36   9465 non-null   float64\n",
      " 15  day_ahead_price_ch_lag_37   9464 non-null   float64\n",
      " 16  day_ahead_price_ch_lag_38   9463 non-null   float64\n",
      " 17  day_ahead_price_ch_lag_39   9462 non-null   float64\n",
      " 18  day_ahead_price_ch_lag_40   9461 non-null   float64\n",
      " 19  day_ahead_price_ch_lag_41   9460 non-null   float64\n",
      " 20  day_ahead_price_ch_lag_42   9459 non-null   float64\n",
      " 21  day_ahead_price_ch_lag_43   9458 non-null   float64\n",
      " 22  day_ahead_price_ch_lag_44   9457 non-null   float64\n",
      " 23  day_ahead_price_ch_lag_45   9456 non-null   float64\n",
      " 24  day_ahead_price_ch_lag_46   9455 non-null   float64\n",
      " 25  day_ahead_price_ch_lag_47   9454 non-null   float64\n",
      " 26  day_ahead_price_ch_lag_48   9453 non-null   float64\n",
      " 27  day_ahead_price_ch_lag_72   9429 non-null   float64\n",
      " 28  day_ahead_price_ch_lag_96   9405 non-null   float64\n",
      " 29  day_ahead_price_ch_lag_120  9381 non-null   float64\n",
      " 30  day_ahead_price_ch_lag_144  9357 non-null   float64\n",
      " 31  day_ahead_price_ch_lag_168  9333 non-null   float64\n",
      " 32  day_ahead_price_ch_lag_192  9309 non-null   float64\n",
      " 33  day_ahead_price_ch_lag_216  9285 non-null   float64\n",
      " 34  day_ahead_price_ch_lag_240  9261 non-null   float64\n",
      " 35  day_ahead_price_ch_lag_264  9237 non-null   float64\n",
      " 36  day_ahead_price_ch_lag_288  9213 non-null   float64\n",
      " 37  day_ahead_price_ch_lag_312  9189 non-null   float64\n",
      " 38  day_ahead_price_ch_lag_336  9165 non-null   float64\n",
      "dtypes: float64(39)\n",
      "memory usage: 2.8 MB\n"
     ]
    }
   ],
   "source": [
    "df.filter(regex=\"day_ahead_price_ch\").info()"
   ]
  },
  {
   "cell_type": "markdown",
   "metadata": {},
   "source": [
    "### Additional Feature Generation\n",
    "\n",
    "- There might be a benefit of encoding cyclical calendar information\n",
    "- Additionally: Holidays"
   ]
  },
  {
   "cell_type": "markdown",
   "metadata": {},
   "source": [
    "Include a trend column:"
   ]
  },
  {
   "cell_type": "code",
   "execution_count": 341,
   "metadata": {},
   "outputs": [],
   "source": [
    "df = df.assign(trend=lambda x: x.index)"
   ]
  },
  {
   "cell_type": "code",
   "execution_count": 342,
   "metadata": {},
   "outputs": [],
   "source": [
    "# Define the country (Switzerland)\n",
    "country = \"CH\"\n",
    "\n",
    "regional_holidays = holidays.CH(\n",
    "    years=df.date.dt.year.unique().tolist()\n",
    ")"
   ]
  },
  {
   "cell_type": "code",
   "execution_count": 343,
   "metadata": {},
   "outputs": [
    {
     "data": {
      "text/html": [
       "<div>\n",
       "<style scoped>\n",
       "    .dataframe tbody tr th:only-of-type {\n",
       "        vertical-align: middle;\n",
       "    }\n",
       "\n",
       "    .dataframe tbody tr th {\n",
       "        vertical-align: top;\n",
       "    }\n",
       "\n",
       "    .dataframe thead th {\n",
       "        text-align: right;\n",
       "    }\n",
       "</style>\n",
       "<table border=\"1\" class=\"dataframe\">\n",
       "  <thead>\n",
       "    <tr style=\"text-align: right;\">\n",
       "      <th></th>\n",
       "      <th>holiday_name</th>\n",
       "      <th>holiday_date</th>\n",
       "    </tr>\n",
       "  </thead>\n",
       "  <tbody>\n",
       "    <tr>\n",
       "      <th>4</th>\n",
       "      <td>Neujahrestag</td>\n",
       "      <td>2023-01-01</td>\n",
       "    </tr>\n",
       "    <tr>\n",
       "      <th>5</th>\n",
       "      <td>Auffahrt</td>\n",
       "      <td>2023-05-18</td>\n",
       "    </tr>\n",
       "    <tr>\n",
       "      <th>6</th>\n",
       "      <td>Nationalfeiertag</td>\n",
       "      <td>2023-08-01</td>\n",
       "    </tr>\n",
       "    <tr>\n",
       "      <th>7</th>\n",
       "      <td>Weihnachten</td>\n",
       "      <td>2023-12-25</td>\n",
       "    </tr>\n",
       "    <tr>\n",
       "      <th>0</th>\n",
       "      <td>Neujahrestag</td>\n",
       "      <td>2024-01-01</td>\n",
       "    </tr>\n",
       "  </tbody>\n",
       "</table>\n",
       "</div>"
      ],
      "text/plain": [
       "       holiday_name holiday_date\n",
       "4      Neujahrestag   2023-01-01\n",
       "5          Auffahrt   2023-05-18\n",
       "6  Nationalfeiertag   2023-08-01\n",
       "7       Weihnachten   2023-12-25\n",
       "0      Neujahrestag   2024-01-01"
      ]
     },
     "execution_count": 343,
     "metadata": {},
     "output_type": "execute_result"
    }
   ],
   "source": [
    "holiday_df = pd.DataFrame(\n",
    "    {\n",
    "        \"holiday_name\": list(regional_holidays.values()),\n",
    "        \"holiday_date\": list(regional_holidays.keys()),\n",
    "    }\n",
    ")\n",
    "\n",
    "holiday_df.sort_values(\"holiday_date\").head()"
   ]
  },
  {
   "cell_type": "code",
   "execution_count": 344,
   "metadata": {},
   "outputs": [
    {
     "data": {
      "text/plain": [
       "holiday_name\n",
       "Auffahrt            2\n",
       "Nationalfeiertag    2\n",
       "Neujahrestag        2\n",
       "Weihnachten         2\n",
       "Name: count, dtype: int64"
      ]
     },
     "execution_count": 344,
     "metadata": {},
     "output_type": "execute_result"
    }
   ],
   "source": [
    "holiday_df.value_counts(\"holiday_name\")"
   ]
  },
  {
   "cell_type": "code",
   "execution_count": 345,
   "metadata": {},
   "outputs": [],
   "source": [
    "df = (\n",
    "    df.assign(\n",
    "        hour=lambda x: x.date.dt.hour + 1,\n",
    "        month=lambda x: x.date.dt.month,\n",
    "        quarter=lambda x: x.date.dt.quarter,\n",
    "        wday=lambda x: x.date.dt.day_of_week + 1,\n",
    "        weekend=lambda x: np.where(\n",
    "            x.date.dt.day_name().isin([\"Sunday\", \"Saturday\"]), 1, 0\n",
    "        ),\n",
    "        work_hour=lambda x: np.where(\n",
    "            x[\"hour\"].isin(np.arange(17, 24).tolist() + np.arange(1, 5).tolist()), 0, 1\n",
    "        ),\n",
    "        week_hour=lambda x: x.date.dt.dayofweek * 24 + (x.date.dt.hour + 1),\n",
    "        year=lambda x: x.date.dt.year,\n",
    "        hour_counter=lambda x: np.arange(0, x.shape[0]),\n",
    "    )\n",
    "    .assign(day=lambda x: x.date.dt.date)\n",
    "    .merge(holiday_df, how=\"left\", left_on=\"day\", right_on=\"holiday_date\")\n",
    "    .drop([\"holiday_date\", \"day\"], axis=1)\n",
    "    .assign(\n",
    "        holiday_name=lambda x: np.where(\n",
    "            x[\"holiday_name\"].isna(), \"none\", x[\"holiday_name\"]\n",
    "        )\n",
    "    )\n",
    ")"
   ]
  },
  {
   "cell_type": "code",
   "execution_count": 346,
   "metadata": {},
   "outputs": [
    {
     "data": {
      "text/plain": [
       "holiday_name\n",
       "none                9381\n",
       "Neujahrestag          48\n",
       "Auffahrt              24\n",
       "Nationalfeiertag      24\n",
       "Weihnachten           24\n",
       "Name: count, dtype: int64"
      ]
     },
     "execution_count": 346,
     "metadata": {},
     "output_type": "execute_result"
    }
   ],
   "source": [
    "df.value_counts(\"holiday_name\")"
   ]
  },
  {
   "cell_type": "markdown",
   "metadata": {},
   "source": [
    "### Feature Engineering"
   ]
  },
  {
   "cell_type": "markdown",
   "metadata": {},
   "source": [
    "Other:\n",
    "- `date`: drop, can't feed into net\n",
    "\n",
    "Numerical:\n",
    "- everything but `holiday_name`\n",
    "\n",
    "Categorical\n",
    "- `holiday_name`: one-hot encode"
   ]
  },
  {
   "cell_type": "markdown",
   "metadata": {},
   "source": [
    "#### Cyclical Encoding"
   ]
  },
  {
   "cell_type": "markdown",
   "metadata": {},
   "source": [
    "- avoid issue with exploding feature space when one-hot encoding hundreds of levels in categorical vars\n",
    "- puts end of cycle closer to beginning (End of Year is not that different from BOY)"
   ]
  },
  {
   "cell_type": "code",
   "execution_count": 347,
   "metadata": {},
   "outputs": [],
   "source": [
    "def sin_transformer(period):\n",
    "    return FunctionTransformer(lambda x: np.sin(x / period * 2 * np.pi))\n",
    "\n",
    "\n",
    "def cos_transformer(period):\n",
    "    return FunctionTransformer(lambda x: np.cos(x / period * 2 * np.pi))"
   ]
  },
  {
   "cell_type": "code",
   "execution_count": 348,
   "metadata": {},
   "outputs": [],
   "source": [
    "# hour in day\n",
    "df[\"hour_sin\"] = sin_transformer(24).fit_transform(df[\"hour\"].astype(float))\n",
    "df[\"hour_cos\"] = cos_transformer(24).fit_transform(df[\"hour\"].astype(float))\n",
    "\n",
    "# hour in week\n",
    "df[\"week_hour_sin\"] = sin_transformer(168).fit_transform(df[\"week_hour\"].astype(float))\n",
    "df[\"week_hour_cos\"] = cos_transformer(168).fit_transform(df[\"week_hour\"].astype(float))\n",
    "\n",
    "# month\n",
    "df[\"month_sin\"] = sin_transformer(12).fit_transform(df[\"month\"].astype(float))\n",
    "df[\"month_cos\"] = cos_transformer(12).fit_transform(df[\"month\"].astype(float))\n",
    "\n",
    "# quarter\n",
    "df[\"quarter_sin\"] = sin_transformer(4).fit_transform(df[\"quarter\"].astype(float))\n",
    "df[\"quarter_cos\"] = cos_transformer(4).fit_transform(df[\"quarter\"].astype(float))\n",
    "\n",
    "# weekday\n",
    "df[\"wday_sin\"] = sin_transformer(7).fit_transform(df[\"wday\"].astype(float))\n",
    "df[\"wday_cos\"] = cos_transformer(7).fit_transform(df[\"wday\"].astype(float))\n",
    "\n",
    "df = df.drop([\"hour\", \"month\", \"quarter\", \"wday\", \"week_hour\"], axis=1)"
   ]
  },
  {
   "cell_type": "markdown",
   "metadata": {},
   "source": [
    "#### `sklearn` Pipeline for Data Preparation"
   ]
  },
  {
   "cell_type": "code",
   "execution_count": 349,
   "metadata": {},
   "outputs": [],
   "source": [
    "manual_cols = [\"trend\", \"unique_id\"]\n",
    "drop_cols = [\"date\", \"day_ahead_price_ch\"]\n",
    "\n",
    "pipeline_cols = [\n",
    "    col\n",
    "    for col in df.drop(drop_cols, axis=1).columns\n",
    "    if col not in manual_cols\n",
    "]\n",
    "\n",
    "num_cols = (\n",
    "    df.drop(drop_cols, axis=1)\n",
    "    .filter(pipeline_cols)\n",
    "    .select_dtypes(include=np.number)\n",
    "    .columns\n",
    ")\n",
    "cat_cols = (\n",
    "    df.drop(drop_cols, axis=1)\n",
    "    .filter(pipeline_cols)\n",
    "    .select_dtypes(exclude=np.number)\n",
    "    .columns\n",
    ")"
   ]
  },
  {
   "cell_type": "code",
   "execution_count": 350,
   "metadata": {},
   "outputs": [
    {
     "data": {
      "text/plain": [
       "['auction_price_ch_de',\n",
       " 'auction_price_de_ch',\n",
       " 'dst',\n",
       " 'day_ahead_price_at',\n",
       " 'day_ahead_price_de',\n",
       " 'day_ahead_price_fr',\n",
       " 'day_ahead_price_it',\n",
       " 'actual_load_at',\n",
       " 'actual_load_ch',\n",
       " 'actual_load_de',\n",
       " 'actual_load_fr',\n",
       " 'actual_load_it',\n",
       " 'allocated_capacity_ch_de',\n",
       " 'allocated_capacity_de_ch',\n",
       " 'biomass_actual_aggregated_at',\n",
       " 'biomass_actual_aggregated_de',\n",
       " 'biomass_actual_aggregated_fr',\n",
       " 'biomass_actual_aggregated_it',\n",
       " 'capacity_forecast_at_ch',\n",
       " 'capacity_forecast_ch_at',\n",
       " 'capacity_forecast_ch_de_lu',\n",
       " 'capacity_forecast_ch_fr',\n",
       " 'capacity_forecast_ch_it',\n",
       " 'capacity_forecast_de_lu_ch',\n",
       " 'capacity_forecast_fr_ch',\n",
       " 'capacity_forecast_it_ch',\n",
       " 'crossborder_actual_flow_at_ch',\n",
       " 'crossborder_actual_flow_ch_at',\n",
       " 'crossborder_actual_flow_ch_de_lu',\n",
       " 'crossborder_actual_flow_ch_fr',\n",
       " 'crossborder_actual_flow_ch_it',\n",
       " 'crossborder_actual_flow_de_lu_ch',\n",
       " 'crossborder_actual_flow_fr_ch',\n",
       " 'crossborder_actual_flow_it_ch',\n",
       " 'fossil_brown_coal_lignite_actual_aggregated_de',\n",
       " 'fossil_coal_derived_gas_actual_aggregated_it',\n",
       " 'fossil_gas_actual_aggregated_at',\n",
       " 'fossil_gas_actual_aggregated_de',\n",
       " 'fossil_gas_actual_aggregated_fr',\n",
       " 'fossil_gas_actual_aggregated_it',\n",
       " 'fossil_hard_coal_actual_aggregated_de',\n",
       " 'fossil_hard_coal_actual_aggregated_fr',\n",
       " 'fossil_hard_coal_actual_aggregated_it',\n",
       " 'fossil_oil_actual_aggregated_de',\n",
       " 'fossil_oil_actual_aggregated_fr',\n",
       " 'fossil_oil_actual_aggregated_it',\n",
       " 'geothermal_actual_aggregated_de',\n",
       " 'geothermal_actual_aggregated_it',\n",
       " 'hydro_pumped_storage_actual_aggregated_at',\n",
       " 'hydro_pumped_storage_actual_aggregated_de',\n",
       " 'hydro_pumped_storage_actual_aggregated_fr',\n",
       " 'hydro_pumped_storage_actual_aggregated_it',\n",
       " 'hydro_pumped_storage_actual_consumption_at',\n",
       " 'hydro_pumped_storage_actual_consumption_de',\n",
       " 'hydro_pumped_storage_actual_consumption_fr',\n",
       " 'hydro_pumped_storage_actual_consumption_it',\n",
       " 'hydro_pumped_storage_ch',\n",
       " 'hydro_reservoir_storage_at',\n",
       " 'hydro_reservoir_storage_ch',\n",
       " 'hydro_reservoir_storage_fr',\n",
       " 'hydro_reservoir_storage_it',\n",
       " 'hydro_run_of_river_and_poundage_actual_aggregated_at',\n",
       " 'hydro_run_of_river_and_poundage_actual_aggregated_de',\n",
       " 'hydro_run_of_river_and_poundage_actual_aggregated_fr',\n",
       " 'hydro_run_of_river_and_poundage_actual_aggregated_it',\n",
       " 'hydro_run_of_river_and_poundage_ch',\n",
       " 'hydro_water_reservoir_actual_aggregated_at',\n",
       " 'hydro_water_reservoir_actual_aggregated_de',\n",
       " 'hydro_water_reservoir_actual_aggregated_fr',\n",
       " 'hydro_water_reservoir_actual_aggregated_it',\n",
       " 'hydro_water_reservoir_ch',\n",
       " 'nuclear_actual_aggregated_de',\n",
       " 'nuclear_actual_aggregated_fr',\n",
       " 'nuclear_ch',\n",
       " 'other_actual_aggregated_de',\n",
       " 'other_actual_aggregated_it',\n",
       " 'other_renewable_actual_aggregated_de',\n",
       " 'solar_actual_aggregated_at',\n",
       " 'solar_actual_aggregated_de',\n",
       " 'solar_actual_aggregated_fr',\n",
       " 'solar_actual_aggregated_it',\n",
       " 'solar_ch',\n",
       " 'solar_forecast_at',\n",
       " 'solar_forecast_ch',\n",
       " 'solar_forecast_de',\n",
       " 'solar_forecast_fr',\n",
       " 'solar_forecast_it',\n",
       " 'waste_actual_aggregated_de',\n",
       " 'waste_actual_aggregated_fr',\n",
       " 'waste_actual_aggregated_it',\n",
       " 'wind_offshore_actual_aggregated_de',\n",
       " 'wind_offshore_actual_aggregated_fr',\n",
       " 'wind_offshore_actual_aggregated_it',\n",
       " 'wind_offshore_forecast_de',\n",
       " 'wind_onshore_actual_aggregated_at',\n",
       " 'wind_onshore_actual_aggregated_de',\n",
       " 'wind_onshore_actual_aggregated_fr',\n",
       " 'wind_onshore_actual_aggregated_it',\n",
       " 'wind_onshore_ch',\n",
       " 'wind_onshore_forecast_at',\n",
       " 'wind_onshore_forecast_de',\n",
       " 'wind_onshore_forecast_fr',\n",
       " 'day_ahead_price_ch_last',\n",
       " 'day_ahead_price_ch_lag_24',\n",
       " 'day_ahead_price_ch_lag_25',\n",
       " 'day_ahead_price_ch_lag_26',\n",
       " 'day_ahead_price_ch_lag_27',\n",
       " 'day_ahead_price_ch_lag_28',\n",
       " 'day_ahead_price_ch_lag_29',\n",
       " 'day_ahead_price_ch_lag_30',\n",
       " 'day_ahead_price_ch_lag_31',\n",
       " 'day_ahead_price_ch_lag_32',\n",
       " 'day_ahead_price_ch_lag_33',\n",
       " 'day_ahead_price_ch_lag_34',\n",
       " 'day_ahead_price_ch_lag_35',\n",
       " 'day_ahead_price_ch_lag_36',\n",
       " 'day_ahead_price_ch_lag_37',\n",
       " 'day_ahead_price_ch_lag_38',\n",
       " 'day_ahead_price_ch_lag_39',\n",
       " 'day_ahead_price_ch_lag_40',\n",
       " 'day_ahead_price_ch_lag_41',\n",
       " 'day_ahead_price_ch_lag_42',\n",
       " 'day_ahead_price_ch_lag_43',\n",
       " 'day_ahead_price_ch_lag_44',\n",
       " 'day_ahead_price_ch_lag_45',\n",
       " 'day_ahead_price_ch_lag_46',\n",
       " 'day_ahead_price_ch_lag_47',\n",
       " 'day_ahead_price_ch_lag_48',\n",
       " 'day_ahead_price_ch_lag_72',\n",
       " 'day_ahead_price_ch_lag_96',\n",
       " 'day_ahead_price_ch_lag_120',\n",
       " 'day_ahead_price_ch_lag_144',\n",
       " 'day_ahead_price_ch_lag_168',\n",
       " 'day_ahead_price_ch_lag_192',\n",
       " 'day_ahead_price_ch_lag_216',\n",
       " 'day_ahead_price_ch_lag_240',\n",
       " 'day_ahead_price_ch_lag_264',\n",
       " 'day_ahead_price_ch_lag_288',\n",
       " 'day_ahead_price_ch_lag_312',\n",
       " 'day_ahead_price_ch_lag_336',\n",
       " 'weekend',\n",
       " 'work_hour',\n",
       " 'year',\n",
       " 'hour_counter',\n",
       " 'holiday_name',\n",
       " 'hour_sin',\n",
       " 'hour_cos',\n",
       " 'week_hour_sin',\n",
       " 'week_hour_cos',\n",
       " 'month_sin',\n",
       " 'month_cos',\n",
       " 'quarter_sin',\n",
       " 'quarter_cos',\n",
       " 'wday_sin',\n",
       " 'wday_cos']"
      ]
     },
     "execution_count": 350,
     "metadata": {},
     "output_type": "execute_result"
    }
   ],
   "source": [
    "pipeline_cols"
   ]
  },
  {
   "cell_type": "code",
   "execution_count": 351,
   "metadata": {},
   "outputs": [
    {
     "data": {
      "text/plain": [
       "Index(['auction_price_ch_de', 'auction_price_de_ch', 'dst',\n",
       "       'day_ahead_price_at', 'day_ahead_price_de', 'day_ahead_price_fr',\n",
       "       'day_ahead_price_it', 'actual_load_at', 'actual_load_ch',\n",
       "       'actual_load_de',\n",
       "       ...\n",
       "       'hour_sin', 'hour_cos', 'week_hour_sin', 'week_hour_cos', 'month_sin',\n",
       "       'month_cos', 'quarter_sin', 'quarter_cos', 'wday_sin', 'wday_cos'],\n",
       "      dtype='object', length=154)"
      ]
     },
     "execution_count": 351,
     "metadata": {},
     "output_type": "execute_result"
    }
   ],
   "source": [
    "num_cols"
   ]
  },
  {
   "cell_type": "code",
   "execution_count": 352,
   "metadata": {},
   "outputs": [
    {
     "data": {
      "text/plain": [
       "Index(['holiday_name'], dtype='object')"
      ]
     },
     "execution_count": 352,
     "metadata": {},
     "output_type": "execute_result"
    }
   ],
   "source": [
    "cat_cols"
   ]
  },
  {
   "cell_type": "code",
   "execution_count": 353,
   "metadata": {},
   "outputs": [],
   "source": [
    "numeric_transformer = Pipeline(\n",
    "    steps=[\n",
    "        (\"imputer\", SimpleImputer()),\n",
    "        # (\"scaler\", StandardScaler())\n",
    "    ]\n",
    ")\n",
    "\n",
    "categorical_transformer = Pipeline(\n",
    "    steps=[\n",
    "        (\"imputer\", SimpleImputer(strategy=\"most_frequent\")),\n",
    "        (\n",
    "            \"encoder\",\n",
    "            OneHotEncoder(sparse_output=False, handle_unknown=\"ignore\"),\n",
    "        ),\n",
    "    ]\n",
    ")\n",
    "\n",
    "# Making column transformer where all transformers in the pipelines are included\n",
    "preprocessor = ColumnTransformer(\n",
    "    transformers=[\n",
    "        (\"numeric\", numeric_transformer, num_cols),\n",
    "        (\"categorical\", categorical_transformer, cat_cols),\n",
    "    ],\n",
    "    remainder=\"passthrough\",\n",
    ")"
   ]
  },
  {
   "cell_type": "markdown",
   "metadata": {},
   "source": [
    "### ElasticNet"
   ]
  },
  {
   "cell_type": "code",
   "execution_count": 354,
   "metadata": {},
   "outputs": [],
   "source": [
    "train_end = pd.Timestamp(\"2023-09-01\").tz_localize(\"UTC\")\n",
    "val_end = pd.Timestamp(\"2024-01-01\").tz_localize(\"UTC\")\n",
    "\n",
    "# Create splits\n",
    "df_train = df.query(\"date < @val_end\").reset_index(drop=True)\n",
    "# df_val = df.query(\"date < @val_end\").query(\"date >= @train_end\")\n",
    "df_test = df.query(\"date >= @val_end\")"
   ]
  },
  {
   "cell_type": "code",
   "execution_count": 355,
   "metadata": {},
   "outputs": [
    {
     "data": {
      "text/plain": [
       "array([datetime.date(2024, 1, 1), datetime.date(2024, 1, 2),\n",
       "       datetime.date(2024, 1, 3), datetime.date(2024, 1, 4),\n",
       "       datetime.date(2024, 1, 5), datetime.date(2024, 1, 6),\n",
       "       datetime.date(2024, 1, 7), datetime.date(2024, 1, 8),\n",
       "       datetime.date(2024, 1, 9), datetime.date(2024, 1, 10),\n",
       "       datetime.date(2024, 1, 11), datetime.date(2024, 1, 12),\n",
       "       datetime.date(2024, 1, 13), datetime.date(2024, 1, 14),\n",
       "       datetime.date(2024, 1, 15), datetime.date(2024, 1, 16),\n",
       "       datetime.date(2024, 1, 17), datetime.date(2024, 1, 18),\n",
       "       datetime.date(2024, 1, 19), datetime.date(2024, 1, 20),\n",
       "       datetime.date(2024, 1, 21), datetime.date(2024, 1, 22),\n",
       "       datetime.date(2024, 1, 23), datetime.date(2024, 1, 24),\n",
       "       datetime.date(2024, 1, 25), datetime.date(2024, 1, 26),\n",
       "       datetime.date(2024, 1, 27), datetime.date(2024, 1, 28),\n",
       "       datetime.date(2024, 1, 29), datetime.date(2024, 1, 30),\n",
       "       datetime.date(2024, 1, 31)], dtype=object)"
      ]
     },
     "execution_count": 355,
     "metadata": {},
     "output_type": "execute_result"
    }
   ],
   "source": [
    "test_days = df_test.date.dt.date.unique()\n",
    "test_days"
   ]
  },
  {
   "cell_type": "code",
   "execution_count": null,
   "metadata": {},
   "outputs": [
    {
     "data": {
      "application/vnd.jupyter.widget-view+json": {
       "model_id": "8de09e9cffb2472dbd5bd7f0142661d7",
       "version_major": 2,
       "version_minor": 0
      },
      "text/plain": [
       "  0%|          | 0/31 [00:00<?, ?it/s]"
      ]
     },
     "metadata": {},
     "output_type": "display_data"
    }
   ],
   "source": [
    "preds = []\n",
    "lookback_days = 30\n",
    "\n",
    "for current_day in tqdm(test_days):\n",
    "    train_start_day = current_day - pd.Timedelta(days=lookback_days)\n",
    "    train_end_day = current_day - pd.Timedelta(days=1)\n",
    "    \n",
    "    df_train = df.query(\"@train_start_day <= date.dt.date <= @train_end_day\")\n",
    "    df_test = df.query(\"date.dt.date == @current_day\")\n",
    "    \n",
    "    # Split data\n",
    "    X_train = df_train.drop(columns=[\"date\", \"day_ahead_price_ch\"])\n",
    "    y_train = df_train[\"day_ahead_price_ch\"]\n",
    "\n",
    "    X_test = df_test.drop(columns=[\"date\", \"day_ahead_price_ch\"])\n",
    "    y_test = df_test[\"day_ahead_price_ch\"]\n",
    "\n",
    "    # Preprocess data\n",
    "    fitted_preprocessor = preprocessor.fit(X_train)\n",
    "\n",
    "    X_train_preprocessed = pd.DataFrame(\n",
    "        fitted_preprocessor.transform(X_train),\n",
    "        columns=fitted_preprocessor.get_feature_names_out(),\n",
    "    )\n",
    "\n",
    "    X_test_preprocessed = pd.DataFrame(\n",
    "        fitted_preprocessor.transform(X_test),\n",
    "        columns=fitted_preprocessor.get_feature_names_out(),\n",
    "    )\n",
    "    \n",
    "    # Replace prefixes in column names\n",
    "    new_cols = X_train_preprocessed.columns.str.replace('numeric__', '').str.replace('categorical__', '').str.replace('remainder__', '')\n",
    "\n",
    "    # Assign new column names to the DataFrame\n",
    "    X_train_preprocessed.columns = new_cols\n",
    "    X_test_preprocessed.columns = new_cols\n",
    "\n",
    "    # Scale data\n",
    "    scaler = StandardScaler()\n",
    "    X_train_preprocessed = scaler.fit_transform(X_train_preprocessed)\n",
    "    X_test_preprocessed = scaler.transform(X_test_preprocessed)\n",
    "\n",
    "    # Create ElasticNet Model\n",
    "    model = ElasticNet()\n",
    "    model.fit(X_train_preprocessed, y_train)\n",
    "\n",
    "    # Make predictions on validation set\n",
    "    y_pred = model.predict(X_test_preprocessed)\n",
    "\n",
    "    preds.extend(y_pred.tolist())"
   ]
  },
  {
   "cell_type": "code",
   "execution_count": null,
   "metadata": {},
   "outputs": [],
   "source": [
    "preds = pd.DataFrame({\n",
    "    \"date\": df.query(\"date.dt.date in @test_days\")[\"date\"].to_list(),\n",
    "    \"preds\": preds,\n",
    "    \"actual\": df.query(\"date.dt.date in @test_days\")[\"day_ahead_price_ch\"].to_list()\n",
    "})"
   ]
  },
  {
   "cell_type": "code",
   "execution_count": null,
   "metadata": {},
   "outputs": [
    {
     "data": {
      "text/plain": [
       "<Axes: xlabel='date'>"
      ]
     },
     "execution_count": 209,
     "metadata": {},
     "output_type": "execute_result"
    },
    {
     "data": {
      "image/png": "[encoded data removed]",
      "text/plain": [
       "<Figure size 2000x400 with 1 Axes>"
      ]
     },
     "metadata": {},
     "output_type": "display_data"
    }
   ],
   "source": [
    "preds.plot(x=\"date\", y=[\"preds\", \"actual\"], figsize=(20, 4))"
   ]
  },
  {
   "cell_type": "code",
   "execution_count": null,
   "metadata": {},
   "outputs": [],
   "source": [
    "baseline = (\n",
    "    df.assign(baseline=lambda x: x.day_ahead_price_ch.shift(24))\n",
    "    .query(\"date.dt.date in @test_days\")\n",
    "    .filter([\"date\", \"day_ahead_price_ch\", \"baseline\"])\n",
    "    .rename(columns={\"baseline\": \"preds\", \"day_ahead_price_ch\": \"actual\"})\n",
    ")"
   ]
  },
  {
   "cell_type": "code",
   "execution_count": null,
   "metadata": {},
   "outputs": [
    {
     "name": "stdout",
     "output_type": "stream",
     "text": [
      "Metric for ElasticNet Model\n",
      "R2 Score:  0.7633488571982341\n",
      "MAE:  8.614326229099248\n",
      "MAPE:  0.12355483453218244\n",
      "RMSE:  11.262894846406757\n"
     ]
    }
   ],
   "source": [
    "print(\"Metric for ElasticNet Model\")\n",
    "print(\"R2 Score: \", r2_score(preds[\"actual\"], preds[\"preds\"]))\n",
    "print(\"MAE: \", mean_absolute_error(preds[\"actual\"], preds[\"preds\"]))\n",
    "print(\"MAPE: \", mean_absolute_percentage_error(preds[\"actual\"], preds[\"preds\"]))\n",
    "print(\"RMSE: \", root_mean_squared_error(preds[\"actual\"], preds[\"preds\"]))"
   ]
  },
  {
   "cell_type": "code",
   "execution_count": null,
   "metadata": {},
   "outputs": [
    {
     "name": "stdout",
     "output_type": "stream",
     "text": [
      "Metric for baseline model\n",
      "R2 Score:  0.693600766406421\n",
      "MAE:  8.569030955585465\n",
      "MAPE:  0.11511246599495328\n",
      "RMSE:  12.815618294665404\n"
     ]
    }
   ],
   "source": [
    "print(\"Metric for baseline model\")\n",
    "print(\"R2 Score: \", r2_score(baseline[\"actual\"], baseline[\"preds\"]))\n",
    "print(\"MAE: \", mean_absolute_error(baseline[\"actual\"], baseline[\"preds\"]))\n",
    "print(\"MAPE: \", mean_absolute_percentage_error(baseline[\"actual\"], baseline[\"preds\"]))\n",
    "print(\"RMSE: \", root_mean_squared_error(baseline[\"actual\"], baseline[\"preds\"]))"
   ]
  }
 ],
 "metadata": {
  "kernelspec": {
   "display_name": "statslab",
   "language": "python",
   "name": "python3"
  },
  "language_info": {
   "codemirror_mode": {
    "name": "ipython",
    "version": 3
   },
   "file_extension": ".py",
   "mimetype": "text/x-python",
   "name": "python",
   "nbconvert_exporter": "python",
   "pygments_lexer": "ipython3",
   "version": "3.10.14"
  }
 },
 "nbformat": 4,
 "nbformat_minor": 2
}
