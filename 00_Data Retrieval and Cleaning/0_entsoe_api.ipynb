{
 "cells": [
  {
   "cell_type": "markdown",
   "metadata": {},
   "source": [
    "# Retrieving Data from the ENTSO-E Transparency Platform"
   ]
  },
  {
   "cell_type": "code",
   "execution_count": 12,
   "metadata": {},
   "outputs": [
    {
     "name": "stdout",
     "output_type": "stream",
     "text": [
      "The blackcellmagic extension is already loaded. To reload it, use:\n",
      "  %reload_ext blackcellmagic\n"
     ]
    }
   ],
   "source": [
    "import pandas as pd\n",
    "import polars as pl\n",
    "import polars.selectors as cs\n",
    "import numpy as np\n",
    "import plotnine as pn\n",
    "from mizani.formatters import comma_format, custom_format, currency_format, percent_format\n",
    "from IPython.display import clear_output, display\n",
    "import os\n",
    "import glob\n",
    "from entsoe import EntsoePandasClient, EntsoeRawClient\n",
    "from tqdm.notebook import tqdm\n",
    "import itertools\n",
    "import yaml\n",
    "\n",
    "jama_colour = [\n",
    "    \"#374e55\",\n",
    "    \"#df8f44\",\n",
    "    \"#00a1d5\",\n",
    "    \"#b24745\",\n",
    "    \"#79af97\",\n",
    "]\n",
    "\n",
    "pd.set_option(\"display.max.columns\", 500)\n",
    "pd.set_option(\"display.max.columns\", 500)\n",
    "background_colour = \"#F2F2F2\"\n",
    "pn.theme_set(\n",
    "    pn.theme_classic()\n",
    "    + pn.theme(\n",
    "        figure_size=[7, 7/1.618],\n",
    "        text=pn.element_text(family=\"monospace\"),\n",
    "        plot_background=pn.element_rect(\n",
    "            fill=background_colour, colour=background_colour\n",
    "        ),\n",
    "        panel_background=pn.element_rect(\n",
    "            fill=background_colour, colour=background_colour\n",
    "        ),\n",
    "        legend_background=pn.element_rect(\n",
    "            fill=background_colour, colour=background_colour\n",
    "        ),\n",
    "    )\n",
    ")\n",
    "\n",
    "\n",
    "%load_ext blackcellmagic\n",
    "%matplotlib inline"
   ]
  },
  {
   "cell_type": "markdown",
   "metadata": {},
   "source": [
    "### Establishing Connection to ENTSO-E API"
   ]
  },
  {
   "cell_type": "code",
   "execution_count": 2,
   "metadata": {},
   "outputs": [],
   "source": [
    "with open(\"../../config.yaml\", \"r\") as f:\n",
    "    config = yaml.safe_load(f)\n",
    "\n",
    "client = EntsoePandasClient(api_key=config[\"entsoe\"])\n",
    "\n",
    "# Keep home timezone instead of UTC, can always convert to UTC later\n",
    "start = pd.Timestamp(\"20190101\", tz='Europe/Brussels')\n",
    "end = pd.Timestamp(\"20240201\", tz='Europe/Brussels')"
   ]
  },
  {
   "cell_type": "markdown",
   "metadata": {},
   "source": [
    "### Day-Ahead Prices"
   ]
  },
  {
   "cell_type": "code",
   "execution_count": 3,
   "metadata": {},
   "outputs": [
    {
     "data": {
      "application/vnd.jupyter.widget-view+json": {
       "model_id": "b8e38c89f8514f3883f49d01963de4aa",
       "version_major": 2,
       "version_minor": 0
      },
      "text/plain": [
       "  0%|          | 0/5 [00:00<?, ?it/s]"
      ]
     },
     "metadata": {},
     "output_type": "display_data"
    }
   ],
   "source": [
    "country_codes = [\"DE_LU\", \"CH\", \"FR\", \"IT\", \"AT\"]\n",
    "\n",
    "for country_code in tqdm(country_codes):\n",
    "    try:\n",
    "        data = client.query_day_ahead_prices(country_code=country_code, start=start, end=end, resolution=\"60min\")\n",
    "        df_out = pd.DataFrame(data, columns=[\"price\"]).reset_index(names=\"date\")\n",
    "        df_out.to_csv(f\"day_ahead_prices_{country_code}.csv\", index=False)\n",
    "    except:\n",
    "        pass"
   ]
  },
  {
   "cell_type": "markdown",
   "metadata": {},
   "source": [
    "### Load"
   ]
  },
  {
   "cell_type": "code",
   "execution_count": 4,
   "metadata": {},
   "outputs": [
    {
     "data": {
      "application/vnd.jupyter.widget-view+json": {
       "model_id": "38905353a350476ea1f3d24eeba93b90",
       "version_major": 2,
       "version_minor": 0
      },
      "text/plain": [
       "  0%|          | 0/5 [00:00<?, ?it/s]"
      ]
     },
     "metadata": {},
     "output_type": "display_data"
    }
   ],
   "source": [
    "country_codes = [\"DE_LU\", \"CH\", \"FR\", \"IT\", \"AT\"]\n",
    "\n",
    "for country_code in tqdm(country_codes):\n",
    "    try:\n",
    "        data = client.query_load(country_code=country_code, start=start, end=end)\n",
    "        df_out = pd.DataFrame(data).reset_index().rename(columns={\"index\": \"date\", \"Actual Load\": \"actual_load\"})\n",
    "        df_out.to_csv(f\"actual_load_{country_code}.csv\", index=False)\n",
    "    except:\n",
    "        pass"
   ]
  },
  {
   "cell_type": "markdown",
   "metadata": {},
   "source": [
    "### Generation: Forecast wind and solar"
   ]
  },
  {
   "cell_type": "code",
   "execution_count": 5,
   "metadata": {},
   "outputs": [
    {
     "data": {
      "application/vnd.jupyter.widget-view+json": {
       "model_id": "a75a34b297df4e35b89dbbf99a4db4ba",
       "version_major": 2,
       "version_minor": 0
      },
      "text/plain": [
       "  0%|          | 0/5 [00:00<?, ?it/s]"
      ]
     },
     "metadata": {},
     "output_type": "display_data"
    }
   ],
   "source": [
    "country_codes = [\"DE_LU\", \"CH\", \"FR\", \"IT\", \"AT\"]\n",
    "\n",
    "for country_code in tqdm(country_codes):\n",
    "    try:\n",
    "        data = client.query_wind_and_solar_forecast(country_code=country_code, start=start, end=end)\n",
    "        df_out = pd.DataFrame(data).reset_index().rename(columns={\"index\": \"date\", \"Solar\": \"solar_forecast\", \"Wind Onshore\": \"wind_onshore_forecast\", \"Wind Offshore\": \"wind_offshore_forecast\"})\n",
    "        df_out.to_csv(f\"wind_solar_forecast_{country_code}.csv\", index=False)\n",
    "    except:\n",
    "        pass"
   ]
  },
  {
   "cell_type": "markdown",
   "metadata": {},
   "source": [
    "### Generation: Actual values all types"
   ]
  },
  {
   "cell_type": "code",
   "execution_count": 6,
   "metadata": {},
   "outputs": [
    {
     "data": {
      "application/vnd.jupyter.widget-view+json": {
       "model_id": "7db731243a14459eaa679a1c3cd33766",
       "version_major": 2,
       "version_minor": 0
      },
      "text/plain": [
       "  0%|          | 0/5 [00:00<?, ?it/s]"
      ]
     },
     "metadata": {},
     "output_type": "display_data"
    }
   ],
   "source": [
    "country_codes = [\"DE_LU\", \"CH\", \"FR\", \"IT\", \"AT\"]\n",
    "\n",
    "for country_code in tqdm(country_codes):\n",
    "    try:\n",
    "        data = client.query_generation(country_code=country_code, start=start, end=end)\n",
    "        df_out = pd.DataFrame(data).reset_index().rename(columns={\"index\": \"date\"})\n",
    "        df_out.to_csv(f\"generation_actual_all_{country_code}.csv\", index=False)\n",
    "    except:\n",
    "        pass"
   ]
  },
  {
   "cell_type": "markdown",
   "metadata": {},
   "source": [
    "### Water Reservoirs"
   ]
  },
  {
   "cell_type": "code",
   "execution_count": 7,
   "metadata": {},
   "outputs": [
    {
     "data": {
      "application/vnd.jupyter.widget-view+json": {
       "model_id": "dfb479cc29f84179a0e16334fec5f322",
       "version_major": 2,
       "version_minor": 0
      },
      "text/plain": [
       "  0%|          | 0/5 [00:00<?, ?it/s]"
      ]
     },
     "metadata": {},
     "output_type": "display_data"
    }
   ],
   "source": [
    "country_codes = [\"DE_LU\", \"CH\", \"FR\", \"IT\", \"AT\"]\n",
    "\n",
    "for country_code in tqdm(country_codes):\n",
    "    try:\n",
    "        data = client.query_aggregate_water_reservoirs_and_hydro_storage(country_code=country_code, start=start, end=end)\n",
    "        df_out = pd.DataFrame(data).reset_index().rename(columns={\"index\": \"date\", 0: \"hydro_reservoir_storage_mwh\"})\n",
    "        df_out.to_csv(f\"hydro_reservoir_storage_{country_code}.csv\", index=False)\n",
    "    except:\n",
    "        pass"
   ]
  },
  {
   "cell_type": "markdown",
   "metadata": {},
   "source": [
    "### Crossborder Flows (real, physical)"
   ]
  },
  {
   "cell_type": "code",
   "execution_count": 8,
   "metadata": {},
   "outputs": [
    {
     "data": {
      "text/html": [
       "<div>\n",
       "<style scoped>\n",
       "    .dataframe tbody tr th:only-of-type {\n",
       "        vertical-align: middle;\n",
       "    }\n",
       "\n",
       "    .dataframe tbody tr th {\n",
       "        vertical-align: top;\n",
       "    }\n",
       "\n",
       "    .dataframe thead th {\n",
       "        text-align: right;\n",
       "    }\n",
       "</style>\n",
       "<table border=\"1\" class=\"dataframe\">\n",
       "  <thead>\n",
       "    <tr style=\"text-align: right;\">\n",
       "      <th></th>\n",
       "      <th>from_country</th>\n",
       "      <th>to_country</th>\n",
       "    </tr>\n",
       "  </thead>\n",
       "  <tbody>\n",
       "    <tr>\n",
       "      <th>0</th>\n",
       "      <td>DE_LU</td>\n",
       "      <td>CH</td>\n",
       "    </tr>\n",
       "    <tr>\n",
       "      <th>1</th>\n",
       "      <td>CH</td>\n",
       "      <td>DE_LU</td>\n",
       "    </tr>\n",
       "    <tr>\n",
       "      <th>2</th>\n",
       "      <td>CH</td>\n",
       "      <td>FR</td>\n",
       "    </tr>\n",
       "    <tr>\n",
       "      <th>3</th>\n",
       "      <td>CH</td>\n",
       "      <td>IT</td>\n",
       "    </tr>\n",
       "    <tr>\n",
       "      <th>4</th>\n",
       "      <td>CH</td>\n",
       "      <td>AT</td>\n",
       "    </tr>\n",
       "    <tr>\n",
       "      <th>5</th>\n",
       "      <td>FR</td>\n",
       "      <td>CH</td>\n",
       "    </tr>\n",
       "    <tr>\n",
       "      <th>6</th>\n",
       "      <td>IT</td>\n",
       "      <td>CH</td>\n",
       "    </tr>\n",
       "    <tr>\n",
       "      <th>7</th>\n",
       "      <td>AT</td>\n",
       "      <td>CH</td>\n",
       "    </tr>\n",
       "  </tbody>\n",
       "</table>\n",
       "</div>"
      ],
      "text/plain": [
       "  from_country to_country\n",
       "0        DE_LU         CH\n",
       "1           CH      DE_LU\n",
       "2           CH         FR\n",
       "3           CH         IT\n",
       "4           CH         AT\n",
       "5           FR         CH\n",
       "6           IT         CH\n",
       "7           AT         CH"
      ]
     },
     "execution_count": 8,
     "metadata": {},
     "output_type": "execute_result"
    }
   ],
   "source": [
    "country_codes = [\"DE_LU\", \"CH\", \"FR\", \"IT\", \"AT\"]\n",
    "country_pairs = (\n",
    "    pd.DataFrame(itertools.product(country_codes, country_codes))\n",
    "    .rename(columns={0: \"from_country\", 1: \"to_country\"})\n",
    "    .drop_duplicates()\n",
    "    .query(\"from_country != to_country\")\n",
    "    .query(\"from_country == 'CH' or to_country == 'CH'\")\n",
    "    .reset_index(drop=True)\n",
    ")\n",
    "\n",
    "country_pairs"
   ]
  },
  {
   "cell_type": "code",
   "execution_count": 9,
   "metadata": {},
   "outputs": [
    {
     "data": {
      "application/vnd.jupyter.widget-view+json": {
       "model_id": "1c36266800b7407cbcab77a3b36d78d4",
       "version_major": 2,
       "version_minor": 0
      },
      "text/plain": [
       "  0%|          | 0/8 [00:00<?, ?it/s]"
      ]
     },
     "metadata": {},
     "output_type": "display_data"
    }
   ],
   "source": [
    "for idx in tqdm(country_pairs.index):\n",
    "    try:\n",
    "        data = client.query_crossborder_flows(\n",
    "            country_code_from=country_pairs.loc[idx, \"from_country\"],\n",
    "            country_code_to=country_pairs.loc[idx, \"to_country\"],\n",
    "            start=start,\n",
    "            end=end,\n",
    "        )\n",
    "        df_out = (\n",
    "            pd.DataFrame(data)\n",
    "            .reset_index()\n",
    "            .rename(columns={\"index\": \"date\", 0: \"crossborder_physical_flow_mw\"})\n",
    "        )\n",
    "        df_out.to_csv(f\"crossborder_physical_flow_mw_{country_pairs.loc[idx, \"from_country\"]}_{country_pairs.loc[idx, \"to_country\"]}.csv\", index=False)\n",
    "    except:\n",
    "        pass"
   ]
  },
  {
   "cell_type": "markdown",
   "metadata": {},
   "source": [
    "### Crossboarder Capacities (DA Forecast)"
   ]
  },
  {
   "cell_type": "code",
   "execution_count": 10,
   "metadata": {},
   "outputs": [
    {
     "data": {
      "text/html": [
       "<div>\n",
       "<style scoped>\n",
       "    .dataframe tbody tr th:only-of-type {\n",
       "        vertical-align: middle;\n",
       "    }\n",
       "\n",
       "    .dataframe tbody tr th {\n",
       "        vertical-align: top;\n",
       "    }\n",
       "\n",
       "    .dataframe thead th {\n",
       "        text-align: right;\n",
       "    }\n",
       "</style>\n",
       "<table border=\"1\" class=\"dataframe\">\n",
       "  <thead>\n",
       "    <tr style=\"text-align: right;\">\n",
       "      <th></th>\n",
       "      <th>from_country</th>\n",
       "      <th>to_country</th>\n",
       "    </tr>\n",
       "  </thead>\n",
       "  <tbody>\n",
       "    <tr>\n",
       "      <th>0</th>\n",
       "      <td>DE_LU</td>\n",
       "      <td>CH</td>\n",
       "    </tr>\n",
       "    <tr>\n",
       "      <th>1</th>\n",
       "      <td>CH</td>\n",
       "      <td>DE_LU</td>\n",
       "    </tr>\n",
       "    <tr>\n",
       "      <th>2</th>\n",
       "      <td>CH</td>\n",
       "      <td>FR</td>\n",
       "    </tr>\n",
       "    <tr>\n",
       "      <th>3</th>\n",
       "      <td>CH</td>\n",
       "      <td>IT</td>\n",
       "    </tr>\n",
       "    <tr>\n",
       "      <th>4</th>\n",
       "      <td>CH</td>\n",
       "      <td>AT</td>\n",
       "    </tr>\n",
       "    <tr>\n",
       "      <th>5</th>\n",
       "      <td>FR</td>\n",
       "      <td>CH</td>\n",
       "    </tr>\n",
       "    <tr>\n",
       "      <th>6</th>\n",
       "      <td>IT</td>\n",
       "      <td>CH</td>\n",
       "    </tr>\n",
       "    <tr>\n",
       "      <th>7</th>\n",
       "      <td>AT</td>\n",
       "      <td>CH</td>\n",
       "    </tr>\n",
       "  </tbody>\n",
       "</table>\n",
       "</div>"
      ],
      "text/plain": [
       "  from_country to_country\n",
       "0        DE_LU         CH\n",
       "1           CH      DE_LU\n",
       "2           CH         FR\n",
       "3           CH         IT\n",
       "4           CH         AT\n",
       "5           FR         CH\n",
       "6           IT         CH\n",
       "7           AT         CH"
      ]
     },
     "execution_count": 10,
     "metadata": {},
     "output_type": "execute_result"
    }
   ],
   "source": [
    "country_pairs"
   ]
  },
  {
   "cell_type": "code",
   "execution_count": 11,
   "metadata": {},
   "outputs": [
    {
     "data": {
      "application/vnd.jupyter.widget-view+json": {
       "model_id": "077582d5cd174a83926b15b04c5a2412",
       "version_major": 2,
       "version_minor": 0
      },
      "text/plain": [
       "  0%|          | 0/8 [00:00<?, ?it/s]"
      ]
     },
     "metadata": {},
     "output_type": "display_data"
    }
   ],
   "source": [
    "for idx in tqdm(country_pairs.index):\n",
    "    try:\n",
    "        data = client.query_net_transfer_capacity_dayahead(\n",
    "            country_code_from=country_pairs.loc[idx, \"from_country\"],\n",
    "            country_code_to=country_pairs.loc[idx, \"to_country\"],\n",
    "            start=start,\n",
    "            end=end,\n",
    "        )\n",
    "        df_out = (\n",
    "            pd.DataFrame(data)\n",
    "            .reset_index()\n",
    "            .rename(columns={\"index\": \"date\", 0: \"crossborder_capacity_forecast_day_ahead_mw\"})\n",
    "        )\n",
    "        df_out.to_csv(f\"crossborder_capacity_forecast_{country_pairs.loc[idx, \"from_country\"]}_{country_pairs.loc[idx, \"to_country\"]}.csv\", index=False)\n",
    "    except:\n",
    "        pass"
   ]
  }
 ],
 "metadata": {
  "kernelspec": {
   "display_name": "general",
   "language": "python",
   "name": "python3"
  },
  "language_info": {
   "codemirror_mode": {
    "name": "ipython",
    "version": 3
   },
   "file_extension": ".py",
   "mimetype": "text/x-python",
   "name": "python",
   "nbconvert_exporter": "python",
   "pygments_lexer": "ipython3",
   "version": "3.12.2"
  }
 },
 "nbformat": 4,
 "nbformat_minor": 2
}
