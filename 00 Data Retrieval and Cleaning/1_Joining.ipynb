{
 "cells": [
  {
   "cell_type": "markdown",
   "metadata": {},
   "source": [
    "# Joining the individual datasets"
   ]
  },
  {
   "cell_type": "code",
   "execution_count": 1,
   "metadata": {},
   "outputs": [],
   "source": [
    "import pandas as pd\n",
    "import polars as pl\n",
    "import polars.selectors as cs\n",
    "import numpy as np\n",
    "import plotnine as pn\n",
    "from mizani.formatters import comma_format, custom_format, currency_format, percent_format\n",
    "from IPython.display import clear_output, display\n",
    "import os\n",
    "import glob\n",
    "import requests\n",
    "from datetime import datetime, timedelta\n",
    "import pytz\n",
    "from tqdm.notebook import tqdm\n",
    "\n",
    "jama_colour = [\n",
    "    \"#374e55\",\n",
    "    \"#df8f44\",\n",
    "    \"#00a1d5\",\n",
    "    \"#b24745\",\n",
    "    \"#79af97\",\n",
    "]\n",
    "\n",
    "pd.set_option(\"display.max.columns\", 500)\n",
    "pd.set_option(\"display.max.columns\", 500)\n",
    "background_colour = \"#F2F2F2\"\n",
    "pn.theme_set(\n",
    "    pn.theme_classic()\n",
    "    + pn.theme(\n",
    "        figure_size=[7, 7/1.618],\n",
    "        text=pn.element_text(family=\"monospace\"),\n",
    "        plot_background=pn.element_rect(\n",
    "            fill=background_colour, colour=background_colour\n",
    "        ),\n",
    "        panel_background=pn.element_rect(\n",
    "            fill=background_colour, colour=background_colour\n",
    "        ),\n",
    "        legend_background=pn.element_rect(\n",
    "            fill=background_colour, colour=background_colour\n",
    "        ),\n",
    "    )\n",
    ")\n",
    "\n",
    "\n",
    "%load_ext blackcellmagic\n",
    "%matplotlib inline"
   ]
  },
  {
   "cell_type": "markdown",
   "metadata": {},
   "source": [
    "### Auction Prices"
   ]
  },
  {
   "cell_type": "code",
   "execution_count": 3,
   "metadata": {},
   "outputs": [
    {
     "data": {
      "text/html": [
       "<div><style>\n",
       ".dataframe > thead > tr > th,\n",
       ".dataframe > tbody > tr > td {\n",
       "  text-align: right;\n",
       "  white-space: pre-wrap;\n",
       "}\n",
       "</style>\n",
       "<small>shape: (44_582, 6)</small><table border=\"1\" class=\"dataframe\"><thead><tr><th>auction_price</th><th>allocatedCapacity</th><th>ATC</th><th>date</th><th>day</th><th>dst</th></tr><tr><td>f64</td><td>i64</td><td>i64</td><td>str</td><td>date</td><td>i16</td></tr></thead><tbody><tr><td>0.0</td><td>4232</td><td>4233</td><td>&quot;2019-01-01 03:…</td><td>2019-01-01</td><td>1</td></tr><tr><td>0.0</td><td>4232</td><td>4233</td><td>&quot;2019-01-01 09:…</td><td>2019-01-01</td><td>1</td></tr><tr><td>0.0</td><td>4233</td><td>4233</td><td>&quot;2019-01-02 12:…</td><td>2019-01-02</td><td>1</td></tr><tr><td>0.0</td><td>4230</td><td>4233</td><td>&quot;2019-01-02 20:…</td><td>2019-01-02</td><td>1</td></tr><tr><td>0.0</td><td>4232</td><td>4233</td><td>&quot;2019-01-03 08:…</td><td>2019-01-03</td><td>1</td></tr><tr><td>0.0</td><td>4232</td><td>4233</td><td>&quot;2019-01-03 12:…</td><td>2019-01-03</td><td>1</td></tr><tr><td>0.0</td><td>4233</td><td>4233</td><td>&quot;2019-01-04 08:…</td><td>2019-01-04</td><td>1</td></tr><tr><td>0.0</td><td>4233</td><td>4233</td><td>&quot;2019-01-04 18:…</td><td>2019-01-04</td><td>1</td></tr><tr><td>0.0</td><td>4230</td><td>4233</td><td>&quot;2019-01-05 01:…</td><td>2019-01-05</td><td>1</td></tr><tr><td>0.0</td><td>4230</td><td>4233</td><td>&quot;2019-01-05 18:…</td><td>2019-01-05</td><td>1</td></tr><tr><td>0.0</td><td>4231</td><td>4233</td><td>&quot;2019-01-06 01:…</td><td>2019-01-06</td><td>1</td></tr><tr><td>0.0</td><td>4231</td><td>4233</td><td>&quot;2019-01-06 06:…</td><td>2019-01-06</td><td>1</td></tr><tr><td>&hellip;</td><td>&hellip;</td><td>&hellip;</td><td>&hellip;</td><td>&hellip;</td><td>&hellip;</td></tr><tr><td>0.02</td><td>4290</td><td>4292</td><td>&quot;2024-02-01 06:…</td><td>2024-02-01</td><td>1</td></tr><tr><td>0.01</td><td>4290</td><td>4292</td><td>&quot;2024-02-01 11:…</td><td>2024-02-01</td><td>1</td></tr><tr><td>0.27</td><td>3414</td><td>3414</td><td>&quot;2024-02-01 20:…</td><td>2024-02-01</td><td>1</td></tr><tr><td>0.09</td><td>4013</td><td>4013</td><td>&quot;2024-02-02 07:…</td><td>2024-02-02</td><td>1</td></tr><tr><td>0.04</td><td>4282</td><td>4282</td><td>&quot;2024-02-02 09:…</td><td>2024-02-02</td><td>1</td></tr><tr><td>0.02</td><td>4292</td><td>4292</td><td>&quot;2024-02-02 16:…</td><td>2024-02-02</td><td>1</td></tr><tr><td>0.02</td><td>4292</td><td>4292</td><td>&quot;2024-02-02 19:…</td><td>2024-02-02</td><td>1</td></tr><tr><td>0.0</td><td>4284</td><td>4292</td><td>&quot;2024-02-02 20:…</td><td>2024-02-02</td><td>1</td></tr><tr><td>0.0</td><td>4281</td><td>4292</td><td>&quot;2024-02-02 22:…</td><td>2024-02-02</td><td>1</td></tr><tr><td>0.0</td><td>4344</td><td>4350</td><td>&quot;2024-02-03 01:…</td><td>2024-02-03</td><td>1</td></tr><tr><td>0.0</td><td>4333</td><td>4350</td><td>&quot;2024-02-03 06:…</td><td>2024-02-03</td><td>1</td></tr><tr><td>0.0</td><td>4340</td><td>4350</td><td>&quot;2024-02-03 15:…</td><td>2024-02-03</td><td>1</td></tr></tbody></table></div>"
      ],
      "text/plain": [
       "shape: (44_582, 6)\n",
       "┌───────────────┬───────────────────┬──────┬──────────────────┬────────────┬─────┐\n",
       "│ auction_price ┆ allocatedCapacity ┆ ATC  ┆ date             ┆ day        ┆ dst │\n",
       "│ ---           ┆ ---               ┆ ---  ┆ ---              ┆ ---        ┆ --- │\n",
       "│ f64           ┆ i64               ┆ i64  ┆ str              ┆ date       ┆ i16 │\n",
       "╞═══════════════╪═══════════════════╪══════╪══════════════════╪════════════╪═════╡\n",
       "│ 0.0           ┆ 4232              ┆ 4233 ┆ 2019-01-01 03:00 ┆ 2019-01-01 ┆ 1   │\n",
       "│ 0.0           ┆ 4232              ┆ 4233 ┆ 2019-01-01 09:00 ┆ 2019-01-01 ┆ 1   │\n",
       "│ 0.0           ┆ 4233              ┆ 4233 ┆ 2019-01-02 12:00 ┆ 2019-01-02 ┆ 1   │\n",
       "│ 0.0           ┆ 4230              ┆ 4233 ┆ 2019-01-02 20:00 ┆ 2019-01-02 ┆ 1   │\n",
       "│ …             ┆ …                 ┆ …    ┆ …                ┆ …          ┆ …   │\n",
       "│ 0.0           ┆ 4281              ┆ 4292 ┆ 2024-02-02 22:00 ┆ 2024-02-02 ┆ 1   │\n",
       "│ 0.0           ┆ 4344              ┆ 4350 ┆ 2024-02-03 01:00 ┆ 2024-02-03 ┆ 1   │\n",
       "│ 0.0           ┆ 4333              ┆ 4350 ┆ 2024-02-03 06:00 ┆ 2024-02-03 ┆ 1   │\n",
       "│ 0.0           ┆ 4340              ┆ 4350 ┆ 2024-02-03 15:00 ┆ 2024-02-03 ┆ 1   │\n",
       "└───────────────┴───────────────────┴──────┴──────────────────┴────────────┴─────┘"
      ]
     },
     "execution_count": 3,
     "metadata": {},
     "output_type": "execute_result"
    }
   ],
   "source": [
    "jao_chde = (\n",
    "    pl.from_pandas(pd.read_csv(\"jao_prices_CH-DE.csv\"))\n",
    "    .select(pl.exclude([\"date\", \"corridor\", \"hour\"]))\n",
    "    .with_columns(\n",
    "        pl.col(\"delivery_begin_time_ch\")\n",
    "        .str.to_datetime()\n",
    "        .dt.convert_time_zone(\"Europe/Zurich\")\n",
    "        .alias(\"date\")\n",
    "    )\n",
    "    .with_columns(pl.col(\"date\").dt.date().alias(\"day\"))\n",
    "    .drop(\"delivery_begin_time_ch\")\n",
    "    .with_columns((pl.col(\"date\").dt.dst_offset() == 0).cast(pl.Int16).alias(\"dst\"))\n",
    "    .with_columns(pl.col(\"date\").dt.strftime(\"%Y-%m-%d %H:%M\"))\n",
    "    .unique(subset=[\"date\", \"dst\"])\n",
    "    .rename({\"price\": \"auction_price\"})\n",
    ")\n",
    "\n",
    "jao_dech = (\n",
    "    pl.from_pandas(pd.read_csv(\"jao_prices_DE-CH.csv\"))\n",
    "    .select(pl.exclude([\"date\", \"corridor\", \"hour\"]))\n",
    "    .with_columns(\n",
    "        pl.col(\"delivery_begin_time_ch\")\n",
    "        .str.to_datetime()\n",
    "        .dt.convert_time_zone(\"Europe/Zurich\")\n",
    "        .alias(\"date\")\n",
    "    )\n",
    "    .with_columns(pl.col(\"date\").dt.date().alias(\"day\"))\n",
    "    .drop(\"delivery_begin_time_ch\")\n",
    "    .with_columns((pl.col(\"date\").dt.dst_offset() == 0).cast(pl.Int16).alias(\"dst\"))\n",
    "    .with_columns(pl.col(\"date\").dt.strftime(\"%Y-%m-%d %H:%M\"))\n",
    "    .unique(subset=[\"date\", \"dst\"])\n",
    "    .rename({\"price\": \"auction_price\"})\n",
    ")\n",
    "\n",
    "jao_chde"
   ]
  },
  {
   "cell_type": "code",
   "execution_count": 5,
   "metadata": {},
   "outputs": [
    {
     "data": {
      "text/html": [
       "<div><style>\n",
       ".dataframe > thead > tr > th,\n",
       ".dataframe > tbody > tr > td {\n",
       "  text-align: right;\n",
       "  white-space: pre-wrap;\n",
       "}\n",
       "</style>\n",
       "<small>shape: (2, 6)</small><table border=\"1\" class=\"dataframe\"><thead><tr><th>auction_price</th><th>allocatedCapacity</th><th>ATC</th><th>date</th><th>day</th><th>dst</th></tr><tr><td>f64</td><td>i64</td><td>i64</td><td>str</td><td>date</td><td>i16</td></tr></thead><tbody><tr><td>0.0</td><td>3857</td><td>3863</td><td>&quot;2019-10-27 02:…</td><td>2019-10-27</td><td>1</td></tr><tr><td>0.0</td><td>3863</td><td>3863</td><td>&quot;2019-10-27 02:…</td><td>2019-10-27</td><td>0</td></tr></tbody></table></div>"
      ],
      "text/plain": [
       "shape: (2, 6)\n",
       "┌───────────────┬───────────────────┬──────┬──────────────────┬────────────┬─────┐\n",
       "│ auction_price ┆ allocatedCapacity ┆ ATC  ┆ date             ┆ day        ┆ dst │\n",
       "│ ---           ┆ ---               ┆ ---  ┆ ---              ┆ ---        ┆ --- │\n",
       "│ f64           ┆ i64               ┆ i64  ┆ str              ┆ date       ┆ i16 │\n",
       "╞═══════════════╪═══════════════════╪══════╪══════════════════╪════════════╪═════╡\n",
       "│ 0.0           ┆ 3857              ┆ 3863 ┆ 2019-10-27 02:00 ┆ 2019-10-27 ┆ 1   │\n",
       "│ 0.0           ┆ 3863              ┆ 3863 ┆ 2019-10-27 02:00 ┆ 2019-10-27 ┆ 0   │\n",
       "└───────────────┴───────────────────┴──────┴──────────────────┴────────────┴─────┘"
      ]
     },
     "execution_count": 5,
     "metadata": {},
     "output_type": "execute_result"
    }
   ],
   "source": [
    "jao_chde.filter(pl.col(\"date\") == \"2019-10-27 02:00\")"
   ]
  },
  {
   "cell_type": "code",
   "execution_count": 212,
   "metadata": {},
   "outputs": [
    {
     "name": "stdout",
     "output_type": "stream",
     "text": [
      "shape: (5, 2)\n",
      "┌──────────────────┬───────┐\n",
      "│ date             ┆ count │\n",
      "│ ---              ┆ ---   │\n",
      "│ str              ┆ u32   │\n",
      "╞══════════════════╪═══════╡\n",
      "│ 2019-10-27 02:00 ┆ 2     │\n",
      "│ 2020-10-25 02:00 ┆ 2     │\n",
      "│ 2021-10-31 02:00 ┆ 2     │\n",
      "│ 2022-10-30 02:00 ┆ 2     │\n",
      "│ 2023-10-29 02:00 ┆ 2     │\n",
      "└──────────────────┴───────┘\n"
     ]
    }
   ],
   "source": [
    "jao_chde[\"date\"].value_counts(sort=True).filter(pl.col(\"count\") != 1).sort(\"date\").pipe(print)"
   ]
  },
  {
   "cell_type": "code",
   "execution_count": 213,
   "metadata": {},
   "outputs": [
    {
     "name": "stdout",
     "output_type": "stream",
     "text": [
      "shape: (5, 2)\n",
      "┌──────────────────┬───────┐\n",
      "│ date             ┆ count │\n",
      "│ ---              ┆ ---   │\n",
      "│ str              ┆ u32   │\n",
      "╞══════════════════╪═══════╡\n",
      "│ 2019-10-27 02:00 ┆ 2     │\n",
      "│ 2020-10-25 02:00 ┆ 2     │\n",
      "│ 2021-10-31 02:00 ┆ 2     │\n",
      "│ 2022-10-30 02:00 ┆ 2     │\n",
      "│ 2023-10-29 02:00 ┆ 2     │\n",
      "└──────────────────┴───────┘\n"
     ]
    }
   ],
   "source": [
    "jao_dech[\"date\"].value_counts(sort=True).filter(pl.col(\"count\") != 1).sort(\"date\").pipe(print)"
   ]
  },
  {
   "cell_type": "markdown",
   "metadata": {},
   "source": [
    "Now the observations are uniquely identifiable."
   ]
  },
  {
   "cell_type": "markdown",
   "metadata": {},
   "source": [
    "### Day-Ahead Prices \n",
    "\n",
    "- Aggregation: These values are already in hourly format\n",
    "- Join ID: date"
   ]
  },
  {
   "cell_type": "code",
   "execution_count": 214,
   "metadata": {},
   "outputs": [
    {
     "name": "stdout",
     "output_type": "stream",
     "text": [
      "shape: (44_569, 3)\n",
      "┌──────────────────┬────────────────────┬─────┐\n",
      "│ date             ┆ day_ahead_price_at ┆ dst │\n",
      "│ ---              ┆ ---                ┆ --- │\n",
      "│ str              ┆ f64                ┆ i16 │\n",
      "╞══════════════════╪════════════════════╪═════╡\n",
      "│ 2019-01-01 03:00 ┆ 27.87              ┆ 1   │\n",
      "│ 2019-01-01 11:00 ┆ 9.2                ┆ 1   │\n",
      "│ 2019-01-01 23:00 ┆ -4.95              ┆ 1   │\n",
      "│ 2019-01-02 00:00 ┆ -4.98              ┆ 1   │\n",
      "│ 2019-01-02 10:00 ┆ 50.91              ┆ 1   │\n",
      "│ …                ┆ …                  ┆ …   │\n",
      "│ 2024-01-30 14:00 ┆ 71.93              ┆ 1   │\n",
      "│ 2024-01-30 22:00 ┆ 77.86              ┆ 1   │\n",
      "│ 2024-01-31 07:00 ┆ 104.94             ┆ 1   │\n",
      "│ 2024-01-31 10:00 ┆ 82.98              ┆ 1   │\n",
      "│ 2024-01-31 18:00 ┆ 101.1              ┆ 1   │\n",
      "└──────────────────┴────────────────────┴─────┘\n",
      "shape: (5, 2)\n",
      "┌──────────────────┬───────┐\n",
      "│ date             ┆ count │\n",
      "│ ---              ┆ ---   │\n",
      "│ str              ┆ u32   │\n",
      "╞══════════════════╪═══════╡\n",
      "│ 2019-10-27 02:00 ┆ 2     │\n",
      "│ 2020-10-25 02:00 ┆ 2     │\n",
      "│ 2021-10-31 02:00 ┆ 2     │\n",
      "│ 2022-10-30 02:00 ┆ 2     │\n",
      "│ 2023-10-29 02:00 ┆ 2     │\n",
      "└──────────────────┴───────┘\n"
     ]
    }
   ],
   "source": [
    "da_at = (\n",
    "    pl.read_csv(\"day_ahead_prices_AT.csv\")\n",
    "    .with_columns(pl.col(\"date\").str.to_datetime())\n",
    "    .with_columns(pl.col(\"date\").dt.convert_time_zone(\"Europe/Zurich\"))\n",
    "    .with_columns((pl.col(\"date\").dt.dst_offset() == 0).cast(pl.Int16).alias(\"dst\"))\n",
    "    .with_columns(pl.col(\"date\").dt.strftime(\"%Y-%m-%d %H:%M\"))\n",
    "    .unique(subset=[\"date\", \"dst\"])\n",
    "    .rename({\"price\": \"day_ahead_price_at\"})\n",
    ")\n",
    "\n",
    "da_at.pipe(print)\n",
    "da_at[\"date\"].value_counts().filter(pl.col(\"count\") != 1).sort(\"date\").pipe(print)"
   ]
  },
  {
   "cell_type": "code",
   "execution_count": 215,
   "metadata": {},
   "outputs": [
    {
     "name": "stdout",
     "output_type": "stream",
     "text": [
      "shape: (44_569, 3)\n",
      "┌──────────────────┬────────────────────┬─────┐\n",
      "│ date             ┆ day_ahead_price_ch ┆ dst │\n",
      "│ ---              ┆ ---                ┆ --- │\n",
      "│ str              ┆ f64                ┆ i16 │\n",
      "╞══════════════════╪════════════════════╪═════╡\n",
      "│ 2019-01-01 08:00 ┆ 28.7               ┆ 1   │\n",
      "│ 2019-01-01 09:00 ┆ 35.7               ┆ 1   │\n",
      "│ 2019-01-01 13:00 ┆ 43.07              ┆ 1   │\n",
      "│ 2019-01-02 05:00 ┆ 49.21              ┆ 1   │\n",
      "│ 2019-01-02 09:00 ┆ 64.83              ┆ 1   │\n",
      "│ …                ┆ …                  ┆ …   │\n",
      "│ 2024-01-30 16:00 ┆ 83.89              ┆ 1   │\n",
      "│ 2024-01-30 19:00 ┆ 92.01              ┆ 1   │\n",
      "│ 2024-01-30 23:00 ┆ 76.09              ┆ 1   │\n",
      "│ 2024-01-31 00:00 ┆ 74.03              ┆ 1   │\n",
      "│ 2024-01-31 04:00 ┆ 68.6               ┆ 1   │\n",
      "└──────────────────┴────────────────────┴─────┘\n",
      "shape: (5, 2)\n",
      "┌──────────────────┬───────┐\n",
      "│ date             ┆ count │\n",
      "│ ---              ┆ ---   │\n",
      "│ str              ┆ u32   │\n",
      "╞══════════════════╪═══════╡\n",
      "│ 2019-10-27 02:00 ┆ 2     │\n",
      "│ 2020-10-25 02:00 ┆ 2     │\n",
      "│ 2021-10-31 02:00 ┆ 2     │\n",
      "│ 2022-10-30 02:00 ┆ 2     │\n",
      "│ 2023-10-29 02:00 ┆ 2     │\n",
      "└──────────────────┴───────┘\n"
     ]
    }
   ],
   "source": [
    "da_ch = (\n",
    "    pl.read_csv(\"day_ahead_prices_CH.csv\")\n",
    "    .with_columns(pl.col(\"date\").str.to_datetime())\n",
    "    .with_columns(pl.col(\"date\").dt.convert_time_zone(\"Europe/Zurich\"))\n",
    "    .with_columns((pl.col(\"date\").dt.dst_offset() == 0).cast(pl.Int16).alias(\"dst\"))\n",
    "    .with_columns(pl.col(\"date\").dt.strftime(\"%Y-%m-%d %H:%M\"))\n",
    "    .unique(subset=[\"date\", \"dst\"])\n",
    "    .rename({\"price\": \"day_ahead_price_ch\"})\n",
    ")\n",
    "\n",
    "da_ch.pipe(print)\n",
    "da_ch[\"date\"].value_counts().filter(pl.col(\"count\") != 1).sort(\"date\").pipe(print)"
   ]
  },
  {
   "cell_type": "code",
   "execution_count": 216,
   "metadata": {},
   "outputs": [
    {
     "name": "stdout",
     "output_type": "stream",
     "text": [
      "shape: (44_569, 3)\n",
      "┌──────────────────┬────────────────────┬─────┐\n",
      "│ date             ┆ day_ahead_price_de ┆ dst │\n",
      "│ ---              ┆ ---                ┆ --- │\n",
      "│ str              ┆ f64                ┆ i16 │\n",
      "╞══════════════════╪════════════════════╪═════╡\n",
      "│ 2019-01-01 00:00 ┆ 28.32              ┆ 1   │\n",
      "│ 2019-01-01 01:00 ┆ 10.07              ┆ 1   │\n",
      "│ 2019-01-01 02:00 ┆ -4.08              ┆ 1   │\n",
      "│ 2019-01-01 16:00 ┆ 1.97               ┆ 1   │\n",
      "│ 2019-01-01 21:00 ┆ -24.93             ┆ 1   │\n",
      "│ …                ┆ …                  ┆ …   │\n",
      "│ 2024-01-30 17:00 ┆ 88.17              ┆ 1   │\n",
      "│ 2024-01-30 19:00 ┆ 91.91              ┆ 1   │\n",
      "│ 2024-01-31 12:00 ┆ 74.91              ┆ 1   │\n",
      "│ 2024-01-31 16:00 ┆ 81.62              ┆ 1   │\n",
      "│ 2024-02-01 00:00 ┆ 47.06              ┆ 1   │\n",
      "└──────────────────┴────────────────────┴─────┘\n",
      "shape: (5, 2)\n",
      "┌──────────────────┬───────┐\n",
      "│ date             ┆ count │\n",
      "│ ---              ┆ ---   │\n",
      "│ str              ┆ u32   │\n",
      "╞══════════════════╪═══════╡\n",
      "│ 2019-10-27 02:00 ┆ 2     │\n",
      "│ 2020-10-25 02:00 ┆ 2     │\n",
      "│ 2021-10-31 02:00 ┆ 2     │\n",
      "│ 2022-10-30 02:00 ┆ 2     │\n",
      "│ 2023-10-29 02:00 ┆ 2     │\n",
      "└──────────────────┴───────┘\n"
     ]
    }
   ],
   "source": [
    "da_delu = (\n",
    "    pl.read_csv(\"day_ahead_prices_DE_LU.csv\")\n",
    "    .with_columns(pl.col(\"date\").str.to_datetime())\n",
    "    .with_columns(pl.col(\"date\").dt.convert_time_zone(\"Europe/Zurich\"))\n",
    "    .with_columns((pl.col(\"date\").dt.dst_offset() == 0).cast(pl.Int16).alias(\"dst\"))\n",
    "    .with_columns(pl.col(\"date\").dt.strftime(\"%Y-%m-%d %H:%M\"))\n",
    "    .unique(subset=[\"date\", \"dst\"])\n",
    "    .rename({\"price\": \"day_ahead_price_de\"})\n",
    ")\n",
    "\n",
    "da_delu.pipe(print)\n",
    "da_delu[\"date\"].value_counts().filter(pl.col(\"count\") != 1).sort(\"date\").pipe(print)"
   ]
  },
  {
   "cell_type": "code",
   "execution_count": 217,
   "metadata": {},
   "outputs": [
    {
     "name": "stdout",
     "output_type": "stream",
     "text": [
      "shape: (44_569, 3)\n",
      "┌──────────────────┬────────────────────┬─────┐\n",
      "│ date             ┆ day_ahead_price_fr ┆ dst │\n",
      "│ ---              ┆ ---                ┆ --- │\n",
      "│ str              ┆ f64                ┆ i16 │\n",
      "╞══════════════════╪════════════════════╪═════╡\n",
      "│ 2019-01-01 09:00 ┆ 25.0               ┆ 1   │\n",
      "│ 2019-01-01 18:00 ┆ 62.65              ┆ 1   │\n",
      "│ 2019-01-02 13:00 ┆ 58.65              ┆ 1   │\n",
      "│ 2019-01-02 22:00 ┆ 55.97              ┆ 1   │\n",
      "│ 2019-01-02 23:00 ┆ 54.31              ┆ 1   │\n",
      "│ …                ┆ …                  ┆ …   │\n",
      "│ 2024-01-29 08:00 ┆ 99.26              ┆ 1   │\n",
      "│ 2024-01-29 10:00 ┆ 78.9               ┆ 1   │\n",
      "│ 2024-01-29 23:00 ┆ 80.29              ┆ 1   │\n",
      "│ 2024-01-30 13:00 ┆ 68.23              ┆ 1   │\n",
      "│ 2024-01-30 20:00 ┆ 88.32              ┆ 1   │\n",
      "└──────────────────┴────────────────────┴─────┘\n",
      "shape: (5, 2)\n",
      "┌──────────────────┬───────┐\n",
      "│ date             ┆ count │\n",
      "│ ---              ┆ ---   │\n",
      "│ str              ┆ u32   │\n",
      "╞══════════════════╪═══════╡\n",
      "│ 2019-10-27 02:00 ┆ 2     │\n",
      "│ 2020-10-25 02:00 ┆ 2     │\n",
      "│ 2021-10-31 02:00 ┆ 2     │\n",
      "│ 2022-10-30 02:00 ┆ 2     │\n",
      "│ 2023-10-29 02:00 ┆ 2     │\n",
      "└──────────────────┴───────┘\n"
     ]
    }
   ],
   "source": [
    "da_fr = (\n",
    "    pl.read_csv(\"day_ahead_prices_FR.csv\")\n",
    "    .with_columns(pl.col(\"date\").str.to_datetime())\n",
    "    .with_columns(pl.col(\"date\").dt.convert_time_zone(\"Europe/Zurich\"))\n",
    "    .with_columns((pl.col(\"date\").dt.dst_offset() == 0).cast(pl.Int16).alias(\"dst\"))\n",
    "    .with_columns(pl.col(\"date\").dt.strftime(\"%Y-%m-%d %H:%M\"))\n",
    "    .unique(subset=[\"date\", \"dst\"])\n",
    "    .rename({\"price\": \"day_ahead_price_fr\"})\n",
    ")\n",
    "\n",
    "da_fr.pipe(print)\n",
    "da_fr[\"date\"].value_counts().filter(pl.col(\"count\") != 1).sort(\"date\").pipe(print)"
   ]
  },
  {
   "cell_type": "markdown",
   "metadata": {},
   "source": [
    "### Actual Load"
   ]
  },
  {
   "cell_type": "code",
   "execution_count": 272,
   "metadata": {},
   "outputs": [
    {
     "name": "stdout",
     "output_type": "stream",
     "text": [
      "shape: (44_568, 3)\n",
      "┌──────────────────┬────────────────┬─────┐\n",
      "│ date             ┆ actual_load_at ┆ dst │\n",
      "│ ---              ┆ ---            ┆ --- │\n",
      "│ str              ┆ f64            ┆ i16 │\n",
      "╞══════════════════╪════════════════╪═════╡\n",
      "│ 2019-01-01 00:00 ┆ 6075.0         ┆ 1   │\n",
      "│ 2019-01-01 01:00 ┆ 5852.75        ┆ 1   │\n",
      "│ 2019-01-01 02:00 ┆ 5619.25        ┆ 1   │\n",
      "│ 2019-01-01 03:00 ┆ 5324.0         ┆ 1   │\n",
      "│ 2019-01-01 04:00 ┆ 5273.5         ┆ 1   │\n",
      "│ …                ┆ …              ┆ …   │\n",
      "│ 2024-01-31 19:00 ┆ 8433.0         ┆ 1   │\n",
      "│ 2024-01-31 20:00 ┆ 7892.75        ┆ 1   │\n",
      "│ 2024-01-31 21:00 ┆ 7312.0         ┆ 1   │\n",
      "│ 2024-01-31 22:00 ┆ 7065.0         ┆ 1   │\n",
      "│ 2024-01-31 23:00 ┆ 6610.25        ┆ 1   │\n",
      "└──────────────────┴────────────────┴─────┘\n",
      "shape: (5, 2)\n",
      "┌──────────────────┬───────┐\n",
      "│ date             ┆ count │\n",
      "│ ---              ┆ ---   │\n",
      "│ str              ┆ u32   │\n",
      "╞══════════════════╪═══════╡\n",
      "│ 2019-10-27 02:00 ┆ 2     │\n",
      "│ 2020-10-25 02:00 ┆ 2     │\n",
      "│ 2021-10-31 02:00 ┆ 2     │\n",
      "│ 2022-10-30 02:00 ┆ 2     │\n",
      "│ 2023-10-29 02:00 ┆ 2     │\n",
      "└──────────────────┴───────┘\n"
     ]
    }
   ],
   "source": [
    "load_at = (\n",
    "    pl.read_csv(\"actual_load_AT.csv\")\n",
    "    .with_columns(pl.col(\"date\").str.to_datetime())\n",
    "    .with_columns(pl.col(\"date\").dt.convert_time_zone(\"Europe/Zurich\").dt.truncate(\"1h\"))\n",
    "    .group_by(\"date\")\n",
    "    .agg(pl.mean(\"actual_load\"))\n",
    "    .with_columns((pl.col(\"date\").dt.dst_offset() == 0).cast(pl.Int16).alias(\"dst\"))\n",
    "    .with_columns(pl.col(\"date\").dt.strftime(\"%Y-%m-%d %H:%M\"))\n",
    "    .unique(subset=[\"date\", \"dst\"])\n",
    "    .sort(\"date\")\n",
    "    .rename({\"actual_load\": \"actual_load_at\"})\n",
    ")\n",
    "\n",
    "load_at.pipe(print)\n",
    "load_at[\"date\"].value_counts().filter(pl.col(\"count\") != 1).sort(\"date\").pipe(print)"
   ]
  },
  {
   "cell_type": "code",
   "execution_count": 274,
   "metadata": {},
   "outputs": [
    {
     "name": "stdout",
     "output_type": "stream",
     "text": [
      "shape: (44_563, 3)\n",
      "┌──────────────────┬────────────────┬─────┐\n",
      "│ date             ┆ actual_load_ch ┆ dst │\n",
      "│ ---              ┆ ---            ┆ --- │\n",
      "│ str              ┆ f64            ┆ i16 │\n",
      "╞══════════════════╪════════════════╪═════╡\n",
      "│ 2019-01-01 00:00 ┆ 7037.0         ┆ 1   │\n",
      "│ 2019-01-01 01:00 ┆ 7096.0         ┆ 1   │\n",
      "│ 2019-01-01 02:00 ┆ 7244.0         ┆ 1   │\n",
      "│ 2019-01-01 03:00 ┆ 7443.0         ┆ 1   │\n",
      "│ 2019-01-01 04:00 ┆ 7353.0         ┆ 1   │\n",
      "│ …                ┆ …              ┆ …   │\n",
      "│ 2024-01-31 19:00 ┆ 8055.0         ┆ 1   │\n",
      "│ 2024-01-31 20:00 ┆ 7774.0         ┆ 1   │\n",
      "│ 2024-01-31 21:00 ┆ 7417.0         ┆ 1   │\n",
      "│ 2024-01-31 22:00 ┆ 6997.0         ┆ 1   │\n",
      "│ 2024-01-31 23:00 ┆ 6821.0         ┆ 1   │\n",
      "└──────────────────┴────────────────┴─────┘\n",
      "shape: (5, 2)\n",
      "┌──────────────────┬───────┐\n",
      "│ date             ┆ count │\n",
      "│ ---              ┆ ---   │\n",
      "│ str              ┆ u32   │\n",
      "╞══════════════════╪═══════╡\n",
      "│ 2019-10-27 02:00 ┆ 2     │\n",
      "│ 2020-10-25 02:00 ┆ 2     │\n",
      "│ 2021-10-31 02:00 ┆ 2     │\n",
      "│ 2022-10-30 02:00 ┆ 2     │\n",
      "│ 2023-10-29 02:00 ┆ 2     │\n",
      "└──────────────────┴───────┘\n"
     ]
    }
   ],
   "source": [
    "load_ch = (\n",
    "    pl.read_csv(\"actual_load_CH.csv\")\n",
    "    .with_columns(pl.col(\"date\").str.to_datetime())\n",
    "    .with_columns(pl.col(\"date\").dt.convert_time_zone(\"Europe/Zurich\").dt.truncate(\"1h\"))\n",
    "    .group_by(\"date\")\n",
    "    .agg(pl.mean(\"actual_load\"))\n",
    "    .with_columns((pl.col(\"date\").dt.dst_offset() == 0).cast(pl.Int16).alias(\"dst\"))\n",
    "    .with_columns(pl.col(\"date\").dt.strftime(\"%Y-%m-%d %H:%M\"))\n",
    "    .unique(subset=[\"date\", \"dst\"])\n",
    "    .sort(\"date\")\n",
    "    .rename({\"actual_load\": \"actual_load_ch\"})\n",
    ")\n",
    "\n",
    "load_ch.pipe(print)\n",
    "load_ch[\"date\"].value_counts().filter(pl.col(\"count\") != 1).sort(\"date\").pipe(print)"
   ]
  },
  {
   "cell_type": "code",
   "execution_count": 276,
   "metadata": {},
   "outputs": [
    {
     "name": "stdout",
     "output_type": "stream",
     "text": [
      "shape: (44_568, 3)\n",
      "┌──────────────────┬────────────────┬─────┐\n",
      "│ date             ┆ actual_load_de ┆ dst │\n",
      "│ ---              ┆ ---            ┆ --- │\n",
      "│ str              ┆ f64            ┆ i16 │\n",
      "╞══════════════════╪════════════════╪═════╡\n",
      "│ 2019-01-01 00:00 ┆ 43713.5        ┆ 1   │\n",
      "│ 2019-01-01 01:00 ┆ 42091.0        ┆ 1   │\n",
      "│ 2019-01-01 02:00 ┆ 40537.0        ┆ 1   │\n",
      "│ 2019-01-01 03:00 ┆ 39725.75       ┆ 1   │\n",
      "│ 2019-01-01 04:00 ┆ 39502.0        ┆ 1   │\n",
      "│ …                ┆ …              ┆ …   │\n",
      "│ 2024-01-31 19:00 ┆ 69814.25       ┆ 1   │\n",
      "│ 2024-01-31 20:00 ┆ 66137.75       ┆ 1   │\n",
      "│ 2024-01-31 21:00 ┆ 62751.0        ┆ 1   │\n",
      "│ 2024-01-31 22:00 ┆ 60155.25       ┆ 1   │\n",
      "│ 2024-01-31 23:00 ┆ 56119.75       ┆ 1   │\n",
      "└──────────────────┴────────────────┴─────┘\n",
      "shape: (5, 2)\n",
      "┌──────────────────┬───────┐\n",
      "│ date             ┆ count │\n",
      "│ ---              ┆ ---   │\n",
      "│ str              ┆ u32   │\n",
      "╞══════════════════╪═══════╡\n",
      "│ 2019-10-27 02:00 ┆ 2     │\n",
      "│ 2020-10-25 02:00 ┆ 2     │\n",
      "│ 2021-10-31 02:00 ┆ 2     │\n",
      "│ 2022-10-30 02:00 ┆ 2     │\n",
      "│ 2023-10-29 02:00 ┆ 2     │\n",
      "└──────────────────┴───────┘\n"
     ]
    }
   ],
   "source": [
    "load_de = (\n",
    "    pl.read_csv(\"actual_load_DE_LU.csv\")\n",
    "    .with_columns(pl.col(\"date\").str.to_datetime())\n",
    "    .with_columns(pl.col(\"date\").dt.convert_time_zone(\"Europe/Zurich\").dt.truncate(\"1h\"))\n",
    "    .group_by(\"date\")\n",
    "    .agg(pl.mean(\"actual_load\"))\n",
    "    .with_columns((pl.col(\"date\").dt.dst_offset() == 0).cast(pl.Int16).alias(\"dst\"))\n",
    "    .with_columns(pl.col(\"date\").dt.strftime(\"%Y-%m-%d %H:%M\"))\n",
    "    .unique(subset=[\"date\", \"dst\"])\n",
    "    .sort(\"date\")\n",
    "    .rename({\"actual_load\": \"actual_load_de\"})\n",
    ")\n",
    "\n",
    "load_de.pipe(print)\n",
    "load_de[\"date\"].value_counts().filter(pl.col(\"count\") != 1).sort(\"date\").pipe(print)"
   ]
  },
  {
   "cell_type": "code",
   "execution_count": 277,
   "metadata": {},
   "outputs": [
    {
     "name": "stdout",
     "output_type": "stream",
     "text": [
      "shape: (44_518, 3)\n",
      "┌──────────────────┬────────────────┬─────┐\n",
      "│ date             ┆ actual_load_fr ┆ dst │\n",
      "│ ---              ┆ ---            ┆ --- │\n",
      "│ str              ┆ f64            ┆ i16 │\n",
      "╞══════════════════╪════════════════╪═════╡\n",
      "│ 2019-01-01 00:00 ┆ 62176.0        ┆ 1   │\n",
      "│ 2019-01-01 01:00 ┆ 60301.0        ┆ 1   │\n",
      "│ 2019-01-01 02:00 ┆ 58540.0        ┆ 1   │\n",
      "│ 2019-01-01 03:00 ┆ 55144.0        ┆ 1   │\n",
      "│ 2019-01-01 04:00 ┆ 52978.0        ┆ 1   │\n",
      "│ …                ┆ …              ┆ …   │\n",
      "│ 2024-01-31 19:00 ┆ 63343.0        ┆ 1   │\n",
      "│ 2024-01-31 20:00 ┆ 64827.0        ┆ 1   │\n",
      "│ 2024-01-31 21:00 ┆ 61646.0        ┆ 1   │\n",
      "│ 2024-01-31 22:00 ┆ 58398.0        ┆ 1   │\n",
      "│ 2024-01-31 23:00 ┆ 58517.0        ┆ 1   │\n",
      "└──────────────────┴────────────────┴─────┘\n",
      "shape: (2, 2)\n",
      "┌──────────────────┬───────┐\n",
      "│ date             ┆ count │\n",
      "│ ---              ┆ ---   │\n",
      "│ str              ┆ u32   │\n",
      "╞══════════════════╪═══════╡\n",
      "│ 2022-10-30 02:00 ┆ 2     │\n",
      "│ 2023-10-29 02:00 ┆ 2     │\n",
      "└──────────────────┴───────┘\n"
     ]
    }
   ],
   "source": [
    "load_fr = (\n",
    "    pl.read_csv(\"actual_load_FR.csv\")\n",
    "    .with_columns(pl.col(\"date\").str.to_datetime())\n",
    "    .with_columns(pl.col(\"date\").dt.convert_time_zone(\"Europe/Zurich\").dt.truncate(\"1h\"))\n",
    "    .group_by(\"date\")\n",
    "    .agg(pl.mean(\"actual_load\"))\n",
    "    .with_columns((pl.col(\"date\").dt.dst_offset() == 0).cast(pl.Int16).alias(\"dst\"))\n",
    "    .with_columns(pl.col(\"date\").dt.strftime(\"%Y-%m-%d %H:%M\"))\n",
    "    .unique(subset=[\"date\", \"dst\"])\n",
    "    .sort(\"date\")\n",
    "    .rename({\"actual_load\": \"actual_load_fr\"})\n",
    ")\n",
    "\n",
    "load_fr.pipe(print)\n",
    "load_fr[\"date\"].value_counts().filter(pl.col(\"count\") != 1).sort(\"date\").pipe(print)"
   ]
  },
  {
   "cell_type": "code",
   "execution_count": 278,
   "metadata": {},
   "outputs": [
    {
     "name": "stdout",
     "output_type": "stream",
     "text": [
      "shape: (44_563, 3)\n",
      "┌──────────────────┬────────────────┬─────┐\n",
      "│ date             ┆ actual_load_it ┆ dst │\n",
      "│ ---              ┆ ---            ┆ --- │\n",
      "│ str              ┆ f64            ┆ i16 │\n",
      "╞══════════════════╪════════════════╪═════╡\n",
      "│ 2019-01-01 00:00 ┆ 23644.0        ┆ 1   │\n",
      "│ 2019-01-01 01:00 ┆ 22850.0        ┆ 1   │\n",
      "│ 2019-01-01 02:00 ┆ 21600.0        ┆ 1   │\n",
      "│ 2019-01-01 03:00 ┆ 20255.0        ┆ 1   │\n",
      "│ 2019-01-01 04:00 ┆ 19459.0        ┆ 1   │\n",
      "│ …                ┆ …              ┆ …   │\n",
      "│ 2024-01-31 19:00 ┆ 43670.0        ┆ 1   │\n",
      "│ 2024-01-31 20:00 ┆ 41362.0        ┆ 1   │\n",
      "│ 2024-01-31 21:00 ┆ 38122.0        ┆ 1   │\n",
      "│ 2024-01-31 22:00 ┆ 34165.0        ┆ 1   │\n",
      "│ 2024-01-31 23:00 ┆ 30578.0        ┆ 1   │\n",
      "└──────────────────┴────────────────┴─────┘\n",
      "shape: (5, 2)\n",
      "┌──────────────────┬───────┐\n",
      "│ date             ┆ count │\n",
      "│ ---              ┆ ---   │\n",
      "│ str              ┆ u32   │\n",
      "╞══════════════════╪═══════╡\n",
      "│ 2019-10-27 02:00 ┆ 2     │\n",
      "│ 2020-10-25 02:00 ┆ 2     │\n",
      "│ 2021-10-31 02:00 ┆ 2     │\n",
      "│ 2022-10-30 02:00 ┆ 2     │\n",
      "│ 2023-10-29 02:00 ┆ 2     │\n",
      "└──────────────────┴───────┘\n"
     ]
    }
   ],
   "source": [
    "load_it = (\n",
    "    pl.read_csv(\"actual_load_IT.csv\")\n",
    "    .with_columns(pl.col(\"date\").str.to_datetime())\n",
    "    .with_columns(pl.col(\"date\").dt.convert_time_zone(\"Europe/Zurich\").dt.truncate(\"1h\"))\n",
    "    .group_by(\"date\")\n",
    "    .agg(pl.mean(\"actual_load\"))\n",
    "    .with_columns((pl.col(\"date\").dt.dst_offset() == 0).cast(pl.Int16).alias(\"dst\"))\n",
    "    .with_columns(pl.col(\"date\").dt.strftime(\"%Y-%m-%d %H:%M\"))\n",
    "    .unique(subset=[\"date\", \"dst\"])\n",
    "    .sort(\"date\")\n",
    "    .rename({\"actual_load\": \"actual_load_it\"})\n",
    ")\n",
    "\n",
    "load_it.pipe(print)\n",
    "load_it[\"date\"].value_counts().filter(pl.col(\"count\") != 1).sort(\"date\").pipe(print)"
   ]
  },
  {
   "cell_type": "markdown",
   "metadata": {},
   "source": [
    "### Forecast Wind and Solar"
   ]
  },
  {
   "cell_type": "code",
   "execution_count": 296,
   "metadata": {},
   "outputs": [
    {
     "name": "stdout",
     "output_type": "stream",
     "text": [
      "shape: (44_568, 4)\n",
      "┌──────────────────┬───────────────────┬──────────────────────────┬─────┐\n",
      "│ date             ┆ solar_forecast_at ┆ wind_onshore_forecast_at ┆ dst │\n",
      "│ ---              ┆ ---               ┆ ---                      ┆ --- │\n",
      "│ str              ┆ f64               ┆ f64                      ┆ i16 │\n",
      "╞══════════════════╪═══════════════════╪══════════════════════════╪═════╡\n",
      "│ 2019-01-01 00:00 ┆ 0.0               ┆ 487.0                    ┆ 1   │\n",
      "│ 2019-01-01 01:00 ┆ 0.0               ┆ 398.0                    ┆ 1   │\n",
      "│ 2019-01-01 02:00 ┆ 0.0               ┆ 338.0                    ┆ 1   │\n",
      "│ 2019-01-01 03:00 ┆ 0.0               ┆ 309.0                    ┆ 1   │\n",
      "│ 2019-01-01 04:00 ┆ 0.0               ┆ 320.0                    ┆ 1   │\n",
      "│ …                ┆ …                 ┆ …                        ┆ …   │\n",
      "│ 2024-01-31 19:00 ┆ 0.0               ┆ 131.0                    ┆ 1   │\n",
      "│ 2024-01-31 20:00 ┆ 0.0               ┆ 152.0                    ┆ 1   │\n",
      "│ 2024-01-31 21:00 ┆ 0.0               ┆ 176.0                    ┆ 1   │\n",
      "│ 2024-01-31 22:00 ┆ 0.0               ┆ 194.0                    ┆ 1   │\n",
      "│ 2024-01-31 23:00 ┆ 0.0               ┆ 216.0                    ┆ 1   │\n",
      "└──────────────────┴───────────────────┴──────────────────────────┴─────┘\n",
      "shape: (5, 2)\n",
      "┌──────────────────┬───────┐\n",
      "│ date             ┆ count │\n",
      "│ ---              ┆ ---   │\n",
      "│ str              ┆ u32   │\n",
      "╞══════════════════╪═══════╡\n",
      "│ 2019-10-27 02:00 ┆ 2     │\n",
      "│ 2020-10-25 02:00 ┆ 2     │\n",
      "│ 2021-10-31 02:00 ┆ 2     │\n",
      "│ 2022-10-30 02:00 ┆ 2     │\n",
      "│ 2023-10-29 02:00 ┆ 2     │\n",
      "└──────────────────┴───────┘\n"
     ]
    }
   ],
   "source": [
    "wind_solar_forecast_at = (\n",
    "    pl.read_csv(\"wind_solar_forecast_AT.csv\")\n",
    "    .with_columns(pl.col(\"date\").str.to_datetime())\n",
    "    .with_columns(pl.col(\"date\").dt.convert_time_zone(\"Europe/Zurich\").dt.truncate(\"1h\"))\n",
    "    .group_by(\"date\")\n",
    "    .agg(\n",
    "        pl.mean(\"solar_forecast\"),\n",
    "        pl.mean(\"wind_onshore_forecast\"),\n",
    "    )\n",
    "    .with_columns((pl.col(\"date\").dt.dst_offset() == 0).cast(pl.Int16).alias(\"dst\"))\n",
    "    .with_columns(pl.col(\"date\").dt.strftime(\"%Y-%m-%d %H:%M\"))\n",
    "    .unique(subset=[\"date\", \"dst\"])\n",
    "    .sort(\"date\")\n",
    "    .rename(\n",
    "        {\n",
    "            \"solar_forecast\": \"solar_forecast_at\",\n",
    "            \"wind_onshore_forecast\": \"wind_onshore_forecast_at\",\n",
    "        }\n",
    "    )\n",
    ")\n",
    "\n",
    "wind_solar_forecast_at.pipe(print)\n",
    "wind_solar_forecast_at[\"date\"].value_counts().filter(pl.col(\"count\") != 1).sort(\"date\").pipe(print)"
   ]
  },
  {
   "cell_type": "code",
   "execution_count": 302,
   "metadata": {},
   "outputs": [
    {
     "name": "stdout",
     "output_type": "stream",
     "text": [
      "shape: (44_563, 4)\n",
      "┌──────────────────┬───────────────────┬──────────────────────────┬─────┐\n",
      "│ date             ┆ solar_forecast_ch ┆ wind_onshore_forecast_ch ┆ dst │\n",
      "│ ---              ┆ ---               ┆ ---                      ┆ --- │\n",
      "│ str              ┆ f64               ┆ f64                      ┆ i16 │\n",
      "╞══════════════════╪═══════════════════╪══════════════════════════╪═════╡\n",
      "│ 2019-01-01 00:00 ┆ 0.0               ┆ 2.0                      ┆ 1   │\n",
      "│ 2019-01-01 01:00 ┆ 0.0               ┆ 2.0                      ┆ 1   │\n",
      "│ 2019-01-01 02:00 ┆ 0.0               ┆ 2.0                      ┆ 1   │\n",
      "│ 2019-01-01 03:00 ┆ 0.0               ┆ 2.0                      ┆ 1   │\n",
      "│ 2019-01-01 04:00 ┆ 0.0               ┆ 2.0                      ┆ 1   │\n",
      "│ …                ┆ …                 ┆ …                        ┆ …   │\n",
      "│ 2024-01-31 19:00 ┆ 0.0               ┆ 0.0                      ┆ 1   │\n",
      "│ 2024-01-31 20:00 ┆ 0.0               ┆ 0.0                      ┆ 1   │\n",
      "│ 2024-01-31 21:00 ┆ 0.0               ┆ 0.0                      ┆ 1   │\n",
      "│ 2024-01-31 22:00 ┆ 0.0               ┆ 0.0                      ┆ 1   │\n",
      "│ 2024-01-31 23:00 ┆ 0.0               ┆ 0.0                      ┆ 1   │\n",
      "└──────────────────┴───────────────────┴──────────────────────────┴─────┘\n",
      "shape: (5, 2)\n",
      "┌──────────────────┬───────┐\n",
      "│ date             ┆ count │\n",
      "│ ---              ┆ ---   │\n",
      "│ str              ┆ u32   │\n",
      "╞══════════════════╪═══════╡\n",
      "│ 2019-10-27 02:00 ┆ 2     │\n",
      "│ 2020-10-25 02:00 ┆ 2     │\n",
      "│ 2021-10-31 02:00 ┆ 2     │\n",
      "│ 2022-10-30 02:00 ┆ 2     │\n",
      "│ 2023-10-29 02:00 ┆ 2     │\n",
      "└──────────────────┴───────┘\n"
     ]
    }
   ],
   "source": [
    "wind_solar_forecast_ch = (\n",
    "    pl.read_csv(\"wind_solar_forecast_CH.csv\")\n",
    "    .with_columns(pl.col(\"date\").str.to_datetime())\n",
    "    .with_columns(pl.col(\"date\").dt.convert_time_zone(\"Europe/Zurich\").dt.truncate(\"1h\"))\n",
    "    .group_by(\"date\")\n",
    "    .agg(\n",
    "        pl.mean(\"solar_forecast\"),\n",
    "        pl.mean(\"wind_onshore_forecast\"),\n",
    "    )\n",
    "    .with_columns((pl.col(\"date\").dt.dst_offset() == 0).cast(pl.Int16).alias(\"dst\"))\n",
    "    .with_columns(pl.col(\"date\").dt.strftime(\"%Y-%m-%d %H:%M\"))\n",
    "    .unique(subset=[\"date\", \"dst\"])\n",
    "    .sort(\"date\")\n",
    "    .rename(\n",
    "        {\n",
    "            \"solar_forecast\": \"solar_forecast_ch\",\n",
    "            \"wind_onshore_forecast\": \"wind_onshore_forecast_ch\",\n",
    "        }\n",
    "    )\n",
    ")\n",
    "\n",
    "wind_solar_forecast_ch.pipe(print)\n",
    "wind_solar_forecast_ch[\"date\"].value_counts().filter(pl.col(\"count\") != 1).sort(\"date\").pipe(print)"
   ]
  },
  {
   "cell_type": "code",
   "execution_count": 305,
   "metadata": {},
   "outputs": [
    {
     "name": "stdout",
     "output_type": "stream",
     "text": [
      "shape: (44_546, 5)\n",
      "┌──────────────────┬───────────────────┬──────────────────────────┬──────────────────────────┬─────┐\n",
      "│ date             ┆ solar_forecast_de ┆ wind_onshore_forecast_de ┆ wind_offshore_forecast_d ┆ dst │\n",
      "│ ---              ┆ ---               ┆ ---                      ┆ e                        ┆ --- │\n",
      "│ str              ┆ f64               ┆ f64                      ┆ ---                      ┆ i16 │\n",
      "│                  ┆                   ┆                          ┆ f64                      ┆     │\n",
      "╞══════════════════╪═══════════════════╪══════════════════════════╪══════════════════════════╪═════╡\n",
      "│ 2019-01-01 00:00 ┆ 0.0               ┆ 18879.75                 ┆ 5069.0                   ┆ 1   │\n",
      "│ 2019-01-01 01:00 ┆ 0.0               ┆ 20626.5                  ┆ 5042.25                  ┆ 1   │\n",
      "│ 2019-01-01 02:00 ┆ 0.0               ┆ 22355.5                  ┆ 5028.5                   ┆ 1   │\n",
      "│ 2019-01-01 03:00 ┆ 0.0               ┆ 24032.5                  ┆ 4977.75                  ┆ 1   │\n",
      "│ 2019-01-01 04:00 ┆ 0.0               ┆ 25452.0                  ┆ 4907.25                  ┆ 1   │\n",
      "│ …                ┆ …                 ┆ …                        ┆ …                        ┆ …   │\n",
      "│ 2024-01-31 19:00 ┆ 0.0               ┆ 27540.75                 ┆ 5476.5                   ┆ 1   │\n",
      "│ 2024-01-31 20:00 ┆ 0.0               ┆ 31092.0                  ┆ 5299.0                   ┆ 1   │\n",
      "│ 2024-01-31 21:00 ┆ 0.0               ┆ 33759.0                  ┆ 5142.75                  ┆ 1   │\n",
      "│ 2024-01-31 22:00 ┆ 0.0               ┆ 34532.0                  ┆ 5073.25                  ┆ 1   │\n",
      "│ 2024-01-31 23:00 ┆ 0.0               ┆ 35222.75                 ┆ 5022.0                   ┆ 1   │\n",
      "└──────────────────┴───────────────────┴──────────────────────────┴──────────────────────────┴─────┘\n",
      "shape: (5, 2)\n",
      "┌──────────────────┬───────┐\n",
      "│ date             ┆ count │\n",
      "│ ---              ┆ ---   │\n",
      "│ str              ┆ u32   │\n",
      "╞══════════════════╪═══════╡\n",
      "│ 2019-10-27 02:00 ┆ 2     │\n",
      "│ 2020-10-25 02:00 ┆ 2     │\n",
      "│ 2021-10-31 02:00 ┆ 2     │\n",
      "│ 2022-10-30 02:00 ┆ 2     │\n",
      "│ 2023-10-29 02:00 ┆ 2     │\n",
      "└──────────────────┴───────┘\n"
     ]
    }
   ],
   "source": [
    "wind_solar_forecast_de = (\n",
    "    pl.read_csv(\"wind_solar_forecast_DE_LU.csv\")\n",
    "    .with_columns(pl.col(\"date\").str.to_datetime())\n",
    "    .with_columns(pl.col(\"date\").dt.convert_time_zone(\"Europe/Zurich\").dt.truncate(\"1h\"))\n",
    "    .group_by(\"date\")\n",
    "    .agg(\n",
    "        pl.mean(\"solar_forecast\"),\n",
    "        pl.mean(\"wind_onshore_forecast\"),\n",
    "        pl.mean(\"wind_offshore_forecast\")\n",
    "    )\n",
    "    .with_columns((pl.col(\"date\").dt.dst_offset() == 0).cast(pl.Int16).alias(\"dst\"))\n",
    "    .with_columns(pl.col(\"date\").dt.strftime(\"%Y-%m-%d %H:%M\"))\n",
    "    .unique(subset=[\"date\", \"dst\"])\n",
    "    .sort(\"date\")\n",
    "    .rename(\n",
    "        {\n",
    "            \"solar_forecast\": \"solar_forecast_de\",\n",
    "            \"wind_offshore_forecast\": \"wind_offshore_forecast_de\",\n",
    "            \"wind_onshore_forecast\": \"wind_onshore_forecast_de\",\n",
    "        }\n",
    "    )\n",
    ")\n",
    "\n",
    "wind_solar_forecast_de.pipe(print)\n",
    "wind_solar_forecast_de[\"date\"].value_counts().filter(pl.col(\"count\") != 1).sort(\"date\").pipe(print)"
   ]
  },
  {
   "cell_type": "code",
   "execution_count": 307,
   "metadata": {},
   "outputs": [
    {
     "name": "stdout",
     "output_type": "stream",
     "text": [
      "shape: (44_344, 5)\n",
      "┌──────────────────┬───────────────────┬──────────────────────────┬──────────────────────────┬─────┐\n",
      "│ date             ┆ solar_forecast_fr ┆ wind_onshore_forecast_fr ┆ wind_offshore_forecast_f ┆ dst │\n",
      "│ ---              ┆ ---               ┆ ---                      ┆ r                        ┆ --- │\n",
      "│ str              ┆ f64               ┆ f64                      ┆ ---                      ┆ i16 │\n",
      "│                  ┆                   ┆                          ┆ str                      ┆     │\n",
      "╞══════════════════╪═══════════════════╪══════════════════════════╪══════════════════════════╪═════╡\n",
      "│ 2019-01-01 00:00 ┆ 0.0               ┆ 1698.0                   ┆ null                     ┆ 1   │\n",
      "│ 2019-01-01 01:00 ┆ 0.0               ┆ 1680.0                   ┆ null                     ┆ 1   │\n",
      "│ 2019-01-01 02:00 ┆ 0.0               ┆ 1675.0                   ┆ null                     ┆ 1   │\n",
      "│ 2019-01-01 03:00 ┆ 0.0               ┆ 1670.0                   ┆ null                     ┆ 1   │\n",
      "│ 2019-01-01 04:00 ┆ 0.0               ┆ 1664.0                   ┆ null                     ┆ 1   │\n",
      "│ …                ┆ …                 ┆ …                        ┆ …                        ┆ …   │\n",
      "│ 2024-01-31 19:00 ┆ 0.0               ┆ 5016.0                   ┆ null                     ┆ 1   │\n",
      "│ 2024-01-31 20:00 ┆ 0.0               ┆ 5760.0                   ┆ null                     ┆ 1   │\n",
      "│ 2024-01-31 21:00 ┆ 0.0               ┆ 6504.0                   ┆ null                     ┆ 1   │\n",
      "│ 2024-01-31 22:00 ┆ 0.0               ┆ 7249.0                   ┆ null                     ┆ 1   │\n",
      "│ 2024-01-31 23:00 ┆ 0.0               ┆ 7624.0                   ┆ null                     ┆ 1   │\n",
      "└──────────────────┴───────────────────┴──────────────────────────┴──────────────────────────┴─────┘\n",
      "shape: (3, 2)\n",
      "┌──────────────────┬───────┐\n",
      "│ date             ┆ count │\n",
      "│ ---              ┆ ---   │\n",
      "│ str              ┆ u32   │\n",
      "╞══════════════════╪═══════╡\n",
      "│ 2021-10-31 02:00 ┆ 2     │\n",
      "│ 2022-10-30 02:00 ┆ 2     │\n",
      "│ 2023-10-29 02:00 ┆ 2     │\n",
      "└──────────────────┴───────┘\n"
     ]
    }
   ],
   "source": [
    "wind_solar_forecast_fr = (\n",
    "    pl.read_csv(\"wind_solar_forecast_FR.csv\")\n",
    "    .with_columns(pl.col(\"date\").str.to_datetime())\n",
    "    .with_columns(pl.col(\"date\").dt.convert_time_zone(\"Europe/Zurich\").dt.truncate(\"1h\"))\n",
    "    .group_by(\"date\")\n",
    "    .agg(\n",
    "        pl.mean(\"solar_forecast\"),\n",
    "        pl.mean(\"wind_onshore_forecast\"),\n",
    "        pl.mean(\"wind_offshore_forecast\")\n",
    "    )\n",
    "    .with_columns((pl.col(\"date\").dt.dst_offset() == 0).cast(pl.Int16).alias(\"dst\"))\n",
    "    .with_columns(pl.col(\"date\").dt.strftime(\"%Y-%m-%d %H:%M\"))\n",
    "    .unique(subset=[\"date\", \"dst\"])\n",
    "    .sort(\"date\")\n",
    "    .rename(\n",
    "        {\n",
    "            \"solar_forecast\": \"solar_forecast_fr\",\n",
    "            \"wind_offshore_forecast\": \"wind_offshore_forecast_fr\",\n",
    "            \"wind_onshore_forecast\": \"wind_onshore_forecast_fr\",\n",
    "        }\n",
    "    )\n",
    ")\n",
    "\n",
    "wind_solar_forecast_fr.pipe(print)\n",
    "wind_solar_forecast_fr[\"date\"].value_counts().filter(pl.col(\"count\") != 1).sort(\"date\").pipe(print)"
   ]
  },
  {
   "cell_type": "code",
   "execution_count": 309,
   "metadata": {},
   "outputs": [
    {
     "name": "stdout",
     "output_type": "stream",
     "text": [
      "shape: (43_314, 4)\n",
      "┌──────────────────┬───────────────────┬──────────────────────────┬─────┐\n",
      "│ date             ┆ solar_forecast_it ┆ wind_onshore_forecast_it ┆ dst │\n",
      "│ ---              ┆ ---               ┆ ---                      ┆ --- │\n",
      "│ str              ┆ f64               ┆ str                      ┆ i16 │\n",
      "╞══════════════════╪═══════════════════╪══════════════════════════╪═════╡\n",
      "│ 2019-01-01 00:00 ┆ 0.0               ┆ null                     ┆ 1   │\n",
      "│ 2019-01-01 01:00 ┆ 0.0               ┆ null                     ┆ 1   │\n",
      "│ 2019-01-01 02:00 ┆ 0.0               ┆ null                     ┆ 1   │\n",
      "│ 2019-01-01 03:00 ┆ 0.0               ┆ null                     ┆ 1   │\n",
      "│ 2019-01-01 04:00 ┆ 0.0               ┆ null                     ┆ 1   │\n",
      "│ …                ┆ …                 ┆ …                        ┆ …   │\n",
      "│ 2024-01-31 19:00 ┆ 0.0               ┆ null                     ┆ 1   │\n",
      "│ 2024-01-31 20:00 ┆ 0.0               ┆ null                     ┆ 1   │\n",
      "│ 2024-01-31 21:00 ┆ 0.0               ┆ null                     ┆ 1   │\n",
      "│ 2024-01-31 22:00 ┆ 0.0               ┆ null                     ┆ 1   │\n",
      "│ 2024-01-31 23:00 ┆ 0.0               ┆ null                     ┆ 1   │\n",
      "└──────────────────┴───────────────────┴──────────────────────────┴─────┘\n",
      "shape: (4, 2)\n",
      "┌──────────────────┬───────┐\n",
      "│ date             ┆ count │\n",
      "│ ---              ┆ ---   │\n",
      "│ str              ┆ u32   │\n",
      "╞══════════════════╪═══════╡\n",
      "│ 2019-10-27 02:00 ┆ 2     │\n",
      "│ 2020-10-25 02:00 ┆ 2     │\n",
      "│ 2021-10-31 02:00 ┆ 2     │\n",
      "│ 2022-10-30 02:00 ┆ 2     │\n",
      "└──────────────────┴───────┘\n"
     ]
    }
   ],
   "source": [
    "wind_solar_forecast_it = (\n",
    "    pl.read_csv(\"wind_solar_forecast_IT.csv\")\n",
    "    .with_columns(pl.col(\"date\").str.to_datetime())\n",
    "    .with_columns(pl.col(\"date\").dt.convert_time_zone(\"Europe/Zurich\").dt.truncate(\"1h\"))\n",
    "    .group_by(\"date\")\n",
    "    .agg(\n",
    "        pl.mean(\"solar_forecast\"),\n",
    "        pl.mean(\"wind_onshore_forecast\"),\n",
    "    )\n",
    "    .with_columns((pl.col(\"date\").dt.dst_offset() == 0).cast(pl.Int16).alias(\"dst\"))\n",
    "    .with_columns(pl.col(\"date\").dt.strftime(\"%Y-%m-%d %H:%M\"))\n",
    "    .unique(subset=[\"date\", \"dst\"])\n",
    "    .sort(\"date\")\n",
    "    .rename(\n",
    "        {\n",
    "            \"solar_forecast\": \"solar_forecast_it\",\n",
    "            \"wind_onshore_forecast\": \"wind_onshore_forecast_it\",\n",
    "        }\n",
    "    )\n",
    ")\n",
    "\n",
    "wind_solar_forecast_it.pipe(print)\n",
    "wind_solar_forecast_it[\"date\"].value_counts().filter(pl.col(\"count\") != 1).sort(\"date\").pipe(print)"
   ]
  },
  {
   "cell_type": "markdown",
   "metadata": {},
   "source": [
    "### Generation Actuals (All Types)"
   ]
  },
  {
   "cell_type": "markdown",
   "metadata": {},
   "source": [
    "#### Austria"
   ]
  },
  {
   "cell_type": "code",
   "execution_count": 409,
   "metadata": {},
   "outputs": [
    {
     "data": {
      "text/html": [
       "<div><style>\n",
       ".dataframe > thead > tr,\n",
       ".dataframe > tbody > tr {\n",
       "  text-align: right;\n",
       "  white-space: pre-wrap;\n",
       "}\n",
       "</style>\n",
       "<small>shape: (3, 27)</small><table border=\"1\" class=\"dataframe\"><thead><tr><th>column_1</th><th>column_2</th><th>column_3</th><th>column_4</th><th>column_5</th><th>column_6</th><th>column_7</th><th>column_8</th><th>column_9</th><th>column_10</th><th>column_11</th><th>column_12</th><th>column_13</th><th>column_14</th><th>column_15</th><th>column_16</th><th>column_17</th><th>column_18</th><th>column_19</th><th>column_20</th><th>column_21</th><th>column_22</th><th>column_23</th><th>column_24</th><th>column_25</th><th>column_26</th><th>column_27</th></tr><tr><td>str</td><td>str</td><td>str</td><td>str</td><td>str</td><td>str</td><td>str</td><td>str</td><td>str</td><td>str</td><td>str</td><td>str</td><td>str</td><td>str</td><td>str</td><td>str</td><td>str</td><td>str</td><td>str</td><td>str</td><td>str</td><td>str</td><td>str</td><td>str</td><td>str</td><td>str</td><td>str</td></tr></thead><tbody><tr><td>&quot;date&quot;</td><td>&quot;Biomass&quot;</td><td>&quot;Biomass&quot;</td><td>&quot;Fossil Gas&quot;</td><td>&quot;Fossil Gas&quot;</td><td>&quot;Fossil Hard co…</td><td>&quot;Fossil Hard co…</td><td>&quot;Fossil Oil&quot;</td><td>&quot;Fossil Oil&quot;</td><td>&quot;Geothermal&quot;</td><td>&quot;Geothermal&quot;</td><td>&quot;Hydro Pumped S…</td><td>&quot;Hydro Pumped S…</td><td>&quot;Hydro Run-of-r…</td><td>&quot;Hydro Run-of-r…</td><td>&quot;Hydro Water Re…</td><td>&quot;Hydro Water Re…</td><td>&quot;Other&quot;</td><td>&quot;Other&quot;</td><td>&quot;Other renewabl…</td><td>&quot;Other renewabl…</td><td>&quot;Solar&quot;</td><td>&quot;Solar&quot;</td><td>&quot;Waste&quot;</td><td>&quot;Waste&quot;</td><td>&quot;Wind Onshore&quot;</td><td>&quot;Wind Onshore&quot;</td></tr><tr><td>null</td><td>&quot;Actual Aggrega…</td><td>&quot;Actual Consump…</td><td>&quot;Actual Aggrega…</td><td>&quot;Actual Consump…</td><td>&quot;Actual Aggrega…</td><td>&quot;Actual Consump…</td><td>&quot;Actual Aggrega…</td><td>&quot;Actual Consump…</td><td>&quot;Actual Aggrega…</td><td>&quot;Actual Consump…</td><td>&quot;Actual Aggrega…</td><td>&quot;Actual Consump…</td><td>&quot;Actual Aggrega…</td><td>&quot;Actual Consump…</td><td>&quot;Actual Aggrega…</td><td>&quot;Actual Consump…</td><td>&quot;Actual Aggrega…</td><td>&quot;Actual Consump…</td><td>&quot;Actual Aggrega…</td><td>&quot;Actual Consump…</td><td>&quot;Actual Aggrega…</td><td>&quot;Actual Consump…</td><td>&quot;Actual Aggrega…</td><td>&quot;Actual Consump…</td><td>&quot;Actual Aggrega…</td><td>&quot;Actual Consump…</td></tr><tr><td>&quot;2019-01-01 00:…</td><td>&quot;304.0&quot;</td><td>&quot;0.0&quot;</td><td>&quot;1339.0&quot;</td><td>&quot;0.0&quot;</td><td>&quot;154.0&quot;</td><td>&quot;0.0&quot;</td><td>&quot;0.0&quot;</td><td>&quot;0.0&quot;</td><td>&quot;0.0&quot;</td><td>&quot;0.0&quot;</td><td>&quot;0.0&quot;</td><td>&quot;1577.0&quot;</td><td>&quot;2699.0&quot;</td><td>&quot;0.0&quot;</td><td>&quot;140.0&quot;</td><td>&quot;0.0&quot;</td><td>&quot;22.0&quot;</td><td>&quot;0.0&quot;</td><td>&quot;0.0&quot;</td><td>&quot;0.0&quot;</td><td>&quot;0.0&quot;</td><td>&quot;0.0&quot;</td><td>&quot;100.0&quot;</td><td>&quot;0.0&quot;</td><td>&quot;288.0&quot;</td><td>&quot;0.0&quot;</td></tr></tbody></table></div>"
      ],
      "text/plain": [
       "shape: (3, 27)\n",
       "┌───────────┬───────────┬───────────┬───────────┬───┬───────────┬───────────┬───────────┬──────────┐\n",
       "│ column_1  ┆ column_2  ┆ column_3  ┆ column_4  ┆ … ┆ column_24 ┆ column_25 ┆ column_26 ┆ column_2 │\n",
       "│ ---       ┆ ---       ┆ ---       ┆ ---       ┆   ┆ ---       ┆ ---       ┆ ---       ┆ 7        │\n",
       "│ str       ┆ str       ┆ str       ┆ str       ┆   ┆ str       ┆ str       ┆ str       ┆ ---      │\n",
       "│           ┆           ┆           ┆           ┆   ┆           ┆           ┆           ┆ str      │\n",
       "╞═══════════╪═══════════╪═══════════╪═══════════╪═══╪═══════════╪═══════════╪═══════════╪══════════╡\n",
       "│ date      ┆ Biomass   ┆ Biomass   ┆ Fossil    ┆ … ┆ Waste     ┆ Waste     ┆ Wind      ┆ Wind     │\n",
       "│           ┆           ┆           ┆ Gas       ┆   ┆           ┆           ┆ Onshore   ┆ Onshore  │\n",
       "│ null      ┆ Actual    ┆ Actual    ┆ Actual    ┆ … ┆ Actual    ┆ Actual    ┆ Actual    ┆ Actual   │\n",
       "│           ┆ Aggregate ┆ Consumpti ┆ Aggregate ┆   ┆ Aggregate ┆ Consumpti ┆ Aggregate ┆ Consumpt │\n",
       "│           ┆ d         ┆ on        ┆ d         ┆   ┆ d         ┆ on        ┆ d         ┆ ion      │\n",
       "│ 2019-01-0 ┆ 304.0     ┆ 0.0       ┆ 1339.0    ┆ … ┆ 100.0     ┆ 0.0       ┆ 288.0     ┆ 0.0      │\n",
       "│ 1 00:00:0 ┆           ┆           ┆           ┆   ┆           ┆           ┆           ┆          │\n",
       "│ 0+01:00   ┆           ┆           ┆           ┆   ┆           ┆           ┆           ┆          │\n",
       "└───────────┴───────────┴───────────┴───────────┴───┴───────────┴───────────┴───────────┴──────────┘"
      ]
     },
     "execution_count": 409,
     "metadata": {},
     "output_type": "execute_result"
    }
   ],
   "source": [
    "generation_at = pl.read_csv(\"generation_actual_all_AT.csv\", has_header=False)\n",
    "generation_at.head(3)"
   ]
  },
  {
   "cell_type": "code",
   "execution_count": 410,
   "metadata": {},
   "outputs": [
    {
     "data": {
      "text/plain": [
       "['date',\n",
       " 'biomass_actual_aggregated_at',\n",
       " 'biomass_actual_consumption_at',\n",
       " 'fossil_gas_actual_aggregated_at',\n",
       " 'fossil_gas_actual_consumption_at',\n",
       " 'fossil_hard_coal_actual_aggregated_at',\n",
       " 'fossil_hard_coal_actual_consumption_at',\n",
       " 'fossil_oil_actual_aggregated_at',\n",
       " 'fossil_oil_actual_consumption_at',\n",
       " 'geothermal_actual_aggregated_at',\n",
       " 'geothermal_actual_consumption_at',\n",
       " 'hydro_pumped_storage_actual_aggregated_at',\n",
       " 'hydro_pumped_storage_actual_consumption_at',\n",
       " 'hydro_run-of-river_and_poundage_actual_aggregated_at',\n",
       " 'hydro_run-of-river_and_poundage_actual_consumption_at',\n",
       " 'hydro_water_reservoir_actual_aggregated_at',\n",
       " 'hydro_water_reservoir_actual_consumption_at',\n",
       " 'other_actual_aggregated_at',\n",
       " 'other_actual_consumption_at',\n",
       " 'other_renewable_actual_aggregated_at',\n",
       " 'other_renewable_actual_consumption_at',\n",
       " 'solar_actual_aggregated_at',\n",
       " 'solar_actual_consumption_at',\n",
       " 'waste_actual_aggregated_at',\n",
       " 'waste_actual_consumption_at',\n",
       " 'wind_onshore_actual_aggregated_at',\n",
       " 'wind_onshore_actual_consumption_at']"
      ]
     },
     "execution_count": 410,
     "metadata": {},
     "output_type": "execute_result"
    }
   ],
   "source": [
    "column_names = (\n",
    "    generation_at.head(2)\n",
    "    .transpose()\n",
    "    .with_columns(pl.col(\"column_1\").fill_null(value=\"\"))\n",
    "    .with_columns(\n",
    "        pl.concat_str([pl.col(\"column_0\"), pl.col(\"column_1\")], separator=\" \")\n",
    "        .str.strip_chars()\n",
    "        .alias(\"header\")\n",
    "    )\n",
    "    .with_columns(pl.concat_str([\"header\", pl.lit(\"AT\")], separator=\" \").str.to_lowercase().str.replace_all(\" \", \"_\"))\n",
    "    [\"header\"]\n",
    "    .to_list()\n",
    ")\n",
    "\n",
    "column_names[0] = \"date\"\n",
    "\n",
    "column_names"
   ]
  },
  {
   "cell_type": "code",
   "execution_count": 411,
   "metadata": {},
   "outputs": [],
   "source": [
    "generation_at = (\n",
    "    generation_at.tail(-2)\n",
    "    .rename(dict(zip(generation_at.columns, column_names)))\n",
    "    .with_columns(pl.col(\"date\").str.to_datetime())\n",
    "    .with_columns(\n",
    "        pl.col(\"date\").dt.convert_time_zone(\"Europe/Zurich\").dt.truncate(\"1h\")\n",
    "    )\n",
    "    .with_columns(cs.string().cast(pl.Float64))\n",
    "    .group_by(\"date\")\n",
    "    .agg(pl.all().mean())\n",
    "    .with_columns((pl.col(\"date\").dt.dst_offset() == 0).cast(pl.Int16).alias(\"dst\"))\n",
    "    .with_columns(pl.col(\"date\").dt.strftime(\"%Y-%m-%d %H:%M\"))\n",
    "    .unique(subset=[\"date\", \"dst\"])\n",
    "    .sort(\"date\")\n",
    ")"
   ]
  },
  {
   "cell_type": "code",
   "execution_count": 413,
   "metadata": {},
   "outputs": [
    {
     "name": "stdout",
     "output_type": "stream",
     "text": [
      "shape: (44_568, 28)\n",
      "┌────────────┬────────────┬────────────┬────────────┬───┬────────────┬───────────┬───────────┬─────┐\n",
      "│ date       ┆ biomass_ac ┆ biomass_ac ┆ fossil_gas ┆ … ┆ waste_actu ┆ wind_onsh ┆ wind_onsh ┆ dst │\n",
      "│ ---        ┆ tual_aggre ┆ tual_consu ┆ _actual_ag ┆   ┆ al_consump ┆ ore_actua ┆ ore_actua ┆ --- │\n",
      "│ str        ┆ gated_at   ┆ mption_at  ┆ gregated_a ┆   ┆ tion_at    ┆ l_aggrega ┆ l_consump ┆ i16 │\n",
      "│            ┆ ---        ┆ ---        ┆ t          ┆   ┆ ---        ┆ ted_a…    ┆ tion_…    ┆     │\n",
      "│            ┆ f64        ┆ f64        ┆ ---        ┆   ┆ f64        ┆ ---       ┆ ---       ┆     │\n",
      "│            ┆            ┆            ┆ f64        ┆   ┆            ┆ f64       ┆ f64       ┆     │\n",
      "╞════════════╪════════════╪════════════╪════════════╪═══╪════════════╪═══════════╪═══════════╪═════╡\n",
      "│ 2019-01-01 ┆ 304.0      ┆ 0.0        ┆ 1282.75    ┆ … ┆ 0.0        ┆ 248.0     ┆ 0.0       ┆ 1   │\n",
      "│ 00:00      ┆            ┆            ┆            ┆   ┆            ┆           ┆           ┆     │\n",
      "│ 2019-01-01 ┆ 304.0      ┆ 0.0        ┆ 945.75     ┆ … ┆ 0.0        ┆ 189.0     ┆ 0.0       ┆ 1   │\n",
      "│ 01:00      ┆            ┆            ┆            ┆   ┆            ┆           ┆           ┆     │\n",
      "│ 2019-01-01 ┆ 304.0      ┆ 0.0        ┆ 618.75     ┆ … ┆ 0.0        ┆ 142.0     ┆ 0.0       ┆ 1   │\n",
      "│ 02:00      ┆            ┆            ┆            ┆   ┆            ┆           ┆           ┆     │\n",
      "│ 2019-01-01 ┆ 304.0      ┆ 0.0        ┆ 575.5      ┆ … ┆ 0.0        ┆ 118.0     ┆ 0.0       ┆ 1   │\n",
      "│ 03:00      ┆            ┆            ┆            ┆   ┆            ┆           ┆           ┆     │\n",
      "│ 2019-01-01 ┆ 304.0      ┆ 0.0        ┆ 449.5      ┆ … ┆ 0.0        ┆ 165.0     ┆ 0.0       ┆ 1   │\n",
      "│ 04:00      ┆            ┆            ┆            ┆   ┆            ┆           ┆           ┆     │\n",
      "│ …          ┆ …          ┆ …          ┆ …          ┆ … ┆ …          ┆ …         ┆ …         ┆ …   │\n",
      "│ 2024-01-31 ┆ 192.0      ┆ 0.0        ┆ 2511.25    ┆ … ┆ 0.0        ┆ 34.0      ┆ 0.0       ┆ 1   │\n",
      "│ 19:00      ┆            ┆            ┆            ┆   ┆            ┆           ┆           ┆     │\n",
      "│ 2024-01-31 ┆ 192.0      ┆ 0.0        ┆ 2518.0     ┆ … ┆ 0.0        ┆ 38.0      ┆ 0.0       ┆ 1   │\n",
      "│ 20:00      ┆            ┆            ┆            ┆   ┆            ┆           ┆           ┆     │\n",
      "│ 2024-01-31 ┆ 190.0      ┆ 0.0        ┆ 2187.0     ┆ … ┆ 0.0        ┆ 61.0      ┆ 0.0       ┆ 1   │\n",
      "│ 21:00      ┆            ┆            ┆            ┆   ┆            ┆           ┆           ┆     │\n",
      "│ 2024-01-31 ┆ 192.0      ┆ 0.0        ┆ 1832.75    ┆ … ┆ 0.0        ┆ 111.0     ┆ 0.0       ┆ 1   │\n",
      "│ 22:00      ┆            ┆            ┆            ┆   ┆            ┆           ┆           ┆     │\n",
      "│ 2024-01-31 ┆ 192.0      ┆ 0.0        ┆ 1575.5     ┆ … ┆ 0.0        ┆ 147.0     ┆ 0.0       ┆ 1   │\n",
      "│ 23:00      ┆            ┆            ┆            ┆   ┆            ┆           ┆           ┆     │\n",
      "└────────────┴────────────┴────────────┴────────────┴───┴────────────┴───────────┴───────────┴─────┘\n",
      "shape: (5, 2)\n",
      "┌──────────────────┬───────┐\n",
      "│ date             ┆ count │\n",
      "│ ---              ┆ ---   │\n",
      "│ str              ┆ u32   │\n",
      "╞══════════════════╪═══════╡\n",
      "│ 2019-10-27 02:00 ┆ 2     │\n",
      "│ 2020-10-25 02:00 ┆ 2     │\n",
      "│ 2021-10-31 02:00 ┆ 2     │\n",
      "│ 2022-10-30 02:00 ┆ 2     │\n",
      "│ 2023-10-29 02:00 ┆ 2     │\n",
      "└──────────────────┴───────┘\n"
     ]
    }
   ],
   "source": [
    "generation_at.pipe(print)\n",
    "generation_at[\"date\"].value_counts().filter(pl.col(\"count\") != 1).sort(\"date\").pipe(print)"
   ]
  },
  {
   "cell_type": "markdown",
   "metadata": {},
   "source": [
    "#### Switzerland"
   ]
  },
  {
   "cell_type": "code",
   "execution_count": 454,
   "metadata": {},
   "outputs": [
    {
     "data": {
      "text/html": [
       "<div><style>\n",
       ".dataframe > thead > tr,\n",
       ".dataframe > tbody > tr {\n",
       "  text-align: right;\n",
       "  white-space: pre-wrap;\n",
       "}\n",
       "</style>\n",
       "<small>shape: (3, 7)</small><table border=\"1\" class=\"dataframe\"><thead><tr><th>column_1</th><th>column_2</th><th>column_3</th><th>column_4</th><th>column_5</th><th>column_6</th><th>column_7</th></tr><tr><td>str</td><td>str</td><td>str</td><td>str</td><td>str</td><td>str</td><td>str</td></tr></thead><tbody><tr><td>&quot;date&quot;</td><td>&quot;Hydro Pumped S…</td><td>&quot;Hydro Run-of-r…</td><td>&quot;Hydro Water Re…</td><td>&quot;Nuclear&quot;</td><td>&quot;Solar&quot;</td><td>&quot;Wind Onshore&quot;</td></tr><tr><td>&quot;2019-01-01 00:…</td><td>&quot;81.0&quot;</td><td>&quot;123.0&quot;</td><td>&quot;481.0&quot;</td><td>&quot;3243.0&quot;</td><td>&quot;0.0&quot;</td><td>&quot;1.0&quot;</td></tr><tr><td>&quot;2019-01-01 01:…</td><td>&quot;76.0&quot;</td><td>&quot;124.0&quot;</td><td>&quot;393.0&quot;</td><td>&quot;3243.0&quot;</td><td>&quot;0.0&quot;</td><td>&quot;0.0&quot;</td></tr></tbody></table></div>"
      ],
      "text/plain": [
       "shape: (3, 7)\n",
       "┌───────────────┬───────────────┬──────────────┬──────────────┬──────────┬──────────┬──────────────┐\n",
       "│ column_1      ┆ column_2      ┆ column_3     ┆ column_4     ┆ column_5 ┆ column_6 ┆ column_7     │\n",
       "│ ---           ┆ ---           ┆ ---          ┆ ---          ┆ ---      ┆ ---      ┆ ---          │\n",
       "│ str           ┆ str           ┆ str          ┆ str          ┆ str      ┆ str      ┆ str          │\n",
       "╞═══════════════╪═══════════════╪══════════════╪══════════════╪══════════╪══════════╪══════════════╡\n",
       "│ date          ┆ Hydro Pumped  ┆ Hydro        ┆ Hydro Water  ┆ Nuclear  ┆ Solar    ┆ Wind Onshore │\n",
       "│               ┆ Storage       ┆ Run-of-river ┆ Reservoir    ┆          ┆          ┆              │\n",
       "│               ┆               ┆ and poundage ┆              ┆          ┆          ┆              │\n",
       "│ 2019-01-01    ┆ 81.0          ┆ 123.0        ┆ 481.0        ┆ 3243.0   ┆ 0.0      ┆ 1.0          │\n",
       "│ 00:00:00+01:0 ┆               ┆              ┆              ┆          ┆          ┆              │\n",
       "│ 0             ┆               ┆              ┆              ┆          ┆          ┆              │\n",
       "│ 2019-01-01    ┆ 76.0          ┆ 124.0        ┆ 393.0        ┆ 3243.0   ┆ 0.0      ┆ 0.0          │\n",
       "│ 01:00:00+01:0 ┆               ┆              ┆              ┆          ┆          ┆              │\n",
       "│ 0             ┆               ┆              ┆              ┆          ┆          ┆              │\n",
       "└───────────────┴───────────────┴──────────────┴──────────────┴──────────┴──────────┴──────────────┘"
      ]
     },
     "execution_count": 454,
     "metadata": {},
     "output_type": "execute_result"
    }
   ],
   "source": [
    "generation_ch = pl.read_csv(\"generation_actual_all_CH.csv\", has_header=False)\n",
    "generation_ch.head(3)"
   ]
  },
  {
   "cell_type": "code",
   "execution_count": 455,
   "metadata": {},
   "outputs": [
    {
     "data": {
      "text/plain": [
       "['date',\n",
       " 'hydro_pumped_storage_ch',\n",
       " 'hydro_run-of-river_and_poundage_ch',\n",
       " 'hydro_water_reservoir_ch',\n",
       " 'nuclear_ch',\n",
       " 'solar_ch',\n",
       " 'wind_onshore_ch']"
      ]
     },
     "execution_count": 455,
     "metadata": {},
     "output_type": "execute_result"
    }
   ],
   "source": [
    "column_names = (\n",
    "    generation_ch.head(1)\n",
    "    .transpose()\n",
    "    .with_columns(pl.col(\"column_0\").str.strip_chars())\n",
    "    .with_columns(pl.col(\"column_0\").str.to_lowercase().str.replace_all(\" \", \"_\"))\n",
    "    .with_columns(pl.concat_str([pl.col(\"column_0\"), pl.lit(\"_ch\")], separator=\"\"))[\n",
    "        \"column_0\"\n",
    "    ]\n",
    "    .to_list()\n",
    ")\n",
    "\n",
    "column_names[0] = \"date\"\n",
    "\n",
    "column_names"
   ]
  },
  {
   "cell_type": "code",
   "execution_count": 456,
   "metadata": {},
   "outputs": [],
   "source": [
    "generation_ch = (\n",
    "    generation_ch.tail(-1)\n",
    "    .rename(dict(zip(generation_ch.columns, column_names)))\n",
    "    .with_columns(pl.col(\"date\").str.to_datetime())\n",
    "    .with_columns(\n",
    "        pl.col(\"date\").dt.convert_time_zone(\"Europe/Zurich\").dt.truncate(\"1h\")\n",
    "    )\n",
    "    .with_columns(cs.string().cast(pl.Float64))\n",
    "    .with_columns((pl.col(\"date\").dt.dst_offset() == 0).cast(pl.Int16).alias(\"dst\"))\n",
    "    .with_columns(pl.col(\"date\").dt.strftime(\"%Y-%m-%d %H:%M\"))\n",
    "    .unique(subset=[\"date\", \"dst\"])\n",
    "    .sort(\"date\")\n",
    ")"
   ]
  },
  {
   "cell_type": "code",
   "execution_count": 457,
   "metadata": {},
   "outputs": [
    {
     "name": "stdout",
     "output_type": "stream",
     "text": [
      "shape: (44_563, 8)\n",
      "┌─────────────┬─────────────┬─────────────┬─────────────┬────────────┬──────────┬────────────┬─────┐\n",
      "│ date        ┆ hydro_pumpe ┆ hydro_run-o ┆ hydro_water ┆ nuclear_ch ┆ solar_ch ┆ wind_onsho ┆ dst │\n",
      "│ ---         ┆ d_storage_c ┆ f-river_and ┆ _reservoir_ ┆ ---        ┆ ---      ┆ re_ch      ┆ --- │\n",
      "│ str         ┆ h           ┆ _poundage_… ┆ ch          ┆ f64        ┆ f64      ┆ ---        ┆ i16 │\n",
      "│             ┆ ---         ┆ ---         ┆ ---         ┆            ┆          ┆ f64        ┆     │\n",
      "│             ┆ f64         ┆ f64         ┆ f64         ┆            ┆          ┆            ┆     │\n",
      "╞═════════════╪═════════════╪═════════════╪═════════════╪════════════╪══════════╪════════════╪═════╡\n",
      "│ 2019-01-01  ┆ 81.0        ┆ 123.0       ┆ 481.0       ┆ 3243.0     ┆ 0.0      ┆ 1.0        ┆ 1   │\n",
      "│ 00:00       ┆             ┆             ┆             ┆            ┆          ┆            ┆     │\n",
      "│ 2019-01-01  ┆ 76.0        ┆ 124.0       ┆ 393.0       ┆ 3243.0     ┆ 0.0      ┆ 0.0        ┆ 1   │\n",
      "│ 01:00       ┆             ┆             ┆             ┆            ┆          ┆            ┆     │\n",
      "│ 2019-01-01  ┆ 31.0        ┆ 126.0       ┆ 345.0       ┆ 3245.0     ┆ 0.0      ┆ 0.0        ┆ 1   │\n",
      "│ 02:00       ┆             ┆             ┆             ┆            ┆          ┆            ┆     │\n",
      "│ 2019-01-01  ┆ 18.0        ┆ 135.0       ┆ 312.0       ┆ 3245.0     ┆ 0.0      ┆ 1.0        ┆ 1   │\n",
      "│ 03:00       ┆             ┆             ┆             ┆            ┆          ┆            ┆     │\n",
      "│ 2019-01-01  ┆ 13.0        ┆ 135.0       ┆ 339.0       ┆ 3245.0     ┆ 0.0      ┆ 2.0        ┆ 1   │\n",
      "│ 04:00       ┆             ┆             ┆             ┆            ┆          ┆            ┆     │\n",
      "│ …           ┆ …           ┆ …           ┆ …           ┆ …          ┆ …        ┆ …          ┆ …   │\n",
      "│ 2024-01-31  ┆ 2306.0      ┆ 200.0       ┆ 2893.0      ┆ 3015.0     ┆ 0.0      ┆ 10.0       ┆ 1   │\n",
      "│ 19:00       ┆             ┆             ┆             ┆            ┆          ┆            ┆     │\n",
      "│ 2024-01-31  ┆ 1654.0      ┆ 151.0       ┆ 2522.0      ┆ 3016.0     ┆ 0.0      ┆ 12.0       ┆ 1   │\n",
      "│ 20:00       ┆             ┆             ┆             ┆            ┆          ┆            ┆     │\n",
      "│ 2024-01-31  ┆ 1115.0      ┆ 145.0       ┆ 1559.0      ┆ 3018.0     ┆ 0.0      ┆ 14.0       ┆ 1   │\n",
      "│ 21:00       ┆             ┆             ┆             ┆            ┆          ┆            ┆     │\n",
      "│ 2024-01-31  ┆ 658.0       ┆ 132.0       ┆ 1339.0      ┆ 3018.0     ┆ 0.0      ┆ 20.0       ┆ 1   │\n",
      "│ 22:00       ┆             ┆             ┆             ┆            ┆          ┆            ┆     │\n",
      "│ 2024-01-31  ┆ 283.0       ┆ 135.0       ┆ 634.0       ┆ 3021.0     ┆ 0.0      ┆ 17.0       ┆ 1   │\n",
      "│ 23:00       ┆             ┆             ┆             ┆            ┆          ┆            ┆     │\n",
      "└─────────────┴─────────────┴─────────────┴─────────────┴────────────┴──────────┴────────────┴─────┘\n",
      "shape: (5, 2)\n",
      "┌──────────────────┬───────┐\n",
      "│ date             ┆ count │\n",
      "│ ---              ┆ ---   │\n",
      "│ str              ┆ u32   │\n",
      "╞══════════════════╪═══════╡\n",
      "│ 2019-10-27 02:00 ┆ 2     │\n",
      "│ 2020-10-25 02:00 ┆ 2     │\n",
      "│ 2021-10-31 02:00 ┆ 2     │\n",
      "│ 2022-10-30 02:00 ┆ 2     │\n",
      "│ 2023-10-29 02:00 ┆ 2     │\n",
      "└──────────────────┴───────┘\n"
     ]
    }
   ],
   "source": [
    "generation_ch.pipe(print)\n",
    "generation_ch[\"date\"].value_counts().filter(pl.col(\"count\") != 1).sort(\"date\").pipe(print)"
   ]
  },
  {
   "cell_type": "markdown",
   "metadata": {},
   "source": [
    "#### Germany"
   ]
  },
  {
   "cell_type": "code",
   "execution_count": 468,
   "metadata": {},
   "outputs": [
    {
     "data": {
      "text/html": [
       "<div><style>\n",
       ".dataframe > thead > tr,\n",
       ".dataframe > tbody > tr {\n",
       "  text-align: right;\n",
       "  white-space: pre-wrap;\n",
       "}\n",
       "</style>\n",
       "<small>shape: (3, 26)</small><table border=\"1\" class=\"dataframe\"><thead><tr><th>column_1</th><th>column_2</th><th>column_3</th><th>column_4</th><th>column_5</th><th>column_6</th><th>column_7</th><th>column_8</th><th>column_9</th><th>column_10</th><th>column_11</th><th>column_12</th><th>column_13</th><th>column_14</th><th>column_15</th><th>column_16</th><th>column_17</th><th>column_18</th><th>column_19</th><th>column_20</th><th>column_21</th><th>column_22</th><th>column_23</th><th>column_24</th><th>column_25</th><th>column_26</th></tr><tr><td>str</td><td>str</td><td>str</td><td>str</td><td>str</td><td>str</td><td>str</td><td>str</td><td>str</td><td>str</td><td>str</td><td>str</td><td>str</td><td>str</td><td>str</td><td>str</td><td>str</td><td>str</td><td>str</td><td>str</td><td>str</td><td>str</td><td>str</td><td>str</td><td>str</td><td>str</td></tr></thead><tbody><tr><td>&quot;date&quot;</td><td>&quot;Biomass&quot;</td><td>&quot;Fossil Brown c…</td><td>&quot;Fossil Coal-de…</td><td>&quot;Fossil Gas&quot;</td><td>&quot;Fossil Gas&quot;</td><td>&quot;Fossil Hard co…</td><td>&quot;Fossil Oil&quot;</td><td>&quot;Fossil Oil&quot;</td><td>&quot;Geothermal&quot;</td><td>&quot;Hydro Pumped S…</td><td>&quot;Hydro Pumped S…</td><td>&quot;Hydro Run-of-r…</td><td>&quot;Hydro Water Re…</td><td>&quot;Hydro Water Re…</td><td>&quot;Nuclear&quot;</td><td>&quot;Nuclear&quot;</td><td>&quot;Other&quot;</td><td>&quot;Other renewabl…</td><td>&quot;Other renewabl…</td><td>&quot;Solar&quot;</td><td>&quot;Solar&quot;</td><td>&quot;Waste&quot;</td><td>&quot;Wind Offshore&quot;</td><td>&quot;Wind Onshore&quot;</td><td>&quot;Wind Onshore&quot;</td></tr><tr><td>null</td><td>&quot;Actual Aggrega…</td><td>&quot;Actual Aggrega…</td><td>&quot;Actual Aggrega…</td><td>&quot;Actual Aggrega…</td><td>&quot;Actual Consump…</td><td>&quot;Actual Aggrega…</td><td>&quot;Actual Aggrega…</td><td>&quot;Actual Consump…</td><td>&quot;Actual Aggrega…</td><td>&quot;Actual Aggrega…</td><td>&quot;Actual Consump…</td><td>&quot;Actual Aggrega…</td><td>&quot;Actual Aggrega…</td><td>&quot;Actual Consump…</td><td>&quot;Actual Aggrega…</td><td>&quot;Actual Consump…</td><td>&quot;Actual Aggrega…</td><td>&quot;Actual Aggrega…</td><td>&quot;Actual Consump…</td><td>&quot;Actual Aggrega…</td><td>&quot;Actual Consump…</td><td>&quot;Actual Aggrega…</td><td>&quot;Actual Aggrega…</td><td>&quot;Actual Aggrega…</td><td>&quot;Actual Consump…</td></tr><tr><td>&quot;2019-01-01 00:…</td><td>&quot;4812.0&quot;</td><td>&quot;6932.0&quot;</td><td>&quot;273.0&quot;</td><td>&quot;3410.0&quot;</td><td>&quot;1.0&quot;</td><td>&quot;3345.0&quot;</td><td>&quot;482.0&quot;</td><td>null</td><td>&quot;19.0&quot;</td><td>&quot;350.0&quot;</td><td>&quot;1827.0&quot;</td><td>&quot;1485.0&quot;</td><td>&quot;132.0&quot;</td><td>null</td><td>&quot;9002.0&quot;</td><td>null</td><td>&quot;475.0&quot;</td><td>&quot;107.0&quot;</td><td>null</td><td>&quot;0.0&quot;</td><td>null</td><td>&quot;783.0&quot;</td><td>&quot;3177.0&quot;</td><td>&quot;19366.0&quot;</td><td>null</td></tr></tbody></table></div>"
      ],
      "text/plain": [
       "shape: (3, 26)\n",
       "┌───────────┬───────────┬───────────┬───────────┬───┬───────────┬───────────┬───────────┬──────────┐\n",
       "│ column_1  ┆ column_2  ┆ column_3  ┆ column_4  ┆ … ┆ column_23 ┆ column_24 ┆ column_25 ┆ column_2 │\n",
       "│ ---       ┆ ---       ┆ ---       ┆ ---       ┆   ┆ ---       ┆ ---       ┆ ---       ┆ 6        │\n",
       "│ str       ┆ str       ┆ str       ┆ str       ┆   ┆ str       ┆ str       ┆ str       ┆ ---      │\n",
       "│           ┆           ┆           ┆           ┆   ┆           ┆           ┆           ┆ str      │\n",
       "╞═══════════╪═══════════╪═══════════╪═══════════╪═══╪═══════════╪═══════════╪═══════════╪══════════╡\n",
       "│ date      ┆ Biomass   ┆ Fossil    ┆ Fossil    ┆ … ┆ Waste     ┆ Wind      ┆ Wind      ┆ Wind     │\n",
       "│           ┆           ┆ Brown coa ┆ Coal-deri ┆   ┆           ┆ Offshore  ┆ Onshore   ┆ Onshore  │\n",
       "│           ┆           ┆ l/Lignite ┆ ved gas   ┆   ┆           ┆           ┆           ┆          │\n",
       "│ null      ┆ Actual    ┆ Actual    ┆ Actual    ┆ … ┆ Actual    ┆ Actual    ┆ Actual    ┆ Actual   │\n",
       "│           ┆ Aggregate ┆ Aggregate ┆ Aggregate ┆   ┆ Aggregate ┆ Aggregate ┆ Aggregate ┆ Consumpt │\n",
       "│           ┆ d         ┆ d         ┆ d         ┆   ┆ d         ┆ d         ┆ d         ┆ ion      │\n",
       "│ 2019-01-0 ┆ 4812.0    ┆ 6932.0    ┆ 273.0     ┆ … ┆ 783.0     ┆ 3177.0    ┆ 19366.0   ┆ null     │\n",
       "│ 1 00:00:0 ┆           ┆           ┆           ┆   ┆           ┆           ┆           ┆          │\n",
       "│ 0+01:00   ┆           ┆           ┆           ┆   ┆           ┆           ┆           ┆          │\n",
       "└───────────┴───────────┴───────────┴───────────┴───┴───────────┴───────────┴───────────┴──────────┘"
      ]
     },
     "execution_count": 468,
     "metadata": {},
     "output_type": "execute_result"
    }
   ],
   "source": [
    "generation_de = pl.read_csv(\"generation_actual_all_DE_LU.csv\", has_header=False)\n",
    "generation_de.head(3)"
   ]
  },
  {
   "cell_type": "code",
   "execution_count": 469,
   "metadata": {},
   "outputs": [
    {
     "data": {
      "text/plain": [
       "['date',\n",
       " 'biomass_actual_aggregated_de',\n",
       " 'fossil_brown_coal_lignite_actual_aggregated_de',\n",
       " 'fossil_coal-derived_gas_actual_aggregated_de',\n",
       " 'fossil_gas_actual_aggregated_de',\n",
       " 'fossil_gas_actual_consumption_de',\n",
       " 'fossil_hard_coal_actual_aggregated_de',\n",
       " 'fossil_oil_actual_aggregated_de',\n",
       " 'fossil_oil_actual_consumption_de',\n",
       " 'geothermal_actual_aggregated_de',\n",
       " 'hydro_pumped_storage_actual_aggregated_de',\n",
       " 'hydro_pumped_storage_actual_consumption_de',\n",
       " 'hydro_run-of-river_and_poundage_actual_aggregated_de',\n",
       " 'hydro_water_reservoir_actual_aggregated_de',\n",
       " 'hydro_water_reservoir_actual_consumption_de',\n",
       " 'nuclear_actual_aggregated_de',\n",
       " 'nuclear_actual_consumption_de',\n",
       " 'other_actual_aggregated_de',\n",
       " 'other_renewable_actual_aggregated_de',\n",
       " 'other_renewable_actual_consumption_de',\n",
       " 'solar_actual_aggregated_de',\n",
       " 'solar_actual_consumption_de',\n",
       " 'waste_actual_aggregated_de',\n",
       " 'wind_offshore_actual_aggregated_de',\n",
       " 'wind_onshore_actual_aggregated_de',\n",
       " 'wind_onshore_actual_consumption_de']"
      ]
     },
     "execution_count": 469,
     "metadata": {},
     "output_type": "execute_result"
    }
   ],
   "source": [
    "column_names = (\n",
    "    generation_de.head(2)\n",
    "    .transpose()\n",
    "    .with_columns(pl.col(\"column_1\").fill_null(value=\"\"))\n",
    "    .with_columns(\n",
    "        pl.concat_str([pl.col(\"column_0\"), pl.col(\"column_1\")], separator=\" \")\n",
    "        .str.strip_chars()\n",
    "        .alias(\"header\")\n",
    "    )\n",
    "    .with_columns(pl.concat_str([\"header\", pl.lit(\"DE\")], separator=\" \").str.to_lowercase().str.replace_all(\" \", \"_\").str.replace_all(\"/\", \"_\"))\n",
    "    [\"header\"]\n",
    "    .to_list()\n",
    ")\n",
    "\n",
    "column_names[0] = \"date\"\n",
    "\n",
    "column_names"
   ]
  },
  {
   "cell_type": "code",
   "execution_count": 470,
   "metadata": {},
   "outputs": [],
   "source": [
    "generation_de = (\n",
    "    generation_de.tail(-2)\n",
    "    .rename(dict(zip(generation_de.columns, column_names)))\n",
    "    .with_columns(pl.col(\"date\").str.to_datetime())\n",
    "    .with_columns(\n",
    "        pl.col(\"date\").dt.convert_time_zone(\"Europe/Zurich\").dt.truncate(\"1h\")\n",
    "    )\n",
    "    .with_columns(cs.string().cast(pl.Float64))\n",
    "    .group_by(\"date\")\n",
    "    .agg(pl.all().mean())\n",
    "    .with_columns((pl.col(\"date\").dt.dst_offset() == 0).cast(pl.Int16).alias(\"dst\"))\n",
    "    .with_columns(pl.col(\"date\").dt.strftime(\"%Y-%m-%d %H:%M\"))\n",
    "    .unique(subset=[\"date\", \"dst\"])\n",
    "    .sort(\"date\")\n",
    ")"
   ]
  },
  {
   "cell_type": "code",
   "execution_count": 471,
   "metadata": {},
   "outputs": [
    {
     "name": "stdout",
     "output_type": "stream",
     "text": [
      "shape: (44_568, 27)\n",
      "┌────────────┬────────────┬────────────┬────────────┬───┬────────────┬───────────┬───────────┬─────┐\n",
      "│ date       ┆ biomass_ac ┆ fossil_bro ┆ fossil_coa ┆ … ┆ wind_offsh ┆ wind_onsh ┆ wind_onsh ┆ dst │\n",
      "│ ---        ┆ tual_aggre ┆ wn_coal_li ┆ l-derived_ ┆   ┆ ore_actual ┆ ore_actua ┆ ore_actua ┆ --- │\n",
      "│ str        ┆ gated_de   ┆ gnite_actu ┆ gas_actual ┆   ┆ _aggregate ┆ l_aggrega ┆ l_consump ┆ i16 │\n",
      "│            ┆ ---        ┆ al…        ┆ _a…        ┆   ┆ d_…        ┆ ted_d…    ┆ tion_…    ┆     │\n",
      "│            ┆ f64        ┆ ---        ┆ ---        ┆   ┆ ---        ┆ ---       ┆ ---       ┆     │\n",
      "│            ┆            ┆ f64        ┆ f64        ┆   ┆ f64        ┆ f64       ┆ f64       ┆     │\n",
      "╞════════════╪════════════╪════════════╪════════════╪═══╪════════════╪═══════════╪═══════════╪═════╡\n",
      "│ 2019-01-01 ┆ 4831.25    ┆ 6335.0     ┆ 429.0      ┆ … ┆ 3134.0     ┆ 20401.5   ┆ null      ┆ 1   │\n",
      "│ 00:00      ┆            ┆            ┆            ┆   ┆            ┆           ┆           ┆     │\n",
      "│ 2019-01-01 ┆ 4824.5     ┆ 5379.5     ┆ 455.5      ┆ … ┆ 2868.25    ┆ 22384.0   ┆ null      ┆ 1   │\n",
      "│ 01:00      ┆            ┆            ┆            ┆   ┆            ┆           ┆           ┆     │\n",
      "│ 2019-01-01 ┆ 4782.25    ┆ 5341.0     ┆ 469.5      ┆ … ┆ 2460.25    ┆ 23238.25  ┆ null      ┆ 1   │\n",
      "│ 02:00      ┆            ┆            ┆            ┆   ┆            ┆           ┆           ┆     │\n",
      "│ 2019-01-01 ┆ 4766.25    ┆ 5270.75    ┆ 501.75     ┆ … ┆ 2696.5     ┆ 24530.75  ┆ null      ┆ 1   │\n",
      "│ 03:00      ┆            ┆            ┆            ┆   ┆            ┆           ┆           ┆     │\n",
      "│ 2019-01-01 ┆ 4770.5     ┆ 5178.75    ┆ 520.5      ┆ … ┆ 2578.0     ┆ 26452.0   ┆ null      ┆ 1   │\n",
      "│ 04:00      ┆            ┆            ┆            ┆   ┆            ┆           ┆           ┆     │\n",
      "│ …          ┆ …          ┆ …          ┆ …          ┆ … ┆ …          ┆ …         ┆ …         ┆ …   │\n",
      "│ 2024-01-31 ┆ 4675.25    ┆ 8755.25    ┆ null       ┆ … ┆ 4872.0     ┆ 31227.0   ┆ 0.0       ┆ 1   │\n",
      "│ 19:00      ┆            ┆            ┆            ┆   ┆            ┆           ┆           ┆     │\n",
      "│ 2024-01-31 ┆ 4674.0     ┆ 7983.5     ┆ null       ┆ … ┆ 4038.0     ┆ 33431.25  ┆ 0.0       ┆ 1   │\n",
      "│ 20:00      ┆            ┆            ┆            ┆   ┆            ┆           ┆           ┆     │\n",
      "│ 2024-01-31 ┆ 4654.25    ┆ 7449.25    ┆ null       ┆ … ┆ 3433.25    ┆ 35978.5   ┆ 0.0       ┆ 1   │\n",
      "│ 21:00      ┆            ┆            ┆            ┆   ┆            ┆           ┆           ┆     │\n",
      "│ 2024-01-31 ┆ 4630.25    ┆ 5675.0     ┆ null       ┆ … ┆ 3804.5     ┆ 36944.25  ┆ 0.0       ┆ 1   │\n",
      "│ 22:00      ┆            ┆            ┆            ┆   ┆            ┆           ┆           ┆     │\n",
      "│ 2024-01-31 ┆ 4646.25    ┆ 5137.5     ┆ null       ┆ … ┆ 3252.75    ┆ 37334.5   ┆ 0.0       ┆ 1   │\n",
      "│ 23:00      ┆            ┆            ┆            ┆   ┆            ┆           ┆           ┆     │\n",
      "└────────────┴────────────┴────────────┴────────────┴───┴────────────┴───────────┴───────────┴─────┘\n",
      "shape: (5, 2)\n",
      "┌──────────────────┬───────┐\n",
      "│ date             ┆ count │\n",
      "│ ---              ┆ ---   │\n",
      "│ str              ┆ u32   │\n",
      "╞══════════════════╪═══════╡\n",
      "│ 2019-10-27 02:00 ┆ 2     │\n",
      "│ 2020-10-25 02:00 ┆ 2     │\n",
      "│ 2021-10-31 02:00 ┆ 2     │\n",
      "│ 2022-10-30 02:00 ┆ 2     │\n",
      "│ 2023-10-29 02:00 ┆ 2     │\n",
      "└──────────────────┴───────┘\n"
     ]
    }
   ],
   "source": [
    "generation_de.pipe(print)\n",
    "generation_de[\"date\"].value_counts().filter(pl.col(\"count\") != 1).sort(\"date\").pipe(print)"
   ]
  },
  {
   "cell_type": "markdown",
   "metadata": {},
   "source": [
    "#### France"
   ]
  },
  {
   "cell_type": "code",
   "execution_count": 2,
   "metadata": {},
   "outputs": [
    {
     "data": {
      "text/html": [
       "<div><style>\n",
       ".dataframe > thead > tr,\n",
       ".dataframe > tbody > tr {\n",
       "  text-align: right;\n",
       "  white-space: pre-wrap;\n",
       "}\n",
       "</style>\n",
       "<small>shape: (3, 17)</small><table border=\"1\" class=\"dataframe\"><thead><tr><th>column_1</th><th>column_2</th><th>column_3</th><th>column_4</th><th>column_5</th><th>column_6</th><th>column_7</th><th>column_8</th><th>column_9</th><th>column_10</th><th>column_11</th><th>column_12</th><th>column_13</th><th>column_14</th><th>column_15</th><th>column_16</th><th>column_17</th></tr><tr><td>str</td><td>str</td><td>str</td><td>str</td><td>str</td><td>str</td><td>str</td><td>str</td><td>str</td><td>str</td><td>str</td><td>str</td><td>str</td><td>str</td><td>str</td><td>str</td><td>str</td></tr></thead><tbody><tr><td>&quot;date&quot;</td><td>&quot;Biomass&quot;</td><td>&quot;Fossil Gas&quot;</td><td>&quot;Fossil Hard co…</td><td>&quot;Fossil Hard co…</td><td>&quot;Fossil Oil&quot;</td><td>&quot;Hydro Pumped S…</td><td>&quot;Hydro Pumped S…</td><td>&quot;Hydro Run-of-r…</td><td>&quot;Hydro Water Re…</td><td>&quot;Hydro Water Re…</td><td>&quot;Nuclear&quot;</td><td>&quot;Solar&quot;</td><td>&quot;Waste&quot;</td><td>&quot;Wind Offshore&quot;</td><td>&quot;Wind Offshore&quot;</td><td>&quot;Wind Onshore&quot;</td></tr><tr><td>null</td><td>&quot;Actual Aggrega…</td><td>&quot;Actual Aggrega…</td><td>&quot;Actual Aggrega…</td><td>&quot;Actual Consump…</td><td>&quot;Actual Aggrega…</td><td>&quot;Actual Aggrega…</td><td>&quot;Actual Consump…</td><td>&quot;Actual Aggrega…</td><td>&quot;Actual Aggrega…</td><td>&quot;Actual Consump…</td><td>&quot;Actual Aggrega…</td><td>&quot;Actual Aggrega…</td><td>&quot;Actual Aggrega…</td><td>&quot;Actual Aggrega…</td><td>&quot;Actual Consump…</td><td>&quot;Actual Aggrega…</td></tr><tr><td>&quot;2019-01-01 00:…</td><td>&quot;351.0&quot;</td><td>&quot;2722.0&quot;</td><td>&quot;0.0&quot;</td><td>null</td><td>&quot;207.0&quot;</td><td>null</td><td>&quot;1377.0&quot;</td><td>&quot;3552.0&quot;</td><td>&quot;1054.0&quot;</td><td>null</td><td>&quot;55627.0&quot;</td><td>&quot;0.0&quot;</td><td>&quot;253.0&quot;</td><td>null</td><td>null</td><td>&quot;1622.0&quot;</td></tr></tbody></table></div>"
      ],
      "text/plain": [
       "shape: (3, 17)\n",
       "┌───────────┬───────────┬───────────┬───────────┬───┬───────────┬───────────┬───────────┬──────────┐\n",
       "│ column_1  ┆ column_2  ┆ column_3  ┆ column_4  ┆ … ┆ column_14 ┆ column_15 ┆ column_16 ┆ column_1 │\n",
       "│ ---       ┆ ---       ┆ ---       ┆ ---       ┆   ┆ ---       ┆ ---       ┆ ---       ┆ 7        │\n",
       "│ str       ┆ str       ┆ str       ┆ str       ┆   ┆ str       ┆ str       ┆ str       ┆ ---      │\n",
       "│           ┆           ┆           ┆           ┆   ┆           ┆           ┆           ┆ str      │\n",
       "╞═══════════╪═══════════╪═══════════╪═══════════╪═══╪═══════════╪═══════════╪═══════════╪══════════╡\n",
       "│ date      ┆ Biomass   ┆ Fossil    ┆ Fossil    ┆ … ┆ Waste     ┆ Wind      ┆ Wind      ┆ Wind     │\n",
       "│           ┆           ┆ Gas       ┆ Hard coal ┆   ┆           ┆ Offshore  ┆ Offshore  ┆ Onshore  │\n",
       "│ null      ┆ Actual    ┆ Actual    ┆ Actual    ┆ … ┆ Actual    ┆ Actual    ┆ Actual    ┆ Actual   │\n",
       "│           ┆ Aggregate ┆ Aggregate ┆ Aggregate ┆   ┆ Aggregate ┆ Aggregate ┆ Consumpti ┆ Aggregat │\n",
       "│           ┆ d         ┆ d         ┆ d         ┆   ┆ d         ┆ d         ┆ on        ┆ ed       │\n",
       "│ 2019-01-0 ┆ 351.0     ┆ 2722.0    ┆ 0.0       ┆ … ┆ 253.0     ┆ null      ┆ null      ┆ 1622.0   │\n",
       "│ 1 00:00:0 ┆           ┆           ┆           ┆   ┆           ┆           ┆           ┆          │\n",
       "│ 0+01:00   ┆           ┆           ┆           ┆   ┆           ┆           ┆           ┆          │\n",
       "└───────────┴───────────┴───────────┴───────────┴───┴───────────┴───────────┴───────────┴──────────┘"
      ]
     },
     "execution_count": 2,
     "metadata": {},
     "output_type": "execute_result"
    }
   ],
   "source": [
    "generation_fr = pl.read_csv(\"generation_actual_all_FR.csv\", has_header=False)\n",
    "generation_fr.head(3)"
   ]
  },
  {
   "cell_type": "code",
   "execution_count": 3,
   "metadata": {},
   "outputs": [
    {
     "data": {
      "text/plain": [
       "['date',\n",
       " 'biomass_actual_aggregated_fr',\n",
       " 'fossil_gas_actual_aggregated_fr',\n",
       " 'fossil_hard_coal_actual_aggregated_fr',\n",
       " 'fossil_hard_coal_actual_consumption_fr',\n",
       " 'fossil_oil_actual_aggregated_fr',\n",
       " 'hydro_pumped_storage_actual_aggregated_fr',\n",
       " 'hydro_pumped_storage_actual_consumption_fr',\n",
       " 'hydro_run-of-river_and_poundage_actual_aggregated_fr',\n",
       " 'hydro_water_reservoir_actual_aggregated_fr',\n",
       " 'hydro_water_reservoir_actual_consumption_fr',\n",
       " 'nuclear_actual_aggregated_fr',\n",
       " 'solar_actual_aggregated_fr',\n",
       " 'waste_actual_aggregated_fr',\n",
       " 'wind_offshore_actual_aggregated_fr',\n",
       " 'wind_offshore_actual_consumption_fr',\n",
       " 'wind_onshore_actual_aggregated_fr']"
      ]
     },
     "execution_count": 3,
     "metadata": {},
     "output_type": "execute_result"
    }
   ],
   "source": [
    "column_names = (\n",
    "    generation_fr.head(2)\n",
    "    .transpose()\n",
    "    .with_columns(pl.col(\"column_1\").fill_null(value=\"\"))\n",
    "    .with_columns(\n",
    "        pl.concat_str([pl.col(\"column_0\"), pl.col(\"column_1\")], separator=\" \")\n",
    "        .str.strip_chars()\n",
    "        .alias(\"header\")\n",
    "    )\n",
    "    .with_columns(pl.concat_str([\"header\", pl.lit(\"FR\")], separator=\" \").str.to_lowercase().str.replace_all(\" \", \"_\").str.replace_all(\"/\", \"_\"))\n",
    "    [\"header\"]\n",
    "    .to_list()\n",
    ")\n",
    "\n",
    "column_names[0] = \"date\"\n",
    "\n",
    "column_names"
   ]
  },
  {
   "cell_type": "code",
   "execution_count": 4,
   "metadata": {},
   "outputs": [],
   "source": [
    "generation_fr = (\n",
    "    generation_fr.tail(-2)\n",
    "    .rename(dict(zip(generation_fr.columns, column_names)))\n",
    "    .with_columns(pl.col(\"date\").str.to_datetime())\n",
    "    .with_columns(\n",
    "        pl.col(\"date\").dt.convert_time_zone(\"Europe/Zurich\").dt.truncate(\"1h\")\n",
    "    )\n",
    "    .with_columns(cs.string().cast(pl.Float64))\n",
    "    # .group_by(\"date\")\n",
    "    # .agg(pl.all().mean())\n",
    "    .with_columns((pl.col(\"date\").dt.dst_offset() == 0).cast(pl.Int16).alias(\"dst\"))\n",
    "    .with_columns(pl.col(\"date\").dt.strftime(\"%Y-%m-%d %H:%M\"))\n",
    "    .unique(subset=[\"date\", \"dst\"])\n",
    "    .sort(\"date\")\n",
    ")"
   ]
  },
  {
   "cell_type": "code",
   "execution_count": 5,
   "metadata": {},
   "outputs": [
    {
     "name": "stdout",
     "output_type": "stream",
     "text": [
      "shape: (44_555, 18)\n",
      "┌────────────┬────────────┬────────────┬────────────┬───┬────────────┬───────────┬───────────┬─────┐\n",
      "│ date       ┆ biomass_ac ┆ fossil_gas ┆ fossil_har ┆ … ┆ wind_offsh ┆ wind_offs ┆ wind_onsh ┆ dst │\n",
      "│ ---        ┆ tual_aggre ┆ _actual_ag ┆ d_coal_act ┆   ┆ ore_actual ┆ hore_actu ┆ ore_actua ┆ --- │\n",
      "│ str        ┆ gated_fr   ┆ gregated_f ┆ ual_aggreg ┆   ┆ _aggregate ┆ al_consum ┆ l_aggrega ┆ i16 │\n",
      "│            ┆ ---        ┆ r          ┆ at…        ┆   ┆ d_…        ┆ ption…    ┆ ted_f…    ┆     │\n",
      "│            ┆ f64        ┆ ---        ┆ ---        ┆   ┆ ---        ┆ ---       ┆ ---       ┆     │\n",
      "│            ┆            ┆ f64        ┆ f64        ┆   ┆ f64        ┆ f64       ┆ f64       ┆     │\n",
      "╞════════════╪════════════╪════════════╪════════════╪═══╪════════════╪═══════════╪═══════════╪═════╡\n",
      "│ 2019-01-01 ┆ 351.0      ┆ 2722.0     ┆ 0.0        ┆ … ┆ null       ┆ null      ┆ 1622.0    ┆ 1   │\n",
      "│ 00:00      ┆            ┆            ┆            ┆   ┆            ┆           ┆           ┆     │\n",
      "│ 2019-01-01 ┆ 352.0      ┆ 2526.0     ┆ null       ┆ … ┆ null       ┆ null      ┆ 1637.0    ┆ 1   │\n",
      "│ 01:00      ┆            ┆            ┆            ┆   ┆            ┆           ┆           ┆     │\n",
      "│ 2019-01-01 ┆ 352.0      ┆ 2425.0     ┆ null       ┆ … ┆ null       ┆ null      ┆ 1567.0    ┆ 1   │\n",
      "│ 02:00      ┆            ┆            ┆            ┆   ┆            ┆           ┆           ┆     │\n",
      "│ 2019-01-01 ┆ 351.0      ┆ 2435.0     ┆ 0.0        ┆ … ┆ null       ┆ null      ┆ 1556.0    ┆ 1   │\n",
      "│ 03:00      ┆            ┆            ┆            ┆   ┆            ┆           ┆           ┆     │\n",
      "│ 2019-01-01 ┆ 353.0      ┆ 2440.0     ┆ 0.0        ┆ … ┆ null       ┆ null      ┆ 1595.0    ┆ 1   │\n",
      "│ 04:00      ┆            ┆            ┆            ┆   ┆            ┆           ┆           ┆     │\n",
      "│ …          ┆ …          ┆ …          ┆ …          ┆ … ┆ …          ┆ …         ┆ …         ┆ …   │\n",
      "│ 2024-01-31 ┆ 356.0      ┆ 4713.0     ┆ 330.0      ┆ … ┆ 394.0      ┆ null      ┆ 3202.0    ┆ 1   │\n",
      "│ 19:00      ┆            ┆            ┆            ┆   ┆            ┆           ┆           ┆     │\n",
      "│ 2024-01-31 ┆ 359.0      ┆ 4670.0     ┆ 314.0      ┆ … ┆ 436.0      ┆ null      ┆ 4246.0    ┆ 1   │\n",
      "│ 20:00      ┆            ┆            ┆            ┆   ┆            ┆           ┆           ┆     │\n",
      "│ 2024-01-31 ┆ 359.0      ┆ 4313.0     ┆ 314.0      ┆ … ┆ 430.0      ┆ null      ┆ 5421.0    ┆ 1   │\n",
      "│ 21:00      ┆            ┆            ┆            ┆   ┆            ┆           ┆           ┆     │\n",
      "│ 2024-01-31 ┆ 360.0      ┆ 2721.0     ┆ 313.0      ┆ … ┆ 445.0      ┆ null      ┆ 6234.0    ┆ 1   │\n",
      "│ 22:00      ┆            ┆            ┆            ┆   ┆            ┆           ┆           ┆     │\n",
      "│ 2024-01-31 ┆ 360.0      ┆ 2311.0     ┆ 313.0      ┆ … ┆ 474.0      ┆ null      ┆ 6909.0    ┆ 1   │\n",
      "│ 23:00      ┆            ┆            ┆            ┆   ┆            ┆           ┆           ┆     │\n",
      "└────────────┴────────────┴────────────┴────────────┴───┴────────────┴───────────┴───────────┴─────┘\n",
      "shape: (4, 2)\n",
      "┌──────────────────┬───────┐\n",
      "│ date             ┆ count │\n",
      "│ ---              ┆ ---   │\n",
      "│ str              ┆ u32   │\n",
      "╞══════════════════╪═══════╡\n",
      "│ 2020-10-25 02:00 ┆ 2     │\n",
      "│ 2021-10-31 02:00 ┆ 2     │\n",
      "│ 2022-10-30 02:00 ┆ 2     │\n",
      "│ 2023-10-29 02:00 ┆ 2     │\n",
      "└──────────────────┴───────┘\n"
     ]
    }
   ],
   "source": [
    "generation_fr.pipe(print)\n",
    "generation_fr[\"date\"].value_counts().filter(pl.col(\"count\") != 1).sort(\"date\").pipe(print)"
   ]
  },
  {
   "cell_type": "markdown",
   "metadata": {},
   "source": [
    "#### Italy"
   ]
  },
  {
   "cell_type": "code",
   "execution_count": 483,
   "metadata": {},
   "outputs": [
    {
     "data": {
      "text/html": [
       "<div><style>\n",
       ".dataframe > thead > tr,\n",
       ".dataframe > tbody > tr {\n",
       "  text-align: right;\n",
       "  white-space: pre-wrap;\n",
       "}\n",
       "</style>\n",
       "<small>shape: (3, 20)</small><table border=\"1\" class=\"dataframe\"><thead><tr><th>column_1</th><th>column_2</th><th>column_3</th><th>column_4</th><th>column_5</th><th>column_6</th><th>column_7</th><th>column_8</th><th>column_9</th><th>column_10</th><th>column_11</th><th>column_12</th><th>column_13</th><th>column_14</th><th>column_15</th><th>column_16</th><th>column_17</th><th>column_18</th><th>column_19</th><th>column_20</th></tr><tr><td>str</td><td>str</td><td>str</td><td>str</td><td>str</td><td>str</td><td>str</td><td>str</td><td>str</td><td>str</td><td>str</td><td>str</td><td>str</td><td>str</td><td>str</td><td>str</td><td>str</td><td>str</td><td>str</td><td>str</td></tr></thead><tbody><tr><td>&quot;date&quot;</td><td>&quot;Biomass&quot;</td><td>&quot;Fossil Coal-de…</td><td>&quot;Fossil Gas&quot;</td><td>&quot;Fossil Hard co…</td><td>&quot;Fossil Hard co…</td><td>&quot;Fossil Oil&quot;</td><td>&quot;Fossil Oil&quot;</td><td>&quot;Geothermal&quot;</td><td>&quot;Hydro Pumped S…</td><td>&quot;Hydro Pumped S…</td><td>&quot;Hydro Run-of-r…</td><td>&quot;Hydro Water Re…</td><td>&quot;Other&quot;</td><td>&quot;Other&quot;</td><td>&quot;Solar&quot;</td><td>&quot;Solar&quot;</td><td>&quot;Waste&quot;</td><td>&quot;Wind Offshore&quot;</td><td>&quot;Wind Onshore&quot;</td></tr><tr><td>null</td><td>&quot;Actual Aggrega…</td><td>&quot;Actual Aggrega…</td><td>&quot;Actual Aggrega…</td><td>&quot;Actual Aggrega…</td><td>&quot;Actual Consump…</td><td>&quot;Actual Aggrega…</td><td>&quot;Actual Consump…</td><td>&quot;Actual Aggrega…</td><td>&quot;Actual Aggrega…</td><td>&quot;Actual Consump…</td><td>&quot;Actual Aggrega…</td><td>&quot;Actual Aggrega…</td><td>&quot;Actual Aggrega…</td><td>&quot;Actual Consump…</td><td>&quot;Actual Aggrega…</td><td>&quot;Actual Consump…</td><td>&quot;Actual Aggrega…</td><td>&quot;Actual Aggrega…</td><td>&quot;Actual Aggrega…</td></tr><tr><td>&quot;2019-01-01 00:…</td><td>&quot;495.0&quot;</td><td>&quot;776.0&quot;</td><td>&quot;8053.0&quot;</td><td>&quot;1938.0&quot;</td><td>null</td><td>&quot;8.0&quot;</td><td>null</td><td>&quot;674.0&quot;</td><td>&quot;1.0&quot;</td><td>&quot;29.0&quot;</td><td>&quot;1891.0&quot;</td><td>&quot;289.0&quot;</td><td>&quot;3070.0&quot;</td><td>null</td><td>&quot;0.0&quot;</td><td>null</td><td>&quot;37.0&quot;</td><td>null</td><td>&quot;5076.0&quot;</td></tr></tbody></table></div>"
      ],
      "text/plain": [
       "shape: (3, 20)\n",
       "┌───────────┬───────────┬───────────┬───────────┬───┬───────────┬───────────┬───────────┬──────────┐\n",
       "│ column_1  ┆ column_2  ┆ column_3  ┆ column_4  ┆ … ┆ column_17 ┆ column_18 ┆ column_19 ┆ column_2 │\n",
       "│ ---       ┆ ---       ┆ ---       ┆ ---       ┆   ┆ ---       ┆ ---       ┆ ---       ┆ 0        │\n",
       "│ str       ┆ str       ┆ str       ┆ str       ┆   ┆ str       ┆ str       ┆ str       ┆ ---      │\n",
       "│           ┆           ┆           ┆           ┆   ┆           ┆           ┆           ┆ str      │\n",
       "╞═══════════╪═══════════╪═══════════╪═══════════╪═══╪═══════════╪═══════════╪═══════════╪══════════╡\n",
       "│ date      ┆ Biomass   ┆ Fossil    ┆ Fossil    ┆ … ┆ Solar     ┆ Waste     ┆ Wind      ┆ Wind     │\n",
       "│           ┆           ┆ Coal-deri ┆ Gas       ┆   ┆           ┆           ┆ Offshore  ┆ Onshore  │\n",
       "│           ┆           ┆ ved gas   ┆           ┆   ┆           ┆           ┆           ┆          │\n",
       "│ null      ┆ Actual    ┆ Actual    ┆ Actual    ┆ … ┆ Actual    ┆ Actual    ┆ Actual    ┆ Actual   │\n",
       "│           ┆ Aggregate ┆ Aggregate ┆ Aggregate ┆   ┆ Consumpti ┆ Aggregate ┆ Aggregate ┆ Aggregat │\n",
       "│           ┆ d         ┆ d         ┆ d         ┆   ┆ on        ┆ d         ┆ d         ┆ ed       │\n",
       "│ 2019-01-0 ┆ 495.0     ┆ 776.0     ┆ 8053.0    ┆ … ┆ null      ┆ 37.0      ┆ null      ┆ 5076.0   │\n",
       "│ 1 00:00:0 ┆           ┆           ┆           ┆   ┆           ┆           ┆           ┆          │\n",
       "│ 0+01:00   ┆           ┆           ┆           ┆   ┆           ┆           ┆           ┆          │\n",
       "└───────────┴───────────┴───────────┴───────────┴───┴───────────┴───────────┴───────────┴──────────┘"
      ]
     },
     "execution_count": 483,
     "metadata": {},
     "output_type": "execute_result"
    }
   ],
   "source": [
    "generation_it = pl.read_csv(\"generation_actual_all_IT.csv\", has_header=False)\n",
    "generation_it.head(3)"
   ]
  },
  {
   "cell_type": "code",
   "execution_count": 485,
   "metadata": {},
   "outputs": [
    {
     "data": {
      "text/plain": [
       "['date',\n",
       " 'biomass_actual_aggregated_it',\n",
       " 'fossil_coal-derived_gas_actual_aggregated_it',\n",
       " 'fossil_gas_actual_aggregated_it',\n",
       " 'fossil_hard_coal_actual_aggregated_it',\n",
       " 'fossil_hard_coal_actual_consumption_it',\n",
       " 'fossil_oil_actual_aggregated_it',\n",
       " 'fossil_oil_actual_consumption_it',\n",
       " 'geothermal_actual_aggregated_it',\n",
       " 'hydro_pumped_storage_actual_aggregated_it',\n",
       " 'hydro_pumped_storage_actual_consumption_it',\n",
       " 'hydro_run-of-river_and_poundage_actual_aggregated_it',\n",
       " 'hydro_water_reservoir_actual_aggregated_it',\n",
       " 'other_actual_aggregated_it',\n",
       " 'other_actual_consumption_it',\n",
       " 'solar_actual_aggregated_it',\n",
       " 'solar_actual_consumption_it',\n",
       " 'waste_actual_aggregated_it',\n",
       " 'wind_offshore_actual_aggregated_it',\n",
       " 'wind_onshore_actual_aggregated_it']"
      ]
     },
     "execution_count": 485,
     "metadata": {},
     "output_type": "execute_result"
    }
   ],
   "source": [
    "column_names = (\n",
    "    generation_it.head(2)\n",
    "    .transpose()\n",
    "    .with_columns(pl.col(\"column_1\").fill_null(value=\"\"))\n",
    "    .with_columns(\n",
    "        pl.concat_str([pl.col(\"column_0\"), pl.col(\"column_1\")], separator=\" \")\n",
    "        .str.strip_chars()\n",
    "        .alias(\"header\")\n",
    "    )\n",
    "    .with_columns(pl.concat_str([\"header\", pl.lit(\"IT\")], separator=\" \").str.to_lowercase().str.replace_all(\" \", \"_\").str.replace_all(\"/\", \"_\"))\n",
    "    [\"header\"]\n",
    "    .to_list()\n",
    ")\n",
    "\n",
    "column_names[0] = \"date\"\n",
    "\n",
    "column_names"
   ]
  },
  {
   "cell_type": "code",
   "execution_count": 486,
   "metadata": {},
   "outputs": [],
   "source": [
    "generation_it = (\n",
    "    generation_it.tail(-2)\n",
    "    .rename(dict(zip(generation_it.columns, column_names)))\n",
    "    .with_columns(pl.col(\"date\").str.to_datetime())\n",
    "    .with_columns(\n",
    "        pl.col(\"date\").dt.convert_time_zone(\"Europe/Zurich\").dt.truncate(\"1h\")\n",
    "    )\n",
    "    .with_columns(cs.string().cast(pl.Float64))\n",
    "    # .group_by(\"date\")\n",
    "    # .agg(pl.all().mean())\n",
    "    .with_columns((pl.col(\"date\").dt.dst_offset() == 0).cast(pl.Int16).alias(\"dst\"))\n",
    "    .with_columns(pl.col(\"date\").dt.strftime(\"%Y-%m-%d %H:%M\"))\n",
    "    .unique(subset=[\"date\", \"dst\"])\n",
    "    .sort(\"date\")\n",
    ")"
   ]
  },
  {
   "cell_type": "code",
   "execution_count": 487,
   "metadata": {},
   "outputs": [
    {
     "name": "stdout",
     "output_type": "stream",
     "text": [
      "shape: (44_563, 21)\n",
      "┌────────────┬────────────┬────────────┬────────────┬───┬────────────┬───────────┬───────────┬─────┐\n",
      "│ date       ┆ biomass_ac ┆ fossil_coa ┆ fossil_gas ┆ … ┆ waste_actu ┆ wind_offs ┆ wind_onsh ┆ dst │\n",
      "│ ---        ┆ tual_aggre ┆ l-derived_ ┆ _actual_ag ┆   ┆ al_aggrega ┆ hore_actu ┆ ore_actua ┆ --- │\n",
      "│ str        ┆ gated_it   ┆ gas_actual ┆ gregated_i ┆   ┆ ted_it     ┆ al_aggreg ┆ l_aggrega ┆ i16 │\n",
      "│            ┆ ---        ┆ _a…        ┆ t          ┆   ┆ ---        ┆ ated_…    ┆ ted_i…    ┆     │\n",
      "│            ┆ f64        ┆ ---        ┆ ---        ┆   ┆ f64        ┆ ---       ┆ ---       ┆     │\n",
      "│            ┆            ┆ f64        ┆ f64        ┆   ┆            ┆ f64       ┆ f64       ┆     │\n",
      "╞════════════╪════════════╪════════════╪════════════╪═══╪════════════╪═══════════╪═══════════╪═════╡\n",
      "│ 2019-01-01 ┆ 495.0      ┆ 776.0      ┆ 8053.0     ┆ … ┆ 37.0       ┆ null      ┆ 5076.0    ┆ 1   │\n",
      "│ 00:00      ┆            ┆            ┆            ┆   ┆            ┆           ┆           ┆     │\n",
      "│ 2019-01-01 ┆ 501.0      ┆ 775.0      ┆ 7614.0     ┆ … ┆ 41.0       ┆ null      ┆ 5088.0    ┆ 1   │\n",
      "│ 01:00      ┆            ┆            ┆            ┆   ┆            ┆           ┆           ┆     │\n",
      "│ 2019-01-01 ┆ 499.0      ┆ 773.0      ┆ 7090.0     ┆ … ┆ 36.0       ┆ null      ┆ 5086.0    ┆ 1   │\n",
      "│ 02:00      ┆            ┆            ┆            ┆   ┆            ┆           ┆           ┆     │\n",
      "│ 2019-01-01 ┆ 503.0      ┆ 774.0      ┆ 6032.0     ┆ … ┆ 41.0       ┆ null      ┆ 5131.0    ┆ 1   │\n",
      "│ 03:00      ┆            ┆            ┆            ┆   ┆            ┆           ┆           ┆     │\n",
      "│ 2019-01-01 ┆ 509.0      ┆ 774.0      ┆ 5795.0     ┆ … ┆ 38.0       ┆ null      ┆ 5235.0    ┆ 1   │\n",
      "│ 04:00      ┆            ┆            ┆            ┆   ┆            ┆           ┆           ┆     │\n",
      "│ …          ┆ …          ┆ …          ┆ …          ┆ … ┆ …          ┆ …         ┆ …         ┆ …   │\n",
      "│ 2024-01-31 ┆ 545.0      ┆ 785.0      ┆ 19894.0    ┆ … ┆ 311.0      ┆ 0.0       ┆ 697.0     ┆ 1   │\n",
      "│ 19:00      ┆            ┆            ┆            ┆   ┆            ┆           ┆           ┆     │\n",
      "│ 2024-01-31 ┆ 541.0      ┆ 786.0      ┆ 19571.0    ┆ … ┆ 312.0      ┆ 0.0       ┆ 642.0     ┆ 1   │\n",
      "│ 20:00      ┆            ┆            ┆            ┆   ┆            ┆           ┆           ┆     │\n",
      "│ 2024-01-31 ┆ 540.0      ┆ 787.0      ┆ 18362.0    ┆ … ┆ 314.0      ┆ 2.0       ┆ 670.0     ┆ 1   │\n",
      "│ 21:00      ┆            ┆            ┆            ┆   ┆            ┆           ┆           ┆     │\n",
      "│ 2024-01-31 ┆ 526.0      ┆ 788.0      ┆ 15965.0    ┆ … ┆ 324.0      ┆ 1.0       ┆ 731.0     ┆ 1   │\n",
      "│ 22:00      ┆            ┆            ┆            ┆   ┆            ┆           ┆           ┆     │\n",
      "│ 2024-01-31 ┆ 516.0      ┆ 786.0      ┆ 13164.0    ┆ … ┆ 330.0      ┆ 1.0       ┆ 808.0     ┆ 1   │\n",
      "│ 23:00      ┆            ┆            ┆            ┆   ┆            ┆           ┆           ┆     │\n",
      "└────────────┴────────────┴────────────┴────────────┴───┴────────────┴───────────┴───────────┴─────┘\n",
      "shape: (5, 2)\n",
      "┌──────────────────┬───────┐\n",
      "│ date             ┆ count │\n",
      "│ ---              ┆ ---   │\n",
      "│ str              ┆ u32   │\n",
      "╞══════════════════╪═══════╡\n",
      "│ 2019-10-27 02:00 ┆ 2     │\n",
      "│ 2020-10-25 02:00 ┆ 2     │\n",
      "│ 2021-10-31 02:00 ┆ 2     │\n",
      "│ 2022-10-30 02:00 ┆ 2     │\n",
      "│ 2023-10-29 02:00 ┆ 2     │\n",
      "└──────────────────┴───────┘\n"
     ]
    }
   ],
   "source": [
    "generation_it.pipe(print)\n",
    "generation_it[\"date\"].value_counts().filter(pl.col(\"count\") != 1).sort(\"date\").pipe(print)"
   ]
  },
  {
   "cell_type": "markdown",
   "metadata": {},
   "source": [
    "### Water Reservoirs"
   ]
  },
  {
   "cell_type": "code",
   "execution_count": 539,
   "metadata": {},
   "outputs": [
    {
     "name": "stdout",
     "output_type": "stream",
     "text": [
      "shape: (265, 2)\n",
      "┌────────────┬────────────────────────────┐\n",
      "│ week_start ┆ hydro_reservoir_storage_at │\n",
      "│ ---        ┆ ---                        │\n",
      "│ str        ┆ f64                        │\n",
      "╞════════════╪════════════════════════════╡\n",
      "│ 2018-12-31 ┆ 1.412194e6                 │\n",
      "│ 2019-01-07 ┆ 1.372937e6                 │\n",
      "│ 2019-01-14 ┆ 1.326312e6                 │\n",
      "│ 2019-01-21 ┆ 1.176602e6                 │\n",
      "│ 2019-01-28 ┆ 1.077808e6                 │\n",
      "│ …          ┆ …                          │\n",
      "│ 2023-12-25 ┆ 1.543144e6                 │\n",
      "│ 2024-01-08 ┆ 1.423063e6                 │\n",
      "│ 2024-01-15 ┆ 1.26075e6                  │\n",
      "│ 2024-01-22 ┆ 1.157852e6                 │\n",
      "│ 2024-01-29 ┆ 1.073592e6                 │\n",
      "└────────────┴────────────────────────────┘\n"
     ]
    }
   ],
   "source": [
    "hydro_storage_at = (\n",
    "    pl.read_csv(\"hydro_reservoir_storage_AT.csv\")\n",
    "    .with_columns(pl.col(\"date\").str.to_datetime())\n",
    "    .with_columns(\n",
    "        pl.col(\"date\").dt.convert_time_zone(\"Europe/Zurich\").dt.truncate(\"1w\")\n",
    "    )\n",
    "    .sort(\"date\")\n",
    "    .with_columns(pl.col(\"date\").dt.strftime(\"%Y-%m-%d\"))\n",
    "    .unique()\n",
    "    .sort(\"date\")\n",
    "    .rename({\"hydro_reservoir_storage_mwh\": \"hydro_reservoir_storage_at\", \"date\": \"week_start\"})\n",
    ")\n",
    "\n",
    "hydro_storage_at.pipe(print)"
   ]
  },
  {
   "cell_type": "code",
   "execution_count": 540,
   "metadata": {},
   "outputs": [
    {
     "name": "stdout",
     "output_type": "stream",
     "text": [
      "shape: (265, 2)\n",
      "┌────────────┬────────────────────────────┐\n",
      "│ week_start ┆ hydro_reservoir_storage_ch │\n",
      "│ ---        ┆ ---                        │\n",
      "│ str        ┆ f64                        │\n",
      "╞════════════╪════════════════════════════╡\n",
      "│ 2018-12-31 ┆ 4.656491e6                 │\n",
      "│ 2019-01-07 ┆ 4.420007e6                 │\n",
      "│ 2019-01-14 ┆ 4.154307e6                 │\n",
      "│ 2019-01-21 ┆ 3.693327e6                 │\n",
      "│ 2019-01-28 ┆ 3.288999e6                 │\n",
      "│ …          ┆ …                          │\n",
      "│ 2023-12-25 ┆ 4.253319e6                 │\n",
      "│ 2024-01-08 ┆ 4.031253e6                 │\n",
      "│ 2024-01-15 ┆ 2.996454e6                 │\n",
      "│ 2024-01-22 ┆ 3.326345e6                 │\n",
      "│ 2024-01-29 ┆ 2.47213e6                  │\n",
      "└────────────┴────────────────────────────┘\n"
     ]
    }
   ],
   "source": [
    "hydro_storage_ch = (\n",
    "    pl.read_csv(\"hydro_reservoir_storage_CH.csv\")\n",
    "    .with_columns(pl.col(\"date\").str.to_datetime())\n",
    "    .with_columns(\n",
    "        pl.col(\"date\").dt.convert_time_zone(\"Europe/Zurich\").dt.truncate(\"1w\")\n",
    "    )\n",
    "    .sort(\"date\")\n",
    "    .with_columns(pl.col(\"date\").dt.strftime(\"%Y-%m-%d\"))\n",
    "    .unique()\n",
    "    .sort(\"date\")\n",
    "    .rename({\"hydro_reservoir_storage_mwh\": \"hydro_reservoir_storage_ch\", \"date\": \"week_start\"})\n",
    ")\n",
    "\n",
    "hydro_storage_ch.pipe(print)"
   ]
  },
  {
   "cell_type": "code",
   "execution_count": 541,
   "metadata": {},
   "outputs": [
    {
     "name": "stdout",
     "output_type": "stream",
     "text": [
      "shape: (263, 2)\n",
      "┌────────────┬────────────────────────────┐\n",
      "│ week_start ┆ hydro_reservoir_storage_fr │\n",
      "│ ---        ┆ ---                        │\n",
      "│ str        ┆ f64                        │\n",
      "╞════════════╪════════════════════════════╡\n",
      "│ 2018-12-31 ┆ 2.186488e6                 │\n",
      "│ 2019-01-07 ┆ 2.055622e6                 │\n",
      "│ 2019-01-14 ┆ 1.931241e6                 │\n",
      "│ 2019-01-21 ┆ 1.750281e6                 │\n",
      "│ 2019-01-28 ┆ 1.591274e6                 │\n",
      "│ …          ┆ …                          │\n",
      "│ 2023-12-25 ┆ 2.795844e6                 │\n",
      "│ 2024-01-08 ┆ 2.368286e6                 │\n",
      "│ 2024-01-15 ┆ 2.201546e6                 │\n",
      "│ 2024-01-22 ┆ 2.146234e6                 │\n",
      "│ 2024-01-29 ┆ 2.010901e6                 │\n",
      "└────────────┴────────────────────────────┘\n"
     ]
    }
   ],
   "source": [
    "hydro_storage_fr = (\n",
    "    pl.read_csv(\"hydro_reservoir_storage_FR.csv\")\n",
    "    .with_columns(pl.col(\"date\").str.to_datetime())\n",
    "    .with_columns(\n",
    "        pl.col(\"date\").dt.convert_time_zone(\"Europe/Zurich\").dt.truncate(\"1w\")\n",
    "    )\n",
    "    .sort(\"date\")\n",
    "    .with_columns(pl.col(\"date\").dt.strftime(\"%Y-%m-%d\"))\n",
    "    .unique()\n",
    "    .sort(\"date\")\n",
    "    .rename({\"hydro_reservoir_storage_mwh\": \"hydro_reservoir_storage_fr\", \"date\": \"week_start\"})\n",
    ")\n",
    "\n",
    "hydro_storage_fr.pipe(print)"
   ]
  },
  {
   "cell_type": "code",
   "execution_count": 542,
   "metadata": {},
   "outputs": [
    {
     "name": "stdout",
     "output_type": "stream",
     "text": [
      "shape: (264, 2)\n",
      "┌────────────┬────────────────────────────┐\n",
      "│ week_start ┆ hydro_reservoir_storage_it │\n",
      "│ ---        ┆ ---                        │\n",
      "│ str        ┆ f64                        │\n",
      "╞════════════╪════════════════════════════╡\n",
      "│ 2018-12-31 ┆ 3.036299e6                 │\n",
      "│ 2019-01-07 ┆ 2.704739e6                 │\n",
      "│ 2019-01-14 ┆ 2.593794e6                 │\n",
      "│ 2019-01-21 ┆ 2.49019e6                  │\n",
      "│ 2019-01-28 ┆ 2.473671e6                 │\n",
      "│ …          ┆ …                          │\n",
      "│ 2023-12-25 ┆ 3.280575e6                 │\n",
      "│ 2024-01-08 ┆ 3.053817e6                 │\n",
      "│ 2024-01-15 ┆ 2.926584e6                 │\n",
      "│ 2024-01-22 ┆ 2.778409e6                 │\n",
      "│ 2024-01-29 ┆ 2.619505e6                 │\n",
      "└────────────┴────────────────────────────┘\n"
     ]
    }
   ],
   "source": [
    "hydro_storage_it = (\n",
    "    pl.read_csv(\"hydro_reservoir_storage_IT.csv\")\n",
    "    .with_columns(pl.col(\"date\").str.to_datetime())\n",
    "    .with_columns(\n",
    "        pl.col(\"date\").dt.convert_time_zone(\"Europe/Zurich\").dt.truncate(\"1w\")\n",
    "    )\n",
    "    .sort(\"date\")\n",
    "    .with_columns(pl.col(\"date\").dt.strftime(\"%Y-%m-%d\"))\n",
    "    .unique()\n",
    "    .sort(\"date\")\n",
    "    .rename({\"hydro_reservoir_storage_mwh\": \"hydro_reservoir_storage_it\", \"date\": \"week_start\"})\n",
    ")\n",
    "\n",
    "hydro_storage_it.pipe(print)"
   ]
  },
  {
   "cell_type": "markdown",
   "metadata": {},
   "source": [
    "### Crossborder Flows"
   ]
  },
  {
   "cell_type": "code",
   "execution_count": 582,
   "metadata": {},
   "outputs": [
    {
     "data": {
      "text/plain": [
       "['crossborder_physical_flow_mw_AT_CH.csv',\n",
       " 'crossborder_physical_flow_mw_CH_AT.csv',\n",
       " 'crossborder_physical_flow_mw_CH_DE_LU.csv',\n",
       " 'crossborder_physical_flow_mw_CH_FR.csv',\n",
       " 'crossborder_physical_flow_mw_CH_IT.csv',\n",
       " 'crossborder_physical_flow_mw_DE_LU_CH.csv',\n",
       " 'crossborder_physical_flow_mw_FR_CH.csv',\n",
       " 'crossborder_physical_flow_mw_IT_CH.csv']"
      ]
     },
     "execution_count": 582,
     "metadata": {},
     "output_type": "execute_result"
    }
   ],
   "source": [
    "filenames = [filename for filename in os.listdir() if \"physical_flow\" in filename]\n",
    "filenames"
   ]
  },
  {
   "cell_type": "code",
   "execution_count": 583,
   "metadata": {},
   "outputs": [
    {
     "name": "stdout",
     "output_type": "stream",
     "text": [
      "shape: (44_563, 3)\n",
      "┌──────────────────┬───────────────────────────────┬─────┐\n",
      "│ date             ┆ crossborder_actual_flow_at_ch ┆ dst │\n",
      "│ ---              ┆ ---                           ┆ --- │\n",
      "│ str              ┆ f64                           ┆ i16 │\n",
      "╞══════════════════╪═══════════════════════════════╪═════╡\n",
      "│ 2019-01-01 00:00 ┆ 763.0                         ┆ 1   │\n",
      "│ 2019-01-01 01:00 ┆ 497.0                         ┆ 1   │\n",
      "│ 2019-01-01 02:00 ┆ 427.0                         ┆ 1   │\n",
      "│ 2019-01-01 03:00 ┆ 452.0                         ┆ 1   │\n",
      "│ 2019-01-01 04:00 ┆ 603.0                         ┆ 1   │\n",
      "│ …                ┆ …                             ┆ …   │\n",
      "│ 2024-01-31 19:00 ┆ 194.0                         ┆ 1   │\n",
      "│ 2024-01-31 20:00 ┆ 504.0                         ┆ 1   │\n",
      "│ 2024-01-31 21:00 ┆ 678.0                         ┆ 1   │\n",
      "│ 2024-01-31 22:00 ┆ 726.0                         ┆ 1   │\n",
      "│ 2024-01-31 23:00 ┆ 952.0                         ┆ 1   │\n",
      "└──────────────────┴───────────────────────────────┴─────┘\n"
     ]
    }
   ],
   "source": [
    "flow_at_ch = (\n",
    "    pl.read_csv(\"crossborder_physical_flow_mw_AT_CH.csv\")\n",
    "    .with_columns(pl.col(\"date\").str.to_datetime())\n",
    "    .with_columns(pl.col(\"date\").dt.convert_time_zone(\"Europe/Zurich\"))\n",
    "    .with_columns((pl.col(\"date\").dt.dst_offset() == 0).cast(pl.Int16).alias(\"dst\"))\n",
    "    .with_columns(pl.col(\"date\").dt.strftime(\"%Y-%m-%d %H:%M\"))\n",
    "    .unique(subset=[\"date\", \"dst\"])\n",
    "    .rename({\"crossborder_physical_flow_mw\": \"crossborder_actual_flow_at_ch\"})\n",
    "    .sort(\"date\")\n",
    ")\n",
    "\n",
    "flow_at_ch.pipe(print)"
   ]
  },
  {
   "cell_type": "code",
   "execution_count": 584,
   "metadata": {},
   "outputs": [
    {
     "name": "stdout",
     "output_type": "stream",
     "text": [
      "shape: (44_563, 3)\n",
      "┌──────────────────┬───────────────────────────────┬─────┐\n",
      "│ date             ┆ crossborder_actual_flow_ch_at ┆ dst │\n",
      "│ ---              ┆ ---                           ┆ --- │\n",
      "│ str              ┆ f64                           ┆ i16 │\n",
      "╞══════════════════╪═══════════════════════════════╪═════╡\n",
      "│ 2019-01-01 00:00 ┆ 0.0                           ┆ 1   │\n",
      "│ 2019-01-01 01:00 ┆ 0.0                           ┆ 1   │\n",
      "│ 2019-01-01 02:00 ┆ 0.0                           ┆ 1   │\n",
      "│ 2019-01-01 03:00 ┆ 0.0                           ┆ 1   │\n",
      "│ 2019-01-01 04:00 ┆ 0.0                           ┆ 1   │\n",
      "│ …                ┆ …                             ┆ …   │\n",
      "│ 2024-01-31 19:00 ┆ 0.0                           ┆ 1   │\n",
      "│ 2024-01-31 20:00 ┆ 0.0                           ┆ 1   │\n",
      "│ 2024-01-31 21:00 ┆ 0.0                           ┆ 1   │\n",
      "│ 2024-01-31 22:00 ┆ 0.0                           ┆ 1   │\n",
      "│ 2024-01-31 23:00 ┆ 0.0                           ┆ 1   │\n",
      "└──────────────────┴───────────────────────────────┴─────┘\n"
     ]
    }
   ],
   "source": [
    "flow_ch_at = (\n",
    "    pl.read_csv(\"crossborder_physical_flow_mw_CH_AT.csv\")\n",
    "    .with_columns(pl.col(\"date\").str.to_datetime())\n",
    "    .with_columns(pl.col(\"date\").dt.convert_time_zone(\"Europe/Zurich\"))\n",
    "    .with_columns((pl.col(\"date\").dt.dst_offset() == 0).cast(pl.Int16).alias(\"dst\"))\n",
    "    .with_columns(pl.col(\"date\").dt.strftime(\"%Y-%m-%d %H:%M\"))\n",
    "    .unique(subset=[\"date\", \"dst\"])\n",
    "    .rename({\"crossborder_physical_flow_mw\": \"crossborder_actual_flow_ch_at\"})\n",
    "    .sort(\"date\")\n",
    ")\n",
    "\n",
    "flow_ch_at.pipe(print)"
   ]
  },
  {
   "cell_type": "code",
   "execution_count": 585,
   "metadata": {},
   "outputs": [
    {
     "name": "stdout",
     "output_type": "stream",
     "text": [
      "shape: (110_368, 3)\n",
      "┌──────────────────┬──────────────────────────────────┬─────┐\n",
      "│ date             ┆ crossborder_actual_flow_ch_de_lu ┆ dst │\n",
      "│ ---              ┆ ---                              ┆ --- │\n",
      "│ str              ┆ f64                              ┆ i16 │\n",
      "╞══════════════════╪══════════════════════════════════╪═════╡\n",
      "│ 2019-01-01 00:00 ┆ 595.0                            ┆ 1   │\n",
      "│ 2019-01-01 01:00 ┆ 502.0                            ┆ 1   │\n",
      "│ 2019-01-01 02:00 ┆ 512.0                            ┆ 1   │\n",
      "│ 2019-01-01 03:00 ┆ 544.0                            ┆ 1   │\n",
      "│ 2019-01-01 04:00 ┆ 451.0                            ┆ 1   │\n",
      "│ …                ┆ …                                ┆ …   │\n",
      "│ 2024-01-31 22:45 ┆ 0.0                              ┆ 1   │\n",
      "│ 2024-01-31 23:00 ┆ 0.0                              ┆ 1   │\n",
      "│ 2024-01-31 23:15 ┆ 0.0                              ┆ 1   │\n",
      "│ 2024-01-31 23:30 ┆ 0.0                              ┆ 1   │\n",
      "│ 2024-01-31 23:45 ┆ 0.0                              ┆ 1   │\n",
      "└──────────────────┴──────────────────────────────────┴─────┘\n"
     ]
    }
   ],
   "source": [
    "flow_ch_de_lu = (\n",
    "    pl.read_csv(\"crossborder_physical_flow_mw_CH_DE_LU.csv\")\n",
    "    .with_columns(pl.col(\"date\").str.to_datetime())\n",
    "    .with_columns(pl.col(\"date\").dt.convert_time_zone(\"Europe/Zurich\"))\n",
    "    .with_columns((pl.col(\"date\").dt.dst_offset() == 0).cast(pl.Int16).alias(\"dst\"))\n",
    "    .with_columns(pl.col(\"date\").dt.strftime(\"%Y-%m-%d %H:%M\"))\n",
    "    .unique(subset=[\"date\", \"dst\"])\n",
    "    .rename({\"crossborder_physical_flow_mw\": \"crossborder_actual_flow_ch_de_lu\"})\n",
    "    .sort(\"date\")\n",
    ")\n",
    "\n",
    "flow_ch_de_lu.pipe(print)"
   ]
  },
  {
   "cell_type": "code",
   "execution_count": 586,
   "metadata": {},
   "outputs": [
    {
     "name": "stdout",
     "output_type": "stream",
     "text": [
      "shape: (44_563, 3)\n",
      "┌──────────────────┬───────────────────────────────┬─────┐\n",
      "│ date             ┆ crossborder_actual_flow_ch_fr ┆ dst │\n",
      "│ ---              ┆ ---                           ┆ --- │\n",
      "│ str              ┆ f64                           ┆ i16 │\n",
      "╞══════════════════╪═══════════════════════════════╪═════╡\n",
      "│ 2019-01-01 00:00 ┆ 553.0                         ┆ 1   │\n",
      "│ 2019-01-01 01:00 ┆ 233.0                         ┆ 1   │\n",
      "│ 2019-01-01 02:00 ┆ 280.0                         ┆ 1   │\n",
      "│ 2019-01-01 03:00 ┆ 0.0                           ┆ 1   │\n",
      "│ 2019-01-01 04:00 ┆ 56.0                          ┆ 1   │\n",
      "│ …                ┆ …                             ┆ …   │\n",
      "│ 2024-01-31 19:00 ┆ 0.0                           ┆ 1   │\n",
      "│ 2024-01-31 20:00 ┆ 0.0                           ┆ 1   │\n",
      "│ 2024-01-31 21:00 ┆ 0.0                           ┆ 1   │\n",
      "│ 2024-01-31 22:00 ┆ 0.0                           ┆ 1   │\n",
      "│ 2024-01-31 23:00 ┆ 0.0                           ┆ 1   │\n",
      "└──────────────────┴───────────────────────────────┴─────┘\n"
     ]
    }
   ],
   "source": [
    "flow_ch_fr = (\n",
    "    pl.read_csv(\"crossborder_physical_flow_mw_CH_FR.csv\")\n",
    "    .with_columns(pl.col(\"date\").str.to_datetime())\n",
    "    .with_columns(pl.col(\"date\").dt.convert_time_zone(\"Europe/Zurich\"))\n",
    "    .with_columns((pl.col(\"date\").dt.dst_offset() == 0).cast(pl.Int16).alias(\"dst\"))\n",
    "    .with_columns(pl.col(\"date\").dt.strftime(\"%Y-%m-%d %H:%M\"))\n",
    "    .unique(subset=[\"date\", \"dst\"])\n",
    "    .rename({\"crossborder_physical_flow_mw\": \"crossborder_actual_flow_ch_fr\"})\n",
    "    .sort(\"date\")\n",
    ")\n",
    "\n",
    "flow_ch_fr.pipe(print)"
   ]
  },
  {
   "cell_type": "code",
   "execution_count": 587,
   "metadata": {},
   "outputs": [
    {
     "name": "stdout",
     "output_type": "stream",
     "text": [
      "shape: (44_563, 3)\n",
      "┌──────────────────┬───────────────────────────────┬─────┐\n",
      "│ date             ┆ crossborder_actual_flow_ch_it ┆ dst │\n",
      "│ ---              ┆ ---                           ┆ --- │\n",
      "│ str              ┆ f64                           ┆ i16 │\n",
      "╞══════════════════╪═══════════════════════════════╪═════╡\n",
      "│ 2019-01-01 00:00 ┆ 1468.0                        ┆ 1   │\n",
      "│ 2019-01-01 01:00 ┆ 1162.0                        ┆ 1   │\n",
      "│ 2019-01-01 02:00 ┆ 931.0                         ┆ 1   │\n",
      "│ 2019-01-01 03:00 ┆ 1303.0                        ┆ 1   │\n",
      "│ 2019-01-01 04:00 ┆ 1225.0                        ┆ 1   │\n",
      "│ …                ┆ …                             ┆ …   │\n",
      "│ 2024-01-31 19:00 ┆ 4691.0                        ┆ 1   │\n",
      "│ 2024-01-31 20:00 ┆ 4682.0                        ┆ 1   │\n",
      "│ 2024-01-31 21:00 ┆ 4496.0                        ┆ 1   │\n",
      "│ 2024-01-31 22:00 ┆ 4545.0                        ┆ 1   │\n",
      "│ 2024-01-31 23:00 ┆ 4645.0                        ┆ 1   │\n",
      "└──────────────────┴───────────────────────────────┴─────┘\n"
     ]
    }
   ],
   "source": [
    "flow_ch_it = (\n",
    "    pl.read_csv(\"crossborder_physical_flow_mw_CH_IT.csv\")\n",
    "    .with_columns(pl.col(\"date\").str.to_datetime())\n",
    "    .with_columns(pl.col(\"date\").dt.convert_time_zone(\"Europe/Zurich\"))\n",
    "    .with_columns((pl.col(\"date\").dt.dst_offset() == 0).cast(pl.Int16).alias(\"dst\"))\n",
    "    .with_columns(pl.col(\"date\").dt.strftime(\"%Y-%m-%d %H:%M\"))\n",
    "    .unique(subset=[\"date\", \"dst\"])\n",
    "    .rename({\"crossborder_physical_flow_mw\": \"crossborder_actual_flow_ch_it\"})\n",
    "    .sort(\"date\")\n",
    ")\n",
    "\n",
    "flow_ch_it.pipe(print)"
   ]
  },
  {
   "cell_type": "code",
   "execution_count": 588,
   "metadata": {},
   "outputs": [
    {
     "name": "stdout",
     "output_type": "stream",
     "text": [
      "shape: (110_368, 3)\n",
      "┌──────────────────┬──────────────────────────────────┬─────┐\n",
      "│ date             ┆ crossborder_actual_flow_de_lu_ch ┆ dst │\n",
      "│ ---              ┆ ---                              ┆ --- │\n",
      "│ str              ┆ f64                              ┆ i16 │\n",
      "╞══════════════════╪══════════════════════════════════╪═════╡\n",
      "│ 2019-01-01 00:00 ┆ 3652.0                           ┆ 1   │\n",
      "│ 2019-01-01 01:00 ┆ 3536.0                           ┆ 1   │\n",
      "│ 2019-01-01 02:00 ┆ 3677.0                           ┆ 1   │\n",
      "│ 2019-01-01 03:00 ┆ 3714.0                           ┆ 1   │\n",
      "│ 2019-01-01 04:00 ┆ 3427.0                           ┆ 1   │\n",
      "│ …                ┆ …                                ┆ …   │\n",
      "│ 2024-01-31 22:45 ┆ 2845.0                           ┆ 1   │\n",
      "│ 2024-01-31 23:00 ┆ 3305.0                           ┆ 1   │\n",
      "│ 2024-01-31 23:15 ┆ 3449.0                           ┆ 1   │\n",
      "│ 2024-01-31 23:30 ┆ 3209.0                           ┆ 1   │\n",
      "│ 2024-01-31 23:45 ┆ 3010.0                           ┆ 1   │\n",
      "└──────────────────┴──────────────────────────────────┴─────┘\n"
     ]
    }
   ],
   "source": [
    "flow_de_lu_ch = (\n",
    "    pl.read_csv(\"crossborder_physical_flow_mw_DE_LU_CH.csv\")\n",
    "    .with_columns(pl.col(\"date\").str.to_datetime())\n",
    "    .with_columns(pl.col(\"date\").dt.convert_time_zone(\"Europe/Zurich\"))\n",
    "    .with_columns((pl.col(\"date\").dt.dst_offset() == 0).cast(pl.Int16).alias(\"dst\"))\n",
    "    .with_columns(pl.col(\"date\").dt.strftime(\"%Y-%m-%d %H:%M\"))\n",
    "    .unique(subset=[\"date\", \"dst\"])\n",
    "    .rename({\"crossborder_physical_flow_mw\": \"crossborder_actual_flow_de_lu_ch\"})\n",
    "    .sort(\"date\")\n",
    ")\n",
    "\n",
    "flow_de_lu_ch.pipe(print)"
   ]
  },
  {
   "cell_type": "code",
   "execution_count": 589,
   "metadata": {},
   "outputs": [
    {
     "name": "stdout",
     "output_type": "stream",
     "text": [
      "shape: (44_563, 3)\n",
      "┌──────────────────┬───────────────────────────────┬─────┐\n",
      "│ date             ┆ crossborder_actual_flow_fr_ch ┆ dst │\n",
      "│ ---              ┆ ---                           ┆ --- │\n",
      "│ str              ┆ f64                           ┆ i16 │\n",
      "╞══════════════════╪═══════════════════════════════╪═════╡\n",
      "│ 2019-01-01 00:00 ┆ 0.0                           ┆ 1   │\n",
      "│ 2019-01-01 01:00 ┆ 0.0                           ┆ 1   │\n",
      "│ 2019-01-01 02:00 ┆ 0.0                           ┆ 1   │\n",
      "│ 2019-01-01 03:00 ┆ 115.0                         ┆ 1   │\n",
      "│ 2019-01-01 04:00 ┆ 0.0                           ┆ 1   │\n",
      "│ …                ┆ …                             ┆ …   │\n",
      "│ 2024-01-31 19:00 ┆ 1139.0                        ┆ 1   │\n",
      "│ 2024-01-31 20:00 ┆ 1154.0                        ┆ 1   │\n",
      "│ 2024-01-31 21:00 ┆ 1546.0                        ┆ 1   │\n",
      "│ 2024-01-31 22:00 ┆ 1693.0                        ┆ 1   │\n",
      "│ 2024-01-31 23:00 ┆ 1905.0                        ┆ 1   │\n",
      "└──────────────────┴───────────────────────────────┴─────┘\n"
     ]
    }
   ],
   "source": [
    "flow_fr_ch = (\n",
    "    pl.read_csv(\"crossborder_physical_flow_mw_FR_CH.csv\")\n",
    "    .with_columns(pl.col(\"date\").str.to_datetime())\n",
    "    .with_columns(pl.col(\"date\").dt.convert_time_zone(\"Europe/Zurich\"))\n",
    "    .with_columns((pl.col(\"date\").dt.dst_offset() == 0).cast(pl.Int16).alias(\"dst\"))\n",
    "    .with_columns(pl.col(\"date\").dt.strftime(\"%Y-%m-%d %H:%M\"))\n",
    "    .unique(subset=[\"date\", \"dst\"])\n",
    "    .rename({\"crossborder_physical_flow_mw\": \"crossborder_actual_flow_fr_ch\"})\n",
    "    .sort(\"date\")\n",
    ")\n",
    "\n",
    "flow_fr_ch.pipe(print)"
   ]
  },
  {
   "cell_type": "code",
   "execution_count": 590,
   "metadata": {},
   "outputs": [
    {
     "name": "stdout",
     "output_type": "stream",
     "text": [
      "shape: (44_563, 3)\n",
      "┌──────────────────┬───────────────────────────────┬─────┐\n",
      "│ date             ┆ crossborder_actual_flow_it_ch ┆ dst │\n",
      "│ ---              ┆ ---                           ┆ --- │\n",
      "│ str              ┆ f64                           ┆ i16 │\n",
      "╞══════════════════╪═══════════════════════════════╪═════╡\n",
      "│ 2019-01-01 00:00 ┆ 0.0                           ┆ 1   │\n",
      "│ 2019-01-01 01:00 ┆ 0.0                           ┆ 1   │\n",
      "│ 2019-01-01 02:00 ┆ 0.0                           ┆ 1   │\n",
      "│ 2019-01-01 03:00 ┆ 0.0                           ┆ 1   │\n",
      "│ 2019-01-01 04:00 ┆ 0.0                           ┆ 1   │\n",
      "│ …                ┆ …                             ┆ …   │\n",
      "│ 2024-01-31 19:00 ┆ 0.0                           ┆ 1   │\n",
      "│ 2024-01-31 20:00 ┆ 0.0                           ┆ 1   │\n",
      "│ 2024-01-31 21:00 ┆ 0.0                           ┆ 1   │\n",
      "│ 2024-01-31 22:00 ┆ 0.0                           ┆ 1   │\n",
      "│ 2024-01-31 23:00 ┆ 0.0                           ┆ 1   │\n",
      "└──────────────────┴───────────────────────────────┴─────┘\n"
     ]
    }
   ],
   "source": [
    "flow_it_ch = (\n",
    "    pl.read_csv(\"crossborder_physical_flow_mw_IT_CH.csv\")\n",
    "    .with_columns(pl.col(\"date\").str.to_datetime())\n",
    "    .with_columns(pl.col(\"date\").dt.convert_time_zone(\"Europe/Zurich\"))\n",
    "    .with_columns((pl.col(\"date\").dt.dst_offset() == 0).cast(pl.Int16).alias(\"dst\"))\n",
    "    .with_columns(pl.col(\"date\").dt.strftime(\"%Y-%m-%d %H:%M\"))\n",
    "    .unique(subset=[\"date\", \"dst\"])\n",
    "    .rename({\"crossborder_physical_flow_mw\": \"crossborder_actual_flow_it_ch\"})\n",
    "    .sort(\"date\")\n",
    ")\n",
    "\n",
    "flow_it_ch.pipe(print)"
   ]
  },
  {
   "cell_type": "markdown",
   "metadata": {},
   "source": [
    "### Cross Border Capacity Day Ahead Forecast"
   ]
  },
  {
   "cell_type": "code",
   "execution_count": 591,
   "metadata": {},
   "outputs": [
    {
     "name": "stdout",
     "output_type": "stream",
     "text": [
      "shape: (44_563, 3)\n",
      "┌──────────────────┬─────────────────────────┬─────┐\n",
      "│ date             ┆ capacity_forecast_at_ch ┆ dst │\n",
      "│ ---              ┆ ---                     ┆ --- │\n",
      "│ str              ┆ f64                     ┆ i16 │\n",
      "╞══════════════════╪═════════════════════════╪═════╡\n",
      "│ 2019-01-01 00:00 ┆ 1200.0                  ┆ 1   │\n",
      "│ 2019-01-01 01:00 ┆ 1200.0                  ┆ 1   │\n",
      "│ 2019-01-01 02:00 ┆ 1200.0                  ┆ 1   │\n",
      "│ 2019-01-01 03:00 ┆ 1200.0                  ┆ 1   │\n",
      "│ 2019-01-01 04:00 ┆ 1200.0                  ┆ 1   │\n",
      "│ …                ┆ …                       ┆ …   │\n",
      "│ 2024-01-31 19:00 ┆ 1200.0                  ┆ 1   │\n",
      "│ 2024-01-31 20:00 ┆ 1200.0                  ┆ 1   │\n",
      "│ 2024-01-31 21:00 ┆ 1200.0                  ┆ 1   │\n",
      "│ 2024-01-31 22:00 ┆ 1200.0                  ┆ 1   │\n",
      "│ 2024-01-31 23:00 ┆ 1200.0                  ┆ 1   │\n",
      "└──────────────────┴─────────────────────────┴─────┘\n"
     ]
    }
   ],
   "source": [
    "capacity_forecast_at_ch = (\n",
    "    pl.read_csv(\"crossborder_capacity_forecast_AT_CH.csv\")\n",
    "    .with_columns(pl.col(\"date\").str.to_datetime())\n",
    "    .with_columns(pl.col(\"date\").dt.convert_time_zone(\"Europe/Zurich\"))\n",
    "    .with_columns((pl.col(\"date\").dt.dst_offset() == 0).cast(pl.Int16).alias(\"dst\"))\n",
    "    .with_columns(pl.col(\"date\").dt.strftime(\"%Y-%m-%d %H:%M\"))\n",
    "    .unique(subset=[\"date\", \"dst\"])\n",
    "    .rename({\"crossborder_capacity_forecast_day_ahead_mw\": \"capacity_forecast_at_ch\"})\n",
    "    .sort(\"date\")\n",
    ")\n",
    "\n",
    "capacity_forecast_at_ch.pipe(print)"
   ]
  },
  {
   "cell_type": "code",
   "execution_count": 592,
   "metadata": {},
   "outputs": [
    {
     "name": "stdout",
     "output_type": "stream",
     "text": [
      "shape: (44_563, 3)\n",
      "┌──────────────────┬─────────────────────────┬─────┐\n",
      "│ date             ┆ capacity_forecast_ch_at ┆ dst │\n",
      "│ ---              ┆ ---                     ┆ --- │\n",
      "│ str              ┆ f64                     ┆ i16 │\n",
      "╞══════════════════╪═════════════════════════╪═════╡\n",
      "│ 2019-01-01 00:00 ┆ 700.0                   ┆ 1   │\n",
      "│ 2019-01-01 01:00 ┆ 700.0                   ┆ 1   │\n",
      "│ 2019-01-01 02:00 ┆ 700.0                   ┆ 1   │\n",
      "│ 2019-01-01 03:00 ┆ 700.0                   ┆ 1   │\n",
      "│ 2019-01-01 04:00 ┆ 700.0                   ┆ 1   │\n",
      "│ …                ┆ …                       ┆ …   │\n",
      "│ 2024-01-31 19:00 ┆ 1200.0                  ┆ 1   │\n",
      "│ 2024-01-31 20:00 ┆ 1200.0                  ┆ 1   │\n",
      "│ 2024-01-31 21:00 ┆ 1200.0                  ┆ 1   │\n",
      "│ 2024-01-31 22:00 ┆ 1200.0                  ┆ 1   │\n",
      "│ 2024-01-31 23:00 ┆ 1200.0                  ┆ 1   │\n",
      "└──────────────────┴─────────────────────────┴─────┘\n"
     ]
    }
   ],
   "source": [
    "capacity_forecast_ch_at = (\n",
    "    pl.read_csv(\"crossborder_capacity_forecast_CH_AT.csv\")\n",
    "    .with_columns(pl.col(\"date\").str.to_datetime())\n",
    "    .with_columns(pl.col(\"date\").dt.convert_time_zone(\"Europe/Zurich\"))\n",
    "    .with_columns((pl.col(\"date\").dt.dst_offset() == 0).cast(pl.Int16).alias(\"dst\"))\n",
    "    .with_columns(pl.col(\"date\").dt.strftime(\"%Y-%m-%d %H:%M\"))\n",
    "    .unique(subset=[\"date\", \"dst\"])\n",
    "    .rename({\"crossborder_capacity_forecast_day_ahead_mw\": \"capacity_forecast_ch_at\"})\n",
    "    .sort(\"date\")\n",
    ")\n",
    "\n",
    "capacity_forecast_ch_at.pipe(print)"
   ]
  },
  {
   "cell_type": "code",
   "execution_count": 593,
   "metadata": {},
   "outputs": [
    {
     "name": "stdout",
     "output_type": "stream",
     "text": [
      "shape: (44_563, 3)\n",
      "┌──────────────────┬────────────────────────────┬─────┐\n",
      "│ date             ┆ capacity_forecast_ch_de_lu ┆ dst │\n",
      "│ ---              ┆ ---                        ┆ --- │\n",
      "│ str              ┆ f64                        ┆ i16 │\n",
      "╞══════════════════╪════════════════════════════╪═════╡\n",
      "│ 2019-01-01 00:00 ┆ 4000.0                     ┆ 1   │\n",
      "│ 2019-01-01 01:00 ┆ 4000.0                     ┆ 1   │\n",
      "│ 2019-01-01 02:00 ┆ 4000.0                     ┆ 1   │\n",
      "│ 2019-01-01 03:00 ┆ 4000.0                     ┆ 1   │\n",
      "│ 2019-01-01 04:00 ┆ 4000.0                     ┆ 1   │\n",
      "│ …                ┆ …                          ┆ …   │\n",
      "│ 2024-01-31 19:00 ┆ 4000.0                     ┆ 1   │\n",
      "│ 2024-01-31 20:00 ┆ 4000.0                     ┆ 1   │\n",
      "│ 2024-01-31 21:00 ┆ 4000.0                     ┆ 1   │\n",
      "│ 2024-01-31 22:00 ┆ 4000.0                     ┆ 1   │\n",
      "│ 2024-01-31 23:00 ┆ 4000.0                     ┆ 1   │\n",
      "└──────────────────┴────────────────────────────┴─────┘\n"
     ]
    }
   ],
   "source": [
    "capacity_forecast_ch_de_lu = (\n",
    "    pl.read_csv(\"crossborder_capacity_forecast_CH_DE_LU.csv\")\n",
    "    .with_columns(pl.col(\"date\").str.to_datetime())\n",
    "    .with_columns(pl.col(\"date\").dt.convert_time_zone(\"Europe/Zurich\"))\n",
    "    .with_columns((pl.col(\"date\").dt.dst_offset() == 0).cast(pl.Int16).alias(\"dst\"))\n",
    "    .with_columns(pl.col(\"date\").dt.strftime(\"%Y-%m-%d %H:%M\"))\n",
    "    .unique(subset=[\"date\", \"dst\"])\n",
    "    .rename({\"crossborder_capacity_forecast_day_ahead_mw\": \"capacity_forecast_ch_de_lu\"})\n",
    "    .sort(\"date\")\n",
    ")\n",
    "\n",
    "capacity_forecast_ch_de_lu.pipe(print)"
   ]
  },
  {
   "cell_type": "code",
   "execution_count": 594,
   "metadata": {},
   "outputs": [
    {
     "name": "stdout",
     "output_type": "stream",
     "text": [
      "shape: (44_563, 3)\n",
      "┌──────────────────┬─────────────────────────┬─────┐\n",
      "│ date             ┆ capacity_forecast_ch_fr ┆ dst │\n",
      "│ ---              ┆ ---                     ┆ --- │\n",
      "│ str              ┆ f64                     ┆ i16 │\n",
      "╞══════════════════╪═════════════════════════╪═════╡\n",
      "│ 2019-01-01 00:00 ┆ 1200.0                  ┆ 1   │\n",
      "│ 2019-01-01 01:00 ┆ 1200.0                  ┆ 1   │\n",
      "│ 2019-01-01 02:00 ┆ 1200.0                  ┆ 1   │\n",
      "│ 2019-01-01 03:00 ┆ 1200.0                  ┆ 1   │\n",
      "│ 2019-01-01 04:00 ┆ 1200.0                  ┆ 1   │\n",
      "│ …                ┆ …                       ┆ …   │\n",
      "│ 2024-01-31 19:00 ┆ 1300.0                  ┆ 1   │\n",
      "│ 2024-01-31 20:00 ┆ 1300.0                  ┆ 1   │\n",
      "│ 2024-01-31 21:00 ┆ 1300.0                  ┆ 1   │\n",
      "│ 2024-01-31 22:00 ┆ 1300.0                  ┆ 1   │\n",
      "│ 2024-01-31 23:00 ┆ 1300.0                  ┆ 1   │\n",
      "└──────────────────┴─────────────────────────┴─────┘\n"
     ]
    }
   ],
   "source": [
    "capacity_forecast_ch_fr = (\n",
    "    pl.read_csv(\"crossborder_capacity_forecast_CH_FR.csv\")\n",
    "    .with_columns(pl.col(\"date\").str.to_datetime())\n",
    "    .with_columns(pl.col(\"date\").dt.convert_time_zone(\"Europe/Zurich\"))\n",
    "    .with_columns((pl.col(\"date\").dt.dst_offset() == 0).cast(pl.Int16).alias(\"dst\"))\n",
    "    .with_columns(pl.col(\"date\").dt.strftime(\"%Y-%m-%d %H:%M\"))\n",
    "    .unique(subset=[\"date\", \"dst\"])\n",
    "    .rename({\"crossborder_capacity_forecast_day_ahead_mw\": \"capacity_forecast_ch_fr\"})\n",
    "    .sort(\"date\")\n",
    ")\n",
    "\n",
    "capacity_forecast_ch_fr.pipe(print)"
   ]
  },
  {
   "cell_type": "code",
   "execution_count": 595,
   "metadata": {},
   "outputs": [
    {
     "name": "stdout",
     "output_type": "stream",
     "text": [
      "shape: (44_563, 3)\n",
      "┌──────────────────┬─────────────────────────┬─────┐\n",
      "│ date             ┆ capacity_forecast_ch_it ┆ dst │\n",
      "│ ---              ┆ ---                     ┆ --- │\n",
      "│ str              ┆ f64                     ┆ i16 │\n",
      "╞══════════════════╪═════════════════════════╪═════╡\n",
      "│ 2019-01-01 00:00 ┆ 2513.0                  ┆ 1   │\n",
      "│ 2019-01-01 01:00 ┆ 2513.0                  ┆ 1   │\n",
      "│ 2019-01-01 02:00 ┆ 2513.0                  ┆ 1   │\n",
      "│ 2019-01-01 03:00 ┆ 2513.0                  ┆ 1   │\n",
      "│ 2019-01-01 04:00 ┆ 2513.0                  ┆ 1   │\n",
      "│ …                ┆ …                       ┆ …   │\n",
      "│ 2024-01-31 19:00 ┆ 4322.0                  ┆ 1   │\n",
      "│ 2024-01-31 20:00 ┆ 4322.0                  ┆ 1   │\n",
      "│ 2024-01-31 21:00 ┆ 4137.0                  ┆ 1   │\n",
      "│ 2024-01-31 22:00 ┆ 4137.0                  ┆ 1   │\n",
      "│ 2024-01-31 23:00 ┆ 3620.0                  ┆ 1   │\n",
      "└──────────────────┴─────────────────────────┴─────┘\n"
     ]
    }
   ],
   "source": [
    "capacity_forecast_ch_it = (\n",
    "    pl.read_csv(\"crossborder_capacity_forecast_CH_IT.csv\")\n",
    "    .with_columns(pl.col(\"date\").str.to_datetime())\n",
    "    .with_columns(pl.col(\"date\").dt.convert_time_zone(\"Europe/Zurich\"))\n",
    "    .with_columns((pl.col(\"date\").dt.dst_offset() == 0).cast(pl.Int16).alias(\"dst\"))\n",
    "    .with_columns(pl.col(\"date\").dt.strftime(\"%Y-%m-%d %H:%M\"))\n",
    "    .unique(subset=[\"date\", \"dst\"])\n",
    "    .rename({\"crossborder_capacity_forecast_day_ahead_mw\": \"capacity_forecast_ch_it\"})\n",
    "    .sort(\"date\")\n",
    ")\n",
    "\n",
    "capacity_forecast_ch_it.pipe(print)"
   ]
  },
  {
   "cell_type": "code",
   "execution_count": 596,
   "metadata": {},
   "outputs": [
    {
     "name": "stdout",
     "output_type": "stream",
     "text": [
      "shape: (44_563, 3)\n",
      "┌──────────────────┬────────────────────────────┬─────┐\n",
      "│ date             ┆ capacity_forecast_de_lu_ch ┆ dst │\n",
      "│ ---              ┆ ---                        ┆ --- │\n",
      "│ str              ┆ f64                        ┆ i16 │\n",
      "╞══════════════════╪════════════════════════════╪═════╡\n",
      "│ 2019-01-01 00:00 ┆ 800.0                      ┆ 1   │\n",
      "│ 2019-01-01 01:00 ┆ 800.0                      ┆ 1   │\n",
      "│ 2019-01-01 02:00 ┆ 800.0                      ┆ 1   │\n",
      "│ 2019-01-01 03:00 ┆ 800.0                      ┆ 1   │\n",
      "│ 2019-01-01 04:00 ┆ 800.0                      ┆ 1   │\n",
      "│ …                ┆ …                          ┆ …   │\n",
      "│ 2024-01-31 19:00 ┆ 800.0                      ┆ 1   │\n",
      "│ 2024-01-31 20:00 ┆ 800.0                      ┆ 1   │\n",
      "│ 2024-01-31 21:00 ┆ 800.0                      ┆ 1   │\n",
      "│ 2024-01-31 22:00 ┆ 800.0                      ┆ 1   │\n",
      "│ 2024-01-31 23:00 ┆ 800.0                      ┆ 1   │\n",
      "└──────────────────┴────────────────────────────┴─────┘\n"
     ]
    }
   ],
   "source": [
    "capacity_forecast_de_lu_ch = (\n",
    "    pl.read_csv(\"crossborder_capacity_forecast_DE_LU_CH.csv\")\n",
    "    .with_columns(pl.col(\"date\").str.to_datetime())\n",
    "    .with_columns(pl.col(\"date\").dt.convert_time_zone(\"Europe/Zurich\"))\n",
    "    .with_columns((pl.col(\"date\").dt.dst_offset() == 0).cast(pl.Int16).alias(\"dst\"))\n",
    "    .with_columns(pl.col(\"date\").dt.strftime(\"%Y-%m-%d %H:%M\"))\n",
    "    .unique(subset=[\"date\", \"dst\"])\n",
    "    .rename({\"crossborder_capacity_forecast_day_ahead_mw\": \"capacity_forecast_de_lu_ch\"})\n",
    "    .sort(\"date\")\n",
    ")\n",
    "\n",
    "capacity_forecast_de_lu_ch.pipe(print)"
   ]
  },
  {
   "cell_type": "code",
   "execution_count": 598,
   "metadata": {},
   "outputs": [
    {
     "name": "stdout",
     "output_type": "stream",
     "text": [
      "shape: (44_563, 3)\n",
      "┌──────────────────┬─────────────────────────┬─────┐\n",
      "│ date             ┆ capacity_forecast_FR_CH ┆ dst │\n",
      "│ ---              ┆ ---                     ┆ --- │\n",
      "│ str              ┆ f64                     ┆ i16 │\n",
      "╞══════════════════╪═════════════════════════╪═════╡\n",
      "│ 2019-01-01 00:00 ┆ 3000.0                  ┆ 1   │\n",
      "│ 2019-01-01 01:00 ┆ 3000.0                  ┆ 1   │\n",
      "│ 2019-01-01 02:00 ┆ 3000.0                  ┆ 1   │\n",
      "│ 2019-01-01 03:00 ┆ 3000.0                  ┆ 1   │\n",
      "│ 2019-01-01 04:00 ┆ 3000.0                  ┆ 1   │\n",
      "│ …                ┆ …                       ┆ …   │\n",
      "│ 2024-01-31 19:00 ┆ 3200.0                  ┆ 1   │\n",
      "│ 2024-01-31 20:00 ┆ 3200.0                  ┆ 1   │\n",
      "│ 2024-01-31 21:00 ┆ 3200.0                  ┆ 1   │\n",
      "│ 2024-01-31 22:00 ┆ 3200.0                  ┆ 1   │\n",
      "│ 2024-01-31 23:00 ┆ 3200.0                  ┆ 1   │\n",
      "└──────────────────┴─────────────────────────┴─────┘\n"
     ]
    }
   ],
   "source": [
    "capacity_forecast_fr_ch = (\n",
    "    pl.read_csv(\"crossborder_capacity_forecast_FR_CH.csv\")\n",
    "    .with_columns(pl.col(\"date\").str.to_datetime())\n",
    "    .with_columns(pl.col(\"date\").dt.convert_time_zone(\"Europe/Zurich\"))\n",
    "    .with_columns((pl.col(\"date\").dt.dst_offset() == 0).cast(pl.Int16).alias(\"dst\"))\n",
    "    .with_columns(pl.col(\"date\").dt.strftime(\"%Y-%m-%d %H:%M\"))\n",
    "    .unique(subset=[\"date\", \"dst\"])\n",
    "    .rename({\"crossborder_capacity_forecast_day_ahead_mw\": \"capacity_forecast_FR_CH\"})\n",
    "    .sort(\"date\")\n",
    ")\n",
    "\n",
    "capacity_forecast_fr_ch.pipe(print)"
   ]
  },
  {
   "cell_type": "code",
   "execution_count": 599,
   "metadata": {},
   "outputs": [
    {
     "name": "stdout",
     "output_type": "stream",
     "text": [
      "shape: (44_563, 3)\n",
      "┌──────────────────┬─────────────────────────┬─────┐\n",
      "│ date             ┆ capacity_forecast_it_ch ┆ dst │\n",
      "│ ---              ┆ ---                     ┆ --- │\n",
      "│ str              ┆ f64                     ┆ i16 │\n",
      "╞══════════════════╪═════════════════════════╪═════╡\n",
      "│ 2019-01-01 00:00 ┆ 1910.0                  ┆ 1   │\n",
      "│ 2019-01-01 01:00 ┆ 1910.0                  ┆ 1   │\n",
      "│ 2019-01-01 02:00 ┆ 1910.0                  ┆ 1   │\n",
      "│ 2019-01-01 03:00 ┆ 1910.0                  ┆ 1   │\n",
      "│ 2019-01-01 04:00 ┆ 1910.0                  ┆ 1   │\n",
      "│ …                ┆ …                       ┆ …   │\n",
      "│ 2024-01-31 19:00 ┆ 1810.0                  ┆ 1   │\n",
      "│ 2024-01-31 20:00 ┆ 1810.0                  ┆ 1   │\n",
      "│ 2024-01-31 21:00 ┆ 1810.0                  ┆ 1   │\n",
      "│ 2024-01-31 22:00 ┆ 1810.0                  ┆ 1   │\n",
      "│ 2024-01-31 23:00 ┆ 1910.0                  ┆ 1   │\n",
      "└──────────────────┴─────────────────────────┴─────┘\n"
     ]
    }
   ],
   "source": [
    "capacity_forecast_it_ch = (\n",
    "    pl.read_csv(\"crossborder_capacity_forecast_IT_CH.csv\")\n",
    "    .with_columns(pl.col(\"date\").str.to_datetime())\n",
    "    .with_columns(pl.col(\"date\").dt.convert_time_zone(\"Europe/Zurich\"))\n",
    "    .with_columns((pl.col(\"date\").dt.dst_offset() == 0).cast(pl.Int16).alias(\"dst\"))\n",
    "    .with_columns(pl.col(\"date\").dt.strftime(\"%Y-%m-%d %H:%M\"))\n",
    "    .unique(subset=[\"date\", \"dst\"])\n",
    "    .rename({\"crossborder_capacity_forecast_day_ahead_mw\": \"capacity_forecast_it_ch\"})\n",
    "    .sort(\"date\")\n",
    ")\n",
    "\n",
    "capacity_forecast_it_ch.pipe(print)"
   ]
  },
  {
   "cell_type": "markdown",
   "metadata": {},
   "source": [
    "### Joining everything"
   ]
  },
  {
   "cell_type": "code",
   "execution_count": 607,
   "metadata": {},
   "outputs": [
    {
     "data": {
      "text/html": [
       "<div><style>\n",
       ".dataframe > thead > tr,\n",
       ".dataframe > tbody > tr {\n",
       "  text-align: right;\n",
       "  white-space: pre-wrap;\n",
       "}\n",
       "</style>\n",
       "<small>shape: (44_582, 138)</small><table border=\"1\" class=\"dataframe\"><thead><tr><th>date</th><th>dst</th><th>auction_price</th><th>allocatedCapacity</th><th>ATC</th><th>day_ahead_price_at</th><th>day_ahead_price_ch</th><th>day_ahead_price_de</th><th>day_ahead_price_fr</th><th>actual_load_at</th><th>actual_load_ch</th><th>actual_load_de</th><th>actual_load_fr</th><th>actual_load_it</th><th>solar_forecast_at</th><th>wind_onshore_forecast_at</th><th>solar_forecast_ch</th><th>wind_onshore_forecast_ch</th><th>solar_forecast_de</th><th>wind_onshore_forecast_de</th><th>wind_offshore_forecast_de</th><th>solar_forecast_fr</th><th>wind_onshore_forecast_fr</th><th>wind_offshore_forecast_fr</th><th>solar_forecast_it</th><th>wind_onshore_forecast_it</th><th>biomass_actual_aggregated_at</th><th>biomass_actual_consumption_at</th><th>fossil_gas_actual_aggregated_at</th><th>fossil_gas_actual_consumption_at</th><th>fossil_hard_coal_actual_aggregated_at</th><th>fossil_hard_coal_actual_consumption_at</th><th>fossil_oil_actual_aggregated_at</th><th>fossil_oil_actual_consumption_at</th><th>geothermal_actual_aggregated_at</th><th>geothermal_actual_consumption_at</th><th>hydro_pumped_storage_actual_aggregated_at</th><th>&hellip;</th><th>fossil_gas_actual_aggregated_it</th><th>fossil_hard_coal_actual_aggregated_it</th><th>fossil_hard_coal_actual_consumption_it</th><th>fossil_oil_actual_aggregated_it</th><th>fossil_oil_actual_consumption_it</th><th>geothermal_actual_aggregated_it</th><th>hydro_pumped_storage_actual_aggregated_it</th><th>hydro_pumped_storage_actual_consumption_it</th><th>hydro_run-of-river_and_poundage_actual_aggregated_it</th><th>hydro_water_reservoir_actual_aggregated_it</th><th>other_actual_aggregated_it</th><th>other_actual_consumption_it</th><th>solar_actual_aggregated_it</th><th>solar_actual_consumption_it</th><th>waste_actual_aggregated_it</th><th>wind_offshore_actual_aggregated_it</th><th>wind_onshore_actual_aggregated_it</th><th>hydro_reservoir_storage_at</th><th>hydro_reservoir_storage_ch</th><th>hydro_reservoir_storage_fr</th><th>hydro_reservoir_storage_it</th><th>crossborder_actual_flow_at_ch</th><th>crossborder_actual_flow_ch_at</th><th>crossborder_actual_flow_ch_de_lu</th><th>crossborder_actual_flow_ch_fr</th><th>crossborder_actual_flow_ch_it</th><th>crossborder_actual_flow_de_lu_ch</th><th>crossborder_actual_flow_fr_ch</th><th>crossborder_actual_flow_it_ch</th><th>capacity_forecast_at_ch</th><th>capacity_forecast_ch_at</th><th>capacity_forecast_ch_de_lu</th><th>capacity_forecast_ch_fr</th><th>capacity_forecast_ch_it</th><th>capacity_forecast_de_lu_ch</th><th>capacity_forecast_FR_CH</th><th>capacity_forecast_it_ch</th></tr><tr><td>str</td><td>i16</td><td>f64</td><td>i64</td><td>i64</td><td>f64</td><td>f64</td><td>f64</td><td>f64</td><td>f64</td><td>f64</td><td>f64</td><td>f64</td><td>f64</td><td>f64</td><td>f64</td><td>f64</td><td>f64</td><td>f64</td><td>f64</td><td>f64</td><td>f64</td><td>f64</td><td>str</td><td>f64</td><td>str</td><td>f64</td><td>f64</td><td>f64</td><td>f64</td><td>f64</td><td>f64</td><td>f64</td><td>f64</td><td>f64</td><td>f64</td><td>f64</td><td>&hellip;</td><td>f64</td><td>f64</td><td>f64</td><td>f64</td><td>f64</td><td>f64</td><td>f64</td><td>f64</td><td>f64</td><td>f64</td><td>f64</td><td>f64</td><td>f64</td><td>f64</td><td>f64</td><td>f64</td><td>f64</td><td>f64</td><td>f64</td><td>f64</td><td>f64</td><td>f64</td><td>f64</td><td>f64</td><td>f64</td><td>f64</td><td>f64</td><td>f64</td><td>f64</td><td>f64</td><td>f64</td><td>f64</td><td>f64</td><td>f64</td><td>f64</td><td>f64</td><td>f64</td></tr></thead><tbody><tr><td>&quot;2019-01-01 02:…</td><td>1</td><td>0.0</td><td>4232</td><td>4233</td><td>39.78</td><td>47.24</td><td>-4.08</td><td>39.78</td><td>5619.25</td><td>7244.0</td><td>40537.0</td><td>58540.0</td><td>21600.0</td><td>0.0</td><td>338.0</td><td>0.0</td><td>2.0</td><td>0.0</td><td>22355.5</td><td>5028.5</td><td>0.0</td><td>1675.0</td><td>null</td><td>0.0</td><td>null</td><td>304.0</td><td>0.0</td><td>618.75</td><td>0.0</td><td>155.5</td><td>0.0</td><td>0.0</td><td>0.0</td><td>0.0</td><td>0.0</td><td>0.0</td><td>&hellip;</td><td>7090.0</td><td>2177.0</td><td>null</td><td>8.0</td><td>null</td><td>673.0</td><td>0.0</td><td>138.0</td><td>1613.0</td><td>164.0</td><td>2859.0</td><td>null</td><td>0.0</td><td>null</td><td>36.0</td><td>null</td><td>5086.0</td><td>1.412194e6</td><td>4.656491e6</td><td>2.186488e6</td><td>3.036299e6</td><td>427.0</td><td>0.0</td><td>512.0</td><td>280.0</td><td>931.0</td><td>3677.0</td><td>0.0</td><td>0.0</td><td>1200.0</td><td>700.0</td><td>4000.0</td><td>1200.0</td><td>2513.0</td><td>800.0</td><td>3000.0</td><td>1910.0</td></tr><tr><td>&quot;2019-01-01 08:…</td><td>1</td><td>0.0</td><td>4232</td><td>4233</td><td>1.53</td><td>28.7</td><td>-4.93</td><td>25.0</td><td>6203.75</td><td>7160.0</td><td>40120.5</td><td>52929.0</td><td>21199.0</td><td>22.0</td><td>634.0</td><td>3.0</td><td>2.0</td><td>79.25</td><td>29267.0</td><td>4907.75</td><td>0.0</td><td>1840.0</td><td>null</td><td>745.0</td><td>null</td><td>304.0</td><td>0.0</td><td>446.5</td><td>0.0</td><td>155.75</td><td>0.0</td><td>0.0</td><td>0.0</td><td>0.0</td><td>0.0</td><td>0.0</td><td>&hellip;</td><td>5174.0</td><td>1706.0</td><td>null</td><td>8.0</td><td>null</td><td>672.0</td><td>0.0</td><td>878.0</td><td>1877.0</td><td>272.0</td><td>2283.0</td><td>null</td><td>1052.0</td><td>null</td><td>33.0</td><td>null</td><td>4210.0</td><td>1.412194e6</td><td>4.656491e6</td><td>2.186488e6</td><td>3.036299e6</td><td>759.0</td><td>0.0</td><td>567.0</td><td>0.0</td><td>2431.0</td><td>4408.0</td><td>57.0</td><td>0.0</td><td>1200.0</td><td>700.0</td><td>4000.0</td><td>1200.0</td><td>2513.0</td><td>800.0</td><td>3000.0</td><td>1910.0</td></tr><tr><td>&quot;2019-01-01 10:…</td><td>1</td><td>0.0</td><td>4232</td><td>4233</td><td>14.34</td><td>37.53</td><td>-4.93</td><td>34.64</td><td>6884.0</td><td>7354.0</td><td>45375.5</td><td>55677.0</td><td>23695.0</td><td>94.0</td><td>845.0</td><td>35.0</td><td>2.0</td><td>1460.75</td><td>30461.5</td><td>4923.5</td><td>924.0</td><td>2047.0</td><td>null</td><td>3866.0</td><td>null</td><td>304.0</td><td>0.0</td><td>504.5</td><td>0.0</td><td>154.75</td><td>0.0</td><td>0.0</td><td>0.0</td><td>0.0</td><td>0.0</td><td>0.0</td><td>&hellip;</td><td>5172.0</td><td>1777.0</td><td>null</td><td>8.0</td><td>null</td><td>673.0</td><td>170.0</td><td>930.0</td><td>2028.0</td><td>259.0</td><td>2108.0</td><td>null</td><td>4601.0</td><td>null</td><td>37.0</td><td>null</td><td>3262.0</td><td>1.412194e6</td><td>4.656491e6</td><td>2.186488e6</td><td>3.036299e6</td><td>801.0</td><td>0.0</td><td>545.0</td><td>0.0</td><td>2417.0</td><td>4365.0</td><td>164.0</td><td>0.0</td><td>1200.0</td><td>700.0</td><td>4000.0</td><td>1200.0</td><td>2513.0</td><td>800.0</td><td>3000.0</td><td>1910.0</td></tr><tr><td>&quot;2019-01-01 20:…</td><td>1</td><td>0.0</td><td>4232</td><td>4233</td><td>32.63</td><td>55.05</td><td>-6.98</td><td>61.27</td><td>7030.75</td><td>7104.0</td><td>51846.5</td><td>62360.0</td><td>29874.0</td><td>0.0</td><td>2359.0</td><td>0.0</td><td>8.0</td><td>0.0</td><td>36429.75</td><td>3924.75</td><td>0.0</td><td>3332.0</td><td>null</td><td>0.0</td><td>null</td><td>304.0</td><td>0.0</td><td>617.75</td><td>0.0</td><td>153.5</td><td>0.0</td><td>0.0</td><td>0.0</td><td>0.0</td><td>0.0</td><td>0.0</td><td>&hellip;</td><td>9757.0</td><td>1804.0</td><td>null</td><td>67.0</td><td>null</td><td>669.0</td><td>1217.0</td><td>1.0</td><td>3217.0</td><td>1122.0</td><td>2886.0</td><td>null</td><td>0.0</td><td>null</td><td>39.0</td><td>null</td><td>3091.0</td><td>1.412194e6</td><td>4.656491e6</td><td>2.186488e6</td><td>3.036299e6</td><td>1098.0</td><td>0.0</td><td>572.0</td><td>0.0</td><td>2992.0</td><td>4105.0</td><td>26.0</td><td>0.0</td><td>1200.0</td><td>700.0</td><td>4000.0</td><td>1200.0</td><td>2321.0</td><td>800.0</td><td>3000.0</td><td>1910.0</td></tr><tr><td>&quot;2019-01-02 14:…</td><td>1</td><td>0.0</td><td>4233</td><td>4233</td><td>50.85</td><td>59.4</td><td>49.64</td><td>55.64</td><td>8775.75</td><td>7372.0</td><td>64764.25</td><td>68572.0</td><td>35263.0</td><td>119.0</td><td>2854.0</td><td>33.0</td><td>10.0</td><td>3676.75</td><td>24910.25</td><td>3716.75</td><td>2384.0</td><td>4113.0</td><td>null</td><td>2537.0</td><td>null</td><td>300.0</td><td>0.0</td><td>2214.5</td><td>0.0</td><td>153.75</td><td>0.0</td><td>0.0</td><td>0.0</td><td>0.0</td><td>0.0</td><td>78.0</td><td>&hellip;</td><td>11538.0</td><td>2422.0</td><td>null</td><td>67.0</td><td>null</td><td>659.0</td><td>0.0</td><td>2.0</td><td>1913.0</td><td>330.0</td><td>3164.0</td><td>null</td><td>3738.0</td><td>null</td><td>39.0</td><td>null</td><td>4997.0</td><td>1.412194e6</td><td>4.656491e6</td><td>2.186488e6</td><td>3.036299e6</td><td>1292.0</td><td>0.0</td><td>629.0</td><td>0.0</td><td>3156.0</td><td>4107.0</td><td>228.0</td><td>0.0</td><td>1200.0</td><td>700.0</td><td>4000.0</td><td>1200.0</td><td>2814.0</td><td>800.0</td><td>3100.0</td><td>1810.0</td></tr><tr><td>&hellip;</td><td>&hellip;</td><td>&hellip;</td><td>&hellip;</td><td>&hellip;</td><td>&hellip;</td><td>&hellip;</td><td>&hellip;</td><td>&hellip;</td><td>&hellip;</td><td>&hellip;</td><td>&hellip;</td><td>&hellip;</td><td>&hellip;</td><td>&hellip;</td><td>&hellip;</td><td>&hellip;</td><td>&hellip;</td><td>&hellip;</td><td>&hellip;</td><td>&hellip;</td><td>&hellip;</td><td>&hellip;</td><td>&hellip;</td><td>&hellip;</td><td>&hellip;</td><td>&hellip;</td><td>&hellip;</td><td>&hellip;</td><td>&hellip;</td><td>&hellip;</td><td>&hellip;</td><td>&hellip;</td><td>&hellip;</td><td>&hellip;</td><td>&hellip;</td><td>&hellip;</td><td>&hellip;</td><td>&hellip;</td><td>&hellip;</td><td>&hellip;</td><td>&hellip;</td><td>&hellip;</td><td>&hellip;</td><td>&hellip;</td><td>&hellip;</td><td>&hellip;</td><td>&hellip;</td><td>&hellip;</td><td>&hellip;</td><td>&hellip;</td><td>&hellip;</td><td>&hellip;</td><td>&hellip;</td><td>&hellip;</td><td>&hellip;</td><td>&hellip;</td><td>&hellip;</td><td>&hellip;</td><td>&hellip;</td><td>&hellip;</td><td>&hellip;</td><td>&hellip;</td><td>&hellip;</td><td>&hellip;</td><td>&hellip;</td><td>&hellip;</td><td>&hellip;</td><td>&hellip;</td><td>&hellip;</td><td>&hellip;</td><td>&hellip;</td><td>&hellip;</td><td>&hellip;</td><td>&hellip;</td></tr><tr><td>&quot;2024-02-03 01:…</td><td>1</td><td>0.0</td><td>4344</td><td>4350</td><td>null</td><td>null</td><td>null</td><td>null</td><td>null</td><td>null</td><td>null</td><td>null</td><td>null</td><td>null</td><td>null</td><td>null</td><td>null</td><td>null</td><td>null</td><td>null</td><td>null</td><td>null</td><td>null</td><td>null</td><td>null</td><td>null</td><td>null</td><td>null</td><td>null</td><td>null</td><td>null</td><td>null</td><td>null</td><td>null</td><td>null</td><td>null</td><td>&hellip;</td><td>null</td><td>null</td><td>null</td><td>null</td><td>null</td><td>null</td><td>null</td><td>null</td><td>null</td><td>null</td><td>null</td><td>null</td><td>null</td><td>null</td><td>null</td><td>null</td><td>null</td><td>1.073592e6</td><td>2.47213e6</td><td>2.010901e6</td><td>2.619505e6</td><td>null</td><td>null</td><td>null</td><td>null</td><td>null</td><td>null</td><td>null</td><td>null</td><td>null</td><td>null</td><td>null</td><td>null</td><td>null</td><td>null</td><td>null</td><td>null</td></tr><tr><td>&quot;2024-02-03 03:…</td><td>1</td><td>0.0</td><td>4346</td><td>4350</td><td>null</td><td>null</td><td>null</td><td>null</td><td>null</td><td>null</td><td>null</td><td>null</td><td>null</td><td>null</td><td>null</td><td>null</td><td>null</td><td>null</td><td>null</td><td>null</td><td>null</td><td>null</td><td>null</td><td>null</td><td>null</td><td>null</td><td>null</td><td>null</td><td>null</td><td>null</td><td>null</td><td>null</td><td>null</td><td>null</td><td>null</td><td>null</td><td>&hellip;</td><td>null</td><td>null</td><td>null</td><td>null</td><td>null</td><td>null</td><td>null</td><td>null</td><td>null</td><td>null</td><td>null</td><td>null</td><td>null</td><td>null</td><td>null</td><td>null</td><td>null</td><td>1.073592e6</td><td>2.47213e6</td><td>2.010901e6</td><td>2.619505e6</td><td>null</td><td>null</td><td>null</td><td>null</td><td>null</td><td>null</td><td>null</td><td>null</td><td>null</td><td>null</td><td>null</td><td>null</td><td>null</td><td>null</td><td>null</td><td>null</td></tr><tr><td>&quot;2024-02-03 05:…</td><td>1</td><td>0.0</td><td>4346</td><td>4350</td><td>null</td><td>null</td><td>null</td><td>null</td><td>null</td><td>null</td><td>null</td><td>null</td><td>null</td><td>null</td><td>null</td><td>null</td><td>null</td><td>null</td><td>null</td><td>null</td><td>null</td><td>null</td><td>null</td><td>null</td><td>null</td><td>null</td><td>null</td><td>null</td><td>null</td><td>null</td><td>null</td><td>null</td><td>null</td><td>null</td><td>null</td><td>null</td><td>&hellip;</td><td>null</td><td>null</td><td>null</td><td>null</td><td>null</td><td>null</td><td>null</td><td>null</td><td>null</td><td>null</td><td>null</td><td>null</td><td>null</td><td>null</td><td>null</td><td>null</td><td>null</td><td>1.073592e6</td><td>2.47213e6</td><td>2.010901e6</td><td>2.619505e6</td><td>null</td><td>null</td><td>null</td><td>null</td><td>null</td><td>null</td><td>null</td><td>null</td><td>null</td><td>null</td><td>null</td><td>null</td><td>null</td><td>null</td><td>null</td><td>null</td></tr><tr><td>&quot;2024-02-03 20:…</td><td>1</td><td>0.0</td><td>4335</td><td>4350</td><td>null</td><td>null</td><td>null</td><td>null</td><td>null</td><td>null</td><td>null</td><td>null</td><td>null</td><td>null</td><td>null</td><td>null</td><td>null</td><td>null</td><td>null</td><td>null</td><td>null</td><td>null</td><td>null</td><td>null</td><td>null</td><td>null</td><td>null</td><td>null</td><td>null</td><td>null</td><td>null</td><td>null</td><td>null</td><td>null</td><td>null</td><td>null</td><td>&hellip;</td><td>null</td><td>null</td><td>null</td><td>null</td><td>null</td><td>null</td><td>null</td><td>null</td><td>null</td><td>null</td><td>null</td><td>null</td><td>null</td><td>null</td><td>null</td><td>null</td><td>null</td><td>1.073592e6</td><td>2.47213e6</td><td>2.010901e6</td><td>2.619505e6</td><td>null</td><td>null</td><td>null</td><td>null</td><td>null</td><td>null</td><td>null</td><td>null</td><td>null</td><td>null</td><td>null</td><td>null</td><td>null</td><td>null</td><td>null</td><td>null</td></tr><tr><td>&quot;2024-02-03 23:…</td><td>1</td><td>0.0</td><td>4339</td><td>4350</td><td>null</td><td>null</td><td>null</td><td>null</td><td>null</td><td>null</td><td>null</td><td>null</td><td>null</td><td>null</td><td>null</td><td>null</td><td>null</td><td>null</td><td>null</td><td>null</td><td>null</td><td>null</td><td>null</td><td>null</td><td>null</td><td>null</td><td>null</td><td>null</td><td>null</td><td>null</td><td>null</td><td>null</td><td>null</td><td>null</td><td>null</td><td>null</td><td>&hellip;</td><td>null</td><td>null</td><td>null</td><td>null</td><td>null</td><td>null</td><td>null</td><td>null</td><td>null</td><td>null</td><td>null</td><td>null</td><td>null</td><td>null</td><td>null</td><td>null</td><td>null</td><td>1.073592e6</td><td>2.47213e6</td><td>2.010901e6</td><td>2.619505e6</td><td>null</td><td>null</td><td>null</td><td>null</td><td>null</td><td>null</td><td>null</td><td>null</td><td>null</td><td>null</td><td>null</td><td>null</td><td>null</td><td>null</td><td>null</td><td>null</td></tr></tbody></table></div>"
      ],
      "text/plain": [
       "shape: (44_582, 138)\n",
       "┌────────────┬─────┬────────────┬────────────┬───┬────────────┬────────────┬───────────┬───────────┐\n",
       "│ date       ┆ dst ┆ auction_pr ┆ allocatedC ┆ … ┆ capacity_f ┆ capacity_f ┆ capacity_ ┆ capacity_ │\n",
       "│ ---        ┆ --- ┆ ice        ┆ apacity    ┆   ┆ orecast_ch ┆ orecast_de ┆ forecast_ ┆ forecast_ │\n",
       "│ str        ┆ i16 ┆ ---        ┆ ---        ┆   ┆ _it        ┆ _lu_ch     ┆ FR_CH     ┆ it_ch     │\n",
       "│            ┆     ┆ f64        ┆ i64        ┆   ┆ ---        ┆ ---        ┆ ---       ┆ ---       │\n",
       "│            ┆     ┆            ┆            ┆   ┆ f64        ┆ f64        ┆ f64       ┆ f64       │\n",
       "╞════════════╪═════╪════════════╪════════════╪═══╪════════════╪════════════╪═══════════╪═══════════╡\n",
       "│ 2019-01-01 ┆ 1   ┆ 0.0        ┆ 4232       ┆ … ┆ 2513.0     ┆ 800.0      ┆ 3000.0    ┆ 1910.0    │\n",
       "│ 02:00      ┆     ┆            ┆            ┆   ┆            ┆            ┆           ┆           │\n",
       "│ 2019-01-01 ┆ 1   ┆ 0.0        ┆ 4232       ┆ … ┆ 2513.0     ┆ 800.0      ┆ 3000.0    ┆ 1910.0    │\n",
       "│ 08:00      ┆     ┆            ┆            ┆   ┆            ┆            ┆           ┆           │\n",
       "│ 2019-01-01 ┆ 1   ┆ 0.0        ┆ 4232       ┆ … ┆ 2513.0     ┆ 800.0      ┆ 3000.0    ┆ 1910.0    │\n",
       "│ 10:00      ┆     ┆            ┆            ┆   ┆            ┆            ┆           ┆           │\n",
       "│ 2019-01-01 ┆ 1   ┆ 0.0        ┆ 4232       ┆ … ┆ 2321.0     ┆ 800.0      ┆ 3000.0    ┆ 1910.0    │\n",
       "│ 20:00      ┆     ┆            ┆            ┆   ┆            ┆            ┆           ┆           │\n",
       "│ 2019-01-02 ┆ 1   ┆ 0.0        ┆ 4233       ┆ … ┆ 2814.0     ┆ 800.0      ┆ 3100.0    ┆ 1810.0    │\n",
       "│ 14:00      ┆     ┆            ┆            ┆   ┆            ┆            ┆           ┆           │\n",
       "│ …          ┆ …   ┆ …          ┆ …          ┆ … ┆ …          ┆ …          ┆ …         ┆ …         │\n",
       "│ 2024-02-03 ┆ 1   ┆ 0.0        ┆ 4344       ┆ … ┆ null       ┆ null       ┆ null      ┆ null      │\n",
       "│ 01:00      ┆     ┆            ┆            ┆   ┆            ┆            ┆           ┆           │\n",
       "│ 2024-02-03 ┆ 1   ┆ 0.0        ┆ 4346       ┆ … ┆ null       ┆ null       ┆ null      ┆ null      │\n",
       "│ 03:00      ┆     ┆            ┆            ┆   ┆            ┆            ┆           ┆           │\n",
       "│ 2024-02-03 ┆ 1   ┆ 0.0        ┆ 4346       ┆ … ┆ null       ┆ null       ┆ null      ┆ null      │\n",
       "│ 05:00      ┆     ┆            ┆            ┆   ┆            ┆            ┆           ┆           │\n",
       "│ 2024-02-03 ┆ 1   ┆ 0.0        ┆ 4335       ┆ … ┆ null       ┆ null       ┆ null      ┆ null      │\n",
       "│ 20:00      ┆     ┆            ┆            ┆   ┆            ┆            ┆           ┆           │\n",
       "│ 2024-02-03 ┆ 1   ┆ 0.0        ┆ 4339       ┆ … ┆ null       ┆ null       ┆ null      ┆ null      │\n",
       "│ 23:00      ┆     ┆            ┆            ┆   ┆            ┆            ┆           ┆           │\n",
       "└────────────┴─────┴────────────┴────────────┴───┴────────────┴────────────┴───────────┴───────────┘"
      ]
     },
     "execution_count": 607,
     "metadata": {},
     "output_type": "execute_result"
    }
   ],
   "source": [
    "df_final = (\n",
    "    jao_chde.drop(\"day\")\n",
    "    .with_columns(\n",
    "        pl.col(\"date\")\n",
    "        .str.to_datetime()\n",
    "        .dt.truncate(\"1w\")\n",
    "        .dt.date()\n",
    "        .dt.strftime(\"%Y-%m-%d\")\n",
    "        .alias(\"week_start\")\n",
    "    )\n",
    "    .select([\"date\", \"week_start\", \"dst\", \"auction_price\", \"allocatedCapacity\", \"ATC\"])\n",
    "    # Day Ahead Prices\n",
    "    .join(da_at, how=\"left\", on=[\"date\", \"dst\"])\n",
    "    .join(da_ch, how=\"left\", on=[\"date\", \"dst\"])\n",
    "    .join(da_delu, how=\"left\", on=[\"date\", \"dst\"])\n",
    "    .join(da_fr, how=\"left\", on=[\"date\", \"dst\"])\n",
    "    # Actual Load\n",
    "    .join(load_at, how=\"left\", on=[\"date\", \"dst\"])\n",
    "    .join(load_ch, how=\"left\", on=[\"date\", \"dst\"])\n",
    "    .join(load_de, how=\"left\", on=[\"date\", \"dst\"])\n",
    "    .join(load_fr, how=\"left\", on=[\"date\", \"dst\"])\n",
    "    .join(load_it, how=\"left\", on=[\"date\", \"dst\"])\n",
    "    # Forecast Wind and Solar\n",
    "    .join(wind_solar_forecast_at, how=\"left\", on=[\"date\", \"dst\"])\n",
    "    .join(wind_solar_forecast_ch, how=\"left\", on=[\"date\", \"dst\"])\n",
    "    .join(wind_solar_forecast_de, how=\"left\", on=[\"date\", \"dst\"])\n",
    "    .join(wind_solar_forecast_fr, how=\"left\", on=[\"date\", \"dst\"])\n",
    "    .join(wind_solar_forecast_it, how=\"left\", on=[\"date\", \"dst\"])\n",
    "    # Actual Generation All Types\n",
    "    .join(generation_at, how=\"left\", on=[\"date\", \"dst\"])\n",
    "    .join(generation_ch, how=\"left\", on=[\"date\", \"dst\"])\n",
    "    .join(generation_de, how=\"left\", on=[\"date\", \"dst\"])\n",
    "    .join(generation_fr, how=\"left\", on=[\"date\", \"dst\"])\n",
    "    .join(generation_it, how=\"left\", on=[\"date\", \"dst\"])\n",
    "    # Hydro Reservoir Storage\n",
    "    .join(hydro_storage_at, how=\"left\", on=[\"week_start\"])\n",
    "    .join(hydro_storage_ch, how=\"left\", on=[\"week_start\"])\n",
    "    .join(hydro_storage_fr, how=\"left\", on=[\"week_start\"])\n",
    "    .join(hydro_storage_it, how=\"left\", on=[\"week_start\"])\n",
    "    # Cross Border Physical Flow\n",
    "    .join(flow_at_ch, how=\"left\", on=[\"date\", \"dst\"])\n",
    "    .join(flow_ch_at, how=\"left\", on=[\"date\", \"dst\"])\n",
    "    .join(flow_ch_de_lu, how=\"left\", on=[\"date\", \"dst\"])\n",
    "    .join(flow_ch_fr, how=\"left\", on=[\"date\", \"dst\"])\n",
    "    .join(flow_ch_it, how=\"left\", on=[\"date\", \"dst\"])\n",
    "    .join(flow_de_lu_ch, how=\"left\", on=[\"date\", \"dst\"])\n",
    "    .join(flow_fr_ch, how=\"left\", on=[\"date\", \"dst\"])\n",
    "    .join(flow_it_ch, how=\"left\", on=[\"date\", \"dst\"])\n",
    "    # Cross Border Capacities Forecast\n",
    "    .join(capacity_forecast_at_ch, how=\"left\", on=[\"date\", \"dst\"])\n",
    "    .join(capacity_forecast_ch_at, how=\"left\", on=[\"date\", \"dst\"])\n",
    "    .join(capacity_forecast_ch_de_lu, how=\"left\", on=[\"date\", \"dst\"])\n",
    "    .join(capacity_forecast_ch_fr, how=\"left\", on=[\"date\", \"dst\"])\n",
    "    .join(capacity_forecast_ch_it, how=\"left\", on=[\"date\", \"dst\"])\n",
    "    .join(capacity_forecast_de_lu_ch, how=\"left\", on=[\"date\", \"dst\"])\n",
    "    .join(capacity_forecast_fr_ch, how=\"left\", on=[\"date\", \"dst\"])\n",
    "    .join(capacity_forecast_it_ch, how=\"left\", on=[\"date\", \"dst\"])\n",
    "    # Drop\n",
    "    .drop([\"week_start\"])\n",
    ")\n",
    "\n",
    "df_final"
   ]
  },
  {
   "cell_type": "code",
   "execution_count": 609,
   "metadata": {},
   "outputs": [],
   "source": [
    "df_final.to_pandas().to_csv(\"0_df_final_ch-de.csv\", index=False)"
   ]
  },
  {
   "cell_type": "code",
   "execution_count": 611,
   "metadata": {},
   "outputs": [
    {
     "data": {
      "text/html": [
       "<div><style>\n",
       ".dataframe > thead > tr,\n",
       ".dataframe > tbody > tr {\n",
       "  text-align: right;\n",
       "  white-space: pre-wrap;\n",
       "}\n",
       "</style>\n",
       "<small>shape: (44_582, 138)</small><table border=\"1\" class=\"dataframe\"><thead><tr><th>date</th><th>dst</th><th>auction_price</th><th>allocatedCapacity</th><th>ATC</th><th>day_ahead_price_at</th><th>day_ahead_price_ch</th><th>day_ahead_price_de</th><th>day_ahead_price_fr</th><th>actual_load_at</th><th>actual_load_ch</th><th>actual_load_de</th><th>actual_load_fr</th><th>actual_load_it</th><th>solar_forecast_at</th><th>wind_onshore_forecast_at</th><th>solar_forecast_ch</th><th>wind_onshore_forecast_ch</th><th>solar_forecast_de</th><th>wind_onshore_forecast_de</th><th>wind_offshore_forecast_de</th><th>solar_forecast_fr</th><th>wind_onshore_forecast_fr</th><th>wind_offshore_forecast_fr</th><th>solar_forecast_it</th><th>wind_onshore_forecast_it</th><th>biomass_actual_aggregated_at</th><th>biomass_actual_consumption_at</th><th>fossil_gas_actual_aggregated_at</th><th>fossil_gas_actual_consumption_at</th><th>fossil_hard_coal_actual_aggregated_at</th><th>fossil_hard_coal_actual_consumption_at</th><th>fossil_oil_actual_aggregated_at</th><th>fossil_oil_actual_consumption_at</th><th>geothermal_actual_aggregated_at</th><th>geothermal_actual_consumption_at</th><th>hydro_pumped_storage_actual_aggregated_at</th><th>&hellip;</th><th>fossil_gas_actual_aggregated_it</th><th>fossil_hard_coal_actual_aggregated_it</th><th>fossil_hard_coal_actual_consumption_it</th><th>fossil_oil_actual_aggregated_it</th><th>fossil_oil_actual_consumption_it</th><th>geothermal_actual_aggregated_it</th><th>hydro_pumped_storage_actual_aggregated_it</th><th>hydro_pumped_storage_actual_consumption_it</th><th>hydro_run-of-river_and_poundage_actual_aggregated_it</th><th>hydro_water_reservoir_actual_aggregated_it</th><th>other_actual_aggregated_it</th><th>other_actual_consumption_it</th><th>solar_actual_aggregated_it</th><th>solar_actual_consumption_it</th><th>waste_actual_aggregated_it</th><th>wind_offshore_actual_aggregated_it</th><th>wind_onshore_actual_aggregated_it</th><th>hydro_reservoir_storage_at</th><th>hydro_reservoir_storage_ch</th><th>hydro_reservoir_storage_fr</th><th>hydro_reservoir_storage_it</th><th>crossborder_actual_flow_at_ch</th><th>crossborder_actual_flow_ch_at</th><th>crossborder_actual_flow_ch_de_lu</th><th>crossborder_actual_flow_ch_fr</th><th>crossborder_actual_flow_ch_it</th><th>crossborder_actual_flow_de_lu_ch</th><th>crossborder_actual_flow_fr_ch</th><th>crossborder_actual_flow_it_ch</th><th>capacity_forecast_at_ch</th><th>capacity_forecast_ch_at</th><th>capacity_forecast_ch_de_lu</th><th>capacity_forecast_ch_fr</th><th>capacity_forecast_ch_it</th><th>capacity_forecast_de_lu_ch</th><th>capacity_forecast_FR_CH</th><th>capacity_forecast_it_ch</th></tr><tr><td>str</td><td>i16</td><td>f64</td><td>f64</td><td>f64</td><td>f64</td><td>f64</td><td>f64</td><td>f64</td><td>f64</td><td>f64</td><td>f64</td><td>f64</td><td>f64</td><td>f64</td><td>f64</td><td>f64</td><td>f64</td><td>f64</td><td>f64</td><td>f64</td><td>f64</td><td>f64</td><td>str</td><td>f64</td><td>str</td><td>f64</td><td>f64</td><td>f64</td><td>f64</td><td>f64</td><td>f64</td><td>f64</td><td>f64</td><td>f64</td><td>f64</td><td>f64</td><td>&hellip;</td><td>f64</td><td>f64</td><td>f64</td><td>f64</td><td>f64</td><td>f64</td><td>f64</td><td>f64</td><td>f64</td><td>f64</td><td>f64</td><td>f64</td><td>f64</td><td>f64</td><td>f64</td><td>f64</td><td>f64</td><td>f64</td><td>f64</td><td>f64</td><td>f64</td><td>f64</td><td>f64</td><td>f64</td><td>f64</td><td>f64</td><td>f64</td><td>f64</td><td>f64</td><td>f64</td><td>f64</td><td>f64</td><td>f64</td><td>f64</td><td>f64</td><td>f64</td><td>f64</td></tr></thead><tbody><tr><td>&quot;2019-01-01 09:…</td><td>1</td><td>36.29</td><td>567.0</td><td>567.0</td><td>0.41</td><td>35.7</td><td>-6.33</td><td>25.0</td><td>6544.5</td><td>7185.0</td><td>42666.75</td><td>53830.0</td><td>22341.0</td><td>52.0</td><td>746.0</td><td>17.0</td><td>2.0</td><td>655.25</td><td>29854.0</td><td>4922.5</td><td>151.0</td><td>1943.0</td><td>null</td><td>2325.0</td><td>null</td><td>300.0</td><td>0.0</td><td>458.75</td><td>0.0</td><td>155.0</td><td>0.0</td><td>0.0</td><td>0.0</td><td>0.0</td><td>0.0</td><td>0.0</td><td>&hellip;</td><td>5209.0</td><td>1725.0</td><td>null</td><td>8.0</td><td>null</td><td>673.0</td><td>0.0</td><td>1281.0</td><td>2030.0</td><td>257.0</td><td>2169.0</td><td>null</td><td>2840.0</td><td>null</td><td>34.0</td><td>null</td><td>3656.0</td><td>1.412194e6</td><td>4.656491e6</td><td>2.186488e6</td><td>3.036299e6</td><td>803.0</td><td>0.0</td><td>584.0</td><td>0.0</td><td>2623.0</td><td>4322.0</td><td>461.0</td><td>0.0</td><td>1200.0</td><td>700.0</td><td>4000.0</td><td>1200.0</td><td>2513.0</td><td>800.0</td><td>3000.0</td><td>1910.0</td></tr><tr><td>&quot;2019-01-01 13:…</td><td>1</td><td>35.46</td><td>567.0</td><td>567.0</td><td>8.85</td><td>43.07</td><td>-0.02</td><td>41.06</td><td>7040.75</td><td>7726.0</td><td>49276.5</td><td>60029.0</td><td>23970.0</td><td>156.0</td><td>1220.0</td><td>45.0</td><td>4.0</td><td>1915.75</td><td>32344.0</td><td>4416.75</td><td>2602.0</td><td>2408.0</td><td>null</td><td>4317.0</td><td>null</td><td>304.0</td><td>0.0</td><td>452.25</td><td>0.0</td><td>154.75</td><td>0.0</td><td>0.0</td><td>0.0</td><td>0.0</td><td>0.0</td><td>0.0</td><td>&hellip;</td><td>5802.0</td><td>1729.0</td><td>null</td><td>8.0</td><td>null</td><td>669.0</td><td>198.0</td><td>143.0</td><td>1726.0</td><td>178.0</td><td>2374.0</td><td>null</td><td>4925.0</td><td>null</td><td>40.0</td><td>null</td><td>3460.0</td><td>1.412194e6</td><td>4.656491e6</td><td>2.186488e6</td><td>3.036299e6</td><td>559.0</td><td>0.0</td><td>626.0</td><td>276.0</td><td>1317.0</td><td>4092.0</td><td>0.0</td><td>0.0</td><td>1200.0</td><td>700.0</td><td>4000.0</td><td>1200.0</td><td>2513.0</td><td>800.0</td><td>3000.0</td><td>1910.0</td></tr><tr><td>&quot;2019-01-01 23:…</td><td>1</td><td>47.78</td><td>567.0</td><td>567.0</td><td>-4.95</td><td>55.11</td><td>-28.93</td><td>54.91</td><td>6225.25</td><td>6992.0</td><td>46421.5</td><td>61763.0</td><td>23904.0</td><td>0.0</td><td>2533.0</td><td>0.0</td><td>8.0</td><td>0.0</td><td>35527.25</td><td>4000.75</td><td>0.0</td><td>3707.0</td><td>null</td><td>0.0</td><td>null</td><td>304.0</td><td>0.0</td><td>383.25</td><td>0.0</td><td>153.25</td><td>0.0</td><td>0.0</td><td>0.0</td><td>0.0</td><td>0.0</td><td>0.0</td><td>&hellip;</td><td>8930.0</td><td>1751.0</td><td>null</td><td>66.0</td><td>null</td><td>668.0</td><td>0.0</td><td>3.0</td><td>1994.0</td><td>189.0</td><td>2644.0</td><td>null</td><td>0.0</td><td>null</td><td>38.0</td><td>null</td><td>2362.0</td><td>1.412194e6</td><td>4.656491e6</td><td>2.186488e6</td><td>3.036299e6</td><td>869.0</td><td>0.0</td><td>612.0</td><td>0.0</td><td>2522.0</td><td>4231.0</td><td>214.0</td><td>0.0</td><td>1200.0</td><td>700.0</td><td>4000.0</td><td>1200.0</td><td>3008.0</td><td>800.0</td><td>3000.0</td><td>1910.0</td></tr><tr><td>&quot;2019-01-02 10:…</td><td>1</td><td>9.88</td><td>567.0</td><td>567.0</td><td>50.91</td><td>64.8</td><td>47.57</td><td>61.09</td><td>8747.5</td><td>7168.0</td><td>65119.5</td><td>69164.0</td><td>36056.0</td><td>95.0</td><td>2712.0</td><td>36.0</td><td>7.0</td><td>3934.25</td><td>27793.5</td><td>4824.75</td><td>963.0</td><td>4307.0</td><td>null</td><td>3282.0</td><td>null</td><td>300.0</td><td>0.0</td><td>2160.25</td><td>0.0</td><td>153.25</td><td>0.0</td><td>0.0</td><td>0.0</td><td>0.0</td><td>0.0</td><td>339.25</td><td>&hellip;</td><td>13377.0</td><td>2789.0</td><td>null</td><td>69.0</td><td>null</td><td>665.0</td><td>453.0</td><td>1.0</td><td>2814.0</td><td>755.0</td><td>3458.0</td><td>null</td><td>3273.0</td><td>null</td><td>37.0</td><td>null</td><td>1735.0</td><td>1.412194e6</td><td>4.656491e6</td><td>2.186488e6</td><td>3.036299e6</td><td>1057.0</td><td>0.0</td><td>609.0</td><td>3.0</td><td>3326.0</td><td>3865.0</td><td>0.0</td><td>0.0</td><td>1200.0</td><td>700.0</td><td>4000.0</td><td>1200.0</td><td>2814.0</td><td>800.0</td><td>3100.0</td><td>1810.0</td></tr><tr><td>&quot;2019-01-02 11:…</td><td>1</td><td>8.0</td><td>567.0</td><td>567.0</td><td>48.78</td><td>64.29</td><td>43.94</td><td>63.63</td><td>8830.5</td><td>7271.0</td><td>66463.25</td><td>69929.0</td><td>36123.0</td><td>145.0</td><td>2765.0</td><td>56.0</td><td>7.0</td><td>5856.0</td><td>27971.5</td><td>4751.5</td><td>1905.0</td><td>4280.0</td><td>null</td><td>3908.0</td><td>null</td><td>300.0</td><td>0.0</td><td>2406.0</td><td>0.0</td><td>153.5</td><td>0.0</td><td>0.0</td><td>0.0</td><td>0.0</td><td>0.0</td><td>0.0</td><td>&hellip;</td><td>13739.0</td><td>2779.0</td><td>null</td><td>74.0</td><td>null</td><td>667.0</td><td>31.0</td><td>1.0</td><td>2600.0</td><td>700.0</td><td>3387.0</td><td>null</td><td>3921.0</td><td>null</td><td>39.0</td><td>null</td><td>1718.0</td><td>1.412194e6</td><td>4.656491e6</td><td>2.186488e6</td><td>3.036299e6</td><td>961.0</td><td>0.0</td><td>631.0</td><td>0.0</td><td>3232.0</td><td>3826.0</td><td>137.0</td><td>0.0</td><td>1200.0</td><td>700.0</td><td>4000.0</td><td>1200.0</td><td>2814.0</td><td>800.0</td><td>3100.0</td><td>1810.0</td></tr><tr><td>&hellip;</td><td>&hellip;</td><td>&hellip;</td><td>&hellip;</td><td>&hellip;</td><td>&hellip;</td><td>&hellip;</td><td>&hellip;</td><td>&hellip;</td><td>&hellip;</td><td>&hellip;</td><td>&hellip;</td><td>&hellip;</td><td>&hellip;</td><td>&hellip;</td><td>&hellip;</td><td>&hellip;</td><td>&hellip;</td><td>&hellip;</td><td>&hellip;</td><td>&hellip;</td><td>&hellip;</td><td>&hellip;</td><td>&hellip;</td><td>&hellip;</td><td>&hellip;</td><td>&hellip;</td><td>&hellip;</td><td>&hellip;</td><td>&hellip;</td><td>&hellip;</td><td>&hellip;</td><td>&hellip;</td><td>&hellip;</td><td>&hellip;</td><td>&hellip;</td><td>&hellip;</td><td>&hellip;</td><td>&hellip;</td><td>&hellip;</td><td>&hellip;</td><td>&hellip;</td><td>&hellip;</td><td>&hellip;</td><td>&hellip;</td><td>&hellip;</td><td>&hellip;</td><td>&hellip;</td><td>&hellip;</td><td>&hellip;</td><td>&hellip;</td><td>&hellip;</td><td>&hellip;</td><td>&hellip;</td><td>&hellip;</td><td>&hellip;</td><td>&hellip;</td><td>&hellip;</td><td>&hellip;</td><td>&hellip;</td><td>&hellip;</td><td>&hellip;</td><td>&hellip;</td><td>&hellip;</td><td>&hellip;</td><td>&hellip;</td><td>&hellip;</td><td>&hellip;</td><td>&hellip;</td><td>&hellip;</td><td>&hellip;</td><td>&hellip;</td><td>&hellip;</td><td>&hellip;</td><td>&hellip;</td></tr><tr><td>&quot;2024-02-01 22:…</td><td>1</td><td>2.44</td><td>508.0</td><td>508.0</td><td>null</td><td>null</td><td>null</td><td>null</td><td>null</td><td>null</td><td>null</td><td>null</td><td>null</td><td>null</td><td>null</td><td>null</td><td>null</td><td>null</td><td>null</td><td>null</td><td>null</td><td>null</td><td>null</td><td>null</td><td>null</td><td>null</td><td>null</td><td>null</td><td>null</td><td>null</td><td>null</td><td>null</td><td>null</td><td>null</td><td>null</td><td>null</td><td>&hellip;</td><td>null</td><td>null</td><td>null</td><td>null</td><td>null</td><td>null</td><td>null</td><td>null</td><td>null</td><td>null</td><td>null</td><td>null</td><td>null</td><td>null</td><td>null</td><td>null</td><td>null</td><td>1.073592e6</td><td>2.47213e6</td><td>2.010901e6</td><td>2.619505e6</td><td>null</td><td>null</td><td>null</td><td>null</td><td>null</td><td>null</td><td>null</td><td>null</td><td>null</td><td>null</td><td>null</td><td>null</td><td>null</td><td>null</td><td>null</td><td>null</td></tr><tr><td>&quot;2024-02-02 02:…</td><td>1</td><td>12.6</td><td>508.0</td><td>508.0</td><td>null</td><td>null</td><td>null</td><td>null</td><td>null</td><td>null</td><td>null</td><td>null</td><td>null</td><td>null</td><td>null</td><td>null</td><td>null</td><td>null</td><td>null</td><td>null</td><td>null</td><td>null</td><td>null</td><td>null</td><td>null</td><td>null</td><td>null</td><td>null</td><td>null</td><td>null</td><td>null</td><td>null</td><td>null</td><td>null</td><td>null</td><td>null</td><td>&hellip;</td><td>null</td><td>null</td><td>null</td><td>null</td><td>null</td><td>null</td><td>null</td><td>null</td><td>null</td><td>null</td><td>null</td><td>null</td><td>null</td><td>null</td><td>null</td><td>null</td><td>null</td><td>1.073592e6</td><td>2.47213e6</td><td>2.010901e6</td><td>2.619505e6</td><td>null</td><td>null</td><td>null</td><td>null</td><td>null</td><td>null</td><td>null</td><td>null</td><td>null</td><td>null</td><td>null</td><td>null</td><td>null</td><td>null</td><td>null</td><td>null</td></tr><tr><td>&quot;2024-02-02 06:…</td><td>1</td><td>13.25</td><td>787.0</td><td>787.0</td><td>null</td><td>null</td><td>null</td><td>null</td><td>null</td><td>null</td><td>null</td><td>null</td><td>null</td><td>null</td><td>null</td><td>null</td><td>null</td><td>null</td><td>null</td><td>null</td><td>null</td><td>null</td><td>null</td><td>null</td><td>null</td><td>null</td><td>null</td><td>null</td><td>null</td><td>null</td><td>null</td><td>null</td><td>null</td><td>null</td><td>null</td><td>null</td><td>&hellip;</td><td>null</td><td>null</td><td>null</td><td>null</td><td>null</td><td>null</td><td>null</td><td>null</td><td>null</td><td>null</td><td>null</td><td>null</td><td>null</td><td>null</td><td>null</td><td>null</td><td>null</td><td>1.073592e6</td><td>2.47213e6</td><td>2.010901e6</td><td>2.619505e6</td><td>null</td><td>null</td><td>null</td><td>null</td><td>null</td><td>null</td><td>null</td><td>null</td><td>null</td><td>null</td><td>null</td><td>null</td><td>null</td><td>null</td><td>null</td><td>null</td></tr><tr><td>&quot;2024-02-02 17:…</td><td>1</td><td>16.81</td><td>508.0</td><td>508.0</td><td>null</td><td>null</td><td>null</td><td>null</td><td>null</td><td>null</td><td>null</td><td>null</td><td>null</td><td>null</td><td>null</td><td>null</td><td>null</td><td>null</td><td>null</td><td>null</td><td>null</td><td>null</td><td>null</td><td>null</td><td>null</td><td>null</td><td>null</td><td>null</td><td>null</td><td>null</td><td>null</td><td>null</td><td>null</td><td>null</td><td>null</td><td>null</td><td>&hellip;</td><td>null</td><td>null</td><td>null</td><td>null</td><td>null</td><td>null</td><td>null</td><td>null</td><td>null</td><td>null</td><td>null</td><td>null</td><td>null</td><td>null</td><td>null</td><td>null</td><td>null</td><td>1.073592e6</td><td>2.47213e6</td><td>2.010901e6</td><td>2.619505e6</td><td>null</td><td>null</td><td>null</td><td>null</td><td>null</td><td>null</td><td>null</td><td>null</td><td>null</td><td>null</td><td>null</td><td>null</td><td>null</td><td>null</td><td>null</td><td>null</td></tr><tr><td>&quot;2024-02-03 15:…</td><td>1</td><td>22.38</td><td>450.0</td><td>450.0</td><td>null</td><td>null</td><td>null</td><td>null</td><td>null</td><td>null</td><td>null</td><td>null</td><td>null</td><td>null</td><td>null</td><td>null</td><td>null</td><td>null</td><td>null</td><td>null</td><td>null</td><td>null</td><td>null</td><td>null</td><td>null</td><td>null</td><td>null</td><td>null</td><td>null</td><td>null</td><td>null</td><td>null</td><td>null</td><td>null</td><td>null</td><td>null</td><td>&hellip;</td><td>null</td><td>null</td><td>null</td><td>null</td><td>null</td><td>null</td><td>null</td><td>null</td><td>null</td><td>null</td><td>null</td><td>null</td><td>null</td><td>null</td><td>null</td><td>null</td><td>null</td><td>1.073592e6</td><td>2.47213e6</td><td>2.010901e6</td><td>2.619505e6</td><td>null</td><td>null</td><td>null</td><td>null</td><td>null</td><td>null</td><td>null</td><td>null</td><td>null</td><td>null</td><td>null</td><td>null</td><td>null</td><td>null</td><td>null</td><td>null</td></tr></tbody></table></div>"
      ],
      "text/plain": [
       "shape: (44_582, 138)\n",
       "┌────────────┬─────┬────────────┬────────────┬───┬────────────┬────────────┬───────────┬───────────┐\n",
       "│ date       ┆ dst ┆ auction_pr ┆ allocatedC ┆ … ┆ capacity_f ┆ capacity_f ┆ capacity_ ┆ capacity_ │\n",
       "│ ---        ┆ --- ┆ ice        ┆ apacity    ┆   ┆ orecast_ch ┆ orecast_de ┆ forecast_ ┆ forecast_ │\n",
       "│ str        ┆ i16 ┆ ---        ┆ ---        ┆   ┆ _it        ┆ _lu_ch     ┆ FR_CH     ┆ it_ch     │\n",
       "│            ┆     ┆ f64        ┆ f64        ┆   ┆ ---        ┆ ---        ┆ ---       ┆ ---       │\n",
       "│            ┆     ┆            ┆            ┆   ┆ f64        ┆ f64        ┆ f64       ┆ f64       │\n",
       "╞════════════╪═════╪════════════╪════════════╪═══╪════════════╪════════════╪═══════════╪═══════════╡\n",
       "│ 2019-01-01 ┆ 1   ┆ 36.29      ┆ 567.0      ┆ … ┆ 2513.0     ┆ 800.0      ┆ 3000.0    ┆ 1910.0    │\n",
       "│ 09:00      ┆     ┆            ┆            ┆   ┆            ┆            ┆           ┆           │\n",
       "│ 2019-01-01 ┆ 1   ┆ 35.46      ┆ 567.0      ┆ … ┆ 2513.0     ┆ 800.0      ┆ 3000.0    ┆ 1910.0    │\n",
       "│ 13:00      ┆     ┆            ┆            ┆   ┆            ┆            ┆           ┆           │\n",
       "│ 2019-01-01 ┆ 1   ┆ 47.78      ┆ 567.0      ┆ … ┆ 3008.0     ┆ 800.0      ┆ 3000.0    ┆ 1910.0    │\n",
       "│ 23:00      ┆     ┆            ┆            ┆   ┆            ┆            ┆           ┆           │\n",
       "│ 2019-01-02 ┆ 1   ┆ 9.88       ┆ 567.0      ┆ … ┆ 2814.0     ┆ 800.0      ┆ 3100.0    ┆ 1810.0    │\n",
       "│ 10:00      ┆     ┆            ┆            ┆   ┆            ┆            ┆           ┆           │\n",
       "│ 2019-01-02 ┆ 1   ┆ 8.0        ┆ 567.0      ┆ … ┆ 2814.0     ┆ 800.0      ┆ 3100.0    ┆ 1810.0    │\n",
       "│ 11:00      ┆     ┆            ┆            ┆   ┆            ┆            ┆           ┆           │\n",
       "│ …          ┆ …   ┆ …          ┆ …          ┆ … ┆ …          ┆ …          ┆ …         ┆ …         │\n",
       "│ 2024-02-01 ┆ 1   ┆ 2.44       ┆ 508.0      ┆ … ┆ null       ┆ null       ┆ null      ┆ null      │\n",
       "│ 22:00      ┆     ┆            ┆            ┆   ┆            ┆            ┆           ┆           │\n",
       "│ 2024-02-02 ┆ 1   ┆ 12.6       ┆ 508.0      ┆ … ┆ null       ┆ null       ┆ null      ┆ null      │\n",
       "│ 02:00      ┆     ┆            ┆            ┆   ┆            ┆            ┆           ┆           │\n",
       "│ 2024-02-02 ┆ 1   ┆ 13.25      ┆ 787.0      ┆ … ┆ null       ┆ null       ┆ null      ┆ null      │\n",
       "│ 06:00      ┆     ┆            ┆            ┆   ┆            ┆            ┆           ┆           │\n",
       "│ 2024-02-02 ┆ 1   ┆ 16.81      ┆ 508.0      ┆ … ┆ null       ┆ null       ┆ null      ┆ null      │\n",
       "│ 17:00      ┆     ┆            ┆            ┆   ┆            ┆            ┆           ┆           │\n",
       "│ 2024-02-03 ┆ 1   ┆ 22.38      ┆ 450.0      ┆ … ┆ null       ┆ null       ┆ null      ┆ null      │\n",
       "│ 15:00      ┆     ┆            ┆            ┆   ┆            ┆            ┆           ┆           │\n",
       "└────────────┴─────┴────────────┴────────────┴───┴────────────┴────────────┴───────────┴───────────┘"
      ]
     },
     "execution_count": 611,
     "metadata": {},
     "output_type": "execute_result"
    }
   ],
   "source": [
    "df_final = (\n",
    "    jao_dech.drop(\"day\")\n",
    "    .with_columns(\n",
    "        pl.col(\"date\")\n",
    "        .str.to_datetime()\n",
    "        .dt.truncate(\"1w\")\n",
    "        .dt.date()\n",
    "        .dt.strftime(\"%Y-%m-%d\")\n",
    "        .alias(\"week_start\")\n",
    "    )\n",
    "    .select([\"date\", \"week_start\", \"dst\", \"auction_price\", \"allocatedCapacity\", \"ATC\"])\n",
    "    # Day Ahead Prices\n",
    "    .join(da_at, how=\"left\", on=[\"date\", \"dst\"])\n",
    "    .join(da_ch, how=\"left\", on=[\"date\", \"dst\"])\n",
    "    .join(da_delu, how=\"left\", on=[\"date\", \"dst\"])\n",
    "    .join(da_fr, how=\"left\", on=[\"date\", \"dst\"])\n",
    "    # Actual Load\n",
    "    .join(load_at, how=\"left\", on=[\"date\", \"dst\"])\n",
    "    .join(load_ch, how=\"left\", on=[\"date\", \"dst\"])\n",
    "    .join(load_de, how=\"left\", on=[\"date\", \"dst\"])\n",
    "    .join(load_fr, how=\"left\", on=[\"date\", \"dst\"])\n",
    "    .join(load_it, how=\"left\", on=[\"date\", \"dst\"])\n",
    "    # Forecast Wind and Solar\n",
    "    .join(wind_solar_forecast_at, how=\"left\", on=[\"date\", \"dst\"])\n",
    "    .join(wind_solar_forecast_ch, how=\"left\", on=[\"date\", \"dst\"])\n",
    "    .join(wind_solar_forecast_de, how=\"left\", on=[\"date\", \"dst\"])\n",
    "    .join(wind_solar_forecast_fr, how=\"left\", on=[\"date\", \"dst\"])\n",
    "    .join(wind_solar_forecast_it, how=\"left\", on=[\"date\", \"dst\"])\n",
    "    # Actual Generation All Types\n",
    "    .join(generation_at, how=\"left\", on=[\"date\", \"dst\"])\n",
    "    .join(generation_ch, how=\"left\", on=[\"date\", \"dst\"])\n",
    "    .join(generation_de, how=\"left\", on=[\"date\", \"dst\"])\n",
    "    .join(generation_fr, how=\"left\", on=[\"date\", \"dst\"])\n",
    "    .join(generation_it, how=\"left\", on=[\"date\", \"dst\"])\n",
    "    # Hydro Reservoir Storage\n",
    "    .join(hydro_storage_at, how=\"left\", on=[\"week_start\"])\n",
    "    .join(hydro_storage_ch, how=\"left\", on=[\"week_start\"])\n",
    "    .join(hydro_storage_fr, how=\"left\", on=[\"week_start\"])\n",
    "    .join(hydro_storage_it, how=\"left\", on=[\"week_start\"])\n",
    "    # Cross Border Physical Flow\n",
    "    .join(flow_at_ch, how=\"left\", on=[\"date\", \"dst\"])\n",
    "    .join(flow_ch_at, how=\"left\", on=[\"date\", \"dst\"])\n",
    "    .join(flow_ch_de_lu, how=\"left\", on=[\"date\", \"dst\"])\n",
    "    .join(flow_ch_fr, how=\"left\", on=[\"date\", \"dst\"])\n",
    "    .join(flow_ch_it, how=\"left\", on=[\"date\", \"dst\"])\n",
    "    .join(flow_de_lu_ch, how=\"left\", on=[\"date\", \"dst\"])\n",
    "    .join(flow_fr_ch, how=\"left\", on=[\"date\", \"dst\"])\n",
    "    .join(flow_it_ch, how=\"left\", on=[\"date\", \"dst\"])\n",
    "    # Cross Border Capacities Forecast\n",
    "    .join(capacity_forecast_at_ch, how=\"left\", on=[\"date\", \"dst\"])\n",
    "    .join(capacity_forecast_ch_at, how=\"left\", on=[\"date\", \"dst\"])\n",
    "    .join(capacity_forecast_ch_de_lu, how=\"left\", on=[\"date\", \"dst\"])\n",
    "    .join(capacity_forecast_ch_fr, how=\"left\", on=[\"date\", \"dst\"])\n",
    "    .join(capacity_forecast_ch_it, how=\"left\", on=[\"date\", \"dst\"])\n",
    "    .join(capacity_forecast_de_lu_ch, how=\"left\", on=[\"date\", \"dst\"])\n",
    "    .join(capacity_forecast_fr_ch, how=\"left\", on=[\"date\", \"dst\"])\n",
    "    .join(capacity_forecast_it_ch, how=\"left\", on=[\"date\", \"dst\"])\n",
    "    # Drop\n",
    "    .drop([\"week_start\"])\n",
    ")\n",
    "\n",
    "df_final"
   ]
  },
  {
   "cell_type": "code",
   "execution_count": 612,
   "metadata": {},
   "outputs": [],
   "source": [
    "df_final.to_pandas().to_csv(\"0_df_final_de-ch.csv\", index=False)"
   ]
  },
  {
   "cell_type": "markdown",
   "metadata": {},
   "source": [
    "### Converting to UTC"
   ]
  },
  {
   "cell_type": "code",
   "execution_count": 61,
   "metadata": {},
   "outputs": [],
   "source": [
    "(\n",
    "    pl.read_csv(\"../00_Data Retrieval and Cleaning/0_df_final_ch-de.csv\")\n",
    "    .sort(\"date\")\n",
    "    .with_columns(pl.col(\"date\").str.to_datetime().dt.replace_time_zone(\"Europe/Zurich\", ambiguous=\"earliest\"))\n",
    "    .with_columns(pl.col(\"date\").is_duplicated().alias(\"tmp\"))\n",
    "    .with_columns(\n",
    "        pl.when((pl.col(\"tmp\") == True) & (pl.col(\"dst\") == 0))\n",
    "        .then(pl.col(\"date\") + pl.duration(hours=1))\n",
    "        .otherwise(pl.col(\"date\"))\n",
    "        .alias(\"date\")\n",
    "    )\n",
    "    .with_columns(pl.col(\"date\").dt.convert_time_zone(\"UTC\"))\n",
    "    .drop(\"tmp\")\n",
    "    .to_pandas()\n",
    "    .to_csv(\"0_df_final_ch-de_UTC.csv\", index=False)\n",
    ")"
   ]
  },
  {
   "cell_type": "code",
   "execution_count": null,
   "metadata": {},
   "outputs": [],
   "source": [
    "(\n",
    "    pl.read_csv(\"../00_Data Retrieval and Cleaning/0_df_final_de-ch.csv\")\n",
    "    .sort(\"date\")\n",
    "    .with_columns(pl.col(\"date\").str.to_datetime().dt.replace_time_zone(\"Europe/Zurich\", ambiguous=\"earliest\"))\n",
    "    .with_columns(pl.col(\"date\").is_duplicated().alias(\"tmp\"))\n",
    "    .with_columns(\n",
    "        pl.when((pl.col(\"tmp\") == True) & (pl.col(\"dst\") == 0))\n",
    "        .then(pl.col(\"date\") + pl.duration(hours=1))\n",
    "        .otherwise(pl.col(\"date\"))\n",
    "        .alias(\"date\")\n",
    "    )\n",
    "    .with_columns(pl.col(\"date\").dt.convert_time_zone(\"UTC\"))\n",
    "    .drop(\"tmp\")\n",
    "    .to_pandas()\n",
    "    .to_csv(\"0_df_final_de-ch_UTC.csv\", index=False)\n",
    ")"
   ]
  }
 ],
 "metadata": {
  "kernelspec": {
   "display_name": "general",
   "language": "python",
   "name": "python3"
  },
  "language_info": {
   "codemirror_mode": {
    "name": "ipython",
    "version": 3
   },
   "file_extension": ".py",
   "mimetype": "text/x-python",
   "name": "python",
   "nbconvert_exporter": "python",
   "pygments_lexer": "ipython3",
   "version": "3.12.2"
  }
 },
 "nbformat": 4,
 "nbformat_minor": 2
}
