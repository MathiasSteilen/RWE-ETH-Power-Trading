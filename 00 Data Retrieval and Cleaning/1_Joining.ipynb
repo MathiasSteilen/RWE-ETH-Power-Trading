{
 "cells": [
  {
   "cell_type": "markdown",
   "metadata": {},
   "source": [
    "# Joining the individual datasets"
   ]
  },
  {
   "cell_type": "code",
   "execution_count": 175,
   "metadata": {},
   "outputs": [
    {
     "name": "stdout",
     "output_type": "stream",
     "text": [
      "The blackcellmagic extension is already loaded. To reload it, use:\n",
      "  %reload_ext blackcellmagic\n"
     ]
    }
   ],
   "source": [
    "import pandas as pd\n",
    "import polars as pl\n",
    "import polars.selectors as cs\n",
    "import numpy as np\n",
    "import plotnine as pn\n",
    "from mizani.formatters import comma_format, custom_format, currency_format, percent_format\n",
    "from IPython.display import clear_output, display\n",
    "import os\n",
    "import glob\n",
    "import requests\n",
    "from datetime import datetime, timedelta\n",
    "import pytz\n",
    "from tqdm.notebook import tqdm\n",
    "\n",
    "jama_colour = [\n",
    "    \"#374e55\",\n",
    "    \"#df8f44\",\n",
    "    \"#00a1d5\",\n",
    "    \"#b24745\",\n",
    "    \"#79af97\",\n",
    "]\n",
    "\n",
    "pd.set_option(\"display.max.columns\", 500)\n",
    "pd.set_option(\"display.max.columns\", 500)\n",
    "background_colour = \"#F2F2F2\"\n",
    "pn.theme_set(\n",
    "    pn.theme_classic()\n",
    "    + pn.theme(\n",
    "        figure_size=[7, 7/1.618],\n",
    "        text=pn.element_text(family=\"monospace\"),\n",
    "        plot_background=pn.element_rect(\n",
    "            fill=background_colour, colour=background_colour\n",
    "        ),\n",
    "        panel_background=pn.element_rect(\n",
    "            fill=background_colour, colour=background_colour\n",
    "        ),\n",
    "        legend_background=pn.element_rect(\n",
    "            fill=background_colour, colour=background_colour\n",
    "        ),\n",
    "    )\n",
    ")\n",
    "\n",
    "\n",
    "%load_ext blackcellmagic\n",
    "%matplotlib inline"
   ]
  },
  {
   "cell_type": "markdown",
   "metadata": {},
   "source": [
    "### Auction Prices"
   ]
  },
  {
   "cell_type": "code",
   "execution_count": 176,
   "metadata": {},
   "outputs": [
    {
     "data": {
      "text/html": [
       "<div><style>\n",
       ".dataframe > thead > tr,\n",
       ".dataframe > tbody > tr {\n",
       "  text-align: right;\n",
       "  white-space: pre-wrap;\n",
       "}\n",
       "</style>\n",
       "<small>shape: (44_582, 6)</small><table border=\"1\" class=\"dataframe\"><thead><tr><th>auction_price</th><th>allocatedCapacity</th><th>ATC</th><th>date</th><th>day</th><th>dst</th></tr><tr><td>f64</td><td>i64</td><td>i64</td><td>str</td><td>date</td><td>i16</td></tr></thead><tbody><tr><td>0.0</td><td>4335</td><td>4336</td><td>&quot;2021-03-27 19:…</td><td>2021-03-27</td><td>1</td></tr><tr><td>0.0</td><td>4060</td><td>4070</td><td>&quot;2022-08-03 11:…</td><td>2022-08-03</td><td>0</td></tr><tr><td>0.57</td><td>3670</td><td>3670</td><td>&quot;2023-07-05 07:…</td><td>2023-07-05</td><td>0</td></tr><tr><td>12.49</td><td>3561</td><td>3561</td><td>&quot;2023-08-05 21:…</td><td>2023-08-05</td><td>0</td></tr><tr><td>0.06</td><td>4094</td><td>4095</td><td>&quot;2023-10-07 08:…</td><td>2023-10-07</td><td>0</td></tr><tr><td>&hellip;</td><td>&hellip;</td><td>&hellip;</td><td>&hellip;</td><td>&hellip;</td><td>&hellip;</td></tr><tr><td>0.88</td><td>3713</td><td>3714</td><td>&quot;2022-12-16 11:…</td><td>2022-12-16</td><td>1</td></tr><tr><td>0.0</td><td>4332</td><td>4335</td><td>&quot;2022-01-26 02:…</td><td>2022-01-26</td><td>1</td></tr><tr><td>0.09</td><td>3364</td><td>3365</td><td>&quot;2023-11-06 23:…</td><td>2023-11-06</td><td>1</td></tr><tr><td>0.25</td><td>4284</td><td>4284</td><td>&quot;2024-01-06 15:…</td><td>2024-01-06</td><td>1</td></tr><tr><td>0.0</td><td>4254</td><td>4262</td><td>&quot;2019-12-12 13:…</td><td>2019-12-12</td><td>1</td></tr></tbody></table></div>"
      ],
      "text/plain": [
       "shape: (44_582, 6)\n",
       "┌───────────────┬───────────────────┬──────┬──────────────────┬────────────┬─────┐\n",
       "│ auction_price ┆ allocatedCapacity ┆ ATC  ┆ date             ┆ day        ┆ dst │\n",
       "│ ---           ┆ ---               ┆ ---  ┆ ---              ┆ ---        ┆ --- │\n",
       "│ f64           ┆ i64               ┆ i64  ┆ str              ┆ date       ┆ i16 │\n",
       "╞═══════════════╪═══════════════════╪══════╪══════════════════╪════════════╪═════╡\n",
       "│ 0.0           ┆ 4335              ┆ 4336 ┆ 2021-03-27 19:00 ┆ 2021-03-27 ┆ 1   │\n",
       "│ 0.0           ┆ 4060              ┆ 4070 ┆ 2022-08-03 11:00 ┆ 2022-08-03 ┆ 0   │\n",
       "│ 0.57          ┆ 3670              ┆ 3670 ┆ 2023-07-05 07:00 ┆ 2023-07-05 ┆ 0   │\n",
       "│ 12.49         ┆ 3561              ┆ 3561 ┆ 2023-08-05 21:00 ┆ 2023-08-05 ┆ 0   │\n",
       "│ 0.06          ┆ 4094              ┆ 4095 ┆ 2023-10-07 08:00 ┆ 2023-10-07 ┆ 0   │\n",
       "│ …             ┆ …                 ┆ …    ┆ …                ┆ …          ┆ …   │\n",
       "│ 0.88          ┆ 3713              ┆ 3714 ┆ 2022-12-16 11:00 ┆ 2022-12-16 ┆ 1   │\n",
       "│ 0.0           ┆ 4332              ┆ 4335 ┆ 2022-01-26 02:00 ┆ 2022-01-26 ┆ 1   │\n",
       "│ 0.09          ┆ 3364              ┆ 3365 ┆ 2023-11-06 23:00 ┆ 2023-11-06 ┆ 1   │\n",
       "│ 0.25          ┆ 4284              ┆ 4284 ┆ 2024-01-06 15:00 ┆ 2024-01-06 ┆ 1   │\n",
       "│ 0.0           ┆ 4254              ┆ 4262 ┆ 2019-12-12 13:00 ┆ 2019-12-12 ┆ 1   │\n",
       "└───────────────┴───────────────────┴──────┴──────────────────┴────────────┴─────┘"
      ]
     },
     "execution_count": 176,
     "metadata": {},
     "output_type": "execute_result"
    }
   ],
   "source": [
    "jao_chde = (\n",
    "    pl.from_pandas(pd.read_csv(\"./Raw Data/jao_prices_CH-DE.csv\"))\n",
    "    .select(pl.exclude([\"date\", \"corridor\", \"hour\"]))\n",
    "    .with_columns(\n",
    "        pl.col(\"delivery_begin_time_ch\")\n",
    "        .str.to_datetime()\n",
    "        .dt.convert_time_zone(\"Europe/Zurich\")\n",
    "        .alias(\"date\")\n",
    "    )\n",
    "    .with_columns(pl.col(\"date\").dt.date().alias(\"day\"))\n",
    "    .drop(\"delivery_begin_time_ch\")\n",
    "    .with_columns((pl.col(\"date\").dt.dst_offset() == 0).cast(pl.Int16).alias(\"dst\"))\n",
    "    .with_columns(pl.col(\"date\").dt.strftime(\"%Y-%m-%d %H:%M\"))\n",
    "    .unique(subset=[\"date\", \"dst\"])\n",
    "    .rename({\"price\": \"auction_price\"})\n",
    ")\n",
    "\n",
    "jao_dech = (\n",
    "    pl.from_pandas(pd.read_csv(\"./Raw Data/jao_prices_DE-CH.csv\"))\n",
    "    .select(pl.exclude([\"date\", \"corridor\", \"hour\"]))\n",
    "    .with_columns(\n",
    "        pl.col(\"delivery_begin_time_ch\")\n",
    "        .str.to_datetime()\n",
    "        .dt.convert_time_zone(\"Europe/Zurich\")\n",
    "        .alias(\"date\")\n",
    "    )\n",
    "    .with_columns(pl.col(\"date\").dt.date().alias(\"day\"))\n",
    "    .drop(\"delivery_begin_time_ch\")\n",
    "    .with_columns((pl.col(\"date\").dt.dst_offset() == 0).cast(pl.Int16).alias(\"dst\"))\n",
    "    .with_columns(pl.col(\"date\").dt.strftime(\"%Y-%m-%d %H:%M\"))\n",
    "    .unique(subset=[\"date\", \"dst\"])\n",
    "    .rename({\"price\": \"auction_price\"})\n",
    ")\n",
    "\n",
    "jao_chde"
   ]
  },
  {
   "cell_type": "code",
   "execution_count": 177,
   "metadata": {},
   "outputs": [
    {
     "data": {
      "text/html": [
       "<div><style>\n",
       ".dataframe > thead > tr,\n",
       ".dataframe > tbody > tr {\n",
       "  text-align: right;\n",
       "  white-space: pre-wrap;\n",
       "}\n",
       "</style>\n",
       "<small>shape: (2, 6)</small><table border=\"1\" class=\"dataframe\"><thead><tr><th>auction_price</th><th>allocatedCapacity</th><th>ATC</th><th>date</th><th>day</th><th>dst</th></tr><tr><td>f64</td><td>i64</td><td>i64</td><td>str</td><td>date</td><td>i16</td></tr></thead><tbody><tr><td>0.0</td><td>3857</td><td>3863</td><td>&quot;2019-10-27 02:…</td><td>2019-10-27</td><td>1</td></tr><tr><td>0.0</td><td>3863</td><td>3863</td><td>&quot;2019-10-27 02:…</td><td>2019-10-27</td><td>0</td></tr></tbody></table></div>"
      ],
      "text/plain": [
       "shape: (2, 6)\n",
       "┌───────────────┬───────────────────┬──────┬──────────────────┬────────────┬─────┐\n",
       "│ auction_price ┆ allocatedCapacity ┆ ATC  ┆ date             ┆ day        ┆ dst │\n",
       "│ ---           ┆ ---               ┆ ---  ┆ ---              ┆ ---        ┆ --- │\n",
       "│ f64           ┆ i64               ┆ i64  ┆ str              ┆ date       ┆ i16 │\n",
       "╞═══════════════╪═══════════════════╪══════╪══════════════════╪════════════╪═════╡\n",
       "│ 0.0           ┆ 3857              ┆ 3863 ┆ 2019-10-27 02:00 ┆ 2019-10-27 ┆ 1   │\n",
       "│ 0.0           ┆ 3863              ┆ 3863 ┆ 2019-10-27 02:00 ┆ 2019-10-27 ┆ 0   │\n",
       "└───────────────┴───────────────────┴──────┴──────────────────┴────────────┴─────┘"
      ]
     },
     "execution_count": 177,
     "metadata": {},
     "output_type": "execute_result"
    }
   ],
   "source": [
    "jao_chde.filter(pl.col(\"date\") == \"2019-10-27 02:00\")"
   ]
  },
  {
   "cell_type": "code",
   "execution_count": 178,
   "metadata": {},
   "outputs": [
    {
     "name": "stdout",
     "output_type": "stream",
     "text": [
      "shape: (5, 2)\n",
      "┌──────────────────┬───────┐\n",
      "│ date             ┆ count │\n",
      "│ ---              ┆ ---   │\n",
      "│ str              ┆ u32   │\n",
      "╞══════════════════╪═══════╡\n",
      "│ 2019-10-27 02:00 ┆ 2     │\n",
      "│ 2020-10-25 02:00 ┆ 2     │\n",
      "│ 2021-10-31 02:00 ┆ 2     │\n",
      "│ 2022-10-30 02:00 ┆ 2     │\n",
      "│ 2023-10-29 02:00 ┆ 2     │\n",
      "└──────────────────┴───────┘\n"
     ]
    }
   ],
   "source": [
    "jao_chde[\"date\"].value_counts(sort=True).filter(pl.col(\"count\") != 1).sort(\"date\").pipe(print)"
   ]
  },
  {
   "cell_type": "code",
   "execution_count": 179,
   "metadata": {},
   "outputs": [
    {
     "name": "stdout",
     "output_type": "stream",
     "text": [
      "shape: (5, 2)\n",
      "┌──────────────────┬───────┐\n",
      "│ date             ┆ count │\n",
      "│ ---              ┆ ---   │\n",
      "│ str              ┆ u32   │\n",
      "╞══════════════════╪═══════╡\n",
      "│ 2019-10-27 02:00 ┆ 2     │\n",
      "│ 2020-10-25 02:00 ┆ 2     │\n",
      "│ 2021-10-31 02:00 ┆ 2     │\n",
      "│ 2022-10-30 02:00 ┆ 2     │\n",
      "│ 2023-10-29 02:00 ┆ 2     │\n",
      "└──────────────────┴───────┘\n"
     ]
    }
   ],
   "source": [
    "jao_dech[\"date\"].value_counts(sort=True).filter(pl.col(\"count\") != 1).sort(\"date\").pipe(print)"
   ]
  },
  {
   "cell_type": "markdown",
   "metadata": {},
   "source": [
    "Now the observations are uniquely identifiable."
   ]
  },
  {
   "cell_type": "markdown",
   "metadata": {},
   "source": [
    "### Day-Ahead Prices \n",
    "\n",
    "- Aggregation: These values are already in hourly format\n",
    "- Join ID: date"
   ]
  },
  {
   "cell_type": "code",
   "execution_count": 180,
   "metadata": {},
   "outputs": [
    {
     "name": "stdout",
     "output_type": "stream",
     "text": [
      "shape: (44_569, 3)\n",
      "┌──────────────────┬────────────────────┬─────┐\n",
      "│ date             ┆ day_ahead_price_at ┆ dst │\n",
      "│ ---              ┆ ---                ┆ --- │\n",
      "│ str              ┆ f64                ┆ i16 │\n",
      "╞══════════════════╪════════════════════╪═════╡\n",
      "│ 2021-11-02 01:00 ┆ 131.95             ┆ 1   │\n",
      "│ 2019-01-11 13:00 ┆ 66.01              ┆ 1   │\n",
      "│ 2019-10-06 00:00 ┆ 34.22              ┆ 0   │\n",
      "│ 2021-11-25 21:00 ┆ 215.08             ┆ 1   │\n",
      "│ 2021-03-15 16:00 ┆ 60.99              ┆ 1   │\n",
      "│ …                ┆ …                  ┆ …   │\n",
      "│ 2022-01-06 00:00 ┆ 131.92             ┆ 1   │\n",
      "│ 2022-09-05 07:00 ┆ 506.5              ┆ 0   │\n",
      "│ 2021-01-01 13:00 ┆ 45.49              ┆ 1   │\n",
      "│ 2021-12-23 06:00 ┆ 391.62             ┆ 1   │\n",
      "│ 2020-07-11 18:00 ┆ 30.42              ┆ 0   │\n",
      "└──────────────────┴────────────────────┴─────┘\n",
      "shape: (5, 2)\n",
      "┌──────────────────┬───────┐\n",
      "│ date             ┆ count │\n",
      "│ ---              ┆ ---   │\n",
      "│ str              ┆ u32   │\n",
      "╞══════════════════╪═══════╡\n",
      "│ 2019-10-27 02:00 ┆ 2     │\n",
      "│ 2020-10-25 02:00 ┆ 2     │\n",
      "│ 2021-10-31 02:00 ┆ 2     │\n",
      "│ 2022-10-30 02:00 ┆ 2     │\n",
      "│ 2023-10-29 02:00 ┆ 2     │\n",
      "└──────────────────┴───────┘\n"
     ]
    }
   ],
   "source": [
    "da_at = (\n",
    "    pl.read_csv(\"./Raw Data/day_ahead_prices_AT.csv\")\n",
    "    .with_columns(pl.col(\"date\").str.to_datetime())\n",
    "    .with_columns(pl.col(\"date\").dt.convert_time_zone(\"Europe/Zurich\"))\n",
    "    .with_columns((pl.col(\"date\").dt.dst_offset() == 0).cast(pl.Int16).alias(\"dst\"))\n",
    "    .with_columns(pl.col(\"date\").dt.strftime(\"%Y-%m-%d %H:%M\"))\n",
    "    .unique(subset=[\"date\", \"dst\"])\n",
    "    .rename({\"price\": \"day_ahead_price_at\"})\n",
    ")\n",
    "\n",
    "da_at.pipe(print)\n",
    "da_at[\"date\"].value_counts().filter(pl.col(\"count\") != 1).sort(\"date\").pipe(print)"
   ]
  },
  {
   "cell_type": "code",
   "execution_count": 181,
   "metadata": {},
   "outputs": [
    {
     "name": "stdout",
     "output_type": "stream",
     "text": [
      "shape: (44_569, 3)\n",
      "┌──────────────────┬────────────────────┬─────┐\n",
      "│ date             ┆ day_ahead_price_ch ┆ dst │\n",
      "│ ---              ┆ ---                ┆ --- │\n",
      "│ str              ┆ f64                ┆ i16 │\n",
      "╞══════════════════╪════════════════════╪═════╡\n",
      "│ 2022-06-03 16:00 ┆ 175.97             ┆ 0   │\n",
      "│ 2019-08-02 03:00 ┆ 38.16              ┆ 0   │\n",
      "│ 2019-08-11 10:00 ┆ 11.72              ┆ 0   │\n",
      "│ 2020-01-14 04:00 ┆ 39.98              ┆ 1   │\n",
      "│ 2020-01-23 23:00 ┆ 42.63              ┆ 1   │\n",
      "│ …                ┆ …                  ┆ …   │\n",
      "│ 2022-08-08 19:00 ┆ 456.02             ┆ 0   │\n",
      "│ 2022-11-03 00:00 ┆ 115.03             ┆ 1   │\n",
      "│ 2023-04-11 19:00 ┆ 152.61             ┆ 0   │\n",
      "│ 2023-05-06 16:00 ┆ 71.17              ┆ 0   │\n",
      "│ 2023-05-28 12:00 ┆ -24.57             ┆ 0   │\n",
      "└──────────────────┴────────────────────┴─────┘\n",
      "shape: (5, 2)\n",
      "┌──────────────────┬───────┐\n",
      "│ date             ┆ count │\n",
      "│ ---              ┆ ---   │\n",
      "│ str              ┆ u32   │\n",
      "╞══════════════════╪═══════╡\n",
      "│ 2019-10-27 02:00 ┆ 2     │\n",
      "│ 2020-10-25 02:00 ┆ 2     │\n",
      "│ 2021-10-31 02:00 ┆ 2     │\n",
      "│ 2022-10-30 02:00 ┆ 2     │\n",
      "│ 2023-10-29 02:00 ┆ 2     │\n",
      "└──────────────────┴───────┘\n"
     ]
    }
   ],
   "source": [
    "da_ch = (\n",
    "    pl.read_csv(\"./Raw Data/day_ahead_prices_CH.csv\")\n",
    "    .with_columns(pl.col(\"date\").str.to_datetime())\n",
    "    .with_columns(pl.col(\"date\").dt.convert_time_zone(\"Europe/Zurich\"))\n",
    "    .with_columns((pl.col(\"date\").dt.dst_offset() == 0).cast(pl.Int16).alias(\"dst\"))\n",
    "    .with_columns(pl.col(\"date\").dt.strftime(\"%Y-%m-%d %H:%M\"))\n",
    "    .unique(subset=[\"date\", \"dst\"])\n",
    "    .rename({\"price\": \"day_ahead_price_ch\"})\n",
    ")\n",
    "\n",
    "da_ch.pipe(print)\n",
    "da_ch[\"date\"].value_counts().filter(pl.col(\"count\") != 1).sort(\"date\").pipe(print)"
   ]
  },
  {
   "cell_type": "code",
   "execution_count": 182,
   "metadata": {},
   "outputs": [
    {
     "name": "stdout",
     "output_type": "stream",
     "text": [
      "shape: (44_569, 3)\n",
      "┌──────────────────┬────────────────────┬─────┐\n",
      "│ date             ┆ day_ahead_price_de ┆ dst │\n",
      "│ ---              ┆ ---                ┆ --- │\n",
      "│ str              ┆ f64                ┆ i16 │\n",
      "╞══════════════════╪════════════════════╪═════╡\n",
      "│ 2019-03-11 15:00 ┆ 37.11              ┆ 1   │\n",
      "│ 2020-06-17 08:00 ┆ 56.52              ┆ 0   │\n",
      "│ 2023-09-29 04:00 ┆ 94.03              ┆ 0   │\n",
      "│ 2021-05-11 17:00 ┆ 69.43              ┆ 0   │\n",
      "│ 2023-06-08 22:00 ┆ 96.58              ┆ 0   │\n",
      "│ …                ┆ …                  ┆ …   │\n",
      "│ 2022-06-22 09:00 ┆ 339.79             ┆ 0   │\n",
      "│ 2022-05-08 21:00 ┆ 238.35             ┆ 0   │\n",
      "│ 2023-05-28 07:00 ┆ 64.84              ┆ 0   │\n",
      "│ 2023-07-13 12:00 ┆ 77.3               ┆ 0   │\n",
      "│ 2023-12-11 02:00 ┆ 12.72              ┆ 1   │\n",
      "└──────────────────┴────────────────────┴─────┘\n",
      "shape: (5, 2)\n",
      "┌──────────────────┬───────┐\n",
      "│ date             ┆ count │\n",
      "│ ---              ┆ ---   │\n",
      "│ str              ┆ u32   │\n",
      "╞══════════════════╪═══════╡\n",
      "│ 2019-10-27 02:00 ┆ 2     │\n",
      "│ 2020-10-25 02:00 ┆ 2     │\n",
      "│ 2021-10-31 02:00 ┆ 2     │\n",
      "│ 2022-10-30 02:00 ┆ 2     │\n",
      "│ 2023-10-29 02:00 ┆ 2     │\n",
      "└──────────────────┴───────┘\n"
     ]
    }
   ],
   "source": [
    "da_delu = (\n",
    "    pl.read_csv(\"./Raw Data/day_ahead_prices_DE_LU.csv\")\n",
    "    .with_columns(pl.col(\"date\").str.to_datetime())\n",
    "    .with_columns(pl.col(\"date\").dt.convert_time_zone(\"Europe/Zurich\"))\n",
    "    .with_columns((pl.col(\"date\").dt.dst_offset() == 0).cast(pl.Int16).alias(\"dst\"))\n",
    "    .with_columns(pl.col(\"date\").dt.strftime(\"%Y-%m-%d %H:%M\"))\n",
    "    .unique(subset=[\"date\", \"dst\"])\n",
    "    .rename({\"price\": \"day_ahead_price_de\"})\n",
    ")\n",
    "\n",
    "da_delu.pipe(print)\n",
    "da_delu[\"date\"].value_counts().filter(pl.col(\"count\") != 1).sort(\"date\").pipe(print)"
   ]
  },
  {
   "cell_type": "code",
   "execution_count": 183,
   "metadata": {},
   "outputs": [
    {
     "name": "stdout",
     "output_type": "stream",
     "text": [
      "shape: (44_569, 3)\n",
      "┌──────────────────┬────────────────────┬─────┐\n",
      "│ date             ┆ day_ahead_price_fr ┆ dst │\n",
      "│ ---              ┆ ---                ┆ --- │\n",
      "│ str              ┆ f64                ┆ i16 │\n",
      "╞══════════════════╪════════════════════╪═════╡\n",
      "│ 2020-09-27 20:00 ┆ 50.0               ┆ 0   │\n",
      "│ 2019-10-26 03:00 ┆ 18.67              ┆ 0   │\n",
      "│ 2020-01-23 23:00 ┆ 42.6               ┆ 1   │\n",
      "│ 2023-11-02 19:00 ┆ 96.55              ┆ 1   │\n",
      "│ 2022-01-01 13:00 ┆ 96.8               ┆ 1   │\n",
      "│ …                ┆ …                  ┆ …   │\n",
      "│ 2019-03-01 02:00 ┆ 35.78              ┆ 1   │\n",
      "│ 2023-05-30 08:00 ┆ 108.64             ┆ 0   │\n",
      "│ 2019-09-12 19:00 ┆ 44.27              ┆ 0   │\n",
      "│ 2022-06-29 14:00 ┆ 325.0              ┆ 0   │\n",
      "│ 2023-06-17 05:00 ┆ 110.0              ┆ 0   │\n",
      "└──────────────────┴────────────────────┴─────┘\n",
      "shape: (5, 2)\n",
      "┌──────────────────┬───────┐\n",
      "│ date             ┆ count │\n",
      "│ ---              ┆ ---   │\n",
      "│ str              ┆ u32   │\n",
      "╞══════════════════╪═══════╡\n",
      "│ 2019-10-27 02:00 ┆ 2     │\n",
      "│ 2020-10-25 02:00 ┆ 2     │\n",
      "│ 2021-10-31 02:00 ┆ 2     │\n",
      "│ 2022-10-30 02:00 ┆ 2     │\n",
      "│ 2023-10-29 02:00 ┆ 2     │\n",
      "└──────────────────┴───────┘\n"
     ]
    }
   ],
   "source": [
    "da_fr = (\n",
    "    pl.read_csv(\"./Raw Data/day_ahead_prices_FR.csv\")\n",
    "    .with_columns(pl.col(\"date\").str.to_datetime())\n",
    "    .with_columns(pl.col(\"date\").dt.convert_time_zone(\"Europe/Zurich\"))\n",
    "    .with_columns((pl.col(\"date\").dt.dst_offset() == 0).cast(pl.Int16).alias(\"dst\"))\n",
    "    .with_columns(pl.col(\"date\").dt.strftime(\"%Y-%m-%d %H:%M\"))\n",
    "    .unique(subset=[\"date\", \"dst\"])\n",
    "    .rename({\"price\": \"day_ahead_price_fr\"})\n",
    ")\n",
    "\n",
    "da_fr.pipe(print)\n",
    "da_fr[\"date\"].value_counts().filter(pl.col(\"count\") != 1).sort(\"date\").pipe(print)"
   ]
  },
  {
   "cell_type": "code",
   "execution_count": 184,
   "metadata": {},
   "outputs": [
    {
     "name": "stdout",
     "output_type": "stream",
     "text": [
      "shape: (44_569, 3)\n",
      "┌──────────────────┬────────────────────┬─────┐\n",
      "│ date             ┆ day_ahead_price_ch ┆ dst │\n",
      "│ ---              ┆ ---                ┆ --- │\n",
      "│ str              ┆ f64                ┆ i16 │\n",
      "╞══════════════════╪════════════════════╪═════╡\n",
      "│ 2023-11-22 07:00 ┆ 157.81             ┆ 1   │\n",
      "│ 2019-03-01 11:00 ┆ 50.97              ┆ 1   │\n",
      "│ 2019-10-27 09:00 ┆ 35.24              ┆ 1   │\n",
      "│ 2021-09-18 01:00 ┆ 149.97             ┆ 0   │\n",
      "│ 2022-11-24 19:00 ┆ 370.0              ┆ 1   │\n",
      "│ …                ┆ …                  ┆ …   │\n",
      "│ 2022-03-30 03:00 ┆ 235.92             ┆ 0   │\n",
      "│ 2022-04-07 20:00 ┆ 277.5              ┆ 0   │\n",
      "│ 2022-06-10 17:00 ┆ 200.59             ┆ 0   │\n",
      "│ 2023-02-06 06:00 ┆ 175.64             ┆ 1   │\n",
      "│ 2023-09-14 04:00 ┆ 100.0              ┆ 0   │\n",
      "└──────────────────┴────────────────────┴─────┘\n",
      "shape: (5, 2)\n",
      "┌──────────────────┬───────┐\n",
      "│ date             ┆ count │\n",
      "│ ---              ┆ ---   │\n",
      "│ str              ┆ u32   │\n",
      "╞══════════════════╪═══════╡\n",
      "│ 2019-10-27 02:00 ┆ 2     │\n",
      "│ 2020-10-25 02:00 ┆ 2     │\n",
      "│ 2021-10-31 02:00 ┆ 2     │\n",
      "│ 2022-10-30 02:00 ┆ 2     │\n",
      "│ 2023-10-29 02:00 ┆ 2     │\n",
      "└──────────────────┴───────┘\n"
     ]
    }
   ],
   "source": [
    "da_it = (\n",
    "    pl.read_csv(\"./Raw Data/day_ahead_prices_IT_NORD.csv\")\n",
    "    .with_columns(pl.col(\"date\").str.to_datetime())\n",
    "    .with_columns(pl.col(\"date\").dt.convert_time_zone(\"Europe/Zurich\"))\n",
    "    .with_columns((pl.col(\"date\").dt.dst_offset() == 0).cast(pl.Int16).alias(\"dst\"))\n",
    "    .with_columns(pl.col(\"date\").dt.strftime(\"%Y-%m-%d %H:%M\"))\n",
    "    .unique(subset=[\"date\", \"dst\"])\n",
    "    .rename({\"price\": \"day_ahead_price_ch\"})\n",
    ")\n",
    "\n",
    "da_it.pipe(print)\n",
    "da_it[\"date\"].value_counts().filter(pl.col(\"count\") != 1).sort(\"date\").pipe(print)"
   ]
  },
  {
   "cell_type": "markdown",
   "metadata": {},
   "source": [
    "### Actual Load"
   ]
  },
  {
   "cell_type": "code",
   "execution_count": 185,
   "metadata": {},
   "outputs": [
    {
     "name": "stdout",
     "output_type": "stream",
     "text": [
      "shape: (44_568, 3)\n",
      "┌──────────────────┬────────────────┬─────┐\n",
      "│ date             ┆ actual_load_at ┆ dst │\n",
      "│ ---              ┆ ---            ┆ --- │\n",
      "│ str              ┆ f64            ┆ i16 │\n",
      "╞══════════════════╪════════════════╪═════╡\n",
      "│ 2019-01-01 00:00 ┆ 6075.0         ┆ 1   │\n",
      "│ 2019-01-01 01:00 ┆ 5852.75        ┆ 1   │\n",
      "│ 2019-01-01 02:00 ┆ 5619.25        ┆ 1   │\n",
      "│ 2019-01-01 03:00 ┆ 5324.0         ┆ 1   │\n",
      "│ 2019-01-01 04:00 ┆ 5273.5         ┆ 1   │\n",
      "│ …                ┆ …              ┆ …   │\n",
      "│ 2024-01-31 19:00 ┆ 8433.0         ┆ 1   │\n",
      "│ 2024-01-31 20:00 ┆ 7892.75        ┆ 1   │\n",
      "│ 2024-01-31 21:00 ┆ 7312.0         ┆ 1   │\n",
      "│ 2024-01-31 22:00 ┆ 7065.0         ┆ 1   │\n",
      "│ 2024-01-31 23:00 ┆ 6610.25        ┆ 1   │\n",
      "└──────────────────┴────────────────┴─────┘\n",
      "shape: (5, 2)\n",
      "┌──────────────────┬───────┐\n",
      "│ date             ┆ count │\n",
      "│ ---              ┆ ---   │\n",
      "│ str              ┆ u32   │\n",
      "╞══════════════════╪═══════╡\n",
      "│ 2019-10-27 02:00 ┆ 2     │\n",
      "│ 2020-10-25 02:00 ┆ 2     │\n",
      "│ 2021-10-31 02:00 ┆ 2     │\n",
      "│ 2022-10-30 02:00 ┆ 2     │\n",
      "│ 2023-10-29 02:00 ┆ 2     │\n",
      "└──────────────────┴───────┘\n"
     ]
    }
   ],
   "source": [
    "load_at = (\n",
    "    pl.read_csv(\"./Raw Data/actual_load_AT.csv\")\n",
    "    .with_columns(pl.col(\"date\").str.to_datetime())\n",
    "    .with_columns(pl.col(\"date\").dt.convert_time_zone(\"Europe/Zurich\").dt.truncate(\"1h\"))\n",
    "    .group_by(\"date\")\n",
    "    .agg(pl.mean(\"actual_load\"))\n",
    "    .with_columns((pl.col(\"date\").dt.dst_offset() == 0).cast(pl.Int16).alias(\"dst\"))\n",
    "    .with_columns(pl.col(\"date\").dt.strftime(\"%Y-%m-%d %H:%M\"))\n",
    "    .unique(subset=[\"date\", \"dst\"])\n",
    "    .sort(\"date\")\n",
    "    .rename({\"actual_load\": \"actual_load_at\"})\n",
    ")\n",
    "\n",
    "load_at.pipe(print)\n",
    "load_at[\"date\"].value_counts().filter(pl.col(\"count\") != 1).sort(\"date\").pipe(print)"
   ]
  },
  {
   "cell_type": "code",
   "execution_count": 186,
   "metadata": {},
   "outputs": [
    {
     "name": "stdout",
     "output_type": "stream",
     "text": [
      "shape: (44_563, 3)\n",
      "┌──────────────────┬────────────────┬─────┐\n",
      "│ date             ┆ actual_load_ch ┆ dst │\n",
      "│ ---              ┆ ---            ┆ --- │\n",
      "│ str              ┆ f64            ┆ i16 │\n",
      "╞══════════════════╪════════════════╪═════╡\n",
      "│ 2019-01-01 00:00 ┆ 7037.0         ┆ 1   │\n",
      "│ 2019-01-01 01:00 ┆ 7096.0         ┆ 1   │\n",
      "│ 2019-01-01 02:00 ┆ 7244.0         ┆ 1   │\n",
      "│ 2019-01-01 03:00 ┆ 7443.0         ┆ 1   │\n",
      "│ 2019-01-01 04:00 ┆ 7353.0         ┆ 1   │\n",
      "│ …                ┆ …              ┆ …   │\n",
      "│ 2024-01-31 19:00 ┆ 8055.0         ┆ 1   │\n",
      "│ 2024-01-31 20:00 ┆ 7774.0         ┆ 1   │\n",
      "│ 2024-01-31 21:00 ┆ 7417.0         ┆ 1   │\n",
      "│ 2024-01-31 22:00 ┆ 6997.0         ┆ 1   │\n",
      "│ 2024-01-31 23:00 ┆ 6821.0         ┆ 1   │\n",
      "└──────────────────┴────────────────┴─────┘\n",
      "shape: (5, 2)\n",
      "┌──────────────────┬───────┐\n",
      "│ date             ┆ count │\n",
      "│ ---              ┆ ---   │\n",
      "│ str              ┆ u32   │\n",
      "╞══════════════════╪═══════╡\n",
      "│ 2019-10-27 02:00 ┆ 2     │\n",
      "│ 2020-10-25 02:00 ┆ 2     │\n",
      "│ 2021-10-31 02:00 ┆ 2     │\n",
      "│ 2022-10-30 02:00 ┆ 2     │\n",
      "│ 2023-10-29 02:00 ┆ 2     │\n",
      "└──────────────────┴───────┘\n"
     ]
    }
   ],
   "source": [
    "load_ch = (\n",
    "    pl.read_csv(\"./Raw Data/actual_load_CH.csv\")\n",
    "    .with_columns(pl.col(\"date\").str.to_datetime())\n",
    "    .with_columns(pl.col(\"date\").dt.convert_time_zone(\"Europe/Zurich\").dt.truncate(\"1h\"))\n",
    "    .group_by(\"date\")\n",
    "    .agg(pl.mean(\"actual_load\"))\n",
    "    .with_columns((pl.col(\"date\").dt.dst_offset() == 0).cast(pl.Int16).alias(\"dst\"))\n",
    "    .with_columns(pl.col(\"date\").dt.strftime(\"%Y-%m-%d %H:%M\"))\n",
    "    .unique(subset=[\"date\", \"dst\"])\n",
    "    .sort(\"date\")\n",
    "    .rename({\"actual_load\": \"actual_load_ch\"})\n",
    ")\n",
    "\n",
    "load_ch.pipe(print)\n",
    "load_ch[\"date\"].value_counts().filter(pl.col(\"count\") != 1).sort(\"date\").pipe(print)"
   ]
  },
  {
   "cell_type": "code",
   "execution_count": 187,
   "metadata": {},
   "outputs": [
    {
     "name": "stdout",
     "output_type": "stream",
     "text": [
      "shape: (44_568, 3)\n",
      "┌──────────────────┬────────────────┬─────┐\n",
      "│ date             ┆ actual_load_de ┆ dst │\n",
      "│ ---              ┆ ---            ┆ --- │\n",
      "│ str              ┆ f64            ┆ i16 │\n",
      "╞══════════════════╪════════════════╪═════╡\n",
      "│ 2019-01-01 00:00 ┆ 43713.5        ┆ 1   │\n",
      "│ 2019-01-01 01:00 ┆ 42091.0        ┆ 1   │\n",
      "│ 2019-01-01 02:00 ┆ 40537.0        ┆ 1   │\n",
      "│ 2019-01-01 03:00 ┆ 39725.75       ┆ 1   │\n",
      "│ 2019-01-01 04:00 ┆ 39502.0        ┆ 1   │\n",
      "│ …                ┆ …              ┆ …   │\n",
      "│ 2024-01-31 19:00 ┆ 69814.25       ┆ 1   │\n",
      "│ 2024-01-31 20:00 ┆ 66137.75       ┆ 1   │\n",
      "│ 2024-01-31 21:00 ┆ 62751.0        ┆ 1   │\n",
      "│ 2024-01-31 22:00 ┆ 60155.25       ┆ 1   │\n",
      "│ 2024-01-31 23:00 ┆ 56119.75       ┆ 1   │\n",
      "└──────────────────┴────────────────┴─────┘\n",
      "shape: (5, 2)\n",
      "┌──────────────────┬───────┐\n",
      "│ date             ┆ count │\n",
      "│ ---              ┆ ---   │\n",
      "│ str              ┆ u32   │\n",
      "╞══════════════════╪═══════╡\n",
      "│ 2019-10-27 02:00 ┆ 2     │\n",
      "│ 2020-10-25 02:00 ┆ 2     │\n",
      "│ 2021-10-31 02:00 ┆ 2     │\n",
      "│ 2022-10-30 02:00 ┆ 2     │\n",
      "│ 2023-10-29 02:00 ┆ 2     │\n",
      "└──────────────────┴───────┘\n"
     ]
    }
   ],
   "source": [
    "load_de = (\n",
    "    pl.read_csv(\"./Raw Data/actual_load_DE_LU.csv\")\n",
    "    .with_columns(pl.col(\"date\").str.to_datetime())\n",
    "    .with_columns(pl.col(\"date\").dt.convert_time_zone(\"Europe/Zurich\").dt.truncate(\"1h\"))\n",
    "    .group_by(\"date\")\n",
    "    .agg(pl.mean(\"actual_load\"))\n",
    "    .with_columns((pl.col(\"date\").dt.dst_offset() == 0).cast(pl.Int16).alias(\"dst\"))\n",
    "    .with_columns(pl.col(\"date\").dt.strftime(\"%Y-%m-%d %H:%M\"))\n",
    "    .unique(subset=[\"date\", \"dst\"])\n",
    "    .sort(\"date\")\n",
    "    .rename({\"actual_load\": \"actual_load_de\"})\n",
    ")\n",
    "\n",
    "load_de.pipe(print)\n",
    "load_de[\"date\"].value_counts().filter(pl.col(\"count\") != 1).sort(\"date\").pipe(print)"
   ]
  },
  {
   "cell_type": "code",
   "execution_count": 188,
   "metadata": {},
   "outputs": [
    {
     "name": "stdout",
     "output_type": "stream",
     "text": [
      "shape: (44_518, 3)\n",
      "┌──────────────────┬────────────────┬─────┐\n",
      "│ date             ┆ actual_load_fr ┆ dst │\n",
      "│ ---              ┆ ---            ┆ --- │\n",
      "│ str              ┆ f64            ┆ i16 │\n",
      "╞══════════════════╪════════════════╪═════╡\n",
      "│ 2019-01-01 00:00 ┆ 62176.0        ┆ 1   │\n",
      "│ 2019-01-01 01:00 ┆ 60301.0        ┆ 1   │\n",
      "│ 2019-01-01 02:00 ┆ 58540.0        ┆ 1   │\n",
      "│ 2019-01-01 03:00 ┆ 55144.0        ┆ 1   │\n",
      "│ 2019-01-01 04:00 ┆ 52978.0        ┆ 1   │\n",
      "│ …                ┆ …              ┆ …   │\n",
      "│ 2024-01-31 19:00 ┆ 63343.0        ┆ 1   │\n",
      "│ 2024-01-31 20:00 ┆ 64827.0        ┆ 1   │\n",
      "│ 2024-01-31 21:00 ┆ 61646.0        ┆ 1   │\n",
      "│ 2024-01-31 22:00 ┆ 58398.0        ┆ 1   │\n",
      "│ 2024-01-31 23:00 ┆ 58517.0        ┆ 1   │\n",
      "└──────────────────┴────────────────┴─────┘\n",
      "shape: (2, 2)\n",
      "┌──────────────────┬───────┐\n",
      "│ date             ┆ count │\n",
      "│ ---              ┆ ---   │\n",
      "│ str              ┆ u32   │\n",
      "╞══════════════════╪═══════╡\n",
      "│ 2022-10-30 02:00 ┆ 2     │\n",
      "│ 2023-10-29 02:00 ┆ 2     │\n",
      "└──────────────────┴───────┘\n"
     ]
    }
   ],
   "source": [
    "load_fr = (\n",
    "    pl.read_csv(\"./Raw Data/actual_load_FR.csv\")\n",
    "    .with_columns(pl.col(\"date\").str.to_datetime())\n",
    "    .with_columns(pl.col(\"date\").dt.convert_time_zone(\"Europe/Zurich\").dt.truncate(\"1h\"))\n",
    "    .group_by(\"date\")\n",
    "    .agg(pl.mean(\"actual_load\"))\n",
    "    .with_columns((pl.col(\"date\").dt.dst_offset() == 0).cast(pl.Int16).alias(\"dst\"))\n",
    "    .with_columns(pl.col(\"date\").dt.strftime(\"%Y-%m-%d %H:%M\"))\n",
    "    .unique(subset=[\"date\", \"dst\"])\n",
    "    .sort(\"date\")\n",
    "    .rename({\"actual_load\": \"actual_load_fr\"})\n",
    ")\n",
    "\n",
    "load_fr.pipe(print)\n",
    "load_fr[\"date\"].value_counts().filter(pl.col(\"count\") != 1).sort(\"date\").pipe(print)"
   ]
  },
  {
   "cell_type": "code",
   "execution_count": 189,
   "metadata": {},
   "outputs": [
    {
     "name": "stdout",
     "output_type": "stream",
     "text": [
      "shape: (44_563, 3)\n",
      "┌──────────────────┬────────────────┬─────┐\n",
      "│ date             ┆ actual_load_it ┆ dst │\n",
      "│ ---              ┆ ---            ┆ --- │\n",
      "│ str              ┆ f64            ┆ i16 │\n",
      "╞══════════════════╪════════════════╪═════╡\n",
      "│ 2019-01-01 00:00 ┆ 23644.0        ┆ 1   │\n",
      "│ 2019-01-01 01:00 ┆ 22850.0        ┆ 1   │\n",
      "│ 2019-01-01 02:00 ┆ 21600.0        ┆ 1   │\n",
      "│ 2019-01-01 03:00 ┆ 20255.0        ┆ 1   │\n",
      "│ 2019-01-01 04:00 ┆ 19459.0        ┆ 1   │\n",
      "│ …                ┆ …              ┆ …   │\n",
      "│ 2024-01-31 19:00 ┆ 43670.0        ┆ 1   │\n",
      "│ 2024-01-31 20:00 ┆ 41362.0        ┆ 1   │\n",
      "│ 2024-01-31 21:00 ┆ 38122.0        ┆ 1   │\n",
      "│ 2024-01-31 22:00 ┆ 34165.0        ┆ 1   │\n",
      "│ 2024-01-31 23:00 ┆ 30578.0        ┆ 1   │\n",
      "└──────────────────┴────────────────┴─────┘\n",
      "shape: (5, 2)\n",
      "┌──────────────────┬───────┐\n",
      "│ date             ┆ count │\n",
      "│ ---              ┆ ---   │\n",
      "│ str              ┆ u32   │\n",
      "╞══════════════════╪═══════╡\n",
      "│ 2019-10-27 02:00 ┆ 2     │\n",
      "│ 2020-10-25 02:00 ┆ 2     │\n",
      "│ 2021-10-31 02:00 ┆ 2     │\n",
      "│ 2022-10-30 02:00 ┆ 2     │\n",
      "│ 2023-10-29 02:00 ┆ 2     │\n",
      "└──────────────────┴───────┘\n"
     ]
    }
   ],
   "source": [
    "load_it = (\n",
    "    pl.read_csv(\"./Raw Data/actual_load_IT.csv\")\n",
    "    .with_columns(pl.col(\"date\").str.to_datetime())\n",
    "    .with_columns(pl.col(\"date\").dt.convert_time_zone(\"Europe/Zurich\").dt.truncate(\"1h\"))\n",
    "    .group_by(\"date\")\n",
    "    .agg(pl.mean(\"actual_load\"))\n",
    "    .with_columns((pl.col(\"date\").dt.dst_offset() == 0).cast(pl.Int16).alias(\"dst\"))\n",
    "    .with_columns(pl.col(\"date\").dt.strftime(\"%Y-%m-%d %H:%M\"))\n",
    "    .unique(subset=[\"date\", \"dst\"])\n",
    "    .sort(\"date\")\n",
    "    .rename({\"actual_load\": \"actual_load_it\"})\n",
    ")\n",
    "\n",
    "load_it.pipe(print)\n",
    "load_it[\"date\"].value_counts().filter(pl.col(\"count\") != 1).sort(\"date\").pipe(print)"
   ]
  },
  {
   "cell_type": "markdown",
   "metadata": {},
   "source": [
    "### Forecast Wind and Solar"
   ]
  },
  {
   "cell_type": "code",
   "execution_count": 190,
   "metadata": {},
   "outputs": [
    {
     "name": "stdout",
     "output_type": "stream",
     "text": [
      "shape: (44_568, 4)\n",
      "┌──────────────────┬───────────────────┬──────────────────────────┬─────┐\n",
      "│ date             ┆ solar_forecast_at ┆ wind_onshore_forecast_at ┆ dst │\n",
      "│ ---              ┆ ---               ┆ ---                      ┆ --- │\n",
      "│ str              ┆ f64               ┆ f64                      ┆ i16 │\n",
      "╞══════════════════╪═══════════════════╪══════════════════════════╪═════╡\n",
      "│ 2019-01-01 00:00 ┆ 0.0               ┆ 487.0                    ┆ 1   │\n",
      "│ 2019-01-01 01:00 ┆ 0.0               ┆ 398.0                    ┆ 1   │\n",
      "│ 2019-01-01 02:00 ┆ 0.0               ┆ 338.0                    ┆ 1   │\n",
      "│ 2019-01-01 03:00 ┆ 0.0               ┆ 309.0                    ┆ 1   │\n",
      "│ 2019-01-01 04:00 ┆ 0.0               ┆ 320.0                    ┆ 1   │\n",
      "│ …                ┆ …                 ┆ …                        ┆ …   │\n",
      "│ 2024-01-31 19:00 ┆ 0.0               ┆ 131.0                    ┆ 1   │\n",
      "│ 2024-01-31 20:00 ┆ 0.0               ┆ 152.0                    ┆ 1   │\n",
      "│ 2024-01-31 21:00 ┆ 0.0               ┆ 176.0                    ┆ 1   │\n",
      "│ 2024-01-31 22:00 ┆ 0.0               ┆ 194.0                    ┆ 1   │\n",
      "│ 2024-01-31 23:00 ┆ 0.0               ┆ 216.0                    ┆ 1   │\n",
      "└──────────────────┴───────────────────┴──────────────────────────┴─────┘\n",
      "shape: (5, 2)\n",
      "┌──────────────────┬───────┐\n",
      "│ date             ┆ count │\n",
      "│ ---              ┆ ---   │\n",
      "│ str              ┆ u32   │\n",
      "╞══════════════════╪═══════╡\n",
      "│ 2019-10-27 02:00 ┆ 2     │\n",
      "│ 2020-10-25 02:00 ┆ 2     │\n",
      "│ 2021-10-31 02:00 ┆ 2     │\n",
      "│ 2022-10-30 02:00 ┆ 2     │\n",
      "│ 2023-10-29 02:00 ┆ 2     │\n",
      "└──────────────────┴───────┘\n"
     ]
    }
   ],
   "source": [
    "wind_solar_forecast_at = (\n",
    "    pl.read_csv(\"./Raw Data/wind_solar_forecast_AT.csv\")\n",
    "    .with_columns(pl.col(\"date\").str.to_datetime())\n",
    "    .with_columns(pl.col(\"date\").dt.convert_time_zone(\"Europe/Zurich\").dt.truncate(\"1h\"))\n",
    "    .group_by(\"date\")\n",
    "    .agg(\n",
    "        pl.mean(\"solar_forecast\"),\n",
    "        pl.mean(\"wind_onshore_forecast\"),\n",
    "    )\n",
    "    .with_columns((pl.col(\"date\").dt.dst_offset() == 0).cast(pl.Int16).alias(\"dst\"))\n",
    "    .with_columns(pl.col(\"date\").dt.strftime(\"%Y-%m-%d %H:%M\"))\n",
    "    .unique(subset=[\"date\", \"dst\"])\n",
    "    .sort(\"date\")\n",
    "    .rename(\n",
    "        {\n",
    "            \"solar_forecast\": \"solar_forecast_at\",\n",
    "            \"wind_onshore_forecast\": \"wind_onshore_forecast_at\",\n",
    "        }\n",
    "    )\n",
    ")\n",
    "\n",
    "wind_solar_forecast_at.pipe(print)\n",
    "wind_solar_forecast_at[\"date\"].value_counts().filter(pl.col(\"count\") != 1).sort(\"date\").pipe(print)"
   ]
  },
  {
   "cell_type": "code",
   "execution_count": 191,
   "metadata": {},
   "outputs": [
    {
     "name": "stdout",
     "output_type": "stream",
     "text": [
      "shape: (44_563, 4)\n",
      "┌──────────────────┬───────────────────┬──────────────────────────┬─────┐\n",
      "│ date             ┆ solar_forecast_ch ┆ wind_onshore_forecast_ch ┆ dst │\n",
      "│ ---              ┆ ---               ┆ ---                      ┆ --- │\n",
      "│ str              ┆ f64               ┆ f64                      ┆ i16 │\n",
      "╞══════════════════╪═══════════════════╪══════════════════════════╪═════╡\n",
      "│ 2019-01-01 00:00 ┆ 0.0               ┆ 2.0                      ┆ 1   │\n",
      "│ 2019-01-01 01:00 ┆ 0.0               ┆ 2.0                      ┆ 1   │\n",
      "│ 2019-01-01 02:00 ┆ 0.0               ┆ 2.0                      ┆ 1   │\n",
      "│ 2019-01-01 03:00 ┆ 0.0               ┆ 2.0                      ┆ 1   │\n",
      "│ 2019-01-01 04:00 ┆ 0.0               ┆ 2.0                      ┆ 1   │\n",
      "│ …                ┆ …                 ┆ …                        ┆ …   │\n",
      "│ 2024-01-31 19:00 ┆ 0.0               ┆ 0.0                      ┆ 1   │\n",
      "│ 2024-01-31 20:00 ┆ 0.0               ┆ 0.0                      ┆ 1   │\n",
      "│ 2024-01-31 21:00 ┆ 0.0               ┆ 0.0                      ┆ 1   │\n",
      "│ 2024-01-31 22:00 ┆ 0.0               ┆ 0.0                      ┆ 1   │\n",
      "│ 2024-01-31 23:00 ┆ 0.0               ┆ 0.0                      ┆ 1   │\n",
      "└──────────────────┴───────────────────┴──────────────────────────┴─────┘\n",
      "shape: (5, 2)\n",
      "┌──────────────────┬───────┐\n",
      "│ date             ┆ count │\n",
      "│ ---              ┆ ---   │\n",
      "│ str              ┆ u32   │\n",
      "╞══════════════════╪═══════╡\n",
      "│ 2019-10-27 02:00 ┆ 2     │\n",
      "│ 2020-10-25 02:00 ┆ 2     │\n",
      "│ 2021-10-31 02:00 ┆ 2     │\n",
      "│ 2022-10-30 02:00 ┆ 2     │\n",
      "│ 2023-10-29 02:00 ┆ 2     │\n",
      "└──────────────────┴───────┘\n"
     ]
    }
   ],
   "source": [
    "wind_solar_forecast_ch = (\n",
    "    pl.read_csv(\"./Raw Data/wind_solar_forecast_CH.csv\")\n",
    "    .with_columns(pl.col(\"date\").str.to_datetime())\n",
    "    .with_columns(pl.col(\"date\").dt.convert_time_zone(\"Europe/Zurich\").dt.truncate(\"1h\"))\n",
    "    .group_by(\"date\")\n",
    "    .agg(\n",
    "        pl.mean(\"solar_forecast\"),\n",
    "        pl.mean(\"wind_onshore_forecast\"),\n",
    "    )\n",
    "    .with_columns((pl.col(\"date\").dt.dst_offset() == 0).cast(pl.Int16).alias(\"dst\"))\n",
    "    .with_columns(pl.col(\"date\").dt.strftime(\"%Y-%m-%d %H:%M\"))\n",
    "    .unique(subset=[\"date\", \"dst\"])\n",
    "    .sort(\"date\")\n",
    "    .rename(\n",
    "        {\n",
    "            \"solar_forecast\": \"solar_forecast_ch\",\n",
    "            \"wind_onshore_forecast\": \"wind_onshore_forecast_ch\",\n",
    "        }\n",
    "    )\n",
    ")\n",
    "\n",
    "wind_solar_forecast_ch.pipe(print)\n",
    "wind_solar_forecast_ch[\"date\"].value_counts().filter(pl.col(\"count\") != 1).sort(\"date\").pipe(print)"
   ]
  },
  {
   "cell_type": "code",
   "execution_count": 192,
   "metadata": {},
   "outputs": [
    {
     "name": "stdout",
     "output_type": "stream",
     "text": [
      "shape: (44_546, 5)\n",
      "┌──────────────────┬───────────────────┬──────────────────────────┬──────────────────────────┬─────┐\n",
      "│ date             ┆ solar_forecast_de ┆ wind_onshore_forecast_de ┆ wind_offshore_forecast_d ┆ dst │\n",
      "│ ---              ┆ ---               ┆ ---                      ┆ e                        ┆ --- │\n",
      "│ str              ┆ f64               ┆ f64                      ┆ ---                      ┆ i16 │\n",
      "│                  ┆                   ┆                          ┆ f64                      ┆     │\n",
      "╞══════════════════╪═══════════════════╪══════════════════════════╪══════════════════════════╪═════╡\n",
      "│ 2019-01-01 00:00 ┆ 0.0               ┆ 18879.75                 ┆ 5069.0                   ┆ 1   │\n",
      "│ 2019-01-01 01:00 ┆ 0.0               ┆ 20626.5                  ┆ 5042.25                  ┆ 1   │\n",
      "│ 2019-01-01 02:00 ┆ 0.0               ┆ 22355.5                  ┆ 5028.5                   ┆ 1   │\n",
      "│ 2019-01-01 03:00 ┆ 0.0               ┆ 24032.5                  ┆ 4977.75                  ┆ 1   │\n",
      "│ 2019-01-01 04:00 ┆ 0.0               ┆ 25452.0                  ┆ 4907.25                  ┆ 1   │\n",
      "│ …                ┆ …                 ┆ …                        ┆ …                        ┆ …   │\n",
      "│ 2024-01-31 19:00 ┆ 0.0               ┆ 27540.75                 ┆ 5476.5                   ┆ 1   │\n",
      "│ 2024-01-31 20:00 ┆ 0.0               ┆ 31092.0                  ┆ 5299.0                   ┆ 1   │\n",
      "│ 2024-01-31 21:00 ┆ 0.0               ┆ 33759.0                  ┆ 5142.75                  ┆ 1   │\n",
      "│ 2024-01-31 22:00 ┆ 0.0               ┆ 34532.0                  ┆ 5073.25                  ┆ 1   │\n",
      "│ 2024-01-31 23:00 ┆ 0.0               ┆ 35222.75                 ┆ 5022.0                   ┆ 1   │\n",
      "└──────────────────┴───────────────────┴──────────────────────────┴──────────────────────────┴─────┘\n",
      "shape: (5, 2)\n",
      "┌──────────────────┬───────┐\n",
      "│ date             ┆ count │\n",
      "│ ---              ┆ ---   │\n",
      "│ str              ┆ u32   │\n",
      "╞══════════════════╪═══════╡\n",
      "│ 2019-10-27 02:00 ┆ 2     │\n",
      "│ 2020-10-25 02:00 ┆ 2     │\n",
      "│ 2021-10-31 02:00 ┆ 2     │\n",
      "│ 2022-10-30 02:00 ┆ 2     │\n",
      "│ 2023-10-29 02:00 ┆ 2     │\n",
      "└──────────────────┴───────┘\n"
     ]
    }
   ],
   "source": [
    "wind_solar_forecast_de = (\n",
    "    pl.read_csv(\"./Raw Data/wind_solar_forecast_DE_LU.csv\")\n",
    "    .with_columns(pl.col(\"date\").str.to_datetime())\n",
    "    .with_columns(pl.col(\"date\").dt.convert_time_zone(\"Europe/Zurich\").dt.truncate(\"1h\"))\n",
    "    .group_by(\"date\")\n",
    "    .agg(\n",
    "        pl.mean(\"solar_forecast\"),\n",
    "        pl.mean(\"wind_onshore_forecast\"),\n",
    "        pl.mean(\"wind_offshore_forecast\")\n",
    "    )\n",
    "    .with_columns((pl.col(\"date\").dt.dst_offset() == 0).cast(pl.Int16).alias(\"dst\"))\n",
    "    .with_columns(pl.col(\"date\").dt.strftime(\"%Y-%m-%d %H:%M\"))\n",
    "    .unique(subset=[\"date\", \"dst\"])\n",
    "    .sort(\"date\")\n",
    "    .rename(\n",
    "        {\n",
    "            \"solar_forecast\": \"solar_forecast_de\",\n",
    "            \"wind_offshore_forecast\": \"wind_offshore_forecast_de\",\n",
    "            \"wind_onshore_forecast\": \"wind_onshore_forecast_de\",\n",
    "        }\n",
    "    )\n",
    ")\n",
    "\n",
    "wind_solar_forecast_de.pipe(print)\n",
    "wind_solar_forecast_de[\"date\"].value_counts().filter(pl.col(\"count\") != 1).sort(\"date\").pipe(print)"
   ]
  },
  {
   "cell_type": "code",
   "execution_count": 193,
   "metadata": {},
   "outputs": [
    {
     "name": "stdout",
     "output_type": "stream",
     "text": [
      "shape: (44_344, 5)\n",
      "┌──────────────────┬───────────────────┬──────────────────────────┬──────────────────────────┬─────┐\n",
      "│ date             ┆ solar_forecast_fr ┆ wind_onshore_forecast_fr ┆ wind_offshore_forecast_f ┆ dst │\n",
      "│ ---              ┆ ---               ┆ ---                      ┆ r                        ┆ --- │\n",
      "│ str              ┆ f64               ┆ f64                      ┆ ---                      ┆ i16 │\n",
      "│                  ┆                   ┆                          ┆ str                      ┆     │\n",
      "╞══════════════════╪═══════════════════╪══════════════════════════╪══════════════════════════╪═════╡\n",
      "│ 2019-01-01 00:00 ┆ 0.0               ┆ 1698.0                   ┆ null                     ┆ 1   │\n",
      "│ 2019-01-01 01:00 ┆ 0.0               ┆ 1680.0                   ┆ null                     ┆ 1   │\n",
      "│ 2019-01-01 02:00 ┆ 0.0               ┆ 1675.0                   ┆ null                     ┆ 1   │\n",
      "│ 2019-01-01 03:00 ┆ 0.0               ┆ 1670.0                   ┆ null                     ┆ 1   │\n",
      "│ 2019-01-01 04:00 ┆ 0.0               ┆ 1664.0                   ┆ null                     ┆ 1   │\n",
      "│ …                ┆ …                 ┆ …                        ┆ …                        ┆ …   │\n",
      "│ 2024-01-31 19:00 ┆ 0.0               ┆ 5016.0                   ┆ null                     ┆ 1   │\n",
      "│ 2024-01-31 20:00 ┆ 0.0               ┆ 5760.0                   ┆ null                     ┆ 1   │\n",
      "│ 2024-01-31 21:00 ┆ 0.0               ┆ 6504.0                   ┆ null                     ┆ 1   │\n",
      "│ 2024-01-31 22:00 ┆ 0.0               ┆ 7249.0                   ┆ null                     ┆ 1   │\n",
      "│ 2024-01-31 23:00 ┆ 0.0               ┆ 7624.0                   ┆ null                     ┆ 1   │\n",
      "└──────────────────┴───────────────────┴──────────────────────────┴──────────────────────────┴─────┘\n",
      "shape: (3, 2)\n",
      "┌──────────────────┬───────┐\n",
      "│ date             ┆ count │\n",
      "│ ---              ┆ ---   │\n",
      "│ str              ┆ u32   │\n",
      "╞══════════════════╪═══════╡\n",
      "│ 2021-10-31 02:00 ┆ 2     │\n",
      "│ 2022-10-30 02:00 ┆ 2     │\n",
      "│ 2023-10-29 02:00 ┆ 2     │\n",
      "└──────────────────┴───────┘\n"
     ]
    }
   ],
   "source": [
    "wind_solar_forecast_fr = (\n",
    "    pl.read_csv(\"./Raw Data/wind_solar_forecast_FR.csv\")\n",
    "    .with_columns(pl.col(\"date\").str.to_datetime())\n",
    "    .with_columns(pl.col(\"date\").dt.convert_time_zone(\"Europe/Zurich\").dt.truncate(\"1h\"))\n",
    "    .group_by(\"date\")\n",
    "    .agg(\n",
    "        pl.mean(\"solar_forecast\"),\n",
    "        pl.mean(\"wind_onshore_forecast\"),\n",
    "        pl.mean(\"wind_offshore_forecast\")\n",
    "    )\n",
    "    .with_columns((pl.col(\"date\").dt.dst_offset() == 0).cast(pl.Int16).alias(\"dst\"))\n",
    "    .with_columns(pl.col(\"date\").dt.strftime(\"%Y-%m-%d %H:%M\"))\n",
    "    .unique(subset=[\"date\", \"dst\"])\n",
    "    .sort(\"date\")\n",
    "    .rename(\n",
    "        {\n",
    "            \"solar_forecast\": \"solar_forecast_fr\",\n",
    "            \"wind_offshore_forecast\": \"wind_offshore_forecast_fr\",\n",
    "            \"wind_onshore_forecast\": \"wind_onshore_forecast_fr\",\n",
    "        }\n",
    "    )\n",
    ")\n",
    "\n",
    "wind_solar_forecast_fr.pipe(print)\n",
    "wind_solar_forecast_fr[\"date\"].value_counts().filter(pl.col(\"count\") != 1).sort(\"date\").pipe(print)"
   ]
  },
  {
   "cell_type": "code",
   "execution_count": 194,
   "metadata": {},
   "outputs": [
    {
     "name": "stdout",
     "output_type": "stream",
     "text": [
      "shape: (43_314, 4)\n",
      "┌──────────────────┬───────────────────┬──────────────────────────┬─────┐\n",
      "│ date             ┆ solar_forecast_it ┆ wind_onshore_forecast_it ┆ dst │\n",
      "│ ---              ┆ ---               ┆ ---                      ┆ --- │\n",
      "│ str              ┆ f64               ┆ str                      ┆ i16 │\n",
      "╞══════════════════╪═══════════════════╪══════════════════════════╪═════╡\n",
      "│ 2019-01-01 00:00 ┆ 0.0               ┆ null                     ┆ 1   │\n",
      "│ 2019-01-01 01:00 ┆ 0.0               ┆ null                     ┆ 1   │\n",
      "│ 2019-01-01 02:00 ┆ 0.0               ┆ null                     ┆ 1   │\n",
      "│ 2019-01-01 03:00 ┆ 0.0               ┆ null                     ┆ 1   │\n",
      "│ 2019-01-01 04:00 ┆ 0.0               ┆ null                     ┆ 1   │\n",
      "│ …                ┆ …                 ┆ …                        ┆ …   │\n",
      "│ 2024-01-31 19:00 ┆ 0.0               ┆ null                     ┆ 1   │\n",
      "│ 2024-01-31 20:00 ┆ 0.0               ┆ null                     ┆ 1   │\n",
      "│ 2024-01-31 21:00 ┆ 0.0               ┆ null                     ┆ 1   │\n",
      "│ 2024-01-31 22:00 ┆ 0.0               ┆ null                     ┆ 1   │\n",
      "│ 2024-01-31 23:00 ┆ 0.0               ┆ null                     ┆ 1   │\n",
      "└──────────────────┴───────────────────┴──────────────────────────┴─────┘\n",
      "shape: (4, 2)\n",
      "┌──────────────────┬───────┐\n",
      "│ date             ┆ count │\n",
      "│ ---              ┆ ---   │\n",
      "│ str              ┆ u32   │\n",
      "╞══════════════════╪═══════╡\n",
      "│ 2019-10-27 02:00 ┆ 2     │\n",
      "│ 2020-10-25 02:00 ┆ 2     │\n",
      "│ 2021-10-31 02:00 ┆ 2     │\n",
      "│ 2022-10-30 02:00 ┆ 2     │\n",
      "└──────────────────┴───────┘\n"
     ]
    }
   ],
   "source": [
    "wind_solar_forecast_it = (\n",
    "    pl.read_csv(\"./Raw Data/wind_solar_forecast_IT.csv\")\n",
    "    .with_columns(pl.col(\"date\").str.to_datetime())\n",
    "    .with_columns(pl.col(\"date\").dt.convert_time_zone(\"Europe/Zurich\").dt.truncate(\"1h\"))\n",
    "    .group_by(\"date\")\n",
    "    .agg(\n",
    "        pl.mean(\"solar_forecast\"),\n",
    "        pl.mean(\"wind_onshore_forecast\"),\n",
    "    )\n",
    "    .with_columns((pl.col(\"date\").dt.dst_offset() == 0).cast(pl.Int16).alias(\"dst\"))\n",
    "    .with_columns(pl.col(\"date\").dt.strftime(\"%Y-%m-%d %H:%M\"))\n",
    "    .unique(subset=[\"date\", \"dst\"])\n",
    "    .sort(\"date\")\n",
    "    .rename(\n",
    "        {\n",
    "            \"solar_forecast\": \"solar_forecast_it\",\n",
    "            \"wind_onshore_forecast\": \"wind_onshore_forecast_it\",\n",
    "        }\n",
    "    )\n",
    ")\n",
    "\n",
    "wind_solar_forecast_it.pipe(print)\n",
    "wind_solar_forecast_it[\"date\"].value_counts().filter(pl.col(\"count\") != 1).sort(\"date\").pipe(print)"
   ]
  },
  {
   "cell_type": "markdown",
   "metadata": {},
   "source": [
    "### Generation Actuals (All Types)"
   ]
  },
  {
   "cell_type": "markdown",
   "metadata": {},
   "source": [
    "#### Austria"
   ]
  },
  {
   "cell_type": "code",
   "execution_count": 195,
   "metadata": {},
   "outputs": [
    {
     "data": {
      "text/html": [
       "<div><style>\n",
       ".dataframe > thead > tr,\n",
       ".dataframe > tbody > tr {\n",
       "  text-align: right;\n",
       "  white-space: pre-wrap;\n",
       "}\n",
       "</style>\n",
       "<small>shape: (3, 27)</small><table border=\"1\" class=\"dataframe\"><thead><tr><th>column_1</th><th>column_2</th><th>column_3</th><th>column_4</th><th>column_5</th><th>column_6</th><th>column_7</th><th>column_8</th><th>column_9</th><th>column_10</th><th>column_11</th><th>column_12</th><th>column_13</th><th>column_14</th><th>column_15</th><th>column_16</th><th>column_17</th><th>column_18</th><th>column_19</th><th>column_20</th><th>column_21</th><th>column_22</th><th>column_23</th><th>column_24</th><th>column_25</th><th>column_26</th><th>column_27</th></tr><tr><td>str</td><td>str</td><td>str</td><td>str</td><td>str</td><td>str</td><td>str</td><td>str</td><td>str</td><td>str</td><td>str</td><td>str</td><td>str</td><td>str</td><td>str</td><td>str</td><td>str</td><td>str</td><td>str</td><td>str</td><td>str</td><td>str</td><td>str</td><td>str</td><td>str</td><td>str</td><td>str</td></tr></thead><tbody><tr><td>&quot;date&quot;</td><td>&quot;Biomass&quot;</td><td>&quot;Biomass&quot;</td><td>&quot;Fossil Gas&quot;</td><td>&quot;Fossil Gas&quot;</td><td>&quot;Fossil Hard co…</td><td>&quot;Fossil Hard co…</td><td>&quot;Fossil Oil&quot;</td><td>&quot;Fossil Oil&quot;</td><td>&quot;Geothermal&quot;</td><td>&quot;Geothermal&quot;</td><td>&quot;Hydro Pumped S…</td><td>&quot;Hydro Pumped S…</td><td>&quot;Hydro Run-of-r…</td><td>&quot;Hydro Run-of-r…</td><td>&quot;Hydro Water Re…</td><td>&quot;Hydro Water Re…</td><td>&quot;Other&quot;</td><td>&quot;Other&quot;</td><td>&quot;Other renewabl…</td><td>&quot;Other renewabl…</td><td>&quot;Solar&quot;</td><td>&quot;Solar&quot;</td><td>&quot;Waste&quot;</td><td>&quot;Waste&quot;</td><td>&quot;Wind Onshore&quot;</td><td>&quot;Wind Onshore&quot;</td></tr><tr><td>null</td><td>&quot;Actual Aggrega…</td><td>&quot;Actual Consump…</td><td>&quot;Actual Aggrega…</td><td>&quot;Actual Consump…</td><td>&quot;Actual Aggrega…</td><td>&quot;Actual Consump…</td><td>&quot;Actual Aggrega…</td><td>&quot;Actual Consump…</td><td>&quot;Actual Aggrega…</td><td>&quot;Actual Consump…</td><td>&quot;Actual Aggrega…</td><td>&quot;Actual Consump…</td><td>&quot;Actual Aggrega…</td><td>&quot;Actual Consump…</td><td>&quot;Actual Aggrega…</td><td>&quot;Actual Consump…</td><td>&quot;Actual Aggrega…</td><td>&quot;Actual Consump…</td><td>&quot;Actual Aggrega…</td><td>&quot;Actual Consump…</td><td>&quot;Actual Aggrega…</td><td>&quot;Actual Consump…</td><td>&quot;Actual Aggrega…</td><td>&quot;Actual Consump…</td><td>&quot;Actual Aggrega…</td><td>&quot;Actual Consump…</td></tr><tr><td>&quot;2019-01-01 00:…</td><td>&quot;304.0&quot;</td><td>&quot;0.0&quot;</td><td>&quot;1339.0&quot;</td><td>&quot;0.0&quot;</td><td>&quot;154.0&quot;</td><td>&quot;0.0&quot;</td><td>&quot;0.0&quot;</td><td>&quot;0.0&quot;</td><td>&quot;0.0&quot;</td><td>&quot;0.0&quot;</td><td>&quot;0.0&quot;</td><td>&quot;1577.0&quot;</td><td>&quot;2699.0&quot;</td><td>&quot;0.0&quot;</td><td>&quot;140.0&quot;</td><td>&quot;0.0&quot;</td><td>&quot;22.0&quot;</td><td>&quot;0.0&quot;</td><td>&quot;0.0&quot;</td><td>&quot;0.0&quot;</td><td>&quot;0.0&quot;</td><td>&quot;0.0&quot;</td><td>&quot;100.0&quot;</td><td>&quot;0.0&quot;</td><td>&quot;288.0&quot;</td><td>&quot;0.0&quot;</td></tr></tbody></table></div>"
      ],
      "text/plain": [
       "shape: (3, 27)\n",
       "┌───────────┬───────────┬───────────┬───────────┬───┬───────────┬───────────┬───────────┬──────────┐\n",
       "│ column_1  ┆ column_2  ┆ column_3  ┆ column_4  ┆ … ┆ column_24 ┆ column_25 ┆ column_26 ┆ column_2 │\n",
       "│ ---       ┆ ---       ┆ ---       ┆ ---       ┆   ┆ ---       ┆ ---       ┆ ---       ┆ 7        │\n",
       "│ str       ┆ str       ┆ str       ┆ str       ┆   ┆ str       ┆ str       ┆ str       ┆ ---      │\n",
       "│           ┆           ┆           ┆           ┆   ┆           ┆           ┆           ┆ str      │\n",
       "╞═══════════╪═══════════╪═══════════╪═══════════╪═══╪═══════════╪═══════════╪═══════════╪══════════╡\n",
       "│ date      ┆ Biomass   ┆ Biomass   ┆ Fossil    ┆ … ┆ Waste     ┆ Waste     ┆ Wind      ┆ Wind     │\n",
       "│           ┆           ┆           ┆ Gas       ┆   ┆           ┆           ┆ Onshore   ┆ Onshore  │\n",
       "│ null      ┆ Actual    ┆ Actual    ┆ Actual    ┆ … ┆ Actual    ┆ Actual    ┆ Actual    ┆ Actual   │\n",
       "│           ┆ Aggregate ┆ Consumpti ┆ Aggregate ┆   ┆ Aggregate ┆ Consumpti ┆ Aggregate ┆ Consumpt │\n",
       "│           ┆ d         ┆ on        ┆ d         ┆   ┆ d         ┆ on        ┆ d         ┆ ion      │\n",
       "│ 2019-01-0 ┆ 304.0     ┆ 0.0       ┆ 1339.0    ┆ … ┆ 100.0     ┆ 0.0       ┆ 288.0     ┆ 0.0      │\n",
       "│ 1 00:00:0 ┆           ┆           ┆           ┆   ┆           ┆           ┆           ┆          │\n",
       "│ 0+01:00   ┆           ┆           ┆           ┆   ┆           ┆           ┆           ┆          │\n",
       "└───────────┴───────────┴───────────┴───────────┴───┴───────────┴───────────┴───────────┴──────────┘"
      ]
     },
     "execution_count": 195,
     "metadata": {},
     "output_type": "execute_result"
    }
   ],
   "source": [
    "generation_at = pl.read_csv(\"./Raw Data/generation_actual_all_AT.csv\", has_header=False)\n",
    "generation_at.head(3)"
   ]
  },
  {
   "cell_type": "code",
   "execution_count": 196,
   "metadata": {},
   "outputs": [
    {
     "data": {
      "text/plain": [
       "['date',\n",
       " 'biomass_actual_aggregated_at',\n",
       " 'biomass_actual_consumption_at',\n",
       " 'fossil_gas_actual_aggregated_at',\n",
       " 'fossil_gas_actual_consumption_at',\n",
       " 'fossil_hard_coal_actual_aggregated_at',\n",
       " 'fossil_hard_coal_actual_consumption_at',\n",
       " 'fossil_oil_actual_aggregated_at',\n",
       " 'fossil_oil_actual_consumption_at',\n",
       " 'geothermal_actual_aggregated_at',\n",
       " 'geothermal_actual_consumption_at',\n",
       " 'hydro_pumped_storage_actual_aggregated_at',\n",
       " 'hydro_pumped_storage_actual_consumption_at',\n",
       " 'hydro_run-of-river_and_poundage_actual_aggregated_at',\n",
       " 'hydro_run-of-river_and_poundage_actual_consumption_at',\n",
       " 'hydro_water_reservoir_actual_aggregated_at',\n",
       " 'hydro_water_reservoir_actual_consumption_at',\n",
       " 'other_actual_aggregated_at',\n",
       " 'other_actual_consumption_at',\n",
       " 'other_renewable_actual_aggregated_at',\n",
       " 'other_renewable_actual_consumption_at',\n",
       " 'solar_actual_aggregated_at',\n",
       " 'solar_actual_consumption_at',\n",
       " 'waste_actual_aggregated_at',\n",
       " 'waste_actual_consumption_at',\n",
       " 'wind_onshore_actual_aggregated_at',\n",
       " 'wind_onshore_actual_consumption_at']"
      ]
     },
     "execution_count": 196,
     "metadata": {},
     "output_type": "execute_result"
    }
   ],
   "source": [
    "column_names = (\n",
    "    generation_at.head(2)\n",
    "    .transpose()\n",
    "    .with_columns(pl.col(\"column_1\").fill_null(value=\"\"))\n",
    "    .with_columns(\n",
    "        pl.concat_str([pl.col(\"column_0\"), pl.col(\"column_1\")], separator=\" \")\n",
    "        .str.strip_chars()\n",
    "        .alias(\"header\")\n",
    "    )\n",
    "    .with_columns(pl.concat_str([\"header\", pl.lit(\"AT\")], separator=\" \").str.to_lowercase().str.replace_all(\" \", \"_\"))\n",
    "    [\"header\"]\n",
    "    .to_list()\n",
    ")\n",
    "\n",
    "column_names[0] = \"date\"\n",
    "\n",
    "column_names"
   ]
  },
  {
   "cell_type": "code",
   "execution_count": 197,
   "metadata": {},
   "outputs": [],
   "source": [
    "generation_at = (\n",
    "    generation_at.tail(-2)\n",
    "    .rename(dict(zip(generation_at.columns, column_names)))\n",
    "    .with_columns(pl.col(\"date\").str.to_datetime())\n",
    "    .with_columns(\n",
    "        pl.col(\"date\").dt.convert_time_zone(\"Europe/Zurich\").dt.truncate(\"1h\")\n",
    "    )\n",
    "    .with_columns(cs.string().cast(pl.Float64))\n",
    "    .group_by(\"date\")\n",
    "    .agg(pl.all().mean())\n",
    "    .with_columns((pl.col(\"date\").dt.dst_offset() == 0).cast(pl.Int16).alias(\"dst\"))\n",
    "    .with_columns(pl.col(\"date\").dt.strftime(\"%Y-%m-%d %H:%M\"))\n",
    "    .unique(subset=[\"date\", \"dst\"])\n",
    "    .sort(\"date\")\n",
    ")"
   ]
  },
  {
   "cell_type": "code",
   "execution_count": 198,
   "metadata": {},
   "outputs": [
    {
     "name": "stdout",
     "output_type": "stream",
     "text": [
      "shape: (44_568, 28)\n",
      "┌────────────┬────────────┬────────────┬────────────┬───┬────────────┬───────────┬───────────┬─────┐\n",
      "│ date       ┆ biomass_ac ┆ biomass_ac ┆ fossil_gas ┆ … ┆ waste_actu ┆ wind_onsh ┆ wind_onsh ┆ dst │\n",
      "│ ---        ┆ tual_aggre ┆ tual_consu ┆ _actual_ag ┆   ┆ al_consump ┆ ore_actua ┆ ore_actua ┆ --- │\n",
      "│ str        ┆ gated_at   ┆ mption_at  ┆ gregated_a ┆   ┆ tion_at    ┆ l_aggrega ┆ l_consump ┆ i16 │\n",
      "│            ┆ ---        ┆ ---        ┆ t          ┆   ┆ ---        ┆ ted_a…    ┆ tion_…    ┆     │\n",
      "│            ┆ f64        ┆ f64        ┆ ---        ┆   ┆ f64        ┆ ---       ┆ ---       ┆     │\n",
      "│            ┆            ┆            ┆ f64        ┆   ┆            ┆ f64       ┆ f64       ┆     │\n",
      "╞════════════╪════════════╪════════════╪════════════╪═══╪════════════╪═══════════╪═══════════╪═════╡\n",
      "│ 2019-01-01 ┆ 304.0      ┆ 0.0        ┆ 1282.75    ┆ … ┆ 0.0        ┆ 248.0     ┆ 0.0       ┆ 1   │\n",
      "│ 00:00      ┆            ┆            ┆            ┆   ┆            ┆           ┆           ┆     │\n",
      "│ 2019-01-01 ┆ 304.0      ┆ 0.0        ┆ 945.75     ┆ … ┆ 0.0        ┆ 189.0     ┆ 0.0       ┆ 1   │\n",
      "│ 01:00      ┆            ┆            ┆            ┆   ┆            ┆           ┆           ┆     │\n",
      "│ 2019-01-01 ┆ 304.0      ┆ 0.0        ┆ 618.75     ┆ … ┆ 0.0        ┆ 142.0     ┆ 0.0       ┆ 1   │\n",
      "│ 02:00      ┆            ┆            ┆            ┆   ┆            ┆           ┆           ┆     │\n",
      "│ 2019-01-01 ┆ 304.0      ┆ 0.0        ┆ 575.5      ┆ … ┆ 0.0        ┆ 118.0     ┆ 0.0       ┆ 1   │\n",
      "│ 03:00      ┆            ┆            ┆            ┆   ┆            ┆           ┆           ┆     │\n",
      "│ 2019-01-01 ┆ 304.0      ┆ 0.0        ┆ 449.5      ┆ … ┆ 0.0        ┆ 165.0     ┆ 0.0       ┆ 1   │\n",
      "│ 04:00      ┆            ┆            ┆            ┆   ┆            ┆           ┆           ┆     │\n",
      "│ …          ┆ …          ┆ …          ┆ …          ┆ … ┆ …          ┆ …         ┆ …         ┆ …   │\n",
      "│ 2024-01-31 ┆ 192.0      ┆ 0.0        ┆ 2511.25    ┆ … ┆ 0.0        ┆ 34.0      ┆ 0.0       ┆ 1   │\n",
      "│ 19:00      ┆            ┆            ┆            ┆   ┆            ┆           ┆           ┆     │\n",
      "│ 2024-01-31 ┆ 192.0      ┆ 0.0        ┆ 2518.0     ┆ … ┆ 0.0        ┆ 38.0      ┆ 0.0       ┆ 1   │\n",
      "│ 20:00      ┆            ┆            ┆            ┆   ┆            ┆           ┆           ┆     │\n",
      "│ 2024-01-31 ┆ 190.0      ┆ 0.0        ┆ 2187.0     ┆ … ┆ 0.0        ┆ 61.0      ┆ 0.0       ┆ 1   │\n",
      "│ 21:00      ┆            ┆            ┆            ┆   ┆            ┆           ┆           ┆     │\n",
      "│ 2024-01-31 ┆ 192.0      ┆ 0.0        ┆ 1832.75    ┆ … ┆ 0.0        ┆ 111.0     ┆ 0.0       ┆ 1   │\n",
      "│ 22:00      ┆            ┆            ┆            ┆   ┆            ┆           ┆           ┆     │\n",
      "│ 2024-01-31 ┆ 192.0      ┆ 0.0        ┆ 1575.5     ┆ … ┆ 0.0        ┆ 147.0     ┆ 0.0       ┆ 1   │\n",
      "│ 23:00      ┆            ┆            ┆            ┆   ┆            ┆           ┆           ┆     │\n",
      "└────────────┴────────────┴────────────┴────────────┴───┴────────────┴───────────┴───────────┴─────┘\n",
      "shape: (5, 2)\n",
      "┌──────────────────┬───────┐\n",
      "│ date             ┆ count │\n",
      "│ ---              ┆ ---   │\n",
      "│ str              ┆ u32   │\n",
      "╞══════════════════╪═══════╡\n",
      "│ 2019-10-27 02:00 ┆ 2     │\n",
      "│ 2020-10-25 02:00 ┆ 2     │\n",
      "│ 2021-10-31 02:00 ┆ 2     │\n",
      "│ 2022-10-30 02:00 ┆ 2     │\n",
      "│ 2023-10-29 02:00 ┆ 2     │\n",
      "└──────────────────┴───────┘\n"
     ]
    }
   ],
   "source": [
    "generation_at.pipe(print)\n",
    "generation_at[\"date\"].value_counts().filter(pl.col(\"count\") != 1).sort(\"date\").pipe(print)"
   ]
  },
  {
   "cell_type": "markdown",
   "metadata": {},
   "source": [
    "#### Switzerland"
   ]
  },
  {
   "cell_type": "code",
   "execution_count": 199,
   "metadata": {},
   "outputs": [
    {
     "data": {
      "text/html": [
       "<div><style>\n",
       ".dataframe > thead > tr,\n",
       ".dataframe > tbody > tr {\n",
       "  text-align: right;\n",
       "  white-space: pre-wrap;\n",
       "}\n",
       "</style>\n",
       "<small>shape: (3, 7)</small><table border=\"1\" class=\"dataframe\"><thead><tr><th>column_1</th><th>column_2</th><th>column_3</th><th>column_4</th><th>column_5</th><th>column_6</th><th>column_7</th></tr><tr><td>str</td><td>str</td><td>str</td><td>str</td><td>str</td><td>str</td><td>str</td></tr></thead><tbody><tr><td>&quot;date&quot;</td><td>&quot;Hydro Pumped S…</td><td>&quot;Hydro Run-of-r…</td><td>&quot;Hydro Water Re…</td><td>&quot;Nuclear&quot;</td><td>&quot;Solar&quot;</td><td>&quot;Wind Onshore&quot;</td></tr><tr><td>&quot;2019-01-01 00:…</td><td>&quot;81.0&quot;</td><td>&quot;123.0&quot;</td><td>&quot;481.0&quot;</td><td>&quot;3243.0&quot;</td><td>&quot;0.0&quot;</td><td>&quot;1.0&quot;</td></tr><tr><td>&quot;2019-01-01 01:…</td><td>&quot;76.0&quot;</td><td>&quot;124.0&quot;</td><td>&quot;393.0&quot;</td><td>&quot;3243.0&quot;</td><td>&quot;0.0&quot;</td><td>&quot;0.0&quot;</td></tr></tbody></table></div>"
      ],
      "text/plain": [
       "shape: (3, 7)\n",
       "┌───────────────┬───────────────┬──────────────┬──────────────┬──────────┬──────────┬──────────────┐\n",
       "│ column_1      ┆ column_2      ┆ column_3     ┆ column_4     ┆ column_5 ┆ column_6 ┆ column_7     │\n",
       "│ ---           ┆ ---           ┆ ---          ┆ ---          ┆ ---      ┆ ---      ┆ ---          │\n",
       "│ str           ┆ str           ┆ str          ┆ str          ┆ str      ┆ str      ┆ str          │\n",
       "╞═══════════════╪═══════════════╪══════════════╪══════════════╪══════════╪══════════╪══════════════╡\n",
       "│ date          ┆ Hydro Pumped  ┆ Hydro        ┆ Hydro Water  ┆ Nuclear  ┆ Solar    ┆ Wind Onshore │\n",
       "│               ┆ Storage       ┆ Run-of-river ┆ Reservoir    ┆          ┆          ┆              │\n",
       "│               ┆               ┆ and poundage ┆              ┆          ┆          ┆              │\n",
       "│ 2019-01-01    ┆ 81.0          ┆ 123.0        ┆ 481.0        ┆ 3243.0   ┆ 0.0      ┆ 1.0          │\n",
       "│ 00:00:00+01:0 ┆               ┆              ┆              ┆          ┆          ┆              │\n",
       "│ 0             ┆               ┆              ┆              ┆          ┆          ┆              │\n",
       "│ 2019-01-01    ┆ 76.0          ┆ 124.0        ┆ 393.0        ┆ 3243.0   ┆ 0.0      ┆ 0.0          │\n",
       "│ 01:00:00+01:0 ┆               ┆              ┆              ┆          ┆          ┆              │\n",
       "│ 0             ┆               ┆              ┆              ┆          ┆          ┆              │\n",
       "└───────────────┴───────────────┴──────────────┴──────────────┴──────────┴──────────┴──────────────┘"
      ]
     },
     "execution_count": 199,
     "metadata": {},
     "output_type": "execute_result"
    }
   ],
   "source": [
    "generation_ch = pl.read_csv(\"./Raw Data/generation_actual_all_CH.csv\", has_header=False)\n",
    "generation_ch.head(3)"
   ]
  },
  {
   "cell_type": "code",
   "execution_count": 200,
   "metadata": {},
   "outputs": [
    {
     "data": {
      "text/plain": [
       "['date',\n",
       " 'hydro_pumped_storage_ch',\n",
       " 'hydro_run-of-river_and_poundage_ch',\n",
       " 'hydro_water_reservoir_ch',\n",
       " 'nuclear_ch',\n",
       " 'solar_ch',\n",
       " 'wind_onshore_ch']"
      ]
     },
     "execution_count": 200,
     "metadata": {},
     "output_type": "execute_result"
    }
   ],
   "source": [
    "column_names = (\n",
    "    generation_ch.head(1)\n",
    "    .transpose()\n",
    "    .with_columns(pl.col(\"column_0\").str.strip_chars())\n",
    "    .with_columns(pl.col(\"column_0\").str.to_lowercase().str.replace_all(\" \", \"_\"))\n",
    "    .with_columns(pl.concat_str([pl.col(\"column_0\"), pl.lit(\"_ch\")], separator=\"\"))[\n",
    "        \"column_0\"\n",
    "    ]\n",
    "    .to_list()\n",
    ")\n",
    "\n",
    "column_names[0] = \"date\"\n",
    "\n",
    "column_names"
   ]
  },
  {
   "cell_type": "code",
   "execution_count": 201,
   "metadata": {},
   "outputs": [],
   "source": [
    "generation_ch = (\n",
    "    generation_ch.tail(-1)\n",
    "    .rename(dict(zip(generation_ch.columns, column_names)))\n",
    "    .with_columns(pl.col(\"date\").str.to_datetime())\n",
    "    .with_columns(\n",
    "        pl.col(\"date\").dt.convert_time_zone(\"Europe/Zurich\").dt.truncate(\"1h\")\n",
    "    )\n",
    "    .with_columns(cs.string().cast(pl.Float64))\n",
    "    .with_columns((pl.col(\"date\").dt.dst_offset() == 0).cast(pl.Int16).alias(\"dst\"))\n",
    "    .with_columns(pl.col(\"date\").dt.strftime(\"%Y-%m-%d %H:%M\"))\n",
    "    .unique(subset=[\"date\", \"dst\"])\n",
    "    .sort(\"date\")\n",
    ")"
   ]
  },
  {
   "cell_type": "code",
   "execution_count": 202,
   "metadata": {},
   "outputs": [
    {
     "name": "stdout",
     "output_type": "stream",
     "text": [
      "shape: (44_563, 8)\n",
      "┌─────────────┬─────────────┬─────────────┬─────────────┬────────────┬──────────┬────────────┬─────┐\n",
      "│ date        ┆ hydro_pumpe ┆ hydro_run-o ┆ hydro_water ┆ nuclear_ch ┆ solar_ch ┆ wind_onsho ┆ dst │\n",
      "│ ---         ┆ d_storage_c ┆ f-river_and ┆ _reservoir_ ┆ ---        ┆ ---      ┆ re_ch      ┆ --- │\n",
      "│ str         ┆ h           ┆ _poundage_… ┆ ch          ┆ f64        ┆ f64      ┆ ---        ┆ i16 │\n",
      "│             ┆ ---         ┆ ---         ┆ ---         ┆            ┆          ┆ f64        ┆     │\n",
      "│             ┆ f64         ┆ f64         ┆ f64         ┆            ┆          ┆            ┆     │\n",
      "╞═════════════╪═════════════╪═════════════╪═════════════╪════════════╪══════════╪════════════╪═════╡\n",
      "│ 2019-01-01  ┆ 81.0        ┆ 123.0       ┆ 481.0       ┆ 3243.0     ┆ 0.0      ┆ 1.0        ┆ 1   │\n",
      "│ 00:00       ┆             ┆             ┆             ┆            ┆          ┆            ┆     │\n",
      "│ 2019-01-01  ┆ 76.0        ┆ 124.0       ┆ 393.0       ┆ 3243.0     ┆ 0.0      ┆ 0.0        ┆ 1   │\n",
      "│ 01:00       ┆             ┆             ┆             ┆            ┆          ┆            ┆     │\n",
      "│ 2019-01-01  ┆ 31.0        ┆ 126.0       ┆ 345.0       ┆ 3245.0     ┆ 0.0      ┆ 0.0        ┆ 1   │\n",
      "│ 02:00       ┆             ┆             ┆             ┆            ┆          ┆            ┆     │\n",
      "│ 2019-01-01  ┆ 18.0        ┆ 135.0       ┆ 312.0       ┆ 3245.0     ┆ 0.0      ┆ 1.0        ┆ 1   │\n",
      "│ 03:00       ┆             ┆             ┆             ┆            ┆          ┆            ┆     │\n",
      "│ 2019-01-01  ┆ 13.0        ┆ 135.0       ┆ 339.0       ┆ 3245.0     ┆ 0.0      ┆ 2.0        ┆ 1   │\n",
      "│ 04:00       ┆             ┆             ┆             ┆            ┆          ┆            ┆     │\n",
      "│ …           ┆ …           ┆ …           ┆ …           ┆ …          ┆ …        ┆ …          ┆ …   │\n",
      "│ 2024-01-31  ┆ 2306.0      ┆ 200.0       ┆ 2893.0      ┆ 3015.0     ┆ 0.0      ┆ 10.0       ┆ 1   │\n",
      "│ 19:00       ┆             ┆             ┆             ┆            ┆          ┆            ┆     │\n",
      "│ 2024-01-31  ┆ 1654.0      ┆ 151.0       ┆ 2522.0      ┆ 3016.0     ┆ 0.0      ┆ 12.0       ┆ 1   │\n",
      "│ 20:00       ┆             ┆             ┆             ┆            ┆          ┆            ┆     │\n",
      "│ 2024-01-31  ┆ 1115.0      ┆ 145.0       ┆ 1559.0      ┆ 3018.0     ┆ 0.0      ┆ 14.0       ┆ 1   │\n",
      "│ 21:00       ┆             ┆             ┆             ┆            ┆          ┆            ┆     │\n",
      "│ 2024-01-31  ┆ 658.0       ┆ 132.0       ┆ 1339.0      ┆ 3018.0     ┆ 0.0      ┆ 20.0       ┆ 1   │\n",
      "│ 22:00       ┆             ┆             ┆             ┆            ┆          ┆            ┆     │\n",
      "│ 2024-01-31  ┆ 283.0       ┆ 135.0       ┆ 634.0       ┆ 3021.0     ┆ 0.0      ┆ 17.0       ┆ 1   │\n",
      "│ 23:00       ┆             ┆             ┆             ┆            ┆          ┆            ┆     │\n",
      "└─────────────┴─────────────┴─────────────┴─────────────┴────────────┴──────────┴────────────┴─────┘\n",
      "shape: (5, 2)\n",
      "┌──────────────────┬───────┐\n",
      "│ date             ┆ count │\n",
      "│ ---              ┆ ---   │\n",
      "│ str              ┆ u32   │\n",
      "╞══════════════════╪═══════╡\n",
      "│ 2019-10-27 02:00 ┆ 2     │\n",
      "│ 2020-10-25 02:00 ┆ 2     │\n",
      "│ 2021-10-31 02:00 ┆ 2     │\n",
      "│ 2022-10-30 02:00 ┆ 2     │\n",
      "│ 2023-10-29 02:00 ┆ 2     │\n",
      "└──────────────────┴───────┘\n"
     ]
    }
   ],
   "source": [
    "generation_ch.pipe(print)\n",
    "generation_ch[\"date\"].value_counts().filter(pl.col(\"count\") != 1).sort(\"date\").pipe(print)"
   ]
  },
  {
   "cell_type": "markdown",
   "metadata": {},
   "source": [
    "#### Germany"
   ]
  },
  {
   "cell_type": "code",
   "execution_count": 203,
   "metadata": {},
   "outputs": [
    {
     "data": {
      "text/html": [
       "<div><style>\n",
       ".dataframe > thead > tr,\n",
       ".dataframe > tbody > tr {\n",
       "  text-align: right;\n",
       "  white-space: pre-wrap;\n",
       "}\n",
       "</style>\n",
       "<small>shape: (3, 26)</small><table border=\"1\" class=\"dataframe\"><thead><tr><th>column_1</th><th>column_2</th><th>column_3</th><th>column_4</th><th>column_5</th><th>column_6</th><th>column_7</th><th>column_8</th><th>column_9</th><th>column_10</th><th>column_11</th><th>column_12</th><th>column_13</th><th>column_14</th><th>column_15</th><th>column_16</th><th>column_17</th><th>column_18</th><th>column_19</th><th>column_20</th><th>column_21</th><th>column_22</th><th>column_23</th><th>column_24</th><th>column_25</th><th>column_26</th></tr><tr><td>str</td><td>str</td><td>str</td><td>str</td><td>str</td><td>str</td><td>str</td><td>str</td><td>str</td><td>str</td><td>str</td><td>str</td><td>str</td><td>str</td><td>str</td><td>str</td><td>str</td><td>str</td><td>str</td><td>str</td><td>str</td><td>str</td><td>str</td><td>str</td><td>str</td><td>str</td></tr></thead><tbody><tr><td>&quot;date&quot;</td><td>&quot;Biomass&quot;</td><td>&quot;Fossil Brown c…</td><td>&quot;Fossil Coal-de…</td><td>&quot;Fossil Gas&quot;</td><td>&quot;Fossil Gas&quot;</td><td>&quot;Fossil Hard co…</td><td>&quot;Fossil Oil&quot;</td><td>&quot;Fossil Oil&quot;</td><td>&quot;Geothermal&quot;</td><td>&quot;Hydro Pumped S…</td><td>&quot;Hydro Pumped S…</td><td>&quot;Hydro Run-of-r…</td><td>&quot;Hydro Water Re…</td><td>&quot;Hydro Water Re…</td><td>&quot;Nuclear&quot;</td><td>&quot;Nuclear&quot;</td><td>&quot;Other&quot;</td><td>&quot;Other renewabl…</td><td>&quot;Other renewabl…</td><td>&quot;Solar&quot;</td><td>&quot;Solar&quot;</td><td>&quot;Waste&quot;</td><td>&quot;Wind Offshore&quot;</td><td>&quot;Wind Onshore&quot;</td><td>&quot;Wind Onshore&quot;</td></tr><tr><td>null</td><td>&quot;Actual Aggrega…</td><td>&quot;Actual Aggrega…</td><td>&quot;Actual Aggrega…</td><td>&quot;Actual Aggrega…</td><td>&quot;Actual Consump…</td><td>&quot;Actual Aggrega…</td><td>&quot;Actual Aggrega…</td><td>&quot;Actual Consump…</td><td>&quot;Actual Aggrega…</td><td>&quot;Actual Aggrega…</td><td>&quot;Actual Consump…</td><td>&quot;Actual Aggrega…</td><td>&quot;Actual Aggrega…</td><td>&quot;Actual Consump…</td><td>&quot;Actual Aggrega…</td><td>&quot;Actual Consump…</td><td>&quot;Actual Aggrega…</td><td>&quot;Actual Aggrega…</td><td>&quot;Actual Consump…</td><td>&quot;Actual Aggrega…</td><td>&quot;Actual Consump…</td><td>&quot;Actual Aggrega…</td><td>&quot;Actual Aggrega…</td><td>&quot;Actual Aggrega…</td><td>&quot;Actual Consump…</td></tr><tr><td>&quot;2019-01-01 00:…</td><td>&quot;4812.0&quot;</td><td>&quot;6932.0&quot;</td><td>&quot;273.0&quot;</td><td>&quot;3410.0&quot;</td><td>&quot;1.0&quot;</td><td>&quot;3345.0&quot;</td><td>&quot;482.0&quot;</td><td>null</td><td>&quot;19.0&quot;</td><td>&quot;350.0&quot;</td><td>&quot;1827.0&quot;</td><td>&quot;1485.0&quot;</td><td>&quot;132.0&quot;</td><td>null</td><td>&quot;9002.0&quot;</td><td>null</td><td>&quot;475.0&quot;</td><td>&quot;107.0&quot;</td><td>null</td><td>&quot;0.0&quot;</td><td>null</td><td>&quot;783.0&quot;</td><td>&quot;3177.0&quot;</td><td>&quot;19366.0&quot;</td><td>null</td></tr></tbody></table></div>"
      ],
      "text/plain": [
       "shape: (3, 26)\n",
       "┌───────────┬───────────┬───────────┬───────────┬───┬───────────┬───────────┬───────────┬──────────┐\n",
       "│ column_1  ┆ column_2  ┆ column_3  ┆ column_4  ┆ … ┆ column_23 ┆ column_24 ┆ column_25 ┆ column_2 │\n",
       "│ ---       ┆ ---       ┆ ---       ┆ ---       ┆   ┆ ---       ┆ ---       ┆ ---       ┆ 6        │\n",
       "│ str       ┆ str       ┆ str       ┆ str       ┆   ┆ str       ┆ str       ┆ str       ┆ ---      │\n",
       "│           ┆           ┆           ┆           ┆   ┆           ┆           ┆           ┆ str      │\n",
       "╞═══════════╪═══════════╪═══════════╪═══════════╪═══╪═══════════╪═══════════╪═══════════╪══════════╡\n",
       "│ date      ┆ Biomass   ┆ Fossil    ┆ Fossil    ┆ … ┆ Waste     ┆ Wind      ┆ Wind      ┆ Wind     │\n",
       "│           ┆           ┆ Brown coa ┆ Coal-deri ┆   ┆           ┆ Offshore  ┆ Onshore   ┆ Onshore  │\n",
       "│           ┆           ┆ l/Lignite ┆ ved gas   ┆   ┆           ┆           ┆           ┆          │\n",
       "│ null      ┆ Actual    ┆ Actual    ┆ Actual    ┆ … ┆ Actual    ┆ Actual    ┆ Actual    ┆ Actual   │\n",
       "│           ┆ Aggregate ┆ Aggregate ┆ Aggregate ┆   ┆ Aggregate ┆ Aggregate ┆ Aggregate ┆ Consumpt │\n",
       "│           ┆ d         ┆ d         ┆ d         ┆   ┆ d         ┆ d         ┆ d         ┆ ion      │\n",
       "│ 2019-01-0 ┆ 4812.0    ┆ 6932.0    ┆ 273.0     ┆ … ┆ 783.0     ┆ 3177.0    ┆ 19366.0   ┆ null     │\n",
       "│ 1 00:00:0 ┆           ┆           ┆           ┆   ┆           ┆           ┆           ┆          │\n",
       "│ 0+01:00   ┆           ┆           ┆           ┆   ┆           ┆           ┆           ┆          │\n",
       "└───────────┴───────────┴───────────┴───────────┴───┴───────────┴───────────┴───────────┴──────────┘"
      ]
     },
     "execution_count": 203,
     "metadata": {},
     "output_type": "execute_result"
    }
   ],
   "source": [
    "generation_de = pl.read_csv(\"./Raw Data/generation_actual_all_DE_LU.csv\", has_header=False)\n",
    "generation_de.head(3)"
   ]
  },
  {
   "cell_type": "code",
   "execution_count": 204,
   "metadata": {},
   "outputs": [
    {
     "data": {
      "text/plain": [
       "['date',\n",
       " 'biomass_actual_aggregated_de',\n",
       " 'fossil_brown_coal_lignite_actual_aggregated_de',\n",
       " 'fossil_coal-derived_gas_actual_aggregated_de',\n",
       " 'fossil_gas_actual_aggregated_de',\n",
       " 'fossil_gas_actual_consumption_de',\n",
       " 'fossil_hard_coal_actual_aggregated_de',\n",
       " 'fossil_oil_actual_aggregated_de',\n",
       " 'fossil_oil_actual_consumption_de',\n",
       " 'geothermal_actual_aggregated_de',\n",
       " 'hydro_pumped_storage_actual_aggregated_de',\n",
       " 'hydro_pumped_storage_actual_consumption_de',\n",
       " 'hydro_run-of-river_and_poundage_actual_aggregated_de',\n",
       " 'hydro_water_reservoir_actual_aggregated_de',\n",
       " 'hydro_water_reservoir_actual_consumption_de',\n",
       " 'nuclear_actual_aggregated_de',\n",
       " 'nuclear_actual_consumption_de',\n",
       " 'other_actual_aggregated_de',\n",
       " 'other_renewable_actual_aggregated_de',\n",
       " 'other_renewable_actual_consumption_de',\n",
       " 'solar_actual_aggregated_de',\n",
       " 'solar_actual_consumption_de',\n",
       " 'waste_actual_aggregated_de',\n",
       " 'wind_offshore_actual_aggregated_de',\n",
       " 'wind_onshore_actual_aggregated_de',\n",
       " 'wind_onshore_actual_consumption_de']"
      ]
     },
     "execution_count": 204,
     "metadata": {},
     "output_type": "execute_result"
    }
   ],
   "source": [
    "column_names = (\n",
    "    generation_de.head(2)\n",
    "    .transpose()\n",
    "    .with_columns(pl.col(\"column_1\").fill_null(value=\"\"))\n",
    "    .with_columns(\n",
    "        pl.concat_str([pl.col(\"column_0\"), pl.col(\"column_1\")], separator=\" \")\n",
    "        .str.strip_chars()\n",
    "        .alias(\"header\")\n",
    "    )\n",
    "    .with_columns(pl.concat_str([\"header\", pl.lit(\"DE\")], separator=\" \").str.to_lowercase().str.replace_all(\" \", \"_\").str.replace_all(\"/\", \"_\"))\n",
    "    [\"header\"]\n",
    "    .to_list()\n",
    ")\n",
    "\n",
    "column_names[0] = \"date\"\n",
    "\n",
    "column_names"
   ]
  },
  {
   "cell_type": "code",
   "execution_count": 205,
   "metadata": {},
   "outputs": [],
   "source": [
    "generation_de = (\n",
    "    generation_de.tail(-2)\n",
    "    .rename(dict(zip(generation_de.columns, column_names)))\n",
    "    .with_columns(pl.col(\"date\").str.to_datetime())\n",
    "    .with_columns(\n",
    "        pl.col(\"date\").dt.convert_time_zone(\"Europe/Zurich\").dt.truncate(\"1h\")\n",
    "    )\n",
    "    .with_columns(cs.string().cast(pl.Float64))\n",
    "    .group_by(\"date\")\n",
    "    .agg(pl.all().mean())\n",
    "    .with_columns((pl.col(\"date\").dt.dst_offset() == 0).cast(pl.Int16).alias(\"dst\"))\n",
    "    .with_columns(pl.col(\"date\").dt.strftime(\"%Y-%m-%d %H:%M\"))\n",
    "    .unique(subset=[\"date\", \"dst\"])\n",
    "    .sort(\"date\")\n",
    ")"
   ]
  },
  {
   "cell_type": "code",
   "execution_count": 206,
   "metadata": {},
   "outputs": [
    {
     "name": "stdout",
     "output_type": "stream",
     "text": [
      "shape: (44_568, 27)\n",
      "┌────────────┬────────────┬────────────┬────────────┬───┬────────────┬───────────┬───────────┬─────┐\n",
      "│ date       ┆ biomass_ac ┆ fossil_bro ┆ fossil_coa ┆ … ┆ wind_offsh ┆ wind_onsh ┆ wind_onsh ┆ dst │\n",
      "│ ---        ┆ tual_aggre ┆ wn_coal_li ┆ l-derived_ ┆   ┆ ore_actual ┆ ore_actua ┆ ore_actua ┆ --- │\n",
      "│ str        ┆ gated_de   ┆ gnite_actu ┆ gas_actual ┆   ┆ _aggregate ┆ l_aggrega ┆ l_consump ┆ i16 │\n",
      "│            ┆ ---        ┆ al…        ┆ _a…        ┆   ┆ d_…        ┆ ted_d…    ┆ tion_…    ┆     │\n",
      "│            ┆ f64        ┆ ---        ┆ ---        ┆   ┆ ---        ┆ ---       ┆ ---       ┆     │\n",
      "│            ┆            ┆ f64        ┆ f64        ┆   ┆ f64        ┆ f64       ┆ f64       ┆     │\n",
      "╞════════════╪════════════╪════════════╪════════════╪═══╪════════════╪═══════════╪═══════════╪═════╡\n",
      "│ 2019-01-01 ┆ 4831.25    ┆ 6335.0     ┆ 429.0      ┆ … ┆ 3134.0     ┆ 20401.5   ┆ null      ┆ 1   │\n",
      "│ 00:00      ┆            ┆            ┆            ┆   ┆            ┆           ┆           ┆     │\n",
      "│ 2019-01-01 ┆ 4824.5     ┆ 5379.5     ┆ 455.5      ┆ … ┆ 2868.25    ┆ 22384.0   ┆ null      ┆ 1   │\n",
      "│ 01:00      ┆            ┆            ┆            ┆   ┆            ┆           ┆           ┆     │\n",
      "│ 2019-01-01 ┆ 4782.25    ┆ 5341.0     ┆ 469.5      ┆ … ┆ 2460.25    ┆ 23238.25  ┆ null      ┆ 1   │\n",
      "│ 02:00      ┆            ┆            ┆            ┆   ┆            ┆           ┆           ┆     │\n",
      "│ 2019-01-01 ┆ 4766.25    ┆ 5270.75    ┆ 501.75     ┆ … ┆ 2696.5     ┆ 24530.75  ┆ null      ┆ 1   │\n",
      "│ 03:00      ┆            ┆            ┆            ┆   ┆            ┆           ┆           ┆     │\n",
      "│ 2019-01-01 ┆ 4770.5     ┆ 5178.75    ┆ 520.5      ┆ … ┆ 2578.0     ┆ 26452.0   ┆ null      ┆ 1   │\n",
      "│ 04:00      ┆            ┆            ┆            ┆   ┆            ┆           ┆           ┆     │\n",
      "│ …          ┆ …          ┆ …          ┆ …          ┆ … ┆ …          ┆ …         ┆ …         ┆ …   │\n",
      "│ 2024-01-31 ┆ 4675.25    ┆ 8755.25    ┆ null       ┆ … ┆ 4872.0     ┆ 31227.0   ┆ 0.0       ┆ 1   │\n",
      "│ 19:00      ┆            ┆            ┆            ┆   ┆            ┆           ┆           ┆     │\n",
      "│ 2024-01-31 ┆ 4674.0     ┆ 7983.5     ┆ null       ┆ … ┆ 4038.0     ┆ 33431.25  ┆ 0.0       ┆ 1   │\n",
      "│ 20:00      ┆            ┆            ┆            ┆   ┆            ┆           ┆           ┆     │\n",
      "│ 2024-01-31 ┆ 4654.25    ┆ 7449.25    ┆ null       ┆ … ┆ 3433.25    ┆ 35978.5   ┆ 0.0       ┆ 1   │\n",
      "│ 21:00      ┆            ┆            ┆            ┆   ┆            ┆           ┆           ┆     │\n",
      "│ 2024-01-31 ┆ 4630.25    ┆ 5675.0     ┆ null       ┆ … ┆ 3804.5     ┆ 36944.25  ┆ 0.0       ┆ 1   │\n",
      "│ 22:00      ┆            ┆            ┆            ┆   ┆            ┆           ┆           ┆     │\n",
      "│ 2024-01-31 ┆ 4646.25    ┆ 5137.5     ┆ null       ┆ … ┆ 3252.75    ┆ 37334.5   ┆ 0.0       ┆ 1   │\n",
      "│ 23:00      ┆            ┆            ┆            ┆   ┆            ┆           ┆           ┆     │\n",
      "└────────────┴────────────┴────────────┴────────────┴───┴────────────┴───────────┴───────────┴─────┘\n",
      "shape: (5, 2)\n",
      "┌──────────────────┬───────┐\n",
      "│ date             ┆ count │\n",
      "│ ---              ┆ ---   │\n",
      "│ str              ┆ u32   │\n",
      "╞══════════════════╪═══════╡\n",
      "│ 2019-10-27 02:00 ┆ 2     │\n",
      "│ 2020-10-25 02:00 ┆ 2     │\n",
      "│ 2021-10-31 02:00 ┆ 2     │\n",
      "│ 2022-10-30 02:00 ┆ 2     │\n",
      "│ 2023-10-29 02:00 ┆ 2     │\n",
      "└──────────────────┴───────┘\n"
     ]
    }
   ],
   "source": [
    "generation_de.pipe(print)\n",
    "generation_de[\"date\"].value_counts().filter(pl.col(\"count\") != 1).sort(\"date\").pipe(print)"
   ]
  },
  {
   "cell_type": "markdown",
   "metadata": {},
   "source": [
    "#### France"
   ]
  },
  {
   "cell_type": "code",
   "execution_count": 207,
   "metadata": {},
   "outputs": [
    {
     "data": {
      "text/html": [
       "<div><style>\n",
       ".dataframe > thead > tr,\n",
       ".dataframe > tbody > tr {\n",
       "  text-align: right;\n",
       "  white-space: pre-wrap;\n",
       "}\n",
       "</style>\n",
       "<small>shape: (3, 17)</small><table border=\"1\" class=\"dataframe\"><thead><tr><th>column_1</th><th>column_2</th><th>column_3</th><th>column_4</th><th>column_5</th><th>column_6</th><th>column_7</th><th>column_8</th><th>column_9</th><th>column_10</th><th>column_11</th><th>column_12</th><th>column_13</th><th>column_14</th><th>column_15</th><th>column_16</th><th>column_17</th></tr><tr><td>str</td><td>str</td><td>str</td><td>str</td><td>str</td><td>str</td><td>str</td><td>str</td><td>str</td><td>str</td><td>str</td><td>str</td><td>str</td><td>str</td><td>str</td><td>str</td><td>str</td></tr></thead><tbody><tr><td>&quot;date&quot;</td><td>&quot;Biomass&quot;</td><td>&quot;Fossil Gas&quot;</td><td>&quot;Fossil Hard co…</td><td>&quot;Fossil Hard co…</td><td>&quot;Fossil Oil&quot;</td><td>&quot;Hydro Pumped S…</td><td>&quot;Hydro Pumped S…</td><td>&quot;Hydro Run-of-r…</td><td>&quot;Hydro Water Re…</td><td>&quot;Hydro Water Re…</td><td>&quot;Nuclear&quot;</td><td>&quot;Solar&quot;</td><td>&quot;Waste&quot;</td><td>&quot;Wind Offshore&quot;</td><td>&quot;Wind Offshore&quot;</td><td>&quot;Wind Onshore&quot;</td></tr><tr><td>null</td><td>&quot;Actual Aggrega…</td><td>&quot;Actual Aggrega…</td><td>&quot;Actual Aggrega…</td><td>&quot;Actual Consump…</td><td>&quot;Actual Aggrega…</td><td>&quot;Actual Aggrega…</td><td>&quot;Actual Consump…</td><td>&quot;Actual Aggrega…</td><td>&quot;Actual Aggrega…</td><td>&quot;Actual Consump…</td><td>&quot;Actual Aggrega…</td><td>&quot;Actual Aggrega…</td><td>&quot;Actual Aggrega…</td><td>&quot;Actual Aggrega…</td><td>&quot;Actual Consump…</td><td>&quot;Actual Aggrega…</td></tr><tr><td>&quot;2019-01-01 00:…</td><td>&quot;351.0&quot;</td><td>&quot;2722.0&quot;</td><td>&quot;0.0&quot;</td><td>null</td><td>&quot;207.0&quot;</td><td>null</td><td>&quot;1377.0&quot;</td><td>&quot;3552.0&quot;</td><td>&quot;1054.0&quot;</td><td>null</td><td>&quot;55627.0&quot;</td><td>&quot;0.0&quot;</td><td>&quot;253.0&quot;</td><td>null</td><td>null</td><td>&quot;1622.0&quot;</td></tr></tbody></table></div>"
      ],
      "text/plain": [
       "shape: (3, 17)\n",
       "┌───────────┬───────────┬───────────┬───────────┬───┬───────────┬───────────┬───────────┬──────────┐\n",
       "│ column_1  ┆ column_2  ┆ column_3  ┆ column_4  ┆ … ┆ column_14 ┆ column_15 ┆ column_16 ┆ column_1 │\n",
       "│ ---       ┆ ---       ┆ ---       ┆ ---       ┆   ┆ ---       ┆ ---       ┆ ---       ┆ 7        │\n",
       "│ str       ┆ str       ┆ str       ┆ str       ┆   ┆ str       ┆ str       ┆ str       ┆ ---      │\n",
       "│           ┆           ┆           ┆           ┆   ┆           ┆           ┆           ┆ str      │\n",
       "╞═══════════╪═══════════╪═══════════╪═══════════╪═══╪═══════════╪═══════════╪═══════════╪══════════╡\n",
       "│ date      ┆ Biomass   ┆ Fossil    ┆ Fossil    ┆ … ┆ Waste     ┆ Wind      ┆ Wind      ┆ Wind     │\n",
       "│           ┆           ┆ Gas       ┆ Hard coal ┆   ┆           ┆ Offshore  ┆ Offshore  ┆ Onshore  │\n",
       "│ null      ┆ Actual    ┆ Actual    ┆ Actual    ┆ … ┆ Actual    ┆ Actual    ┆ Actual    ┆ Actual   │\n",
       "│           ┆ Aggregate ┆ Aggregate ┆ Aggregate ┆   ┆ Aggregate ┆ Aggregate ┆ Consumpti ┆ Aggregat │\n",
       "│           ┆ d         ┆ d         ┆ d         ┆   ┆ d         ┆ d         ┆ on        ┆ ed       │\n",
       "│ 2019-01-0 ┆ 351.0     ┆ 2722.0    ┆ 0.0       ┆ … ┆ 253.0     ┆ null      ┆ null      ┆ 1622.0   │\n",
       "│ 1 00:00:0 ┆           ┆           ┆           ┆   ┆           ┆           ┆           ┆          │\n",
       "│ 0+01:00   ┆           ┆           ┆           ┆   ┆           ┆           ┆           ┆          │\n",
       "└───────────┴───────────┴───────────┴───────────┴───┴───────────┴───────────┴───────────┴──────────┘"
      ]
     },
     "execution_count": 207,
     "metadata": {},
     "output_type": "execute_result"
    }
   ],
   "source": [
    "generation_fr = pl.read_csv(\"./Raw Data/generation_actual_all_FR.csv\", has_header=False)\n",
    "generation_fr.head(3)"
   ]
  },
  {
   "cell_type": "code",
   "execution_count": 208,
   "metadata": {},
   "outputs": [
    {
     "data": {
      "text/plain": [
       "['date',\n",
       " 'biomass_actual_aggregated_fr',\n",
       " 'fossil_gas_actual_aggregated_fr',\n",
       " 'fossil_hard_coal_actual_aggregated_fr',\n",
       " 'fossil_hard_coal_actual_consumption_fr',\n",
       " 'fossil_oil_actual_aggregated_fr',\n",
       " 'hydro_pumped_storage_actual_aggregated_fr',\n",
       " 'hydro_pumped_storage_actual_consumption_fr',\n",
       " 'hydro_run-of-river_and_poundage_actual_aggregated_fr',\n",
       " 'hydro_water_reservoir_actual_aggregated_fr',\n",
       " 'hydro_water_reservoir_actual_consumption_fr',\n",
       " 'nuclear_actual_aggregated_fr',\n",
       " 'solar_actual_aggregated_fr',\n",
       " 'waste_actual_aggregated_fr',\n",
       " 'wind_offshore_actual_aggregated_fr',\n",
       " 'wind_offshore_actual_consumption_fr',\n",
       " 'wind_onshore_actual_aggregated_fr']"
      ]
     },
     "execution_count": 208,
     "metadata": {},
     "output_type": "execute_result"
    }
   ],
   "source": [
    "column_names = (\n",
    "    generation_fr.head(2)\n",
    "    .transpose()\n",
    "    .with_columns(pl.col(\"column_1\").fill_null(value=\"\"))\n",
    "    .with_columns(\n",
    "        pl.concat_str([pl.col(\"column_0\"), pl.col(\"column_1\")], separator=\" \")\n",
    "        .str.strip_chars()\n",
    "        .alias(\"header\")\n",
    "    )\n",
    "    .with_columns(pl.concat_str([\"header\", pl.lit(\"FR\")], separator=\" \").str.to_lowercase().str.replace_all(\" \", \"_\").str.replace_all(\"/\", \"_\"))\n",
    "    [\"header\"]\n",
    "    .to_list()\n",
    ")\n",
    "\n",
    "column_names[0] = \"date\"\n",
    "\n",
    "column_names"
   ]
  },
  {
   "cell_type": "code",
   "execution_count": 209,
   "metadata": {},
   "outputs": [],
   "source": [
    "generation_fr = (\n",
    "    generation_fr.tail(-2)\n",
    "    .rename(dict(zip(generation_fr.columns, column_names)))\n",
    "    .with_columns(pl.col(\"date\").str.to_datetime())\n",
    "    .with_columns(\n",
    "        pl.col(\"date\").dt.convert_time_zone(\"Europe/Zurich\").dt.truncate(\"1h\")\n",
    "    )\n",
    "    .with_columns(cs.string().cast(pl.Float64))\n",
    "    # .group_by(\"date\")\n",
    "    # .agg(pl.all().mean())\n",
    "    .with_columns((pl.col(\"date\").dt.dst_offset() == 0).cast(pl.Int16).alias(\"dst\"))\n",
    "    .with_columns(pl.col(\"date\").dt.strftime(\"%Y-%m-%d %H:%M\"))\n",
    "    .unique(subset=[\"date\", \"dst\"])\n",
    "    .sort(\"date\")\n",
    ")"
   ]
  },
  {
   "cell_type": "code",
   "execution_count": 210,
   "metadata": {},
   "outputs": [
    {
     "name": "stdout",
     "output_type": "stream",
     "text": [
      "shape: (44_555, 18)\n",
      "┌────────────┬────────────┬────────────┬────────────┬───┬────────────┬───────────┬───────────┬─────┐\n",
      "│ date       ┆ biomass_ac ┆ fossil_gas ┆ fossil_har ┆ … ┆ wind_offsh ┆ wind_offs ┆ wind_onsh ┆ dst │\n",
      "│ ---        ┆ tual_aggre ┆ _actual_ag ┆ d_coal_act ┆   ┆ ore_actual ┆ hore_actu ┆ ore_actua ┆ --- │\n",
      "│ str        ┆ gated_fr   ┆ gregated_f ┆ ual_aggreg ┆   ┆ _aggregate ┆ al_consum ┆ l_aggrega ┆ i16 │\n",
      "│            ┆ ---        ┆ r          ┆ at…        ┆   ┆ d_…        ┆ ption…    ┆ ted_f…    ┆     │\n",
      "│            ┆ f64        ┆ ---        ┆ ---        ┆   ┆ ---        ┆ ---       ┆ ---       ┆     │\n",
      "│            ┆            ┆ f64        ┆ f64        ┆   ┆ f64        ┆ f64       ┆ f64       ┆     │\n",
      "╞════════════╪════════════╪════════════╪════════════╪═══╪════════════╪═══════════╪═══════════╪═════╡\n",
      "│ 2019-01-01 ┆ 351.0      ┆ 2722.0     ┆ 0.0        ┆ … ┆ null       ┆ null      ┆ 1622.0    ┆ 1   │\n",
      "│ 00:00      ┆            ┆            ┆            ┆   ┆            ┆           ┆           ┆     │\n",
      "│ 2019-01-01 ┆ 352.0      ┆ 2526.0     ┆ null       ┆ … ┆ null       ┆ null      ┆ 1637.0    ┆ 1   │\n",
      "│ 01:00      ┆            ┆            ┆            ┆   ┆            ┆           ┆           ┆     │\n",
      "│ 2019-01-01 ┆ 352.0      ┆ 2425.0     ┆ null       ┆ … ┆ null       ┆ null      ┆ 1567.0    ┆ 1   │\n",
      "│ 02:00      ┆            ┆            ┆            ┆   ┆            ┆           ┆           ┆     │\n",
      "│ 2019-01-01 ┆ 351.0      ┆ 2435.0     ┆ 0.0        ┆ … ┆ null       ┆ null      ┆ 1556.0    ┆ 1   │\n",
      "│ 03:00      ┆            ┆            ┆            ┆   ┆            ┆           ┆           ┆     │\n",
      "│ 2019-01-01 ┆ 353.0      ┆ 2440.0     ┆ 0.0        ┆ … ┆ null       ┆ null      ┆ 1595.0    ┆ 1   │\n",
      "│ 04:00      ┆            ┆            ┆            ┆   ┆            ┆           ┆           ┆     │\n",
      "│ …          ┆ …          ┆ …          ┆ …          ┆ … ┆ …          ┆ …         ┆ …         ┆ …   │\n",
      "│ 2024-01-31 ┆ 356.0      ┆ 4713.0     ┆ 330.0      ┆ … ┆ 394.0      ┆ null      ┆ 3202.0    ┆ 1   │\n",
      "│ 19:00      ┆            ┆            ┆            ┆   ┆            ┆           ┆           ┆     │\n",
      "│ 2024-01-31 ┆ 359.0      ┆ 4670.0     ┆ 314.0      ┆ … ┆ 436.0      ┆ null      ┆ 4246.0    ┆ 1   │\n",
      "│ 20:00      ┆            ┆            ┆            ┆   ┆            ┆           ┆           ┆     │\n",
      "│ 2024-01-31 ┆ 359.0      ┆ 4313.0     ┆ 314.0      ┆ … ┆ 430.0      ┆ null      ┆ 5421.0    ┆ 1   │\n",
      "│ 21:00      ┆            ┆            ┆            ┆   ┆            ┆           ┆           ┆     │\n",
      "│ 2024-01-31 ┆ 360.0      ┆ 2721.0     ┆ 313.0      ┆ … ┆ 445.0      ┆ null      ┆ 6234.0    ┆ 1   │\n",
      "│ 22:00      ┆            ┆            ┆            ┆   ┆            ┆           ┆           ┆     │\n",
      "│ 2024-01-31 ┆ 360.0      ┆ 2311.0     ┆ 313.0      ┆ … ┆ 474.0      ┆ null      ┆ 6909.0    ┆ 1   │\n",
      "│ 23:00      ┆            ┆            ┆            ┆   ┆            ┆           ┆           ┆     │\n",
      "└────────────┴────────────┴────────────┴────────────┴───┴────────────┴───────────┴───────────┴─────┘\n",
      "shape: (4, 2)\n",
      "┌──────────────────┬───────┐\n",
      "│ date             ┆ count │\n",
      "│ ---              ┆ ---   │\n",
      "│ str              ┆ u32   │\n",
      "╞══════════════════╪═══════╡\n",
      "│ 2020-10-25 02:00 ┆ 2     │\n",
      "│ 2021-10-31 02:00 ┆ 2     │\n",
      "│ 2022-10-30 02:00 ┆ 2     │\n",
      "│ 2023-10-29 02:00 ┆ 2     │\n",
      "└──────────────────┴───────┘\n"
     ]
    }
   ],
   "source": [
    "generation_fr.pipe(print)\n",
    "generation_fr[\"date\"].value_counts().filter(pl.col(\"count\") != 1).sort(\"date\").pipe(print)"
   ]
  },
  {
   "cell_type": "markdown",
   "metadata": {},
   "source": [
    "#### Italy"
   ]
  },
  {
   "cell_type": "code",
   "execution_count": 211,
   "metadata": {},
   "outputs": [
    {
     "data": {
      "text/html": [
       "<div><style>\n",
       ".dataframe > thead > tr,\n",
       ".dataframe > tbody > tr {\n",
       "  text-align: right;\n",
       "  white-space: pre-wrap;\n",
       "}\n",
       "</style>\n",
       "<small>shape: (3, 20)</small><table border=\"1\" class=\"dataframe\"><thead><tr><th>column_1</th><th>column_2</th><th>column_3</th><th>column_4</th><th>column_5</th><th>column_6</th><th>column_7</th><th>column_8</th><th>column_9</th><th>column_10</th><th>column_11</th><th>column_12</th><th>column_13</th><th>column_14</th><th>column_15</th><th>column_16</th><th>column_17</th><th>column_18</th><th>column_19</th><th>column_20</th></tr><tr><td>str</td><td>str</td><td>str</td><td>str</td><td>str</td><td>str</td><td>str</td><td>str</td><td>str</td><td>str</td><td>str</td><td>str</td><td>str</td><td>str</td><td>str</td><td>str</td><td>str</td><td>str</td><td>str</td><td>str</td></tr></thead><tbody><tr><td>&quot;date&quot;</td><td>&quot;Biomass&quot;</td><td>&quot;Fossil Coal-de…</td><td>&quot;Fossil Gas&quot;</td><td>&quot;Fossil Hard co…</td><td>&quot;Fossil Hard co…</td><td>&quot;Fossil Oil&quot;</td><td>&quot;Fossil Oil&quot;</td><td>&quot;Geothermal&quot;</td><td>&quot;Hydro Pumped S…</td><td>&quot;Hydro Pumped S…</td><td>&quot;Hydro Run-of-r…</td><td>&quot;Hydro Water Re…</td><td>&quot;Other&quot;</td><td>&quot;Other&quot;</td><td>&quot;Solar&quot;</td><td>&quot;Solar&quot;</td><td>&quot;Waste&quot;</td><td>&quot;Wind Offshore&quot;</td><td>&quot;Wind Onshore&quot;</td></tr><tr><td>null</td><td>&quot;Actual Aggrega…</td><td>&quot;Actual Aggrega…</td><td>&quot;Actual Aggrega…</td><td>&quot;Actual Aggrega…</td><td>&quot;Actual Consump…</td><td>&quot;Actual Aggrega…</td><td>&quot;Actual Consump…</td><td>&quot;Actual Aggrega…</td><td>&quot;Actual Aggrega…</td><td>&quot;Actual Consump…</td><td>&quot;Actual Aggrega…</td><td>&quot;Actual Aggrega…</td><td>&quot;Actual Aggrega…</td><td>&quot;Actual Consump…</td><td>&quot;Actual Aggrega…</td><td>&quot;Actual Consump…</td><td>&quot;Actual Aggrega…</td><td>&quot;Actual Aggrega…</td><td>&quot;Actual Aggrega…</td></tr><tr><td>&quot;2019-01-01 00:…</td><td>&quot;495.0&quot;</td><td>&quot;776.0&quot;</td><td>&quot;8053.0&quot;</td><td>&quot;1938.0&quot;</td><td>null</td><td>&quot;8.0&quot;</td><td>null</td><td>&quot;674.0&quot;</td><td>&quot;1.0&quot;</td><td>&quot;29.0&quot;</td><td>&quot;1891.0&quot;</td><td>&quot;289.0&quot;</td><td>&quot;3070.0&quot;</td><td>null</td><td>&quot;0.0&quot;</td><td>null</td><td>&quot;37.0&quot;</td><td>null</td><td>&quot;5076.0&quot;</td></tr></tbody></table></div>"
      ],
      "text/plain": [
       "shape: (3, 20)\n",
       "┌───────────┬───────────┬───────────┬───────────┬───┬───────────┬───────────┬───────────┬──────────┐\n",
       "│ column_1  ┆ column_2  ┆ column_3  ┆ column_4  ┆ … ┆ column_17 ┆ column_18 ┆ column_19 ┆ column_2 │\n",
       "│ ---       ┆ ---       ┆ ---       ┆ ---       ┆   ┆ ---       ┆ ---       ┆ ---       ┆ 0        │\n",
       "│ str       ┆ str       ┆ str       ┆ str       ┆   ┆ str       ┆ str       ┆ str       ┆ ---      │\n",
       "│           ┆           ┆           ┆           ┆   ┆           ┆           ┆           ┆ str      │\n",
       "╞═══════════╪═══════════╪═══════════╪═══════════╪═══╪═══════════╪═══════════╪═══════════╪══════════╡\n",
       "│ date      ┆ Biomass   ┆ Fossil    ┆ Fossil    ┆ … ┆ Solar     ┆ Waste     ┆ Wind      ┆ Wind     │\n",
       "│           ┆           ┆ Coal-deri ┆ Gas       ┆   ┆           ┆           ┆ Offshore  ┆ Onshore  │\n",
       "│           ┆           ┆ ved gas   ┆           ┆   ┆           ┆           ┆           ┆          │\n",
       "│ null      ┆ Actual    ┆ Actual    ┆ Actual    ┆ … ┆ Actual    ┆ Actual    ┆ Actual    ┆ Actual   │\n",
       "│           ┆ Aggregate ┆ Aggregate ┆ Aggregate ┆   ┆ Consumpti ┆ Aggregate ┆ Aggregate ┆ Aggregat │\n",
       "│           ┆ d         ┆ d         ┆ d         ┆   ┆ on        ┆ d         ┆ d         ┆ ed       │\n",
       "│ 2019-01-0 ┆ 495.0     ┆ 776.0     ┆ 8053.0    ┆ … ┆ null      ┆ 37.0      ┆ null      ┆ 5076.0   │\n",
       "│ 1 00:00:0 ┆           ┆           ┆           ┆   ┆           ┆           ┆           ┆          │\n",
       "│ 0+01:00   ┆           ┆           ┆           ┆   ┆           ┆           ┆           ┆          │\n",
       "└───────────┴───────────┴───────────┴───────────┴───┴───────────┴───────────┴───────────┴──────────┘"
      ]
     },
     "execution_count": 211,
     "metadata": {},
     "output_type": "execute_result"
    }
   ],
   "source": [
    "generation_it = pl.read_csv(\"./Raw Data/generation_actual_all_IT.csv\", has_header=False)\n",
    "generation_it.head(3)"
   ]
  },
  {
   "cell_type": "code",
   "execution_count": 212,
   "metadata": {},
   "outputs": [
    {
     "data": {
      "text/plain": [
       "['date',\n",
       " 'biomass_actual_aggregated_it',\n",
       " 'fossil_coal-derived_gas_actual_aggregated_it',\n",
       " 'fossil_gas_actual_aggregated_it',\n",
       " 'fossil_hard_coal_actual_aggregated_it',\n",
       " 'fossil_hard_coal_actual_consumption_it',\n",
       " 'fossil_oil_actual_aggregated_it',\n",
       " 'fossil_oil_actual_consumption_it',\n",
       " 'geothermal_actual_aggregated_it',\n",
       " 'hydro_pumped_storage_actual_aggregated_it',\n",
       " 'hydro_pumped_storage_actual_consumption_it',\n",
       " 'hydro_run-of-river_and_poundage_actual_aggregated_it',\n",
       " 'hydro_water_reservoir_actual_aggregated_it',\n",
       " 'other_actual_aggregated_it',\n",
       " 'other_actual_consumption_it',\n",
       " 'solar_actual_aggregated_it',\n",
       " 'solar_actual_consumption_it',\n",
       " 'waste_actual_aggregated_it',\n",
       " 'wind_offshore_actual_aggregated_it',\n",
       " 'wind_onshore_actual_aggregated_it']"
      ]
     },
     "execution_count": 212,
     "metadata": {},
     "output_type": "execute_result"
    }
   ],
   "source": [
    "column_names = (\n",
    "    generation_it.head(2)\n",
    "    .transpose()\n",
    "    .with_columns(pl.col(\"column_1\").fill_null(value=\"\"))\n",
    "    .with_columns(\n",
    "        pl.concat_str([pl.col(\"column_0\"), pl.col(\"column_1\")], separator=\" \")\n",
    "        .str.strip_chars()\n",
    "        .alias(\"header\")\n",
    "    )\n",
    "    .with_columns(pl.concat_str([\"header\", pl.lit(\"IT\")], separator=\" \").str.to_lowercase().str.replace_all(\" \", \"_\").str.replace_all(\"/\", \"_\"))\n",
    "    [\"header\"]\n",
    "    .to_list()\n",
    ")\n",
    "\n",
    "column_names[0] = \"date\"\n",
    "\n",
    "column_names"
   ]
  },
  {
   "cell_type": "code",
   "execution_count": 213,
   "metadata": {},
   "outputs": [],
   "source": [
    "generation_it = (\n",
    "    generation_it.tail(-2)\n",
    "    .rename(dict(zip(generation_it.columns, column_names)))\n",
    "    .with_columns(pl.col(\"date\").str.to_datetime())\n",
    "    .with_columns(\n",
    "        pl.col(\"date\").dt.convert_time_zone(\"Europe/Zurich\").dt.truncate(\"1h\")\n",
    "    )\n",
    "    .with_columns(cs.string().cast(pl.Float64))\n",
    "    # .group_by(\"date\")\n",
    "    # .agg(pl.all().mean())\n",
    "    .with_columns((pl.col(\"date\").dt.dst_offset() == 0).cast(pl.Int16).alias(\"dst\"))\n",
    "    .with_columns(pl.col(\"date\").dt.strftime(\"%Y-%m-%d %H:%M\"))\n",
    "    .unique(subset=[\"date\", \"dst\"])\n",
    "    .sort(\"date\")\n",
    ")"
   ]
  },
  {
   "cell_type": "code",
   "execution_count": 214,
   "metadata": {},
   "outputs": [
    {
     "name": "stdout",
     "output_type": "stream",
     "text": [
      "shape: (44_563, 21)\n",
      "┌────────────┬────────────┬────────────┬────────────┬───┬────────────┬───────────┬───────────┬─────┐\n",
      "│ date       ┆ biomass_ac ┆ fossil_coa ┆ fossil_gas ┆ … ┆ waste_actu ┆ wind_offs ┆ wind_onsh ┆ dst │\n",
      "│ ---        ┆ tual_aggre ┆ l-derived_ ┆ _actual_ag ┆   ┆ al_aggrega ┆ hore_actu ┆ ore_actua ┆ --- │\n",
      "│ str        ┆ gated_it   ┆ gas_actual ┆ gregated_i ┆   ┆ ted_it     ┆ al_aggreg ┆ l_aggrega ┆ i16 │\n",
      "│            ┆ ---        ┆ _a…        ┆ t          ┆   ┆ ---        ┆ ated_…    ┆ ted_i…    ┆     │\n",
      "│            ┆ f64        ┆ ---        ┆ ---        ┆   ┆ f64        ┆ ---       ┆ ---       ┆     │\n",
      "│            ┆            ┆ f64        ┆ f64        ┆   ┆            ┆ f64       ┆ f64       ┆     │\n",
      "╞════════════╪════════════╪════════════╪════════════╪═══╪════════════╪═══════════╪═══════════╪═════╡\n",
      "│ 2019-01-01 ┆ 495.0      ┆ 776.0      ┆ 8053.0     ┆ … ┆ 37.0       ┆ null      ┆ 5076.0    ┆ 1   │\n",
      "│ 00:00      ┆            ┆            ┆            ┆   ┆            ┆           ┆           ┆     │\n",
      "│ 2019-01-01 ┆ 501.0      ┆ 775.0      ┆ 7614.0     ┆ … ┆ 41.0       ┆ null      ┆ 5088.0    ┆ 1   │\n",
      "│ 01:00      ┆            ┆            ┆            ┆   ┆            ┆           ┆           ┆     │\n",
      "│ 2019-01-01 ┆ 499.0      ┆ 773.0      ┆ 7090.0     ┆ … ┆ 36.0       ┆ null      ┆ 5086.0    ┆ 1   │\n",
      "│ 02:00      ┆            ┆            ┆            ┆   ┆            ┆           ┆           ┆     │\n",
      "│ 2019-01-01 ┆ 503.0      ┆ 774.0      ┆ 6032.0     ┆ … ┆ 41.0       ┆ null      ┆ 5131.0    ┆ 1   │\n",
      "│ 03:00      ┆            ┆            ┆            ┆   ┆            ┆           ┆           ┆     │\n",
      "│ 2019-01-01 ┆ 509.0      ┆ 774.0      ┆ 5795.0     ┆ … ┆ 38.0       ┆ null      ┆ 5235.0    ┆ 1   │\n",
      "│ 04:00      ┆            ┆            ┆            ┆   ┆            ┆           ┆           ┆     │\n",
      "│ …          ┆ …          ┆ …          ┆ …          ┆ … ┆ …          ┆ …         ┆ …         ┆ …   │\n",
      "│ 2024-01-31 ┆ 545.0      ┆ 785.0      ┆ 19894.0    ┆ … ┆ 311.0      ┆ 0.0       ┆ 697.0     ┆ 1   │\n",
      "│ 19:00      ┆            ┆            ┆            ┆   ┆            ┆           ┆           ┆     │\n",
      "│ 2024-01-31 ┆ 541.0      ┆ 786.0      ┆ 19571.0    ┆ … ┆ 312.0      ┆ 0.0       ┆ 642.0     ┆ 1   │\n",
      "│ 20:00      ┆            ┆            ┆            ┆   ┆            ┆           ┆           ┆     │\n",
      "│ 2024-01-31 ┆ 540.0      ┆ 787.0      ┆ 18362.0    ┆ … ┆ 314.0      ┆ 2.0       ┆ 670.0     ┆ 1   │\n",
      "│ 21:00      ┆            ┆            ┆            ┆   ┆            ┆           ┆           ┆     │\n",
      "│ 2024-01-31 ┆ 526.0      ┆ 788.0      ┆ 15965.0    ┆ … ┆ 324.0      ┆ 1.0       ┆ 731.0     ┆ 1   │\n",
      "│ 22:00      ┆            ┆            ┆            ┆   ┆            ┆           ┆           ┆     │\n",
      "│ 2024-01-31 ┆ 516.0      ┆ 786.0      ┆ 13164.0    ┆ … ┆ 330.0      ┆ 1.0       ┆ 808.0     ┆ 1   │\n",
      "│ 23:00      ┆            ┆            ┆            ┆   ┆            ┆           ┆           ┆     │\n",
      "└────────────┴────────────┴────────────┴────────────┴───┴────────────┴───────────┴───────────┴─────┘\n",
      "shape: (5, 2)\n",
      "┌──────────────────┬───────┐\n",
      "│ date             ┆ count │\n",
      "│ ---              ┆ ---   │\n",
      "│ str              ┆ u32   │\n",
      "╞══════════════════╪═══════╡\n",
      "│ 2019-10-27 02:00 ┆ 2     │\n",
      "│ 2020-10-25 02:00 ┆ 2     │\n",
      "│ 2021-10-31 02:00 ┆ 2     │\n",
      "│ 2022-10-30 02:00 ┆ 2     │\n",
      "│ 2023-10-29 02:00 ┆ 2     │\n",
      "└──────────────────┴───────┘\n"
     ]
    }
   ],
   "source": [
    "generation_it.pipe(print)\n",
    "generation_it[\"date\"].value_counts().filter(pl.col(\"count\") != 1).sort(\"date\").pipe(print)"
   ]
  },
  {
   "cell_type": "markdown",
   "metadata": {},
   "source": [
    "### Water Reservoirs"
   ]
  },
  {
   "cell_type": "code",
   "execution_count": 215,
   "metadata": {},
   "outputs": [
    {
     "name": "stdout",
     "output_type": "stream",
     "text": [
      "shape: (265, 2)\n",
      "┌────────────┬────────────────────────────┐\n",
      "│ week_start ┆ hydro_reservoir_storage_at │\n",
      "│ ---        ┆ ---                        │\n",
      "│ str        ┆ f64                        │\n",
      "╞════════════╪════════════════════════════╡\n",
      "│ 2018-12-31 ┆ 1.412194e6                 │\n",
      "│ 2019-01-07 ┆ 1.372937e6                 │\n",
      "│ 2019-01-14 ┆ 1.326312e6                 │\n",
      "│ 2019-01-21 ┆ 1.176602e6                 │\n",
      "│ 2019-01-28 ┆ 1.077808e6                 │\n",
      "│ …          ┆ …                          │\n",
      "│ 2023-12-25 ┆ 1.543144e6                 │\n",
      "│ 2024-01-08 ┆ 1.423063e6                 │\n",
      "│ 2024-01-15 ┆ 1.26075e6                  │\n",
      "│ 2024-01-22 ┆ 1.157852e6                 │\n",
      "│ 2024-01-29 ┆ 1.073592e6                 │\n",
      "└────────────┴────────────────────────────┘\n"
     ]
    }
   ],
   "source": [
    "hydro_storage_at = (\n",
    "    pl.read_csv(\"./Raw Data/hydro_reservoir_storage_AT.csv\")\n",
    "    .with_columns(pl.col(\"date\").str.to_datetime())\n",
    "    .with_columns(\n",
    "        pl.col(\"date\").dt.convert_time_zone(\"Europe/Zurich\").dt.truncate(\"1w\")\n",
    "    )\n",
    "    .sort(\"date\")\n",
    "    .with_columns(pl.col(\"date\").dt.strftime(\"%Y-%m-%d\"))\n",
    "    .unique()\n",
    "    .sort(\"date\")\n",
    "    .rename({\"hydro_reservoir_storage_mwh\": \"hydro_reservoir_storage_at\", \"date\": \"week_start\"})\n",
    ")\n",
    "\n",
    "hydro_storage_at.pipe(print)"
   ]
  },
  {
   "cell_type": "code",
   "execution_count": 216,
   "metadata": {},
   "outputs": [
    {
     "name": "stdout",
     "output_type": "stream",
     "text": [
      "shape: (265, 2)\n",
      "┌────────────┬────────────────────────────┐\n",
      "│ week_start ┆ hydro_reservoir_storage_ch │\n",
      "│ ---        ┆ ---                        │\n",
      "│ str        ┆ f64                        │\n",
      "╞════════════╪════════════════════════════╡\n",
      "│ 2018-12-31 ┆ 4.656491e6                 │\n",
      "│ 2019-01-07 ┆ 4.420007e6                 │\n",
      "│ 2019-01-14 ┆ 4.154307e6                 │\n",
      "│ 2019-01-21 ┆ 3.693327e6                 │\n",
      "│ 2019-01-28 ┆ 3.288999e6                 │\n",
      "│ …          ┆ …                          │\n",
      "│ 2023-12-25 ┆ 4.253319e6                 │\n",
      "│ 2024-01-08 ┆ 4.031253e6                 │\n",
      "│ 2024-01-15 ┆ 2.996454e6                 │\n",
      "│ 2024-01-22 ┆ 3.326345e6                 │\n",
      "│ 2024-01-29 ┆ 2.47213e6                  │\n",
      "└────────────┴────────────────────────────┘\n"
     ]
    }
   ],
   "source": [
    "hydro_storage_ch = (\n",
    "    pl.read_csv(\"./Raw Data/hydro_reservoir_storage_CH.csv\")\n",
    "    .with_columns(pl.col(\"date\").str.to_datetime())\n",
    "    .with_columns(\n",
    "        pl.col(\"date\").dt.convert_time_zone(\"Europe/Zurich\").dt.truncate(\"1w\")\n",
    "    )\n",
    "    .sort(\"date\")\n",
    "    .with_columns(pl.col(\"date\").dt.strftime(\"%Y-%m-%d\"))\n",
    "    .unique()\n",
    "    .sort(\"date\")\n",
    "    .rename({\"hydro_reservoir_storage_mwh\": \"hydro_reservoir_storage_ch\", \"date\": \"week_start\"})\n",
    ")\n",
    "\n",
    "hydro_storage_ch.pipe(print)"
   ]
  },
  {
   "cell_type": "code",
   "execution_count": 217,
   "metadata": {},
   "outputs": [
    {
     "name": "stdout",
     "output_type": "stream",
     "text": [
      "shape: (263, 2)\n",
      "┌────────────┬────────────────────────────┐\n",
      "│ week_start ┆ hydro_reservoir_storage_fr │\n",
      "│ ---        ┆ ---                        │\n",
      "│ str        ┆ f64                        │\n",
      "╞════════════╪════════════════════════════╡\n",
      "│ 2018-12-31 ┆ 2.186488e6                 │\n",
      "│ 2019-01-07 ┆ 2.055622e6                 │\n",
      "│ 2019-01-14 ┆ 1.931241e6                 │\n",
      "│ 2019-01-21 ┆ 1.750281e6                 │\n",
      "│ 2019-01-28 ┆ 1.591274e6                 │\n",
      "│ …          ┆ …                          │\n",
      "│ 2023-12-25 ┆ 2.795844e6                 │\n",
      "│ 2024-01-08 ┆ 2.368286e6                 │\n",
      "│ 2024-01-15 ┆ 2.201546e6                 │\n",
      "│ 2024-01-22 ┆ 2.146234e6                 │\n",
      "│ 2024-01-29 ┆ 2.010901e6                 │\n",
      "└────────────┴────────────────────────────┘\n"
     ]
    }
   ],
   "source": [
    "hydro_storage_fr = (\n",
    "    pl.read_csv(\"./Raw Data/hydro_reservoir_storage_FR.csv\")\n",
    "    .with_columns(pl.col(\"date\").str.to_datetime())\n",
    "    .with_columns(\n",
    "        pl.col(\"date\").dt.convert_time_zone(\"Europe/Zurich\").dt.truncate(\"1w\")\n",
    "    )\n",
    "    .sort(\"date\")\n",
    "    .with_columns(pl.col(\"date\").dt.strftime(\"%Y-%m-%d\"))\n",
    "    .unique()\n",
    "    .sort(\"date\")\n",
    "    .rename({\"hydro_reservoir_storage_mwh\": \"hydro_reservoir_storage_fr\", \"date\": \"week_start\"})\n",
    ")\n",
    "\n",
    "hydro_storage_fr.pipe(print)"
   ]
  },
  {
   "cell_type": "code",
   "execution_count": 218,
   "metadata": {},
   "outputs": [
    {
     "name": "stdout",
     "output_type": "stream",
     "text": [
      "shape: (264, 2)\n",
      "┌────────────┬────────────────────────────┐\n",
      "│ week_start ┆ hydro_reservoir_storage_it │\n",
      "│ ---        ┆ ---                        │\n",
      "│ str        ┆ f64                        │\n",
      "╞════════════╪════════════════════════════╡\n",
      "│ 2018-12-31 ┆ 3.036299e6                 │\n",
      "│ 2019-01-07 ┆ 2.704739e6                 │\n",
      "│ 2019-01-14 ┆ 2.593794e6                 │\n",
      "│ 2019-01-21 ┆ 2.49019e6                  │\n",
      "│ 2019-01-28 ┆ 2.473671e6                 │\n",
      "│ …          ┆ …                          │\n",
      "│ 2023-12-25 ┆ 3.280575e6                 │\n",
      "│ 2024-01-08 ┆ 3.053817e6                 │\n",
      "│ 2024-01-15 ┆ 2.926584e6                 │\n",
      "│ 2024-01-22 ┆ 2.778409e6                 │\n",
      "│ 2024-01-29 ┆ 2.619505e6                 │\n",
      "└────────────┴────────────────────────────┘\n"
     ]
    }
   ],
   "source": [
    "hydro_storage_it = (\n",
    "    pl.read_csv(\"./Raw Data/hydro_reservoir_storage_IT.csv\")\n",
    "    .with_columns(pl.col(\"date\").str.to_datetime())\n",
    "    .with_columns(\n",
    "        pl.col(\"date\").dt.convert_time_zone(\"Europe/Zurich\").dt.truncate(\"1w\")\n",
    "    )\n",
    "    .sort(\"date\")\n",
    "    .with_columns(pl.col(\"date\").dt.strftime(\"%Y-%m-%d\"))\n",
    "    .unique()\n",
    "    .sort(\"date\")\n",
    "    .rename({\"hydro_reservoir_storage_mwh\": \"hydro_reservoir_storage_it\", \"date\": \"week_start\"})\n",
    ")\n",
    "\n",
    "hydro_storage_it.pipe(print)"
   ]
  },
  {
   "cell_type": "markdown",
   "metadata": {},
   "source": [
    "### Crossborder Flows"
   ]
  },
  {
   "cell_type": "code",
   "execution_count": 219,
   "metadata": {},
   "outputs": [
    {
     "data": {
      "text/plain": [
       "['crossborder_physical_flow_mw_AT_CH.csv',\n",
       " 'crossborder_physical_flow_mw_CH_AT.csv',\n",
       " 'crossborder_physical_flow_mw_CH_DE_LU.csv',\n",
       " 'crossborder_physical_flow_mw_CH_FR.csv',\n",
       " 'crossborder_physical_flow_mw_CH_IT.csv',\n",
       " 'crossborder_physical_flow_mw_DE_LU_CH.csv',\n",
       " 'crossborder_physical_flow_mw_FR_CH.csv',\n",
       " 'crossborder_physical_flow_mw_IT_CH.csv']"
      ]
     },
     "execution_count": 219,
     "metadata": {},
     "output_type": "execute_result"
    }
   ],
   "source": [
    "filenames = [filename for filename in os.listdir(\"./Raw Data/\") if \"physical_flow\" in filename]\n",
    "filenames"
   ]
  },
  {
   "cell_type": "code",
   "execution_count": 220,
   "metadata": {},
   "outputs": [
    {
     "name": "stdout",
     "output_type": "stream",
     "text": [
      "shape: (44_563, 3)\n",
      "┌──────────────────┬───────────────────────────────┬─────┐\n",
      "│ date             ┆ crossborder_actual_flow_at_ch ┆ dst │\n",
      "│ ---              ┆ ---                           ┆ --- │\n",
      "│ str              ┆ f64                           ┆ i16 │\n",
      "╞══════════════════╪═══════════════════════════════╪═════╡\n",
      "│ 2019-01-01 00:00 ┆ 763.0                         ┆ 1   │\n",
      "│ 2019-01-01 01:00 ┆ 497.0                         ┆ 1   │\n",
      "│ 2019-01-01 02:00 ┆ 427.0                         ┆ 1   │\n",
      "│ 2019-01-01 03:00 ┆ 452.0                         ┆ 1   │\n",
      "│ 2019-01-01 04:00 ┆ 603.0                         ┆ 1   │\n",
      "│ …                ┆ …                             ┆ …   │\n",
      "│ 2024-01-31 19:00 ┆ 194.0                         ┆ 1   │\n",
      "│ 2024-01-31 20:00 ┆ 504.0                         ┆ 1   │\n",
      "│ 2024-01-31 21:00 ┆ 678.0                         ┆ 1   │\n",
      "│ 2024-01-31 22:00 ┆ 726.0                         ┆ 1   │\n",
      "│ 2024-01-31 23:00 ┆ 952.0                         ┆ 1   │\n",
      "└──────────────────┴───────────────────────────────┴─────┘\n"
     ]
    }
   ],
   "source": [
    "flow_at_ch = (\n",
    "    pl.read_csv(\"./Raw Data/crossborder_physical_flow_mw_AT_CH.csv\")\n",
    "    .with_columns(pl.col(\"date\").str.to_datetime())\n",
    "    .with_columns(pl.col(\"date\").dt.convert_time_zone(\"Europe/Zurich\"))\n",
    "    .with_columns((pl.col(\"date\").dt.dst_offset() == 0).cast(pl.Int16).alias(\"dst\"))\n",
    "    .with_columns(pl.col(\"date\").dt.strftime(\"%Y-%m-%d %H:%M\"))\n",
    "    .unique(subset=[\"date\", \"dst\"])\n",
    "    .rename({\"crossborder_physical_flow_mw\": \"crossborder_actual_flow_at_ch\"})\n",
    "    .sort(\"date\")\n",
    ")\n",
    "\n",
    "flow_at_ch.pipe(print)"
   ]
  },
  {
   "cell_type": "code",
   "execution_count": 221,
   "metadata": {},
   "outputs": [
    {
     "name": "stdout",
     "output_type": "stream",
     "text": [
      "shape: (44_563, 3)\n",
      "┌──────────────────┬───────────────────────────────┬─────┐\n",
      "│ date             ┆ crossborder_actual_flow_ch_at ┆ dst │\n",
      "│ ---              ┆ ---                           ┆ --- │\n",
      "│ str              ┆ f64                           ┆ i16 │\n",
      "╞══════════════════╪═══════════════════════════════╪═════╡\n",
      "│ 2019-01-01 00:00 ┆ 0.0                           ┆ 1   │\n",
      "│ 2019-01-01 01:00 ┆ 0.0                           ┆ 1   │\n",
      "│ 2019-01-01 02:00 ┆ 0.0                           ┆ 1   │\n",
      "│ 2019-01-01 03:00 ┆ 0.0                           ┆ 1   │\n",
      "│ 2019-01-01 04:00 ┆ 0.0                           ┆ 1   │\n",
      "│ …                ┆ …                             ┆ …   │\n",
      "│ 2024-01-31 19:00 ┆ 0.0                           ┆ 1   │\n",
      "│ 2024-01-31 20:00 ┆ 0.0                           ┆ 1   │\n",
      "│ 2024-01-31 21:00 ┆ 0.0                           ┆ 1   │\n",
      "│ 2024-01-31 22:00 ┆ 0.0                           ┆ 1   │\n",
      "│ 2024-01-31 23:00 ┆ 0.0                           ┆ 1   │\n",
      "└──────────────────┴───────────────────────────────┴─────┘\n"
     ]
    }
   ],
   "source": [
    "flow_ch_at = (\n",
    "    pl.read_csv(\"./Raw Data/crossborder_physical_flow_mw_CH_AT.csv\")\n",
    "    .with_columns(pl.col(\"date\").str.to_datetime())\n",
    "    .with_columns(pl.col(\"date\").dt.convert_time_zone(\"Europe/Zurich\"))\n",
    "    .with_columns((pl.col(\"date\").dt.dst_offset() == 0).cast(pl.Int16).alias(\"dst\"))\n",
    "    .with_columns(pl.col(\"date\").dt.strftime(\"%Y-%m-%d %H:%M\"))\n",
    "    .unique(subset=[\"date\", \"dst\"])\n",
    "    .rename({\"crossborder_physical_flow_mw\": \"crossborder_actual_flow_ch_at\"})\n",
    "    .sort(\"date\")\n",
    ")\n",
    "\n",
    "flow_ch_at.pipe(print)"
   ]
  },
  {
   "cell_type": "code",
   "execution_count": 222,
   "metadata": {},
   "outputs": [
    {
     "name": "stdout",
     "output_type": "stream",
     "text": [
      "shape: (110_368, 3)\n",
      "┌──────────────────┬──────────────────────────────────┬─────┐\n",
      "│ date             ┆ crossborder_actual_flow_ch_de_lu ┆ dst │\n",
      "│ ---              ┆ ---                              ┆ --- │\n",
      "│ str              ┆ f64                              ┆ i16 │\n",
      "╞══════════════════╪══════════════════════════════════╪═════╡\n",
      "│ 2019-01-01 00:00 ┆ 595.0                            ┆ 1   │\n",
      "│ 2019-01-01 01:00 ┆ 502.0                            ┆ 1   │\n",
      "│ 2019-01-01 02:00 ┆ 512.0                            ┆ 1   │\n",
      "│ 2019-01-01 03:00 ┆ 544.0                            ┆ 1   │\n",
      "│ 2019-01-01 04:00 ┆ 451.0                            ┆ 1   │\n",
      "│ …                ┆ …                                ┆ …   │\n",
      "│ 2024-01-31 22:45 ┆ 0.0                              ┆ 1   │\n",
      "│ 2024-01-31 23:00 ┆ 0.0                              ┆ 1   │\n",
      "│ 2024-01-31 23:15 ┆ 0.0                              ┆ 1   │\n",
      "│ 2024-01-31 23:30 ┆ 0.0                              ┆ 1   │\n",
      "│ 2024-01-31 23:45 ┆ 0.0                              ┆ 1   │\n",
      "└──────────────────┴──────────────────────────────────┴─────┘\n"
     ]
    }
   ],
   "source": [
    "flow_ch_de_lu = (\n",
    "    pl.read_csv(\"./Raw Data/crossborder_physical_flow_mw_CH_DE_LU.csv\")\n",
    "    .with_columns(pl.col(\"date\").str.to_datetime())\n",
    "    .with_columns(pl.col(\"date\").dt.convert_time_zone(\"Europe/Zurich\"))\n",
    "    .with_columns((pl.col(\"date\").dt.dst_offset() == 0).cast(pl.Int16).alias(\"dst\"))\n",
    "    .with_columns(pl.col(\"date\").dt.strftime(\"%Y-%m-%d %H:%M\"))\n",
    "    .unique(subset=[\"date\", \"dst\"])\n",
    "    .rename({\"crossborder_physical_flow_mw\": \"crossborder_actual_flow_ch_de_lu\"})\n",
    "    .sort(\"date\")\n",
    ")\n",
    "\n",
    "flow_ch_de_lu.pipe(print)"
   ]
  },
  {
   "cell_type": "code",
   "execution_count": 223,
   "metadata": {},
   "outputs": [
    {
     "name": "stdout",
     "output_type": "stream",
     "text": [
      "shape: (44_563, 3)\n",
      "┌──────────────────┬───────────────────────────────┬─────┐\n",
      "│ date             ┆ crossborder_actual_flow_ch_fr ┆ dst │\n",
      "│ ---              ┆ ---                           ┆ --- │\n",
      "│ str              ┆ f64                           ┆ i16 │\n",
      "╞══════════════════╪═══════════════════════════════╪═════╡\n",
      "│ 2019-01-01 00:00 ┆ 553.0                         ┆ 1   │\n",
      "│ 2019-01-01 01:00 ┆ 233.0                         ┆ 1   │\n",
      "│ 2019-01-01 02:00 ┆ 280.0                         ┆ 1   │\n",
      "│ 2019-01-01 03:00 ┆ 0.0                           ┆ 1   │\n",
      "│ 2019-01-01 04:00 ┆ 56.0                          ┆ 1   │\n",
      "│ …                ┆ …                             ┆ …   │\n",
      "│ 2024-01-31 19:00 ┆ 0.0                           ┆ 1   │\n",
      "│ 2024-01-31 20:00 ┆ 0.0                           ┆ 1   │\n",
      "│ 2024-01-31 21:00 ┆ 0.0                           ┆ 1   │\n",
      "│ 2024-01-31 22:00 ┆ 0.0                           ┆ 1   │\n",
      "│ 2024-01-31 23:00 ┆ 0.0                           ┆ 1   │\n",
      "└──────────────────┴───────────────────────────────┴─────┘\n"
     ]
    }
   ],
   "source": [
    "flow_ch_fr = (\n",
    "    pl.read_csv(\"./Raw Data/crossborder_physical_flow_mw_CH_FR.csv\")\n",
    "    .with_columns(pl.col(\"date\").str.to_datetime())\n",
    "    .with_columns(pl.col(\"date\").dt.convert_time_zone(\"Europe/Zurich\"))\n",
    "    .with_columns((pl.col(\"date\").dt.dst_offset() == 0).cast(pl.Int16).alias(\"dst\"))\n",
    "    .with_columns(pl.col(\"date\").dt.strftime(\"%Y-%m-%d %H:%M\"))\n",
    "    .unique(subset=[\"date\", \"dst\"])\n",
    "    .rename({\"crossborder_physical_flow_mw\": \"crossborder_actual_flow_ch_fr\"})\n",
    "    .sort(\"date\")\n",
    ")\n",
    "\n",
    "flow_ch_fr.pipe(print)"
   ]
  },
  {
   "cell_type": "code",
   "execution_count": 224,
   "metadata": {},
   "outputs": [
    {
     "name": "stdout",
     "output_type": "stream",
     "text": [
      "shape: (44_563, 3)\n",
      "┌──────────────────┬───────────────────────────────┬─────┐\n",
      "│ date             ┆ crossborder_actual_flow_ch_it ┆ dst │\n",
      "│ ---              ┆ ---                           ┆ --- │\n",
      "│ str              ┆ f64                           ┆ i16 │\n",
      "╞══════════════════╪═══════════════════════════════╪═════╡\n",
      "│ 2019-01-01 00:00 ┆ 1468.0                        ┆ 1   │\n",
      "│ 2019-01-01 01:00 ┆ 1162.0                        ┆ 1   │\n",
      "│ 2019-01-01 02:00 ┆ 931.0                         ┆ 1   │\n",
      "│ 2019-01-01 03:00 ┆ 1303.0                        ┆ 1   │\n",
      "│ 2019-01-01 04:00 ┆ 1225.0                        ┆ 1   │\n",
      "│ …                ┆ …                             ┆ …   │\n",
      "│ 2024-01-31 19:00 ┆ 4691.0                        ┆ 1   │\n",
      "│ 2024-01-31 20:00 ┆ 4682.0                        ┆ 1   │\n",
      "│ 2024-01-31 21:00 ┆ 4496.0                        ┆ 1   │\n",
      "│ 2024-01-31 22:00 ┆ 4545.0                        ┆ 1   │\n",
      "│ 2024-01-31 23:00 ┆ 4645.0                        ┆ 1   │\n",
      "└──────────────────┴───────────────────────────────┴─────┘\n"
     ]
    }
   ],
   "source": [
    "flow_ch_it = (\n",
    "    pl.read_csv(\"./Raw Data/crossborder_physical_flow_mw_CH_IT.csv\")\n",
    "    .with_columns(pl.col(\"date\").str.to_datetime())\n",
    "    .with_columns(pl.col(\"date\").dt.convert_time_zone(\"Europe/Zurich\"))\n",
    "    .with_columns((pl.col(\"date\").dt.dst_offset() == 0).cast(pl.Int16).alias(\"dst\"))\n",
    "    .with_columns(pl.col(\"date\").dt.strftime(\"%Y-%m-%d %H:%M\"))\n",
    "    .unique(subset=[\"date\", \"dst\"])\n",
    "    .rename({\"crossborder_physical_flow_mw\": \"crossborder_actual_flow_ch_it\"})\n",
    "    .sort(\"date\")\n",
    ")\n",
    "\n",
    "flow_ch_it.pipe(print)"
   ]
  },
  {
   "cell_type": "code",
   "execution_count": 225,
   "metadata": {},
   "outputs": [
    {
     "name": "stdout",
     "output_type": "stream",
     "text": [
      "shape: (110_368, 3)\n",
      "┌──────────────────┬──────────────────────────────────┬─────┐\n",
      "│ date             ┆ crossborder_actual_flow_de_lu_ch ┆ dst │\n",
      "│ ---              ┆ ---                              ┆ --- │\n",
      "│ str              ┆ f64                              ┆ i16 │\n",
      "╞══════════════════╪══════════════════════════════════╪═════╡\n",
      "│ 2019-01-01 00:00 ┆ 3652.0                           ┆ 1   │\n",
      "│ 2019-01-01 01:00 ┆ 3536.0                           ┆ 1   │\n",
      "│ 2019-01-01 02:00 ┆ 3677.0                           ┆ 1   │\n",
      "│ 2019-01-01 03:00 ┆ 3714.0                           ┆ 1   │\n",
      "│ 2019-01-01 04:00 ┆ 3427.0                           ┆ 1   │\n",
      "│ …                ┆ …                                ┆ …   │\n",
      "│ 2024-01-31 22:45 ┆ 2845.0                           ┆ 1   │\n",
      "│ 2024-01-31 23:00 ┆ 3305.0                           ┆ 1   │\n",
      "│ 2024-01-31 23:15 ┆ 3449.0                           ┆ 1   │\n",
      "│ 2024-01-31 23:30 ┆ 3209.0                           ┆ 1   │\n",
      "│ 2024-01-31 23:45 ┆ 3010.0                           ┆ 1   │\n",
      "└──────────────────┴──────────────────────────────────┴─────┘\n"
     ]
    }
   ],
   "source": [
    "flow_de_lu_ch = (\n",
    "    pl.read_csv(\"./Raw Data/crossborder_physical_flow_mw_DE_LU_CH.csv\")\n",
    "    .with_columns(pl.col(\"date\").str.to_datetime())\n",
    "    .with_columns(pl.col(\"date\").dt.convert_time_zone(\"Europe/Zurich\"))\n",
    "    .with_columns((pl.col(\"date\").dt.dst_offset() == 0).cast(pl.Int16).alias(\"dst\"))\n",
    "    .with_columns(pl.col(\"date\").dt.strftime(\"%Y-%m-%d %H:%M\"))\n",
    "    .unique(subset=[\"date\", \"dst\"])\n",
    "    .rename({\"crossborder_physical_flow_mw\": \"crossborder_actual_flow_de_lu_ch\"})\n",
    "    .sort(\"date\")\n",
    ")\n",
    "\n",
    "flow_de_lu_ch.pipe(print)"
   ]
  },
  {
   "cell_type": "code",
   "execution_count": 226,
   "metadata": {},
   "outputs": [
    {
     "name": "stdout",
     "output_type": "stream",
     "text": [
      "shape: (44_563, 3)\n",
      "┌──────────────────┬───────────────────────────────┬─────┐\n",
      "│ date             ┆ crossborder_actual_flow_fr_ch ┆ dst │\n",
      "│ ---              ┆ ---                           ┆ --- │\n",
      "│ str              ┆ f64                           ┆ i16 │\n",
      "╞══════════════════╪═══════════════════════════════╪═════╡\n",
      "│ 2019-01-01 00:00 ┆ 0.0                           ┆ 1   │\n",
      "│ 2019-01-01 01:00 ┆ 0.0                           ┆ 1   │\n",
      "│ 2019-01-01 02:00 ┆ 0.0                           ┆ 1   │\n",
      "│ 2019-01-01 03:00 ┆ 115.0                         ┆ 1   │\n",
      "│ 2019-01-01 04:00 ┆ 0.0                           ┆ 1   │\n",
      "│ …                ┆ …                             ┆ …   │\n",
      "│ 2024-01-31 19:00 ┆ 1139.0                        ┆ 1   │\n",
      "│ 2024-01-31 20:00 ┆ 1154.0                        ┆ 1   │\n",
      "│ 2024-01-31 21:00 ┆ 1546.0                        ┆ 1   │\n",
      "│ 2024-01-31 22:00 ┆ 1693.0                        ┆ 1   │\n",
      "│ 2024-01-31 23:00 ┆ 1905.0                        ┆ 1   │\n",
      "└──────────────────┴───────────────────────────────┴─────┘\n"
     ]
    }
   ],
   "source": [
    "flow_fr_ch = (\n",
    "    pl.read_csv(\"./Raw Data/crossborder_physical_flow_mw_FR_CH.csv\")\n",
    "    .with_columns(pl.col(\"date\").str.to_datetime())\n",
    "    .with_columns(pl.col(\"date\").dt.convert_time_zone(\"Europe/Zurich\"))\n",
    "    .with_columns((pl.col(\"date\").dt.dst_offset() == 0).cast(pl.Int16).alias(\"dst\"))\n",
    "    .with_columns(pl.col(\"date\").dt.strftime(\"%Y-%m-%d %H:%M\"))\n",
    "    .unique(subset=[\"date\", \"dst\"])\n",
    "    .rename({\"crossborder_physical_flow_mw\": \"crossborder_actual_flow_fr_ch\"})\n",
    "    .sort(\"date\")\n",
    ")\n",
    "\n",
    "flow_fr_ch.pipe(print)"
   ]
  },
  {
   "cell_type": "code",
   "execution_count": 227,
   "metadata": {},
   "outputs": [
    {
     "name": "stdout",
     "output_type": "stream",
     "text": [
      "shape: (44_563, 3)\n",
      "┌──────────────────┬───────────────────────────────┬─────┐\n",
      "│ date             ┆ crossborder_actual_flow_it_ch ┆ dst │\n",
      "│ ---              ┆ ---                           ┆ --- │\n",
      "│ str              ┆ f64                           ┆ i16 │\n",
      "╞══════════════════╪═══════════════════════════════╪═════╡\n",
      "│ 2019-01-01 00:00 ┆ 0.0                           ┆ 1   │\n",
      "│ 2019-01-01 01:00 ┆ 0.0                           ┆ 1   │\n",
      "│ 2019-01-01 02:00 ┆ 0.0                           ┆ 1   │\n",
      "│ 2019-01-01 03:00 ┆ 0.0                           ┆ 1   │\n",
      "│ 2019-01-01 04:00 ┆ 0.0                           ┆ 1   │\n",
      "│ …                ┆ …                             ┆ …   │\n",
      "│ 2024-01-31 19:00 ┆ 0.0                           ┆ 1   │\n",
      "│ 2024-01-31 20:00 ┆ 0.0                           ┆ 1   │\n",
      "│ 2024-01-31 21:00 ┆ 0.0                           ┆ 1   │\n",
      "│ 2024-01-31 22:00 ┆ 0.0                           ┆ 1   │\n",
      "│ 2024-01-31 23:00 ┆ 0.0                           ┆ 1   │\n",
      "└──────────────────┴───────────────────────────────┴─────┘\n"
     ]
    }
   ],
   "source": [
    "flow_it_ch = (\n",
    "    pl.read_csv(\"./Raw Data/crossborder_physical_flow_mw_IT_CH.csv\")\n",
    "    .with_columns(pl.col(\"date\").str.to_datetime())\n",
    "    .with_columns(pl.col(\"date\").dt.convert_time_zone(\"Europe/Zurich\"))\n",
    "    .with_columns((pl.col(\"date\").dt.dst_offset() == 0).cast(pl.Int16).alias(\"dst\"))\n",
    "    .with_columns(pl.col(\"date\").dt.strftime(\"%Y-%m-%d %H:%M\"))\n",
    "    .unique(subset=[\"date\", \"dst\"])\n",
    "    .rename({\"crossborder_physical_flow_mw\": \"crossborder_actual_flow_it_ch\"})\n",
    "    .sort(\"date\")\n",
    ")\n",
    "\n",
    "flow_it_ch.pipe(print)"
   ]
  },
  {
   "cell_type": "markdown",
   "metadata": {},
   "source": [
    "### Cross Border Capacity Day Ahead Forecast"
   ]
  },
  {
   "cell_type": "code",
   "execution_count": 228,
   "metadata": {},
   "outputs": [
    {
     "name": "stdout",
     "output_type": "stream",
     "text": [
      "shape: (44_563, 3)\n",
      "┌──────────────────┬─────────────────────────┬─────┐\n",
      "│ date             ┆ capacity_forecast_at_ch ┆ dst │\n",
      "│ ---              ┆ ---                     ┆ --- │\n",
      "│ str              ┆ f64                     ┆ i16 │\n",
      "╞══════════════════╪═════════════════════════╪═════╡\n",
      "│ 2019-01-01 00:00 ┆ 1200.0                  ┆ 1   │\n",
      "│ 2019-01-01 01:00 ┆ 1200.0                  ┆ 1   │\n",
      "│ 2019-01-01 02:00 ┆ 1200.0                  ┆ 1   │\n",
      "│ 2019-01-01 03:00 ┆ 1200.0                  ┆ 1   │\n",
      "│ 2019-01-01 04:00 ┆ 1200.0                  ┆ 1   │\n",
      "│ …                ┆ …                       ┆ …   │\n",
      "│ 2024-01-31 19:00 ┆ 1200.0                  ┆ 1   │\n",
      "│ 2024-01-31 20:00 ┆ 1200.0                  ┆ 1   │\n",
      "│ 2024-01-31 21:00 ┆ 1200.0                  ┆ 1   │\n",
      "│ 2024-01-31 22:00 ┆ 1200.0                  ┆ 1   │\n",
      "│ 2024-01-31 23:00 ┆ 1200.0                  ┆ 1   │\n",
      "└──────────────────┴─────────────────────────┴─────┘\n"
     ]
    }
   ],
   "source": [
    "capacity_forecast_at_ch = (\n",
    "    pl.read_csv(\"./Raw Data/crossborder_capacity_forecast_AT_CH.csv\")\n",
    "    .with_columns(pl.col(\"date\").str.to_datetime())\n",
    "    .with_columns(pl.col(\"date\").dt.convert_time_zone(\"Europe/Zurich\"))\n",
    "    .with_columns((pl.col(\"date\").dt.dst_offset() == 0).cast(pl.Int16).alias(\"dst\"))\n",
    "    .with_columns(pl.col(\"date\").dt.strftime(\"%Y-%m-%d %H:%M\"))\n",
    "    .unique(subset=[\"date\", \"dst\"])\n",
    "    .rename({\"crossborder_capacity_forecast_day_ahead_mw\": \"capacity_forecast_at_ch\"})\n",
    "    .sort(\"date\")\n",
    ")\n",
    "\n",
    "capacity_forecast_at_ch.pipe(print)"
   ]
  },
  {
   "cell_type": "code",
   "execution_count": 229,
   "metadata": {},
   "outputs": [
    {
     "name": "stdout",
     "output_type": "stream",
     "text": [
      "shape: (44_563, 3)\n",
      "┌──────────────────┬─────────────────────────┬─────┐\n",
      "│ date             ┆ capacity_forecast_ch_at ┆ dst │\n",
      "│ ---              ┆ ---                     ┆ --- │\n",
      "│ str              ┆ f64                     ┆ i16 │\n",
      "╞══════════════════╪═════════════════════════╪═════╡\n",
      "│ 2019-01-01 00:00 ┆ 700.0                   ┆ 1   │\n",
      "│ 2019-01-01 01:00 ┆ 700.0                   ┆ 1   │\n",
      "│ 2019-01-01 02:00 ┆ 700.0                   ┆ 1   │\n",
      "│ 2019-01-01 03:00 ┆ 700.0                   ┆ 1   │\n",
      "│ 2019-01-01 04:00 ┆ 700.0                   ┆ 1   │\n",
      "│ …                ┆ …                       ┆ …   │\n",
      "│ 2024-01-31 19:00 ┆ 1200.0                  ┆ 1   │\n",
      "│ 2024-01-31 20:00 ┆ 1200.0                  ┆ 1   │\n",
      "│ 2024-01-31 21:00 ┆ 1200.0                  ┆ 1   │\n",
      "│ 2024-01-31 22:00 ┆ 1200.0                  ┆ 1   │\n",
      "│ 2024-01-31 23:00 ┆ 1200.0                  ┆ 1   │\n",
      "└──────────────────┴─────────────────────────┴─────┘\n"
     ]
    }
   ],
   "source": [
    "capacity_forecast_ch_at = (\n",
    "    pl.read_csv(\"./Raw Data/crossborder_capacity_forecast_CH_AT.csv\")\n",
    "    .with_columns(pl.col(\"date\").str.to_datetime())\n",
    "    .with_columns(pl.col(\"date\").dt.convert_time_zone(\"Europe/Zurich\"))\n",
    "    .with_columns((pl.col(\"date\").dt.dst_offset() == 0).cast(pl.Int16).alias(\"dst\"))\n",
    "    .with_columns(pl.col(\"date\").dt.strftime(\"%Y-%m-%d %H:%M\"))\n",
    "    .unique(subset=[\"date\", \"dst\"])\n",
    "    .rename({\"crossborder_capacity_forecast_day_ahead_mw\": \"capacity_forecast_ch_at\"})\n",
    "    .sort(\"date\")\n",
    ")\n",
    "\n",
    "capacity_forecast_ch_at.pipe(print)"
   ]
  },
  {
   "cell_type": "code",
   "execution_count": 230,
   "metadata": {},
   "outputs": [
    {
     "name": "stdout",
     "output_type": "stream",
     "text": [
      "shape: (44_563, 3)\n",
      "┌──────────────────┬────────────────────────────┬─────┐\n",
      "│ date             ┆ capacity_forecast_ch_de_lu ┆ dst │\n",
      "│ ---              ┆ ---                        ┆ --- │\n",
      "│ str              ┆ f64                        ┆ i16 │\n",
      "╞══════════════════╪════════════════════════════╪═════╡\n",
      "│ 2019-01-01 00:00 ┆ 4000.0                     ┆ 1   │\n",
      "│ 2019-01-01 01:00 ┆ 4000.0                     ┆ 1   │\n",
      "│ 2019-01-01 02:00 ┆ 4000.0                     ┆ 1   │\n",
      "│ 2019-01-01 03:00 ┆ 4000.0                     ┆ 1   │\n",
      "│ 2019-01-01 04:00 ┆ 4000.0                     ┆ 1   │\n",
      "│ …                ┆ …                          ┆ …   │\n",
      "│ 2024-01-31 19:00 ┆ 4000.0                     ┆ 1   │\n",
      "│ 2024-01-31 20:00 ┆ 4000.0                     ┆ 1   │\n",
      "│ 2024-01-31 21:00 ┆ 4000.0                     ┆ 1   │\n",
      "│ 2024-01-31 22:00 ┆ 4000.0                     ┆ 1   │\n",
      "│ 2024-01-31 23:00 ┆ 4000.0                     ┆ 1   │\n",
      "└──────────────────┴────────────────────────────┴─────┘\n"
     ]
    }
   ],
   "source": [
    "capacity_forecast_ch_de_lu = (\n",
    "    pl.read_csv(\"./Raw Data/crossborder_capacity_forecast_CH_DE_LU.csv\")\n",
    "    .with_columns(pl.col(\"date\").str.to_datetime())\n",
    "    .with_columns(pl.col(\"date\").dt.convert_time_zone(\"Europe/Zurich\"))\n",
    "    .with_columns((pl.col(\"date\").dt.dst_offset() == 0).cast(pl.Int16).alias(\"dst\"))\n",
    "    .with_columns(pl.col(\"date\").dt.strftime(\"%Y-%m-%d %H:%M\"))\n",
    "    .unique(subset=[\"date\", \"dst\"])\n",
    "    .rename({\"crossborder_capacity_forecast_day_ahead_mw\": \"capacity_forecast_ch_de_lu\"})\n",
    "    .sort(\"date\")\n",
    ")\n",
    "\n",
    "capacity_forecast_ch_de_lu.pipe(print)"
   ]
  },
  {
   "cell_type": "code",
   "execution_count": 231,
   "metadata": {},
   "outputs": [
    {
     "name": "stdout",
     "output_type": "stream",
     "text": [
      "shape: (44_563, 3)\n",
      "┌──────────────────┬─────────────────────────┬─────┐\n",
      "│ date             ┆ capacity_forecast_ch_fr ┆ dst │\n",
      "│ ---              ┆ ---                     ┆ --- │\n",
      "│ str              ┆ f64                     ┆ i16 │\n",
      "╞══════════════════╪═════════════════════════╪═════╡\n",
      "│ 2019-01-01 00:00 ┆ 1200.0                  ┆ 1   │\n",
      "│ 2019-01-01 01:00 ┆ 1200.0                  ┆ 1   │\n",
      "│ 2019-01-01 02:00 ┆ 1200.0                  ┆ 1   │\n",
      "│ 2019-01-01 03:00 ┆ 1200.0                  ┆ 1   │\n",
      "│ 2019-01-01 04:00 ┆ 1200.0                  ┆ 1   │\n",
      "│ …                ┆ …                       ┆ …   │\n",
      "│ 2024-01-31 19:00 ┆ 1300.0                  ┆ 1   │\n",
      "│ 2024-01-31 20:00 ┆ 1300.0                  ┆ 1   │\n",
      "│ 2024-01-31 21:00 ┆ 1300.0                  ┆ 1   │\n",
      "│ 2024-01-31 22:00 ┆ 1300.0                  ┆ 1   │\n",
      "│ 2024-01-31 23:00 ┆ 1300.0                  ┆ 1   │\n",
      "└──────────────────┴─────────────────────────┴─────┘\n"
     ]
    }
   ],
   "source": [
    "capacity_forecast_ch_fr = (\n",
    "    pl.read_csv(\"./Raw Data/crossborder_capacity_forecast_CH_FR.csv\")\n",
    "    .with_columns(pl.col(\"date\").str.to_datetime())\n",
    "    .with_columns(pl.col(\"date\").dt.convert_time_zone(\"Europe/Zurich\"))\n",
    "    .with_columns((pl.col(\"date\").dt.dst_offset() == 0).cast(pl.Int16).alias(\"dst\"))\n",
    "    .with_columns(pl.col(\"date\").dt.strftime(\"%Y-%m-%d %H:%M\"))\n",
    "    .unique(subset=[\"date\", \"dst\"])\n",
    "    .rename({\"crossborder_capacity_forecast_day_ahead_mw\": \"capacity_forecast_ch_fr\"})\n",
    "    .sort(\"date\")\n",
    ")\n",
    "\n",
    "capacity_forecast_ch_fr.pipe(print)"
   ]
  },
  {
   "cell_type": "code",
   "execution_count": 232,
   "metadata": {},
   "outputs": [
    {
     "name": "stdout",
     "output_type": "stream",
     "text": [
      "shape: (44_563, 3)\n",
      "┌──────────────────┬─────────────────────────┬─────┐\n",
      "│ date             ┆ capacity_forecast_ch_it ┆ dst │\n",
      "│ ---              ┆ ---                     ┆ --- │\n",
      "│ str              ┆ f64                     ┆ i16 │\n",
      "╞══════════════════╪═════════════════════════╪═════╡\n",
      "│ 2019-01-01 00:00 ┆ 2513.0                  ┆ 1   │\n",
      "│ 2019-01-01 01:00 ┆ 2513.0                  ┆ 1   │\n",
      "│ 2019-01-01 02:00 ┆ 2513.0                  ┆ 1   │\n",
      "│ 2019-01-01 03:00 ┆ 2513.0                  ┆ 1   │\n",
      "│ 2019-01-01 04:00 ┆ 2513.0                  ┆ 1   │\n",
      "│ …                ┆ …                       ┆ …   │\n",
      "│ 2024-01-31 19:00 ┆ 4322.0                  ┆ 1   │\n",
      "│ 2024-01-31 20:00 ┆ 4322.0                  ┆ 1   │\n",
      "│ 2024-01-31 21:00 ┆ 4137.0                  ┆ 1   │\n",
      "│ 2024-01-31 22:00 ┆ 4137.0                  ┆ 1   │\n",
      "│ 2024-01-31 23:00 ┆ 3620.0                  ┆ 1   │\n",
      "└──────────────────┴─────────────────────────┴─────┘\n"
     ]
    }
   ],
   "source": [
    "capacity_forecast_ch_it = (\n",
    "    pl.read_csv(\"./Raw Data/crossborder_capacity_forecast_CH_IT.csv\")\n",
    "    .with_columns(pl.col(\"date\").str.to_datetime())\n",
    "    .with_columns(pl.col(\"date\").dt.convert_time_zone(\"Europe/Zurich\"))\n",
    "    .with_columns((pl.col(\"date\").dt.dst_offset() == 0).cast(pl.Int16).alias(\"dst\"))\n",
    "    .with_columns(pl.col(\"date\").dt.strftime(\"%Y-%m-%d %H:%M\"))\n",
    "    .unique(subset=[\"date\", \"dst\"])\n",
    "    .rename({\"crossborder_capacity_forecast_day_ahead_mw\": \"capacity_forecast_ch_it\"})\n",
    "    .sort(\"date\")\n",
    ")\n",
    "\n",
    "capacity_forecast_ch_it.pipe(print)"
   ]
  },
  {
   "cell_type": "code",
   "execution_count": 233,
   "metadata": {},
   "outputs": [
    {
     "name": "stdout",
     "output_type": "stream",
     "text": [
      "shape: (44_563, 3)\n",
      "┌──────────────────┬────────────────────────────┬─────┐\n",
      "│ date             ┆ capacity_forecast_de_lu_ch ┆ dst │\n",
      "│ ---              ┆ ---                        ┆ --- │\n",
      "│ str              ┆ f64                        ┆ i16 │\n",
      "╞══════════════════╪════════════════════════════╪═════╡\n",
      "│ 2019-01-01 00:00 ┆ 800.0                      ┆ 1   │\n",
      "│ 2019-01-01 01:00 ┆ 800.0                      ┆ 1   │\n",
      "│ 2019-01-01 02:00 ┆ 800.0                      ┆ 1   │\n",
      "│ 2019-01-01 03:00 ┆ 800.0                      ┆ 1   │\n",
      "│ 2019-01-01 04:00 ┆ 800.0                      ┆ 1   │\n",
      "│ …                ┆ …                          ┆ …   │\n",
      "│ 2024-01-31 19:00 ┆ 800.0                      ┆ 1   │\n",
      "│ 2024-01-31 20:00 ┆ 800.0                      ┆ 1   │\n",
      "│ 2024-01-31 21:00 ┆ 800.0                      ┆ 1   │\n",
      "│ 2024-01-31 22:00 ┆ 800.0                      ┆ 1   │\n",
      "│ 2024-01-31 23:00 ┆ 800.0                      ┆ 1   │\n",
      "└──────────────────┴────────────────────────────┴─────┘\n"
     ]
    }
   ],
   "source": [
    "capacity_forecast_de_lu_ch = (\n",
    "    pl.read_csv(\"./Raw Data/crossborder_capacity_forecast_DE_LU_CH.csv\")\n",
    "    .with_columns(pl.col(\"date\").str.to_datetime())\n",
    "    .with_columns(pl.col(\"date\").dt.convert_time_zone(\"Europe/Zurich\"))\n",
    "    .with_columns((pl.col(\"date\").dt.dst_offset() == 0).cast(pl.Int16).alias(\"dst\"))\n",
    "    .with_columns(pl.col(\"date\").dt.strftime(\"%Y-%m-%d %H:%M\"))\n",
    "    .unique(subset=[\"date\", \"dst\"])\n",
    "    .rename({\"crossborder_capacity_forecast_day_ahead_mw\": \"capacity_forecast_de_lu_ch\"})\n",
    "    .sort(\"date\")\n",
    ")\n",
    "\n",
    "capacity_forecast_de_lu_ch.pipe(print)"
   ]
  },
  {
   "cell_type": "code",
   "execution_count": 234,
   "metadata": {},
   "outputs": [
    {
     "name": "stdout",
     "output_type": "stream",
     "text": [
      "shape: (44_563, 3)\n",
      "┌──────────────────┬─────────────────────────┬─────┐\n",
      "│ date             ┆ capacity_forecast_FR_CH ┆ dst │\n",
      "│ ---              ┆ ---                     ┆ --- │\n",
      "│ str              ┆ f64                     ┆ i16 │\n",
      "╞══════════════════╪═════════════════════════╪═════╡\n",
      "│ 2019-01-01 00:00 ┆ 3000.0                  ┆ 1   │\n",
      "│ 2019-01-01 01:00 ┆ 3000.0                  ┆ 1   │\n",
      "│ 2019-01-01 02:00 ┆ 3000.0                  ┆ 1   │\n",
      "│ 2019-01-01 03:00 ┆ 3000.0                  ┆ 1   │\n",
      "│ 2019-01-01 04:00 ┆ 3000.0                  ┆ 1   │\n",
      "│ …                ┆ …                       ┆ …   │\n",
      "│ 2024-01-31 19:00 ┆ 3200.0                  ┆ 1   │\n",
      "│ 2024-01-31 20:00 ┆ 3200.0                  ┆ 1   │\n",
      "│ 2024-01-31 21:00 ┆ 3200.0                  ┆ 1   │\n",
      "│ 2024-01-31 22:00 ┆ 3200.0                  ┆ 1   │\n",
      "│ 2024-01-31 23:00 ┆ 3200.0                  ┆ 1   │\n",
      "└──────────────────┴─────────────────────────┴─────┘\n"
     ]
    }
   ],
   "source": [
    "capacity_forecast_fr_ch = (\n",
    "    pl.read_csv(\"./Raw Data/crossborder_capacity_forecast_FR_CH.csv\")\n",
    "    .with_columns(pl.col(\"date\").str.to_datetime())\n",
    "    .with_columns(pl.col(\"date\").dt.convert_time_zone(\"Europe/Zurich\"))\n",
    "    .with_columns((pl.col(\"date\").dt.dst_offset() == 0).cast(pl.Int16).alias(\"dst\"))\n",
    "    .with_columns(pl.col(\"date\").dt.strftime(\"%Y-%m-%d %H:%M\"))\n",
    "    .unique(subset=[\"date\", \"dst\"])\n",
    "    .rename({\"crossborder_capacity_forecast_day_ahead_mw\": \"capacity_forecast_FR_CH\"})\n",
    "    .sort(\"date\")\n",
    ")\n",
    "\n",
    "capacity_forecast_fr_ch.pipe(print)"
   ]
  },
  {
   "cell_type": "code",
   "execution_count": 235,
   "metadata": {},
   "outputs": [
    {
     "name": "stdout",
     "output_type": "stream",
     "text": [
      "shape: (44_563, 3)\n",
      "┌──────────────────┬─────────────────────────┬─────┐\n",
      "│ date             ┆ capacity_forecast_it_ch ┆ dst │\n",
      "│ ---              ┆ ---                     ┆ --- │\n",
      "│ str              ┆ f64                     ┆ i16 │\n",
      "╞══════════════════╪═════════════════════════╪═════╡\n",
      "│ 2019-01-01 00:00 ┆ 1910.0                  ┆ 1   │\n",
      "│ 2019-01-01 01:00 ┆ 1910.0                  ┆ 1   │\n",
      "│ 2019-01-01 02:00 ┆ 1910.0                  ┆ 1   │\n",
      "│ 2019-01-01 03:00 ┆ 1910.0                  ┆ 1   │\n",
      "│ 2019-01-01 04:00 ┆ 1910.0                  ┆ 1   │\n",
      "│ …                ┆ …                       ┆ …   │\n",
      "│ 2024-01-31 19:00 ┆ 1810.0                  ┆ 1   │\n",
      "│ 2024-01-31 20:00 ┆ 1810.0                  ┆ 1   │\n",
      "│ 2024-01-31 21:00 ┆ 1810.0                  ┆ 1   │\n",
      "│ 2024-01-31 22:00 ┆ 1810.0                  ┆ 1   │\n",
      "│ 2024-01-31 23:00 ┆ 1910.0                  ┆ 1   │\n",
      "└──────────────────┴─────────────────────────┴─────┘\n"
     ]
    }
   ],
   "source": [
    "capacity_forecast_it_ch = (\n",
    "    pl.read_csv(\"./Raw Data/crossborder_capacity_forecast_IT_CH.csv\")\n",
    "    .with_columns(pl.col(\"date\").str.to_datetime())\n",
    "    .with_columns(pl.col(\"date\").dt.convert_time_zone(\"Europe/Zurich\"))\n",
    "    .with_columns((pl.col(\"date\").dt.dst_offset() == 0).cast(pl.Int16).alias(\"dst\"))\n",
    "    .with_columns(pl.col(\"date\").dt.strftime(\"%Y-%m-%d %H:%M\"))\n",
    "    .unique(subset=[\"date\", \"dst\"])\n",
    "    .rename({\"crossborder_capacity_forecast_day_ahead_mw\": \"capacity_forecast_it_ch\"})\n",
    "    .sort(\"date\")\n",
    ")\n",
    "\n",
    "capacity_forecast_it_ch.pipe(print)"
   ]
  },
  {
   "cell_type": "markdown",
   "metadata": {},
   "source": [
    "### Joining everything"
   ]
  },
  {
   "cell_type": "code",
   "execution_count": 236,
   "metadata": {},
   "outputs": [
    {
     "data": {
      "text/html": [
       "<div><style>\n",
       ".dataframe > thead > tr,\n",
       ".dataframe > tbody > tr {\n",
       "  text-align: right;\n",
       "  white-space: pre-wrap;\n",
       "}\n",
       "</style>\n",
       "<small>shape: (44_582, 139)</small><table border=\"1\" class=\"dataframe\"><thead><tr><th>date</th><th>dst</th><th>auction_price</th><th>allocatedCapacity</th><th>ATC</th><th>day_ahead_price_at</th><th>day_ahead_price_ch</th><th>day_ahead_price_de</th><th>day_ahead_price_fr</th><th>day_ahead_price_ch_right</th><th>actual_load_at</th><th>actual_load_ch</th><th>actual_load_de</th><th>actual_load_fr</th><th>actual_load_it</th><th>solar_forecast_at</th><th>wind_onshore_forecast_at</th><th>solar_forecast_ch</th><th>wind_onshore_forecast_ch</th><th>solar_forecast_de</th><th>wind_onshore_forecast_de</th><th>wind_offshore_forecast_de</th><th>solar_forecast_fr</th><th>wind_onshore_forecast_fr</th><th>wind_offshore_forecast_fr</th><th>solar_forecast_it</th><th>wind_onshore_forecast_it</th><th>biomass_actual_aggregated_at</th><th>biomass_actual_consumption_at</th><th>fossil_gas_actual_aggregated_at</th><th>fossil_gas_actual_consumption_at</th><th>fossil_hard_coal_actual_aggregated_at</th><th>fossil_hard_coal_actual_consumption_at</th><th>fossil_oil_actual_aggregated_at</th><th>fossil_oil_actual_consumption_at</th><th>geothermal_actual_aggregated_at</th><th>geothermal_actual_consumption_at</th><th>&hellip;</th><th>fossil_gas_actual_aggregated_it</th><th>fossil_hard_coal_actual_aggregated_it</th><th>fossil_hard_coal_actual_consumption_it</th><th>fossil_oil_actual_aggregated_it</th><th>fossil_oil_actual_consumption_it</th><th>geothermal_actual_aggregated_it</th><th>hydro_pumped_storage_actual_aggregated_it</th><th>hydro_pumped_storage_actual_consumption_it</th><th>hydro_run-of-river_and_poundage_actual_aggregated_it</th><th>hydro_water_reservoir_actual_aggregated_it</th><th>other_actual_aggregated_it</th><th>other_actual_consumption_it</th><th>solar_actual_aggregated_it</th><th>solar_actual_consumption_it</th><th>waste_actual_aggregated_it</th><th>wind_offshore_actual_aggregated_it</th><th>wind_onshore_actual_aggregated_it</th><th>hydro_reservoir_storage_at</th><th>hydro_reservoir_storage_ch</th><th>hydro_reservoir_storage_fr</th><th>hydro_reservoir_storage_it</th><th>crossborder_actual_flow_at_ch</th><th>crossborder_actual_flow_ch_at</th><th>crossborder_actual_flow_ch_de_lu</th><th>crossborder_actual_flow_ch_fr</th><th>crossborder_actual_flow_ch_it</th><th>crossborder_actual_flow_de_lu_ch</th><th>crossborder_actual_flow_fr_ch</th><th>crossborder_actual_flow_it_ch</th><th>capacity_forecast_at_ch</th><th>capacity_forecast_ch_at</th><th>capacity_forecast_ch_de_lu</th><th>capacity_forecast_ch_fr</th><th>capacity_forecast_ch_it</th><th>capacity_forecast_de_lu_ch</th><th>capacity_forecast_FR_CH</th><th>capacity_forecast_it_ch</th></tr><tr><td>str</td><td>i16</td><td>f64</td><td>i64</td><td>i64</td><td>f64</td><td>f64</td><td>f64</td><td>f64</td><td>f64</td><td>f64</td><td>f64</td><td>f64</td><td>f64</td><td>f64</td><td>f64</td><td>f64</td><td>f64</td><td>f64</td><td>f64</td><td>f64</td><td>f64</td><td>f64</td><td>f64</td><td>str</td><td>f64</td><td>str</td><td>f64</td><td>f64</td><td>f64</td><td>f64</td><td>f64</td><td>f64</td><td>f64</td><td>f64</td><td>f64</td><td>f64</td><td>&hellip;</td><td>f64</td><td>f64</td><td>f64</td><td>f64</td><td>f64</td><td>f64</td><td>f64</td><td>f64</td><td>f64</td><td>f64</td><td>f64</td><td>f64</td><td>f64</td><td>f64</td><td>f64</td><td>f64</td><td>f64</td><td>f64</td><td>f64</td><td>f64</td><td>f64</td><td>f64</td><td>f64</td><td>f64</td><td>f64</td><td>f64</td><td>f64</td><td>f64</td><td>f64</td><td>f64</td><td>f64</td><td>f64</td><td>f64</td><td>f64</td><td>f64</td><td>f64</td><td>f64</td></tr></thead><tbody><tr><td>&quot;2021-03-27 19:…</td><td>1</td><td>0.0</td><td>4335</td><td>4336</td><td>66.1</td><td>63.19</td><td>66.1</td><td>66.1</td><td>66.1</td><td>7110.25</td><td>6453.0</td><td>60467.5</td><td>55907.0</td><td>34913.0</td><td>0.0</td><td>1814.0</td><td>0.0</td><td>0.0</td><td>0.0</td><td>20533.0</td><td>5122.5</td><td>15.0</td><td>2114.0</td><td>null</td><td>0.0</td><td>null</td><td>180.0</td><td>0.0</td><td>1304.5</td><td>0.0</td><td>0.0</td><td>0.0</td><td>0.0</td><td>0.0</td><td>0.0</td><td>0.0</td><td>&hellip;</td><td>13242.0</td><td>864.0</td><td>null</td><td>93.0</td><td>null</td><td>632.0</td><td>1974.0</td><td>null</td><td>4709.0</td><td>1208.0</td><td>2248.0</td><td>null</td><td>0.0</td><td>null</td><td>39.0</td><td>null</td><td>1179.0</td><td>349156.0</td><td>915140.0</td><td>994654.0</td><td>2.205432e6</td><td>657.0</td><td>0.0</td><td>258.0</td><td>168.0</td><td>3634.0</td><td>825.0</td><td>0.0</td><td>0.0</td><td>900.0</td><td>1200.0</td><td>4000.0</td><td>1400.0</td><td>4090.0</td><td>800.0</td><td>2385.0</td><td>1810.0</td></tr><tr><td>&quot;2022-08-03 11:…</td><td>0</td><td>0.0</td><td>4060</td><td>4070</td><td>385.06</td><td>440.13</td><td>244.61</td><td>497.13</td><td>497.13</td><td>7388.0</td><td>6702.0</td><td>64852.75</td><td>51032.0</td><td>43532.0</td><td>658.0</td><td>24.0</td><td>58.0</td><td>0.0</td><td>33008.5</td><td>3039.0</td><td>3266.75</td><td>8339.0</td><td>454.0</td><td>null</td><td>9718.0</td><td>null</td><td>308.0</td><td>0.0</td><td>693.0</td><td>0.0</td><td>0.0</td><td>0.0</td><td>0.0</td><td>0.0</td><td>0.0</td><td>0.0</td><td>&hellip;</td><td>17813.0</td><td>2058.0</td><td>null</td><td>362.0</td><td>null</td><td>605.0</td><td>280.0</td><td>null</td><td>2265.0</td><td>264.0</td><td>1824.0</td><td>null</td><td>9842.0</td><td>null</td><td>24.0</td><td>2.0</td><td>987.0</td><td>1.715317e6</td><td>4.630849e6</td><td>2.274044e6</td><td>2.361321e6</td><td>824.0</td><td>0.0</td><td>316.0</td><td>1186.0</td><td>2735.0</td><td>1431.0</td><td>0.0</td><td>0.0</td><td>900.0</td><td>1200.0</td><td>3700.0</td><td>900.0</td><td>3397.0</td><td>1800.0</td><td>2700.0</td><td>1440.0</td></tr><tr><td>&quot;2023-07-05 07:…</td><td>0</td><td>0.57</td><td>3670</td><td>3670</td><td>98.55</td><td>98.52</td><td>92.59</td><td>95.07</td><td>124.32</td><td>6975.0</td><td>6654.0</td><td>58007.75</td><td>42295.0</td><td>35988.0</td><td>232.0</td><td>126.0</td><td>26.0</td><td>0.0</td><td>5378.0</td><td>26798.75</td><td>4205.25</td><td>717.0</td><td>7110.0</td><td>null</td><td>2289.0</td><td>null</td><td>98.0</td><td>0.0</td><td>0.0</td><td>0.0</td><td>0.0</td><td>0.0</td><td>0.0</td><td>0.0</td><td>0.0</td><td>0.0</td><td>&hellip;</td><td>14713.0</td><td>1939.0</td><td>null</td><td>22.0</td><td>null</td><td>613.0</td><td>379.0</td><td>83.0</td><td>5141.0</td><td>694.0</td><td>2033.0</td><td>null</td><td>2774.0</td><td>null</td><td>348.0</td><td>1.0</td><td>855.0</td><td>1.236938e6</td><td>3.409793e6</td><td>2.965488e6</td><td>3.726987e6</td><td>226.0</td><td>0.0</td><td>70.0</td><td>0.0</td><td>2139.0</td><td>283.0</td><td>1218.0</td><td>0.0</td><td>900.0</td><td>800.0</td><td>3600.0</td><td>1200.0</td><td>2947.0</td><td>800.0</td><td>3000.0</td><td>1440.0</td></tr><tr><td>&quot;2023-08-05 21:…</td><td>0</td><td>12.49</td><td>3561</td><td>3561</td><td>103.91</td><td>92.95</td><td>109.23</td><td>90.0</td><td>103.91</td><td>5272.75</td><td>5332.0</td><td>42471.5</td><td>36934.0</td><td>28750.0</td><td>0.0</td><td>2301.0</td><td>0.0</td><td>0.0</td><td>7.25</td><td>4656.25</td><td>520.0</td><td>39.0</td><td>12246.0</td><td>null</td><td>0.0</td><td>null</td><td>102.0</td><td>0.0</td><td>0.0</td><td>0.0</td><td>0.0</td><td>0.0</td><td>0.0</td><td>0.0</td><td>0.0</td><td>0.0</td><td>&hellip;</td><td>8855.0</td><td>191.0</td><td>null</td><td>15.0</td><td>null</td><td>626.0</td><td>1955.0</td><td>2.0</td><td>5444.0</td><td>982.0</td><td>1777.0</td><td>null</td><td>0.0</td><td>null</td><td>358.0</td><td>12.0</td><td>3120.0</td><td>1.69321e6</td><td>4.21398e6</td><td>2.985265e6</td><td>3.645141e6</td><td>120.0</td><td>0.0</td><td>2052.0</td><td>241.0</td><td>2159.0</td><td>134.0</td><td>0.0</td><td>0.0</td><td>800.0</td><td>1200.0</td><td>4000.0</td><td>800.0</td><td>2981.0</td><td>1400.0</td><td>2227.0</td><td>1440.0</td></tr><tr><td>&quot;2023-10-07 08:…</td><td>0</td><td>0.06</td><td>4094</td><td>4095</td><td>78.02</td><td>86.96</td><td>70.82</td><td>72.94</td><td>140.0</td><td>6013.0</td><td>5015.0</td><td>48890.75</td><td>36560.0</td><td>29757.0</td><td>158.0</td><td>855.0</td><td>13.0</td><td>0.0</td><td>3211.0</td><td>24084.25</td><td>2200.5</td><td>0.0</td><td>2379.0</td><td>null</td><td>2598.0</td><td>null</td><td>164.0</td><td>0.0</td><td>0.0</td><td>0.0</td><td>0.0</td><td>0.0</td><td>0.0</td><td>0.0</td><td>0.0</td><td>0.0</td><td>&hellip;</td><td>10575.0</td><td>355.0</td><td>null</td><td>16.0</td><td>null</td><td>624.0</td><td>364.0</td><td>null</td><td>4298.0</td><td>687.0</td><td>1173.0</td><td>null</td><td>3057.0</td><td>null</td><td>373.0</td><td>1.0</td><td>443.0</td><td>1.861453e6</td><td>4.689763e6</td><td>2.705939e6</td><td>3.336157e6</td><td>155.0</td><td>0.0</td><td>0.0</td><td>0.0</td><td>2806.0</td><td>1952.0</td><td>1238.0</td><td>0.0</td><td>450.0</td><td>450.0</td><td>4000.0</td><td>1200.0</td><td>3070.0</td><td>800.0</td><td>2385.0</td><td>1810.0</td></tr><tr><td>&hellip;</td><td>&hellip;</td><td>&hellip;</td><td>&hellip;</td><td>&hellip;</td><td>&hellip;</td><td>&hellip;</td><td>&hellip;</td><td>&hellip;</td><td>&hellip;</td><td>&hellip;</td><td>&hellip;</td><td>&hellip;</td><td>&hellip;</td><td>&hellip;</td><td>&hellip;</td><td>&hellip;</td><td>&hellip;</td><td>&hellip;</td><td>&hellip;</td><td>&hellip;</td><td>&hellip;</td><td>&hellip;</td><td>&hellip;</td><td>&hellip;</td><td>&hellip;</td><td>&hellip;</td><td>&hellip;</td><td>&hellip;</td><td>&hellip;</td><td>&hellip;</td><td>&hellip;</td><td>&hellip;</td><td>&hellip;</td><td>&hellip;</td><td>&hellip;</td><td>&hellip;</td><td>&hellip;</td><td>&hellip;</td><td>&hellip;</td><td>&hellip;</td><td>&hellip;</td><td>&hellip;</td><td>&hellip;</td><td>&hellip;</td><td>&hellip;</td><td>&hellip;</td><td>&hellip;</td><td>&hellip;</td><td>&hellip;</td><td>&hellip;</td><td>&hellip;</td><td>&hellip;</td><td>&hellip;</td><td>&hellip;</td><td>&hellip;</td><td>&hellip;</td><td>&hellip;</td><td>&hellip;</td><td>&hellip;</td><td>&hellip;</td><td>&hellip;</td><td>&hellip;</td><td>&hellip;</td><td>&hellip;</td><td>&hellip;</td><td>&hellip;</td><td>&hellip;</td><td>&hellip;</td><td>&hellip;</td><td>&hellip;</td><td>&hellip;</td><td>&hellip;</td><td>&hellip;</td><td>&hellip;</td></tr><tr><td>&quot;2022-12-16 11:…</td><td>1</td><td>0.88</td><td>3713</td><td>3714</td><td>538.45</td><td>500.99</td><td>540.83</td><td>537.39</td><td>537.39</td><td>9809.0</td><td>9687.0</td><td>70394.0</td><td>75647.0</td><td>41763.0</td><td>114.0</td><td>972.0</td><td>25.0</td><td>0.0</td><td>5047.5</td><td>1943.0</td><td>299.0</td><td>3274.0</td><td>3186.0</td><td>null</td><td>2849.0</td><td>null</td><td>276.0</td><td>0.0</td><td>2913.5</td><td>0.0</td><td>0.0</td><td>0.0</td><td>0.0</td><td>0.0</td><td>0.0</td><td>0.0</td><td>&hellip;</td><td>19163.0</td><td>3143.0</td><td>null</td><td>319.0</td><td>null</td><td>618.0</td><td>454.0</td><td>null</td><td>3429.0</td><td>651.0</td><td>3053.0</td><td>null</td><td>2614.0</td><td>null</td><td>32.0</td><td>29.0</td><td>4739.0</td><td>1.677478e6</td><td>4.827689e6</td><td>2.190805e6</td><td>2.239061e6</td><td>0.0</td><td>507.0</td><td>1654.0</td><td>1378.0</td><td>183.0</td><td>0.0</td><td>0.0</td><td>0.0</td><td>1000.0</td><td>1200.0</td><td>4000.0</td><td>1200.0</td><td>3978.0</td><td>2000.0</td><td>3700.0</td><td>1810.0</td></tr><tr><td>&quot;2022-01-26 02:…</td><td>1</td><td>0.0</td><td>4332</td><td>4335</td><td>219.47</td><td>219.62</td><td>215.41</td><td>231.86</td><td>231.86</td><td>6406.75</td><td>7604.0</td><td>54782.0</td><td>70905.0</td><td>26833.0</td><td>0.0</td><td>1332.0</td><td>0.0</td><td>0.0</td><td>0.0</td><td>6918.25</td><td>3525.25</td><td>0.0</td><td>480.0</td><td>null</td><td>0.0</td><td>null</td><td>316.0</td><td>0.0</td><td>2785.25</td><td>0.0</td><td>0.0</td><td>0.0</td><td>0.0</td><td>0.0</td><td>0.0</td><td>0.0</td><td>&hellip;</td><td>14629.0</td><td>2114.0</td><td>null</td><td>233.0</td><td>null</td><td>640.0</td><td>null</td><td>1046.0</td><td>1894.0</td><td>178.0</td><td>1791.0</td><td>null</td><td>0.0</td><td>null</td><td>33.0</td><td>null</td><td>2494.0</td><td>1.037006e6</td><td>2.740467e6</td><td>1.817029e6</td><td>2.195808e6</td><td>1054.0</td><td>0.0</td><td>126.0</td><td>284.0</td><td>811.0</td><td>2920.0</td><td>0.0</td><td>0.0</td><td>1200.0</td><td>1200.0</td><td>4000.0</td><td>1400.0</td><td>2977.0</td><td>1800.0</td><td>3200.0</td><td>1910.0</td></tr><tr><td>&quot;2023-11-06 23:…</td><td>1</td><td>0.09</td><td>3364</td><td>3365</td><td>89.46</td><td>77.41</td><td>87.74</td><td>89.36</td><td>117.01</td><td>6152.25</td><td>6499.0</td><td>52596.75</td><td>51502.0</td><td>27526.0</td><td>0.0</td><td>277.0</td><td>0.0</td><td>0.0</td><td>0.0</td><td>26985.75</td><td>4550.5</td><td>0.0</td><td>7971.0</td><td>null</td><td>0.0</td><td>null</td><td>162.0</td><td>0.0</td><td>284.75</td><td>0.0</td><td>0.0</td><td>0.0</td><td>0.0</td><td>0.0</td><td>0.0</td><td>0.0</td><td>&hellip;</td><td>7378.0</td><td>803.0</td><td>null</td><td>28.0</td><td>null</td><td>608.0</td><td>568.0</td><td>null</td><td>5194.0</td><td>562.0</td><td>1628.0</td><td>null</td><td>0.0</td><td>null</td><td>350.0</td><td>0.0</td><td>2253.0</td><td>1.819247e6</td><td>5.093846e6</td><td>2.847567e6</td><td>3.598085e6</td><td>739.0</td><td>0.0</td><td>0.0</td><td>0.0</td><td>3595.0</td><td>1277.0</td><td>1638.0</td><td>0.0</td><td>1200.0</td><td>1200.0</td><td>4000.0</td><td>1200.0</td><td>3662.0</td><td>800.0</td><td>2385.0</td><td>1910.0</td></tr><tr><td>&quot;2024-01-06 15:…</td><td>1</td><td>0.25</td><td>4284</td><td>4284</td><td>94.22</td><td>91.31</td><td>95.09</td><td>87.3</td><td>103.0</td><td>6485.25</td><td>6476.0</td><td>55069.5</td><td>57933.0</td><td>26175.0</td><td>150.0</td><td>604.0</td><td>10.0</td><td>0.0</td><td>587.0</td><td>11904.5</td><td>5277.75</td><td>2917.0</td><td>6883.0</td><td>null</td><td>486.0</td><td>null</td><td>158.0</td><td>0.0</td><td>1154.25</td><td>0.0</td><td>0.0</td><td>0.0</td><td>0.0</td><td>0.0</td><td>0.0</td><td>0.0</td><td>&hellip;</td><td>8367.0</td><td>492.0</td><td>null</td><td>21.0</td><td>null</td><td>627.0</td><td>446.0</td><td>2.0</td><td>2841.0</td><td>424.0</td><td>1719.0</td><td>null</td><td>462.0</td><td>null</td><td>342.0</td><td>14.0</td><td>3263.0</td><td>null</td><td>null</td><td>null</td><td>null</td><td>0.0</td><td>444.0</td><td>1651.0</td><td>0.0</td><td>1553.0</td><td>331.0</td><td>2316.0</td><td>0.0</td><td>850.0</td><td>1200.0</td><td>4000.0</td><td>1200.0</td><td>2538.0</td><td>800.0</td><td>3200.0</td><td>1910.0</td></tr><tr><td>&quot;2019-12-12 13:…</td><td>1</td><td>0.0</td><td>4254</td><td>4262</td><td>53.94</td><td>49.38</td><td>47.01</td><td>47.01</td><td>53.94</td><td>10460.75</td><td>9040.0</td><td>73402.75</td><td>74560.0</td><td>44425.0</td><td>61.0</td><td>41.0</td><td>55.0</td><td>13.0</td><td>3589.75</td><td>11946.5</td><td>3004.5</td><td>2197.0</td><td>7923.0</td><td>null</td><td>2232.0</td><td>null</td><td>192.0</td><td>0.0</td><td>2710.5</td><td>0.0</td><td>162.0</td><td>0.0</td><td>0.0</td><td>0.0</td><td>0.0</td><td>0.0</td><td>&hellip;</td><td>20783.0</td><td>1699.0</td><td>null</td><td>206.0</td><td>null</td><td>556.0</td><td>293.0</td><td>229.0</td><td>4363.0</td><td>1128.0</td><td>4070.0</td><td>null</td><td>2140.0</td><td>null</td><td>39.0</td><td>null</td><td>2958.0</td><td>1.568352e6</td><td>5.373795e6</td><td>2.657645e6</td><td>3.313876e6</td><td>0.0</td><td>402.0</td><td>328.0</td><td>0.0</td><td>2853.0</td><td>1396.0</td><td>991.0</td><td>0.0</td><td>850.0</td><td>1200.0</td><td>4000.0</td><td>1200.0</td><td>3590.0</td><td>1200.0</td><td>3000.0</td><td>1810.0</td></tr></tbody></table></div>"
      ],
      "text/plain": [
       "shape: (44_582, 139)\n",
       "┌────────────┬─────┬────────────┬────────────┬───┬────────────┬────────────┬───────────┬───────────┐\n",
       "│ date       ┆ dst ┆ auction_pr ┆ allocatedC ┆ … ┆ capacity_f ┆ capacity_f ┆ capacity_ ┆ capacity_ │\n",
       "│ ---        ┆ --- ┆ ice        ┆ apacity    ┆   ┆ orecast_ch ┆ orecast_de ┆ forecast_ ┆ forecast_ │\n",
       "│ str        ┆ i16 ┆ ---        ┆ ---        ┆   ┆ _it        ┆ _lu_ch     ┆ FR_CH     ┆ it_ch     │\n",
       "│            ┆     ┆ f64        ┆ i64        ┆   ┆ ---        ┆ ---        ┆ ---       ┆ ---       │\n",
       "│            ┆     ┆            ┆            ┆   ┆ f64        ┆ f64        ┆ f64       ┆ f64       │\n",
       "╞════════════╪═════╪════════════╪════════════╪═══╪════════════╪════════════╪═══════════╪═══════════╡\n",
       "│ 2021-03-27 ┆ 1   ┆ 0.0        ┆ 4335       ┆ … ┆ 4090.0     ┆ 800.0      ┆ 2385.0    ┆ 1810.0    │\n",
       "│ 19:00      ┆     ┆            ┆            ┆   ┆            ┆            ┆           ┆           │\n",
       "│ 2022-08-03 ┆ 0   ┆ 0.0        ┆ 4060       ┆ … ┆ 3397.0     ┆ 1800.0     ┆ 2700.0    ┆ 1440.0    │\n",
       "│ 11:00      ┆     ┆            ┆            ┆   ┆            ┆            ┆           ┆           │\n",
       "│ 2023-07-05 ┆ 0   ┆ 0.57       ┆ 3670       ┆ … ┆ 2947.0     ┆ 800.0      ┆ 3000.0    ┆ 1440.0    │\n",
       "│ 07:00      ┆     ┆            ┆            ┆   ┆            ┆            ┆           ┆           │\n",
       "│ 2023-08-05 ┆ 0   ┆ 12.49      ┆ 3561       ┆ … ┆ 2981.0     ┆ 1400.0     ┆ 2227.0    ┆ 1440.0    │\n",
       "│ 21:00      ┆     ┆            ┆            ┆   ┆            ┆            ┆           ┆           │\n",
       "│ 2023-10-07 ┆ 0   ┆ 0.06       ┆ 4094       ┆ … ┆ 3070.0     ┆ 800.0      ┆ 2385.0    ┆ 1810.0    │\n",
       "│ 08:00      ┆     ┆            ┆            ┆   ┆            ┆            ┆           ┆           │\n",
       "│ …          ┆ …   ┆ …          ┆ …          ┆ … ┆ …          ┆ …          ┆ …         ┆ …         │\n",
       "│ 2022-12-16 ┆ 1   ┆ 0.88       ┆ 3713       ┆ … ┆ 3978.0     ┆ 2000.0     ┆ 3700.0    ┆ 1810.0    │\n",
       "│ 11:00      ┆     ┆            ┆            ┆   ┆            ┆            ┆           ┆           │\n",
       "│ 2022-01-26 ┆ 1   ┆ 0.0        ┆ 4332       ┆ … ┆ 2977.0     ┆ 1800.0     ┆ 3200.0    ┆ 1910.0    │\n",
       "│ 02:00      ┆     ┆            ┆            ┆   ┆            ┆            ┆           ┆           │\n",
       "│ 2023-11-06 ┆ 1   ┆ 0.09       ┆ 3364       ┆ … ┆ 3662.0     ┆ 800.0      ┆ 2385.0    ┆ 1910.0    │\n",
       "│ 23:00      ┆     ┆            ┆            ┆   ┆            ┆            ┆           ┆           │\n",
       "│ 2024-01-06 ┆ 1   ┆ 0.25       ┆ 4284       ┆ … ┆ 2538.0     ┆ 800.0      ┆ 3200.0    ┆ 1910.0    │\n",
       "│ 15:00      ┆     ┆            ┆            ┆   ┆            ┆            ┆           ┆           │\n",
       "│ 2019-12-12 ┆ 1   ┆ 0.0        ┆ 4254       ┆ … ┆ 3590.0     ┆ 1200.0     ┆ 3000.0    ┆ 1810.0    │\n",
       "│ 13:00      ┆     ┆            ┆            ┆   ┆            ┆            ┆           ┆           │\n",
       "└────────────┴─────┴────────────┴────────────┴───┴────────────┴────────────┴───────────┴───────────┘"
      ]
     },
     "execution_count": 236,
     "metadata": {},
     "output_type": "execute_result"
    }
   ],
   "source": [
    "df_final = (\n",
    "    jao_chde.drop(\"day\")\n",
    "    .with_columns(\n",
    "        pl.col(\"date\")\n",
    "        .str.to_datetime()\n",
    "        .dt.truncate(\"1w\")\n",
    "        .dt.date()\n",
    "        .dt.strftime(\"%Y-%m-%d\")\n",
    "        .alias(\"week_start\")\n",
    "    )\n",
    "    .select([\"date\", \"week_start\", \"dst\", \"auction_price\", \"allocatedCapacity\", \"ATC\"])\n",
    "    # Day Ahead Prices\n",
    "    .join(da_at, how=\"left\", on=[\"date\", \"dst\"])\n",
    "    .join(da_ch, how=\"left\", on=[\"date\", \"dst\"])\n",
    "    .join(da_delu, how=\"left\", on=[\"date\", \"dst\"])\n",
    "    .join(da_fr, how=\"left\", on=[\"date\", \"dst\"])\n",
    "    .join(da_it, how=\"left\", on=[\"date\", \"dst\"])\n",
    "    # Actual Load\n",
    "    .join(load_at, how=\"left\", on=[\"date\", \"dst\"])\n",
    "    .join(load_ch, how=\"left\", on=[\"date\", \"dst\"])\n",
    "    .join(load_de, how=\"left\", on=[\"date\", \"dst\"])\n",
    "    .join(load_fr, how=\"left\", on=[\"date\", \"dst\"])\n",
    "    .join(load_it, how=\"left\", on=[\"date\", \"dst\"])\n",
    "    # Forecast Wind and Solar\n",
    "    .join(wind_solar_forecast_at, how=\"left\", on=[\"date\", \"dst\"])\n",
    "    .join(wind_solar_forecast_ch, how=\"left\", on=[\"date\", \"dst\"])\n",
    "    .join(wind_solar_forecast_de, how=\"left\", on=[\"date\", \"dst\"])\n",
    "    .join(wind_solar_forecast_fr, how=\"left\", on=[\"date\", \"dst\"])\n",
    "    .join(wind_solar_forecast_it, how=\"left\", on=[\"date\", \"dst\"])\n",
    "    # Actual Generation All Types\n",
    "    .join(generation_at, how=\"left\", on=[\"date\", \"dst\"])\n",
    "    .join(generation_ch, how=\"left\", on=[\"date\", \"dst\"])\n",
    "    .join(generation_de, how=\"left\", on=[\"date\", \"dst\"])\n",
    "    .join(generation_fr, how=\"left\", on=[\"date\", \"dst\"])\n",
    "    .join(generation_it, how=\"left\", on=[\"date\", \"dst\"])\n",
    "    # Hydro Reservoir Storage\n",
    "    .join(hydro_storage_at, how=\"left\", on=[\"week_start\"])\n",
    "    .join(hydro_storage_ch, how=\"left\", on=[\"week_start\"])\n",
    "    .join(hydro_storage_fr, how=\"left\", on=[\"week_start\"])\n",
    "    .join(hydro_storage_it, how=\"left\", on=[\"week_start\"])\n",
    "    # Cross Border Physical Flow\n",
    "    .join(flow_at_ch, how=\"left\", on=[\"date\", \"dst\"])\n",
    "    .join(flow_ch_at, how=\"left\", on=[\"date\", \"dst\"])\n",
    "    .join(flow_ch_de_lu, how=\"left\", on=[\"date\", \"dst\"])\n",
    "    .join(flow_ch_fr, how=\"left\", on=[\"date\", \"dst\"])\n",
    "    .join(flow_ch_it, how=\"left\", on=[\"date\", \"dst\"])\n",
    "    .join(flow_de_lu_ch, how=\"left\", on=[\"date\", \"dst\"])\n",
    "    .join(flow_fr_ch, how=\"left\", on=[\"date\", \"dst\"])\n",
    "    .join(flow_it_ch, how=\"left\", on=[\"date\", \"dst\"])\n",
    "    # Cross Border Capacities Forecast\n",
    "    .join(capacity_forecast_at_ch, how=\"left\", on=[\"date\", \"dst\"])\n",
    "    .join(capacity_forecast_ch_at, how=\"left\", on=[\"date\", \"dst\"])\n",
    "    .join(capacity_forecast_ch_de_lu, how=\"left\", on=[\"date\", \"dst\"])\n",
    "    .join(capacity_forecast_ch_fr, how=\"left\", on=[\"date\", \"dst\"])\n",
    "    .join(capacity_forecast_ch_it, how=\"left\", on=[\"date\", \"dst\"])\n",
    "    .join(capacity_forecast_de_lu_ch, how=\"left\", on=[\"date\", \"dst\"])\n",
    "    .join(capacity_forecast_fr_ch, how=\"left\", on=[\"date\", \"dst\"])\n",
    "    .join(capacity_forecast_it_ch, how=\"left\", on=[\"date\", \"dst\"])\n",
    "    # Drop\n",
    "    .drop([\"week_start\"])\n",
    ")\n",
    "\n",
    "df_final"
   ]
  },
  {
   "cell_type": "code",
   "execution_count": 237,
   "metadata": {},
   "outputs": [],
   "source": [
    "df_final.to_pandas().to_csv(\"0_df_final_ch-de.csv\", index=False)"
   ]
  },
  {
   "cell_type": "code",
   "execution_count": 238,
   "metadata": {},
   "outputs": [
    {
     "data": {
      "text/html": [
       "<div><style>\n",
       ".dataframe > thead > tr,\n",
       ".dataframe > tbody > tr {\n",
       "  text-align: right;\n",
       "  white-space: pre-wrap;\n",
       "}\n",
       "</style>\n",
       "<small>shape: (44_582, 139)</small><table border=\"1\" class=\"dataframe\"><thead><tr><th>date</th><th>dst</th><th>auction_price</th><th>allocatedCapacity</th><th>ATC</th><th>day_ahead_price_at</th><th>day_ahead_price_ch</th><th>day_ahead_price_de</th><th>day_ahead_price_fr</th><th>day_ahead_price_ch_right</th><th>actual_load_at</th><th>actual_load_ch</th><th>actual_load_de</th><th>actual_load_fr</th><th>actual_load_it</th><th>solar_forecast_at</th><th>wind_onshore_forecast_at</th><th>solar_forecast_ch</th><th>wind_onshore_forecast_ch</th><th>solar_forecast_de</th><th>wind_onshore_forecast_de</th><th>wind_offshore_forecast_de</th><th>solar_forecast_fr</th><th>wind_onshore_forecast_fr</th><th>wind_offshore_forecast_fr</th><th>solar_forecast_it</th><th>wind_onshore_forecast_it</th><th>biomass_actual_aggregated_at</th><th>biomass_actual_consumption_at</th><th>fossil_gas_actual_aggregated_at</th><th>fossil_gas_actual_consumption_at</th><th>fossil_hard_coal_actual_aggregated_at</th><th>fossil_hard_coal_actual_consumption_at</th><th>fossil_oil_actual_aggregated_at</th><th>fossil_oil_actual_consumption_at</th><th>geothermal_actual_aggregated_at</th><th>geothermal_actual_consumption_at</th><th>&hellip;</th><th>fossil_gas_actual_aggregated_it</th><th>fossil_hard_coal_actual_aggregated_it</th><th>fossil_hard_coal_actual_consumption_it</th><th>fossil_oil_actual_aggregated_it</th><th>fossil_oil_actual_consumption_it</th><th>geothermal_actual_aggregated_it</th><th>hydro_pumped_storage_actual_aggregated_it</th><th>hydro_pumped_storage_actual_consumption_it</th><th>hydro_run-of-river_and_poundage_actual_aggregated_it</th><th>hydro_water_reservoir_actual_aggregated_it</th><th>other_actual_aggregated_it</th><th>other_actual_consumption_it</th><th>solar_actual_aggregated_it</th><th>solar_actual_consumption_it</th><th>waste_actual_aggregated_it</th><th>wind_offshore_actual_aggregated_it</th><th>wind_onshore_actual_aggregated_it</th><th>hydro_reservoir_storage_at</th><th>hydro_reservoir_storage_ch</th><th>hydro_reservoir_storage_fr</th><th>hydro_reservoir_storage_it</th><th>crossborder_actual_flow_at_ch</th><th>crossborder_actual_flow_ch_at</th><th>crossborder_actual_flow_ch_de_lu</th><th>crossborder_actual_flow_ch_fr</th><th>crossborder_actual_flow_ch_it</th><th>crossborder_actual_flow_de_lu_ch</th><th>crossborder_actual_flow_fr_ch</th><th>crossborder_actual_flow_it_ch</th><th>capacity_forecast_at_ch</th><th>capacity_forecast_ch_at</th><th>capacity_forecast_ch_de_lu</th><th>capacity_forecast_ch_fr</th><th>capacity_forecast_ch_it</th><th>capacity_forecast_de_lu_ch</th><th>capacity_forecast_FR_CH</th><th>capacity_forecast_it_ch</th></tr><tr><td>str</td><td>i16</td><td>f64</td><td>f64</td><td>f64</td><td>f64</td><td>f64</td><td>f64</td><td>f64</td><td>f64</td><td>f64</td><td>f64</td><td>f64</td><td>f64</td><td>f64</td><td>f64</td><td>f64</td><td>f64</td><td>f64</td><td>f64</td><td>f64</td><td>f64</td><td>f64</td><td>f64</td><td>str</td><td>f64</td><td>str</td><td>f64</td><td>f64</td><td>f64</td><td>f64</td><td>f64</td><td>f64</td><td>f64</td><td>f64</td><td>f64</td><td>f64</td><td>&hellip;</td><td>f64</td><td>f64</td><td>f64</td><td>f64</td><td>f64</td><td>f64</td><td>f64</td><td>f64</td><td>f64</td><td>f64</td><td>f64</td><td>f64</td><td>f64</td><td>f64</td><td>f64</td><td>f64</td><td>f64</td><td>f64</td><td>f64</td><td>f64</td><td>f64</td><td>f64</td><td>f64</td><td>f64</td><td>f64</td><td>f64</td><td>f64</td><td>f64</td><td>f64</td><td>f64</td><td>f64</td><td>f64</td><td>f64</td><td>f64</td><td>f64</td><td>f64</td><td>f64</td></tr></thead><tbody><tr><td>&quot;2020-11-22 00:…</td><td>1</td><td>24.56</td><td>475.0</td><td>475.0</td><td>16.48</td><td>38.43</td><td>10.04</td><td>35.44</td><td>35.44</td><td>6586.5</td><td>7078.0</td><td>48375.75</td><td>57884.0</td><td>23617.0</td><td>0.0</td><td>748.0</td><td>0.0</td><td>0.0</td><td>0.0</td><td>24856.75</td><td>5575.75</td><td>0.0</td><td>2354.0</td><td>null</td><td>0.0</td><td>null</td><td>192.0</td><td>0.0</td><td>1165.0</td><td>0.0</td><td>0.0</td><td>0.0</td><td>0.0</td><td>0.0</td><td>0.0</td><td>0.0</td><td>&hellip;</td><td>9299.0</td><td>1223.0</td><td>null</td><td>146.0</td><td>null</td><td>651.0</td><td>8.0</td><td>68.0</td><td>2270.0</td><td>100.0</td><td>1609.0</td><td>null</td><td>0.0</td><td>null</td><td>28.0</td><td>null</td><td>4012.0</td><td>1.771305e6</td><td>5.552431e6</td><td>3.012185e6</td><td>3.41511e6</td><td>1045.0</td><td>0.0</td><td>35.0</td><td>229.0</td><td>1823.0</td><td>3345.0</td><td>0.0</td><td>0.0</td><td>1200.0</td><td>1200.0</td><td>4000.0</td><td>1200.0</td><td>3037.0</td><td>800.0</td><td>3400.0</td><td>1910.0</td></tr><tr><td>&quot;2020-06-17 22:…</td><td>0</td><td>0.01</td><td>2103.0</td><td>2104.0</td><td>36.59</td><td>32.79</td><td>36.59</td><td>36.59</td><td>31.0</td><td>6286.75</td><td>6285.0</td><td>51403.0</td><td>44451.0</td><td>31906.0</td><td>0.0</td><td>663.0</td><td>0.0</td><td>0.0</td><td>0.0</td><td>4186.25</td><td>1225.25</td><td>0.0</td><td>1351.0</td><td>null</td><td>0.0</td><td>null</td><td>204.0</td><td>0.0</td><td>0.0</td><td>0.0</td><td>0.0</td><td>0.0</td><td>0.0</td><td>0.0</td><td>0.0</td><td>0.0</td><td>&hellip;</td><td>16336.0</td><td>1620.0</td><td>null</td><td>162.0</td><td>null</td><td>624.0</td><td>516.0</td><td>null</td><td>7183.0</td><td>1436.0</td><td>2434.0</td><td>null</td><td>0.0</td><td>null</td><td>22.0</td><td>null</td><td>3327.0</td><td>1.122407e6</td><td>3.566746e6</td><td>2.837466e6</td><td>3.756357e6</td><td>0.0</td><td>708.0</td><td>3045.0</td><td>649.0</td><td>0.0</td><td>0.0</td><td>0.0</td><td>1061.0</td><td>900.0</td><td>900.0</td><td>2400.0</td><td>800.0</td><td>2426.0</td><td>2000.0</td><td>3000.0</td><td>1440.0</td></tr><tr><td>&quot;2019-03-20 16:…</td><td>1</td><td>0.53</td><td>1191.0</td><td>1191.0</td><td>42.1</td><td>41.82</td><td>42.1</td><td>42.1</td><td>57.89</td><td>8453.5</td><td>7777.0</td><td>66298.5</td><td>56741.0</td><td>41382.0</td><td>234.0</td><td>296.0</td><td>117.0</td><td>5.0</td><td>6936.0</td><td>6612.5</td><td>2364.5</td><td>3121.0</td><td>1427.0</td><td>null</td><td>2717.0</td><td>null</td><td>308.0</td><td>0.0</td><td>1403.25</td><td>0.0</td><td>442.25</td><td>0.0</td><td>0.0</td><td>0.0</td><td>0.0</td><td>0.0</td><td>&hellip;</td><td>17464.0</td><td>2106.0</td><td>null</td><td>283.0</td><td>null</td><td>663.0</td><td>1.0</td><td>149.0</td><td>1634.0</td><td>442.0</td><td>4542.0</td><td>null</td><td>3203.0</td><td>null</td><td>37.0</td><td>null</td><td>4960.0</td><td>651259.0</td><td>2.154299e6</td><td>1.13505e6</td><td>2.223185e6</td><td>931.0</td><td>0.0</td><td>210.0</td><td>0.0</td><td>2575.0</td><td>1445.0</td><td>1453.0</td><td>0.0</td><td>1200.0</td><td>650.0</td><td>4000.0</td><td>1200.0</td><td>2674.0</td><td>1400.0</td><td>2850.0</td><td>1810.0</td></tr><tr><td>&quot;2020-08-03 17:…</td><td>0</td><td>0.04</td><td>2589.0</td><td>2589.0</td><td>39.67</td><td>39.12</td><td>39.67</td><td>39.67</td><td>42.31</td><td>7425.25</td><td>6952.0</td><td>57627.0</td><td>43141.0</td><td>42562.0</td><td>134.0</td><td>724.0</td><td>23.0</td><td>0.0</td><td>7928.75</td><td>2958.75</td><td>308.0</td><td>4292.0</td><td>3855.0</td><td>null</td><td>3781.0</td><td>null</td><td>184.0</td><td>0.0</td><td>427.25</td><td>0.0</td><td>0.0</td><td>0.0</td><td>0.0</td><td>0.0</td><td>0.0</td><td>0.0</td><td>&hellip;</td><td>18266.0</td><td>1464.0</td><td>null</td><td>384.0</td><td>null</td><td>599.0</td><td>1151.0</td><td>232.0</td><td>5611.0</td><td>1616.0</td><td>2502.0</td><td>null</td><td>3245.0</td><td>null</td><td>37.0</td><td>null</td><td>4010.0</td><td>1.728887e6</td><td>5.2889e6</td><td>3.062108e6</td><td>3.846485e6</td><td>0.0</td><td>422.0</td><td>2032.0</td><td>0.0</td><td>770.0</td><td>291.0</td><td>787.0</td><td>0.0</td><td>450.0</td><td>450.0</td><td>3000.0</td><td>500.0</td><td>1277.0</td><td>2000.0</td><td>2157.0</td><td>1440.0</td></tr><tr><td>&quot;2019-02-14 00:…</td><td>1</td><td>3.2</td><td>943.0</td><td>944.0</td><td>41.56</td><td>44.18</td><td>40.74</td><td>44.51</td><td>47.67</td><td>7016.25</td><td>7584.0</td><td>56211.25</td><td>68390.0</td><td>29126.0</td><td>0.0</td><td>1109.0</td><td>0.0</td><td>3.0</td><td>0.0</td><td>9600.5</td><td>3857.0</td><td>0.0</td><td>3316.0</td><td>null</td><td>0.0</td><td>null</td><td>312.0</td><td>0.0</td><td>1842.5</td><td>0.0</td><td>319.75</td><td>0.0</td><td>0.0</td><td>0.0</td><td>0.0</td><td>0.0</td><td>&hellip;</td><td>9953.0</td><td>1806.0</td><td>null</td><td>22.0</td><td>null</td><td>665.0</td><td>88.0</td><td>317.0</td><td>1811.0</td><td>292.0</td><td>2920.0</td><td>null</td><td>0.0</td><td>null</td><td>47.0</td><td>null</td><td>5536.0</td><td>929553.0</td><td>2.785098e6</td><td>1.446619e6</td><td>2.469445e6</td><td>1274.0</td><td>0.0</td><td>570.0</td><td>0.0</td><td>2639.0</td><td>3654.0</td><td>667.0</td><td>0.0</td><td>1200.0</td><td>650.0</td><td>4000.0</td><td>1200.0</td><td>2301.0</td><td>1200.0</td><td>3000.0</td><td>1910.0</td></tr><tr><td>&hellip;</td><td>&hellip;</td><td>&hellip;</td><td>&hellip;</td><td>&hellip;</td><td>&hellip;</td><td>&hellip;</td><td>&hellip;</td><td>&hellip;</td><td>&hellip;</td><td>&hellip;</td><td>&hellip;</td><td>&hellip;</td><td>&hellip;</td><td>&hellip;</td><td>&hellip;</td><td>&hellip;</td><td>&hellip;</td><td>&hellip;</td><td>&hellip;</td><td>&hellip;</td><td>&hellip;</td><td>&hellip;</td><td>&hellip;</td><td>&hellip;</td><td>&hellip;</td><td>&hellip;</td><td>&hellip;</td><td>&hellip;</td><td>&hellip;</td><td>&hellip;</td><td>&hellip;</td><td>&hellip;</td><td>&hellip;</td><td>&hellip;</td><td>&hellip;</td><td>&hellip;</td><td>&hellip;</td><td>&hellip;</td><td>&hellip;</td><td>&hellip;</td><td>&hellip;</td><td>&hellip;</td><td>&hellip;</td><td>&hellip;</td><td>&hellip;</td><td>&hellip;</td><td>&hellip;</td><td>&hellip;</td><td>&hellip;</td><td>&hellip;</td><td>&hellip;</td><td>&hellip;</td><td>&hellip;</td><td>&hellip;</td><td>&hellip;</td><td>&hellip;</td><td>&hellip;</td><td>&hellip;</td><td>&hellip;</td><td>&hellip;</td><td>&hellip;</td><td>&hellip;</td><td>&hellip;</td><td>&hellip;</td><td>&hellip;</td><td>&hellip;</td><td>&hellip;</td><td>&hellip;</td><td>&hellip;</td><td>&hellip;</td><td>&hellip;</td><td>&hellip;</td><td>&hellip;</td><td>&hellip;</td></tr><tr><td>&quot;2022-05-18 01:…</td><td>0</td><td>2.71</td><td>988.0</td><td>988.0</td><td>187.89</td><td>184.81</td><td>187.89</td><td>187.89</td><td>230.24</td><td>5527.5</td><td>6019.0</td><td>47351.75</td><td>40439.0</td><td>26282.0</td><td>0.0</td><td>724.0</td><td>0.0</td><td>0.0</td><td>0.0</td><td>8648.0</td><td>2424.25</td><td>0.0</td><td>3012.0</td><td>null</td><td>0.0</td><td>null</td><td>280.0</td><td>0.0</td><td>983.75</td><td>0.0</td><td>0.0</td><td>0.0</td><td>0.0</td><td>0.0</td><td>0.0</td><td>0.0</td><td>&hellip;</td><td>9963.0</td><td>1718.0</td><td>null</td><td>27.0</td><td>null</td><td>614.0</td><td>137.0</td><td>42.0</td><td>3675.0</td><td>174.0</td><td>1872.0</td><td>null</td><td>0.0</td><td>null</td><td>19.0</td><td>null</td><td>865.0</td><td>521892.0</td><td>1.627931e6</td><td>null</td><td>2.419503e6</td><td>203.0</td><td>0.0</td><td>97.0</td><td>0.0</td><td>2771.0</td><td>1588.0</td><td>78.0</td><td>0.0</td><td>450.0</td><td>450.0</td><td>4000.0</td><td>900.0</td><td>2244.0</td><td>1200.0</td><td>2900.0</td><td>1660.0</td></tr><tr><td>&quot;2022-11-25 14:…</td><td>1</td><td>9.09</td><td>1063.0</td><td>1063.0</td><td>290.9</td><td>307.77</td><td>290.17</td><td>290.12</td><td>290.12</td><td>8216.0</td><td>8683.0</td><td>63331.75</td><td>55930.0</td><td>37994.0</td><td>235.0</td><td>52.0</td><td>28.0</td><td>0.0</td><td>3682.5</td><td>5841.0</td><td>2173.75</td><td>4121.0</td><td>3914.0</td><td>null</td><td>2680.0</td><td>null</td><td>228.0</td><td>0.0</td><td>2055.5</td><td>0.0</td><td>0.0</td><td>0.0</td><td>0.0</td><td>0.0</td><td>0.0</td><td>0.0</td><td>&hellip;</td><td>16887.0</td><td>3122.0</td><td>null</td><td>390.0</td><td>null</td><td>620.0</td><td>0.0</td><td>162.0</td><td>2201.0</td><td>498.0</td><td>2405.0</td><td>null</td><td>2405.0</td><td>null</td><td>37.0</td><td>2.0</td><td>764.0</td><td>1.874133e6</td><td>5.962618e6</td><td>2.51892e6</td><td>2.297352e6</td><td>1215.0</td><td>0.0</td><td>0.0</td><td>0.0</td><td>2988.0</td><td>2723.0</td><td>2183.0</td><td>0.0</td><td>1200.0</td><td>1200.0</td><td>4000.0</td><td>1200.0</td><td>4341.0</td><td>1400.0</td><td>3700.0</td><td>1810.0</td></tr><tr><td>&quot;2023-04-08 21:…</td><td>0</td><td>0.35</td><td>1587.0</td><td>1587.0</td><td>137.31</td><td>140.85</td><td>137.31</td><td>137.31</td><td>180.0</td><td>6085.0</td><td>6223.0</td><td>45094.25</td><td>45574.0</td><td>28535.0</td><td>0.0</td><td>199.0</td><td>0.0</td><td>0.0</td><td>0.0</td><td>4639.0</td><td>1167.25</td><td>0.0</td><td>2844.0</td><td>null</td><td>0.0</td><td>null</td><td>192.0</td><td>0.0</td><td>1394.5</td><td>0.0</td><td>0.0</td><td>0.0</td><td>0.0</td><td>0.0</td><td>0.0</td><td>0.0</td><td>&hellip;</td><td>11737.0</td><td>155.0</td><td>null</td><td>19.0</td><td>null</td><td>614.0</td><td>446.0</td><td>null</td><td>2415.0</td><td>662.0</td><td>1900.0</td><td>null</td><td>0.0</td><td>1.0</td><td>338.0</td><td>2.0</td><td>805.0</td><td>592454.0</td><td>1.842572e6</td><td>1.512237e6</td><td>1.97461e6</td><td>793.0</td><td>0.0</td><td>264.0</td><td>289.0</td><td>4238.0</td><td>136.0</td><td>0.0</td><td>0.0</td><td>600.0</td><td>1200.0</td><td>4000.0</td><td>1200.0</td><td>4365.0</td><td>2000.0</td><td>2385.0</td><td>1810.0</td></tr><tr><td>&quot;2023-05-01 07:…</td><td>0</td><td>3.55</td><td>1031.0</td><td>1031.0</td><td>86.46</td><td>91.85</td><td>84.2</td><td>89.56</td><td>110.06</td><td>4915.0</td><td>6289.0</td><td>37746.0</td><td>33336.0</td><td>18828.0</td><td>145.0</td><td>295.0</td><td>10.0</td><td>0.0</td><td>5041.5</td><td>7489.75</td><td>1430.75</td><td>97.0</td><td>2623.0</td><td>null</td><td>704.0</td><td>null</td><td>112.0</td><td>0.0</td><td>391.0</td><td>0.0</td><td>0.0</td><td>0.0</td><td>0.0</td><td>0.0</td><td>0.0</td><td>0.0</td><td>&hellip;</td><td>4018.0</td><td>307.0</td><td>null</td><td>18.0</td><td>null</td><td>622.0</td><td>38.0</td><td>57.0</td><td>3043.0</td><td>158.0</td><td>1513.0</td><td>null</td><td>732.0</td><td>null</td><td>345.0</td><td>1.0</td><td>1877.0</td><td>462364.0</td><td>1.575017e6</td><td>1.73774e6</td><td>2.358161e6</td><td>231.0</td><td>0.0</td><td>0.0</td><td>0.0</td><td>1371.0</td><td>1029.0</td><td>1928.0</td><td>0.0</td><td>450.0</td><td>450.0</td><td>4000.0</td><td>1200.0</td><td>1840.0</td><td>1150.0</td><td>2227.0</td><td>1660.0</td></tr><tr><td>&quot;2023-09-22 19:…</td><td>0</td><td>0.15</td><td>1280.0</td><td>1280.0</td><td>155.33</td><td>123.37</td><td>159.9</td><td>121.27</td><td>155.65</td><td>7278.75</td><td>6144.0</td><td>55947.0</td><td>44029.0</td><td>39837.0</td><td>1.0</td><td>1534.0</td><td>5.0</td><td>0.0</td><td>81.5</td><td>8873.75</td><td>2591.5</td><td>845.0</td><td>5462.0</td><td>null</td><td>159.0</td><td>null</td><td>164.0</td><td>0.0</td><td>516.75</td><td>0.0</td><td>0.0</td><td>0.0</td><td>0.0</td><td>0.0</td><td>0.0</td><td>0.0</td><td>&hellip;</td><td>16716.0</td><td>1648.0</td><td>null</td><td>15.0</td><td>null</td><td>616.0</td><td>1174.0</td><td>null</td><td>6051.0</td><td>791.0</td><td>2387.0</td><td>null</td><td>2.0</td><td>null</td><td>304.0</td><td>9.0</td><td>4022.0</td><td>1.8792e6</td><td>4.906416e6</td><td>2.809675e6</td><td>3.433155e6</td><td>0.0</td><td>354.0</td><td>2715.0</td><td>344.0</td><td>2694.0</td><td>117.0</td><td>0.0</td><td>0.0</td><td>450.0</td><td>450.0</td><td>3000.0</td><td>1200.0</td><td>2791.0</td><td>800.0</td><td>2227.0</td><td>1440.0</td></tr></tbody></table></div>"
      ],
      "text/plain": [
       "shape: (44_582, 139)\n",
       "┌────────────┬─────┬────────────┬────────────┬───┬────────────┬────────────┬───────────┬───────────┐\n",
       "│ date       ┆ dst ┆ auction_pr ┆ allocatedC ┆ … ┆ capacity_f ┆ capacity_f ┆ capacity_ ┆ capacity_ │\n",
       "│ ---        ┆ --- ┆ ice        ┆ apacity    ┆   ┆ orecast_ch ┆ orecast_de ┆ forecast_ ┆ forecast_ │\n",
       "│ str        ┆ i16 ┆ ---        ┆ ---        ┆   ┆ _it        ┆ _lu_ch     ┆ FR_CH     ┆ it_ch     │\n",
       "│            ┆     ┆ f64        ┆ f64        ┆   ┆ ---        ┆ ---        ┆ ---       ┆ ---       │\n",
       "│            ┆     ┆            ┆            ┆   ┆ f64        ┆ f64        ┆ f64       ┆ f64       │\n",
       "╞════════════╪═════╪════════════╪════════════╪═══╪════════════╪════════════╪═══════════╪═══════════╡\n",
       "│ 2020-11-22 ┆ 1   ┆ 24.56      ┆ 475.0      ┆ … ┆ 3037.0     ┆ 800.0      ┆ 3400.0    ┆ 1910.0    │\n",
       "│ 00:00      ┆     ┆            ┆            ┆   ┆            ┆            ┆           ┆           │\n",
       "│ 2020-06-17 ┆ 0   ┆ 0.01       ┆ 2103.0     ┆ … ┆ 2426.0     ┆ 2000.0     ┆ 3000.0    ┆ 1440.0    │\n",
       "│ 22:00      ┆     ┆            ┆            ┆   ┆            ┆            ┆           ┆           │\n",
       "│ 2019-03-20 ┆ 1   ┆ 0.53       ┆ 1191.0     ┆ … ┆ 2674.0     ┆ 1400.0     ┆ 2850.0    ┆ 1810.0    │\n",
       "│ 16:00      ┆     ┆            ┆            ┆   ┆            ┆            ┆           ┆           │\n",
       "│ 2020-08-03 ┆ 0   ┆ 0.04       ┆ 2589.0     ┆ … ┆ 1277.0     ┆ 2000.0     ┆ 2157.0    ┆ 1440.0    │\n",
       "│ 17:00      ┆     ┆            ┆            ┆   ┆            ┆            ┆           ┆           │\n",
       "│ 2019-02-14 ┆ 1   ┆ 3.2        ┆ 943.0      ┆ … ┆ 2301.0     ┆ 1200.0     ┆ 3000.0    ┆ 1910.0    │\n",
       "│ 00:00      ┆     ┆            ┆            ┆   ┆            ┆            ┆           ┆           │\n",
       "│ …          ┆ …   ┆ …          ┆ …          ┆ … ┆ …          ┆ …          ┆ …         ┆ …         │\n",
       "│ 2022-05-18 ┆ 0   ┆ 2.71       ┆ 988.0      ┆ … ┆ 2244.0     ┆ 1200.0     ┆ 2900.0    ┆ 1660.0    │\n",
       "│ 01:00      ┆     ┆            ┆            ┆   ┆            ┆            ┆           ┆           │\n",
       "│ 2022-11-25 ┆ 1   ┆ 9.09       ┆ 1063.0     ┆ … ┆ 4341.0     ┆ 1400.0     ┆ 3700.0    ┆ 1810.0    │\n",
       "│ 14:00      ┆     ┆            ┆            ┆   ┆            ┆            ┆           ┆           │\n",
       "│ 2023-04-08 ┆ 0   ┆ 0.35       ┆ 1587.0     ┆ … ┆ 4365.0     ┆ 2000.0     ┆ 2385.0    ┆ 1810.0    │\n",
       "│ 21:00      ┆     ┆            ┆            ┆   ┆            ┆            ┆           ┆           │\n",
       "│ 2023-05-01 ┆ 0   ┆ 3.55       ┆ 1031.0     ┆ … ┆ 1840.0     ┆ 1150.0     ┆ 2227.0    ┆ 1660.0    │\n",
       "│ 07:00      ┆     ┆            ┆            ┆   ┆            ┆            ┆           ┆           │\n",
       "│ 2023-09-22 ┆ 0   ┆ 0.15       ┆ 1280.0     ┆ … ┆ 2791.0     ┆ 800.0      ┆ 2227.0    ┆ 1440.0    │\n",
       "│ 19:00      ┆     ┆            ┆            ┆   ┆            ┆            ┆           ┆           │\n",
       "└────────────┴─────┴────────────┴────────────┴───┴────────────┴────────────┴───────────┴───────────┘"
      ]
     },
     "execution_count": 238,
     "metadata": {},
     "output_type": "execute_result"
    }
   ],
   "source": [
    "df_final = (\n",
    "    jao_dech.drop(\"day\")\n",
    "    .with_columns(\n",
    "        pl.col(\"date\")\n",
    "        .str.to_datetime()\n",
    "        .dt.truncate(\"1w\")\n",
    "        .dt.date()\n",
    "        .dt.strftime(\"%Y-%m-%d\")\n",
    "        .alias(\"week_start\")\n",
    "    )\n",
    "    .select([\"date\", \"week_start\", \"dst\", \"auction_price\", \"allocatedCapacity\", \"ATC\"])\n",
    "    # Day Ahead Prices\n",
    "    .join(da_at, how=\"left\", on=[\"date\", \"dst\"])\n",
    "    .join(da_ch, how=\"left\", on=[\"date\", \"dst\"])\n",
    "    .join(da_delu, how=\"left\", on=[\"date\", \"dst\"])\n",
    "    .join(da_fr, how=\"left\", on=[\"date\", \"dst\"])\n",
    "    .join(da_it, how=\"left\", on=[\"date\", \"dst\"])\n",
    "    # Actual Load\n",
    "    .join(load_at, how=\"left\", on=[\"date\", \"dst\"])\n",
    "    .join(load_ch, how=\"left\", on=[\"date\", \"dst\"])\n",
    "    .join(load_de, how=\"left\", on=[\"date\", \"dst\"])\n",
    "    .join(load_fr, how=\"left\", on=[\"date\", \"dst\"])\n",
    "    .join(load_it, how=\"left\", on=[\"date\", \"dst\"])\n",
    "    # Forecast Wind and Solar\n",
    "    .join(wind_solar_forecast_at, how=\"left\", on=[\"date\", \"dst\"])\n",
    "    .join(wind_solar_forecast_ch, how=\"left\", on=[\"date\", \"dst\"])\n",
    "    .join(wind_solar_forecast_de, how=\"left\", on=[\"date\", \"dst\"])\n",
    "    .join(wind_solar_forecast_fr, how=\"left\", on=[\"date\", \"dst\"])\n",
    "    .join(wind_solar_forecast_it, how=\"left\", on=[\"date\", \"dst\"])\n",
    "    # Actual Generation All Types\n",
    "    .join(generation_at, how=\"left\", on=[\"date\", \"dst\"])\n",
    "    .join(generation_ch, how=\"left\", on=[\"date\", \"dst\"])\n",
    "    .join(generation_de, how=\"left\", on=[\"date\", \"dst\"])\n",
    "    .join(generation_fr, how=\"left\", on=[\"date\", \"dst\"])\n",
    "    .join(generation_it, how=\"left\", on=[\"date\", \"dst\"])\n",
    "    # Hydro Reservoir Storage\n",
    "    .join(hydro_storage_at, how=\"left\", on=[\"week_start\"])\n",
    "    .join(hydro_storage_ch, how=\"left\", on=[\"week_start\"])\n",
    "    .join(hydro_storage_fr, how=\"left\", on=[\"week_start\"])\n",
    "    .join(hydro_storage_it, how=\"left\", on=[\"week_start\"])\n",
    "    # Cross Border Physical Flow\n",
    "    .join(flow_at_ch, how=\"left\", on=[\"date\", \"dst\"])\n",
    "    .join(flow_ch_at, how=\"left\", on=[\"date\", \"dst\"])\n",
    "    .join(flow_ch_de_lu, how=\"left\", on=[\"date\", \"dst\"])\n",
    "    .join(flow_ch_fr, how=\"left\", on=[\"date\", \"dst\"])\n",
    "    .join(flow_ch_it, how=\"left\", on=[\"date\", \"dst\"])\n",
    "    .join(flow_de_lu_ch, how=\"left\", on=[\"date\", \"dst\"])\n",
    "    .join(flow_fr_ch, how=\"left\", on=[\"date\", \"dst\"])\n",
    "    .join(flow_it_ch, how=\"left\", on=[\"date\", \"dst\"])\n",
    "    # Cross Border Capacities Forecast\n",
    "    .join(capacity_forecast_at_ch, how=\"left\", on=[\"date\", \"dst\"])\n",
    "    .join(capacity_forecast_ch_at, how=\"left\", on=[\"date\", \"dst\"])\n",
    "    .join(capacity_forecast_ch_de_lu, how=\"left\", on=[\"date\", \"dst\"])\n",
    "    .join(capacity_forecast_ch_fr, how=\"left\", on=[\"date\", \"dst\"])\n",
    "    .join(capacity_forecast_ch_it, how=\"left\", on=[\"date\", \"dst\"])\n",
    "    .join(capacity_forecast_de_lu_ch, how=\"left\", on=[\"date\", \"dst\"])\n",
    "    .join(capacity_forecast_fr_ch, how=\"left\", on=[\"date\", \"dst\"])\n",
    "    .join(capacity_forecast_it_ch, how=\"left\", on=[\"date\", \"dst\"])\n",
    "    # Drop\n",
    "    .drop([\"week_start\"])\n",
    ")\n",
    "\n",
    "df_final"
   ]
  },
  {
   "cell_type": "code",
   "execution_count": 239,
   "metadata": {},
   "outputs": [],
   "source": [
    "df_final.to_pandas().to_csv(\"0_df_final_de-ch.csv\", index=False)"
   ]
  },
  {
   "cell_type": "markdown",
   "metadata": {},
   "source": [
    "### Converting to UTC"
   ]
  },
  {
   "cell_type": "code",
   "execution_count": null,
   "metadata": {},
   "outputs": [],
   "source": [
    "(\n",
    "    pl.read_csv(\"./0_df_final_ch-de.csv\")\n",
    "    .sort(\"date\")\n",
    "    .with_columns(pl.col(\"date\").str.to_datetime().dt.replace_time_zone(\"Europe/Zurich\", ambiguous=\"earliest\"))\n",
    "    .with_columns(pl.col(\"date\").is_duplicated().alias(\"tmp\"))\n",
    "    .with_columns(\n",
    "        pl.when((pl.col(\"tmp\") == True) & (pl.col(\"dst\") == 0))\n",
    "        .then(pl.col(\"date\") + pl.duration(hours=1))\n",
    "        .otherwise(pl.col(\"date\"))\n",
    "        .alias(\"date\")\n",
    "    )\n",
    "    .with_columns(pl.col(\"date\").dt.convert_time_zone(\"UTC\"))\n",
    "    .drop(\"tmp\")\n",
    "    .to_pandas()\n",
    "    .to_csv(\"0_df_final_ch-de_UTC.csv\", index=False)\n",
    ")"
   ]
  },
  {
   "cell_type": "code",
   "execution_count": null,
   "metadata": {},
   "outputs": [
    {
     "ename": "FileNotFoundError",
     "evalue": "The system cannot find the path specified. (os error 3): ../00_Data Retrieval and Cleaning/0_df_final_de-ch.csv",
     "output_type": "error",
     "traceback": [
      "\u001b[1;31m---------------------------------------------------------------------------\u001b[0m",
      "\u001b[1;31mFileNotFoundError\u001b[0m                         Traceback (most recent call last)",
      "Cell \u001b[1;32mIn[62], line 2\u001b[0m\n\u001b[0;32m      1\u001b[0m (\n\u001b[1;32m----> 2\u001b[0m     \u001b[43mpl\u001b[49m\u001b[38;5;241;43m.\u001b[39;49m\u001b[43mread_csv\u001b[49m\u001b[43m(\u001b[49m\u001b[38;5;124;43m\"\u001b[39;49m\u001b[38;5;124;43m../00_Data Retrieval and Cleaning/0_df_final_de-ch.csv\u001b[39;49m\u001b[38;5;124;43m\"\u001b[39;49m\u001b[43m)\u001b[49m\n\u001b[0;32m      3\u001b[0m     \u001b[38;5;241m.\u001b[39msort(\u001b[38;5;124m\"\u001b[39m\u001b[38;5;124mdate\u001b[39m\u001b[38;5;124m\"\u001b[39m)\n\u001b[0;32m      4\u001b[0m     \u001b[38;5;241m.\u001b[39mwith_columns(pl\u001b[38;5;241m.\u001b[39mcol(\u001b[38;5;124m\"\u001b[39m\u001b[38;5;124mdate\u001b[39m\u001b[38;5;124m\"\u001b[39m)\u001b[38;5;241m.\u001b[39mstr\u001b[38;5;241m.\u001b[39mto_datetime()\u001b[38;5;241m.\u001b[39mdt\u001b[38;5;241m.\u001b[39mreplace_time_zone(\u001b[38;5;124m\"\u001b[39m\u001b[38;5;124mEurope/Zurich\u001b[39m\u001b[38;5;124m\"\u001b[39m, ambiguous\u001b[38;5;241m=\u001b[39m\u001b[38;5;124m\"\u001b[39m\u001b[38;5;124mearliest\u001b[39m\u001b[38;5;124m\"\u001b[39m))\n\u001b[0;32m      5\u001b[0m     \u001b[38;5;241m.\u001b[39mwith_columns(pl\u001b[38;5;241m.\u001b[39mcol(\u001b[38;5;124m\"\u001b[39m\u001b[38;5;124mdate\u001b[39m\u001b[38;5;124m\"\u001b[39m)\u001b[38;5;241m.\u001b[39mis_duplicated()\u001b[38;5;241m.\u001b[39malias(\u001b[38;5;124m\"\u001b[39m\u001b[38;5;124mtmp\u001b[39m\u001b[38;5;124m\"\u001b[39m))\n\u001b[0;32m      6\u001b[0m     \u001b[38;5;241m.\u001b[39mwith_columns(\n\u001b[0;32m      7\u001b[0m         pl\u001b[38;5;241m.\u001b[39mwhen((pl\u001b[38;5;241m.\u001b[39mcol(\u001b[38;5;124m\"\u001b[39m\u001b[38;5;124mtmp\u001b[39m\u001b[38;5;124m\"\u001b[39m) \u001b[38;5;241m==\u001b[39m \u001b[38;5;28;01mTrue\u001b[39;00m) \u001b[38;5;241m&\u001b[39m (pl\u001b[38;5;241m.\u001b[39mcol(\u001b[38;5;124m\"\u001b[39m\u001b[38;5;124mdst\u001b[39m\u001b[38;5;124m\"\u001b[39m) \u001b[38;5;241m==\u001b[39m \u001b[38;5;241m0\u001b[39m))\n\u001b[0;32m      8\u001b[0m         \u001b[38;5;241m.\u001b[39mthen(pl\u001b[38;5;241m.\u001b[39mcol(\u001b[38;5;124m\"\u001b[39m\u001b[38;5;124mdate\u001b[39m\u001b[38;5;124m\"\u001b[39m) \u001b[38;5;241m+\u001b[39m pl\u001b[38;5;241m.\u001b[39mduration(hours\u001b[38;5;241m=\u001b[39m\u001b[38;5;241m1\u001b[39m))\n\u001b[0;32m      9\u001b[0m         \u001b[38;5;241m.\u001b[39motherwise(pl\u001b[38;5;241m.\u001b[39mcol(\u001b[38;5;124m\"\u001b[39m\u001b[38;5;124mdate\u001b[39m\u001b[38;5;124m\"\u001b[39m))\n\u001b[0;32m     10\u001b[0m         \u001b[38;5;241m.\u001b[39malias(\u001b[38;5;124m\"\u001b[39m\u001b[38;5;124mdate\u001b[39m\u001b[38;5;124m\"\u001b[39m)\n\u001b[0;32m     11\u001b[0m     )\n\u001b[0;32m     12\u001b[0m     \u001b[38;5;241m.\u001b[39mwith_columns(pl\u001b[38;5;241m.\u001b[39mcol(\u001b[38;5;124m\"\u001b[39m\u001b[38;5;124mdate\u001b[39m\u001b[38;5;124m\"\u001b[39m)\u001b[38;5;241m.\u001b[39mdt\u001b[38;5;241m.\u001b[39mconvert_time_zone(\u001b[38;5;124m\"\u001b[39m\u001b[38;5;124mUTC\u001b[39m\u001b[38;5;124m\"\u001b[39m))\n\u001b[0;32m     13\u001b[0m     \u001b[38;5;241m.\u001b[39mdrop(\u001b[38;5;124m\"\u001b[39m\u001b[38;5;124mtmp\u001b[39m\u001b[38;5;124m\"\u001b[39m)\n\u001b[0;32m     14\u001b[0m     \u001b[38;5;241m.\u001b[39mto_pandas()\n\u001b[0;32m     15\u001b[0m     \u001b[38;5;241m.\u001b[39mto_csv(\u001b[38;5;124m\"\u001b[39m\u001b[38;5;124m0_df_final_de-ch_UTC.csv\u001b[39m\u001b[38;5;124m\"\u001b[39m, index\u001b[38;5;241m=\u001b[39m\u001b[38;5;28;01mFalse\u001b[39;00m)\n\u001b[0;32m     16\u001b[0m )\n",
      "File \u001b[1;32mc:\\Users\\mathi\\miniconda3\\envs\\statslab\\lib\\site-packages\\polars\\_utils\\deprecation.py:134\u001b[0m, in \u001b[0;36mdeprecate_renamed_parameter.<locals>.decorate.<locals>.wrapper\u001b[1;34m(*args, **kwargs)\u001b[0m\n\u001b[0;32m    129\u001b[0m \u001b[38;5;129m@wraps\u001b[39m(function)\n\u001b[0;32m    130\u001b[0m \u001b[38;5;28;01mdef\u001b[39;00m \u001b[38;5;21mwrapper\u001b[39m(\u001b[38;5;241m*\u001b[39margs: P\u001b[38;5;241m.\u001b[39margs, \u001b[38;5;241m*\u001b[39m\u001b[38;5;241m*\u001b[39mkwargs: P\u001b[38;5;241m.\u001b[39mkwargs) \u001b[38;5;241m-\u001b[39m\u001b[38;5;241m>\u001b[39m T:\n\u001b[0;32m    131\u001b[0m     _rename_keyword_argument(\n\u001b[0;32m    132\u001b[0m         old_name, new_name, kwargs, function\u001b[38;5;241m.\u001b[39m\u001b[38;5;18m__name__\u001b[39m, version\n\u001b[0;32m    133\u001b[0m     )\n\u001b[1;32m--> 134\u001b[0m     \u001b[38;5;28;01mreturn\u001b[39;00m function(\u001b[38;5;241m*\u001b[39margs, \u001b[38;5;241m*\u001b[39m\u001b[38;5;241m*\u001b[39mkwargs)\n",
      "File \u001b[1;32mc:\\Users\\mathi\\miniconda3\\envs\\statslab\\lib\\site-packages\\polars\\_utils\\deprecation.py:134\u001b[0m, in \u001b[0;36mdeprecate_renamed_parameter.<locals>.decorate.<locals>.wrapper\u001b[1;34m(*args, **kwargs)\u001b[0m\n\u001b[0;32m    129\u001b[0m \u001b[38;5;129m@wraps\u001b[39m(function)\n\u001b[0;32m    130\u001b[0m \u001b[38;5;28;01mdef\u001b[39;00m \u001b[38;5;21mwrapper\u001b[39m(\u001b[38;5;241m*\u001b[39margs: P\u001b[38;5;241m.\u001b[39margs, \u001b[38;5;241m*\u001b[39m\u001b[38;5;241m*\u001b[39mkwargs: P\u001b[38;5;241m.\u001b[39mkwargs) \u001b[38;5;241m-\u001b[39m\u001b[38;5;241m>\u001b[39m T:\n\u001b[0;32m    131\u001b[0m     _rename_keyword_argument(\n\u001b[0;32m    132\u001b[0m         old_name, new_name, kwargs, function\u001b[38;5;241m.\u001b[39m\u001b[38;5;18m__name__\u001b[39m, version\n\u001b[0;32m    133\u001b[0m     )\n\u001b[1;32m--> 134\u001b[0m     \u001b[38;5;28;01mreturn\u001b[39;00m function(\u001b[38;5;241m*\u001b[39margs, \u001b[38;5;241m*\u001b[39m\u001b[38;5;241m*\u001b[39mkwargs)\n",
      "File \u001b[1;32mc:\\Users\\mathi\\miniconda3\\envs\\statslab\\lib\\site-packages\\polars\\_utils\\deprecation.py:134\u001b[0m, in \u001b[0;36mdeprecate_renamed_parameter.<locals>.decorate.<locals>.wrapper\u001b[1;34m(*args, **kwargs)\u001b[0m\n\u001b[0;32m    129\u001b[0m \u001b[38;5;129m@wraps\u001b[39m(function)\n\u001b[0;32m    130\u001b[0m \u001b[38;5;28;01mdef\u001b[39;00m \u001b[38;5;21mwrapper\u001b[39m(\u001b[38;5;241m*\u001b[39margs: P\u001b[38;5;241m.\u001b[39margs, \u001b[38;5;241m*\u001b[39m\u001b[38;5;241m*\u001b[39mkwargs: P\u001b[38;5;241m.\u001b[39mkwargs) \u001b[38;5;241m-\u001b[39m\u001b[38;5;241m>\u001b[39m T:\n\u001b[0;32m    131\u001b[0m     _rename_keyword_argument(\n\u001b[0;32m    132\u001b[0m         old_name, new_name, kwargs, function\u001b[38;5;241m.\u001b[39m\u001b[38;5;18m__name__\u001b[39m, version\n\u001b[0;32m    133\u001b[0m     )\n\u001b[1;32m--> 134\u001b[0m     \u001b[38;5;28;01mreturn\u001b[39;00m function(\u001b[38;5;241m*\u001b[39margs, \u001b[38;5;241m*\u001b[39m\u001b[38;5;241m*\u001b[39mkwargs)\n",
      "File \u001b[1;32mc:\\Users\\mathi\\miniconda3\\envs\\statslab\\lib\\site-packages\\polars\\io\\csv\\functions.py:414\u001b[0m, in \u001b[0;36mread_csv\u001b[1;34m(source, has_header, columns, new_columns, separator, comment_prefix, quote_char, skip_rows, dtypes, schema, null_values, missing_utf8_is_empty_string, ignore_errors, try_parse_dates, n_threads, infer_schema_length, batch_size, n_rows, encoding, low_memory, rechunk, use_pyarrow, storage_options, skip_rows_after_header, row_index_name, row_index_offset, sample_size, eol_char, raise_if_empty, truncate_ragged_lines)\u001b[0m\n\u001b[0;32m    402\u001b[0m         dtypes \u001b[38;5;241m=\u001b[39m {\n\u001b[0;32m    403\u001b[0m             new_to_current\u001b[38;5;241m.\u001b[39mget(column_name, column_name): column_dtype\n\u001b[0;32m    404\u001b[0m             \u001b[38;5;28;01mfor\u001b[39;00m column_name, column_dtype \u001b[38;5;129;01min\u001b[39;00m dtypes\u001b[38;5;241m.\u001b[39mitems()\n\u001b[0;32m    405\u001b[0m         }\n\u001b[0;32m    407\u001b[0m \u001b[38;5;28;01mwith\u001b[39;00m prepare_file_arg(\n\u001b[0;32m    408\u001b[0m     source,\n\u001b[0;32m    409\u001b[0m     encoding\u001b[38;5;241m=\u001b[39mencoding,\n\u001b[1;32m   (...)\u001b[0m\n\u001b[0;32m    412\u001b[0m     storage_options\u001b[38;5;241m=\u001b[39mstorage_options,\n\u001b[0;32m    413\u001b[0m ) \u001b[38;5;28;01mas\u001b[39;00m data:\n\u001b[1;32m--> 414\u001b[0m     df \u001b[38;5;241m=\u001b[39m \u001b[43m_read_csv_impl\u001b[49m\u001b[43m(\u001b[49m\n\u001b[0;32m    415\u001b[0m \u001b[43m        \u001b[49m\u001b[43mdata\u001b[49m\u001b[43m,\u001b[49m\n\u001b[0;32m    416\u001b[0m \u001b[43m        \u001b[49m\u001b[43mhas_header\u001b[49m\u001b[38;5;241;43m=\u001b[39;49m\u001b[43mhas_header\u001b[49m\u001b[43m,\u001b[49m\n\u001b[0;32m    417\u001b[0m \u001b[43m        \u001b[49m\u001b[43mcolumns\u001b[49m\u001b[38;5;241;43m=\u001b[39;49m\u001b[43mcolumns\u001b[49m\u001b[43m \u001b[49m\u001b[38;5;28;43;01mif\u001b[39;49;00m\u001b[43m \u001b[49m\u001b[43mcolumns\u001b[49m\u001b[43m \u001b[49m\u001b[38;5;28;43;01melse\u001b[39;49;00m\u001b[43m \u001b[49m\u001b[43mprojection\u001b[49m\u001b[43m,\u001b[49m\n\u001b[0;32m    418\u001b[0m \u001b[43m        \u001b[49m\u001b[43mseparator\u001b[49m\u001b[38;5;241;43m=\u001b[39;49m\u001b[43mseparator\u001b[49m\u001b[43m,\u001b[49m\n\u001b[0;32m    419\u001b[0m \u001b[43m        \u001b[49m\u001b[43mcomment_prefix\u001b[49m\u001b[38;5;241;43m=\u001b[39;49m\u001b[43mcomment_prefix\u001b[49m\u001b[43m,\u001b[49m\n\u001b[0;32m    420\u001b[0m \u001b[43m        \u001b[49m\u001b[43mquote_char\u001b[49m\u001b[38;5;241;43m=\u001b[39;49m\u001b[43mquote_char\u001b[49m\u001b[43m,\u001b[49m\n\u001b[0;32m    421\u001b[0m \u001b[43m        \u001b[49m\u001b[43mskip_rows\u001b[49m\u001b[38;5;241;43m=\u001b[39;49m\u001b[43mskip_rows\u001b[49m\u001b[43m,\u001b[49m\n\u001b[0;32m    422\u001b[0m \u001b[43m        \u001b[49m\u001b[43mdtypes\u001b[49m\u001b[38;5;241;43m=\u001b[39;49m\u001b[43mdtypes\u001b[49m\u001b[43m,\u001b[49m\n\u001b[0;32m    423\u001b[0m \u001b[43m        \u001b[49m\u001b[43mschema\u001b[49m\u001b[38;5;241;43m=\u001b[39;49m\u001b[43mschema\u001b[49m\u001b[43m,\u001b[49m\n\u001b[0;32m    424\u001b[0m \u001b[43m        \u001b[49m\u001b[43mnull_values\u001b[49m\u001b[38;5;241;43m=\u001b[39;49m\u001b[43mnull_values\u001b[49m\u001b[43m,\u001b[49m\n\u001b[0;32m    425\u001b[0m \u001b[43m        \u001b[49m\u001b[43mmissing_utf8_is_empty_string\u001b[49m\u001b[38;5;241;43m=\u001b[39;49m\u001b[43mmissing_utf8_is_empty_string\u001b[49m\u001b[43m,\u001b[49m\n\u001b[0;32m    426\u001b[0m \u001b[43m        \u001b[49m\u001b[43mignore_errors\u001b[49m\u001b[38;5;241;43m=\u001b[39;49m\u001b[43mignore_errors\u001b[49m\u001b[43m,\u001b[49m\n\u001b[0;32m    427\u001b[0m \u001b[43m        \u001b[49m\u001b[43mtry_parse_dates\u001b[49m\u001b[38;5;241;43m=\u001b[39;49m\u001b[43mtry_parse_dates\u001b[49m\u001b[43m,\u001b[49m\n\u001b[0;32m    428\u001b[0m \u001b[43m        \u001b[49m\u001b[43mn_threads\u001b[49m\u001b[38;5;241;43m=\u001b[39;49m\u001b[43mn_threads\u001b[49m\u001b[43m,\u001b[49m\n\u001b[0;32m    429\u001b[0m \u001b[43m        \u001b[49m\u001b[43minfer_schema_length\u001b[49m\u001b[38;5;241;43m=\u001b[39;49m\u001b[43minfer_schema_length\u001b[49m\u001b[43m,\u001b[49m\n\u001b[0;32m    430\u001b[0m \u001b[43m        \u001b[49m\u001b[43mbatch_size\u001b[49m\u001b[38;5;241;43m=\u001b[39;49m\u001b[43mbatch_size\u001b[49m\u001b[43m,\u001b[49m\n\u001b[0;32m    431\u001b[0m \u001b[43m        \u001b[49m\u001b[43mn_rows\u001b[49m\u001b[38;5;241;43m=\u001b[39;49m\u001b[43mn_rows\u001b[49m\u001b[43m,\u001b[49m\n\u001b[0;32m    432\u001b[0m \u001b[43m        \u001b[49m\u001b[43mencoding\u001b[49m\u001b[38;5;241;43m=\u001b[39;49m\u001b[43mencoding\u001b[49m\u001b[43m \u001b[49m\u001b[38;5;28;43;01mif\u001b[39;49;00m\u001b[43m \u001b[49m\u001b[43mencoding\u001b[49m\u001b[43m \u001b[49m\u001b[38;5;241;43m==\u001b[39;49m\u001b[43m \u001b[49m\u001b[38;5;124;43m\"\u001b[39;49m\u001b[38;5;124;43mutf8-lossy\u001b[39;49m\u001b[38;5;124;43m\"\u001b[39;49m\u001b[43m \u001b[49m\u001b[38;5;28;43;01melse\u001b[39;49;00m\u001b[43m \u001b[49m\u001b[38;5;124;43m\"\u001b[39;49m\u001b[38;5;124;43mutf8\u001b[39;49m\u001b[38;5;124;43m\"\u001b[39;49m\u001b[43m,\u001b[49m\n\u001b[0;32m    433\u001b[0m \u001b[43m        \u001b[49m\u001b[43mlow_memory\u001b[49m\u001b[38;5;241;43m=\u001b[39;49m\u001b[43mlow_memory\u001b[49m\u001b[43m,\u001b[49m\n\u001b[0;32m    434\u001b[0m \u001b[43m        \u001b[49m\u001b[43mrechunk\u001b[49m\u001b[38;5;241;43m=\u001b[39;49m\u001b[43mrechunk\u001b[49m\u001b[43m,\u001b[49m\n\u001b[0;32m    435\u001b[0m \u001b[43m        \u001b[49m\u001b[43mskip_rows_after_header\u001b[49m\u001b[38;5;241;43m=\u001b[39;49m\u001b[43mskip_rows_after_header\u001b[49m\u001b[43m,\u001b[49m\n\u001b[0;32m    436\u001b[0m \u001b[43m        \u001b[49m\u001b[43mrow_index_name\u001b[49m\u001b[38;5;241;43m=\u001b[39;49m\u001b[43mrow_index_name\u001b[49m\u001b[43m,\u001b[49m\n\u001b[0;32m    437\u001b[0m \u001b[43m        \u001b[49m\u001b[43mrow_index_offset\u001b[49m\u001b[38;5;241;43m=\u001b[39;49m\u001b[43mrow_index_offset\u001b[49m\u001b[43m,\u001b[49m\n\u001b[0;32m    438\u001b[0m \u001b[43m        \u001b[49m\u001b[43msample_size\u001b[49m\u001b[38;5;241;43m=\u001b[39;49m\u001b[43msample_size\u001b[49m\u001b[43m,\u001b[49m\n\u001b[0;32m    439\u001b[0m \u001b[43m        \u001b[49m\u001b[43meol_char\u001b[49m\u001b[38;5;241;43m=\u001b[39;49m\u001b[43meol_char\u001b[49m\u001b[43m,\u001b[49m\n\u001b[0;32m    440\u001b[0m \u001b[43m        \u001b[49m\u001b[43mraise_if_empty\u001b[49m\u001b[38;5;241;43m=\u001b[39;49m\u001b[43mraise_if_empty\u001b[49m\u001b[43m,\u001b[49m\n\u001b[0;32m    441\u001b[0m \u001b[43m        \u001b[49m\u001b[43mtruncate_ragged_lines\u001b[49m\u001b[38;5;241;43m=\u001b[39;49m\u001b[43mtruncate_ragged_lines\u001b[49m\u001b[43m,\u001b[49m\n\u001b[0;32m    442\u001b[0m \u001b[43m    \u001b[49m\u001b[43m)\u001b[49m\n\u001b[0;32m    444\u001b[0m \u001b[38;5;28;01mif\u001b[39;00m new_columns:\n\u001b[0;32m    445\u001b[0m     \u001b[38;5;28;01mreturn\u001b[39;00m _update_columns(df, new_columns)\n",
      "File \u001b[1;32mc:\\Users\\mathi\\miniconda3\\envs\\statslab\\lib\\site-packages\\polars\\io\\csv\\functions.py:554\u001b[0m, in \u001b[0;36m_read_csv_impl\u001b[1;34m(source, has_header, columns, separator, comment_prefix, quote_char, skip_rows, dtypes, schema, null_values, missing_utf8_is_empty_string, ignore_errors, try_parse_dates, n_threads, infer_schema_length, batch_size, n_rows, encoding, low_memory, rechunk, skip_rows_after_header, row_index_name, row_index_offset, sample_size, eol_char, raise_if_empty, truncate_ragged_lines)\u001b[0m\n\u001b[0;32m    550\u001b[0m         \u001b[38;5;28;01mraise\u001b[39;00m \u001b[38;5;167;01mValueError\u001b[39;00m(msg)\n\u001b[0;32m    552\u001b[0m projection, columns \u001b[38;5;241m=\u001b[39m parse_columns_arg(columns)\n\u001b[1;32m--> 554\u001b[0m pydf \u001b[38;5;241m=\u001b[39m \u001b[43mPyDataFrame\u001b[49m\u001b[38;5;241;43m.\u001b[39;49m\u001b[43mread_csv\u001b[49m\u001b[43m(\u001b[49m\n\u001b[0;32m    555\u001b[0m \u001b[43m    \u001b[49m\u001b[43msource\u001b[49m\u001b[43m,\u001b[49m\n\u001b[0;32m    556\u001b[0m \u001b[43m    \u001b[49m\u001b[43minfer_schema_length\u001b[49m\u001b[43m,\u001b[49m\n\u001b[0;32m    557\u001b[0m \u001b[43m    \u001b[49m\u001b[43mbatch_size\u001b[49m\u001b[43m,\u001b[49m\n\u001b[0;32m    558\u001b[0m \u001b[43m    \u001b[49m\u001b[43mhas_header\u001b[49m\u001b[43m,\u001b[49m\n\u001b[0;32m    559\u001b[0m \u001b[43m    \u001b[49m\u001b[43mignore_errors\u001b[49m\u001b[43m,\u001b[49m\n\u001b[0;32m    560\u001b[0m \u001b[43m    \u001b[49m\u001b[43mn_rows\u001b[49m\u001b[43m,\u001b[49m\n\u001b[0;32m    561\u001b[0m \u001b[43m    \u001b[49m\u001b[43mskip_rows\u001b[49m\u001b[43m,\u001b[49m\n\u001b[0;32m    562\u001b[0m \u001b[43m    \u001b[49m\u001b[43mprojection\u001b[49m\u001b[43m,\u001b[49m\n\u001b[0;32m    563\u001b[0m \u001b[43m    \u001b[49m\u001b[43mseparator\u001b[49m\u001b[43m,\u001b[49m\n\u001b[0;32m    564\u001b[0m \u001b[43m    \u001b[49m\u001b[43mrechunk\u001b[49m\u001b[43m,\u001b[49m\n\u001b[0;32m    565\u001b[0m \u001b[43m    \u001b[49m\u001b[43mcolumns\u001b[49m\u001b[43m,\u001b[49m\n\u001b[0;32m    566\u001b[0m \u001b[43m    \u001b[49m\u001b[43mencoding\u001b[49m\u001b[43m,\u001b[49m\n\u001b[0;32m    567\u001b[0m \u001b[43m    \u001b[49m\u001b[43mn_threads\u001b[49m\u001b[43m,\u001b[49m\n\u001b[0;32m    568\u001b[0m \u001b[43m    \u001b[49m\u001b[43mpath\u001b[49m\u001b[43m,\u001b[49m\n\u001b[0;32m    569\u001b[0m \u001b[43m    \u001b[49m\u001b[43mdtype_list\u001b[49m\u001b[43m,\u001b[49m\n\u001b[0;32m    570\u001b[0m \u001b[43m    \u001b[49m\u001b[43mdtype_slice\u001b[49m\u001b[43m,\u001b[49m\n\u001b[0;32m    571\u001b[0m \u001b[43m    \u001b[49m\u001b[43mlow_memory\u001b[49m\u001b[43m,\u001b[49m\n\u001b[0;32m    572\u001b[0m \u001b[43m    \u001b[49m\u001b[43mcomment_prefix\u001b[49m\u001b[43m,\u001b[49m\n\u001b[0;32m    573\u001b[0m \u001b[43m    \u001b[49m\u001b[43mquote_char\u001b[49m\u001b[43m,\u001b[49m\n\u001b[0;32m    574\u001b[0m \u001b[43m    \u001b[49m\u001b[43mprocessed_null_values\u001b[49m\u001b[43m,\u001b[49m\n\u001b[0;32m    575\u001b[0m \u001b[43m    \u001b[49m\u001b[43mmissing_utf8_is_empty_string\u001b[49m\u001b[43m,\u001b[49m\n\u001b[0;32m    576\u001b[0m \u001b[43m    \u001b[49m\u001b[43mtry_parse_dates\u001b[49m\u001b[43m,\u001b[49m\n\u001b[0;32m    577\u001b[0m \u001b[43m    \u001b[49m\u001b[43mskip_rows_after_header\u001b[49m\u001b[43m,\u001b[49m\n\u001b[0;32m    578\u001b[0m \u001b[43m    \u001b[49m\u001b[43mparse_row_index_args\u001b[49m\u001b[43m(\u001b[49m\u001b[43mrow_index_name\u001b[49m\u001b[43m,\u001b[49m\u001b[43m \u001b[49m\u001b[43mrow_index_offset\u001b[49m\u001b[43m)\u001b[49m\u001b[43m,\u001b[49m\n\u001b[0;32m    579\u001b[0m \u001b[43m    \u001b[49m\u001b[43msample_size\u001b[49m\u001b[38;5;241;43m=\u001b[39;49m\u001b[43msample_size\u001b[49m\u001b[43m,\u001b[49m\n\u001b[0;32m    580\u001b[0m \u001b[43m    \u001b[49m\u001b[43meol_char\u001b[49m\u001b[38;5;241;43m=\u001b[39;49m\u001b[43meol_char\u001b[49m\u001b[43m,\u001b[49m\n\u001b[0;32m    581\u001b[0m \u001b[43m    \u001b[49m\u001b[43mraise_if_empty\u001b[49m\u001b[38;5;241;43m=\u001b[39;49m\u001b[43mraise_if_empty\u001b[49m\u001b[43m,\u001b[49m\n\u001b[0;32m    582\u001b[0m \u001b[43m    \u001b[49m\u001b[43mtruncate_ragged_lines\u001b[49m\u001b[38;5;241;43m=\u001b[39;49m\u001b[43mtruncate_ragged_lines\u001b[49m\u001b[43m,\u001b[49m\n\u001b[0;32m    583\u001b[0m \u001b[43m    \u001b[49m\u001b[43mschema\u001b[49m\u001b[38;5;241;43m=\u001b[39;49m\u001b[43mschema\u001b[49m\u001b[43m,\u001b[49m\n\u001b[0;32m    584\u001b[0m \u001b[43m\u001b[49m\u001b[43m)\u001b[49m\n\u001b[0;32m    585\u001b[0m \u001b[38;5;28;01mreturn\u001b[39;00m wrap_df(pydf)\n",
      "\u001b[1;31mFileNotFoundError\u001b[0m: The system cannot find the path specified. (os error 3): ../00_Data Retrieval and Cleaning/0_df_final_de-ch.csv"
     ]
    }
   ],
   "source": [
    "(\n",
    "    pl.read_csv(\"0_df_final_de-ch.csv\")\n",
    "    .sort(\"date\")\n",
    "    .with_columns(pl.col(\"date\").str.to_datetime().dt.replace_time_zone(\"Europe/Zurich\", ambiguous=\"earliest\"))\n",
    "    .with_columns(pl.col(\"date\").is_duplicated().alias(\"tmp\"))\n",
    "    .with_columns(\n",
    "        pl.when((pl.col(\"tmp\") == True) & (pl.col(\"dst\") == 0))\n",
    "        .then(pl.col(\"date\") + pl.duration(hours=1))\n",
    "        .otherwise(pl.col(\"date\"))\n",
    "        .alias(\"date\")\n",
    "    )\n",
    "    .with_columns(pl.col(\"date\").dt.convert_time_zone(\"UTC\"))\n",
    "    .drop(\"tmp\")\n",
    "    .to_pandas()\n",
    "    .to_csv(\"0_df_final_de-ch_UTC.csv\", index=False)\n",
    ")"
   ]
  }
 ],
 "metadata": {
  "kernelspec": {
   "display_name": "general",
   "language": "python",
   "name": "python3"
  },
  "language_info": {
   "codemirror_mode": {
    "name": "ipython",
    "version": 3
   },
   "file_extension": ".py",
   "mimetype": "text/x-python",
   "name": "python",
   "nbconvert_exporter": "python",
   "pygments_lexer": "ipython3",
   "version": "3.10.14"
  }
 },
 "nbformat": 4,
 "nbformat_minor": 2
}
