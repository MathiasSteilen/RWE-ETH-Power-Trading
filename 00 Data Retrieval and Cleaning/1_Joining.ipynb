{
 "cells": [
  {
   "cell_type": "markdown",
   "metadata": {},
   "source": [
    "# Joining the individual datasets"
   ]
  },
  {
   "cell_type": "code",
   "execution_count": 242,
   "metadata": {},
   "outputs": [
    {
     "name": "stdout",
     "output_type": "stream",
     "text": [
      "The blackcellmagic extension is already loaded. To reload it, use:\n",
      "  %reload_ext blackcellmagic\n"
     ]
    }
   ],
   "source": [
    "import pandas as pd\n",
    "import polars as pl\n",
    "import polars.selectors as cs\n",
    "import numpy as np\n",
    "import plotnine as pn\n",
    "from mizani.formatters import comma_format, custom_format, currency_format, percent_format\n",
    "from IPython.display import clear_output, display\n",
    "import os\n",
    "import glob\n",
    "import requests\n",
    "from datetime import datetime, timedelta\n",
    "import pytz\n",
    "from tqdm.notebook import tqdm\n",
    "\n",
    "jama_colour = [\n",
    "    \"#374e55\",\n",
    "    \"#df8f44\",\n",
    "    \"#00a1d5\",\n",
    "    \"#b24745\",\n",
    "    \"#79af97\",\n",
    "]\n",
    "\n",
    "pd.set_option(\"display.max.columns\", 500)\n",
    "pd.set_option(\"display.max.columns\", 500)\n",
    "background_colour = \"#F2F2F2\"\n",
    "pn.theme_set(\n",
    "    pn.theme_classic()\n",
    "    + pn.theme(\n",
    "        figure_size=[7, 7/1.618],\n",
    "        text=pn.element_text(family=\"monospace\"),\n",
    "        plot_background=pn.element_rect(\n",
    "            fill=background_colour, colour=background_colour\n",
    "        ),\n",
    "        panel_background=pn.element_rect(\n",
    "            fill=background_colour, colour=background_colour\n",
    "        ),\n",
    "        legend_background=pn.element_rect(\n",
    "            fill=background_colour, colour=background_colour\n",
    "        ),\n",
    "    )\n",
    ")\n",
    "\n",
    "\n",
    "%load_ext blackcellmagic\n",
    "%matplotlib inline"
   ]
  },
  {
   "cell_type": "markdown",
   "metadata": {},
   "source": [
    "### Auction Prices"
   ]
  },
  {
   "cell_type": "code",
   "execution_count": 243,
   "metadata": {},
   "outputs": [
    {
     "data": {
      "text/html": [
       "<div><style>\n",
       ".dataframe > thead > tr,\n",
       ".dataframe > tbody > tr {\n",
       "  text-align: right;\n",
       "  white-space: pre-wrap;\n",
       "}\n",
       "</style>\n",
       "<small>shape: (44_582, 6)</small><table border=\"1\" class=\"dataframe\"><thead><tr><th>auction_price</th><th>allocatedCapacity</th><th>ATC</th><th>date</th><th>day</th><th>dst</th></tr><tr><td>f64</td><td>i64</td><td>i64</td><td>str</td><td>date</td><td>i16</td></tr></thead><tbody><tr><td>0.01</td><td>4222</td><td>4222</td><td>&quot;2023-03-06 11:…</td><td>2023-03-06</td><td>1</td></tr><tr><td>0.08</td><td>3005</td><td>3005</td><td>&quot;2019-07-18 15:…</td><td>2019-07-18</td><td>0</td></tr><tr><td>0.0</td><td>4082</td><td>4085</td><td>&quot;2019-05-12 22:…</td><td>2019-05-12</td><td>0</td></tr><tr><td>0.0</td><td>4408</td><td>4410</td><td>&quot;2021-01-06 00:…</td><td>2021-01-06</td><td>1</td></tr><tr><td>0.03</td><td>4101</td><td>4103</td><td>&quot;2021-04-13 19:…</td><td>2021-04-13</td><td>0</td></tr><tr><td>&hellip;</td><td>&hellip;</td><td>&hellip;</td><td>&hellip;</td><td>&hellip;</td><td>&hellip;</td></tr><tr><td>0.03</td><td>3139</td><td>3140</td><td>&quot;2019-09-23 13:…</td><td>2019-09-23</td><td>0</td></tr><tr><td>0.05</td><td>4035</td><td>4035</td><td>&quot;2019-05-25 05:…</td><td>2019-05-25</td><td>0</td></tr><tr><td>0.05</td><td>3412</td><td>3413</td><td>&quot;2021-05-14 15:…</td><td>2021-05-14</td><td>0</td></tr><tr><td>0.0</td><td>4213</td><td>4223</td><td>&quot;2023-04-09 10:…</td><td>2023-04-09</td><td>0</td></tr><tr><td>0.0</td><td>4018</td><td>4028</td><td>&quot;2019-03-23 17:…</td><td>2019-03-23</td><td>1</td></tr></tbody></table></div>"
      ],
      "text/plain": [
       "shape: (44_582, 6)\n",
       "┌───────────────┬───────────────────┬──────┬──────────────────┬────────────┬─────┐\n",
       "│ auction_price ┆ allocatedCapacity ┆ ATC  ┆ date             ┆ day        ┆ dst │\n",
       "│ ---           ┆ ---               ┆ ---  ┆ ---              ┆ ---        ┆ --- │\n",
       "│ f64           ┆ i64               ┆ i64  ┆ str              ┆ date       ┆ i16 │\n",
       "╞═══════════════╪═══════════════════╪══════╪══════════════════╪════════════╪═════╡\n",
       "│ 0.01          ┆ 4222              ┆ 4222 ┆ 2023-03-06 11:00 ┆ 2023-03-06 ┆ 1   │\n",
       "│ 0.08          ┆ 3005              ┆ 3005 ┆ 2019-07-18 15:00 ┆ 2019-07-18 ┆ 0   │\n",
       "│ 0.0           ┆ 4082              ┆ 4085 ┆ 2019-05-12 22:00 ┆ 2019-05-12 ┆ 0   │\n",
       "│ 0.0           ┆ 4408              ┆ 4410 ┆ 2021-01-06 00:00 ┆ 2021-01-06 ┆ 1   │\n",
       "│ 0.03          ┆ 4101              ┆ 4103 ┆ 2021-04-13 19:00 ┆ 2021-04-13 ┆ 0   │\n",
       "│ …             ┆ …                 ┆ …    ┆ …                ┆ …          ┆ …   │\n",
       "│ 0.03          ┆ 3139              ┆ 3140 ┆ 2019-09-23 13:00 ┆ 2019-09-23 ┆ 0   │\n",
       "│ 0.05          ┆ 4035              ┆ 4035 ┆ 2019-05-25 05:00 ┆ 2019-05-25 ┆ 0   │\n",
       "│ 0.05          ┆ 3412              ┆ 3413 ┆ 2021-05-14 15:00 ┆ 2021-05-14 ┆ 0   │\n",
       "│ 0.0           ┆ 4213              ┆ 4223 ┆ 2023-04-09 10:00 ┆ 2023-04-09 ┆ 0   │\n",
       "│ 0.0           ┆ 4018              ┆ 4028 ┆ 2019-03-23 17:00 ┆ 2019-03-23 ┆ 1   │\n",
       "└───────────────┴───────────────────┴──────┴──────────────────┴────────────┴─────┘"
      ]
     },
     "execution_count": 243,
     "metadata": {},
     "output_type": "execute_result"
    }
   ],
   "source": [
    "jao_chde = (\n",
    "    pl.from_pandas(pd.read_csv(\"./Raw Data/jao_prices_CH-DE.csv\"))\n",
    "    .select(pl.exclude([\"date\", \"corridor\", \"hour\"]))\n",
    "    .with_columns(\n",
    "        pl.col(\"delivery_begin_time_ch\")\n",
    "        .str.to_datetime()\n",
    "        .dt.convert_time_zone(\"Europe/Zurich\")\n",
    "        .alias(\"date\")\n",
    "    )\n",
    "    .with_columns(pl.col(\"date\").dt.date().alias(\"day\"))\n",
    "    .drop(\"delivery_begin_time_ch\")\n",
    "    .with_columns((pl.col(\"date\").dt.dst_offset() == 0).cast(pl.Int16).alias(\"dst\"))\n",
    "    .with_columns(pl.col(\"date\").dt.strftime(\"%Y-%m-%d %H:%M\"))\n",
    "    .unique(subset=[\"date\", \"dst\"])\n",
    "    .rename({\"price\": \"auction_price\"})\n",
    ")\n",
    "\n",
    "jao_dech = (\n",
    "    pl.from_pandas(pd.read_csv(\"./Raw Data/jao_prices_DE-CH.csv\"))\n",
    "    .select(pl.exclude([\"date\", \"corridor\", \"hour\"]))\n",
    "    .with_columns(\n",
    "        pl.col(\"delivery_begin_time_ch\")\n",
    "        .str.to_datetime()\n",
    "        .dt.convert_time_zone(\"Europe/Zurich\")\n",
    "        .alias(\"date\")\n",
    "    )\n",
    "    .with_columns(pl.col(\"date\").dt.date().alias(\"day\"))\n",
    "    .drop(\"delivery_begin_time_ch\")\n",
    "    .with_columns((pl.col(\"date\").dt.dst_offset() == 0).cast(pl.Int16).alias(\"dst\"))\n",
    "    .with_columns(pl.col(\"date\").dt.strftime(\"%Y-%m-%d %H:%M\"))\n",
    "    .unique(subset=[\"date\", \"dst\"])\n",
    "    .rename({\"price\": \"auction_price\"})\n",
    ")\n",
    "\n",
    "jao_chde"
   ]
  },
  {
   "cell_type": "code",
   "execution_count": 244,
   "metadata": {},
   "outputs": [
    {
     "data": {
      "text/html": [
       "<div><style>\n",
       ".dataframe > thead > tr,\n",
       ".dataframe > tbody > tr {\n",
       "  text-align: right;\n",
       "  white-space: pre-wrap;\n",
       "}\n",
       "</style>\n",
       "<small>shape: (2, 6)</small><table border=\"1\" class=\"dataframe\"><thead><tr><th>auction_price</th><th>allocatedCapacity</th><th>ATC</th><th>date</th><th>day</th><th>dst</th></tr><tr><td>f64</td><td>i64</td><td>i64</td><td>str</td><td>date</td><td>i16</td></tr></thead><tbody><tr><td>0.0</td><td>3863</td><td>3863</td><td>&quot;2019-10-27 02:…</td><td>2019-10-27</td><td>0</td></tr><tr><td>0.0</td><td>3857</td><td>3863</td><td>&quot;2019-10-27 02:…</td><td>2019-10-27</td><td>1</td></tr></tbody></table></div>"
      ],
      "text/plain": [
       "shape: (2, 6)\n",
       "┌───────────────┬───────────────────┬──────┬──────────────────┬────────────┬─────┐\n",
       "│ auction_price ┆ allocatedCapacity ┆ ATC  ┆ date             ┆ day        ┆ dst │\n",
       "│ ---           ┆ ---               ┆ ---  ┆ ---              ┆ ---        ┆ --- │\n",
       "│ f64           ┆ i64               ┆ i64  ┆ str              ┆ date       ┆ i16 │\n",
       "╞═══════════════╪═══════════════════╪══════╪══════════════════╪════════════╪═════╡\n",
       "│ 0.0           ┆ 3863              ┆ 3863 ┆ 2019-10-27 02:00 ┆ 2019-10-27 ┆ 0   │\n",
       "│ 0.0           ┆ 3857              ┆ 3863 ┆ 2019-10-27 02:00 ┆ 2019-10-27 ┆ 1   │\n",
       "└───────────────┴───────────────────┴──────┴──────────────────┴────────────┴─────┘"
      ]
     },
     "execution_count": 244,
     "metadata": {},
     "output_type": "execute_result"
    }
   ],
   "source": [
    "jao_chde.filter(pl.col(\"date\") == \"2019-10-27 02:00\")"
   ]
  },
  {
   "cell_type": "code",
   "execution_count": 245,
   "metadata": {},
   "outputs": [
    {
     "name": "stdout",
     "output_type": "stream",
     "text": [
      "shape: (5, 2)\n",
      "┌──────────────────┬───────┐\n",
      "│ date             ┆ count │\n",
      "│ ---              ┆ ---   │\n",
      "│ str              ┆ u32   │\n",
      "╞══════════════════╪═══════╡\n",
      "│ 2019-10-27 02:00 ┆ 2     │\n",
      "│ 2020-10-25 02:00 ┆ 2     │\n",
      "│ 2021-10-31 02:00 ┆ 2     │\n",
      "│ 2022-10-30 02:00 ┆ 2     │\n",
      "│ 2023-10-29 02:00 ┆ 2     │\n",
      "└──────────────────┴───────┘\n"
     ]
    }
   ],
   "source": [
    "jao_chde[\"date\"].value_counts(sort=True).filter(pl.col(\"count\") != 1).sort(\"date\").pipe(print)"
   ]
  },
  {
   "cell_type": "code",
   "execution_count": 246,
   "metadata": {},
   "outputs": [
    {
     "name": "stdout",
     "output_type": "stream",
     "text": [
      "shape: (5, 2)\n",
      "┌──────────────────┬───────┐\n",
      "│ date             ┆ count │\n",
      "│ ---              ┆ ---   │\n",
      "│ str              ┆ u32   │\n",
      "╞══════════════════╪═══════╡\n",
      "│ 2019-10-27 02:00 ┆ 2     │\n",
      "│ 2020-10-25 02:00 ┆ 2     │\n",
      "│ 2021-10-31 02:00 ┆ 2     │\n",
      "│ 2022-10-30 02:00 ┆ 2     │\n",
      "│ 2023-10-29 02:00 ┆ 2     │\n",
      "└──────────────────┴───────┘\n"
     ]
    }
   ],
   "source": [
    "jao_dech[\"date\"].value_counts(sort=True).filter(pl.col(\"count\") != 1).sort(\"date\").pipe(print)"
   ]
  },
  {
   "cell_type": "markdown",
   "metadata": {},
   "source": [
    "Now the observations are uniquely identifiable."
   ]
  },
  {
   "cell_type": "markdown",
   "metadata": {},
   "source": [
    "### Day-Ahead Prices \n",
    "\n",
    "- Aggregation: These values are already in hourly format\n",
    "- Join ID: date"
   ]
  },
  {
   "cell_type": "code",
   "execution_count": 247,
   "metadata": {},
   "outputs": [
    {
     "name": "stdout",
     "output_type": "stream",
     "text": [
      "shape: (44_569, 3)\n",
      "┌──────────────────┬────────────────────┬─────┐\n",
      "│ date             ┆ day_ahead_price_at ┆ dst │\n",
      "│ ---              ┆ ---                ┆ --- │\n",
      "│ str              ┆ f64                ┆ i16 │\n",
      "╞══════════════════╪════════════════════╪═════╡\n",
      "│ 2020-11-21 05:00 ┆ 31.03              ┆ 1   │\n",
      "│ 2020-03-07 06:00 ┆ 26.25              ┆ 1   │\n",
      "│ 2022-06-07 18:00 ┆ 200.0              ┆ 0   │\n",
      "│ 2021-06-26 02:00 ┆ 84.33              ┆ 0   │\n",
      "│ 2019-02-28 03:00 ┆ 28.02              ┆ 1   │\n",
      "│ …                ┆ …                  ┆ …   │\n",
      "│ 2020-06-26 21:00 ┆ 39.9               ┆ 0   │\n",
      "│ 2021-11-06 16:00 ┆ 167.34             ┆ 1   │\n",
      "│ 2022-05-05 07:00 ┆ 275.06             ┆ 0   │\n",
      "│ 2022-10-24 12:00 ┆ 125.05             ┆ 0   │\n",
      "│ 2023-01-16 23:00 ┆ 110.64             ┆ 1   │\n",
      "└──────────────────┴────────────────────┴─────┘\n",
      "shape: (5, 2)\n",
      "┌──────────────────┬───────┐\n",
      "│ date             ┆ count │\n",
      "│ ---              ┆ ---   │\n",
      "│ str              ┆ u32   │\n",
      "╞══════════════════╪═══════╡\n",
      "│ 2019-10-27 02:00 ┆ 2     │\n",
      "│ 2020-10-25 02:00 ┆ 2     │\n",
      "│ 2021-10-31 02:00 ┆ 2     │\n",
      "│ 2022-10-30 02:00 ┆ 2     │\n",
      "│ 2023-10-29 02:00 ┆ 2     │\n",
      "└──────────────────┴───────┘\n"
     ]
    }
   ],
   "source": [
    "da_at = (\n",
    "    pl.read_csv(\"./Raw Data/day_ahead_prices_AT.csv\")\n",
    "    .with_columns(pl.col(\"date\").str.to_datetime())\n",
    "    .with_columns(pl.col(\"date\").dt.convert_time_zone(\"Europe/Zurich\"))\n",
    "    .with_columns((pl.col(\"date\").dt.dst_offset() == 0).cast(pl.Int16).alias(\"dst\"))\n",
    "    .with_columns(pl.col(\"date\").dt.strftime(\"%Y-%m-%d %H:%M\"))\n",
    "    .unique(subset=[\"date\", \"dst\"])\n",
    "    .rename({\"price\": \"day_ahead_price_at\"})\n",
    ")\n",
    "\n",
    "da_at.pipe(print)\n",
    "da_at[\"date\"].value_counts().filter(pl.col(\"count\") != 1).sort(\"date\").pipe(print)"
   ]
  },
  {
   "cell_type": "code",
   "execution_count": 248,
   "metadata": {},
   "outputs": [
    {
     "name": "stdout",
     "output_type": "stream",
     "text": [
      "shape: (44_569, 3)\n",
      "┌──────────────────┬────────────────────┬─────┐\n",
      "│ date             ┆ day_ahead_price_ch ┆ dst │\n",
      "│ ---              ┆ ---                ┆ --- │\n",
      "│ str              ┆ f64                ┆ i16 │\n",
      "╞══════════════════╪════════════════════╪═════╡\n",
      "│ 2019-11-21 11:00 ┆ 59.05              ┆ 1   │\n",
      "│ 2023-03-10 20:00 ┆ 135.22             ┆ 1   │\n",
      "│ 2019-03-02 23:00 ┆ 32.87              ┆ 1   │\n",
      "│ 2023-07-24 02:00 ┆ 73.85              ┆ 0   │\n",
      "│ 2020-07-02 09:00 ┆ 42.98              ┆ 0   │\n",
      "│ …                ┆ …                  ┆ …   │\n",
      "│ 2019-03-17 17:00 ┆ 13.0               ┆ 1   │\n",
      "│ 2022-01-31 11:00 ┆ 255.08             ┆ 1   │\n",
      "│ 2019-12-24 14:00 ┆ 31.98              ┆ 1   │\n",
      "│ 2023-06-01 18:00 ┆ 82.64              ┆ 0   │\n",
      "│ 2019-07-11 23:00 ┆ 41.49              ┆ 0   │\n",
      "└──────────────────┴────────────────────┴─────┘\n",
      "shape: (5, 2)\n",
      "┌──────────────────┬───────┐\n",
      "│ date             ┆ count │\n",
      "│ ---              ┆ ---   │\n",
      "│ str              ┆ u32   │\n",
      "╞══════════════════╪═══════╡\n",
      "│ 2019-10-27 02:00 ┆ 2     │\n",
      "│ 2020-10-25 02:00 ┆ 2     │\n",
      "│ 2021-10-31 02:00 ┆ 2     │\n",
      "│ 2022-10-30 02:00 ┆ 2     │\n",
      "│ 2023-10-29 02:00 ┆ 2     │\n",
      "└──────────────────┴───────┘\n"
     ]
    }
   ],
   "source": [
    "da_ch = (\n",
    "    pl.read_csv(\"./Raw Data/day_ahead_prices_CH.csv\")\n",
    "    .with_columns(pl.col(\"date\").str.to_datetime())\n",
    "    .with_columns(pl.col(\"date\").dt.convert_time_zone(\"Europe/Zurich\"))\n",
    "    .with_columns((pl.col(\"date\").dt.dst_offset() == 0).cast(pl.Int16).alias(\"dst\"))\n",
    "    .with_columns(pl.col(\"date\").dt.strftime(\"%Y-%m-%d %H:%M\"))\n",
    "    .unique(subset=[\"date\", \"dst\"])\n",
    "    .rename({\"price\": \"day_ahead_price_ch\"})\n",
    ")\n",
    "\n",
    "da_ch.pipe(print)\n",
    "da_ch[\"date\"].value_counts().filter(pl.col(\"count\") != 1).sort(\"date\").pipe(print)"
   ]
  },
  {
   "cell_type": "code",
   "execution_count": 249,
   "metadata": {},
   "outputs": [
    {
     "name": "stdout",
     "output_type": "stream",
     "text": [
      "shape: (44_569, 3)\n",
      "┌──────────────────┬────────────────────┬─────┐\n",
      "│ date             ┆ day_ahead_price_de ┆ dst │\n",
      "│ ---              ┆ ---                ┆ --- │\n",
      "│ str              ┆ f64                ┆ i16 │\n",
      "╞══════════════════╪════════════════════╪═════╡\n",
      "│ 2019-03-30 08:00 ┆ 34.93              ┆ 1   │\n",
      "│ 2020-01-30 22:00 ┆ 27.3               ┆ 1   │\n",
      "│ 2022-10-26 10:00 ┆ 133.31             ┆ 0   │\n",
      "│ 2024-01-02 19:00 ┆ 63.18              ┆ 1   │\n",
      "│ 2019-05-19 00:00 ┆ 39.66              ┆ 0   │\n",
      "│ …                ┆ …                  ┆ …   │\n",
      "│ 2023-05-29 07:00 ┆ 58.71              ┆ 0   │\n",
      "│ 2020-11-12 14:00 ┆ 44.04              ┆ 1   │\n",
      "│ 2021-09-29 19:00 ┆ 188.12             ┆ 0   │\n",
      "│ 2023-06-30 02:00 ┆ 96.56              ┆ 0   │\n",
      "│ 2023-11-12 10:00 ┆ 88.61              ┆ 1   │\n",
      "└──────────────────┴────────────────────┴─────┘\n",
      "shape: (5, 2)\n",
      "┌──────────────────┬───────┐\n",
      "│ date             ┆ count │\n",
      "│ ---              ┆ ---   │\n",
      "│ str              ┆ u32   │\n",
      "╞══════════════════╪═══════╡\n",
      "│ 2019-10-27 02:00 ┆ 2     │\n",
      "│ 2020-10-25 02:00 ┆ 2     │\n",
      "│ 2021-10-31 02:00 ┆ 2     │\n",
      "│ 2022-10-30 02:00 ┆ 2     │\n",
      "│ 2023-10-29 02:00 ┆ 2     │\n",
      "└──────────────────┴───────┘\n"
     ]
    }
   ],
   "source": [
    "da_delu = (\n",
    "    pl.read_csv(\"./Raw Data/day_ahead_prices_DE_LU.csv\")\n",
    "    .with_columns(pl.col(\"date\").str.to_datetime())\n",
    "    .with_columns(pl.col(\"date\").dt.convert_time_zone(\"Europe/Zurich\"))\n",
    "    .with_columns((pl.col(\"date\").dt.dst_offset() == 0).cast(pl.Int16).alias(\"dst\"))\n",
    "    .with_columns(pl.col(\"date\").dt.strftime(\"%Y-%m-%d %H:%M\"))\n",
    "    .unique(subset=[\"date\", \"dst\"])\n",
    "    .rename({\"price\": \"day_ahead_price_de\"})\n",
    ")\n",
    "\n",
    "da_delu.pipe(print)\n",
    "da_delu[\"date\"].value_counts().filter(pl.col(\"count\") != 1).sort(\"date\").pipe(print)"
   ]
  },
  {
   "cell_type": "code",
   "execution_count": 250,
   "metadata": {},
   "outputs": [
    {
     "name": "stdout",
     "output_type": "stream",
     "text": [
      "shape: (44_569, 3)\n",
      "┌──────────────────┬────────────────────┬─────┐\n",
      "│ date             ┆ day_ahead_price_fr ┆ dst │\n",
      "│ ---              ┆ ---                ┆ --- │\n",
      "│ str              ┆ f64                ┆ i16 │\n",
      "╞══════════════════╪════════════════════╪═════╡\n",
      "│ 2019-09-20 03:00 ┆ 20.84              ┆ 0   │\n",
      "│ 2020-09-20 19:00 ┆ 51.7               ┆ 0   │\n",
      "│ 2019-02-24 08:00 ┆ 39.11              ┆ 1   │\n",
      "│ 2023-02-19 12:00 ┆ 110.9              ┆ 1   │\n",
      "│ 2019-01-13 04:00 ┆ 27.08              ┆ 1   │\n",
      "│ …                ┆ …                  ┆ …   │\n",
      "│ 2021-01-16 13:00 ┆ 57.14              ┆ 1   │\n",
      "│ 2021-04-12 04:00 ┆ 53.95              ┆ 0   │\n",
      "│ 2021-01-02 20:00 ┆ 60.03              ┆ 1   │\n",
      "│ 2019-12-20 00:00 ┆ 26.56              ┆ 1   │\n",
      "│ 2021-10-30 00:00 ┆ 100.0              ┆ 0   │\n",
      "└──────────────────┴────────────────────┴─────┘\n",
      "shape: (5, 2)\n",
      "┌──────────────────┬───────┐\n",
      "│ date             ┆ count │\n",
      "│ ---              ┆ ---   │\n",
      "│ str              ┆ u32   │\n",
      "╞══════════════════╪═══════╡\n",
      "│ 2019-10-27 02:00 ┆ 2     │\n",
      "│ 2020-10-25 02:00 ┆ 2     │\n",
      "│ 2021-10-31 02:00 ┆ 2     │\n",
      "│ 2022-10-30 02:00 ┆ 2     │\n",
      "│ 2023-10-29 02:00 ┆ 2     │\n",
      "└──────────────────┴───────┘\n"
     ]
    }
   ],
   "source": [
    "da_fr = (\n",
    "    pl.read_csv(\"./Raw Data/day_ahead_prices_FR.csv\")\n",
    "    .with_columns(pl.col(\"date\").str.to_datetime())\n",
    "    .with_columns(pl.col(\"date\").dt.convert_time_zone(\"Europe/Zurich\"))\n",
    "    .with_columns((pl.col(\"date\").dt.dst_offset() == 0).cast(pl.Int16).alias(\"dst\"))\n",
    "    .with_columns(pl.col(\"date\").dt.strftime(\"%Y-%m-%d %H:%M\"))\n",
    "    .unique(subset=[\"date\", \"dst\"])\n",
    "    .rename({\"price\": \"day_ahead_price_fr\"})\n",
    ")\n",
    "\n",
    "da_fr.pipe(print)\n",
    "da_fr[\"date\"].value_counts().filter(pl.col(\"count\") != 1).sort(\"date\").pipe(print)"
   ]
  },
  {
   "cell_type": "code",
   "execution_count": 251,
   "metadata": {},
   "outputs": [
    {
     "name": "stdout",
     "output_type": "stream",
     "text": [
      "shape: (44_569, 3)\n",
      "┌──────────────────┬────────────────────┬─────┐\n",
      "│ date             ┆ day_ahead_price_it ┆ dst │\n",
      "│ ---              ┆ ---                ┆ --- │\n",
      "│ str              ┆ f64                ┆ i16 │\n",
      "╞══════════════════╪════════════════════╪═════╡\n",
      "│ 2020-12-11 00:00 ┆ 41.05              ┆ 1   │\n",
      "│ 2021-07-22 01:00 ┆ 91.52              ┆ 0   │\n",
      "│ 2022-12-25 03:00 ┆ 126.75             ┆ 1   │\n",
      "│ 2020-12-23 13:00 ┆ 55.69              ┆ 1   │\n",
      "│ 2022-02-10 04:00 ┆ 188.08             ┆ 1   │\n",
      "│ …                ┆ …                  ┆ …   │\n",
      "│ 2019-02-27 15:00 ┆ 55.53              ┆ 1   │\n",
      "│ 2023-05-15 03:00 ┆ 101.32             ┆ 0   │\n",
      "│ 2023-11-10 08:00 ┆ 165.95             ┆ 1   │\n",
      "│ 2024-01-05 23:00 ┆ 86.8               ┆ 1   │\n",
      "│ 2021-03-05 00:00 ┆ 50.33              ┆ 1   │\n",
      "└──────────────────┴────────────────────┴─────┘\n",
      "shape: (5, 2)\n",
      "┌──────────────────┬───────┐\n",
      "│ date             ┆ count │\n",
      "│ ---              ┆ ---   │\n",
      "│ str              ┆ u32   │\n",
      "╞══════════════════╪═══════╡\n",
      "│ 2019-10-27 02:00 ┆ 2     │\n",
      "│ 2020-10-25 02:00 ┆ 2     │\n",
      "│ 2021-10-31 02:00 ┆ 2     │\n",
      "│ 2022-10-30 02:00 ┆ 2     │\n",
      "│ 2023-10-29 02:00 ┆ 2     │\n",
      "└──────────────────┴───────┘\n"
     ]
    }
   ],
   "source": [
    "da_it = (\n",
    "    pl.read_csv(\"./Raw Data/day_ahead_prices_IT_NORD.csv\")\n",
    "    .with_columns(pl.col(\"date\").str.to_datetime())\n",
    "    .with_columns(pl.col(\"date\").dt.convert_time_zone(\"Europe/Zurich\"))\n",
    "    .with_columns((pl.col(\"date\").dt.dst_offset() == 0).cast(pl.Int16).alias(\"dst\"))\n",
    "    .with_columns(pl.col(\"date\").dt.strftime(\"%Y-%m-%d %H:%M\"))\n",
    "    .unique(subset=[\"date\", \"dst\"])\n",
    "    .rename({\"price\": \"day_ahead_price_it\"})\n",
    ")\n",
    "\n",
    "da_it.pipe(print)\n",
    "da_it[\"date\"].value_counts().filter(pl.col(\"count\") != 1).sort(\"date\").pipe(print)"
   ]
  },
  {
   "cell_type": "markdown",
   "metadata": {},
   "source": [
    "### Actual Load"
   ]
  },
  {
   "cell_type": "code",
   "execution_count": 252,
   "metadata": {},
   "outputs": [
    {
     "name": "stdout",
     "output_type": "stream",
     "text": [
      "shape: (44_568, 3)\n",
      "┌──────────────────┬────────────────┬─────┐\n",
      "│ date             ┆ actual_load_at ┆ dst │\n",
      "│ ---              ┆ ---            ┆ --- │\n",
      "│ str              ┆ f64            ┆ i16 │\n",
      "╞══════════════════╪════════════════╪═════╡\n",
      "│ 2019-01-01 00:00 ┆ 6075.0         ┆ 1   │\n",
      "│ 2019-01-01 01:00 ┆ 5852.75        ┆ 1   │\n",
      "│ 2019-01-01 02:00 ┆ 5619.25        ┆ 1   │\n",
      "│ 2019-01-01 03:00 ┆ 5324.0         ┆ 1   │\n",
      "│ 2019-01-01 04:00 ┆ 5273.5         ┆ 1   │\n",
      "│ …                ┆ …              ┆ …   │\n",
      "│ 2024-01-31 19:00 ┆ 8433.0         ┆ 1   │\n",
      "│ 2024-01-31 20:00 ┆ 7892.75        ┆ 1   │\n",
      "│ 2024-01-31 21:00 ┆ 7312.0         ┆ 1   │\n",
      "│ 2024-01-31 22:00 ┆ 7065.0         ┆ 1   │\n",
      "│ 2024-01-31 23:00 ┆ 6610.25        ┆ 1   │\n",
      "└──────────────────┴────────────────┴─────┘\n",
      "shape: (5, 2)\n",
      "┌──────────────────┬───────┐\n",
      "│ date             ┆ count │\n",
      "│ ---              ┆ ---   │\n",
      "│ str              ┆ u32   │\n",
      "╞══════════════════╪═══════╡\n",
      "│ 2019-10-27 02:00 ┆ 2     │\n",
      "│ 2020-10-25 02:00 ┆ 2     │\n",
      "│ 2021-10-31 02:00 ┆ 2     │\n",
      "│ 2022-10-30 02:00 ┆ 2     │\n",
      "│ 2023-10-29 02:00 ┆ 2     │\n",
      "└──────────────────┴───────┘\n"
     ]
    }
   ],
   "source": [
    "load_at = (\n",
    "    pl.read_csv(\"./Raw Data/actual_load_AT.csv\")\n",
    "    .with_columns(pl.col(\"date\").str.to_datetime())\n",
    "    .with_columns(pl.col(\"date\").dt.convert_time_zone(\"Europe/Zurich\").dt.truncate(\"1h\"))\n",
    "    .group_by(\"date\")\n",
    "    .agg(pl.mean(\"actual_load\"))\n",
    "    .with_columns((pl.col(\"date\").dt.dst_offset() == 0).cast(pl.Int16).alias(\"dst\"))\n",
    "    .with_columns(pl.col(\"date\").dt.strftime(\"%Y-%m-%d %H:%M\"))\n",
    "    .unique(subset=[\"date\", \"dst\"])\n",
    "    .sort(\"date\")\n",
    "    .rename({\"actual_load\": \"actual_load_at\"})\n",
    ")\n",
    "\n",
    "load_at.pipe(print)\n",
    "load_at[\"date\"].value_counts().filter(pl.col(\"count\") != 1).sort(\"date\").pipe(print)"
   ]
  },
  {
   "cell_type": "code",
   "execution_count": 253,
   "metadata": {},
   "outputs": [
    {
     "name": "stdout",
     "output_type": "stream",
     "text": [
      "shape: (44_563, 3)\n",
      "┌──────────────────┬────────────────┬─────┐\n",
      "│ date             ┆ actual_load_ch ┆ dst │\n",
      "│ ---              ┆ ---            ┆ --- │\n",
      "│ str              ┆ f64            ┆ i16 │\n",
      "╞══════════════════╪════════════════╪═════╡\n",
      "│ 2019-01-01 00:00 ┆ 7037.0         ┆ 1   │\n",
      "│ 2019-01-01 01:00 ┆ 7096.0         ┆ 1   │\n",
      "│ 2019-01-01 02:00 ┆ 7244.0         ┆ 1   │\n",
      "│ 2019-01-01 03:00 ┆ 7443.0         ┆ 1   │\n",
      "│ 2019-01-01 04:00 ┆ 7353.0         ┆ 1   │\n",
      "│ …                ┆ …              ┆ …   │\n",
      "│ 2024-01-31 19:00 ┆ 8055.0         ┆ 1   │\n",
      "│ 2024-01-31 20:00 ┆ 7774.0         ┆ 1   │\n",
      "│ 2024-01-31 21:00 ┆ 7417.0         ┆ 1   │\n",
      "│ 2024-01-31 22:00 ┆ 6997.0         ┆ 1   │\n",
      "│ 2024-01-31 23:00 ┆ 6821.0         ┆ 1   │\n",
      "└──────────────────┴────────────────┴─────┘\n",
      "shape: (5, 2)\n",
      "┌──────────────────┬───────┐\n",
      "│ date             ┆ count │\n",
      "│ ---              ┆ ---   │\n",
      "│ str              ┆ u32   │\n",
      "╞══════════════════╪═══════╡\n",
      "│ 2019-10-27 02:00 ┆ 2     │\n",
      "│ 2020-10-25 02:00 ┆ 2     │\n",
      "│ 2021-10-31 02:00 ┆ 2     │\n",
      "│ 2022-10-30 02:00 ┆ 2     │\n",
      "│ 2023-10-29 02:00 ┆ 2     │\n",
      "└──────────────────┴───────┘\n"
     ]
    }
   ],
   "source": [
    "load_ch = (\n",
    "    pl.read_csv(\"./Raw Data/actual_load_CH.csv\")\n",
    "    .with_columns(pl.col(\"date\").str.to_datetime())\n",
    "    .with_columns(pl.col(\"date\").dt.convert_time_zone(\"Europe/Zurich\").dt.truncate(\"1h\"))\n",
    "    .group_by(\"date\")\n",
    "    .agg(pl.mean(\"actual_load\"))\n",
    "    .with_columns((pl.col(\"date\").dt.dst_offset() == 0).cast(pl.Int16).alias(\"dst\"))\n",
    "    .with_columns(pl.col(\"date\").dt.strftime(\"%Y-%m-%d %H:%M\"))\n",
    "    .unique(subset=[\"date\", \"dst\"])\n",
    "    .sort(\"date\")\n",
    "    .rename({\"actual_load\": \"actual_load_ch\"})\n",
    ")\n",
    "\n",
    "load_ch.pipe(print)\n",
    "load_ch[\"date\"].value_counts().filter(pl.col(\"count\") != 1).sort(\"date\").pipe(print)"
   ]
  },
  {
   "cell_type": "code",
   "execution_count": 254,
   "metadata": {},
   "outputs": [
    {
     "name": "stdout",
     "output_type": "stream",
     "text": [
      "shape: (44_568, 3)\n",
      "┌──────────────────┬────────────────┬─────┐\n",
      "│ date             ┆ actual_load_de ┆ dst │\n",
      "│ ---              ┆ ---            ┆ --- │\n",
      "│ str              ┆ f64            ┆ i16 │\n",
      "╞══════════════════╪════════════════╪═════╡\n",
      "│ 2019-01-01 00:00 ┆ 43713.5        ┆ 1   │\n",
      "│ 2019-01-01 01:00 ┆ 42091.0        ┆ 1   │\n",
      "│ 2019-01-01 02:00 ┆ 40537.0        ┆ 1   │\n",
      "│ 2019-01-01 03:00 ┆ 39725.75       ┆ 1   │\n",
      "│ 2019-01-01 04:00 ┆ 39502.0        ┆ 1   │\n",
      "│ …                ┆ …              ┆ …   │\n",
      "│ 2024-01-31 19:00 ┆ 69814.25       ┆ 1   │\n",
      "│ 2024-01-31 20:00 ┆ 66137.75       ┆ 1   │\n",
      "│ 2024-01-31 21:00 ┆ 62751.0        ┆ 1   │\n",
      "│ 2024-01-31 22:00 ┆ 60155.25       ┆ 1   │\n",
      "│ 2024-01-31 23:00 ┆ 56119.75       ┆ 1   │\n",
      "└──────────────────┴────────────────┴─────┘\n",
      "shape: (5, 2)\n",
      "┌──────────────────┬───────┐\n",
      "│ date             ┆ count │\n",
      "│ ---              ┆ ---   │\n",
      "│ str              ┆ u32   │\n",
      "╞══════════════════╪═══════╡\n",
      "│ 2019-10-27 02:00 ┆ 2     │\n",
      "│ 2020-10-25 02:00 ┆ 2     │\n",
      "│ 2021-10-31 02:00 ┆ 2     │\n",
      "│ 2022-10-30 02:00 ┆ 2     │\n",
      "│ 2023-10-29 02:00 ┆ 2     │\n",
      "└──────────────────┴───────┘\n"
     ]
    }
   ],
   "source": [
    "load_de = (\n",
    "    pl.read_csv(\"./Raw Data/actual_load_DE_LU.csv\")\n",
    "    .with_columns(pl.col(\"date\").str.to_datetime())\n",
    "    .with_columns(pl.col(\"date\").dt.convert_time_zone(\"Europe/Zurich\").dt.truncate(\"1h\"))\n",
    "    .group_by(\"date\")\n",
    "    .agg(pl.mean(\"actual_load\"))\n",
    "    .with_columns((pl.col(\"date\").dt.dst_offset() == 0).cast(pl.Int16).alias(\"dst\"))\n",
    "    .with_columns(pl.col(\"date\").dt.strftime(\"%Y-%m-%d %H:%M\"))\n",
    "    .unique(subset=[\"date\", \"dst\"])\n",
    "    .sort(\"date\")\n",
    "    .rename({\"actual_load\": \"actual_load_de\"})\n",
    ")\n",
    "\n",
    "load_de.pipe(print)\n",
    "load_de[\"date\"].value_counts().filter(pl.col(\"count\") != 1).sort(\"date\").pipe(print)"
   ]
  },
  {
   "cell_type": "code",
   "execution_count": 255,
   "metadata": {},
   "outputs": [
    {
     "name": "stdout",
     "output_type": "stream",
     "text": [
      "shape: (44_518, 3)\n",
      "┌──────────────────┬────────────────┬─────┐\n",
      "│ date             ┆ actual_load_fr ┆ dst │\n",
      "│ ---              ┆ ---            ┆ --- │\n",
      "│ str              ┆ f64            ┆ i16 │\n",
      "╞══════════════════╪════════════════╪═════╡\n",
      "│ 2019-01-01 00:00 ┆ 62176.0        ┆ 1   │\n",
      "│ 2019-01-01 01:00 ┆ 60301.0        ┆ 1   │\n",
      "│ 2019-01-01 02:00 ┆ 58540.0        ┆ 1   │\n",
      "│ 2019-01-01 03:00 ┆ 55144.0        ┆ 1   │\n",
      "│ 2019-01-01 04:00 ┆ 52978.0        ┆ 1   │\n",
      "│ …                ┆ …              ┆ …   │\n",
      "│ 2024-01-31 19:00 ┆ 63343.0        ┆ 1   │\n",
      "│ 2024-01-31 20:00 ┆ 64827.0        ┆ 1   │\n",
      "│ 2024-01-31 21:00 ┆ 61646.0        ┆ 1   │\n",
      "│ 2024-01-31 22:00 ┆ 58398.0        ┆ 1   │\n",
      "│ 2024-01-31 23:00 ┆ 58517.0        ┆ 1   │\n",
      "└──────────────────┴────────────────┴─────┘\n",
      "shape: (2, 2)\n",
      "┌──────────────────┬───────┐\n",
      "│ date             ┆ count │\n",
      "│ ---              ┆ ---   │\n",
      "│ str              ┆ u32   │\n",
      "╞══════════════════╪═══════╡\n",
      "│ 2022-10-30 02:00 ┆ 2     │\n",
      "│ 2023-10-29 02:00 ┆ 2     │\n",
      "└──────────────────┴───────┘\n"
     ]
    }
   ],
   "source": [
    "load_fr = (\n",
    "    pl.read_csv(\"./Raw Data/actual_load_FR.csv\")\n",
    "    .with_columns(pl.col(\"date\").str.to_datetime())\n",
    "    .with_columns(pl.col(\"date\").dt.convert_time_zone(\"Europe/Zurich\").dt.truncate(\"1h\"))\n",
    "    .group_by(\"date\")\n",
    "    .agg(pl.mean(\"actual_load\"))\n",
    "    .with_columns((pl.col(\"date\").dt.dst_offset() == 0).cast(pl.Int16).alias(\"dst\"))\n",
    "    .with_columns(pl.col(\"date\").dt.strftime(\"%Y-%m-%d %H:%M\"))\n",
    "    .unique(subset=[\"date\", \"dst\"])\n",
    "    .sort(\"date\")\n",
    "    .rename({\"actual_load\": \"actual_load_fr\"})\n",
    ")\n",
    "\n",
    "load_fr.pipe(print)\n",
    "load_fr[\"date\"].value_counts().filter(pl.col(\"count\") != 1).sort(\"date\").pipe(print)"
   ]
  },
  {
   "cell_type": "code",
   "execution_count": 256,
   "metadata": {},
   "outputs": [
    {
     "name": "stdout",
     "output_type": "stream",
     "text": [
      "shape: (44_563, 3)\n",
      "┌──────────────────┬────────────────┬─────┐\n",
      "│ date             ┆ actual_load_it ┆ dst │\n",
      "│ ---              ┆ ---            ┆ --- │\n",
      "│ str              ┆ f64            ┆ i16 │\n",
      "╞══════════════════╪════════════════╪═════╡\n",
      "│ 2019-01-01 00:00 ┆ 23644.0        ┆ 1   │\n",
      "│ 2019-01-01 01:00 ┆ 22850.0        ┆ 1   │\n",
      "│ 2019-01-01 02:00 ┆ 21600.0        ┆ 1   │\n",
      "│ 2019-01-01 03:00 ┆ 20255.0        ┆ 1   │\n",
      "│ 2019-01-01 04:00 ┆ 19459.0        ┆ 1   │\n",
      "│ …                ┆ …              ┆ …   │\n",
      "│ 2024-01-31 19:00 ┆ 43670.0        ┆ 1   │\n",
      "│ 2024-01-31 20:00 ┆ 41362.0        ┆ 1   │\n",
      "│ 2024-01-31 21:00 ┆ 38122.0        ┆ 1   │\n",
      "│ 2024-01-31 22:00 ┆ 34165.0        ┆ 1   │\n",
      "│ 2024-01-31 23:00 ┆ 30578.0        ┆ 1   │\n",
      "└──────────────────┴────────────────┴─────┘\n",
      "shape: (5, 2)\n",
      "┌──────────────────┬───────┐\n",
      "│ date             ┆ count │\n",
      "│ ---              ┆ ---   │\n",
      "│ str              ┆ u32   │\n",
      "╞══════════════════╪═══════╡\n",
      "│ 2019-10-27 02:00 ┆ 2     │\n",
      "│ 2020-10-25 02:00 ┆ 2     │\n",
      "│ 2021-10-31 02:00 ┆ 2     │\n",
      "│ 2022-10-30 02:00 ┆ 2     │\n",
      "│ 2023-10-29 02:00 ┆ 2     │\n",
      "└──────────────────┴───────┘\n"
     ]
    }
   ],
   "source": [
    "load_it = (\n",
    "    pl.read_csv(\"./Raw Data/actual_load_IT.csv\")\n",
    "    .with_columns(pl.col(\"date\").str.to_datetime())\n",
    "    .with_columns(pl.col(\"date\").dt.convert_time_zone(\"Europe/Zurich\").dt.truncate(\"1h\"))\n",
    "    .group_by(\"date\")\n",
    "    .agg(pl.mean(\"actual_load\"))\n",
    "    .with_columns((pl.col(\"date\").dt.dst_offset() == 0).cast(pl.Int16).alias(\"dst\"))\n",
    "    .with_columns(pl.col(\"date\").dt.strftime(\"%Y-%m-%d %H:%M\"))\n",
    "    .unique(subset=[\"date\", \"dst\"])\n",
    "    .sort(\"date\")\n",
    "    .rename({\"actual_load\": \"actual_load_it\"})\n",
    ")\n",
    "\n",
    "load_it.pipe(print)\n",
    "load_it[\"date\"].value_counts().filter(pl.col(\"count\") != 1).sort(\"date\").pipe(print)"
   ]
  },
  {
   "cell_type": "markdown",
   "metadata": {},
   "source": [
    "### Forecast Wind and Solar"
   ]
  },
  {
   "cell_type": "code",
   "execution_count": 257,
   "metadata": {},
   "outputs": [
    {
     "name": "stdout",
     "output_type": "stream",
     "text": [
      "shape: (44_568, 4)\n",
      "┌──────────────────┬───────────────────┬──────────────────────────┬─────┐\n",
      "│ date             ┆ solar_forecast_at ┆ wind_onshore_forecast_at ┆ dst │\n",
      "│ ---              ┆ ---               ┆ ---                      ┆ --- │\n",
      "│ str              ┆ f64               ┆ f64                      ┆ i16 │\n",
      "╞══════════════════╪═══════════════════╪══════════════════════════╪═════╡\n",
      "│ 2019-01-01 00:00 ┆ 0.0               ┆ 487.0                    ┆ 1   │\n",
      "│ 2019-01-01 01:00 ┆ 0.0               ┆ 398.0                    ┆ 1   │\n",
      "│ 2019-01-01 02:00 ┆ 0.0               ┆ 338.0                    ┆ 1   │\n",
      "│ 2019-01-01 03:00 ┆ 0.0               ┆ 309.0                    ┆ 1   │\n",
      "│ 2019-01-01 04:00 ┆ 0.0               ┆ 320.0                    ┆ 1   │\n",
      "│ …                ┆ …                 ┆ …                        ┆ …   │\n",
      "│ 2024-01-31 19:00 ┆ 0.0               ┆ 131.0                    ┆ 1   │\n",
      "│ 2024-01-31 20:00 ┆ 0.0               ┆ 152.0                    ┆ 1   │\n",
      "│ 2024-01-31 21:00 ┆ 0.0               ┆ 176.0                    ┆ 1   │\n",
      "│ 2024-01-31 22:00 ┆ 0.0               ┆ 194.0                    ┆ 1   │\n",
      "│ 2024-01-31 23:00 ┆ 0.0               ┆ 216.0                    ┆ 1   │\n",
      "└──────────────────┴───────────────────┴──────────────────────────┴─────┘\n",
      "shape: (5, 2)\n",
      "┌──────────────────┬───────┐\n",
      "│ date             ┆ count │\n",
      "│ ---              ┆ ---   │\n",
      "│ str              ┆ u32   │\n",
      "╞══════════════════╪═══════╡\n",
      "│ 2019-10-27 02:00 ┆ 2     │\n",
      "│ 2020-10-25 02:00 ┆ 2     │\n",
      "│ 2021-10-31 02:00 ┆ 2     │\n",
      "│ 2022-10-30 02:00 ┆ 2     │\n",
      "│ 2023-10-29 02:00 ┆ 2     │\n",
      "└──────────────────┴───────┘\n"
     ]
    }
   ],
   "source": [
    "wind_solar_forecast_at = (\n",
    "    pl.read_csv(\"./Raw Data/wind_solar_forecast_AT.csv\")\n",
    "    .with_columns(pl.col(\"date\").str.to_datetime())\n",
    "    .with_columns(pl.col(\"date\").dt.convert_time_zone(\"Europe/Zurich\").dt.truncate(\"1h\"))\n",
    "    .group_by(\"date\")\n",
    "    .agg(\n",
    "        pl.mean(\"solar_forecast\"),\n",
    "        pl.mean(\"wind_onshore_forecast\"),\n",
    "    )\n",
    "    .with_columns((pl.col(\"date\").dt.dst_offset() == 0).cast(pl.Int16).alias(\"dst\"))\n",
    "    .with_columns(pl.col(\"date\").dt.strftime(\"%Y-%m-%d %H:%M\"))\n",
    "    .unique(subset=[\"date\", \"dst\"])\n",
    "    .sort(\"date\")\n",
    "    .rename(\n",
    "        {\n",
    "            \"solar_forecast\": \"solar_forecast_at\",\n",
    "            \"wind_onshore_forecast\": \"wind_onshore_forecast_at\",\n",
    "        }\n",
    "    )\n",
    ")\n",
    "\n",
    "wind_solar_forecast_at.pipe(print)\n",
    "wind_solar_forecast_at[\"date\"].value_counts().filter(pl.col(\"count\") != 1).sort(\"date\").pipe(print)"
   ]
  },
  {
   "cell_type": "code",
   "execution_count": 258,
   "metadata": {},
   "outputs": [
    {
     "name": "stdout",
     "output_type": "stream",
     "text": [
      "shape: (44_563, 4)\n",
      "┌──────────────────┬───────────────────┬──────────────────────────┬─────┐\n",
      "│ date             ┆ solar_forecast_ch ┆ wind_onshore_forecast_ch ┆ dst │\n",
      "│ ---              ┆ ---               ┆ ---                      ┆ --- │\n",
      "│ str              ┆ f64               ┆ f64                      ┆ i16 │\n",
      "╞══════════════════╪═══════════════════╪══════════════════════════╪═════╡\n",
      "│ 2019-01-01 00:00 ┆ 0.0               ┆ 2.0                      ┆ 1   │\n",
      "│ 2019-01-01 01:00 ┆ 0.0               ┆ 2.0                      ┆ 1   │\n",
      "│ 2019-01-01 02:00 ┆ 0.0               ┆ 2.0                      ┆ 1   │\n",
      "│ 2019-01-01 03:00 ┆ 0.0               ┆ 2.0                      ┆ 1   │\n",
      "│ 2019-01-01 04:00 ┆ 0.0               ┆ 2.0                      ┆ 1   │\n",
      "│ …                ┆ …                 ┆ …                        ┆ …   │\n",
      "│ 2024-01-31 19:00 ┆ 0.0               ┆ 0.0                      ┆ 1   │\n",
      "│ 2024-01-31 20:00 ┆ 0.0               ┆ 0.0                      ┆ 1   │\n",
      "│ 2024-01-31 21:00 ┆ 0.0               ┆ 0.0                      ┆ 1   │\n",
      "│ 2024-01-31 22:00 ┆ 0.0               ┆ 0.0                      ┆ 1   │\n",
      "│ 2024-01-31 23:00 ┆ 0.0               ┆ 0.0                      ┆ 1   │\n",
      "└──────────────────┴───────────────────┴──────────────────────────┴─────┘\n",
      "shape: (5, 2)\n",
      "┌──────────────────┬───────┐\n",
      "│ date             ┆ count │\n",
      "│ ---              ┆ ---   │\n",
      "│ str              ┆ u32   │\n",
      "╞══════════════════╪═══════╡\n",
      "│ 2019-10-27 02:00 ┆ 2     │\n",
      "│ 2020-10-25 02:00 ┆ 2     │\n",
      "│ 2021-10-31 02:00 ┆ 2     │\n",
      "│ 2022-10-30 02:00 ┆ 2     │\n",
      "│ 2023-10-29 02:00 ┆ 2     │\n",
      "└──────────────────┴───────┘\n"
     ]
    }
   ],
   "source": [
    "wind_solar_forecast_ch = (\n",
    "    pl.read_csv(\"./Raw Data/wind_solar_forecast_CH.csv\")\n",
    "    .with_columns(pl.col(\"date\").str.to_datetime())\n",
    "    .with_columns(pl.col(\"date\").dt.convert_time_zone(\"Europe/Zurich\").dt.truncate(\"1h\"))\n",
    "    .group_by(\"date\")\n",
    "    .agg(\n",
    "        pl.mean(\"solar_forecast\"),\n",
    "        pl.mean(\"wind_onshore_forecast\"),\n",
    "    )\n",
    "    .with_columns((pl.col(\"date\").dt.dst_offset() == 0).cast(pl.Int16).alias(\"dst\"))\n",
    "    .with_columns(pl.col(\"date\").dt.strftime(\"%Y-%m-%d %H:%M\"))\n",
    "    .unique(subset=[\"date\", \"dst\"])\n",
    "    .sort(\"date\")\n",
    "    .rename(\n",
    "        {\n",
    "            \"solar_forecast\": \"solar_forecast_ch\",\n",
    "            \"wind_onshore_forecast\": \"wind_onshore_forecast_ch\",\n",
    "        }\n",
    "    )\n",
    ")\n",
    "\n",
    "wind_solar_forecast_ch.pipe(print)\n",
    "wind_solar_forecast_ch[\"date\"].value_counts().filter(pl.col(\"count\") != 1).sort(\"date\").pipe(print)"
   ]
  },
  {
   "cell_type": "code",
   "execution_count": 259,
   "metadata": {},
   "outputs": [
    {
     "name": "stdout",
     "output_type": "stream",
     "text": [
      "shape: (44_546, 5)\n",
      "┌──────────────────┬───────────────────┬──────────────────────────┬──────────────────────────┬─────┐\n",
      "│ date             ┆ solar_forecast_de ┆ wind_onshore_forecast_de ┆ wind_offshore_forecast_d ┆ dst │\n",
      "│ ---              ┆ ---               ┆ ---                      ┆ e                        ┆ --- │\n",
      "│ str              ┆ f64               ┆ f64                      ┆ ---                      ┆ i16 │\n",
      "│                  ┆                   ┆                          ┆ f64                      ┆     │\n",
      "╞══════════════════╪═══════════════════╪══════════════════════════╪══════════════════════════╪═════╡\n",
      "│ 2019-01-01 00:00 ┆ 0.0               ┆ 18879.75                 ┆ 5069.0                   ┆ 1   │\n",
      "│ 2019-01-01 01:00 ┆ 0.0               ┆ 20626.5                  ┆ 5042.25                  ┆ 1   │\n",
      "│ 2019-01-01 02:00 ┆ 0.0               ┆ 22355.5                  ┆ 5028.5                   ┆ 1   │\n",
      "│ 2019-01-01 03:00 ┆ 0.0               ┆ 24032.5                  ┆ 4977.75                  ┆ 1   │\n",
      "│ 2019-01-01 04:00 ┆ 0.0               ┆ 25452.0                  ┆ 4907.25                  ┆ 1   │\n",
      "│ …                ┆ …                 ┆ …                        ┆ …                        ┆ …   │\n",
      "│ 2024-01-31 19:00 ┆ 0.0               ┆ 27540.75                 ┆ 5476.5                   ┆ 1   │\n",
      "│ 2024-01-31 20:00 ┆ 0.0               ┆ 31092.0                  ┆ 5299.0                   ┆ 1   │\n",
      "│ 2024-01-31 21:00 ┆ 0.0               ┆ 33759.0                  ┆ 5142.75                  ┆ 1   │\n",
      "│ 2024-01-31 22:00 ┆ 0.0               ┆ 34532.0                  ┆ 5073.25                  ┆ 1   │\n",
      "│ 2024-01-31 23:00 ┆ 0.0               ┆ 35222.75                 ┆ 5022.0                   ┆ 1   │\n",
      "└──────────────────┴───────────────────┴──────────────────────────┴──────────────────────────┴─────┘\n",
      "shape: (5, 2)\n",
      "┌──────────────────┬───────┐\n",
      "│ date             ┆ count │\n",
      "│ ---              ┆ ---   │\n",
      "│ str              ┆ u32   │\n",
      "╞══════════════════╪═══════╡\n",
      "│ 2019-10-27 02:00 ┆ 2     │\n",
      "│ 2020-10-25 02:00 ┆ 2     │\n",
      "│ 2021-10-31 02:00 ┆ 2     │\n",
      "│ 2022-10-30 02:00 ┆ 2     │\n",
      "│ 2023-10-29 02:00 ┆ 2     │\n",
      "└──────────────────┴───────┘\n"
     ]
    }
   ],
   "source": [
    "wind_solar_forecast_de = (\n",
    "    pl.read_csv(\"./Raw Data/wind_solar_forecast_DE_LU.csv\")\n",
    "    .with_columns(pl.col(\"date\").str.to_datetime())\n",
    "    .with_columns(pl.col(\"date\").dt.convert_time_zone(\"Europe/Zurich\").dt.truncate(\"1h\"))\n",
    "    .group_by(\"date\")\n",
    "    .agg(\n",
    "        pl.mean(\"solar_forecast\"),\n",
    "        pl.mean(\"wind_onshore_forecast\"),\n",
    "        pl.mean(\"wind_offshore_forecast\")\n",
    "    )\n",
    "    .with_columns((pl.col(\"date\").dt.dst_offset() == 0).cast(pl.Int16).alias(\"dst\"))\n",
    "    .with_columns(pl.col(\"date\").dt.strftime(\"%Y-%m-%d %H:%M\"))\n",
    "    .unique(subset=[\"date\", \"dst\"])\n",
    "    .sort(\"date\")\n",
    "    .rename(\n",
    "        {\n",
    "            \"solar_forecast\": \"solar_forecast_de\",\n",
    "            \"wind_offshore_forecast\": \"wind_offshore_forecast_de\",\n",
    "            \"wind_onshore_forecast\": \"wind_onshore_forecast_de\",\n",
    "        }\n",
    "    )\n",
    ")\n",
    "\n",
    "wind_solar_forecast_de.pipe(print)\n",
    "wind_solar_forecast_de[\"date\"].value_counts().filter(pl.col(\"count\") != 1).sort(\"date\").pipe(print)"
   ]
  },
  {
   "cell_type": "code",
   "execution_count": 260,
   "metadata": {},
   "outputs": [
    {
     "name": "stdout",
     "output_type": "stream",
     "text": [
      "shape: (44_344, 5)\n",
      "┌──────────────────┬───────────────────┬──────────────────────────┬──────────────────────────┬─────┐\n",
      "│ date             ┆ solar_forecast_fr ┆ wind_onshore_forecast_fr ┆ wind_offshore_forecast_f ┆ dst │\n",
      "│ ---              ┆ ---               ┆ ---                      ┆ r                        ┆ --- │\n",
      "│ str              ┆ f64               ┆ f64                      ┆ ---                      ┆ i16 │\n",
      "│                  ┆                   ┆                          ┆ str                      ┆     │\n",
      "╞══════════════════╪═══════════════════╪══════════════════════════╪══════════════════════════╪═════╡\n",
      "│ 2019-01-01 00:00 ┆ 0.0               ┆ 1698.0                   ┆ null                     ┆ 1   │\n",
      "│ 2019-01-01 01:00 ┆ 0.0               ┆ 1680.0                   ┆ null                     ┆ 1   │\n",
      "│ 2019-01-01 02:00 ┆ 0.0               ┆ 1675.0                   ┆ null                     ┆ 1   │\n",
      "│ 2019-01-01 03:00 ┆ 0.0               ┆ 1670.0                   ┆ null                     ┆ 1   │\n",
      "│ 2019-01-01 04:00 ┆ 0.0               ┆ 1664.0                   ┆ null                     ┆ 1   │\n",
      "│ …                ┆ …                 ┆ …                        ┆ …                        ┆ …   │\n",
      "│ 2024-01-31 19:00 ┆ 0.0               ┆ 5016.0                   ┆ null                     ┆ 1   │\n",
      "│ 2024-01-31 20:00 ┆ 0.0               ┆ 5760.0                   ┆ null                     ┆ 1   │\n",
      "│ 2024-01-31 21:00 ┆ 0.0               ┆ 6504.0                   ┆ null                     ┆ 1   │\n",
      "│ 2024-01-31 22:00 ┆ 0.0               ┆ 7249.0                   ┆ null                     ┆ 1   │\n",
      "│ 2024-01-31 23:00 ┆ 0.0               ┆ 7624.0                   ┆ null                     ┆ 1   │\n",
      "└──────────────────┴───────────────────┴──────────────────────────┴──────────────────────────┴─────┘\n",
      "shape: (3, 2)\n",
      "┌──────────────────┬───────┐\n",
      "│ date             ┆ count │\n",
      "│ ---              ┆ ---   │\n",
      "│ str              ┆ u32   │\n",
      "╞══════════════════╪═══════╡\n",
      "│ 2021-10-31 02:00 ┆ 2     │\n",
      "│ 2022-10-30 02:00 ┆ 2     │\n",
      "│ 2023-10-29 02:00 ┆ 2     │\n",
      "└──────────────────┴───────┘\n"
     ]
    }
   ],
   "source": [
    "wind_solar_forecast_fr = (\n",
    "    pl.read_csv(\"./Raw Data/wind_solar_forecast_FR.csv\")\n",
    "    .with_columns(pl.col(\"date\").str.to_datetime())\n",
    "    .with_columns(pl.col(\"date\").dt.convert_time_zone(\"Europe/Zurich\").dt.truncate(\"1h\"))\n",
    "    .group_by(\"date\")\n",
    "    .agg(\n",
    "        pl.mean(\"solar_forecast\"),\n",
    "        pl.mean(\"wind_onshore_forecast\"),\n",
    "        pl.mean(\"wind_offshore_forecast\")\n",
    "    )\n",
    "    .with_columns((pl.col(\"date\").dt.dst_offset() == 0).cast(pl.Int16).alias(\"dst\"))\n",
    "    .with_columns(pl.col(\"date\").dt.strftime(\"%Y-%m-%d %H:%M\"))\n",
    "    .unique(subset=[\"date\", \"dst\"])\n",
    "    .sort(\"date\")\n",
    "    .rename(\n",
    "        {\n",
    "            \"solar_forecast\": \"solar_forecast_fr\",\n",
    "            \"wind_offshore_forecast\": \"wind_offshore_forecast_fr\",\n",
    "            \"wind_onshore_forecast\": \"wind_onshore_forecast_fr\",\n",
    "        }\n",
    "    )\n",
    ")\n",
    "\n",
    "wind_solar_forecast_fr.pipe(print)\n",
    "wind_solar_forecast_fr[\"date\"].value_counts().filter(pl.col(\"count\") != 1).sort(\"date\").pipe(print)"
   ]
  },
  {
   "cell_type": "code",
   "execution_count": 261,
   "metadata": {},
   "outputs": [
    {
     "name": "stdout",
     "output_type": "stream",
     "text": [
      "shape: (43_314, 4)\n",
      "┌──────────────────┬───────────────────┬──────────────────────────┬─────┐\n",
      "│ date             ┆ solar_forecast_it ┆ wind_onshore_forecast_it ┆ dst │\n",
      "│ ---              ┆ ---               ┆ ---                      ┆ --- │\n",
      "│ str              ┆ f64               ┆ str                      ┆ i16 │\n",
      "╞══════════════════╪═══════════════════╪══════════════════════════╪═════╡\n",
      "│ 2019-01-01 00:00 ┆ 0.0               ┆ null                     ┆ 1   │\n",
      "│ 2019-01-01 01:00 ┆ 0.0               ┆ null                     ┆ 1   │\n",
      "│ 2019-01-01 02:00 ┆ 0.0               ┆ null                     ┆ 1   │\n",
      "│ 2019-01-01 03:00 ┆ 0.0               ┆ null                     ┆ 1   │\n",
      "│ 2019-01-01 04:00 ┆ 0.0               ┆ null                     ┆ 1   │\n",
      "│ …                ┆ …                 ┆ …                        ┆ …   │\n",
      "│ 2024-01-31 19:00 ┆ 0.0               ┆ null                     ┆ 1   │\n",
      "│ 2024-01-31 20:00 ┆ 0.0               ┆ null                     ┆ 1   │\n",
      "│ 2024-01-31 21:00 ┆ 0.0               ┆ null                     ┆ 1   │\n",
      "│ 2024-01-31 22:00 ┆ 0.0               ┆ null                     ┆ 1   │\n",
      "│ 2024-01-31 23:00 ┆ 0.0               ┆ null                     ┆ 1   │\n",
      "└──────────────────┴───────────────────┴──────────────────────────┴─────┘\n",
      "shape: (4, 2)\n",
      "┌──────────────────┬───────┐\n",
      "│ date             ┆ count │\n",
      "│ ---              ┆ ---   │\n",
      "│ str              ┆ u32   │\n",
      "╞══════════════════╪═══════╡\n",
      "│ 2019-10-27 02:00 ┆ 2     │\n",
      "│ 2020-10-25 02:00 ┆ 2     │\n",
      "│ 2021-10-31 02:00 ┆ 2     │\n",
      "│ 2022-10-30 02:00 ┆ 2     │\n",
      "└──────────────────┴───────┘\n"
     ]
    }
   ],
   "source": [
    "wind_solar_forecast_it = (\n",
    "    pl.read_csv(\"./Raw Data/wind_solar_forecast_IT.csv\")\n",
    "    .with_columns(pl.col(\"date\").str.to_datetime())\n",
    "    .with_columns(pl.col(\"date\").dt.convert_time_zone(\"Europe/Zurich\").dt.truncate(\"1h\"))\n",
    "    .group_by(\"date\")\n",
    "    .agg(\n",
    "        pl.mean(\"solar_forecast\"),\n",
    "        pl.mean(\"wind_onshore_forecast\"),\n",
    "    )\n",
    "    .with_columns((pl.col(\"date\").dt.dst_offset() == 0).cast(pl.Int16).alias(\"dst\"))\n",
    "    .with_columns(pl.col(\"date\").dt.strftime(\"%Y-%m-%d %H:%M\"))\n",
    "    .unique(subset=[\"date\", \"dst\"])\n",
    "    .sort(\"date\")\n",
    "    .rename(\n",
    "        {\n",
    "            \"solar_forecast\": \"solar_forecast_it\",\n",
    "            \"wind_onshore_forecast\": \"wind_onshore_forecast_it\",\n",
    "        }\n",
    "    )\n",
    ")\n",
    "\n",
    "wind_solar_forecast_it.pipe(print)\n",
    "wind_solar_forecast_it[\"date\"].value_counts().filter(pl.col(\"count\") != 1).sort(\"date\").pipe(print)"
   ]
  },
  {
   "cell_type": "markdown",
   "metadata": {},
   "source": [
    "### Generation Actuals (All Types)"
   ]
  },
  {
   "cell_type": "markdown",
   "metadata": {},
   "source": [
    "#### Austria"
   ]
  },
  {
   "cell_type": "code",
   "execution_count": 262,
   "metadata": {},
   "outputs": [
    {
     "data": {
      "text/html": [
       "<div><style>\n",
       ".dataframe > thead > tr,\n",
       ".dataframe > tbody > tr {\n",
       "  text-align: right;\n",
       "  white-space: pre-wrap;\n",
       "}\n",
       "</style>\n",
       "<small>shape: (3, 27)</small><table border=\"1\" class=\"dataframe\"><thead><tr><th>column_1</th><th>column_2</th><th>column_3</th><th>column_4</th><th>column_5</th><th>column_6</th><th>column_7</th><th>column_8</th><th>column_9</th><th>column_10</th><th>column_11</th><th>column_12</th><th>column_13</th><th>column_14</th><th>column_15</th><th>column_16</th><th>column_17</th><th>column_18</th><th>column_19</th><th>column_20</th><th>column_21</th><th>column_22</th><th>column_23</th><th>column_24</th><th>column_25</th><th>column_26</th><th>column_27</th></tr><tr><td>str</td><td>str</td><td>str</td><td>str</td><td>str</td><td>str</td><td>str</td><td>str</td><td>str</td><td>str</td><td>str</td><td>str</td><td>str</td><td>str</td><td>str</td><td>str</td><td>str</td><td>str</td><td>str</td><td>str</td><td>str</td><td>str</td><td>str</td><td>str</td><td>str</td><td>str</td><td>str</td></tr></thead><tbody><tr><td>&quot;date&quot;</td><td>&quot;Biomass&quot;</td><td>&quot;Biomass&quot;</td><td>&quot;Fossil Gas&quot;</td><td>&quot;Fossil Gas&quot;</td><td>&quot;Fossil Hard co…</td><td>&quot;Fossil Hard co…</td><td>&quot;Fossil Oil&quot;</td><td>&quot;Fossil Oil&quot;</td><td>&quot;Geothermal&quot;</td><td>&quot;Geothermal&quot;</td><td>&quot;Hydro Pumped S…</td><td>&quot;Hydro Pumped S…</td><td>&quot;Hydro Run-of-r…</td><td>&quot;Hydro Run-of-r…</td><td>&quot;Hydro Water Re…</td><td>&quot;Hydro Water Re…</td><td>&quot;Other&quot;</td><td>&quot;Other&quot;</td><td>&quot;Other renewabl…</td><td>&quot;Other renewabl…</td><td>&quot;Solar&quot;</td><td>&quot;Solar&quot;</td><td>&quot;Waste&quot;</td><td>&quot;Waste&quot;</td><td>&quot;Wind Onshore&quot;</td><td>&quot;Wind Onshore&quot;</td></tr><tr><td>null</td><td>&quot;Actual Aggrega…</td><td>&quot;Actual Consump…</td><td>&quot;Actual Aggrega…</td><td>&quot;Actual Consump…</td><td>&quot;Actual Aggrega…</td><td>&quot;Actual Consump…</td><td>&quot;Actual Aggrega…</td><td>&quot;Actual Consump…</td><td>&quot;Actual Aggrega…</td><td>&quot;Actual Consump…</td><td>&quot;Actual Aggrega…</td><td>&quot;Actual Consump…</td><td>&quot;Actual Aggrega…</td><td>&quot;Actual Consump…</td><td>&quot;Actual Aggrega…</td><td>&quot;Actual Consump…</td><td>&quot;Actual Aggrega…</td><td>&quot;Actual Consump…</td><td>&quot;Actual Aggrega…</td><td>&quot;Actual Consump…</td><td>&quot;Actual Aggrega…</td><td>&quot;Actual Consump…</td><td>&quot;Actual Aggrega…</td><td>&quot;Actual Consump…</td><td>&quot;Actual Aggrega…</td><td>&quot;Actual Consump…</td></tr><tr><td>&quot;2019-01-01 00:…</td><td>&quot;304.0&quot;</td><td>&quot;0.0&quot;</td><td>&quot;1339.0&quot;</td><td>&quot;0.0&quot;</td><td>&quot;154.0&quot;</td><td>&quot;0.0&quot;</td><td>&quot;0.0&quot;</td><td>&quot;0.0&quot;</td><td>&quot;0.0&quot;</td><td>&quot;0.0&quot;</td><td>&quot;0.0&quot;</td><td>&quot;1577.0&quot;</td><td>&quot;2699.0&quot;</td><td>&quot;0.0&quot;</td><td>&quot;140.0&quot;</td><td>&quot;0.0&quot;</td><td>&quot;22.0&quot;</td><td>&quot;0.0&quot;</td><td>&quot;0.0&quot;</td><td>&quot;0.0&quot;</td><td>&quot;0.0&quot;</td><td>&quot;0.0&quot;</td><td>&quot;100.0&quot;</td><td>&quot;0.0&quot;</td><td>&quot;288.0&quot;</td><td>&quot;0.0&quot;</td></tr></tbody></table></div>"
      ],
      "text/plain": [
       "shape: (3, 27)\n",
       "┌───────────┬───────────┬───────────┬───────────┬───┬───────────┬───────────┬───────────┬──────────┐\n",
       "│ column_1  ┆ column_2  ┆ column_3  ┆ column_4  ┆ … ┆ column_24 ┆ column_25 ┆ column_26 ┆ column_2 │\n",
       "│ ---       ┆ ---       ┆ ---       ┆ ---       ┆   ┆ ---       ┆ ---       ┆ ---       ┆ 7        │\n",
       "│ str       ┆ str       ┆ str       ┆ str       ┆   ┆ str       ┆ str       ┆ str       ┆ ---      │\n",
       "│           ┆           ┆           ┆           ┆   ┆           ┆           ┆           ┆ str      │\n",
       "╞═══════════╪═══════════╪═══════════╪═══════════╪═══╪═══════════╪═══════════╪═══════════╪══════════╡\n",
       "│ date      ┆ Biomass   ┆ Biomass   ┆ Fossil    ┆ … ┆ Waste     ┆ Waste     ┆ Wind      ┆ Wind     │\n",
       "│           ┆           ┆           ┆ Gas       ┆   ┆           ┆           ┆ Onshore   ┆ Onshore  │\n",
       "│ null      ┆ Actual    ┆ Actual    ┆ Actual    ┆ … ┆ Actual    ┆ Actual    ┆ Actual    ┆ Actual   │\n",
       "│           ┆ Aggregate ┆ Consumpti ┆ Aggregate ┆   ┆ Aggregate ┆ Consumpti ┆ Aggregate ┆ Consumpt │\n",
       "│           ┆ d         ┆ on        ┆ d         ┆   ┆ d         ┆ on        ┆ d         ┆ ion      │\n",
       "│ 2019-01-0 ┆ 304.0     ┆ 0.0       ┆ 1339.0    ┆ … ┆ 100.0     ┆ 0.0       ┆ 288.0     ┆ 0.0      │\n",
       "│ 1 00:00:0 ┆           ┆           ┆           ┆   ┆           ┆           ┆           ┆          │\n",
       "│ 0+01:00   ┆           ┆           ┆           ┆   ┆           ┆           ┆           ┆          │\n",
       "└───────────┴───────────┴───────────┴───────────┴───┴───────────┴───────────┴───────────┴──────────┘"
      ]
     },
     "execution_count": 262,
     "metadata": {},
     "output_type": "execute_result"
    }
   ],
   "source": [
    "generation_at = pl.read_csv(\"./Raw Data/generation_actual_all_AT.csv\", has_header=False)\n",
    "generation_at.head(3)"
   ]
  },
  {
   "cell_type": "code",
   "execution_count": 263,
   "metadata": {},
   "outputs": [
    {
     "data": {
      "text/plain": [
       "['date',\n",
       " 'biomass_actual_aggregated_at',\n",
       " 'biomass_actual_consumption_at',\n",
       " 'fossil_gas_actual_aggregated_at',\n",
       " 'fossil_gas_actual_consumption_at',\n",
       " 'fossil_hard_coal_actual_aggregated_at',\n",
       " 'fossil_hard_coal_actual_consumption_at',\n",
       " 'fossil_oil_actual_aggregated_at',\n",
       " 'fossil_oil_actual_consumption_at',\n",
       " 'geothermal_actual_aggregated_at',\n",
       " 'geothermal_actual_consumption_at',\n",
       " 'hydro_pumped_storage_actual_aggregated_at',\n",
       " 'hydro_pumped_storage_actual_consumption_at',\n",
       " 'hydro_run-of-river_and_poundage_actual_aggregated_at',\n",
       " 'hydro_run-of-river_and_poundage_actual_consumption_at',\n",
       " 'hydro_water_reservoir_actual_aggregated_at',\n",
       " 'hydro_water_reservoir_actual_consumption_at',\n",
       " 'other_actual_aggregated_at',\n",
       " 'other_actual_consumption_at',\n",
       " 'other_renewable_actual_aggregated_at',\n",
       " 'other_renewable_actual_consumption_at',\n",
       " 'solar_actual_aggregated_at',\n",
       " 'solar_actual_consumption_at',\n",
       " 'waste_actual_aggregated_at',\n",
       " 'waste_actual_consumption_at',\n",
       " 'wind_onshore_actual_aggregated_at',\n",
       " 'wind_onshore_actual_consumption_at']"
      ]
     },
     "execution_count": 263,
     "metadata": {},
     "output_type": "execute_result"
    }
   ],
   "source": [
    "column_names = (\n",
    "    generation_at.head(2)\n",
    "    .transpose()\n",
    "    .with_columns(pl.col(\"column_1\").fill_null(value=\"\"))\n",
    "    .with_columns(\n",
    "        pl.concat_str([pl.col(\"column_0\"), pl.col(\"column_1\")], separator=\" \")\n",
    "        .str.strip_chars()\n",
    "        .alias(\"header\")\n",
    "    )\n",
    "    .with_columns(pl.concat_str([\"header\", pl.lit(\"AT\")], separator=\" \").str.to_lowercase().str.replace_all(\" \", \"_\"))\n",
    "    [\"header\"]\n",
    "    .to_list()\n",
    ")\n",
    "\n",
    "column_names[0] = \"date\"\n",
    "\n",
    "column_names"
   ]
  },
  {
   "cell_type": "code",
   "execution_count": 264,
   "metadata": {},
   "outputs": [],
   "source": [
    "generation_at = (\n",
    "    generation_at.tail(-2)\n",
    "    .rename(dict(zip(generation_at.columns, column_names)))\n",
    "    .with_columns(pl.col(\"date\").str.to_datetime())\n",
    "    .with_columns(\n",
    "        pl.col(\"date\").dt.convert_time_zone(\"Europe/Zurich\").dt.truncate(\"1h\")\n",
    "    )\n",
    "    .with_columns(cs.string().cast(pl.Float64))\n",
    "    .group_by(\"date\")\n",
    "    .agg(pl.all().mean())\n",
    "    .with_columns((pl.col(\"date\").dt.dst_offset() == 0).cast(pl.Int16).alias(\"dst\"))\n",
    "    .with_columns(pl.col(\"date\").dt.strftime(\"%Y-%m-%d %H:%M\"))\n",
    "    .unique(subset=[\"date\", \"dst\"])\n",
    "    .sort(\"date\")\n",
    ")"
   ]
  },
  {
   "cell_type": "code",
   "execution_count": 265,
   "metadata": {},
   "outputs": [
    {
     "name": "stdout",
     "output_type": "stream",
     "text": [
      "shape: (44_568, 28)\n",
      "┌────────────┬────────────┬────────────┬────────────┬───┬────────────┬───────────┬───────────┬─────┐\n",
      "│ date       ┆ biomass_ac ┆ biomass_ac ┆ fossil_gas ┆ … ┆ waste_actu ┆ wind_onsh ┆ wind_onsh ┆ dst │\n",
      "│ ---        ┆ tual_aggre ┆ tual_consu ┆ _actual_ag ┆   ┆ al_consump ┆ ore_actua ┆ ore_actua ┆ --- │\n",
      "│ str        ┆ gated_at   ┆ mption_at  ┆ gregated_a ┆   ┆ tion_at    ┆ l_aggrega ┆ l_consump ┆ i16 │\n",
      "│            ┆ ---        ┆ ---        ┆ t          ┆   ┆ ---        ┆ ted_a…    ┆ tion_…    ┆     │\n",
      "│            ┆ f64        ┆ f64        ┆ ---        ┆   ┆ f64        ┆ ---       ┆ ---       ┆     │\n",
      "│            ┆            ┆            ┆ f64        ┆   ┆            ┆ f64       ┆ f64       ┆     │\n",
      "╞════════════╪════════════╪════════════╪════════════╪═══╪════════════╪═══════════╪═══════════╪═════╡\n",
      "│ 2019-01-01 ┆ 304.0      ┆ 0.0        ┆ 1282.75    ┆ … ┆ 0.0        ┆ 248.0     ┆ 0.0       ┆ 1   │\n",
      "│ 00:00      ┆            ┆            ┆            ┆   ┆            ┆           ┆           ┆     │\n",
      "│ 2019-01-01 ┆ 304.0      ┆ 0.0        ┆ 945.75     ┆ … ┆ 0.0        ┆ 189.0     ┆ 0.0       ┆ 1   │\n",
      "│ 01:00      ┆            ┆            ┆            ┆   ┆            ┆           ┆           ┆     │\n",
      "│ 2019-01-01 ┆ 304.0      ┆ 0.0        ┆ 618.75     ┆ … ┆ 0.0        ┆ 142.0     ┆ 0.0       ┆ 1   │\n",
      "│ 02:00      ┆            ┆            ┆            ┆   ┆            ┆           ┆           ┆     │\n",
      "│ 2019-01-01 ┆ 304.0      ┆ 0.0        ┆ 575.5      ┆ … ┆ 0.0        ┆ 118.0     ┆ 0.0       ┆ 1   │\n",
      "│ 03:00      ┆            ┆            ┆            ┆   ┆            ┆           ┆           ┆     │\n",
      "│ 2019-01-01 ┆ 304.0      ┆ 0.0        ┆ 449.5      ┆ … ┆ 0.0        ┆ 165.0     ┆ 0.0       ┆ 1   │\n",
      "│ 04:00      ┆            ┆            ┆            ┆   ┆            ┆           ┆           ┆     │\n",
      "│ …          ┆ …          ┆ …          ┆ …          ┆ … ┆ …          ┆ …         ┆ …         ┆ …   │\n",
      "│ 2024-01-31 ┆ 192.0      ┆ 0.0        ┆ 2511.25    ┆ … ┆ 0.0        ┆ 34.0      ┆ 0.0       ┆ 1   │\n",
      "│ 19:00      ┆            ┆            ┆            ┆   ┆            ┆           ┆           ┆     │\n",
      "│ 2024-01-31 ┆ 192.0      ┆ 0.0        ┆ 2518.0     ┆ … ┆ 0.0        ┆ 38.0      ┆ 0.0       ┆ 1   │\n",
      "│ 20:00      ┆            ┆            ┆            ┆   ┆            ┆           ┆           ┆     │\n",
      "│ 2024-01-31 ┆ 190.0      ┆ 0.0        ┆ 2187.0     ┆ … ┆ 0.0        ┆ 61.0      ┆ 0.0       ┆ 1   │\n",
      "│ 21:00      ┆            ┆            ┆            ┆   ┆            ┆           ┆           ┆     │\n",
      "│ 2024-01-31 ┆ 192.0      ┆ 0.0        ┆ 1832.75    ┆ … ┆ 0.0        ┆ 111.0     ┆ 0.0       ┆ 1   │\n",
      "│ 22:00      ┆            ┆            ┆            ┆   ┆            ┆           ┆           ┆     │\n",
      "│ 2024-01-31 ┆ 192.0      ┆ 0.0        ┆ 1575.5     ┆ … ┆ 0.0        ┆ 147.0     ┆ 0.0       ┆ 1   │\n",
      "│ 23:00      ┆            ┆            ┆            ┆   ┆            ┆           ┆           ┆     │\n",
      "└────────────┴────────────┴────────────┴────────────┴───┴────────────┴───────────┴───────────┴─────┘\n",
      "shape: (5, 2)\n",
      "┌──────────────────┬───────┐\n",
      "│ date             ┆ count │\n",
      "│ ---              ┆ ---   │\n",
      "│ str              ┆ u32   │\n",
      "╞══════════════════╪═══════╡\n",
      "│ 2019-10-27 02:00 ┆ 2     │\n",
      "│ 2020-10-25 02:00 ┆ 2     │\n",
      "│ 2021-10-31 02:00 ┆ 2     │\n",
      "│ 2022-10-30 02:00 ┆ 2     │\n",
      "│ 2023-10-29 02:00 ┆ 2     │\n",
      "└──────────────────┴───────┘\n"
     ]
    }
   ],
   "source": [
    "generation_at.pipe(print)\n",
    "generation_at[\"date\"].value_counts().filter(pl.col(\"count\") != 1).sort(\"date\").pipe(print)"
   ]
  },
  {
   "cell_type": "markdown",
   "metadata": {},
   "source": [
    "#### Switzerland"
   ]
  },
  {
   "cell_type": "code",
   "execution_count": 266,
   "metadata": {},
   "outputs": [
    {
     "data": {
      "text/html": [
       "<div><style>\n",
       ".dataframe > thead > tr,\n",
       ".dataframe > tbody > tr {\n",
       "  text-align: right;\n",
       "  white-space: pre-wrap;\n",
       "}\n",
       "</style>\n",
       "<small>shape: (3, 7)</small><table border=\"1\" class=\"dataframe\"><thead><tr><th>column_1</th><th>column_2</th><th>column_3</th><th>column_4</th><th>column_5</th><th>column_6</th><th>column_7</th></tr><tr><td>str</td><td>str</td><td>str</td><td>str</td><td>str</td><td>str</td><td>str</td></tr></thead><tbody><tr><td>&quot;date&quot;</td><td>&quot;Hydro Pumped S…</td><td>&quot;Hydro Run-of-r…</td><td>&quot;Hydro Water Re…</td><td>&quot;Nuclear&quot;</td><td>&quot;Solar&quot;</td><td>&quot;Wind Onshore&quot;</td></tr><tr><td>&quot;2019-01-01 00:…</td><td>&quot;81.0&quot;</td><td>&quot;123.0&quot;</td><td>&quot;481.0&quot;</td><td>&quot;3243.0&quot;</td><td>&quot;0.0&quot;</td><td>&quot;1.0&quot;</td></tr><tr><td>&quot;2019-01-01 01:…</td><td>&quot;76.0&quot;</td><td>&quot;124.0&quot;</td><td>&quot;393.0&quot;</td><td>&quot;3243.0&quot;</td><td>&quot;0.0&quot;</td><td>&quot;0.0&quot;</td></tr></tbody></table></div>"
      ],
      "text/plain": [
       "shape: (3, 7)\n",
       "┌───────────────┬───────────────┬──────────────┬──────────────┬──────────┬──────────┬──────────────┐\n",
       "│ column_1      ┆ column_2      ┆ column_3     ┆ column_4     ┆ column_5 ┆ column_6 ┆ column_7     │\n",
       "│ ---           ┆ ---           ┆ ---          ┆ ---          ┆ ---      ┆ ---      ┆ ---          │\n",
       "│ str           ┆ str           ┆ str          ┆ str          ┆ str      ┆ str      ┆ str          │\n",
       "╞═══════════════╪═══════════════╪══════════════╪══════════════╪══════════╪══════════╪══════════════╡\n",
       "│ date          ┆ Hydro Pumped  ┆ Hydro        ┆ Hydro Water  ┆ Nuclear  ┆ Solar    ┆ Wind Onshore │\n",
       "│               ┆ Storage       ┆ Run-of-river ┆ Reservoir    ┆          ┆          ┆              │\n",
       "│               ┆               ┆ and poundage ┆              ┆          ┆          ┆              │\n",
       "│ 2019-01-01    ┆ 81.0          ┆ 123.0        ┆ 481.0        ┆ 3243.0   ┆ 0.0      ┆ 1.0          │\n",
       "│ 00:00:00+01:0 ┆               ┆              ┆              ┆          ┆          ┆              │\n",
       "│ 0             ┆               ┆              ┆              ┆          ┆          ┆              │\n",
       "│ 2019-01-01    ┆ 76.0          ┆ 124.0        ┆ 393.0        ┆ 3243.0   ┆ 0.0      ┆ 0.0          │\n",
       "│ 01:00:00+01:0 ┆               ┆              ┆              ┆          ┆          ┆              │\n",
       "│ 0             ┆               ┆              ┆              ┆          ┆          ┆              │\n",
       "└───────────────┴───────────────┴──────────────┴──────────────┴──────────┴──────────┴──────────────┘"
      ]
     },
     "execution_count": 266,
     "metadata": {},
     "output_type": "execute_result"
    }
   ],
   "source": [
    "generation_ch = pl.read_csv(\"./Raw Data/generation_actual_all_CH.csv\", has_header=False)\n",
    "generation_ch.head(3)"
   ]
  },
  {
   "cell_type": "code",
   "execution_count": 267,
   "metadata": {},
   "outputs": [
    {
     "data": {
      "text/plain": [
       "['date',\n",
       " 'hydro_pumped_storage_ch',\n",
       " 'hydro_run-of-river_and_poundage_ch',\n",
       " 'hydro_water_reservoir_ch',\n",
       " 'nuclear_ch',\n",
       " 'solar_ch',\n",
       " 'wind_onshore_ch']"
      ]
     },
     "execution_count": 267,
     "metadata": {},
     "output_type": "execute_result"
    }
   ],
   "source": [
    "column_names = (\n",
    "    generation_ch.head(1)\n",
    "    .transpose()\n",
    "    .with_columns(pl.col(\"column_0\").str.strip_chars())\n",
    "    .with_columns(pl.col(\"column_0\").str.to_lowercase().str.replace_all(\" \", \"_\"))\n",
    "    .with_columns(pl.concat_str([pl.col(\"column_0\"), pl.lit(\"_ch\")], separator=\"\"))[\n",
    "        \"column_0\"\n",
    "    ]\n",
    "    .to_list()\n",
    ")\n",
    "\n",
    "column_names[0] = \"date\"\n",
    "\n",
    "column_names"
   ]
  },
  {
   "cell_type": "code",
   "execution_count": 268,
   "metadata": {},
   "outputs": [],
   "source": [
    "generation_ch = (\n",
    "    generation_ch.tail(-1)\n",
    "    .rename(dict(zip(generation_ch.columns, column_names)))\n",
    "    .with_columns(pl.col(\"date\").str.to_datetime())\n",
    "    .with_columns(\n",
    "        pl.col(\"date\").dt.convert_time_zone(\"Europe/Zurich\").dt.truncate(\"1h\")\n",
    "    )\n",
    "    .with_columns(cs.string().cast(pl.Float64))\n",
    "    .with_columns((pl.col(\"date\").dt.dst_offset() == 0).cast(pl.Int16).alias(\"dst\"))\n",
    "    .with_columns(pl.col(\"date\").dt.strftime(\"%Y-%m-%d %H:%M\"))\n",
    "    .unique(subset=[\"date\", \"dst\"])\n",
    "    .sort(\"date\")\n",
    ")"
   ]
  },
  {
   "cell_type": "code",
   "execution_count": 269,
   "metadata": {},
   "outputs": [
    {
     "name": "stdout",
     "output_type": "stream",
     "text": [
      "shape: (44_563, 8)\n",
      "┌─────────────┬─────────────┬─────────────┬─────────────┬────────────┬──────────┬────────────┬─────┐\n",
      "│ date        ┆ hydro_pumpe ┆ hydro_run-o ┆ hydro_water ┆ nuclear_ch ┆ solar_ch ┆ wind_onsho ┆ dst │\n",
      "│ ---         ┆ d_storage_c ┆ f-river_and ┆ _reservoir_ ┆ ---        ┆ ---      ┆ re_ch      ┆ --- │\n",
      "│ str         ┆ h           ┆ _poundage_… ┆ ch          ┆ f64        ┆ f64      ┆ ---        ┆ i16 │\n",
      "│             ┆ ---         ┆ ---         ┆ ---         ┆            ┆          ┆ f64        ┆     │\n",
      "│             ┆ f64         ┆ f64         ┆ f64         ┆            ┆          ┆            ┆     │\n",
      "╞═════════════╪═════════════╪═════════════╪═════════════╪════════════╪══════════╪════════════╪═════╡\n",
      "│ 2019-01-01  ┆ 81.0        ┆ 123.0       ┆ 481.0       ┆ 3243.0     ┆ 0.0      ┆ 1.0        ┆ 1   │\n",
      "│ 00:00       ┆             ┆             ┆             ┆            ┆          ┆            ┆     │\n",
      "│ 2019-01-01  ┆ 76.0        ┆ 124.0       ┆ 393.0       ┆ 3243.0     ┆ 0.0      ┆ 0.0        ┆ 1   │\n",
      "│ 01:00       ┆             ┆             ┆             ┆            ┆          ┆            ┆     │\n",
      "│ 2019-01-01  ┆ 31.0        ┆ 126.0       ┆ 345.0       ┆ 3245.0     ┆ 0.0      ┆ 0.0        ┆ 1   │\n",
      "│ 02:00       ┆             ┆             ┆             ┆            ┆          ┆            ┆     │\n",
      "│ 2019-01-01  ┆ 18.0        ┆ 135.0       ┆ 312.0       ┆ 3245.0     ┆ 0.0      ┆ 1.0        ┆ 1   │\n",
      "│ 03:00       ┆             ┆             ┆             ┆            ┆          ┆            ┆     │\n",
      "│ 2019-01-01  ┆ 13.0        ┆ 135.0       ┆ 339.0       ┆ 3245.0     ┆ 0.0      ┆ 2.0        ┆ 1   │\n",
      "│ 04:00       ┆             ┆             ┆             ┆            ┆          ┆            ┆     │\n",
      "│ …           ┆ …           ┆ …           ┆ …           ┆ …          ┆ …        ┆ …          ┆ …   │\n",
      "│ 2024-01-31  ┆ 2306.0      ┆ 200.0       ┆ 2893.0      ┆ 3015.0     ┆ 0.0      ┆ 10.0       ┆ 1   │\n",
      "│ 19:00       ┆             ┆             ┆             ┆            ┆          ┆            ┆     │\n",
      "│ 2024-01-31  ┆ 1654.0      ┆ 151.0       ┆ 2522.0      ┆ 3016.0     ┆ 0.0      ┆ 12.0       ┆ 1   │\n",
      "│ 20:00       ┆             ┆             ┆             ┆            ┆          ┆            ┆     │\n",
      "│ 2024-01-31  ┆ 1115.0      ┆ 145.0       ┆ 1559.0      ┆ 3018.0     ┆ 0.0      ┆ 14.0       ┆ 1   │\n",
      "│ 21:00       ┆             ┆             ┆             ┆            ┆          ┆            ┆     │\n",
      "│ 2024-01-31  ┆ 658.0       ┆ 132.0       ┆ 1339.0      ┆ 3018.0     ┆ 0.0      ┆ 20.0       ┆ 1   │\n",
      "│ 22:00       ┆             ┆             ┆             ┆            ┆          ┆            ┆     │\n",
      "│ 2024-01-31  ┆ 283.0       ┆ 135.0       ┆ 634.0       ┆ 3021.0     ┆ 0.0      ┆ 17.0       ┆ 1   │\n",
      "│ 23:00       ┆             ┆             ┆             ┆            ┆          ┆            ┆     │\n",
      "└─────────────┴─────────────┴─────────────┴─────────────┴────────────┴──────────┴────────────┴─────┘\n",
      "shape: (5, 2)\n",
      "┌──────────────────┬───────┐\n",
      "│ date             ┆ count │\n",
      "│ ---              ┆ ---   │\n",
      "│ str              ┆ u32   │\n",
      "╞══════════════════╪═══════╡\n",
      "│ 2019-10-27 02:00 ┆ 2     │\n",
      "│ 2020-10-25 02:00 ┆ 2     │\n",
      "│ 2021-10-31 02:00 ┆ 2     │\n",
      "│ 2022-10-30 02:00 ┆ 2     │\n",
      "│ 2023-10-29 02:00 ┆ 2     │\n",
      "└──────────────────┴───────┘\n"
     ]
    }
   ],
   "source": [
    "generation_ch.pipe(print)\n",
    "generation_ch[\"date\"].value_counts().filter(pl.col(\"count\") != 1).sort(\"date\").pipe(print)"
   ]
  },
  {
   "cell_type": "markdown",
   "metadata": {},
   "source": [
    "#### Germany"
   ]
  },
  {
   "cell_type": "code",
   "execution_count": 270,
   "metadata": {},
   "outputs": [
    {
     "data": {
      "text/html": [
       "<div><style>\n",
       ".dataframe > thead > tr,\n",
       ".dataframe > tbody > tr {\n",
       "  text-align: right;\n",
       "  white-space: pre-wrap;\n",
       "}\n",
       "</style>\n",
       "<small>shape: (3, 26)</small><table border=\"1\" class=\"dataframe\"><thead><tr><th>column_1</th><th>column_2</th><th>column_3</th><th>column_4</th><th>column_5</th><th>column_6</th><th>column_7</th><th>column_8</th><th>column_9</th><th>column_10</th><th>column_11</th><th>column_12</th><th>column_13</th><th>column_14</th><th>column_15</th><th>column_16</th><th>column_17</th><th>column_18</th><th>column_19</th><th>column_20</th><th>column_21</th><th>column_22</th><th>column_23</th><th>column_24</th><th>column_25</th><th>column_26</th></tr><tr><td>str</td><td>str</td><td>str</td><td>str</td><td>str</td><td>str</td><td>str</td><td>str</td><td>str</td><td>str</td><td>str</td><td>str</td><td>str</td><td>str</td><td>str</td><td>str</td><td>str</td><td>str</td><td>str</td><td>str</td><td>str</td><td>str</td><td>str</td><td>str</td><td>str</td><td>str</td></tr></thead><tbody><tr><td>&quot;date&quot;</td><td>&quot;Biomass&quot;</td><td>&quot;Fossil Brown c…</td><td>&quot;Fossil Coal-de…</td><td>&quot;Fossil Gas&quot;</td><td>&quot;Fossil Gas&quot;</td><td>&quot;Fossil Hard co…</td><td>&quot;Fossil Oil&quot;</td><td>&quot;Fossil Oil&quot;</td><td>&quot;Geothermal&quot;</td><td>&quot;Hydro Pumped S…</td><td>&quot;Hydro Pumped S…</td><td>&quot;Hydro Run-of-r…</td><td>&quot;Hydro Water Re…</td><td>&quot;Hydro Water Re…</td><td>&quot;Nuclear&quot;</td><td>&quot;Nuclear&quot;</td><td>&quot;Other&quot;</td><td>&quot;Other renewabl…</td><td>&quot;Other renewabl…</td><td>&quot;Solar&quot;</td><td>&quot;Solar&quot;</td><td>&quot;Waste&quot;</td><td>&quot;Wind Offshore&quot;</td><td>&quot;Wind Onshore&quot;</td><td>&quot;Wind Onshore&quot;</td></tr><tr><td>null</td><td>&quot;Actual Aggrega…</td><td>&quot;Actual Aggrega…</td><td>&quot;Actual Aggrega…</td><td>&quot;Actual Aggrega…</td><td>&quot;Actual Consump…</td><td>&quot;Actual Aggrega…</td><td>&quot;Actual Aggrega…</td><td>&quot;Actual Consump…</td><td>&quot;Actual Aggrega…</td><td>&quot;Actual Aggrega…</td><td>&quot;Actual Consump…</td><td>&quot;Actual Aggrega…</td><td>&quot;Actual Aggrega…</td><td>&quot;Actual Consump…</td><td>&quot;Actual Aggrega…</td><td>&quot;Actual Consump…</td><td>&quot;Actual Aggrega…</td><td>&quot;Actual Aggrega…</td><td>&quot;Actual Consump…</td><td>&quot;Actual Aggrega…</td><td>&quot;Actual Consump…</td><td>&quot;Actual Aggrega…</td><td>&quot;Actual Aggrega…</td><td>&quot;Actual Aggrega…</td><td>&quot;Actual Consump…</td></tr><tr><td>&quot;2019-01-01 00:…</td><td>&quot;4812.0&quot;</td><td>&quot;6932.0&quot;</td><td>&quot;273.0&quot;</td><td>&quot;3410.0&quot;</td><td>&quot;1.0&quot;</td><td>&quot;3345.0&quot;</td><td>&quot;482.0&quot;</td><td>null</td><td>&quot;19.0&quot;</td><td>&quot;350.0&quot;</td><td>&quot;1827.0&quot;</td><td>&quot;1485.0&quot;</td><td>&quot;132.0&quot;</td><td>null</td><td>&quot;9002.0&quot;</td><td>null</td><td>&quot;475.0&quot;</td><td>&quot;107.0&quot;</td><td>null</td><td>&quot;0.0&quot;</td><td>null</td><td>&quot;783.0&quot;</td><td>&quot;3177.0&quot;</td><td>&quot;19366.0&quot;</td><td>null</td></tr></tbody></table></div>"
      ],
      "text/plain": [
       "shape: (3, 26)\n",
       "┌───────────┬───────────┬───────────┬───────────┬───┬───────────┬───────────┬───────────┬──────────┐\n",
       "│ column_1  ┆ column_2  ┆ column_3  ┆ column_4  ┆ … ┆ column_23 ┆ column_24 ┆ column_25 ┆ column_2 │\n",
       "│ ---       ┆ ---       ┆ ---       ┆ ---       ┆   ┆ ---       ┆ ---       ┆ ---       ┆ 6        │\n",
       "│ str       ┆ str       ┆ str       ┆ str       ┆   ┆ str       ┆ str       ┆ str       ┆ ---      │\n",
       "│           ┆           ┆           ┆           ┆   ┆           ┆           ┆           ┆ str      │\n",
       "╞═══════════╪═══════════╪═══════════╪═══════════╪═══╪═══════════╪═══════════╪═══════════╪══════════╡\n",
       "│ date      ┆ Biomass   ┆ Fossil    ┆ Fossil    ┆ … ┆ Waste     ┆ Wind      ┆ Wind      ┆ Wind     │\n",
       "│           ┆           ┆ Brown coa ┆ Coal-deri ┆   ┆           ┆ Offshore  ┆ Onshore   ┆ Onshore  │\n",
       "│           ┆           ┆ l/Lignite ┆ ved gas   ┆   ┆           ┆           ┆           ┆          │\n",
       "│ null      ┆ Actual    ┆ Actual    ┆ Actual    ┆ … ┆ Actual    ┆ Actual    ┆ Actual    ┆ Actual   │\n",
       "│           ┆ Aggregate ┆ Aggregate ┆ Aggregate ┆   ┆ Aggregate ┆ Aggregate ┆ Aggregate ┆ Consumpt │\n",
       "│           ┆ d         ┆ d         ┆ d         ┆   ┆ d         ┆ d         ┆ d         ┆ ion      │\n",
       "│ 2019-01-0 ┆ 4812.0    ┆ 6932.0    ┆ 273.0     ┆ … ┆ 783.0     ┆ 3177.0    ┆ 19366.0   ┆ null     │\n",
       "│ 1 00:00:0 ┆           ┆           ┆           ┆   ┆           ┆           ┆           ┆          │\n",
       "│ 0+01:00   ┆           ┆           ┆           ┆   ┆           ┆           ┆           ┆          │\n",
       "└───────────┴───────────┴───────────┴───────────┴───┴───────────┴───────────┴───────────┴──────────┘"
      ]
     },
     "execution_count": 270,
     "metadata": {},
     "output_type": "execute_result"
    }
   ],
   "source": [
    "generation_de = pl.read_csv(\"./Raw Data/generation_actual_all_DE_LU.csv\", has_header=False)\n",
    "generation_de.head(3)"
   ]
  },
  {
   "cell_type": "code",
   "execution_count": 271,
   "metadata": {},
   "outputs": [
    {
     "data": {
      "text/plain": [
       "['date',\n",
       " 'biomass_actual_aggregated_de',\n",
       " 'fossil_brown_coal_lignite_actual_aggregated_de',\n",
       " 'fossil_coal-derived_gas_actual_aggregated_de',\n",
       " 'fossil_gas_actual_aggregated_de',\n",
       " 'fossil_gas_actual_consumption_de',\n",
       " 'fossil_hard_coal_actual_aggregated_de',\n",
       " 'fossil_oil_actual_aggregated_de',\n",
       " 'fossil_oil_actual_consumption_de',\n",
       " 'geothermal_actual_aggregated_de',\n",
       " 'hydro_pumped_storage_actual_aggregated_de',\n",
       " 'hydro_pumped_storage_actual_consumption_de',\n",
       " 'hydro_run-of-river_and_poundage_actual_aggregated_de',\n",
       " 'hydro_water_reservoir_actual_aggregated_de',\n",
       " 'hydro_water_reservoir_actual_consumption_de',\n",
       " 'nuclear_actual_aggregated_de',\n",
       " 'nuclear_actual_consumption_de',\n",
       " 'other_actual_aggregated_de',\n",
       " 'other_renewable_actual_aggregated_de',\n",
       " 'other_renewable_actual_consumption_de',\n",
       " 'solar_actual_aggregated_de',\n",
       " 'solar_actual_consumption_de',\n",
       " 'waste_actual_aggregated_de',\n",
       " 'wind_offshore_actual_aggregated_de',\n",
       " 'wind_onshore_actual_aggregated_de',\n",
       " 'wind_onshore_actual_consumption_de']"
      ]
     },
     "execution_count": 271,
     "metadata": {},
     "output_type": "execute_result"
    }
   ],
   "source": [
    "column_names = (\n",
    "    generation_de.head(2)\n",
    "    .transpose()\n",
    "    .with_columns(pl.col(\"column_1\").fill_null(value=\"\"))\n",
    "    .with_columns(\n",
    "        pl.concat_str([pl.col(\"column_0\"), pl.col(\"column_1\")], separator=\" \")\n",
    "        .str.strip_chars()\n",
    "        .alias(\"header\")\n",
    "    )\n",
    "    .with_columns(pl.concat_str([\"header\", pl.lit(\"DE\")], separator=\" \").str.to_lowercase().str.replace_all(\" \", \"_\").str.replace_all(\"/\", \"_\"))\n",
    "    [\"header\"]\n",
    "    .to_list()\n",
    ")\n",
    "\n",
    "column_names[0] = \"date\"\n",
    "\n",
    "column_names"
   ]
  },
  {
   "cell_type": "code",
   "execution_count": 272,
   "metadata": {},
   "outputs": [],
   "source": [
    "generation_de = (\n",
    "    generation_de.tail(-2)\n",
    "    .rename(dict(zip(generation_de.columns, column_names)))\n",
    "    .with_columns(pl.col(\"date\").str.to_datetime())\n",
    "    .with_columns(\n",
    "        pl.col(\"date\").dt.convert_time_zone(\"Europe/Zurich\").dt.truncate(\"1h\")\n",
    "    )\n",
    "    .with_columns(cs.string().cast(pl.Float64))\n",
    "    .group_by(\"date\")\n",
    "    .agg(pl.all().mean())\n",
    "    .with_columns((pl.col(\"date\").dt.dst_offset() == 0).cast(pl.Int16).alias(\"dst\"))\n",
    "    .with_columns(pl.col(\"date\").dt.strftime(\"%Y-%m-%d %H:%M\"))\n",
    "    .unique(subset=[\"date\", \"dst\"])\n",
    "    .sort(\"date\")\n",
    ")"
   ]
  },
  {
   "cell_type": "code",
   "execution_count": 273,
   "metadata": {},
   "outputs": [
    {
     "name": "stdout",
     "output_type": "stream",
     "text": [
      "shape: (44_568, 27)\n",
      "┌────────────┬────────────┬────────────┬────────────┬───┬────────────┬───────────┬───────────┬─────┐\n",
      "│ date       ┆ biomass_ac ┆ fossil_bro ┆ fossil_coa ┆ … ┆ wind_offsh ┆ wind_onsh ┆ wind_onsh ┆ dst │\n",
      "│ ---        ┆ tual_aggre ┆ wn_coal_li ┆ l-derived_ ┆   ┆ ore_actual ┆ ore_actua ┆ ore_actua ┆ --- │\n",
      "│ str        ┆ gated_de   ┆ gnite_actu ┆ gas_actual ┆   ┆ _aggregate ┆ l_aggrega ┆ l_consump ┆ i16 │\n",
      "│            ┆ ---        ┆ al…        ┆ _a…        ┆   ┆ d_…        ┆ ted_d…    ┆ tion_…    ┆     │\n",
      "│            ┆ f64        ┆ ---        ┆ ---        ┆   ┆ ---        ┆ ---       ┆ ---       ┆     │\n",
      "│            ┆            ┆ f64        ┆ f64        ┆   ┆ f64        ┆ f64       ┆ f64       ┆     │\n",
      "╞════════════╪════════════╪════════════╪════════════╪═══╪════════════╪═══════════╪═══════════╪═════╡\n",
      "│ 2019-01-01 ┆ 4831.25    ┆ 6335.0     ┆ 429.0      ┆ … ┆ 3134.0     ┆ 20401.5   ┆ null      ┆ 1   │\n",
      "│ 00:00      ┆            ┆            ┆            ┆   ┆            ┆           ┆           ┆     │\n",
      "│ 2019-01-01 ┆ 4824.5     ┆ 5379.5     ┆ 455.5      ┆ … ┆ 2868.25    ┆ 22384.0   ┆ null      ┆ 1   │\n",
      "│ 01:00      ┆            ┆            ┆            ┆   ┆            ┆           ┆           ┆     │\n",
      "│ 2019-01-01 ┆ 4782.25    ┆ 5341.0     ┆ 469.5      ┆ … ┆ 2460.25    ┆ 23238.25  ┆ null      ┆ 1   │\n",
      "│ 02:00      ┆            ┆            ┆            ┆   ┆            ┆           ┆           ┆     │\n",
      "│ 2019-01-01 ┆ 4766.25    ┆ 5270.75    ┆ 501.75     ┆ … ┆ 2696.5     ┆ 24530.75  ┆ null      ┆ 1   │\n",
      "│ 03:00      ┆            ┆            ┆            ┆   ┆            ┆           ┆           ┆     │\n",
      "│ 2019-01-01 ┆ 4770.5     ┆ 5178.75    ┆ 520.5      ┆ … ┆ 2578.0     ┆ 26452.0   ┆ null      ┆ 1   │\n",
      "│ 04:00      ┆            ┆            ┆            ┆   ┆            ┆           ┆           ┆     │\n",
      "│ …          ┆ …          ┆ …          ┆ …          ┆ … ┆ …          ┆ …         ┆ …         ┆ …   │\n",
      "│ 2024-01-31 ┆ 4675.25    ┆ 8755.25    ┆ null       ┆ … ┆ 4872.0     ┆ 31227.0   ┆ 0.0       ┆ 1   │\n",
      "│ 19:00      ┆            ┆            ┆            ┆   ┆            ┆           ┆           ┆     │\n",
      "│ 2024-01-31 ┆ 4674.0     ┆ 7983.5     ┆ null       ┆ … ┆ 4038.0     ┆ 33431.25  ┆ 0.0       ┆ 1   │\n",
      "│ 20:00      ┆            ┆            ┆            ┆   ┆            ┆           ┆           ┆     │\n",
      "│ 2024-01-31 ┆ 4654.25    ┆ 7449.25    ┆ null       ┆ … ┆ 3433.25    ┆ 35978.5   ┆ 0.0       ┆ 1   │\n",
      "│ 21:00      ┆            ┆            ┆            ┆   ┆            ┆           ┆           ┆     │\n",
      "│ 2024-01-31 ┆ 4630.25    ┆ 5675.0     ┆ null       ┆ … ┆ 3804.5     ┆ 36944.25  ┆ 0.0       ┆ 1   │\n",
      "│ 22:00      ┆            ┆            ┆            ┆   ┆            ┆           ┆           ┆     │\n",
      "│ 2024-01-31 ┆ 4646.25    ┆ 5137.5     ┆ null       ┆ … ┆ 3252.75    ┆ 37334.5   ┆ 0.0       ┆ 1   │\n",
      "│ 23:00      ┆            ┆            ┆            ┆   ┆            ┆           ┆           ┆     │\n",
      "└────────────┴────────────┴────────────┴────────────┴───┴────────────┴───────────┴───────────┴─────┘\n",
      "shape: (5, 2)\n",
      "┌──────────────────┬───────┐\n",
      "│ date             ┆ count │\n",
      "│ ---              ┆ ---   │\n",
      "│ str              ┆ u32   │\n",
      "╞══════════════════╪═══════╡\n",
      "│ 2019-10-27 02:00 ┆ 2     │\n",
      "│ 2020-10-25 02:00 ┆ 2     │\n",
      "│ 2021-10-31 02:00 ┆ 2     │\n",
      "│ 2022-10-30 02:00 ┆ 2     │\n",
      "│ 2023-10-29 02:00 ┆ 2     │\n",
      "└──────────────────┴───────┘\n"
     ]
    }
   ],
   "source": [
    "generation_de.pipe(print)\n",
    "generation_de[\"date\"].value_counts().filter(pl.col(\"count\") != 1).sort(\"date\").pipe(print)"
   ]
  },
  {
   "cell_type": "markdown",
   "metadata": {},
   "source": [
    "#### France"
   ]
  },
  {
   "cell_type": "code",
   "execution_count": 274,
   "metadata": {},
   "outputs": [
    {
     "data": {
      "text/html": [
       "<div><style>\n",
       ".dataframe > thead > tr,\n",
       ".dataframe > tbody > tr {\n",
       "  text-align: right;\n",
       "  white-space: pre-wrap;\n",
       "}\n",
       "</style>\n",
       "<small>shape: (3, 17)</small><table border=\"1\" class=\"dataframe\"><thead><tr><th>column_1</th><th>column_2</th><th>column_3</th><th>column_4</th><th>column_5</th><th>column_6</th><th>column_7</th><th>column_8</th><th>column_9</th><th>column_10</th><th>column_11</th><th>column_12</th><th>column_13</th><th>column_14</th><th>column_15</th><th>column_16</th><th>column_17</th></tr><tr><td>str</td><td>str</td><td>str</td><td>str</td><td>str</td><td>str</td><td>str</td><td>str</td><td>str</td><td>str</td><td>str</td><td>str</td><td>str</td><td>str</td><td>str</td><td>str</td><td>str</td></tr></thead><tbody><tr><td>&quot;date&quot;</td><td>&quot;Biomass&quot;</td><td>&quot;Fossil Gas&quot;</td><td>&quot;Fossil Hard co…</td><td>&quot;Fossil Hard co…</td><td>&quot;Fossil Oil&quot;</td><td>&quot;Hydro Pumped S…</td><td>&quot;Hydro Pumped S…</td><td>&quot;Hydro Run-of-r…</td><td>&quot;Hydro Water Re…</td><td>&quot;Hydro Water Re…</td><td>&quot;Nuclear&quot;</td><td>&quot;Solar&quot;</td><td>&quot;Waste&quot;</td><td>&quot;Wind Offshore&quot;</td><td>&quot;Wind Offshore&quot;</td><td>&quot;Wind Onshore&quot;</td></tr><tr><td>null</td><td>&quot;Actual Aggrega…</td><td>&quot;Actual Aggrega…</td><td>&quot;Actual Aggrega…</td><td>&quot;Actual Consump…</td><td>&quot;Actual Aggrega…</td><td>&quot;Actual Aggrega…</td><td>&quot;Actual Consump…</td><td>&quot;Actual Aggrega…</td><td>&quot;Actual Aggrega…</td><td>&quot;Actual Consump…</td><td>&quot;Actual Aggrega…</td><td>&quot;Actual Aggrega…</td><td>&quot;Actual Aggrega…</td><td>&quot;Actual Aggrega…</td><td>&quot;Actual Consump…</td><td>&quot;Actual Aggrega…</td></tr><tr><td>&quot;2019-01-01 00:…</td><td>&quot;351.0&quot;</td><td>&quot;2722.0&quot;</td><td>&quot;0.0&quot;</td><td>null</td><td>&quot;207.0&quot;</td><td>null</td><td>&quot;1377.0&quot;</td><td>&quot;3552.0&quot;</td><td>&quot;1054.0&quot;</td><td>null</td><td>&quot;55627.0&quot;</td><td>&quot;0.0&quot;</td><td>&quot;253.0&quot;</td><td>null</td><td>null</td><td>&quot;1622.0&quot;</td></tr></tbody></table></div>"
      ],
      "text/plain": [
       "shape: (3, 17)\n",
       "┌───────────┬───────────┬───────────┬───────────┬───┬───────────┬───────────┬───────────┬──────────┐\n",
       "│ column_1  ┆ column_2  ┆ column_3  ┆ column_4  ┆ … ┆ column_14 ┆ column_15 ┆ column_16 ┆ column_1 │\n",
       "│ ---       ┆ ---       ┆ ---       ┆ ---       ┆   ┆ ---       ┆ ---       ┆ ---       ┆ 7        │\n",
       "│ str       ┆ str       ┆ str       ┆ str       ┆   ┆ str       ┆ str       ┆ str       ┆ ---      │\n",
       "│           ┆           ┆           ┆           ┆   ┆           ┆           ┆           ┆ str      │\n",
       "╞═══════════╪═══════════╪═══════════╪═══════════╪═══╪═══════════╪═══════════╪═══════════╪══════════╡\n",
       "│ date      ┆ Biomass   ┆ Fossil    ┆ Fossil    ┆ … ┆ Waste     ┆ Wind      ┆ Wind      ┆ Wind     │\n",
       "│           ┆           ┆ Gas       ┆ Hard coal ┆   ┆           ┆ Offshore  ┆ Offshore  ┆ Onshore  │\n",
       "│ null      ┆ Actual    ┆ Actual    ┆ Actual    ┆ … ┆ Actual    ┆ Actual    ┆ Actual    ┆ Actual   │\n",
       "│           ┆ Aggregate ┆ Aggregate ┆ Aggregate ┆   ┆ Aggregate ┆ Aggregate ┆ Consumpti ┆ Aggregat │\n",
       "│           ┆ d         ┆ d         ┆ d         ┆   ┆ d         ┆ d         ┆ on        ┆ ed       │\n",
       "│ 2019-01-0 ┆ 351.0     ┆ 2722.0    ┆ 0.0       ┆ … ┆ 253.0     ┆ null      ┆ null      ┆ 1622.0   │\n",
       "│ 1 00:00:0 ┆           ┆           ┆           ┆   ┆           ┆           ┆           ┆          │\n",
       "│ 0+01:00   ┆           ┆           ┆           ┆   ┆           ┆           ┆           ┆          │\n",
       "└───────────┴───────────┴───────────┴───────────┴───┴───────────┴───────────┴───────────┴──────────┘"
      ]
     },
     "execution_count": 274,
     "metadata": {},
     "output_type": "execute_result"
    }
   ],
   "source": [
    "generation_fr = pl.read_csv(\"./Raw Data/generation_actual_all_FR.csv\", has_header=False)\n",
    "generation_fr.head(3)"
   ]
  },
  {
   "cell_type": "code",
   "execution_count": 275,
   "metadata": {},
   "outputs": [
    {
     "data": {
      "text/plain": [
       "['date',\n",
       " 'biomass_actual_aggregated_fr',\n",
       " 'fossil_gas_actual_aggregated_fr',\n",
       " 'fossil_hard_coal_actual_aggregated_fr',\n",
       " 'fossil_hard_coal_actual_consumption_fr',\n",
       " 'fossil_oil_actual_aggregated_fr',\n",
       " 'hydro_pumped_storage_actual_aggregated_fr',\n",
       " 'hydro_pumped_storage_actual_consumption_fr',\n",
       " 'hydro_run-of-river_and_poundage_actual_aggregated_fr',\n",
       " 'hydro_water_reservoir_actual_aggregated_fr',\n",
       " 'hydro_water_reservoir_actual_consumption_fr',\n",
       " 'nuclear_actual_aggregated_fr',\n",
       " 'solar_actual_aggregated_fr',\n",
       " 'waste_actual_aggregated_fr',\n",
       " 'wind_offshore_actual_aggregated_fr',\n",
       " 'wind_offshore_actual_consumption_fr',\n",
       " 'wind_onshore_actual_aggregated_fr']"
      ]
     },
     "execution_count": 275,
     "metadata": {},
     "output_type": "execute_result"
    }
   ],
   "source": [
    "column_names = (\n",
    "    generation_fr.head(2)\n",
    "    .transpose()\n",
    "    .with_columns(pl.col(\"column_1\").fill_null(value=\"\"))\n",
    "    .with_columns(\n",
    "        pl.concat_str([pl.col(\"column_0\"), pl.col(\"column_1\")], separator=\" \")\n",
    "        .str.strip_chars()\n",
    "        .alias(\"header\")\n",
    "    )\n",
    "    .with_columns(pl.concat_str([\"header\", pl.lit(\"FR\")], separator=\" \").str.to_lowercase().str.replace_all(\" \", \"_\").str.replace_all(\"/\", \"_\"))\n",
    "    [\"header\"]\n",
    "    .to_list()\n",
    ")\n",
    "\n",
    "column_names[0] = \"date\"\n",
    "\n",
    "column_names"
   ]
  },
  {
   "cell_type": "code",
   "execution_count": 276,
   "metadata": {},
   "outputs": [],
   "source": [
    "generation_fr = (\n",
    "    generation_fr.tail(-2)\n",
    "    .rename(dict(zip(generation_fr.columns, column_names)))\n",
    "    .with_columns(pl.col(\"date\").str.to_datetime())\n",
    "    .with_columns(\n",
    "        pl.col(\"date\").dt.convert_time_zone(\"Europe/Zurich\").dt.truncate(\"1h\")\n",
    "    )\n",
    "    .with_columns(cs.string().cast(pl.Float64))\n",
    "    # .group_by(\"date\")\n",
    "    # .agg(pl.all().mean())\n",
    "    .with_columns((pl.col(\"date\").dt.dst_offset() == 0).cast(pl.Int16).alias(\"dst\"))\n",
    "    .with_columns(pl.col(\"date\").dt.strftime(\"%Y-%m-%d %H:%M\"))\n",
    "    .unique(subset=[\"date\", \"dst\"])\n",
    "    .sort(\"date\")\n",
    ")"
   ]
  },
  {
   "cell_type": "code",
   "execution_count": 277,
   "metadata": {},
   "outputs": [
    {
     "name": "stdout",
     "output_type": "stream",
     "text": [
      "shape: (44_555, 18)\n",
      "┌────────────┬────────────┬────────────┬────────────┬───┬────────────┬───────────┬───────────┬─────┐\n",
      "│ date       ┆ biomass_ac ┆ fossil_gas ┆ fossil_har ┆ … ┆ wind_offsh ┆ wind_offs ┆ wind_onsh ┆ dst │\n",
      "│ ---        ┆ tual_aggre ┆ _actual_ag ┆ d_coal_act ┆   ┆ ore_actual ┆ hore_actu ┆ ore_actua ┆ --- │\n",
      "│ str        ┆ gated_fr   ┆ gregated_f ┆ ual_aggreg ┆   ┆ _aggregate ┆ al_consum ┆ l_aggrega ┆ i16 │\n",
      "│            ┆ ---        ┆ r          ┆ at…        ┆   ┆ d_…        ┆ ption…    ┆ ted_f…    ┆     │\n",
      "│            ┆ f64        ┆ ---        ┆ ---        ┆   ┆ ---        ┆ ---       ┆ ---       ┆     │\n",
      "│            ┆            ┆ f64        ┆ f64        ┆   ┆ f64        ┆ f64       ┆ f64       ┆     │\n",
      "╞════════════╪════════════╪════════════╪════════════╪═══╪════════════╪═══════════╪═══════════╪═════╡\n",
      "│ 2019-01-01 ┆ 351.0      ┆ 2722.0     ┆ 0.0        ┆ … ┆ null       ┆ null      ┆ 1622.0    ┆ 1   │\n",
      "│ 00:00      ┆            ┆            ┆            ┆   ┆            ┆           ┆           ┆     │\n",
      "│ 2019-01-01 ┆ 352.0      ┆ 2526.0     ┆ null       ┆ … ┆ null       ┆ null      ┆ 1637.0    ┆ 1   │\n",
      "│ 01:00      ┆            ┆            ┆            ┆   ┆            ┆           ┆           ┆     │\n",
      "│ 2019-01-01 ┆ 352.0      ┆ 2425.0     ┆ null       ┆ … ┆ null       ┆ null      ┆ 1567.0    ┆ 1   │\n",
      "│ 02:00      ┆            ┆            ┆            ┆   ┆            ┆           ┆           ┆     │\n",
      "│ 2019-01-01 ┆ 351.0      ┆ 2435.0     ┆ 0.0        ┆ … ┆ null       ┆ null      ┆ 1556.0    ┆ 1   │\n",
      "│ 03:00      ┆            ┆            ┆            ┆   ┆            ┆           ┆           ┆     │\n",
      "│ 2019-01-01 ┆ 353.0      ┆ 2440.0     ┆ 0.0        ┆ … ┆ null       ┆ null      ┆ 1595.0    ┆ 1   │\n",
      "│ 04:00      ┆            ┆            ┆            ┆   ┆            ┆           ┆           ┆     │\n",
      "│ …          ┆ …          ┆ …          ┆ …          ┆ … ┆ …          ┆ …         ┆ …         ┆ …   │\n",
      "│ 2024-01-31 ┆ 356.0      ┆ 4713.0     ┆ 330.0      ┆ … ┆ 394.0      ┆ null      ┆ 3202.0    ┆ 1   │\n",
      "│ 19:00      ┆            ┆            ┆            ┆   ┆            ┆           ┆           ┆     │\n",
      "│ 2024-01-31 ┆ 359.0      ┆ 4670.0     ┆ 314.0      ┆ … ┆ 436.0      ┆ null      ┆ 4246.0    ┆ 1   │\n",
      "│ 20:00      ┆            ┆            ┆            ┆   ┆            ┆           ┆           ┆     │\n",
      "│ 2024-01-31 ┆ 359.0      ┆ 4313.0     ┆ 314.0      ┆ … ┆ 430.0      ┆ null      ┆ 5421.0    ┆ 1   │\n",
      "│ 21:00      ┆            ┆            ┆            ┆   ┆            ┆           ┆           ┆     │\n",
      "│ 2024-01-31 ┆ 360.0      ┆ 2721.0     ┆ 313.0      ┆ … ┆ 445.0      ┆ null      ┆ 6234.0    ┆ 1   │\n",
      "│ 22:00      ┆            ┆            ┆            ┆   ┆            ┆           ┆           ┆     │\n",
      "│ 2024-01-31 ┆ 360.0      ┆ 2311.0     ┆ 313.0      ┆ … ┆ 474.0      ┆ null      ┆ 6909.0    ┆ 1   │\n",
      "│ 23:00      ┆            ┆            ┆            ┆   ┆            ┆           ┆           ┆     │\n",
      "└────────────┴────────────┴────────────┴────────────┴───┴────────────┴───────────┴───────────┴─────┘\n",
      "shape: (4, 2)\n",
      "┌──────────────────┬───────┐\n",
      "│ date             ┆ count │\n",
      "│ ---              ┆ ---   │\n",
      "│ str              ┆ u32   │\n",
      "╞══════════════════╪═══════╡\n",
      "│ 2020-10-25 02:00 ┆ 2     │\n",
      "│ 2021-10-31 02:00 ┆ 2     │\n",
      "│ 2022-10-30 02:00 ┆ 2     │\n",
      "│ 2023-10-29 02:00 ┆ 2     │\n",
      "└──────────────────┴───────┘\n"
     ]
    }
   ],
   "source": [
    "generation_fr.pipe(print)\n",
    "generation_fr[\"date\"].value_counts().filter(pl.col(\"count\") != 1).sort(\"date\").pipe(print)"
   ]
  },
  {
   "cell_type": "markdown",
   "metadata": {},
   "source": [
    "#### Italy"
   ]
  },
  {
   "cell_type": "code",
   "execution_count": 278,
   "metadata": {},
   "outputs": [
    {
     "data": {
      "text/html": [
       "<div><style>\n",
       ".dataframe > thead > tr,\n",
       ".dataframe > tbody > tr {\n",
       "  text-align: right;\n",
       "  white-space: pre-wrap;\n",
       "}\n",
       "</style>\n",
       "<small>shape: (3, 20)</small><table border=\"1\" class=\"dataframe\"><thead><tr><th>column_1</th><th>column_2</th><th>column_3</th><th>column_4</th><th>column_5</th><th>column_6</th><th>column_7</th><th>column_8</th><th>column_9</th><th>column_10</th><th>column_11</th><th>column_12</th><th>column_13</th><th>column_14</th><th>column_15</th><th>column_16</th><th>column_17</th><th>column_18</th><th>column_19</th><th>column_20</th></tr><tr><td>str</td><td>str</td><td>str</td><td>str</td><td>str</td><td>str</td><td>str</td><td>str</td><td>str</td><td>str</td><td>str</td><td>str</td><td>str</td><td>str</td><td>str</td><td>str</td><td>str</td><td>str</td><td>str</td><td>str</td></tr></thead><tbody><tr><td>&quot;date&quot;</td><td>&quot;Biomass&quot;</td><td>&quot;Fossil Coal-de…</td><td>&quot;Fossil Gas&quot;</td><td>&quot;Fossil Hard co…</td><td>&quot;Fossil Hard co…</td><td>&quot;Fossil Oil&quot;</td><td>&quot;Fossil Oil&quot;</td><td>&quot;Geothermal&quot;</td><td>&quot;Hydro Pumped S…</td><td>&quot;Hydro Pumped S…</td><td>&quot;Hydro Run-of-r…</td><td>&quot;Hydro Water Re…</td><td>&quot;Other&quot;</td><td>&quot;Other&quot;</td><td>&quot;Solar&quot;</td><td>&quot;Solar&quot;</td><td>&quot;Waste&quot;</td><td>&quot;Wind Offshore&quot;</td><td>&quot;Wind Onshore&quot;</td></tr><tr><td>null</td><td>&quot;Actual Aggrega…</td><td>&quot;Actual Aggrega…</td><td>&quot;Actual Aggrega…</td><td>&quot;Actual Aggrega…</td><td>&quot;Actual Consump…</td><td>&quot;Actual Aggrega…</td><td>&quot;Actual Consump…</td><td>&quot;Actual Aggrega…</td><td>&quot;Actual Aggrega…</td><td>&quot;Actual Consump…</td><td>&quot;Actual Aggrega…</td><td>&quot;Actual Aggrega…</td><td>&quot;Actual Aggrega…</td><td>&quot;Actual Consump…</td><td>&quot;Actual Aggrega…</td><td>&quot;Actual Consump…</td><td>&quot;Actual Aggrega…</td><td>&quot;Actual Aggrega…</td><td>&quot;Actual Aggrega…</td></tr><tr><td>&quot;2019-01-01 00:…</td><td>&quot;495.0&quot;</td><td>&quot;776.0&quot;</td><td>&quot;8053.0&quot;</td><td>&quot;1938.0&quot;</td><td>null</td><td>&quot;8.0&quot;</td><td>null</td><td>&quot;674.0&quot;</td><td>&quot;1.0&quot;</td><td>&quot;29.0&quot;</td><td>&quot;1891.0&quot;</td><td>&quot;289.0&quot;</td><td>&quot;3070.0&quot;</td><td>null</td><td>&quot;0.0&quot;</td><td>null</td><td>&quot;37.0&quot;</td><td>null</td><td>&quot;5076.0&quot;</td></tr></tbody></table></div>"
      ],
      "text/plain": [
       "shape: (3, 20)\n",
       "┌───────────┬───────────┬───────────┬───────────┬───┬───────────┬───────────┬───────────┬──────────┐\n",
       "│ column_1  ┆ column_2  ┆ column_3  ┆ column_4  ┆ … ┆ column_17 ┆ column_18 ┆ column_19 ┆ column_2 │\n",
       "│ ---       ┆ ---       ┆ ---       ┆ ---       ┆   ┆ ---       ┆ ---       ┆ ---       ┆ 0        │\n",
       "│ str       ┆ str       ┆ str       ┆ str       ┆   ┆ str       ┆ str       ┆ str       ┆ ---      │\n",
       "│           ┆           ┆           ┆           ┆   ┆           ┆           ┆           ┆ str      │\n",
       "╞═══════════╪═══════════╪═══════════╪═══════════╪═══╪═══════════╪═══════════╪═══════════╪══════════╡\n",
       "│ date      ┆ Biomass   ┆ Fossil    ┆ Fossil    ┆ … ┆ Solar     ┆ Waste     ┆ Wind      ┆ Wind     │\n",
       "│           ┆           ┆ Coal-deri ┆ Gas       ┆   ┆           ┆           ┆ Offshore  ┆ Onshore  │\n",
       "│           ┆           ┆ ved gas   ┆           ┆   ┆           ┆           ┆           ┆          │\n",
       "│ null      ┆ Actual    ┆ Actual    ┆ Actual    ┆ … ┆ Actual    ┆ Actual    ┆ Actual    ┆ Actual   │\n",
       "│           ┆ Aggregate ┆ Aggregate ┆ Aggregate ┆   ┆ Consumpti ┆ Aggregate ┆ Aggregate ┆ Aggregat │\n",
       "│           ┆ d         ┆ d         ┆ d         ┆   ┆ on        ┆ d         ┆ d         ┆ ed       │\n",
       "│ 2019-01-0 ┆ 495.0     ┆ 776.0     ┆ 8053.0    ┆ … ┆ null      ┆ 37.0      ┆ null      ┆ 5076.0   │\n",
       "│ 1 00:00:0 ┆           ┆           ┆           ┆   ┆           ┆           ┆           ┆          │\n",
       "│ 0+01:00   ┆           ┆           ┆           ┆   ┆           ┆           ┆           ┆          │\n",
       "└───────────┴───────────┴───────────┴───────────┴───┴───────────┴───────────┴───────────┴──────────┘"
      ]
     },
     "execution_count": 278,
     "metadata": {},
     "output_type": "execute_result"
    }
   ],
   "source": [
    "generation_it = pl.read_csv(\"./Raw Data/generation_actual_all_IT.csv\", has_header=False)\n",
    "generation_it.head(3)"
   ]
  },
  {
   "cell_type": "code",
   "execution_count": 279,
   "metadata": {},
   "outputs": [
    {
     "data": {
      "text/plain": [
       "['date',\n",
       " 'biomass_actual_aggregated_it',\n",
       " 'fossil_coal-derived_gas_actual_aggregated_it',\n",
       " 'fossil_gas_actual_aggregated_it',\n",
       " 'fossil_hard_coal_actual_aggregated_it',\n",
       " 'fossil_hard_coal_actual_consumption_it',\n",
       " 'fossil_oil_actual_aggregated_it',\n",
       " 'fossil_oil_actual_consumption_it',\n",
       " 'geothermal_actual_aggregated_it',\n",
       " 'hydro_pumped_storage_actual_aggregated_it',\n",
       " 'hydro_pumped_storage_actual_consumption_it',\n",
       " 'hydro_run-of-river_and_poundage_actual_aggregated_it',\n",
       " 'hydro_water_reservoir_actual_aggregated_it',\n",
       " 'other_actual_aggregated_it',\n",
       " 'other_actual_consumption_it',\n",
       " 'solar_actual_aggregated_it',\n",
       " 'solar_actual_consumption_it',\n",
       " 'waste_actual_aggregated_it',\n",
       " 'wind_offshore_actual_aggregated_it',\n",
       " 'wind_onshore_actual_aggregated_it']"
      ]
     },
     "execution_count": 279,
     "metadata": {},
     "output_type": "execute_result"
    }
   ],
   "source": [
    "column_names = (\n",
    "    generation_it.head(2)\n",
    "    .transpose()\n",
    "    .with_columns(pl.col(\"column_1\").fill_null(value=\"\"))\n",
    "    .with_columns(\n",
    "        pl.concat_str([pl.col(\"column_0\"), pl.col(\"column_1\")], separator=\" \")\n",
    "        .str.strip_chars()\n",
    "        .alias(\"header\")\n",
    "    )\n",
    "    .with_columns(pl.concat_str([\"header\", pl.lit(\"IT\")], separator=\" \").str.to_lowercase().str.replace_all(\" \", \"_\").str.replace_all(\"/\", \"_\"))\n",
    "    [\"header\"]\n",
    "    .to_list()\n",
    ")\n",
    "\n",
    "column_names[0] = \"date\"\n",
    "\n",
    "column_names"
   ]
  },
  {
   "cell_type": "code",
   "execution_count": 280,
   "metadata": {},
   "outputs": [],
   "source": [
    "generation_it = (\n",
    "    generation_it.tail(-2)\n",
    "    .rename(dict(zip(generation_it.columns, column_names)))\n",
    "    .with_columns(pl.col(\"date\").str.to_datetime())\n",
    "    .with_columns(\n",
    "        pl.col(\"date\").dt.convert_time_zone(\"Europe/Zurich\").dt.truncate(\"1h\")\n",
    "    )\n",
    "    .with_columns(cs.string().cast(pl.Float64))\n",
    "    # .group_by(\"date\")\n",
    "    # .agg(pl.all().mean())\n",
    "    .with_columns((pl.col(\"date\").dt.dst_offset() == 0).cast(pl.Int16).alias(\"dst\"))\n",
    "    .with_columns(pl.col(\"date\").dt.strftime(\"%Y-%m-%d %H:%M\"))\n",
    "    .unique(subset=[\"date\", \"dst\"])\n",
    "    .sort(\"date\")\n",
    ")"
   ]
  },
  {
   "cell_type": "code",
   "execution_count": 281,
   "metadata": {},
   "outputs": [
    {
     "name": "stdout",
     "output_type": "stream",
     "text": [
      "shape: (44_563, 21)\n",
      "┌────────────┬────────────┬────────────┬────────────┬───┬────────────┬───────────┬───────────┬─────┐\n",
      "│ date       ┆ biomass_ac ┆ fossil_coa ┆ fossil_gas ┆ … ┆ waste_actu ┆ wind_offs ┆ wind_onsh ┆ dst │\n",
      "│ ---        ┆ tual_aggre ┆ l-derived_ ┆ _actual_ag ┆   ┆ al_aggrega ┆ hore_actu ┆ ore_actua ┆ --- │\n",
      "│ str        ┆ gated_it   ┆ gas_actual ┆ gregated_i ┆   ┆ ted_it     ┆ al_aggreg ┆ l_aggrega ┆ i16 │\n",
      "│            ┆ ---        ┆ _a…        ┆ t          ┆   ┆ ---        ┆ ated_…    ┆ ted_i…    ┆     │\n",
      "│            ┆ f64        ┆ ---        ┆ ---        ┆   ┆ f64        ┆ ---       ┆ ---       ┆     │\n",
      "│            ┆            ┆ f64        ┆ f64        ┆   ┆            ┆ f64       ┆ f64       ┆     │\n",
      "╞════════════╪════════════╪════════════╪════════════╪═══╪════════════╪═══════════╪═══════════╪═════╡\n",
      "│ 2019-01-01 ┆ 495.0      ┆ 776.0      ┆ 8053.0     ┆ … ┆ 37.0       ┆ null      ┆ 5076.0    ┆ 1   │\n",
      "│ 00:00      ┆            ┆            ┆            ┆   ┆            ┆           ┆           ┆     │\n",
      "│ 2019-01-01 ┆ 501.0      ┆ 775.0      ┆ 7614.0     ┆ … ┆ 41.0       ┆ null      ┆ 5088.0    ┆ 1   │\n",
      "│ 01:00      ┆            ┆            ┆            ┆   ┆            ┆           ┆           ┆     │\n",
      "│ 2019-01-01 ┆ 499.0      ┆ 773.0      ┆ 7090.0     ┆ … ┆ 36.0       ┆ null      ┆ 5086.0    ┆ 1   │\n",
      "│ 02:00      ┆            ┆            ┆            ┆   ┆            ┆           ┆           ┆     │\n",
      "│ 2019-01-01 ┆ 503.0      ┆ 774.0      ┆ 6032.0     ┆ … ┆ 41.0       ┆ null      ┆ 5131.0    ┆ 1   │\n",
      "│ 03:00      ┆            ┆            ┆            ┆   ┆            ┆           ┆           ┆     │\n",
      "│ 2019-01-01 ┆ 509.0      ┆ 774.0      ┆ 5795.0     ┆ … ┆ 38.0       ┆ null      ┆ 5235.0    ┆ 1   │\n",
      "│ 04:00      ┆            ┆            ┆            ┆   ┆            ┆           ┆           ┆     │\n",
      "│ …          ┆ …          ┆ …          ┆ …          ┆ … ┆ …          ┆ …         ┆ …         ┆ …   │\n",
      "│ 2024-01-31 ┆ 545.0      ┆ 785.0      ┆ 19894.0    ┆ … ┆ 311.0      ┆ 0.0       ┆ 697.0     ┆ 1   │\n",
      "│ 19:00      ┆            ┆            ┆            ┆   ┆            ┆           ┆           ┆     │\n",
      "│ 2024-01-31 ┆ 541.0      ┆ 786.0      ┆ 19571.0    ┆ … ┆ 312.0      ┆ 0.0       ┆ 642.0     ┆ 1   │\n",
      "│ 20:00      ┆            ┆            ┆            ┆   ┆            ┆           ┆           ┆     │\n",
      "│ 2024-01-31 ┆ 540.0      ┆ 787.0      ┆ 18362.0    ┆ … ┆ 314.0      ┆ 2.0       ┆ 670.0     ┆ 1   │\n",
      "│ 21:00      ┆            ┆            ┆            ┆   ┆            ┆           ┆           ┆     │\n",
      "│ 2024-01-31 ┆ 526.0      ┆ 788.0      ┆ 15965.0    ┆ … ┆ 324.0      ┆ 1.0       ┆ 731.0     ┆ 1   │\n",
      "│ 22:00      ┆            ┆            ┆            ┆   ┆            ┆           ┆           ┆     │\n",
      "│ 2024-01-31 ┆ 516.0      ┆ 786.0      ┆ 13164.0    ┆ … ┆ 330.0      ┆ 1.0       ┆ 808.0     ┆ 1   │\n",
      "│ 23:00      ┆            ┆            ┆            ┆   ┆            ┆           ┆           ┆     │\n",
      "└────────────┴────────────┴────────────┴────────────┴───┴────────────┴───────────┴───────────┴─────┘\n",
      "shape: (5, 2)\n",
      "┌──────────────────┬───────┐\n",
      "│ date             ┆ count │\n",
      "│ ---              ┆ ---   │\n",
      "│ str              ┆ u32   │\n",
      "╞══════════════════╪═══════╡\n",
      "│ 2019-10-27 02:00 ┆ 2     │\n",
      "│ 2020-10-25 02:00 ┆ 2     │\n",
      "│ 2021-10-31 02:00 ┆ 2     │\n",
      "│ 2022-10-30 02:00 ┆ 2     │\n",
      "│ 2023-10-29 02:00 ┆ 2     │\n",
      "└──────────────────┴───────┘\n"
     ]
    }
   ],
   "source": [
    "generation_it.pipe(print)\n",
    "generation_it[\"date\"].value_counts().filter(pl.col(\"count\") != 1).sort(\"date\").pipe(print)"
   ]
  },
  {
   "cell_type": "markdown",
   "metadata": {},
   "source": [
    "### Water Reservoirs"
   ]
  },
  {
   "cell_type": "code",
   "execution_count": 282,
   "metadata": {},
   "outputs": [
    {
     "name": "stdout",
     "output_type": "stream",
     "text": [
      "shape: (265, 2)\n",
      "┌────────────┬────────────────────────────┐\n",
      "│ week_start ┆ hydro_reservoir_storage_at │\n",
      "│ ---        ┆ ---                        │\n",
      "│ str        ┆ f64                        │\n",
      "╞════════════╪════════════════════════════╡\n",
      "│ 2018-12-31 ┆ 1.412194e6                 │\n",
      "│ 2019-01-07 ┆ 1.372937e6                 │\n",
      "│ 2019-01-14 ┆ 1.326312e6                 │\n",
      "│ 2019-01-21 ┆ 1.176602e6                 │\n",
      "│ 2019-01-28 ┆ 1.077808e6                 │\n",
      "│ …          ┆ …                          │\n",
      "│ 2023-12-25 ┆ 1.543144e6                 │\n",
      "│ 2024-01-08 ┆ 1.423063e6                 │\n",
      "│ 2024-01-15 ┆ 1.26075e6                  │\n",
      "│ 2024-01-22 ┆ 1.157852e6                 │\n",
      "│ 2024-01-29 ┆ 1.073592e6                 │\n",
      "└────────────┴────────────────────────────┘\n"
     ]
    }
   ],
   "source": [
    "hydro_storage_at = (\n",
    "    pl.read_csv(\"./Raw Data/hydro_reservoir_storage_AT.csv\")\n",
    "    .with_columns(pl.col(\"date\").str.to_datetime())\n",
    "    .with_columns(\n",
    "        pl.col(\"date\").dt.convert_time_zone(\"Europe/Zurich\").dt.truncate(\"1w\")\n",
    "    )\n",
    "    .sort(\"date\")\n",
    "    .with_columns(pl.col(\"date\").dt.strftime(\"%Y-%m-%d\"))\n",
    "    .unique()\n",
    "    .sort(\"date\")\n",
    "    .rename({\"hydro_reservoir_storage_mwh\": \"hydro_reservoir_storage_at\", \"date\": \"week_start\"})\n",
    ")\n",
    "\n",
    "hydro_storage_at.pipe(print)"
   ]
  },
  {
   "cell_type": "code",
   "execution_count": 283,
   "metadata": {},
   "outputs": [
    {
     "name": "stdout",
     "output_type": "stream",
     "text": [
      "shape: (265, 2)\n",
      "┌────────────┬────────────────────────────┐\n",
      "│ week_start ┆ hydro_reservoir_storage_ch │\n",
      "│ ---        ┆ ---                        │\n",
      "│ str        ┆ f64                        │\n",
      "╞════════════╪════════════════════════════╡\n",
      "│ 2018-12-31 ┆ 4.656491e6                 │\n",
      "│ 2019-01-07 ┆ 4.420007e6                 │\n",
      "│ 2019-01-14 ┆ 4.154307e6                 │\n",
      "│ 2019-01-21 ┆ 3.693327e6                 │\n",
      "│ 2019-01-28 ┆ 3.288999e6                 │\n",
      "│ …          ┆ …                          │\n",
      "│ 2023-12-25 ┆ 4.253319e6                 │\n",
      "│ 2024-01-08 ┆ 4.031253e6                 │\n",
      "│ 2024-01-15 ┆ 2.996454e6                 │\n",
      "│ 2024-01-22 ┆ 3.326345e6                 │\n",
      "│ 2024-01-29 ┆ 2.47213e6                  │\n",
      "└────────────┴────────────────────────────┘\n"
     ]
    }
   ],
   "source": [
    "hydro_storage_ch = (\n",
    "    pl.read_csv(\"./Raw Data/hydro_reservoir_storage_CH.csv\")\n",
    "    .with_columns(pl.col(\"date\").str.to_datetime())\n",
    "    .with_columns(\n",
    "        pl.col(\"date\").dt.convert_time_zone(\"Europe/Zurich\").dt.truncate(\"1w\")\n",
    "    )\n",
    "    .sort(\"date\")\n",
    "    .with_columns(pl.col(\"date\").dt.strftime(\"%Y-%m-%d\"))\n",
    "    .unique()\n",
    "    .sort(\"date\")\n",
    "    .rename({\"hydro_reservoir_storage_mwh\": \"hydro_reservoir_storage_ch\", \"date\": \"week_start\"})\n",
    ")\n",
    "\n",
    "hydro_storage_ch.pipe(print)"
   ]
  },
  {
   "cell_type": "code",
   "execution_count": 284,
   "metadata": {},
   "outputs": [
    {
     "name": "stdout",
     "output_type": "stream",
     "text": [
      "shape: (263, 2)\n",
      "┌────────────┬────────────────────────────┐\n",
      "│ week_start ┆ hydro_reservoir_storage_fr │\n",
      "│ ---        ┆ ---                        │\n",
      "│ str        ┆ f64                        │\n",
      "╞════════════╪════════════════════════════╡\n",
      "│ 2018-12-31 ┆ 2.186488e6                 │\n",
      "│ 2019-01-07 ┆ 2.055622e6                 │\n",
      "│ 2019-01-14 ┆ 1.931241e6                 │\n",
      "│ 2019-01-21 ┆ 1.750281e6                 │\n",
      "│ 2019-01-28 ┆ 1.591274e6                 │\n",
      "│ …          ┆ …                          │\n",
      "│ 2023-12-25 ┆ 2.795844e6                 │\n",
      "│ 2024-01-08 ┆ 2.368286e6                 │\n",
      "│ 2024-01-15 ┆ 2.201546e6                 │\n",
      "│ 2024-01-22 ┆ 2.146234e6                 │\n",
      "│ 2024-01-29 ┆ 2.010901e6                 │\n",
      "└────────────┴────────────────────────────┘\n"
     ]
    }
   ],
   "source": [
    "hydro_storage_fr = (\n",
    "    pl.read_csv(\"./Raw Data/hydro_reservoir_storage_FR.csv\")\n",
    "    .with_columns(pl.col(\"date\").str.to_datetime())\n",
    "    .with_columns(\n",
    "        pl.col(\"date\").dt.convert_time_zone(\"Europe/Zurich\").dt.truncate(\"1w\")\n",
    "    )\n",
    "    .sort(\"date\")\n",
    "    .with_columns(pl.col(\"date\").dt.strftime(\"%Y-%m-%d\"))\n",
    "    .unique()\n",
    "    .sort(\"date\")\n",
    "    .rename({\"hydro_reservoir_storage_mwh\": \"hydro_reservoir_storage_fr\", \"date\": \"week_start\"})\n",
    ")\n",
    "\n",
    "hydro_storage_fr.pipe(print)"
   ]
  },
  {
   "cell_type": "code",
   "execution_count": 285,
   "metadata": {},
   "outputs": [
    {
     "name": "stdout",
     "output_type": "stream",
     "text": [
      "shape: (264, 2)\n",
      "┌────────────┬────────────────────────────┐\n",
      "│ week_start ┆ hydro_reservoir_storage_it │\n",
      "│ ---        ┆ ---                        │\n",
      "│ str        ┆ f64                        │\n",
      "╞════════════╪════════════════════════════╡\n",
      "│ 2018-12-31 ┆ 3.036299e6                 │\n",
      "│ 2019-01-07 ┆ 2.704739e6                 │\n",
      "│ 2019-01-14 ┆ 2.593794e6                 │\n",
      "│ 2019-01-21 ┆ 2.49019e6                  │\n",
      "│ 2019-01-28 ┆ 2.473671e6                 │\n",
      "│ …          ┆ …                          │\n",
      "│ 2023-12-25 ┆ 3.280575e6                 │\n",
      "│ 2024-01-08 ┆ 3.053817e6                 │\n",
      "│ 2024-01-15 ┆ 2.926584e6                 │\n",
      "│ 2024-01-22 ┆ 2.778409e6                 │\n",
      "│ 2024-01-29 ┆ 2.619505e6                 │\n",
      "└────────────┴────────────────────────────┘\n"
     ]
    }
   ],
   "source": [
    "hydro_storage_it = (\n",
    "    pl.read_csv(\"./Raw Data/hydro_reservoir_storage_IT.csv\")\n",
    "    .with_columns(pl.col(\"date\").str.to_datetime())\n",
    "    .with_columns(\n",
    "        pl.col(\"date\").dt.convert_time_zone(\"Europe/Zurich\").dt.truncate(\"1w\")\n",
    "    )\n",
    "    .sort(\"date\")\n",
    "    .with_columns(pl.col(\"date\").dt.strftime(\"%Y-%m-%d\"))\n",
    "    .unique()\n",
    "    .sort(\"date\")\n",
    "    .rename({\"hydro_reservoir_storage_mwh\": \"hydro_reservoir_storage_it\", \"date\": \"week_start\"})\n",
    ")\n",
    "\n",
    "hydro_storage_it.pipe(print)"
   ]
  },
  {
   "cell_type": "markdown",
   "metadata": {},
   "source": [
    "### Crossborder Flows"
   ]
  },
  {
   "cell_type": "code",
   "execution_count": 286,
   "metadata": {},
   "outputs": [
    {
     "data": {
      "text/plain": [
       "['crossborder_physical_flow_mw_AT_CH.csv',\n",
       " 'crossborder_physical_flow_mw_CH_AT.csv',\n",
       " 'crossborder_physical_flow_mw_CH_DE_LU.csv',\n",
       " 'crossborder_physical_flow_mw_CH_FR.csv',\n",
       " 'crossborder_physical_flow_mw_CH_IT.csv',\n",
       " 'crossborder_physical_flow_mw_DE_LU_CH.csv',\n",
       " 'crossborder_physical_flow_mw_FR_CH.csv',\n",
       " 'crossborder_physical_flow_mw_IT_CH.csv']"
      ]
     },
     "execution_count": 286,
     "metadata": {},
     "output_type": "execute_result"
    }
   ],
   "source": [
    "filenames = [filename for filename in os.listdir(\"./Raw Data/\") if \"physical_flow\" in filename]\n",
    "filenames"
   ]
  },
  {
   "cell_type": "code",
   "execution_count": 287,
   "metadata": {},
   "outputs": [
    {
     "name": "stdout",
     "output_type": "stream",
     "text": [
      "shape: (44_563, 3)\n",
      "┌──────────────────┬───────────────────────────────┬─────┐\n",
      "│ date             ┆ crossborder_actual_flow_at_ch ┆ dst │\n",
      "│ ---              ┆ ---                           ┆ --- │\n",
      "│ str              ┆ f64                           ┆ i16 │\n",
      "╞══════════════════╪═══════════════════════════════╪═════╡\n",
      "│ 2019-01-01 00:00 ┆ 763.0                         ┆ 1   │\n",
      "│ 2019-01-01 01:00 ┆ 497.0                         ┆ 1   │\n",
      "│ 2019-01-01 02:00 ┆ 427.0                         ┆ 1   │\n",
      "│ 2019-01-01 03:00 ┆ 452.0                         ┆ 1   │\n",
      "│ 2019-01-01 04:00 ┆ 603.0                         ┆ 1   │\n",
      "│ …                ┆ …                             ┆ …   │\n",
      "│ 2024-01-31 19:00 ┆ 194.0                         ┆ 1   │\n",
      "│ 2024-01-31 20:00 ┆ 504.0                         ┆ 1   │\n",
      "│ 2024-01-31 21:00 ┆ 678.0                         ┆ 1   │\n",
      "│ 2024-01-31 22:00 ┆ 726.0                         ┆ 1   │\n",
      "│ 2024-01-31 23:00 ┆ 952.0                         ┆ 1   │\n",
      "└──────────────────┴───────────────────────────────┴─────┘\n"
     ]
    }
   ],
   "source": [
    "flow_at_ch = (\n",
    "    pl.read_csv(\"./Raw Data/crossborder_physical_flow_mw_AT_CH.csv\")\n",
    "    .with_columns(pl.col(\"date\").str.to_datetime())\n",
    "    .with_columns(pl.col(\"date\").dt.convert_time_zone(\"Europe/Zurich\"))\n",
    "    .with_columns((pl.col(\"date\").dt.dst_offset() == 0).cast(pl.Int16).alias(\"dst\"))\n",
    "    .with_columns(pl.col(\"date\").dt.strftime(\"%Y-%m-%d %H:%M\"))\n",
    "    .unique(subset=[\"date\", \"dst\"])\n",
    "    .rename({\"crossborder_physical_flow_mw\": \"crossborder_actual_flow_at_ch\"})\n",
    "    .sort(\"date\")\n",
    ")\n",
    "\n",
    "flow_at_ch.pipe(print)"
   ]
  },
  {
   "cell_type": "code",
   "execution_count": 288,
   "metadata": {},
   "outputs": [
    {
     "name": "stdout",
     "output_type": "stream",
     "text": [
      "shape: (44_563, 3)\n",
      "┌──────────────────┬───────────────────────────────┬─────┐\n",
      "│ date             ┆ crossborder_actual_flow_ch_at ┆ dst │\n",
      "│ ---              ┆ ---                           ┆ --- │\n",
      "│ str              ┆ f64                           ┆ i16 │\n",
      "╞══════════════════╪═══════════════════════════════╪═════╡\n",
      "│ 2019-01-01 00:00 ┆ 0.0                           ┆ 1   │\n",
      "│ 2019-01-01 01:00 ┆ 0.0                           ┆ 1   │\n",
      "│ 2019-01-01 02:00 ┆ 0.0                           ┆ 1   │\n",
      "│ 2019-01-01 03:00 ┆ 0.0                           ┆ 1   │\n",
      "│ 2019-01-01 04:00 ┆ 0.0                           ┆ 1   │\n",
      "│ …                ┆ …                             ┆ …   │\n",
      "│ 2024-01-31 19:00 ┆ 0.0                           ┆ 1   │\n",
      "│ 2024-01-31 20:00 ┆ 0.0                           ┆ 1   │\n",
      "│ 2024-01-31 21:00 ┆ 0.0                           ┆ 1   │\n",
      "│ 2024-01-31 22:00 ┆ 0.0                           ┆ 1   │\n",
      "│ 2024-01-31 23:00 ┆ 0.0                           ┆ 1   │\n",
      "└──────────────────┴───────────────────────────────┴─────┘\n"
     ]
    }
   ],
   "source": [
    "flow_ch_at = (\n",
    "    pl.read_csv(\"./Raw Data/crossborder_physical_flow_mw_CH_AT.csv\")\n",
    "    .with_columns(pl.col(\"date\").str.to_datetime())\n",
    "    .with_columns(pl.col(\"date\").dt.convert_time_zone(\"Europe/Zurich\"))\n",
    "    .with_columns((pl.col(\"date\").dt.dst_offset() == 0).cast(pl.Int16).alias(\"dst\"))\n",
    "    .with_columns(pl.col(\"date\").dt.strftime(\"%Y-%m-%d %H:%M\"))\n",
    "    .unique(subset=[\"date\", \"dst\"])\n",
    "    .rename({\"crossborder_physical_flow_mw\": \"crossborder_actual_flow_ch_at\"})\n",
    "    .sort(\"date\")\n",
    ")\n",
    "\n",
    "flow_ch_at.pipe(print)"
   ]
  },
  {
   "cell_type": "code",
   "execution_count": 289,
   "metadata": {},
   "outputs": [
    {
     "name": "stdout",
     "output_type": "stream",
     "text": [
      "shape: (110_368, 3)\n",
      "┌──────────────────┬──────────────────────────────────┬─────┐\n",
      "│ date             ┆ crossborder_actual_flow_ch_de_lu ┆ dst │\n",
      "│ ---              ┆ ---                              ┆ --- │\n",
      "│ str              ┆ f64                              ┆ i16 │\n",
      "╞══════════════════╪══════════════════════════════════╪═════╡\n",
      "│ 2019-01-01 00:00 ┆ 595.0                            ┆ 1   │\n",
      "│ 2019-01-01 01:00 ┆ 502.0                            ┆ 1   │\n",
      "│ 2019-01-01 02:00 ┆ 512.0                            ┆ 1   │\n",
      "│ 2019-01-01 03:00 ┆ 544.0                            ┆ 1   │\n",
      "│ 2019-01-01 04:00 ┆ 451.0                            ┆ 1   │\n",
      "│ …                ┆ …                                ┆ …   │\n",
      "│ 2024-01-31 22:45 ┆ 0.0                              ┆ 1   │\n",
      "│ 2024-01-31 23:00 ┆ 0.0                              ┆ 1   │\n",
      "│ 2024-01-31 23:15 ┆ 0.0                              ┆ 1   │\n",
      "│ 2024-01-31 23:30 ┆ 0.0                              ┆ 1   │\n",
      "│ 2024-01-31 23:45 ┆ 0.0                              ┆ 1   │\n",
      "└──────────────────┴──────────────────────────────────┴─────┘\n"
     ]
    }
   ],
   "source": [
    "flow_ch_de_lu = (\n",
    "    pl.read_csv(\"./Raw Data/crossborder_physical_flow_mw_CH_DE_LU.csv\")\n",
    "    .with_columns(pl.col(\"date\").str.to_datetime())\n",
    "    .with_columns(pl.col(\"date\").dt.convert_time_zone(\"Europe/Zurich\"))\n",
    "    .with_columns((pl.col(\"date\").dt.dst_offset() == 0).cast(pl.Int16).alias(\"dst\"))\n",
    "    .with_columns(pl.col(\"date\").dt.strftime(\"%Y-%m-%d %H:%M\"))\n",
    "    .unique(subset=[\"date\", \"dst\"])\n",
    "    .rename({\"crossborder_physical_flow_mw\": \"crossborder_actual_flow_ch_de_lu\"})\n",
    "    .sort(\"date\")\n",
    ")\n",
    "\n",
    "flow_ch_de_lu.pipe(print)"
   ]
  },
  {
   "cell_type": "code",
   "execution_count": 290,
   "metadata": {},
   "outputs": [
    {
     "name": "stdout",
     "output_type": "stream",
     "text": [
      "shape: (44_563, 3)\n",
      "┌──────────────────┬───────────────────────────────┬─────┐\n",
      "│ date             ┆ crossborder_actual_flow_ch_fr ┆ dst │\n",
      "│ ---              ┆ ---                           ┆ --- │\n",
      "│ str              ┆ f64                           ┆ i16 │\n",
      "╞══════════════════╪═══════════════════════════════╪═════╡\n",
      "│ 2019-01-01 00:00 ┆ 553.0                         ┆ 1   │\n",
      "│ 2019-01-01 01:00 ┆ 233.0                         ┆ 1   │\n",
      "│ 2019-01-01 02:00 ┆ 280.0                         ┆ 1   │\n",
      "│ 2019-01-01 03:00 ┆ 0.0                           ┆ 1   │\n",
      "│ 2019-01-01 04:00 ┆ 56.0                          ┆ 1   │\n",
      "│ …                ┆ …                             ┆ …   │\n",
      "│ 2024-01-31 19:00 ┆ 0.0                           ┆ 1   │\n",
      "│ 2024-01-31 20:00 ┆ 0.0                           ┆ 1   │\n",
      "│ 2024-01-31 21:00 ┆ 0.0                           ┆ 1   │\n",
      "│ 2024-01-31 22:00 ┆ 0.0                           ┆ 1   │\n",
      "│ 2024-01-31 23:00 ┆ 0.0                           ┆ 1   │\n",
      "└──────────────────┴───────────────────────────────┴─────┘\n"
     ]
    }
   ],
   "source": [
    "flow_ch_fr = (\n",
    "    pl.read_csv(\"./Raw Data/crossborder_physical_flow_mw_CH_FR.csv\")\n",
    "    .with_columns(pl.col(\"date\").str.to_datetime())\n",
    "    .with_columns(pl.col(\"date\").dt.convert_time_zone(\"Europe/Zurich\"))\n",
    "    .with_columns((pl.col(\"date\").dt.dst_offset() == 0).cast(pl.Int16).alias(\"dst\"))\n",
    "    .with_columns(pl.col(\"date\").dt.strftime(\"%Y-%m-%d %H:%M\"))\n",
    "    .unique(subset=[\"date\", \"dst\"])\n",
    "    .rename({\"crossborder_physical_flow_mw\": \"crossborder_actual_flow_ch_fr\"})\n",
    "    .sort(\"date\")\n",
    ")\n",
    "\n",
    "flow_ch_fr.pipe(print)"
   ]
  },
  {
   "cell_type": "code",
   "execution_count": 291,
   "metadata": {},
   "outputs": [
    {
     "name": "stdout",
     "output_type": "stream",
     "text": [
      "shape: (44_563, 3)\n",
      "┌──────────────────┬───────────────────────────────┬─────┐\n",
      "│ date             ┆ crossborder_actual_flow_ch_it ┆ dst │\n",
      "│ ---              ┆ ---                           ┆ --- │\n",
      "│ str              ┆ f64                           ┆ i16 │\n",
      "╞══════════════════╪═══════════════════════════════╪═════╡\n",
      "│ 2019-01-01 00:00 ┆ 1468.0                        ┆ 1   │\n",
      "│ 2019-01-01 01:00 ┆ 1162.0                        ┆ 1   │\n",
      "│ 2019-01-01 02:00 ┆ 931.0                         ┆ 1   │\n",
      "│ 2019-01-01 03:00 ┆ 1303.0                        ┆ 1   │\n",
      "│ 2019-01-01 04:00 ┆ 1225.0                        ┆ 1   │\n",
      "│ …                ┆ …                             ┆ …   │\n",
      "│ 2024-01-31 19:00 ┆ 4691.0                        ┆ 1   │\n",
      "│ 2024-01-31 20:00 ┆ 4682.0                        ┆ 1   │\n",
      "│ 2024-01-31 21:00 ┆ 4496.0                        ┆ 1   │\n",
      "│ 2024-01-31 22:00 ┆ 4545.0                        ┆ 1   │\n",
      "│ 2024-01-31 23:00 ┆ 4645.0                        ┆ 1   │\n",
      "└──────────────────┴───────────────────────────────┴─────┘\n"
     ]
    }
   ],
   "source": [
    "flow_ch_it = (\n",
    "    pl.read_csv(\"./Raw Data/crossborder_physical_flow_mw_CH_IT.csv\")\n",
    "    .with_columns(pl.col(\"date\").str.to_datetime())\n",
    "    .with_columns(pl.col(\"date\").dt.convert_time_zone(\"Europe/Zurich\"))\n",
    "    .with_columns((pl.col(\"date\").dt.dst_offset() == 0).cast(pl.Int16).alias(\"dst\"))\n",
    "    .with_columns(pl.col(\"date\").dt.strftime(\"%Y-%m-%d %H:%M\"))\n",
    "    .unique(subset=[\"date\", \"dst\"])\n",
    "    .rename({\"crossborder_physical_flow_mw\": \"crossborder_actual_flow_ch_it\"})\n",
    "    .sort(\"date\")\n",
    ")\n",
    "\n",
    "flow_ch_it.pipe(print)"
   ]
  },
  {
   "cell_type": "code",
   "execution_count": 292,
   "metadata": {},
   "outputs": [
    {
     "name": "stdout",
     "output_type": "stream",
     "text": [
      "shape: (110_368, 3)\n",
      "┌──────────────────┬──────────────────────────────────┬─────┐\n",
      "│ date             ┆ crossborder_actual_flow_de_lu_ch ┆ dst │\n",
      "│ ---              ┆ ---                              ┆ --- │\n",
      "│ str              ┆ f64                              ┆ i16 │\n",
      "╞══════════════════╪══════════════════════════════════╪═════╡\n",
      "│ 2019-01-01 00:00 ┆ 3652.0                           ┆ 1   │\n",
      "│ 2019-01-01 01:00 ┆ 3536.0                           ┆ 1   │\n",
      "│ 2019-01-01 02:00 ┆ 3677.0                           ┆ 1   │\n",
      "│ 2019-01-01 03:00 ┆ 3714.0                           ┆ 1   │\n",
      "│ 2019-01-01 04:00 ┆ 3427.0                           ┆ 1   │\n",
      "│ …                ┆ …                                ┆ …   │\n",
      "│ 2024-01-31 22:45 ┆ 2845.0                           ┆ 1   │\n",
      "│ 2024-01-31 23:00 ┆ 3305.0                           ┆ 1   │\n",
      "│ 2024-01-31 23:15 ┆ 3449.0                           ┆ 1   │\n",
      "│ 2024-01-31 23:30 ┆ 3209.0                           ┆ 1   │\n",
      "│ 2024-01-31 23:45 ┆ 3010.0                           ┆ 1   │\n",
      "└──────────────────┴──────────────────────────────────┴─────┘\n"
     ]
    }
   ],
   "source": [
    "flow_de_lu_ch = (\n",
    "    pl.read_csv(\"./Raw Data/crossborder_physical_flow_mw_DE_LU_CH.csv\")\n",
    "    .with_columns(pl.col(\"date\").str.to_datetime())\n",
    "    .with_columns(pl.col(\"date\").dt.convert_time_zone(\"Europe/Zurich\"))\n",
    "    .with_columns((pl.col(\"date\").dt.dst_offset() == 0).cast(pl.Int16).alias(\"dst\"))\n",
    "    .with_columns(pl.col(\"date\").dt.strftime(\"%Y-%m-%d %H:%M\"))\n",
    "    .unique(subset=[\"date\", \"dst\"])\n",
    "    .rename({\"crossborder_physical_flow_mw\": \"crossborder_actual_flow_de_lu_ch\"})\n",
    "    .sort(\"date\")\n",
    ")\n",
    "\n",
    "flow_de_lu_ch.pipe(print)"
   ]
  },
  {
   "cell_type": "code",
   "execution_count": 293,
   "metadata": {},
   "outputs": [
    {
     "name": "stdout",
     "output_type": "stream",
     "text": [
      "shape: (44_563, 3)\n",
      "┌──────────────────┬───────────────────────────────┬─────┐\n",
      "│ date             ┆ crossborder_actual_flow_fr_ch ┆ dst │\n",
      "│ ---              ┆ ---                           ┆ --- │\n",
      "│ str              ┆ f64                           ┆ i16 │\n",
      "╞══════════════════╪═══════════════════════════════╪═════╡\n",
      "│ 2019-01-01 00:00 ┆ 0.0                           ┆ 1   │\n",
      "│ 2019-01-01 01:00 ┆ 0.0                           ┆ 1   │\n",
      "│ 2019-01-01 02:00 ┆ 0.0                           ┆ 1   │\n",
      "│ 2019-01-01 03:00 ┆ 115.0                         ┆ 1   │\n",
      "│ 2019-01-01 04:00 ┆ 0.0                           ┆ 1   │\n",
      "│ …                ┆ …                             ┆ …   │\n",
      "│ 2024-01-31 19:00 ┆ 1139.0                        ┆ 1   │\n",
      "│ 2024-01-31 20:00 ┆ 1154.0                        ┆ 1   │\n",
      "│ 2024-01-31 21:00 ┆ 1546.0                        ┆ 1   │\n",
      "│ 2024-01-31 22:00 ┆ 1693.0                        ┆ 1   │\n",
      "│ 2024-01-31 23:00 ┆ 1905.0                        ┆ 1   │\n",
      "└──────────────────┴───────────────────────────────┴─────┘\n"
     ]
    }
   ],
   "source": [
    "flow_fr_ch = (\n",
    "    pl.read_csv(\"./Raw Data/crossborder_physical_flow_mw_FR_CH.csv\")\n",
    "    .with_columns(pl.col(\"date\").str.to_datetime())\n",
    "    .with_columns(pl.col(\"date\").dt.convert_time_zone(\"Europe/Zurich\"))\n",
    "    .with_columns((pl.col(\"date\").dt.dst_offset() == 0).cast(pl.Int16).alias(\"dst\"))\n",
    "    .with_columns(pl.col(\"date\").dt.strftime(\"%Y-%m-%d %H:%M\"))\n",
    "    .unique(subset=[\"date\", \"dst\"])\n",
    "    .rename({\"crossborder_physical_flow_mw\": \"crossborder_actual_flow_fr_ch\"})\n",
    "    .sort(\"date\")\n",
    ")\n",
    "\n",
    "flow_fr_ch.pipe(print)"
   ]
  },
  {
   "cell_type": "code",
   "execution_count": 294,
   "metadata": {},
   "outputs": [
    {
     "name": "stdout",
     "output_type": "stream",
     "text": [
      "shape: (44_563, 3)\n",
      "┌──────────────────┬───────────────────────────────┬─────┐\n",
      "│ date             ┆ crossborder_actual_flow_it_ch ┆ dst │\n",
      "│ ---              ┆ ---                           ┆ --- │\n",
      "│ str              ┆ f64                           ┆ i16 │\n",
      "╞══════════════════╪═══════════════════════════════╪═════╡\n",
      "│ 2019-01-01 00:00 ┆ 0.0                           ┆ 1   │\n",
      "│ 2019-01-01 01:00 ┆ 0.0                           ┆ 1   │\n",
      "│ 2019-01-01 02:00 ┆ 0.0                           ┆ 1   │\n",
      "│ 2019-01-01 03:00 ┆ 0.0                           ┆ 1   │\n",
      "│ 2019-01-01 04:00 ┆ 0.0                           ┆ 1   │\n",
      "│ …                ┆ …                             ┆ …   │\n",
      "│ 2024-01-31 19:00 ┆ 0.0                           ┆ 1   │\n",
      "│ 2024-01-31 20:00 ┆ 0.0                           ┆ 1   │\n",
      "│ 2024-01-31 21:00 ┆ 0.0                           ┆ 1   │\n",
      "│ 2024-01-31 22:00 ┆ 0.0                           ┆ 1   │\n",
      "│ 2024-01-31 23:00 ┆ 0.0                           ┆ 1   │\n",
      "└──────────────────┴───────────────────────────────┴─────┘\n"
     ]
    }
   ],
   "source": [
    "flow_it_ch = (\n",
    "    pl.read_csv(\"./Raw Data/crossborder_physical_flow_mw_IT_CH.csv\")\n",
    "    .with_columns(pl.col(\"date\").str.to_datetime())\n",
    "    .with_columns(pl.col(\"date\").dt.convert_time_zone(\"Europe/Zurich\"))\n",
    "    .with_columns((pl.col(\"date\").dt.dst_offset() == 0).cast(pl.Int16).alias(\"dst\"))\n",
    "    .with_columns(pl.col(\"date\").dt.strftime(\"%Y-%m-%d %H:%M\"))\n",
    "    .unique(subset=[\"date\", \"dst\"])\n",
    "    .rename({\"crossborder_physical_flow_mw\": \"crossborder_actual_flow_it_ch\"})\n",
    "    .sort(\"date\")\n",
    ")\n",
    "\n",
    "flow_it_ch.pipe(print)"
   ]
  },
  {
   "cell_type": "markdown",
   "metadata": {},
   "source": [
    "### Cross Border Capacity Day Ahead Forecast"
   ]
  },
  {
   "cell_type": "code",
   "execution_count": 295,
   "metadata": {},
   "outputs": [
    {
     "name": "stdout",
     "output_type": "stream",
     "text": [
      "shape: (44_563, 3)\n",
      "┌──────────────────┬─────────────────────────┬─────┐\n",
      "│ date             ┆ capacity_forecast_at_ch ┆ dst │\n",
      "│ ---              ┆ ---                     ┆ --- │\n",
      "│ str              ┆ f64                     ┆ i16 │\n",
      "╞══════════════════╪═════════════════════════╪═════╡\n",
      "│ 2019-01-01 00:00 ┆ 1200.0                  ┆ 1   │\n",
      "│ 2019-01-01 01:00 ┆ 1200.0                  ┆ 1   │\n",
      "│ 2019-01-01 02:00 ┆ 1200.0                  ┆ 1   │\n",
      "│ 2019-01-01 03:00 ┆ 1200.0                  ┆ 1   │\n",
      "│ 2019-01-01 04:00 ┆ 1200.0                  ┆ 1   │\n",
      "│ …                ┆ …                       ┆ …   │\n",
      "│ 2024-01-31 19:00 ┆ 1200.0                  ┆ 1   │\n",
      "│ 2024-01-31 20:00 ┆ 1200.0                  ┆ 1   │\n",
      "│ 2024-01-31 21:00 ┆ 1200.0                  ┆ 1   │\n",
      "│ 2024-01-31 22:00 ┆ 1200.0                  ┆ 1   │\n",
      "│ 2024-01-31 23:00 ┆ 1200.0                  ┆ 1   │\n",
      "└──────────────────┴─────────────────────────┴─────┘\n"
     ]
    }
   ],
   "source": [
    "capacity_forecast_at_ch = (\n",
    "    pl.read_csv(\"./Raw Data/crossborder_capacity_forecast_AT_CH.csv\")\n",
    "    .with_columns(pl.col(\"date\").str.to_datetime())\n",
    "    .with_columns(pl.col(\"date\").dt.convert_time_zone(\"Europe/Zurich\"))\n",
    "    .with_columns((pl.col(\"date\").dt.dst_offset() == 0).cast(pl.Int16).alias(\"dst\"))\n",
    "    .with_columns(pl.col(\"date\").dt.strftime(\"%Y-%m-%d %H:%M\"))\n",
    "    .unique(subset=[\"date\", \"dst\"])\n",
    "    .rename({\"crossborder_capacity_forecast_day_ahead_mw\": \"capacity_forecast_at_ch\"})\n",
    "    .sort(\"date\")\n",
    ")\n",
    "\n",
    "capacity_forecast_at_ch.pipe(print)"
   ]
  },
  {
   "cell_type": "code",
   "execution_count": 296,
   "metadata": {},
   "outputs": [
    {
     "name": "stdout",
     "output_type": "stream",
     "text": [
      "shape: (44_563, 3)\n",
      "┌──────────────────┬─────────────────────────┬─────┐\n",
      "│ date             ┆ capacity_forecast_ch_at ┆ dst │\n",
      "│ ---              ┆ ---                     ┆ --- │\n",
      "│ str              ┆ f64                     ┆ i16 │\n",
      "╞══════════════════╪═════════════════════════╪═════╡\n",
      "│ 2019-01-01 00:00 ┆ 700.0                   ┆ 1   │\n",
      "│ 2019-01-01 01:00 ┆ 700.0                   ┆ 1   │\n",
      "│ 2019-01-01 02:00 ┆ 700.0                   ┆ 1   │\n",
      "│ 2019-01-01 03:00 ┆ 700.0                   ┆ 1   │\n",
      "│ 2019-01-01 04:00 ┆ 700.0                   ┆ 1   │\n",
      "│ …                ┆ …                       ┆ …   │\n",
      "│ 2024-01-31 19:00 ┆ 1200.0                  ┆ 1   │\n",
      "│ 2024-01-31 20:00 ┆ 1200.0                  ┆ 1   │\n",
      "│ 2024-01-31 21:00 ┆ 1200.0                  ┆ 1   │\n",
      "│ 2024-01-31 22:00 ┆ 1200.0                  ┆ 1   │\n",
      "│ 2024-01-31 23:00 ┆ 1200.0                  ┆ 1   │\n",
      "└──────────────────┴─────────────────────────┴─────┘\n"
     ]
    }
   ],
   "source": [
    "capacity_forecast_ch_at = (\n",
    "    pl.read_csv(\"./Raw Data/crossborder_capacity_forecast_CH_AT.csv\")\n",
    "    .with_columns(pl.col(\"date\").str.to_datetime())\n",
    "    .with_columns(pl.col(\"date\").dt.convert_time_zone(\"Europe/Zurich\"))\n",
    "    .with_columns((pl.col(\"date\").dt.dst_offset() == 0).cast(pl.Int16).alias(\"dst\"))\n",
    "    .with_columns(pl.col(\"date\").dt.strftime(\"%Y-%m-%d %H:%M\"))\n",
    "    .unique(subset=[\"date\", \"dst\"])\n",
    "    .rename({\"crossborder_capacity_forecast_day_ahead_mw\": \"capacity_forecast_ch_at\"})\n",
    "    .sort(\"date\")\n",
    ")\n",
    "\n",
    "capacity_forecast_ch_at.pipe(print)"
   ]
  },
  {
   "cell_type": "code",
   "execution_count": 297,
   "metadata": {},
   "outputs": [
    {
     "name": "stdout",
     "output_type": "stream",
     "text": [
      "shape: (44_563, 3)\n",
      "┌──────────────────┬────────────────────────────┬─────┐\n",
      "│ date             ┆ capacity_forecast_ch_de_lu ┆ dst │\n",
      "│ ---              ┆ ---                        ┆ --- │\n",
      "│ str              ┆ f64                        ┆ i16 │\n",
      "╞══════════════════╪════════════════════════════╪═════╡\n",
      "│ 2019-01-01 00:00 ┆ 4000.0                     ┆ 1   │\n",
      "│ 2019-01-01 01:00 ┆ 4000.0                     ┆ 1   │\n",
      "│ 2019-01-01 02:00 ┆ 4000.0                     ┆ 1   │\n",
      "│ 2019-01-01 03:00 ┆ 4000.0                     ┆ 1   │\n",
      "│ 2019-01-01 04:00 ┆ 4000.0                     ┆ 1   │\n",
      "│ …                ┆ …                          ┆ …   │\n",
      "│ 2024-01-31 19:00 ┆ 4000.0                     ┆ 1   │\n",
      "│ 2024-01-31 20:00 ┆ 4000.0                     ┆ 1   │\n",
      "│ 2024-01-31 21:00 ┆ 4000.0                     ┆ 1   │\n",
      "│ 2024-01-31 22:00 ┆ 4000.0                     ┆ 1   │\n",
      "│ 2024-01-31 23:00 ┆ 4000.0                     ┆ 1   │\n",
      "└──────────────────┴────────────────────────────┴─────┘\n"
     ]
    }
   ],
   "source": [
    "capacity_forecast_ch_de_lu = (\n",
    "    pl.read_csv(\"./Raw Data/crossborder_capacity_forecast_CH_DE_LU.csv\")\n",
    "    .with_columns(pl.col(\"date\").str.to_datetime())\n",
    "    .with_columns(pl.col(\"date\").dt.convert_time_zone(\"Europe/Zurich\"))\n",
    "    .with_columns((pl.col(\"date\").dt.dst_offset() == 0).cast(pl.Int16).alias(\"dst\"))\n",
    "    .with_columns(pl.col(\"date\").dt.strftime(\"%Y-%m-%d %H:%M\"))\n",
    "    .unique(subset=[\"date\", \"dst\"])\n",
    "    .rename({\"crossborder_capacity_forecast_day_ahead_mw\": \"capacity_forecast_ch_de_lu\"})\n",
    "    .sort(\"date\")\n",
    ")\n",
    "\n",
    "capacity_forecast_ch_de_lu.pipe(print)"
   ]
  },
  {
   "cell_type": "code",
   "execution_count": 298,
   "metadata": {},
   "outputs": [
    {
     "name": "stdout",
     "output_type": "stream",
     "text": [
      "shape: (44_563, 3)\n",
      "┌──────────────────┬─────────────────────────┬─────┐\n",
      "│ date             ┆ capacity_forecast_ch_fr ┆ dst │\n",
      "│ ---              ┆ ---                     ┆ --- │\n",
      "│ str              ┆ f64                     ┆ i16 │\n",
      "╞══════════════════╪═════════════════════════╪═════╡\n",
      "│ 2019-01-01 00:00 ┆ 1200.0                  ┆ 1   │\n",
      "│ 2019-01-01 01:00 ┆ 1200.0                  ┆ 1   │\n",
      "│ 2019-01-01 02:00 ┆ 1200.0                  ┆ 1   │\n",
      "│ 2019-01-01 03:00 ┆ 1200.0                  ┆ 1   │\n",
      "│ 2019-01-01 04:00 ┆ 1200.0                  ┆ 1   │\n",
      "│ …                ┆ …                       ┆ …   │\n",
      "│ 2024-01-31 19:00 ┆ 1300.0                  ┆ 1   │\n",
      "│ 2024-01-31 20:00 ┆ 1300.0                  ┆ 1   │\n",
      "│ 2024-01-31 21:00 ┆ 1300.0                  ┆ 1   │\n",
      "│ 2024-01-31 22:00 ┆ 1300.0                  ┆ 1   │\n",
      "│ 2024-01-31 23:00 ┆ 1300.0                  ┆ 1   │\n",
      "└──────────────────┴─────────────────────────┴─────┘\n"
     ]
    }
   ],
   "source": [
    "capacity_forecast_ch_fr = (\n",
    "    pl.read_csv(\"./Raw Data/crossborder_capacity_forecast_CH_FR.csv\")\n",
    "    .with_columns(pl.col(\"date\").str.to_datetime())\n",
    "    .with_columns(pl.col(\"date\").dt.convert_time_zone(\"Europe/Zurich\"))\n",
    "    .with_columns((pl.col(\"date\").dt.dst_offset() == 0).cast(pl.Int16).alias(\"dst\"))\n",
    "    .with_columns(pl.col(\"date\").dt.strftime(\"%Y-%m-%d %H:%M\"))\n",
    "    .unique(subset=[\"date\", \"dst\"])\n",
    "    .rename({\"crossborder_capacity_forecast_day_ahead_mw\": \"capacity_forecast_ch_fr\"})\n",
    "    .sort(\"date\")\n",
    ")\n",
    "\n",
    "capacity_forecast_ch_fr.pipe(print)"
   ]
  },
  {
   "cell_type": "code",
   "execution_count": 299,
   "metadata": {},
   "outputs": [
    {
     "name": "stdout",
     "output_type": "stream",
     "text": [
      "shape: (44_563, 3)\n",
      "┌──────────────────┬─────────────────────────┬─────┐\n",
      "│ date             ┆ capacity_forecast_ch_it ┆ dst │\n",
      "│ ---              ┆ ---                     ┆ --- │\n",
      "│ str              ┆ f64                     ┆ i16 │\n",
      "╞══════════════════╪═════════════════════════╪═════╡\n",
      "│ 2019-01-01 00:00 ┆ 2513.0                  ┆ 1   │\n",
      "│ 2019-01-01 01:00 ┆ 2513.0                  ┆ 1   │\n",
      "│ 2019-01-01 02:00 ┆ 2513.0                  ┆ 1   │\n",
      "│ 2019-01-01 03:00 ┆ 2513.0                  ┆ 1   │\n",
      "│ 2019-01-01 04:00 ┆ 2513.0                  ┆ 1   │\n",
      "│ …                ┆ …                       ┆ …   │\n",
      "│ 2024-01-31 19:00 ┆ 4322.0                  ┆ 1   │\n",
      "│ 2024-01-31 20:00 ┆ 4322.0                  ┆ 1   │\n",
      "│ 2024-01-31 21:00 ┆ 4137.0                  ┆ 1   │\n",
      "│ 2024-01-31 22:00 ┆ 4137.0                  ┆ 1   │\n",
      "│ 2024-01-31 23:00 ┆ 3620.0                  ┆ 1   │\n",
      "└──────────────────┴─────────────────────────┴─────┘\n"
     ]
    }
   ],
   "source": [
    "capacity_forecast_ch_it = (\n",
    "    pl.read_csv(\"./Raw Data/crossborder_capacity_forecast_CH_IT.csv\")\n",
    "    .with_columns(pl.col(\"date\").str.to_datetime())\n",
    "    .with_columns(pl.col(\"date\").dt.convert_time_zone(\"Europe/Zurich\"))\n",
    "    .with_columns((pl.col(\"date\").dt.dst_offset() == 0).cast(pl.Int16).alias(\"dst\"))\n",
    "    .with_columns(pl.col(\"date\").dt.strftime(\"%Y-%m-%d %H:%M\"))\n",
    "    .unique(subset=[\"date\", \"dst\"])\n",
    "    .rename({\"crossborder_capacity_forecast_day_ahead_mw\": \"capacity_forecast_ch_it\"})\n",
    "    .sort(\"date\")\n",
    ")\n",
    "\n",
    "capacity_forecast_ch_it.pipe(print)"
   ]
  },
  {
   "cell_type": "code",
   "execution_count": 300,
   "metadata": {},
   "outputs": [
    {
     "name": "stdout",
     "output_type": "stream",
     "text": [
      "shape: (44_563, 3)\n",
      "┌──────────────────┬────────────────────────────┬─────┐\n",
      "│ date             ┆ capacity_forecast_de_lu_ch ┆ dst │\n",
      "│ ---              ┆ ---                        ┆ --- │\n",
      "│ str              ┆ f64                        ┆ i16 │\n",
      "╞══════════════════╪════════════════════════════╪═════╡\n",
      "│ 2019-01-01 00:00 ┆ 800.0                      ┆ 1   │\n",
      "│ 2019-01-01 01:00 ┆ 800.0                      ┆ 1   │\n",
      "│ 2019-01-01 02:00 ┆ 800.0                      ┆ 1   │\n",
      "│ 2019-01-01 03:00 ┆ 800.0                      ┆ 1   │\n",
      "│ 2019-01-01 04:00 ┆ 800.0                      ┆ 1   │\n",
      "│ …                ┆ …                          ┆ …   │\n",
      "│ 2024-01-31 19:00 ┆ 800.0                      ┆ 1   │\n",
      "│ 2024-01-31 20:00 ┆ 800.0                      ┆ 1   │\n",
      "│ 2024-01-31 21:00 ┆ 800.0                      ┆ 1   │\n",
      "│ 2024-01-31 22:00 ┆ 800.0                      ┆ 1   │\n",
      "│ 2024-01-31 23:00 ┆ 800.0                      ┆ 1   │\n",
      "└──────────────────┴────────────────────────────┴─────┘"
     ]
    },
    {
     "name": "stdout",
     "output_type": "stream",
     "text": [
      "\n"
     ]
    }
   ],
   "source": [
    "capacity_forecast_de_lu_ch = (\n",
    "    pl.read_csv(\"./Raw Data/crossborder_capacity_forecast_DE_LU_CH.csv\")\n",
    "    .with_columns(pl.col(\"date\").str.to_datetime())\n",
    "    .with_columns(pl.col(\"date\").dt.convert_time_zone(\"Europe/Zurich\"))\n",
    "    .with_columns((pl.col(\"date\").dt.dst_offset() == 0).cast(pl.Int16).alias(\"dst\"))\n",
    "    .with_columns(pl.col(\"date\").dt.strftime(\"%Y-%m-%d %H:%M\"))\n",
    "    .unique(subset=[\"date\", \"dst\"])\n",
    "    .rename({\"crossborder_capacity_forecast_day_ahead_mw\": \"capacity_forecast_de_lu_ch\"})\n",
    "    .sort(\"date\")\n",
    ")\n",
    "\n",
    "capacity_forecast_de_lu_ch.pipe(print)"
   ]
  },
  {
   "cell_type": "code",
   "execution_count": 301,
   "metadata": {},
   "outputs": [
    {
     "name": "stdout",
     "output_type": "stream",
     "text": [
      "shape: (44_563, 3)\n",
      "┌──────────────────┬─────────────────────────┬─────┐\n",
      "│ date             ┆ capacity_forecast_FR_CH ┆ dst │\n",
      "│ ---              ┆ ---                     ┆ --- │\n",
      "│ str              ┆ f64                     ┆ i16 │\n",
      "╞══════════════════╪═════════════════════════╪═════╡\n",
      "│ 2019-01-01 00:00 ┆ 3000.0                  ┆ 1   │\n",
      "│ 2019-01-01 01:00 ┆ 3000.0                  ┆ 1   │\n",
      "│ 2019-01-01 02:00 ┆ 3000.0                  ┆ 1   │\n",
      "│ 2019-01-01 03:00 ┆ 3000.0                  ┆ 1   │\n",
      "│ 2019-01-01 04:00 ┆ 3000.0                  ┆ 1   │\n",
      "│ …                ┆ …                       ┆ …   │\n",
      "│ 2024-01-31 19:00 ┆ 3200.0                  ┆ 1   │\n",
      "│ 2024-01-31 20:00 ┆ 3200.0                  ┆ 1   │\n",
      "│ 2024-01-31 21:00 ┆ 3200.0                  ┆ 1   │\n",
      "│ 2024-01-31 22:00 ┆ 3200.0                  ┆ 1   │\n",
      "│ 2024-01-31 23:00 ┆ 3200.0                  ┆ 1   │\n",
      "└──────────────────┴─────────────────────────┴─────┘\n"
     ]
    }
   ],
   "source": [
    "capacity_forecast_fr_ch = (\n",
    "    pl.read_csv(\"./Raw Data/crossborder_capacity_forecast_FR_CH.csv\")\n",
    "    .with_columns(pl.col(\"date\").str.to_datetime())\n",
    "    .with_columns(pl.col(\"date\").dt.convert_time_zone(\"Europe/Zurich\"))\n",
    "    .with_columns((pl.col(\"date\").dt.dst_offset() == 0).cast(pl.Int16).alias(\"dst\"))\n",
    "    .with_columns(pl.col(\"date\").dt.strftime(\"%Y-%m-%d %H:%M\"))\n",
    "    .unique(subset=[\"date\", \"dst\"])\n",
    "    .rename({\"crossborder_capacity_forecast_day_ahead_mw\": \"capacity_forecast_FR_CH\"})\n",
    "    .sort(\"date\")\n",
    ")\n",
    "\n",
    "capacity_forecast_fr_ch.pipe(print)"
   ]
  },
  {
   "cell_type": "code",
   "execution_count": 302,
   "metadata": {},
   "outputs": [
    {
     "name": "stdout",
     "output_type": "stream",
     "text": [
      "shape: (44_563, 3)\n",
      "┌──────────────────┬─────────────────────────┬─────┐\n",
      "│ date             ┆ capacity_forecast_it_ch ┆ dst │\n",
      "│ ---              ┆ ---                     ┆ --- │\n",
      "│ str              ┆ f64                     ┆ i16 │\n",
      "╞══════════════════╪═════════════════════════╪═════╡\n",
      "│ 2019-01-01 00:00 ┆ 1910.0                  ┆ 1   │\n",
      "│ 2019-01-01 01:00 ┆ 1910.0                  ┆ 1   │\n",
      "│ 2019-01-01 02:00 ┆ 1910.0                  ┆ 1   │\n",
      "│ 2019-01-01 03:00 ┆ 1910.0                  ┆ 1   │\n",
      "│ 2019-01-01 04:00 ┆ 1910.0                  ┆ 1   │\n",
      "│ …                ┆ …                       ┆ …   │\n",
      "│ 2024-01-31 19:00 ┆ 1810.0                  ┆ 1   │\n",
      "│ 2024-01-31 20:00 ┆ 1810.0                  ┆ 1   │\n",
      "│ 2024-01-31 21:00 ┆ 1810.0                  ┆ 1   │\n",
      "│ 2024-01-31 22:00 ┆ 1810.0                  ┆ 1   │\n",
      "│ 2024-01-31 23:00 ┆ 1910.0                  ┆ 1   │\n",
      "└──────────────────┴─────────────────────────┴─────┘\n"
     ]
    }
   ],
   "source": [
    "capacity_forecast_it_ch = (\n",
    "    pl.read_csv(\"./Raw Data/crossborder_capacity_forecast_IT_CH.csv\")\n",
    "    .with_columns(pl.col(\"date\").str.to_datetime())\n",
    "    .with_columns(pl.col(\"date\").dt.convert_time_zone(\"Europe/Zurich\"))\n",
    "    .with_columns((pl.col(\"date\").dt.dst_offset() == 0).cast(pl.Int16).alias(\"dst\"))\n",
    "    .with_columns(pl.col(\"date\").dt.strftime(\"%Y-%m-%d %H:%M\"))\n",
    "    .unique(subset=[\"date\", \"dst\"])\n",
    "    .rename({\"crossborder_capacity_forecast_day_ahead_mw\": \"capacity_forecast_it_ch\"})\n",
    "    .sort(\"date\")\n",
    ")\n",
    "\n",
    "capacity_forecast_it_ch.pipe(print)"
   ]
  },
  {
   "cell_type": "markdown",
   "metadata": {},
   "source": [
    "### Joining everything"
   ]
  },
  {
   "cell_type": "code",
   "execution_count": 303,
   "metadata": {},
   "outputs": [
    {
     "data": {
      "text/html": [
       "<div><style>\n",
       ".dataframe > thead > tr,\n",
       ".dataframe > tbody > tr {\n",
       "  text-align: right;\n",
       "  white-space: pre-wrap;\n",
       "}\n",
       "</style>\n",
       "<small>shape: (44_582, 139)</small><table border=\"1\" class=\"dataframe\"><thead><tr><th>date</th><th>dst</th><th>auction_price</th><th>allocatedCapacity</th><th>ATC</th><th>day_ahead_price_at</th><th>day_ahead_price_ch</th><th>day_ahead_price_de</th><th>day_ahead_price_fr</th><th>day_ahead_price_it</th><th>actual_load_at</th><th>actual_load_ch</th><th>actual_load_de</th><th>actual_load_fr</th><th>actual_load_it</th><th>solar_forecast_at</th><th>wind_onshore_forecast_at</th><th>solar_forecast_ch</th><th>wind_onshore_forecast_ch</th><th>solar_forecast_de</th><th>wind_onshore_forecast_de</th><th>wind_offshore_forecast_de</th><th>solar_forecast_fr</th><th>wind_onshore_forecast_fr</th><th>wind_offshore_forecast_fr</th><th>solar_forecast_it</th><th>wind_onshore_forecast_it</th><th>biomass_actual_aggregated_at</th><th>biomass_actual_consumption_at</th><th>fossil_gas_actual_aggregated_at</th><th>fossil_gas_actual_consumption_at</th><th>fossil_hard_coal_actual_aggregated_at</th><th>fossil_hard_coal_actual_consumption_at</th><th>fossil_oil_actual_aggregated_at</th><th>fossil_oil_actual_consumption_at</th><th>geothermal_actual_aggregated_at</th><th>geothermal_actual_consumption_at</th><th>&hellip;</th><th>fossil_gas_actual_aggregated_it</th><th>fossil_hard_coal_actual_aggregated_it</th><th>fossil_hard_coal_actual_consumption_it</th><th>fossil_oil_actual_aggregated_it</th><th>fossil_oil_actual_consumption_it</th><th>geothermal_actual_aggregated_it</th><th>hydro_pumped_storage_actual_aggregated_it</th><th>hydro_pumped_storage_actual_consumption_it</th><th>hydro_run-of-river_and_poundage_actual_aggregated_it</th><th>hydro_water_reservoir_actual_aggregated_it</th><th>other_actual_aggregated_it</th><th>other_actual_consumption_it</th><th>solar_actual_aggregated_it</th><th>solar_actual_consumption_it</th><th>waste_actual_aggregated_it</th><th>wind_offshore_actual_aggregated_it</th><th>wind_onshore_actual_aggregated_it</th><th>hydro_reservoir_storage_at</th><th>hydro_reservoir_storage_ch</th><th>hydro_reservoir_storage_fr</th><th>hydro_reservoir_storage_it</th><th>crossborder_actual_flow_at_ch</th><th>crossborder_actual_flow_ch_at</th><th>crossborder_actual_flow_ch_de_lu</th><th>crossborder_actual_flow_ch_fr</th><th>crossborder_actual_flow_ch_it</th><th>crossborder_actual_flow_de_lu_ch</th><th>crossborder_actual_flow_fr_ch</th><th>crossborder_actual_flow_it_ch</th><th>capacity_forecast_at_ch</th><th>capacity_forecast_ch_at</th><th>capacity_forecast_ch_de_lu</th><th>capacity_forecast_ch_fr</th><th>capacity_forecast_ch_it</th><th>capacity_forecast_de_lu_ch</th><th>capacity_forecast_FR_CH</th><th>capacity_forecast_it_ch</th></tr><tr><td>str</td><td>i16</td><td>f64</td><td>i64</td><td>i64</td><td>f64</td><td>f64</td><td>f64</td><td>f64</td><td>f64</td><td>f64</td><td>f64</td><td>f64</td><td>f64</td><td>f64</td><td>f64</td><td>f64</td><td>f64</td><td>f64</td><td>f64</td><td>f64</td><td>f64</td><td>f64</td><td>f64</td><td>str</td><td>f64</td><td>str</td><td>f64</td><td>f64</td><td>f64</td><td>f64</td><td>f64</td><td>f64</td><td>f64</td><td>f64</td><td>f64</td><td>f64</td><td>&hellip;</td><td>f64</td><td>f64</td><td>f64</td><td>f64</td><td>f64</td><td>f64</td><td>f64</td><td>f64</td><td>f64</td><td>f64</td><td>f64</td><td>f64</td><td>f64</td><td>f64</td><td>f64</td><td>f64</td><td>f64</td><td>f64</td><td>f64</td><td>f64</td><td>f64</td><td>f64</td><td>f64</td><td>f64</td><td>f64</td><td>f64</td><td>f64</td><td>f64</td><td>f64</td><td>f64</td><td>f64</td><td>f64</td><td>f64</td><td>f64</td><td>f64</td><td>f64</td><td>f64</td></tr></thead><tbody><tr><td>&quot;2023-03-06 11:…</td><td>1</td><td>0.01</td><td>4222</td><td>4222</td><td>160.84</td><td>160.97</td><td>160.84</td><td>160.84</td><td>160.84</td><td>8524.75</td><td>8504.0</td><td>66896.5</td><td>68300.0</td><td>39427.0</td><td>376.0</td><td>165.0</td><td>86.0</td><td>0.0</td><td>9417.5</td><td>5918.75</td><td>470.25</td><td>7609.0</td><td>2503.0</td><td>null</td><td>7107.0</td><td>null</td><td>276.0</td><td>0.0</td><td>2323.0</td><td>0.0</td><td>0.0</td><td>0.0</td><td>0.0</td><td>0.0</td><td>0.0</td><td>0.0</td><td>&hellip;</td><td>14617.0</td><td>2957.0</td><td>null</td><td>373.0</td><td>null</td><td>585.0</td><td>205.0</td><td>293.0</td><td>1854.0</td><td>293.0</td><td>2406.0</td><td>null</td><td>6626.0</td><td>null</td><td>27.0</td><td>3.0</td><td>5399.0</td><td>818682.0</td><td>2.245255e6</td><td>1.35172e6</td><td>1.841496e6</td><td>1101.0</td><td>0.0</td><td>553.0</td><td>1596.0</td><td>2030.0</td><td>1016.0</td><td>0.0</td><td>0.0</td><td>900.0</td><td>1200.0</td><td>4000.0</td><td>1200.0</td><td>2582.0</td><td>1400.0</td><td>3200.0</td><td>1810.0</td></tr><tr><td>&quot;2019-07-18 15:…</td><td>0</td><td>0.08</td><td>3005</td><td>3005</td><td>39.72</td><td>39.82</td><td>39.72</td><td>39.72</td><td>50.0</td><td>7803.5</td><td>7908.0</td><td>64492.5</td><td>52212.0</td><td>44676.0</td><td>592.0</td><td>50.0</td><td>245.0</td><td>2.0</td><td>18735.25</td><td>1762.5</td><td>1165.25</td><td>5247.0</td><td>3074.0</td><td>null</td><td>7007.0</td><td>null</td><td>240.0</td><td>0.0</td><td>2191.75</td><td>0.0</td><td>268.25</td><td>0.0</td><td>0.0</td><td>0.0</td><td>0.0</td><td>0.0</td><td>&hellip;</td><td>19083.0</td><td>874.0</td><td>null</td><td>79.0</td><td>null</td><td>658.0</td><td>341.0</td><td>null</td><td>4722.0</td><td>1550.0</td><td>3694.0</td><td>null</td><td>7427.0</td><td>null</td><td>47.0</td><td>null</td><td>884.0</td><td>1.525238e6</td><td>5.059643e6</td><td>2.690219e6</td><td>4.119959e6</td><td>400.0</td><td>0.0</td><td>360.0</td><td>0.0</td><td>2613.0</td><td>196.0</td><td>807.0</td><td>0.0</td><td>786.0</td><td>650.0</td><td>3000.0</td><td>1100.0</td><td>2492.0</td><td>2000.0</td><td>2300.0</td><td>1440.0</td></tr><tr><td>&quot;2019-05-12 22:…</td><td>0</td><td>0.0</td><td>4082</td><td>4085</td><td>41.6</td><td>38.01</td><td>41.92</td><td>42.71</td><td>52.39</td><td>6213.75</td><td>6290.0</td><td>49110.75</td><td>47510.0</td><td>27096.0</td><td>0.0</td><td>2582.0</td><td>0.0</td><td>13.0</td><td>0.0</td><td>13510.75</td><td>2659.25</td><td>0.0</td><td>4701.0</td><td>null</td><td>0.0</td><td>null</td><td>274.0</td><td>0.0</td><td>61.25</td><td>0.0</td><td>0.0</td><td>0.0</td><td>0.0</td><td>0.0</td><td>0.0</td><td>0.0</td><td>&hellip;</td><td>7844.0</td><td>2502.0</td><td>null</td><td>20.0</td><td>null</td><td>660.0</td><td>448.0</td><td>null</td><td>5211.0</td><td>921.0</td><td>2709.0</td><td>null</td><td>0.0</td><td>null</td><td>25.0</td><td>null</td><td>1345.0</td><td>420343.0</td><td>1.415078e6</td><td>1.130279e6</td><td>2.415405e6</td><td>599.0</td><td>0.0</td><td>268.0</td><td>0.0</td><td>1927.0</td><td>1313.0</td><td>655.0</td><td>0.0</td><td>1200.0</td><td>650.0</td><td>4000.0</td><td>1200.0</td><td>1530.0</td><td>1200.0</td><td>2700.0</td><td>1660.0</td></tr><tr><td>&quot;2021-01-06 00:…</td><td>1</td><td>0.0</td><td>4408</td><td>4410</td><td>46.28</td><td>55.23</td><td>44.41</td><td>53.73</td><td>53.73</td><td>6452.5</td><td>7673.0</td><td>53866.5</td><td>72722.0</td><td>24100.0</td><td>0.0</td><td>75.0</td><td>0.0</td><td>0.0</td><td>0.0</td><td>11868.25</td><td>4413.5</td><td>0.0</td><td>2180.0</td><td>null</td><td>0.0</td><td>null</td><td>174.0</td><td>0.0</td><td>1849.25</td><td>0.0</td><td>0.0</td><td>0.0</td><td>0.0</td><td>0.0</td><td>0.0</td><td>0.0</td><td>&hellip;</td><td>11638.0</td><td>1358.0</td><td>null</td><td>82.0</td><td>null</td><td>624.0</td><td>80.0</td><td>441.0</td><td>3028.0</td><td>602.0</td><td>1357.0</td><td>null</td><td>0.0</td><td>null</td><td>30.0</td><td>null</td><td>4177.0</td><td>1.117055e6</td><td>3.816687e6</td><td>2.407326e6</td><td>3.208963e6</td><td>1207.0</td><td>0.0</td><td>328.0</td><td>1179.0</td><td>0.0</td><td>2608.0</td><td>0.0</td><td>54.0</td><td>900.0</td><td>1200.0</td><td>4000.0</td><td>1400.0</td><td>975.0</td><td>1200.0</td><td>3700.0</td><td>1910.0</td></tr><tr><td>&quot;2021-04-13 19:…</td><td>0</td><td>0.03</td><td>4101</td><td>4103</td><td>79.41</td><td>85.7</td><td>77.26</td><td>85.85</td><td>85.85</td><td>8585.25</td><td>7926.0</td><td>67159.75</td><td>58127.0</td><td>37897.0</td><td>12.0</td><td>2800.0</td><td>15.0</td><td>0.0</td><td>1312.0</td><td>11069.25</td><td>3107.5</td><td>3512.0</td><td>2433.0</td><td>null</td><td>196.0</td><td>null</td><td>168.0</td><td>0.0</td><td>2095.0</td><td>0.0</td><td>0.0</td><td>0.0</td><td>0.0</td><td>0.0</td><td>0.0</td><td>0.0</td><td>&hellip;</td><td>17667.0</td><td>1432.0</td><td>null</td><td>32.0</td><td>null</td><td>627.0</td><td>743.0</td><td>null</td><td>5470.0</td><td>1268.0</td><td>2570.0</td><td>null</td><td>147.0</td><td>null</td><td>38.0</td><td>null</td><td>3494.0</td><td>275505.0</td><td>544032.0</td><td>917246.0</td><td>2.138508e6</td><td>205.0</td><td>0.0</td><td>298.0</td><td>21.0</td><td>1312.0</td><td>1516.0</td><td>0.0</td><td>0.0</td><td>150.0</td><td>150.0</td><td>4000.0</td><td>1200.0</td><td>2953.0</td><td>1200.0</td><td>2385.0</td><td>1810.0</td></tr><tr><td>&hellip;</td><td>&hellip;</td><td>&hellip;</td><td>&hellip;</td><td>&hellip;</td><td>&hellip;</td><td>&hellip;</td><td>&hellip;</td><td>&hellip;</td><td>&hellip;</td><td>&hellip;</td><td>&hellip;</td><td>&hellip;</td><td>&hellip;</td><td>&hellip;</td><td>&hellip;</td><td>&hellip;</td><td>&hellip;</td><td>&hellip;</td><td>&hellip;</td><td>&hellip;</td><td>&hellip;</td><td>&hellip;</td><td>&hellip;</td><td>&hellip;</td><td>&hellip;</td><td>&hellip;</td><td>&hellip;</td><td>&hellip;</td><td>&hellip;</td><td>&hellip;</td><td>&hellip;</td><td>&hellip;</td><td>&hellip;</td><td>&hellip;</td><td>&hellip;</td><td>&hellip;</td><td>&hellip;</td><td>&hellip;</td><td>&hellip;</td><td>&hellip;</td><td>&hellip;</td><td>&hellip;</td><td>&hellip;</td><td>&hellip;</td><td>&hellip;</td><td>&hellip;</td><td>&hellip;</td><td>&hellip;</td><td>&hellip;</td><td>&hellip;</td><td>&hellip;</td><td>&hellip;</td><td>&hellip;</td><td>&hellip;</td><td>&hellip;</td><td>&hellip;</td><td>&hellip;</td><td>&hellip;</td><td>&hellip;</td><td>&hellip;</td><td>&hellip;</td><td>&hellip;</td><td>&hellip;</td><td>&hellip;</td><td>&hellip;</td><td>&hellip;</td><td>&hellip;</td><td>&hellip;</td><td>&hellip;</td><td>&hellip;</td><td>&hellip;</td><td>&hellip;</td><td>&hellip;</td><td>&hellip;</td></tr><tr><td>&quot;2019-09-23 13:…</td><td>0</td><td>0.03</td><td>3139</td><td>3140</td><td>49.97</td><td>48.79</td><td>48.27</td><td>45.77</td><td>60.0</td><td>8612.0</td><td>7687.0</td><td>68279.5</td><td>50764.0</td><td>39887.0</td><td>432.0</td><td>98.0</td><td>155.0</td><td>9.0</td><td>10112.5</td><td>5540.75</td><td>1228.75</td><td>4627.0</td><td>2539.0</td><td>null</td><td>5450.0</td><td>null</td><td>220.0</td><td>0.0</td><td>2232.25</td><td>0.0</td><td>150.75</td><td>0.0</td><td>0.0</td><td>0.0</td><td>0.0</td><td>0.0</td><td>&hellip;</td><td>13647.0</td><td>1760.0</td><td>null</td><td>90.0</td><td>null</td><td>645.0</td><td>417.0</td><td>null</td><td>3571.0</td><td>1084.0</td><td>3520.0</td><td>null</td><td>5357.0</td><td>null</td><td>39.0</td><td>null</td><td>3987.0</td><td>1.850987e6</td><td>6.196739e6</td><td>2.650572e6</td><td>3.496676e6</td><td>0.0</td><td>639.0</td><td>290.0</td><td>0.0</td><td>2637.0</td><td>635.0</td><td>1379.0</td><td>0.0</td><td>942.0</td><td>600.0</td><td>3000.0</td><td>700.0</td><td>2906.0</td><td>1800.0</td><td>2294.0</td><td>1440.0</td></tr><tr><td>&quot;2019-05-25 05:…</td><td>0</td><td>0.05</td><td>4035</td><td>4035</td><td>33.09</td><td>33.62</td><td>33.09</td><td>33.09</td><td>40.0</td><td>5160.5</td><td>5743.0</td><td>41676.75</td><td>35681.0</td><td>23047.0</td><td>43.0</td><td>165.0</td><td>0.0</td><td>1.0</td><td>185.0</td><td>4780.75</td><td>1689.75</td><td>0.0</td><td>1914.0</td><td>null</td><td>0.0</td><td>null</td><td>260.0</td><td>0.0</td><td>16.0</td><td>0.0</td><td>0.0</td><td>0.0</td><td>0.0</td><td>0.0</td><td>0.0</td><td>0.0</td><td>&hellip;</td><td>6917.0</td><td>2074.0</td><td>null</td><td>158.0</td><td>null</td><td>665.0</td><td>65.0</td><td>79.0</td><td>4578.0</td><td>668.0</td><td>2011.0</td><td>null</td><td>4.0</td><td>null</td><td>23.0</td><td>null</td><td>455.0</td><td>425504.0</td><td>1.309645e6</td><td>1.324928e6</td><td>2.59274e6</td><td>158.0</td><td>0.0</td><td>760.0</td><td>0.0</td><td>1815.0</td><td>389.0</td><td>1856.0</td><td>0.0</td><td>680.0</td><td>650.0</td><td>4000.0</td><td>1200.0</td><td>2130.0</td><td>1756.0</td><td>2500.0</td><td>1660.0</td></tr><tr><td>&quot;2021-05-14 15:…</td><td>0</td><td>0.05</td><td>3412</td><td>3413</td><td>60.0</td><td>54.04</td><td>60.0</td><td>60.0</td><td>75.05</td><td>6794.5</td><td>6579.0</td><td>55697.75</td><td>45276.0</td><td>36256.0</td><td>513.0</td><td>384.0</td><td>137.0</td><td>0.0</td><td>18778.5</td><td>5847.5</td><td>623.25</td><td>6100.0</td><td>4230.0</td><td>null</td><td>5674.0</td><td>null</td><td>172.0</td><td>0.0</td><td>430.5</td><td>0.0</td><td>0.0</td><td>0.0</td><td>0.0</td><td>0.0</td><td>0.0</td><td>0.0</td><td>&hellip;</td><td>8483.0</td><td>959.0</td><td>null</td><td>20.0</td><td>null</td><td>607.0</td><td>2040.0</td><td>151.0</td><td>5354.0</td><td>820.0</td><td>2422.0</td><td>null</td><td>4138.0</td><td>null</td><td>35.0</td><td>null</td><td>3770.0</td><td>354573.0</td><td>593045.0</td><td>1.231647e6</td><td>2.369558e6</td><td>343.0</td><td>0.0</td><td>50.0</td><td>0.0</td><td>2160.0</td><td>46.0</td><td>1823.0</td><td>0.0</td><td>200.0</td><td>450.0</td><td>4000.0</td><td>1100.0</td><td>1468.0</td><td>1800.0</td><td>2900.0</td><td>1440.0</td></tr><tr><td>&quot;2023-04-09 10:…</td><td>0</td><td>0.0</td><td>4213</td><td>4223</td><td>100.0</td><td>94.54</td><td>100.0</td><td>100.0</td><td>139.31</td><td>6345.0</td><td>6874.0</td><td>41927.0</td><td>45739.0</td><td>23182.0</td><td>662.0</td><td>201.0</td><td>55.0</td><td>0.0</td><td>23105.25</td><td>559.5</td><td>495.5</td><td>6301.0</td><td>1473.0</td><td>null</td><td>6792.0</td><td>null</td><td>180.0</td><td>0.0</td><td>969.5</td><td>0.0</td><td>0.0</td><td>0.0</td><td>0.0</td><td>0.0</td><td>0.0</td><td>0.0</td><td>&hellip;</td><td>7433.0</td><td>121.0</td><td>null</td><td>29.0</td><td>null</td><td>615.0</td><td>4.0</td><td>104.0</td><td>1171.0</td><td>29.0</td><td>1170.0</td><td>null</td><td>7904.0</td><td>null</td><td>328.0</td><td>0.0</td><td>2098.0</td><td>592454.0</td><td>1.842572e6</td><td>1.512237e6</td><td>1.97461e6</td><td>364.0</td><td>0.0</td><td>374.0</td><td>0.0</td><td>0.0</td><td>894.0</td><td>67.0</td><td>818.0</td><td>600.0</td><td>1200.0</td><td>4000.0</td><td>1200.0</td><td>1479.0</td><td>2000.0</td><td>2385.0</td><td>1910.0</td></tr><tr><td>&quot;2019-03-23 17:…</td><td>1</td><td>0.0</td><td>4018</td><td>4028</td><td>37.0</td><td>35.79</td><td>37.0</td><td>35.16</td><td>44.09</td><td>6830.0</td><td>6807.0</td><td>53793.25</td><td>45564.0</td><td>29630.0</td><td>120.0</td><td>90.0</td><td>56.0</td><td>1.0</td><td>2401.25</td><td>8579.5</td><td>1863.5</td><td>1907.0</td><td>1895.0</td><td>null</td><td>1433.0</td><td>null</td><td>309.0</td><td>0.0</td><td>474.25</td><td>0.0</td><td>135.25</td><td>0.0</td><td>0.0</td><td>0.0</td><td>0.0</td><td>0.0</td><td>&hellip;</td><td>9913.0</td><td>2120.0</td><td>null</td><td>22.0</td><td>null</td><td>660.0</td><td>512.0</td><td>null</td><td>2054.0</td><td>364.0</td><td>3341.0</td><td>null</td><td>1290.0</td><td>null</td><td>46.0</td><td>null</td><td>1750.0</td><td>651259.0</td><td>2.154299e6</td><td>1.13505e6</td><td>2.223185e6</td><td>950.0</td><td>0.0</td><td>378.0</td><td>0.0</td><td>3593.0</td><td>2368.0</td><td>1617.0</td><td>0.0</td><td>1136.0</td><td>650.0</td><td>4000.0</td><td>1200.0</td><td>3294.0</td><td>1800.0</td><td>3000.0</td><td>1810.0</td></tr></tbody></table></div>"
      ],
      "text/plain": [
       "shape: (44_582, 139)\n",
       "┌────────────┬─────┬────────────┬────────────┬───┬────────────┬────────────┬───────────┬───────────┐\n",
       "│ date       ┆ dst ┆ auction_pr ┆ allocatedC ┆ … ┆ capacity_f ┆ capacity_f ┆ capacity_ ┆ capacity_ │\n",
       "│ ---        ┆ --- ┆ ice        ┆ apacity    ┆   ┆ orecast_ch ┆ orecast_de ┆ forecast_ ┆ forecast_ │\n",
       "│ str        ┆ i16 ┆ ---        ┆ ---        ┆   ┆ _it        ┆ _lu_ch     ┆ FR_CH     ┆ it_ch     │\n",
       "│            ┆     ┆ f64        ┆ i64        ┆   ┆ ---        ┆ ---        ┆ ---       ┆ ---       │\n",
       "│            ┆     ┆            ┆            ┆   ┆ f64        ┆ f64        ┆ f64       ┆ f64       │\n",
       "╞════════════╪═════╪════════════╪════════════╪═══╪════════════╪════════════╪═══════════╪═══════════╡\n",
       "│ 2023-03-06 ┆ 1   ┆ 0.01       ┆ 4222       ┆ … ┆ 2582.0     ┆ 1400.0     ┆ 3200.0    ┆ 1810.0    │\n",
       "│ 11:00      ┆     ┆            ┆            ┆   ┆            ┆            ┆           ┆           │\n",
       "│ 2019-07-18 ┆ 0   ┆ 0.08       ┆ 3005       ┆ … ┆ 2492.0     ┆ 2000.0     ┆ 2300.0    ┆ 1440.0    │\n",
       "│ 15:00      ┆     ┆            ┆            ┆   ┆            ┆            ┆           ┆           │\n",
       "│ 2019-05-12 ┆ 0   ┆ 0.0        ┆ 4082       ┆ … ┆ 1530.0     ┆ 1200.0     ┆ 2700.0    ┆ 1660.0    │\n",
       "│ 22:00      ┆     ┆            ┆            ┆   ┆            ┆            ┆           ┆           │\n",
       "│ 2021-01-06 ┆ 1   ┆ 0.0        ┆ 4408       ┆ … ┆ 975.0      ┆ 1200.0     ┆ 3700.0    ┆ 1910.0    │\n",
       "│ 00:00      ┆     ┆            ┆            ┆   ┆            ┆            ┆           ┆           │\n",
       "│ 2021-04-13 ┆ 0   ┆ 0.03       ┆ 4101       ┆ … ┆ 2953.0     ┆ 1200.0     ┆ 2385.0    ┆ 1810.0    │\n",
       "│ 19:00      ┆     ┆            ┆            ┆   ┆            ┆            ┆           ┆           │\n",
       "│ …          ┆ …   ┆ …          ┆ …          ┆ … ┆ …          ┆ …          ┆ …         ┆ …         │\n",
       "│ 2019-09-23 ┆ 0   ┆ 0.03       ┆ 3139       ┆ … ┆ 2906.0     ┆ 1800.0     ┆ 2294.0    ┆ 1440.0    │\n",
       "│ 13:00      ┆     ┆            ┆            ┆   ┆            ┆            ┆           ┆           │\n",
       "│ 2019-05-25 ┆ 0   ┆ 0.05       ┆ 4035       ┆ … ┆ 2130.0     ┆ 1756.0     ┆ 2500.0    ┆ 1660.0    │\n",
       "│ 05:00      ┆     ┆            ┆            ┆   ┆            ┆            ┆           ┆           │\n",
       "│ 2021-05-14 ┆ 0   ┆ 0.05       ┆ 3412       ┆ … ┆ 1468.0     ┆ 1800.0     ┆ 2900.0    ┆ 1440.0    │\n",
       "│ 15:00      ┆     ┆            ┆            ┆   ┆            ┆            ┆           ┆           │\n",
       "│ 2023-04-09 ┆ 0   ┆ 0.0        ┆ 4213       ┆ … ┆ 1479.0     ┆ 2000.0     ┆ 2385.0    ┆ 1910.0    │\n",
       "│ 10:00      ┆     ┆            ┆            ┆   ┆            ┆            ┆           ┆           │\n",
       "│ 2019-03-23 ┆ 1   ┆ 0.0        ┆ 4018       ┆ … ┆ 3294.0     ┆ 1800.0     ┆ 3000.0    ┆ 1810.0    │\n",
       "│ 17:00      ┆     ┆            ┆            ┆   ┆            ┆            ┆           ┆           │\n",
       "└────────────┴─────┴────────────┴────────────┴───┴────────────┴────────────┴───────────┴───────────┘"
      ]
     },
     "execution_count": 303,
     "metadata": {},
     "output_type": "execute_result"
    }
   ],
   "source": [
    "df_final = (\n",
    "    jao_chde.drop(\"day\")\n",
    "    .with_columns(\n",
    "        pl.col(\"date\")\n",
    "        .str.to_datetime()\n",
    "        .dt.truncate(\"1w\")\n",
    "        .dt.date()\n",
    "        .dt.strftime(\"%Y-%m-%d\")\n",
    "        .alias(\"week_start\")\n",
    "    )\n",
    "    .select([\"date\", \"week_start\", \"dst\", \"auction_price\", \"allocatedCapacity\", \"ATC\"])\n",
    "    # Day Ahead Prices\n",
    "    .join(da_at, how=\"left\", on=[\"date\", \"dst\"])\n",
    "    .join(da_ch, how=\"left\", on=[\"date\", \"dst\"])\n",
    "    .join(da_delu, how=\"left\", on=[\"date\", \"dst\"])\n",
    "    .join(da_fr, how=\"left\", on=[\"date\", \"dst\"])\n",
    "    .join(da_it, how=\"left\", on=[\"date\", \"dst\"])\n",
    "    # Actual Load\n",
    "    .join(load_at, how=\"left\", on=[\"date\", \"dst\"])\n",
    "    .join(load_ch, how=\"left\", on=[\"date\", \"dst\"])\n",
    "    .join(load_de, how=\"left\", on=[\"date\", \"dst\"])\n",
    "    .join(load_fr, how=\"left\", on=[\"date\", \"dst\"])\n",
    "    .join(load_it, how=\"left\", on=[\"date\", \"dst\"])\n",
    "    # Forecast Wind and Solar\n",
    "    .join(wind_solar_forecast_at, how=\"left\", on=[\"date\", \"dst\"])\n",
    "    .join(wind_solar_forecast_ch, how=\"left\", on=[\"date\", \"dst\"])\n",
    "    .join(wind_solar_forecast_de, how=\"left\", on=[\"date\", \"dst\"])\n",
    "    .join(wind_solar_forecast_fr, how=\"left\", on=[\"date\", \"dst\"])\n",
    "    .join(wind_solar_forecast_it, how=\"left\", on=[\"date\", \"dst\"])\n",
    "    # Actual Generation All Types\n",
    "    .join(generation_at, how=\"left\", on=[\"date\", \"dst\"])\n",
    "    .join(generation_ch, how=\"left\", on=[\"date\", \"dst\"])\n",
    "    .join(generation_de, how=\"left\", on=[\"date\", \"dst\"])\n",
    "    .join(generation_fr, how=\"left\", on=[\"date\", \"dst\"])\n",
    "    .join(generation_it, how=\"left\", on=[\"date\", \"dst\"])\n",
    "    # Hydro Reservoir Storage\n",
    "    .join(hydro_storage_at, how=\"left\", on=[\"week_start\"])\n",
    "    .join(hydro_storage_ch, how=\"left\", on=[\"week_start\"])\n",
    "    .join(hydro_storage_fr, how=\"left\", on=[\"week_start\"])\n",
    "    .join(hydro_storage_it, how=\"left\", on=[\"week_start\"])\n",
    "    # Cross Border Physical Flow\n",
    "    .join(flow_at_ch, how=\"left\", on=[\"date\", \"dst\"])\n",
    "    .join(flow_ch_at, how=\"left\", on=[\"date\", \"dst\"])\n",
    "    .join(flow_ch_de_lu, how=\"left\", on=[\"date\", \"dst\"])\n",
    "    .join(flow_ch_fr, how=\"left\", on=[\"date\", \"dst\"])\n",
    "    .join(flow_ch_it, how=\"left\", on=[\"date\", \"dst\"])\n",
    "    .join(flow_de_lu_ch, how=\"left\", on=[\"date\", \"dst\"])\n",
    "    .join(flow_fr_ch, how=\"left\", on=[\"date\", \"dst\"])\n",
    "    .join(flow_it_ch, how=\"left\", on=[\"date\", \"dst\"])\n",
    "    # Cross Border Capacities Forecast\n",
    "    .join(capacity_forecast_at_ch, how=\"left\", on=[\"date\", \"dst\"])\n",
    "    .join(capacity_forecast_ch_at, how=\"left\", on=[\"date\", \"dst\"])\n",
    "    .join(capacity_forecast_ch_de_lu, how=\"left\", on=[\"date\", \"dst\"])\n",
    "    .join(capacity_forecast_ch_fr, how=\"left\", on=[\"date\", \"dst\"])\n",
    "    .join(capacity_forecast_ch_it, how=\"left\", on=[\"date\", \"dst\"])\n",
    "    .join(capacity_forecast_de_lu_ch, how=\"left\", on=[\"date\", \"dst\"])\n",
    "    .join(capacity_forecast_fr_ch, how=\"left\", on=[\"date\", \"dst\"])\n",
    "    .join(capacity_forecast_it_ch, how=\"left\", on=[\"date\", \"dst\"])\n",
    "    # Drop\n",
    "    .drop([\"week_start\"])\n",
    ")\n",
    "\n",
    "df_final"
   ]
  },
  {
   "cell_type": "code",
   "execution_count": 304,
   "metadata": {},
   "outputs": [],
   "source": [
    "df_final.to_pandas().to_csv(\"0_df_final_ch-de.csv\", index=False)"
   ]
  },
  {
   "cell_type": "code",
   "execution_count": 305,
   "metadata": {},
   "outputs": [
    {
     "data": {
      "text/html": [
       "<div><style>\n",
       ".dataframe > thead > tr,\n",
       ".dataframe > tbody > tr {\n",
       "  text-align: right;\n",
       "  white-space: pre-wrap;\n",
       "}\n",
       "</style>\n",
       "<small>shape: (44_582, 139)</small><table border=\"1\" class=\"dataframe\"><thead><tr><th>date</th><th>dst</th><th>auction_price</th><th>allocatedCapacity</th><th>ATC</th><th>day_ahead_price_at</th><th>day_ahead_price_ch</th><th>day_ahead_price_de</th><th>day_ahead_price_fr</th><th>day_ahead_price_it</th><th>actual_load_at</th><th>actual_load_ch</th><th>actual_load_de</th><th>actual_load_fr</th><th>actual_load_it</th><th>solar_forecast_at</th><th>wind_onshore_forecast_at</th><th>solar_forecast_ch</th><th>wind_onshore_forecast_ch</th><th>solar_forecast_de</th><th>wind_onshore_forecast_de</th><th>wind_offshore_forecast_de</th><th>solar_forecast_fr</th><th>wind_onshore_forecast_fr</th><th>wind_offshore_forecast_fr</th><th>solar_forecast_it</th><th>wind_onshore_forecast_it</th><th>biomass_actual_aggregated_at</th><th>biomass_actual_consumption_at</th><th>fossil_gas_actual_aggregated_at</th><th>fossil_gas_actual_consumption_at</th><th>fossil_hard_coal_actual_aggregated_at</th><th>fossil_hard_coal_actual_consumption_at</th><th>fossil_oil_actual_aggregated_at</th><th>fossil_oil_actual_consumption_at</th><th>geothermal_actual_aggregated_at</th><th>geothermal_actual_consumption_at</th><th>&hellip;</th><th>fossil_gas_actual_aggregated_it</th><th>fossil_hard_coal_actual_aggregated_it</th><th>fossil_hard_coal_actual_consumption_it</th><th>fossil_oil_actual_aggregated_it</th><th>fossil_oil_actual_consumption_it</th><th>geothermal_actual_aggregated_it</th><th>hydro_pumped_storage_actual_aggregated_it</th><th>hydro_pumped_storage_actual_consumption_it</th><th>hydro_run-of-river_and_poundage_actual_aggregated_it</th><th>hydro_water_reservoir_actual_aggregated_it</th><th>other_actual_aggregated_it</th><th>other_actual_consumption_it</th><th>solar_actual_aggregated_it</th><th>solar_actual_consumption_it</th><th>waste_actual_aggregated_it</th><th>wind_offshore_actual_aggregated_it</th><th>wind_onshore_actual_aggregated_it</th><th>hydro_reservoir_storage_at</th><th>hydro_reservoir_storage_ch</th><th>hydro_reservoir_storage_fr</th><th>hydro_reservoir_storage_it</th><th>crossborder_actual_flow_at_ch</th><th>crossborder_actual_flow_ch_at</th><th>crossborder_actual_flow_ch_de_lu</th><th>crossborder_actual_flow_ch_fr</th><th>crossborder_actual_flow_ch_it</th><th>crossborder_actual_flow_de_lu_ch</th><th>crossborder_actual_flow_fr_ch</th><th>crossborder_actual_flow_it_ch</th><th>capacity_forecast_at_ch</th><th>capacity_forecast_ch_at</th><th>capacity_forecast_ch_de_lu</th><th>capacity_forecast_ch_fr</th><th>capacity_forecast_ch_it</th><th>capacity_forecast_de_lu_ch</th><th>capacity_forecast_FR_CH</th><th>capacity_forecast_it_ch</th></tr><tr><td>str</td><td>i16</td><td>f64</td><td>f64</td><td>f64</td><td>f64</td><td>f64</td><td>f64</td><td>f64</td><td>f64</td><td>f64</td><td>f64</td><td>f64</td><td>f64</td><td>f64</td><td>f64</td><td>f64</td><td>f64</td><td>f64</td><td>f64</td><td>f64</td><td>f64</td><td>f64</td><td>f64</td><td>str</td><td>f64</td><td>str</td><td>f64</td><td>f64</td><td>f64</td><td>f64</td><td>f64</td><td>f64</td><td>f64</td><td>f64</td><td>f64</td><td>f64</td><td>&hellip;</td><td>f64</td><td>f64</td><td>f64</td><td>f64</td><td>f64</td><td>f64</td><td>f64</td><td>f64</td><td>f64</td><td>f64</td><td>f64</td><td>f64</td><td>f64</td><td>f64</td><td>f64</td><td>f64</td><td>f64</td><td>f64</td><td>f64</td><td>f64</td><td>f64</td><td>f64</td><td>f64</td><td>f64</td><td>f64</td><td>f64</td><td>f64</td><td>f64</td><td>f64</td><td>f64</td><td>f64</td><td>f64</td><td>f64</td><td>f64</td><td>f64</td><td>f64</td><td>f64</td></tr></thead><tbody><tr><td>&quot;2020-01-30 13:…</td><td>1</td><td>5.86</td><td>539.0</td><td>539.0</td><td>42.98</td><td>44.05</td><td>39.79</td><td>40.08</td><td>42.1</td><td>9180.25</td><td>8859.0</td><td>74548.5</td><td>70738.0</td><td>39504.0</td><td>343.0</td><td>1062.0</td><td>74.0</td><td>0.0</td><td>6491.25</td><td>27775.25</td><td>5498.0</td><td>2211.0</td><td>9147.0</td><td>null</td><td>null</td><td>null</td><td>208.0</td><td>0.0</td><td>3642.5</td><td>0.0</td><td>149.75</td><td>0.0</td><td>0.0</td><td>0.0</td><td>0.0</td><td>0.0</td><td>&hellip;</td><td>18661.0</td><td>1524.0</td><td>null</td><td>116.0</td><td>null</td><td>636.0</td><td>73.0</td><td>1.0</td><td>2403.0</td><td>503.0</td><td>2836.0</td><td>null</td><td>6829.0</td><td>null</td><td>35.0</td><td>null</td><td>1010.0</td><td>1.156977e6</td><td>3.522049e6</td><td>2.194236e6</td><td>2.761989e6</td><td>695.0</td><td>0.0</td><td>397.0</td><td>0.0</td><td>2639.0</td><td>3022.0</td><td>1509.0</td><td>0.0</td><td>1200.0</td><td>600.0</td><td>4000.0</td><td>1200.0</td><td>3975.0</td><td>800.0</td><td>3200.0</td><td>1810.0</td></tr><tr><td>&quot;2021-12-06 20:…</td><td>1</td><td>39.76</td><td>377.0</td><td>377.0</td><td>237.22</td><td>291.19</td><td>225.8</td><td>273.61</td><td>273.61</td><td>8851.0</td><td>9201.0</td><td>70598.25</td><td>72236.0</td><td>42279.0</td><td>0.0</td><td>1449.0</td><td>0.0</td><td>0.0</td><td>0.0</td><td>11901.5</td><td>5789.75</td><td>0.0</td><td>8327.0</td><td>null</td><td>0.0</td><td>null</td><td>136.0</td><td>0.0</td><td>3606.25</td><td>0.0</td><td>0.0</td><td>0.0</td><td>0.0</td><td>0.0</td><td>0.0</td><td>0.0</td><td>&hellip;</td><td>22455.0</td><td>1852.0</td><td>null</td><td>207.0</td><td>null</td><td>640.0</td><td>376.0</td><td>null</td><td>3346.0</td><td>738.0</td><td>2673.0</td><td>null</td><td>0.0</td><td>null</td><td>41.0</td><td>null</td><td>6222.0</td><td>1.402617e6</td><td>3.851389e6</td><td>2.059628e6</td><td>2.83142e6</td><td>40.0</td><td>0.0</td><td>0.0</td><td>0.0</td><td>833.0</td><td>2255.0</td><td>999.0</td><td>0.0</td><td>900.0</td><td>900.0</td><td>4000.0</td><td>1350.0</td><td>3701.0</td><td>800.0</td><td>3200.0</td><td>1810.0</td></tr><tr><td>&quot;2021-12-22 09:…</td><td>1</td><td>1.97</td><td>1692.0</td><td>1692.0</td><td>517.5</td><td>506.23</td><td>506.93</td><td>555.0</td><td>555.0</td><td>10083.0</td><td>9403.0</td><td>69780.25</td><td>82404.0</td><td>44695.0</td><td>140.0</td><td>68.0</td><td>16.0</td><td>0.0</td><td>3888.25</td><td>4041.25</td><td>1174.0</td><td>212.0</td><td>3092.0</td><td>null</td><td>1826.0</td><td>null</td><td>152.0</td><td>0.0</td><td>2511.5</td><td>0.0</td><td>0.0</td><td>0.0</td><td>0.0</td><td>0.0</td><td>0.0</td><td>0.0</td><td>&hellip;</td><td>26838.0</td><td>3070.0</td><td>null</td><td>445.0</td><td>null</td><td>640.0</td><td>1123.0</td><td>null</td><td>4640.0</td><td>973.0</td><td>2276.0</td><td>null</td><td>1463.0</td><td>null</td><td>36.0</td><td>null</td><td>182.0</td><td>1.274576e6</td><td>3.393697e6</td><td>1.92819e6</td><td>2.807977e6</td><td>629.0</td><td>0.0</td><td>679.0</td><td>2672.0</td><td>1822.0</td><td>2035.0</td><td>0.0</td><td>0.0</td><td>1200.0</td><td>1200.0</td><td>4000.0</td><td>1400.0</td><td>3510.0</td><td>2000.0</td><td>3200.0</td><td>1810.0</td></tr><tr><td>&quot;2023-03-28 06:…</td><td>0</td><td>9.48</td><td>493.0</td><td>493.0</td><td>129.92</td><td>137.07</td><td>130.05</td><td>130.0</td><td>132.8</td><td>8070.75</td><td>7514.0</td><td>59108.75</td><td>55786.0</td><td>30309.0</td><td>6.0</td><td>2620.0</td><td>1.0</td><td>0.0</td><td>1.5</td><td>15587.5</td><td>2358.0</td><td>0.0</td><td>4318.0</td><td>null</td><td>0.0</td><td>null</td><td>227.0</td><td>0.0</td><td>914.25</td><td>0.0</td><td>0.0</td><td>0.0</td><td>0.0</td><td>0.0</td><td>0.0</td><td>0.0</td><td>&hellip;</td><td>10086.0</td><td>2629.0</td><td>null</td><td>521.0</td><td>null</td><td>616.0</td><td>140.0</td><td>147.0</td><td>1537.0</td><td>198.0</td><td>2201.0</td><td>null</td><td>5.0</td><td>1.0</td><td>43.0</td><td>21.0</td><td>5948.0</td><td>641040.0</td><td>1.943866e6</td><td>1.508365e6</td><td>1.935619e6</td><td>1677.0</td><td>0.0</td><td>325.0</td><td>893.0</td><td>1943.0</td><td>1549.0</td><td>0.0</td><td>0.0</td><td>600.0</td><td>1200.0</td><td>4000.0</td><td>1200.0</td><td>2185.0</td><td>800.0</td><td>2385.0</td><td>1910.0</td></tr><tr><td>&quot;2023-09-14 01:…</td><td>0</td><td>0.21</td><td>1878.0</td><td>1878.0</td><td>94.65</td><td>98.94</td><td>94.88</td><td>93.21</td><td>105.0</td><td>5168.75</td><td>4942.0</td><td>43556.75</td><td>40410.0</td><td>27371.0</td><td>0.0</td><td>1062.0</td><td>0.0</td><td>0.0</td><td>0.0</td><td>4377.5</td><td>590.75</td><td>0.0</td><td>1504.0</td><td>null</td><td>0.0</td><td>null</td><td>176.0</td><td>0.0</td><td>441.75</td><td>0.0</td><td>0.0</td><td>0.0</td><td>0.0</td><td>0.0</td><td>0.0</td><td>0.0</td><td>&hellip;</td><td>11857.0</td><td>1068.0</td><td>null</td><td>15.0</td><td>null</td><td>604.0</td><td>195.0</td><td>151.0</td><td>2993.0</td><td>431.0</td><td>2017.0</td><td>null</td><td>0.0</td><td>null</td><td>298.0</td><td>0.0</td><td>1558.0</td><td>1.901084e6</td><td>4.808295e6</td><td>2.818485e6</td><td>3.365511e6</td><td>81.0</td><td>0.0</td><td>496.0</td><td>0.0</td><td>1583.0</td><td>217.0</td><td>1187.0</td><td>0.0</td><td>400.0</td><td>1200.0</td><td>4000.0</td><td>1100.0</td><td>2591.0</td><td>1450.0</td><td>2227.0</td><td>1660.0</td></tr><tr><td>&hellip;</td><td>&hellip;</td><td>&hellip;</td><td>&hellip;</td><td>&hellip;</td><td>&hellip;</td><td>&hellip;</td><td>&hellip;</td><td>&hellip;</td><td>&hellip;</td><td>&hellip;</td><td>&hellip;</td><td>&hellip;</td><td>&hellip;</td><td>&hellip;</td><td>&hellip;</td><td>&hellip;</td><td>&hellip;</td><td>&hellip;</td><td>&hellip;</td><td>&hellip;</td><td>&hellip;</td><td>&hellip;</td><td>&hellip;</td><td>&hellip;</td><td>&hellip;</td><td>&hellip;</td><td>&hellip;</td><td>&hellip;</td><td>&hellip;</td><td>&hellip;</td><td>&hellip;</td><td>&hellip;</td><td>&hellip;</td><td>&hellip;</td><td>&hellip;</td><td>&hellip;</td><td>&hellip;</td><td>&hellip;</td><td>&hellip;</td><td>&hellip;</td><td>&hellip;</td><td>&hellip;</td><td>&hellip;</td><td>&hellip;</td><td>&hellip;</td><td>&hellip;</td><td>&hellip;</td><td>&hellip;</td><td>&hellip;</td><td>&hellip;</td><td>&hellip;</td><td>&hellip;</td><td>&hellip;</td><td>&hellip;</td><td>&hellip;</td><td>&hellip;</td><td>&hellip;</td><td>&hellip;</td><td>&hellip;</td><td>&hellip;</td><td>&hellip;</td><td>&hellip;</td><td>&hellip;</td><td>&hellip;</td><td>&hellip;</td><td>&hellip;</td><td>&hellip;</td><td>&hellip;</td><td>&hellip;</td><td>&hellip;</td><td>&hellip;</td><td>&hellip;</td><td>&hellip;</td><td>&hellip;</td></tr><tr><td>&quot;2020-10-30 11:…</td><td>1</td><td>3.82</td><td>494.0</td><td>494.0</td><td>36.29</td><td>40.77</td><td>35.33</td><td>37.86</td><td>44.46</td><td>9149.5</td><td>7803.0</td><td>71559.75</td><td>55570.0</td><td>38733.0</td><td>232.0</td><td>747.0</td><td>96.0</td><td>0.0</td><td>3931.0</td><td>25757.5</td><td>4758.75</td><td>3796.0</td><td>5447.0</td><td>null</td><td>null</td><td>null</td><td>192.0</td><td>0.0</td><td>1597.0</td><td>0.0</td><td>0.0</td><td>0.0</td><td>0.0</td><td>0.0</td><td>0.0</td><td>0.0</td><td>&hellip;</td><td>13151.0</td><td>2019.0</td><td>null</td><td>94.0</td><td>null</td><td>626.0</td><td>449.0</td><td>151.0</td><td>4468.0</td><td>512.0</td><td>2353.0</td><td>null</td><td>7090.0</td><td>null</td><td>31.0</td><td>null</td><td>723.0</td><td>1.87501e6</td><td>5.829148e6</td><td>3.041148e6</td><td>3.640905e6</td><td>369.0</td><td>0.0</td><td>0.0</td><td>0.0</td><td>2559.0</td><td>1091.0</td><td>1154.0</td><td>0.0</td><td>1200.0</td><td>1200.0</td><td>4000.0</td><td>1200.0</td><td>2505.0</td><td>800.0</td><td>3200.0</td><td>1810.0</td></tr><tr><td>&quot;2020-05-23 02:…</td><td>0</td><td>0.21</td><td>1440.0</td><td>1440.0</td><td>10.87</td><td>13.19</td><td>10.87</td><td>10.87</td><td>10.87</td><td>4532.75</td><td>6340.0</td><td>38650.25</td><td>35874.0</td><td>22353.0</td><td>0.0</td><td>223.0</td><td>0.0</td><td>0.0</td><td>0.0</td><td>10896.75</td><td>4733.5</td><td>0.0</td><td>1776.0</td><td>null</td><td>0.0</td><td>null</td><td>212.0</td><td>0.0</td><td>0.0</td><td>0.0</td><td>0.0</td><td>0.0</td><td>0.0</td><td>0.0</td><td>0.0</td><td>0.0</td><td>&hellip;</td><td>6227.0</td><td>1284.0</td><td>null</td><td>26.0</td><td>null</td><td>651.0</td><td>1.0</td><td>165.0</td><td>6057.0</td><td>658.0</td><td>1603.0</td><td>null</td><td>0.0</td><td>null</td><td>42.0</td><td>null</td><td>715.0</td><td>844063.0</td><td>2.495955e6</td><td>2.355412e6</td><td>3.293225e6</td><td>388.0</td><td>0.0</td><td>208.0</td><td>0.0</td><td>1821.0</td><td>553.0</td><td>1465.0</td><td>0.0</td><td>900.0</td><td>1200.0</td><td>4000.0</td><td>1200.0</td><td>3020.0</td><td>1200.0</td><td>2755.0</td><td>1660.0</td></tr><tr><td>&quot;2023-10-11 23:…</td><td>0</td><td>26.1</td><td>540.0</td><td>540.0</td><td>94.89</td><td>102.31</td><td>89.92</td><td>103.42</td><td>135.0</td><td>5804.0</td><td>6111.0</td><td>48255.25</td><td>43021.0</td><td>29133.0</td><td>0.0</td><td>807.0</td><td>0.0</td><td>0.0</td><td>0.0</td><td>24316.25</td><td>4236.25</td><td>0.0</td><td>4229.0</td><td>null</td><td>0.0</td><td>null</td><td>145.0</td><td>0.0</td><td>711.0</td><td>0.0</td><td>0.0</td><td>0.0</td><td>0.0</td><td>0.0</td><td>0.0</td><td>0.0</td><td>&hellip;</td><td>15733.0</td><td>303.0</td><td>null</td><td>25.0</td><td>null</td><td>627.0</td><td>240.0</td><td>553.0</td><td>2422.0</td><td>421.0</td><td>1724.0</td><td>null</td><td>0.0</td><td>null</td><td>379.0</td><td>0.0</td><td>157.0</td><td>1.799814e6</td><td>4.89927e6</td><td>2.613447e6</td><td>3.276952e6</td><td>460.0</td><td>0.0</td><td>0.0</td><td>0.0</td><td>2725.0</td><td>1622.0</td><td>1852.0</td><td>0.0</td><td>450.0</td><td>450.0</td><td>4000.0</td><td>1200.0</td><td>2428.0</td><td>800.0</td><td>2385.0</td><td>1910.0</td></tr><tr><td>&quot;2023-12-01 20:…</td><td>1</td><td>0.21</td><td>1785.0</td><td>1785.0</td><td>142.17</td><td>141.9</td><td>142.37</td><td>142.16</td><td>139.98</td><td>7889.5</td><td>7349.0</td><td>63722.25</td><td>68116.0</td><td>37930.0</td><td>0.0</td><td>436.0</td><td>0.0</td><td>0.0</td><td>0.0</td><td>2948.25</td><td>1395.25</td><td>0.0</td><td>3540.0</td><td>null</td><td>0.0</td><td>null</td><td>136.0</td><td>0.0</td><td>3174.5</td><td>0.0</td><td>0.0</td><td>0.0</td><td>0.0</td><td>0.0</td><td>0.0</td><td>0.0</td><td>&hellip;</td><td>19515.0</td><td>1087.0</td><td>null</td><td>15.0</td><td>null</td><td>631.0</td><td>369.0</td><td>36.0</td><td>4662.0</td><td>507.0</td><td>2559.0</td><td>null</td><td>0.0</td><td>null</td><td>327.0</td><td>25.0</td><td>6739.0</td><td>1.707104e6</td><td>4.743491e6</td><td>2.883329e6</td><td>3.539528e6</td><td>0.0</td><td>142.0</td><td>1984.0</td><td>1403.0</td><td>0.0</td><td>0.0</td><td>0.0</td><td>1039.0</td><td>450.0</td><td>1200.0</td><td>4000.0</td><td>1200.0</td><td>3926.0</td><td>1800.0</td><td>2385.0</td><td>1810.0</td></tr><tr><td>&quot;2020-09-08 17:…</td><td>0</td><td>3.44</td><td>750.0</td><td>750.0</td><td>48.91</td><td>46.65</td><td>48.91</td><td>48.91</td><td>48.91</td><td>7623.0</td><td>6818.0</td><td>62480.75</td><td>47238.0</td><td>40624.0</td><td>484.0</td><td>27.0</td><td>83.0</td><td>0.0</td><td>8433.25</td><td>11208.5</td><td>2948.25</td><td>4353.0</td><td>854.0</td><td>null</td><td>3739.0</td><td>null</td><td>172.0</td><td>0.0</td><td>465.75</td><td>0.0</td><td>0.0</td><td>0.0</td><td>0.0</td><td>0.0</td><td>0.0</td><td>0.0</td><td>&hellip;</td><td>18206.0</td><td>1807.0</td><td>null</td><td>249.0</td><td>null</td><td>639.0</td><td>525.0</td><td>45.0</td><td>4747.0</td><td>955.0</td><td>2109.0</td><td>null</td><td>3805.0</td><td>null</td><td>31.0</td><td>null</td><td>2746.0</td><td>1.881744e6</td><td>6.052992e6</td><td>2.929369e6</td><td>3.755156e6</td><td>774.0</td><td>0.0</td><td>784.0</td><td>1432.0</td><td>2664.0</td><td>120.0</td><td>0.0</td><td>0.0</td><td>1200.0</td><td>1200.0</td><td>3600.0</td><td>1100.0</td><td>2288.0</td><td>800.0</td><td>3000.0</td><td>1440.0</td></tr></tbody></table></div>"
      ],
      "text/plain": [
       "shape: (44_582, 139)\n",
       "┌────────────┬─────┬────────────┬────────────┬───┬────────────┬────────────┬───────────┬───────────┐\n",
       "│ date       ┆ dst ┆ auction_pr ┆ allocatedC ┆ … ┆ capacity_f ┆ capacity_f ┆ capacity_ ┆ capacity_ │\n",
       "│ ---        ┆ --- ┆ ice        ┆ apacity    ┆   ┆ orecast_ch ┆ orecast_de ┆ forecast_ ┆ forecast_ │\n",
       "│ str        ┆ i16 ┆ ---        ┆ ---        ┆   ┆ _it        ┆ _lu_ch     ┆ FR_CH     ┆ it_ch     │\n",
       "│            ┆     ┆ f64        ┆ f64        ┆   ┆ ---        ┆ ---        ┆ ---       ┆ ---       │\n",
       "│            ┆     ┆            ┆            ┆   ┆ f64        ┆ f64        ┆ f64       ┆ f64       │\n",
       "╞════════════╪═════╪════════════╪════════════╪═══╪════════════╪════════════╪═══════════╪═══════════╡\n",
       "│ 2020-01-30 ┆ 1   ┆ 5.86       ┆ 539.0      ┆ … ┆ 3975.0     ┆ 800.0      ┆ 3200.0    ┆ 1810.0    │\n",
       "│ 13:00      ┆     ┆            ┆            ┆   ┆            ┆            ┆           ┆           │\n",
       "│ 2021-12-06 ┆ 1   ┆ 39.76      ┆ 377.0      ┆ … ┆ 3701.0     ┆ 800.0      ┆ 3200.0    ┆ 1810.0    │\n",
       "│ 20:00      ┆     ┆            ┆            ┆   ┆            ┆            ┆           ┆           │\n",
       "│ 2021-12-22 ┆ 1   ┆ 1.97       ┆ 1692.0     ┆ … ┆ 3510.0     ┆ 2000.0     ┆ 3200.0    ┆ 1810.0    │\n",
       "│ 09:00      ┆     ┆            ┆            ┆   ┆            ┆            ┆           ┆           │\n",
       "│ 2023-03-28 ┆ 0   ┆ 9.48       ┆ 493.0      ┆ … ┆ 2185.0     ┆ 800.0      ┆ 2385.0    ┆ 1910.0    │\n",
       "│ 06:00      ┆     ┆            ┆            ┆   ┆            ┆            ┆           ┆           │\n",
       "│ 2023-09-14 ┆ 0   ┆ 0.21       ┆ 1878.0     ┆ … ┆ 2591.0     ┆ 1450.0     ┆ 2227.0    ┆ 1660.0    │\n",
       "│ 01:00      ┆     ┆            ┆            ┆   ┆            ┆            ┆           ┆           │\n",
       "│ …          ┆ …   ┆ …          ┆ …          ┆ … ┆ …          ┆ …          ┆ …         ┆ …         │\n",
       "│ 2020-10-30 ┆ 1   ┆ 3.82       ┆ 494.0      ┆ … ┆ 2505.0     ┆ 800.0      ┆ 3200.0    ┆ 1810.0    │\n",
       "│ 11:00      ┆     ┆            ┆            ┆   ┆            ┆            ┆           ┆           │\n",
       "│ 2020-05-23 ┆ 0   ┆ 0.21       ┆ 1440.0     ┆ … ┆ 3020.0     ┆ 1200.0     ┆ 2755.0    ┆ 1660.0    │\n",
       "│ 02:00      ┆     ┆            ┆            ┆   ┆            ┆            ┆           ┆           │\n",
       "│ 2023-10-11 ┆ 0   ┆ 26.1       ┆ 540.0      ┆ … ┆ 2428.0     ┆ 800.0      ┆ 2385.0    ┆ 1910.0    │\n",
       "│ 23:00      ┆     ┆            ┆            ┆   ┆            ┆            ┆           ┆           │\n",
       "│ 2023-12-01 ┆ 1   ┆ 0.21       ┆ 1785.0     ┆ … ┆ 3926.0     ┆ 1800.0     ┆ 2385.0    ┆ 1810.0    │\n",
       "│ 20:00      ┆     ┆            ┆            ┆   ┆            ┆            ┆           ┆           │\n",
       "│ 2020-09-08 ┆ 0   ┆ 3.44       ┆ 750.0      ┆ … ┆ 2288.0     ┆ 800.0      ┆ 3000.0    ┆ 1440.0    │\n",
       "│ 17:00      ┆     ┆            ┆            ┆   ┆            ┆            ┆           ┆           │\n",
       "└────────────┴─────┴────────────┴────────────┴───┴────────────┴────────────┴───────────┴───────────┘"
      ]
     },
     "execution_count": 305,
     "metadata": {},
     "output_type": "execute_result"
    }
   ],
   "source": [
    "df_final = (\n",
    "    jao_dech.drop(\"day\")\n",
    "    .with_columns(\n",
    "        pl.col(\"date\")\n",
    "        .str.to_datetime()\n",
    "        .dt.truncate(\"1w\")\n",
    "        .dt.date()\n",
    "        .dt.strftime(\"%Y-%m-%d\")\n",
    "        .alias(\"week_start\")\n",
    "    )\n",
    "    .select([\"date\", \"week_start\", \"dst\", \"auction_price\", \"allocatedCapacity\", \"ATC\"])\n",
    "    # Day Ahead Prices\n",
    "    .join(da_at, how=\"left\", on=[\"date\", \"dst\"])\n",
    "    .join(da_ch, how=\"left\", on=[\"date\", \"dst\"])\n",
    "    .join(da_delu, how=\"left\", on=[\"date\", \"dst\"])\n",
    "    .join(da_fr, how=\"left\", on=[\"date\", \"dst\"])\n",
    "    .join(da_it, how=\"left\", on=[\"date\", \"dst\"])\n",
    "    # Actual Load\n",
    "    .join(load_at, how=\"left\", on=[\"date\", \"dst\"])\n",
    "    .join(load_ch, how=\"left\", on=[\"date\", \"dst\"])\n",
    "    .join(load_de, how=\"left\", on=[\"date\", \"dst\"])\n",
    "    .join(load_fr, how=\"left\", on=[\"date\", \"dst\"])\n",
    "    .join(load_it, how=\"left\", on=[\"date\", \"dst\"])\n",
    "    # Forecast Wind and Solar\n",
    "    .join(wind_solar_forecast_at, how=\"left\", on=[\"date\", \"dst\"])\n",
    "    .join(wind_solar_forecast_ch, how=\"left\", on=[\"date\", \"dst\"])\n",
    "    .join(wind_solar_forecast_de, how=\"left\", on=[\"date\", \"dst\"])\n",
    "    .join(wind_solar_forecast_fr, how=\"left\", on=[\"date\", \"dst\"])\n",
    "    .join(wind_solar_forecast_it, how=\"left\", on=[\"date\", \"dst\"])\n",
    "    # Actual Generation All Types\n",
    "    .join(generation_at, how=\"left\", on=[\"date\", \"dst\"])\n",
    "    .join(generation_ch, how=\"left\", on=[\"date\", \"dst\"])\n",
    "    .join(generation_de, how=\"left\", on=[\"date\", \"dst\"])\n",
    "    .join(generation_fr, how=\"left\", on=[\"date\", \"dst\"])\n",
    "    .join(generation_it, how=\"left\", on=[\"date\", \"dst\"])\n",
    "    # Hydro Reservoir Storage\n",
    "    .join(hydro_storage_at, how=\"left\", on=[\"week_start\"])\n",
    "    .join(hydro_storage_ch, how=\"left\", on=[\"week_start\"])\n",
    "    .join(hydro_storage_fr, how=\"left\", on=[\"week_start\"])\n",
    "    .join(hydro_storage_it, how=\"left\", on=[\"week_start\"])\n",
    "    # Cross Border Physical Flow\n",
    "    .join(flow_at_ch, how=\"left\", on=[\"date\", \"dst\"])\n",
    "    .join(flow_ch_at, how=\"left\", on=[\"date\", \"dst\"])\n",
    "    .join(flow_ch_de_lu, how=\"left\", on=[\"date\", \"dst\"])\n",
    "    .join(flow_ch_fr, how=\"left\", on=[\"date\", \"dst\"])\n",
    "    .join(flow_ch_it, how=\"left\", on=[\"date\", \"dst\"])\n",
    "    .join(flow_de_lu_ch, how=\"left\", on=[\"date\", \"dst\"])\n",
    "    .join(flow_fr_ch, how=\"left\", on=[\"date\", \"dst\"])\n",
    "    .join(flow_it_ch, how=\"left\", on=[\"date\", \"dst\"])\n",
    "    # Cross Border Capacities Forecast\n",
    "    .join(capacity_forecast_at_ch, how=\"left\", on=[\"date\", \"dst\"])\n",
    "    .join(capacity_forecast_ch_at, how=\"left\", on=[\"date\", \"dst\"])\n",
    "    .join(capacity_forecast_ch_de_lu, how=\"left\", on=[\"date\", \"dst\"])\n",
    "    .join(capacity_forecast_ch_fr, how=\"left\", on=[\"date\", \"dst\"])\n",
    "    .join(capacity_forecast_ch_it, how=\"left\", on=[\"date\", \"dst\"])\n",
    "    .join(capacity_forecast_de_lu_ch, how=\"left\", on=[\"date\", \"dst\"])\n",
    "    .join(capacity_forecast_fr_ch, how=\"left\", on=[\"date\", \"dst\"])\n",
    "    .join(capacity_forecast_it_ch, how=\"left\", on=[\"date\", \"dst\"])\n",
    "    # Drop\n",
    "    .drop([\"week_start\"])\n",
    ")\n",
    "\n",
    "df_final"
   ]
  },
  {
   "cell_type": "code",
   "execution_count": 306,
   "metadata": {},
   "outputs": [],
   "source": [
    "df_final.to_pandas().to_csv(\"0_df_final_de-ch.csv\", index=False)"
   ]
  },
  {
   "cell_type": "markdown",
   "metadata": {},
   "source": [
    "### Converting to UTC"
   ]
  },
  {
   "cell_type": "code",
   "execution_count": 307,
   "metadata": {},
   "outputs": [],
   "source": [
    "(\n",
    "    pl.read_csv(\"./0_df_final_ch-de.csv\")\n",
    "    .sort(\"date\")\n",
    "    .with_columns(pl.col(\"date\").str.to_datetime().dt.replace_time_zone(\"Europe/Zurich\", ambiguous=\"earliest\"))\n",
    "    .with_columns(pl.col(\"date\").is_duplicated().alias(\"tmp\"))\n",
    "    .with_columns(\n",
    "        pl.when((pl.col(\"tmp\") == True) & (pl.col(\"dst\") == 0))\n",
    "        .then(pl.col(\"date\") + pl.duration(hours=1))\n",
    "        .otherwise(pl.col(\"date\"))\n",
    "        .alias(\"date\")\n",
    "    )\n",
    "    .with_columns(pl.col(\"date\").dt.convert_time_zone(\"UTC\"))\n",
    "    .drop(\"tmp\")\n",
    "    .to_pandas()\n",
    "    .to_csv(\"0_df_final_ch-de_UTC.csv\", index=False)\n",
    ")"
   ]
  },
  {
   "cell_type": "code",
   "execution_count": 308,
   "metadata": {},
   "outputs": [],
   "source": [
    "(\n",
    "    pl.read_csv(\"0_df_final_de-ch.csv\")\n",
    "    .sort(\"date\")\n",
    "    .with_columns(pl.col(\"date\").str.to_datetime().dt.replace_time_zone(\"Europe/Zurich\", ambiguous=\"earliest\"))\n",
    "    .with_columns(pl.col(\"date\").is_duplicated().alias(\"tmp\"))\n",
    "    .with_columns(\n",
    "        pl.when((pl.col(\"tmp\") == True) & (pl.col(\"dst\") == 0))\n",
    "        .then(pl.col(\"date\") + pl.duration(hours=1))\n",
    "        .otherwise(pl.col(\"date\"))\n",
    "        .alias(\"date\")\n",
    "    )\n",
    "    .with_columns(pl.col(\"date\").dt.convert_time_zone(\"UTC\"))\n",
    "    .drop(\"tmp\")\n",
    "    .to_pandas()\n",
    "    .to_csv(\"0_df_final_de-ch_UTC.csv\", index=False)\n",
    ")"
   ]
  }
 ],
 "metadata": {
  "kernelspec": {
   "display_name": "general",
   "language": "python",
   "name": "python3"
  },
  "language_info": {
   "codemirror_mode": {
    "name": "ipython",
    "version": 3
   },
   "file_extension": ".py",
   "mimetype": "text/x-python",
   "name": "python",
   "nbconvert_exporter": "python",
   "pygments_lexer": "ipython3",
   "version": "3.10.14"
  }
 },
 "nbformat": 4,
 "nbformat_minor": 2
}
